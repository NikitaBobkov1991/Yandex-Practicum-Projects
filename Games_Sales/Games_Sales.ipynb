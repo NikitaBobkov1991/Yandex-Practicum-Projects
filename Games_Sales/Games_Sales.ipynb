{
 "cells": [
  {
   "cell_type": "markdown",
   "metadata": {
    "toc": true
   },
   "source": [
    "<h1>Cодержание<span class=\"tocSkip\"></span></h1>\n",
    "<div class=\"toc\"><ul class=\"toc-item\"><li><span><a href=\"#Цели-и-задачи-работы\" data-toc-modified-id=\"Цели-и-задачи-работы-1\"><span class=\"toc-item-num\">1&nbsp;&nbsp;</span>Цели и задачи работы</a></span></li><li><span><a href=\"#Описание-данных\" data-toc-modified-id=\"Описание-данных-2\"><span class=\"toc-item-num\">2&nbsp;&nbsp;</span>Описание данных</a></span></li><li><span><a href=\"#Извлечение-файла-с-данными-и-изучение-общей-информации\" data-toc-modified-id=\"Извлечение-файла-с-данными-и-изучение-общей-информации-3\"><span class=\"toc-item-num\">3&nbsp;&nbsp;</span>Извлечение файла с данными и изучение общей информации</a></span><ul class=\"toc-item\"><li><span><a href=\"#Загрузка-необходимых-для-анализа-библиотек-и-файла-с-данными\" data-toc-modified-id=\"Загрузка-необходимых-для-анализа-библиотек-и-файла-с-данными-3.1\"><span class=\"toc-item-num\">3.1&nbsp;&nbsp;</span>Загрузка необходимых для анализа библиотек и файла с данными</a></span></li><li><span><a href=\"#Ознакомление-с-данными\" data-toc-modified-id=\"Ознакомление-с-данными-3.2\"><span class=\"toc-item-num\">3.2&nbsp;&nbsp;</span>Ознакомление с данными</a></span><ul class=\"toc-item\"><li><span><a href=\"#Ознакомление-с-данными-столбца-name\" data-toc-modified-id=\"Ознакомление-с-данными-столбца-name-3.2.1\"><span class=\"toc-item-num\">3.2.1&nbsp;&nbsp;</span>Ознакомление с данными столбца name</a></span></li><li><span><a href=\"#Ознакомление-с-данными-столбца-platform\" data-toc-modified-id=\"Ознакомление-с-данными-столбца-platform-3.2.2\"><span class=\"toc-item-num\">3.2.2&nbsp;&nbsp;</span>Ознакомление с данными столбца platform</a></span></li><li><span><a href=\"#Ознакомление-с-данными-столбца-year_of_release\" data-toc-modified-id=\"Ознакомление-с-данными-столбца-year_of_release-3.2.3\"><span class=\"toc-item-num\">3.2.3&nbsp;&nbsp;</span>Ознакомление с данными столбца year_of_release</a></span></li><li><span><a href=\"#Ознакомление-с-данными-столбца-genre\" data-toc-modified-id=\"Ознакомление-с-данными-столбца-genre-3.2.4\"><span class=\"toc-item-num\">3.2.4&nbsp;&nbsp;</span>Ознакомление с данными столбца genre</a></span></li><li><span><a href=\"#Ознакомление-с-данными-столбца-na_sales\" data-toc-modified-id=\"Ознакомление-с-данными-столбца-na_sales-3.2.5\"><span class=\"toc-item-num\">3.2.5&nbsp;&nbsp;</span>Ознакомление с данными столбца na_sales</a></span></li><li><span><a href=\"#Ознакомление-с-данными-столбца-eu_sales\" data-toc-modified-id=\"Ознакомление-с-данными-столбца-eu_sales-3.2.6\"><span class=\"toc-item-num\">3.2.6&nbsp;&nbsp;</span>Ознакомление с данными столбца eu_sales</a></span></li><li><span><a href=\"#Ознакомление-с-данными-столбца-jp_sales\" data-toc-modified-id=\"Ознакомление-с-данными-столбца-jp_sales-3.2.7\"><span class=\"toc-item-num\">3.2.7&nbsp;&nbsp;</span>Ознакомление с данными столбца jp_sales</a></span></li><li><span><a href=\"#Ознакомление-с-данными-столбца-other_sales\" data-toc-modified-id=\"Ознакомление-с-данными-столбца-other_sales-3.2.8\"><span class=\"toc-item-num\">3.2.8&nbsp;&nbsp;</span>Ознакомление с данными столбца other_sales</a></span></li><li><span><a href=\"#Ознакомление-с-данными-столбца-critic_score\" data-toc-modified-id=\"Ознакомление-с-данными-столбца-critic_score-3.2.9\"><span class=\"toc-item-num\">3.2.9&nbsp;&nbsp;</span>Ознакомление с данными столбца critic_score</a></span></li><li><span><a href=\"#Ознакомление-с-данными-столбца-user_score\" data-toc-modified-id=\"Ознакомление-с-данными-столбца-user_score-3.2.10\"><span class=\"toc-item-num\">3.2.10&nbsp;&nbsp;</span>Ознакомление с данными столбца user_score</a></span></li><li><span><a href=\"#Ознакомление-с-данными-столбца-rating\" data-toc-modified-id=\"Ознакомление-с-данными-столбца-rating-3.2.11\"><span class=\"toc-item-num\">3.2.11&nbsp;&nbsp;</span>Ознакомление с данными столбца rating</a></span></li></ul></li></ul></li><li><span><a href=\"#Подготовка-данных\" data-toc-modified-id=\"Подготовка-данных-4\"><span class=\"toc-item-num\">4&nbsp;&nbsp;</span>Подготовка данных</a></span><ul class=\"toc-item\"><li><span><a href=\"#Столбец-name\" data-toc-modified-id=\"Столбец-name-4.1\"><span class=\"toc-item-num\">4.1&nbsp;&nbsp;</span>Столбец name</a></span></li><li><span><a href=\"#Столбец-year_of_release\" data-toc-modified-id=\"Столбец-year_of_release-4.2\"><span class=\"toc-item-num\">4.2&nbsp;&nbsp;</span>Столбец year_of_release</a></span></li><li><span><a href=\"#Столбец-user_score\" data-toc-modified-id=\"Столбец-user_score-4.3\"><span class=\"toc-item-num\">4.3&nbsp;&nbsp;</span>Столбец user_score</a></span></li><li><span><a href=\"#Суммарные-продажи-во-всех-регионах\" data-toc-modified-id=\"Суммарные-продажи-во-всех-регионах-4.4\"><span class=\"toc-item-num\">4.4&nbsp;&nbsp;</span>Суммарные продажи во всех регионах</a></span></li></ul></li><li><span><a href=\"#Исследовательский-анализ-данных\" data-toc-modified-id=\"Исследовательский-анализ-данных-5\"><span class=\"toc-item-num\">5&nbsp;&nbsp;</span>Исследовательский анализ данных</a></span><ul class=\"toc-item\"><li><span><a href=\"#Выпуск-игр-в-разные-годы\" data-toc-modified-id=\"Выпуск-игр-в-разные-годы-5.1\"><span class=\"toc-item-num\">5.1&nbsp;&nbsp;</span>Выпуск игр в разные годы</a></span></li><li><span><a href=\"#Продажи-игр-по-платформам\" data-toc-modified-id=\"Продажи-игр-по-платформам-5.2\"><span class=\"toc-item-num\">5.2&nbsp;&nbsp;</span>Продажи игр по платформам</a></span></li><li><span><a href=\"#Актуальный-период\" data-toc-modified-id=\"Актуальный-период-5.3\"><span class=\"toc-item-num\">5.3&nbsp;&nbsp;</span>Актуальный период</a></span></li><li><span><a href=\"#Потенциально-прибыльные-платформы\" data-toc-modified-id=\"Потенциально-прибыльные-платформы-5.4\"><span class=\"toc-item-num\">5.4&nbsp;&nbsp;</span>Потенциально прибыльные платформы</a></span></li><li><span><a href=\"#Диаграмма-размаха\" data-toc-modified-id=\"Диаграмма-размаха-5.5\"><span class=\"toc-item-num\">5.5&nbsp;&nbsp;</span>Диаграмма размаха</a></span></li><li><span><a href=\"#Отзывы-пользователей-и-критиков\" data-toc-modified-id=\"Отзывы-пользователей-и-критиков-5.6\"><span class=\"toc-item-num\">5.6&nbsp;&nbsp;</span>Отзывы пользователей и критиков</a></span></li><li><span><a href=\"#Распределение-игр-по-жанрам\" data-toc-modified-id=\"Распределение-игр-по-жанрам-5.7\"><span class=\"toc-item-num\">5.7&nbsp;&nbsp;</span>Распределение игр по жанрам</a></span></li></ul></li><li><span><a href=\"#Портрет-пользователя-каждого-региона\" data-toc-modified-id=\"Портрет-пользователя-каждого-региона-6\"><span class=\"toc-item-num\">6&nbsp;&nbsp;</span>Портрет пользователя каждого региона</a></span><ul class=\"toc-item\"><li><span><a href=\"#Пользователи-региона-NA\" data-toc-modified-id=\"Пользователи-региона-NA-6.1\"><span class=\"toc-item-num\">6.1&nbsp;&nbsp;</span>Пользователи региона NA</a></span></li><li><span><a href=\"#Пользователи-региона-EU\" data-toc-modified-id=\"Пользователи-региона-EU-6.2\"><span class=\"toc-item-num\">6.2&nbsp;&nbsp;</span>Пользователи региона EU</a></span></li><li><span><a href=\"#Пользователи-региона-JP\" data-toc-modified-id=\"Пользователи-региона-JP-6.3\"><span class=\"toc-item-num\">6.3&nbsp;&nbsp;</span>Пользователи региона JP</a></span></li><li><span><a href=\"#Общий-вывод-по-портрету-пользователя\" data-toc-modified-id=\"Общий-вывод-по-портрету-пользователя-6.4\"><span class=\"toc-item-num\">6.4&nbsp;&nbsp;</span>Общий вывод по портрету пользователя</a></span></li></ul></li><li><span><a href=\"#Проверка-гипотез\" data-toc-modified-id=\"Проверка-гипотез-7\"><span class=\"toc-item-num\">7&nbsp;&nbsp;</span>Проверка гипотез</a></span><ul class=\"toc-item\"><li><span><a href=\"#Средние-пользовательские-рейтинги-платформ-Xbox-One-и-PC\" data-toc-modified-id=\"Средние-пользовательские-рейтинги-платформ-Xbox-One-и-PC-7.1\"><span class=\"toc-item-num\">7.1&nbsp;&nbsp;</span>Средние пользовательские рейтинги платформ Xbox One и PC</a></span></li><li><span><a href=\"#Средние-пользовательские-рейтинги-жанров-Action-и-Sports.\" data-toc-modified-id=\"Средние-пользовательские-рейтинги-жанров-Action-и-Sports.-7.2\"><span class=\"toc-item-num\">7.2&nbsp;&nbsp;</span>Средние пользовательские рейтинги жанров Action и Sports.</a></span></li></ul></li><li><span><a href=\"#Общий-вывод\" data-toc-modified-id=\"Общий-вывод-8\"><span class=\"toc-item-num\">8&nbsp;&nbsp;</span>Общий вывод</a></span></li></ul></div>"
   ]
  },
  {
   "cell_type": "markdown",
   "metadata": {},
   "source": [
    "## Цели и задачи работы"
   ]
  },
  {
   "cell_type": "markdown",
   "metadata": {},
   "source": [
    "* Выявление определяющих успешность игры закономерностей  \n",
    "* Прогноз потенциально популярного продукта для дальнего планирования рекламных кампаний"
   ]
  },
  {
   "cell_type": "markdown",
   "metadata": {},
   "source": [
    "## Описание данных"
   ]
  },
  {
   "cell_type": "markdown",
   "metadata": {},
   "source": [
    "Name — название игры  \n",
    "Platform — платформа  \n",
    "Year_of_Release — год выпуска  \n",
    "Genre — жанр игры  \n",
    "NA_sales — продажи в Северной Америке (миллионы проданных копий)  \n",
    "EU_sales — продажи в Европе (миллионы проданных копий)  \n",
    "JP_sales — продажи в Японии (миллионы проданных копий)  \n",
    "Other_sales — продажи в других странах (миллионы проданных копий)  \n",
    "Critic_Score — оценка критиков (максимум 100)  \n",
    "User_Score — оценка пользователей (максимум 10)  \n",
    "Rating — рейтинг от организации ESRB (англ. Entertainment Software Rating Board). Эта ассоциация определяет рейтинг компьютерных игр и присваивает им подходящую возрастную категорию."
   ]
  },
  {
   "cell_type": "markdown",
   "metadata": {},
   "source": [
    "## Извлечение файла с данными и изучение общей информации"
   ]
  },
  {
   "cell_type": "markdown",
   "metadata": {},
   "source": [
    "### Загрузка необходимых для анализа библиотек и файла с данными"
   ]
  },
  {
   "cell_type": "code",
   "execution_count": 1,
   "metadata": {},
   "outputs": [],
   "source": [
    "#для работы с таблцами\n",
    "import pandas as pd\n",
    "#для работы с графиками\n",
    "import matplotlib.pyplot as plt\n",
    "#для математических операций с данными\n",
    "import numpy as np\n",
    "\n",
    "#для работы со статистикой\n",
    "from scipy import stats as st\n",
    "\n",
    "\n",
    "#загрузка данных из таблиц в соответствующие датафреймы\n",
    "games = pd.read_csv('/datasets/games.csv')\n",
    "\n",
    "#для того, чтобы увидеть все названия столбцов в таблице без пропусков, изменим глобальные настройки библиотеки pandas\n",
    "pd.options.display.max_columns = None"
   ]
  },
  {
   "cell_type": "markdown",
   "metadata": {},
   "source": [
    "### Ознакомление с данными"
   ]
  },
  {
   "cell_type": "code",
   "execution_count": 2,
   "metadata": {},
   "outputs": [
    {
     "data": {
      "text/html": [
       "<div>\n",
       "<style scoped>\n",
       "    .dataframe tbody tr th:only-of-type {\n",
       "        vertical-align: middle;\n",
       "    }\n",
       "\n",
       "    .dataframe tbody tr th {\n",
       "        vertical-align: top;\n",
       "    }\n",
       "\n",
       "    .dataframe thead th {\n",
       "        text-align: right;\n",
       "    }\n",
       "</style>\n",
       "<table border=\"1\" class=\"dataframe\">\n",
       "  <thead>\n",
       "    <tr style=\"text-align: right;\">\n",
       "      <th></th>\n",
       "      <th>Name</th>\n",
       "      <th>Platform</th>\n",
       "      <th>Year_of_Release</th>\n",
       "      <th>Genre</th>\n",
       "      <th>NA_sales</th>\n",
       "      <th>EU_sales</th>\n",
       "      <th>JP_sales</th>\n",
       "      <th>Other_sales</th>\n",
       "      <th>Critic_Score</th>\n",
       "      <th>User_Score</th>\n",
       "      <th>Rating</th>\n",
       "    </tr>\n",
       "  </thead>\n",
       "  <tbody>\n",
       "    <tr>\n",
       "      <th>0</th>\n",
       "      <td>Wii Sports</td>\n",
       "      <td>Wii</td>\n",
       "      <td>2006.0</td>\n",
       "      <td>Sports</td>\n",
       "      <td>41.36</td>\n",
       "      <td>28.96</td>\n",
       "      <td>3.77</td>\n",
       "      <td>8.45</td>\n",
       "      <td>76.0</td>\n",
       "      <td>8</td>\n",
       "      <td>E</td>\n",
       "    </tr>\n",
       "    <tr>\n",
       "      <th>1</th>\n",
       "      <td>Super Mario Bros.</td>\n",
       "      <td>NES</td>\n",
       "      <td>1985.0</td>\n",
       "      <td>Platform</td>\n",
       "      <td>29.08</td>\n",
       "      <td>3.58</td>\n",
       "      <td>6.81</td>\n",
       "      <td>0.77</td>\n",
       "      <td>NaN</td>\n",
       "      <td>NaN</td>\n",
       "      <td>NaN</td>\n",
       "    </tr>\n",
       "    <tr>\n",
       "      <th>2</th>\n",
       "      <td>Mario Kart Wii</td>\n",
       "      <td>Wii</td>\n",
       "      <td>2008.0</td>\n",
       "      <td>Racing</td>\n",
       "      <td>15.68</td>\n",
       "      <td>12.76</td>\n",
       "      <td>3.79</td>\n",
       "      <td>3.29</td>\n",
       "      <td>82.0</td>\n",
       "      <td>8.3</td>\n",
       "      <td>E</td>\n",
       "    </tr>\n",
       "    <tr>\n",
       "      <th>3</th>\n",
       "      <td>Wii Sports Resort</td>\n",
       "      <td>Wii</td>\n",
       "      <td>2009.0</td>\n",
       "      <td>Sports</td>\n",
       "      <td>15.61</td>\n",
       "      <td>10.93</td>\n",
       "      <td>3.28</td>\n",
       "      <td>2.95</td>\n",
       "      <td>80.0</td>\n",
       "      <td>8</td>\n",
       "      <td>E</td>\n",
       "    </tr>\n",
       "    <tr>\n",
       "      <th>4</th>\n",
       "      <td>Pokemon Red/Pokemon Blue</td>\n",
       "      <td>GB</td>\n",
       "      <td>1996.0</td>\n",
       "      <td>Role-Playing</td>\n",
       "      <td>11.27</td>\n",
       "      <td>8.89</td>\n",
       "      <td>10.22</td>\n",
       "      <td>1.00</td>\n",
       "      <td>NaN</td>\n",
       "      <td>NaN</td>\n",
       "      <td>NaN</td>\n",
       "    </tr>\n",
       "    <tr>\n",
       "      <th>5</th>\n",
       "      <td>Tetris</td>\n",
       "      <td>GB</td>\n",
       "      <td>1989.0</td>\n",
       "      <td>Puzzle</td>\n",
       "      <td>23.20</td>\n",
       "      <td>2.26</td>\n",
       "      <td>4.22</td>\n",
       "      <td>0.58</td>\n",
       "      <td>NaN</td>\n",
       "      <td>NaN</td>\n",
       "      <td>NaN</td>\n",
       "    </tr>\n",
       "    <tr>\n",
       "      <th>6</th>\n",
       "      <td>New Super Mario Bros.</td>\n",
       "      <td>DS</td>\n",
       "      <td>2006.0</td>\n",
       "      <td>Platform</td>\n",
       "      <td>11.28</td>\n",
       "      <td>9.14</td>\n",
       "      <td>6.50</td>\n",
       "      <td>2.88</td>\n",
       "      <td>89.0</td>\n",
       "      <td>8.5</td>\n",
       "      <td>E</td>\n",
       "    </tr>\n",
       "    <tr>\n",
       "      <th>7</th>\n",
       "      <td>Wii Play</td>\n",
       "      <td>Wii</td>\n",
       "      <td>2006.0</td>\n",
       "      <td>Misc</td>\n",
       "      <td>13.96</td>\n",
       "      <td>9.18</td>\n",
       "      <td>2.93</td>\n",
       "      <td>2.84</td>\n",
       "      <td>58.0</td>\n",
       "      <td>6.6</td>\n",
       "      <td>E</td>\n",
       "    </tr>\n",
       "    <tr>\n",
       "      <th>8</th>\n",
       "      <td>New Super Mario Bros. Wii</td>\n",
       "      <td>Wii</td>\n",
       "      <td>2009.0</td>\n",
       "      <td>Platform</td>\n",
       "      <td>14.44</td>\n",
       "      <td>6.94</td>\n",
       "      <td>4.70</td>\n",
       "      <td>2.24</td>\n",
       "      <td>87.0</td>\n",
       "      <td>8.4</td>\n",
       "      <td>E</td>\n",
       "    </tr>\n",
       "    <tr>\n",
       "      <th>9</th>\n",
       "      <td>Duck Hunt</td>\n",
       "      <td>NES</td>\n",
       "      <td>1984.0</td>\n",
       "      <td>Shooter</td>\n",
       "      <td>26.93</td>\n",
       "      <td>0.63</td>\n",
       "      <td>0.28</td>\n",
       "      <td>0.47</td>\n",
       "      <td>NaN</td>\n",
       "      <td>NaN</td>\n",
       "      <td>NaN</td>\n",
       "    </tr>\n",
       "    <tr>\n",
       "      <th>10</th>\n",
       "      <td>Nintendogs</td>\n",
       "      <td>DS</td>\n",
       "      <td>2005.0</td>\n",
       "      <td>Simulation</td>\n",
       "      <td>9.05</td>\n",
       "      <td>10.95</td>\n",
       "      <td>1.93</td>\n",
       "      <td>2.74</td>\n",
       "      <td>NaN</td>\n",
       "      <td>NaN</td>\n",
       "      <td>NaN</td>\n",
       "    </tr>\n",
       "    <tr>\n",
       "      <th>11</th>\n",
       "      <td>Mario Kart DS</td>\n",
       "      <td>DS</td>\n",
       "      <td>2005.0</td>\n",
       "      <td>Racing</td>\n",
       "      <td>9.71</td>\n",
       "      <td>7.47</td>\n",
       "      <td>4.13</td>\n",
       "      <td>1.90</td>\n",
       "      <td>91.0</td>\n",
       "      <td>8.6</td>\n",
       "      <td>E</td>\n",
       "    </tr>\n",
       "    <tr>\n",
       "      <th>12</th>\n",
       "      <td>Pokemon Gold/Pokemon Silver</td>\n",
       "      <td>GB</td>\n",
       "      <td>1999.0</td>\n",
       "      <td>Role-Playing</td>\n",
       "      <td>9.00</td>\n",
       "      <td>6.18</td>\n",
       "      <td>7.20</td>\n",
       "      <td>0.71</td>\n",
       "      <td>NaN</td>\n",
       "      <td>NaN</td>\n",
       "      <td>NaN</td>\n",
       "    </tr>\n",
       "    <tr>\n",
       "      <th>13</th>\n",
       "      <td>Wii Fit</td>\n",
       "      <td>Wii</td>\n",
       "      <td>2007.0</td>\n",
       "      <td>Sports</td>\n",
       "      <td>8.92</td>\n",
       "      <td>8.03</td>\n",
       "      <td>3.60</td>\n",
       "      <td>2.15</td>\n",
       "      <td>80.0</td>\n",
       "      <td>7.7</td>\n",
       "      <td>E</td>\n",
       "    </tr>\n",
       "    <tr>\n",
       "      <th>14</th>\n",
       "      <td>Kinect Adventures!</td>\n",
       "      <td>X360</td>\n",
       "      <td>2010.0</td>\n",
       "      <td>Misc</td>\n",
       "      <td>15.00</td>\n",
       "      <td>4.89</td>\n",
       "      <td>0.24</td>\n",
       "      <td>1.69</td>\n",
       "      <td>61.0</td>\n",
       "      <td>6.3</td>\n",
       "      <td>E</td>\n",
       "    </tr>\n",
       "  </tbody>\n",
       "</table>\n",
       "</div>"
      ],
      "text/plain": [
       "                           Name Platform  Year_of_Release         Genre  \\\n",
       "0                    Wii Sports      Wii           2006.0        Sports   \n",
       "1             Super Mario Bros.      NES           1985.0      Platform   \n",
       "2                Mario Kart Wii      Wii           2008.0        Racing   \n",
       "3             Wii Sports Resort      Wii           2009.0        Sports   \n",
       "4      Pokemon Red/Pokemon Blue       GB           1996.0  Role-Playing   \n",
       "5                        Tetris       GB           1989.0        Puzzle   \n",
       "6         New Super Mario Bros.       DS           2006.0      Platform   \n",
       "7                      Wii Play      Wii           2006.0          Misc   \n",
       "8     New Super Mario Bros. Wii      Wii           2009.0      Platform   \n",
       "9                     Duck Hunt      NES           1984.0       Shooter   \n",
       "10                   Nintendogs       DS           2005.0    Simulation   \n",
       "11                Mario Kart DS       DS           2005.0        Racing   \n",
       "12  Pokemon Gold/Pokemon Silver       GB           1999.0  Role-Playing   \n",
       "13                      Wii Fit      Wii           2007.0        Sports   \n",
       "14           Kinect Adventures!     X360           2010.0          Misc   \n",
       "\n",
       "    NA_sales  EU_sales  JP_sales  Other_sales  Critic_Score User_Score Rating  \n",
       "0      41.36     28.96      3.77         8.45          76.0          8      E  \n",
       "1      29.08      3.58      6.81         0.77           NaN        NaN    NaN  \n",
       "2      15.68     12.76      3.79         3.29          82.0        8.3      E  \n",
       "3      15.61     10.93      3.28         2.95          80.0          8      E  \n",
       "4      11.27      8.89     10.22         1.00           NaN        NaN    NaN  \n",
       "5      23.20      2.26      4.22         0.58           NaN        NaN    NaN  \n",
       "6      11.28      9.14      6.50         2.88          89.0        8.5      E  \n",
       "7      13.96      9.18      2.93         2.84          58.0        6.6      E  \n",
       "8      14.44      6.94      4.70         2.24          87.0        8.4      E  \n",
       "9      26.93      0.63      0.28         0.47           NaN        NaN    NaN  \n",
       "10      9.05     10.95      1.93         2.74           NaN        NaN    NaN  \n",
       "11      9.71      7.47      4.13         1.90          91.0        8.6      E  \n",
       "12      9.00      6.18      7.20         0.71           NaN        NaN    NaN  \n",
       "13      8.92      8.03      3.60         2.15          80.0        7.7      E  \n",
       "14     15.00      4.89      0.24         1.69          61.0        6.3      E  "
      ]
     },
     "execution_count": 2,
     "metadata": {},
     "output_type": "execute_result"
    }
   ],
   "source": [
    "#выведем для ознакомления первые 15 строк таблицы с данными\n",
    "games.head(15)"
   ]
  },
  {
   "cell_type": "code",
   "execution_count": 3,
   "metadata": {
    "scrolled": true
   },
   "outputs": [
    {
     "name": "stdout",
     "output_type": "stream",
     "text": [
      "<class 'pandas.core.frame.DataFrame'>\n",
      "RangeIndex: 16715 entries, 0 to 16714\n",
      "Data columns (total 11 columns):\n",
      " #   Column           Non-Null Count  Dtype  \n",
      "---  ------           --------------  -----  \n",
      " 0   Name             16713 non-null  object \n",
      " 1   Platform         16715 non-null  object \n",
      " 2   Year_of_Release  16446 non-null  float64\n",
      " 3   Genre            16713 non-null  object \n",
      " 4   NA_sales         16715 non-null  float64\n",
      " 5   EU_sales         16715 non-null  float64\n",
      " 6   JP_sales         16715 non-null  float64\n",
      " 7   Other_sales      16715 non-null  float64\n",
      " 8   Critic_Score     8137 non-null   float64\n",
      " 9   User_Score       10014 non-null  object \n",
      " 10  Rating           9949 non-null   object \n",
      "dtypes: float64(6), object(5)\n",
      "memory usage: 1.4+ MB\n"
     ]
    }
   ],
   "source": [
    "#оценим информацию о таблице\n",
    "games.info()"
   ]
  },
  {
   "cell_type": "markdown",
   "metadata": {},
   "source": [
    "Как видно из информации выше, в таблице games в ряде столбцов присутствует значительное количество пропусков.  \n",
    "Вероятно, это вызвано отсутствием необходимой информации при формировании данных."
   ]
  },
  {
   "cell_type": "code",
   "execution_count": 4,
   "metadata": {
    "scrolled": true
   },
   "outputs": [
    {
     "name": "stdout",
     "output_type": "stream",
     "text": [
      "Число полных дубликатов в таблице равно: 0\n"
     ]
    }
   ],
   "source": [
    "print('Число полных дубликатов в таблице равно:', games.duplicated().sum())"
   ]
  },
  {
   "cell_type": "code",
   "execution_count": 5,
   "metadata": {},
   "outputs": [
    {
     "data": {
      "text/html": [
       "<div>\n",
       "<style scoped>\n",
       "    .dataframe tbody tr th:only-of-type {\n",
       "        vertical-align: middle;\n",
       "    }\n",
       "\n",
       "    .dataframe tbody tr th {\n",
       "        vertical-align: top;\n",
       "    }\n",
       "\n",
       "    .dataframe thead th {\n",
       "        text-align: right;\n",
       "    }\n",
       "</style>\n",
       "<table border=\"1\" class=\"dataframe\">\n",
       "  <thead>\n",
       "    <tr style=\"text-align: right;\">\n",
       "      <th></th>\n",
       "      <th>Year_of_Release</th>\n",
       "      <th>NA_sales</th>\n",
       "      <th>EU_sales</th>\n",
       "      <th>JP_sales</th>\n",
       "      <th>Other_sales</th>\n",
       "      <th>Critic_Score</th>\n",
       "    </tr>\n",
       "  </thead>\n",
       "  <tbody>\n",
       "    <tr>\n",
       "      <th>count</th>\n",
       "      <td>16446.000000</td>\n",
       "      <td>16715.000000</td>\n",
       "      <td>16715.000000</td>\n",
       "      <td>16715.000000</td>\n",
       "      <td>16715.000000</td>\n",
       "      <td>8137.000000</td>\n",
       "    </tr>\n",
       "    <tr>\n",
       "      <th>mean</th>\n",
       "      <td>2006.484616</td>\n",
       "      <td>0.263377</td>\n",
       "      <td>0.145060</td>\n",
       "      <td>0.077617</td>\n",
       "      <td>0.047342</td>\n",
       "      <td>68.967679</td>\n",
       "    </tr>\n",
       "    <tr>\n",
       "      <th>std</th>\n",
       "      <td>5.877050</td>\n",
       "      <td>0.813604</td>\n",
       "      <td>0.503339</td>\n",
       "      <td>0.308853</td>\n",
       "      <td>0.186731</td>\n",
       "      <td>13.938165</td>\n",
       "    </tr>\n",
       "    <tr>\n",
       "      <th>min</th>\n",
       "      <td>1980.000000</td>\n",
       "      <td>0.000000</td>\n",
       "      <td>0.000000</td>\n",
       "      <td>0.000000</td>\n",
       "      <td>0.000000</td>\n",
       "      <td>13.000000</td>\n",
       "    </tr>\n",
       "    <tr>\n",
       "      <th>25%</th>\n",
       "      <td>2003.000000</td>\n",
       "      <td>0.000000</td>\n",
       "      <td>0.000000</td>\n",
       "      <td>0.000000</td>\n",
       "      <td>0.000000</td>\n",
       "      <td>60.000000</td>\n",
       "    </tr>\n",
       "    <tr>\n",
       "      <th>50%</th>\n",
       "      <td>2007.000000</td>\n",
       "      <td>0.080000</td>\n",
       "      <td>0.020000</td>\n",
       "      <td>0.000000</td>\n",
       "      <td>0.010000</td>\n",
       "      <td>71.000000</td>\n",
       "    </tr>\n",
       "    <tr>\n",
       "      <th>75%</th>\n",
       "      <td>2010.000000</td>\n",
       "      <td>0.240000</td>\n",
       "      <td>0.110000</td>\n",
       "      <td>0.040000</td>\n",
       "      <td>0.030000</td>\n",
       "      <td>79.000000</td>\n",
       "    </tr>\n",
       "    <tr>\n",
       "      <th>max</th>\n",
       "      <td>2016.000000</td>\n",
       "      <td>41.360000</td>\n",
       "      <td>28.960000</td>\n",
       "      <td>10.220000</td>\n",
       "      <td>10.570000</td>\n",
       "      <td>98.000000</td>\n",
       "    </tr>\n",
       "  </tbody>\n",
       "</table>\n",
       "</div>"
      ],
      "text/plain": [
       "       Year_of_Release      NA_sales      EU_sales      JP_sales  \\\n",
       "count     16446.000000  16715.000000  16715.000000  16715.000000   \n",
       "mean       2006.484616      0.263377      0.145060      0.077617   \n",
       "std           5.877050      0.813604      0.503339      0.308853   \n",
       "min        1980.000000      0.000000      0.000000      0.000000   \n",
       "25%        2003.000000      0.000000      0.000000      0.000000   \n",
       "50%        2007.000000      0.080000      0.020000      0.000000   \n",
       "75%        2010.000000      0.240000      0.110000      0.040000   \n",
       "max        2016.000000     41.360000     28.960000     10.220000   \n",
       "\n",
       "        Other_sales  Critic_Score  \n",
       "count  16715.000000   8137.000000  \n",
       "mean       0.047342     68.967679  \n",
       "std        0.186731     13.938165  \n",
       "min        0.000000     13.000000  \n",
       "25%        0.000000     60.000000  \n",
       "50%        0.010000     71.000000  \n",
       "75%        0.030000     79.000000  \n",
       "max       10.570000     98.000000  "
      ]
     },
     "execution_count": 5,
     "metadata": {},
     "output_type": "execute_result"
    }
   ],
   "source": [
    "games.describe()"
   ]
  },
  {
   "cell_type": "markdown",
   "metadata": {},
   "source": [
    "*Общее замечание к таблице:*  \n",
    "Необходимо привести названия столбцов к нижнему регистру для простоты обработки информации."
   ]
  },
  {
   "cell_type": "code",
   "execution_count": 6,
   "metadata": {},
   "outputs": [
    {
     "data": {
      "text/html": [
       "<div>\n",
       "<style scoped>\n",
       "    .dataframe tbody tr th:only-of-type {\n",
       "        vertical-align: middle;\n",
       "    }\n",
       "\n",
       "    .dataframe tbody tr th {\n",
       "        vertical-align: top;\n",
       "    }\n",
       "\n",
       "    .dataframe thead th {\n",
       "        text-align: right;\n",
       "    }\n",
       "</style>\n",
       "<table border=\"1\" class=\"dataframe\">\n",
       "  <thead>\n",
       "    <tr style=\"text-align: right;\">\n",
       "      <th></th>\n",
       "      <th>name</th>\n",
       "      <th>platform</th>\n",
       "      <th>year_of_release</th>\n",
       "      <th>genre</th>\n",
       "      <th>na_sales</th>\n",
       "      <th>eu_sales</th>\n",
       "      <th>jp_sales</th>\n",
       "      <th>other_sales</th>\n",
       "      <th>critic_score</th>\n",
       "      <th>user_score</th>\n",
       "      <th>rating</th>\n",
       "    </tr>\n",
       "  </thead>\n",
       "  <tbody>\n",
       "  </tbody>\n",
       "</table>\n",
       "</div>"
      ],
      "text/plain": [
       "Empty DataFrame\n",
       "Columns: [name, platform, year_of_release, genre, na_sales, eu_sales, jp_sales, other_sales, critic_score, user_score, rating]\n",
       "Index: []"
      ]
     },
     "execution_count": 6,
     "metadata": {},
     "output_type": "execute_result"
    }
   ],
   "source": [
    "#приведем названия столбцов к нижнему регистру\n",
    "games.columns = games.columns.str.lower()\n",
    "games.head(0)"
   ]
  },
  {
   "cell_type": "markdown",
   "metadata": {},
   "source": [
    "#### Ознакомление с данными столбца name"
   ]
  },
  {
   "cell_type": "code",
   "execution_count": 7,
   "metadata": {},
   "outputs": [
    {
     "name": "stdout",
     "output_type": "stream",
     "text": [
      "Всего строк без пропусков в столбце: 16713\n"
     ]
    }
   ],
   "source": [
    "print('Всего строк без пропусков в столбце:', games['name'].describe()['count'])"
   ]
  },
  {
   "cell_type": "code",
   "execution_count": 8,
   "metadata": {},
   "outputs": [
    {
     "name": "stdout",
     "output_type": "stream",
     "text": [
      "Число игр без имени (с пропущенными данными): 2\n"
     ]
    }
   ],
   "source": [
    "print('Число игр без имени (с пропущенными данными):', games['name'].isna().sum())"
   ]
  },
  {
   "cell_type": "code",
   "execution_count": 9,
   "metadata": {},
   "outputs": [],
   "source": [
    "#Удалим из столбца name пустые значения, не забудем про индексы\n",
    "games = games.dropna(subset=['name']).reset_index(drop=True)"
   ]
  },
  {
   "cell_type": "markdown",
   "metadata": {},
   "source": [
    "Выведем произвольный срез имени игры:"
   ]
  },
  {
   "cell_type": "code",
   "execution_count": 10,
   "metadata": {},
   "outputs": [
    {
     "data": {
      "text/plain": [
       "16680           Grisaia no Kajitsu: La Fruit de la Grisaia\n",
       "16681                     Scarlett: Nichijou no Kyoukaisen\n",
       "16682                                            7'scarlet\n",
       "16683                Help Wanted: 50 Wacky Jobs (jp sales)\n",
       "16684    Yattaman Wii: BikkuriDokkiri Machine de Mou Ra...\n",
       "16685                                Neo Angelique Special\n",
       "Name: name, dtype: object"
      ]
     },
     "execution_count": 10,
     "metadata": {},
     "output_type": "execute_result"
    }
   ],
   "source": [
    "games.loc[16680:16685, 'name']"
   ]
  },
  {
   "cell_type": "markdown",
   "metadata": {},
   "source": [
    "Как видно из данных выше, в столбце присутствуют имена, содержащие в себе продажи только для определенного региона (индекс 16683).  \n",
    "Оценим количество таких записей:"
   ]
  },
  {
   "cell_type": "code",
   "execution_count": 11,
   "metadata": {},
   "outputs": [
    {
     "data": {
      "text/plain": [
       "147"
      ]
     },
     "execution_count": 11,
     "metadata": {},
     "output_type": "execute_result"
    }
   ],
   "source": [
    "#функция, которая ищет в каждой строке в имени слово \"sale\" и возвращает столбец с None или именем, где есть это слово\n",
    "def find_sales(name):\n",
    "    try: \n",
    "        if 'sale' in name:\n",
    "            return 'saled'\n",
    "    except: #функция падает, когда название игры типа float (это или число или Nan), поэтому есть try-except\n",
    "        return\n",
    "\n",
    "games['name_with_sales'] = games['name'].apply(find_sales)\n",
    " \n",
    "#посмотрим, сколько их:\n",
    "games['name_with_sales'].describe()['count']"
   ]
  },
  {
   "cell_type": "markdown",
   "metadata": {},
   "source": [
    "Данное число строк пренебрежительно мало по сравнению с общим объемом данных, поэтому предлагается в последующем удалить эти строки."
   ]
  },
  {
   "cell_type": "markdown",
   "metadata": {},
   "source": [
    "*Для столбца names выявлены следующие замечания:*\n",
    "1. Необходимо перевести все имена игр в нижний регистр для поиска возможных дубликатов\n",
    "2. Необходимо удалить строки, содержащие продажи только для определенного региона."
   ]
  },
  {
   "cell_type": "markdown",
   "metadata": {},
   "source": [
    "#### Ознакомление с данными столбца platform"
   ]
  },
  {
   "cell_type": "code",
   "execution_count": 12,
   "metadata": {},
   "outputs": [
    {
     "name": "stdout",
     "output_type": "stream",
     "text": [
      "Всего строк без пропусков в столбце: 16713\n",
      "Число пустых строк: 0\n"
     ]
    }
   ],
   "source": [
    "print('Всего строк без пропусков в столбце:', games['platform'].describe()['count'])\n",
    "print('Число пустых строк:', games['platform'].isna().sum())"
   ]
  },
  {
   "cell_type": "code",
   "execution_count": 13,
   "metadata": {},
   "outputs": [
    {
     "data": {
      "text/plain": [
       "PS2     2161\n",
       "DS      2151\n",
       "PS3     1331\n",
       "Wii     1320\n",
       "X360    1262\n",
       "PSP     1209\n",
       "PS      1197\n",
       "PC       974\n",
       "XB       824\n",
       "GBA      822\n",
       "GC       556\n",
       "3DS      520\n",
       "PSV      430\n",
       "PS4      392\n",
       "N64      319\n",
       "XOne     247\n",
       "SNES     239\n",
       "SAT      173\n",
       "WiiU     147\n",
       "2600     133\n",
       "NES       98\n",
       "GB        98\n",
       "DC        52\n",
       "GEN       27\n",
       "NG        12\n",
       "SCD        6\n",
       "WS         6\n",
       "3DO        3\n",
       "TG16       2\n",
       "GG         1\n",
       "PCFX       1\n",
       "Name: platform, dtype: int64"
      ]
     },
     "execution_count": 13,
     "metadata": {},
     "output_type": "execute_result"
    }
   ],
   "source": [
    "#оценим частоту повторений уникальных значений столбца\n",
    "games['platform'].value_counts()"
   ]
  },
  {
   "cell_type": "markdown",
   "metadata": {},
   "source": [
    "*Замечаний к столбцу не выявлено*"
   ]
  },
  {
   "cell_type": "markdown",
   "metadata": {},
   "source": [
    "#### Ознакомление с данными столбца year_of_release"
   ]
  },
  {
   "cell_type": "code",
   "execution_count": 14,
   "metadata": {},
   "outputs": [
    {
     "name": "stdout",
     "output_type": "stream",
     "text": [
      "Всего строк без пропусков в столбце: 16444.0\n",
      "Число пустых строк: 269\n"
     ]
    }
   ],
   "source": [
    "print('Всего строк без пропусков в столбце:', games['year_of_release'].describe()['count'])\n",
    "print('Число пустых строк:', games['year_of_release'].isna().sum())"
   ]
  },
  {
   "cell_type": "code",
   "execution_count": 15,
   "metadata": {},
   "outputs": [
    {
     "data": {
      "text/plain": [
       "0    2006.0\n",
       "1    1985.0\n",
       "2    2008.0\n",
       "3    2009.0\n",
       "4    1996.0\n",
       "Name: year_of_release, dtype: float64"
      ]
     },
     "execution_count": 15,
     "metadata": {},
     "output_type": "execute_result"
    }
   ],
   "source": [
    "games['year_of_release'].head()"
   ]
  },
  {
   "cell_type": "markdown",
   "metadata": {},
   "source": [
    "*Замечания к столбцу year_of_release:*\n",
    "1. Необходимо обработать пропущенные значения\n",
    "2. Необходимо перевести тип данных в целочисленный"
   ]
  },
  {
   "cell_type": "markdown",
   "metadata": {},
   "source": [
    "#### Ознакомление с данными столбца genre"
   ]
  },
  {
   "cell_type": "code",
   "execution_count": 16,
   "metadata": {},
   "outputs": [
    {
     "name": "stdout",
     "output_type": "stream",
     "text": [
      "Всего строк без пропусков в столбце: 16713\n",
      "Число пустых строк: 0\n"
     ]
    }
   ],
   "source": [
    "print('Всего строк без пропусков в столбце:', games['genre'].describe()['count'])\n",
    "print('Число пустых строк:', games['genre'].isna().sum())"
   ]
  },
  {
   "cell_type": "code",
   "execution_count": 17,
   "metadata": {},
   "outputs": [
    {
     "data": {
      "text/plain": [
       "Action          3369\n",
       "Sports          2348\n",
       "Misc            1750\n",
       "Role-Playing    1498\n",
       "Shooter         1323\n",
       "Adventure       1303\n",
       "Racing          1249\n",
       "Platform         888\n",
       "Simulation       873\n",
       "Fighting         849\n",
       "Strategy         683\n",
       "Puzzle           580\n",
       "Name: genre, dtype: int64"
      ]
     },
     "execution_count": 17,
     "metadata": {},
     "output_type": "execute_result"
    }
   ],
   "source": [
    "games['genre'].value_counts()"
   ]
  },
  {
   "cell_type": "markdown",
   "metadata": {},
   "source": [
    "*Замечаний к столбцу genre не обнаружено.*"
   ]
  },
  {
   "cell_type": "markdown",
   "metadata": {},
   "source": [
    "#### Ознакомление с данными столбца na_sales"
   ]
  },
  {
   "cell_type": "code",
   "execution_count": 18,
   "metadata": {},
   "outputs": [
    {
     "name": "stdout",
     "output_type": "stream",
     "text": [
      "Всего строк без пропусков в столбце: 16713.0\n",
      "Число пустых строк: 0\n"
     ]
    }
   ],
   "source": [
    "print('Всего строк без пропусков в столбце:', games['na_sales'].describe()['count'])\n",
    "print('Число пустых строк:', games['na_sales'].isna().sum())"
   ]
  },
  {
   "cell_type": "code",
   "execution_count": 19,
   "metadata": {},
   "outputs": [
    {
     "data": {
      "text/plain": [
       "count    16713.000000\n",
       "mean         0.263302\n",
       "std          0.813565\n",
       "min          0.000000\n",
       "25%          0.000000\n",
       "50%          0.080000\n",
       "75%          0.240000\n",
       "max         41.360000\n",
       "Name: na_sales, dtype: float64"
      ]
     },
     "execution_count": 19,
     "metadata": {},
     "output_type": "execute_result"
    }
   ],
   "source": [
    "games['na_sales'].describe()"
   ]
  },
  {
   "cell_type": "markdown",
   "metadata": {},
   "source": [
    "*Замечания к столбцу na_sales:*\n",
    "1. Присутствуют нулевые значения. Возможно, это связано с отсутсвием продаж игры в выбранном регионе."
   ]
  },
  {
   "cell_type": "markdown",
   "metadata": {},
   "source": [
    " #### Ознакомление с данными столбца eu_sales"
   ]
  },
  {
   "cell_type": "code",
   "execution_count": 20,
   "metadata": {},
   "outputs": [
    {
     "name": "stdout",
     "output_type": "stream",
     "text": [
      "Всего строк без пропусков в столбце: 16713.0\n",
      "Число пустых строк: 0\n"
     ]
    }
   ],
   "source": [
    "print('Всего строк без пропусков в столбце:', games['eu_sales'].describe()['count'])\n",
    "print('Число пустых строк:', games['eu_sales'].isna().sum())"
   ]
  },
  {
   "cell_type": "code",
   "execution_count": 21,
   "metadata": {},
   "outputs": [
    {
     "data": {
      "text/plain": [
       "count    16713.000000\n",
       "mean         0.145045\n",
       "std          0.503359\n",
       "min          0.000000\n",
       "25%          0.000000\n",
       "50%          0.020000\n",
       "75%          0.110000\n",
       "max         28.960000\n",
       "Name: eu_sales, dtype: float64"
      ]
     },
     "execution_count": 21,
     "metadata": {},
     "output_type": "execute_result"
    }
   ],
   "source": [
    "games['eu_sales'].describe()"
   ]
  },
  {
   "cell_type": "markdown",
   "metadata": {},
   "source": [
    "*Замечания к столбцу eu_sales:*\n",
    "1. Присутствуют нулевые значения. Возможно, это связано с отсутсвием продаж игры в выбранном регионе."
   ]
  },
  {
   "cell_type": "markdown",
   "metadata": {},
   "source": [
    "#### Ознакомление с данными столбца jp_sales"
   ]
  },
  {
   "cell_type": "code",
   "execution_count": 22,
   "metadata": {},
   "outputs": [
    {
     "name": "stdout",
     "output_type": "stream",
     "text": [
      "Всего строк без пропусков в столбце: 16713.0\n",
      "Число пустых строк: 0\n"
     ]
    }
   ],
   "source": [
    "print('Всего строк без пропусков в столбце:', games['jp_sales'].describe()['count'])\n",
    "print('Число пустых строк:', games['jp_sales'].isna().sum())"
   ]
  },
  {
   "cell_type": "code",
   "execution_count": 23,
   "metadata": {},
   "outputs": [
    {
     "data": {
      "text/plain": [
       "count    16713.000000\n",
       "mean         0.077625\n",
       "std          0.308871\n",
       "min          0.000000\n",
       "25%          0.000000\n",
       "50%          0.000000\n",
       "75%          0.040000\n",
       "max         10.220000\n",
       "Name: jp_sales, dtype: float64"
      ]
     },
     "execution_count": 23,
     "metadata": {},
     "output_type": "execute_result"
    }
   ],
   "source": [
    "games['jp_sales'].describe()"
   ]
  },
  {
   "cell_type": "markdown",
   "metadata": {},
   "source": [
    "*Замечания к столбцу jp_sales:*\n",
    "1. Присутствуют нулевые значения. Возможно, это связано с отсутсвием продаж игры в выбранном регионе."
   ]
  },
  {
   "cell_type": "markdown",
   "metadata": {},
   "source": [
    "#### Ознакомление с данными столбца other_sales"
   ]
  },
  {
   "cell_type": "code",
   "execution_count": 24,
   "metadata": {},
   "outputs": [
    {
     "name": "stdout",
     "output_type": "stream",
     "text": [
      "Всего строк без пропусков в столбце: 16713.0\n",
      "Число пустых строк: 0\n"
     ]
    }
   ],
   "source": [
    "print('Всего строк без пропусков в столбце:', games['other_sales'].describe()['count'])\n",
    "print('Число пустых строк:', games['other_sales'].isna().sum())"
   ]
  },
  {
   "cell_type": "code",
   "execution_count": 25,
   "metadata": {},
   "outputs": [
    {
     "data": {
      "text/plain": [
       "count    16713.000000\n",
       "mean         0.047343\n",
       "std          0.186742\n",
       "min          0.000000\n",
       "25%          0.000000\n",
       "50%          0.010000\n",
       "75%          0.030000\n",
       "max         10.570000\n",
       "Name: other_sales, dtype: float64"
      ]
     },
     "execution_count": 25,
     "metadata": {},
     "output_type": "execute_result"
    }
   ],
   "source": [
    "games['other_sales'].describe()"
   ]
  },
  {
   "cell_type": "markdown",
   "metadata": {},
   "source": [
    "*Замечания к столбцу other_sales:*\n",
    "1. Присутствуют нулевые значения. Возможно, это связано с отсутсвием продаж игры в выбранном регионе."
   ]
  },
  {
   "cell_type": "markdown",
   "metadata": {},
   "source": [
    "#### Ознакомление с данными столбца critic_score"
   ]
  },
  {
   "cell_type": "code",
   "execution_count": 26,
   "metadata": {},
   "outputs": [
    {
     "name": "stdout",
     "output_type": "stream",
     "text": [
      "Всего строк без пропусков в столбце: 8137.0\n",
      "Число пустых строк: 8576\n"
     ]
    }
   ],
   "source": [
    "print('Всего строк без пропусков в столбце:', games['critic_score'].describe()['count'])\n",
    "print('Число пустых строк:', games['critic_score'].isna().sum())"
   ]
  },
  {
   "cell_type": "code",
   "execution_count": 27,
   "metadata": {},
   "outputs": [
    {
     "data": {
      "text/plain": [
       "count    8137.000000\n",
       "mean       68.967679\n",
       "std        13.938165\n",
       "min        13.000000\n",
       "25%        60.000000\n",
       "50%        71.000000\n",
       "75%        79.000000\n",
       "max        98.000000\n",
       "Name: critic_score, dtype: float64"
      ]
     },
     "execution_count": 27,
     "metadata": {},
     "output_type": "execute_result"
    }
   ],
   "source": [
    "games['critic_score'].describe()"
   ]
  },
  {
   "cell_type": "markdown",
   "metadata": {},
   "source": [
    "*Замечания к столбцу critic_score:*\n",
    "1. Присутствует большое количество пропусков. Так как восстановление данных по какому-либо характерному признакку невозможно, предлагается оставить столбец в неизменном виде."
   ]
  },
  {
   "cell_type": "markdown",
   "metadata": {},
   "source": [
    "#### Ознакомление с данными столбца user_score"
   ]
  },
  {
   "cell_type": "code",
   "execution_count": 28,
   "metadata": {},
   "outputs": [
    {
     "name": "stdout",
     "output_type": "stream",
     "text": [
      "Всего строк без пропусков в столбце: 10014\n",
      "Число пустых строк: 6699\n"
     ]
    }
   ],
   "source": [
    "print('Всего строк без пропусков в столбце:', games['user_score'].describe()['count'])\n",
    "print('Число пустых строк:', games['user_score'].isna().sum())"
   ]
  },
  {
   "cell_type": "code",
   "execution_count": 29,
   "metadata": {
    "scrolled": true
   },
   "outputs": [
    {
     "data": {
      "text/plain": [
       "count     10014\n",
       "unique       96\n",
       "top         tbd\n",
       "freq       2424\n",
       "Name: user_score, dtype: object"
      ]
     },
     "execution_count": 29,
     "metadata": {},
     "output_type": "execute_result"
    }
   ],
   "source": [
    "games['user_score'].describe()"
   ]
  },
  {
   "cell_type": "markdown",
   "metadata": {},
   "source": [
    "*Замечания к столбцу user_score:*\n",
    "1. В столбце присутствуют значения \"tbd\". Вероятно, имеется в виду \"to be determined\" / \"будет определено\", таким образом, необходимо заменить эти значения на пропуски.\n",
    "2. Присутствует большое количество пропусков. Так как восстановление данных по какому-либо характерному признакку невозможно, предлагается оставить столбец в неизменном виде, не заполняя пропуски.\n",
    "3. Тип данных в столбце необходимо заменить на численный."
   ]
  },
  {
   "cell_type": "markdown",
   "metadata": {},
   "source": [
    "#### Ознакомление с данными столбца rating"
   ]
  },
  {
   "cell_type": "code",
   "execution_count": 30,
   "metadata": {},
   "outputs": [
    {
     "name": "stdout",
     "output_type": "stream",
     "text": [
      "Всего строк без пропусков в столбце: 9949\n",
      "Число пустых строк: 6764\n"
     ]
    }
   ],
   "source": [
    "print('Всего строк без пропусков в столбце:', games['rating'].describe()['count'])\n",
    "print('Число пустых строк:', games['rating'].isna().sum())"
   ]
  },
  {
   "cell_type": "code",
   "execution_count": 31,
   "metadata": {},
   "outputs": [
    {
     "data": {
      "text/plain": [
       "E       3990\n",
       "T       2961\n",
       "M       1563\n",
       "E10+    1420\n",
       "EC         8\n",
       "K-A        3\n",
       "RP         3\n",
       "AO         1\n",
       "Name: rating, dtype: int64"
      ]
     },
     "execution_count": 31,
     "metadata": {},
     "output_type": "execute_result"
    }
   ],
   "source": [
    "games['rating'].value_counts()"
   ]
  },
  {
   "cell_type": "markdown",
   "metadata": {},
   "source": [
    "*Замечания к столбцу rating:*  \n",
    "1. Присутствует большое количество пропусков. Так как восстановление данных по какому-либо характерному признакку невозможно, предлагается оставить столбец в неизменном виде, не заполняя пропуски."
   ]
  },
  {
   "cell_type": "markdown",
   "metadata": {},
   "source": [
    "## Подготовка данных"
   ]
  },
  {
   "cell_type": "markdown",
   "metadata": {},
   "source": [
    "### Столбец name"
   ]
  },
  {
   "cell_type": "markdown",
   "metadata": {},
   "source": [
    "*Для столбца name выявлены следующие замечания:*\n",
    "1. Необходимо перевести все имена игр в нижний регистр для поиска возможных дубликатов\n",
    "2. Необходимо удалить строки, содержащие продажи только для определенного региона."
   ]
  },
  {
   "cell_type": "markdown",
   "metadata": {},
   "source": [
    "* Переведем все имена игр в нижний регистр для поиска возможных дубликатов:"
   ]
  },
  {
   "cell_type": "code",
   "execution_count": 32,
   "metadata": {},
   "outputs": [],
   "source": [
    "games['name'] = games['name'].str.lower()"
   ]
  },
  {
   "cell_type": "code",
   "execution_count": 33,
   "metadata": {},
   "outputs": [],
   "source": [
    "games = games[games['name_with_sales'] != 'saled']"
   ]
  },
  {
   "cell_type": "markdown",
   "metadata": {},
   "source": [
    "Удалим ненужный столбец name_with_sales:"
   ]
  },
  {
   "cell_type": "code",
   "execution_count": 34,
   "metadata": {},
   "outputs": [],
   "source": [
    "#для этого используем функцию drop, где 1 -номер оси ( 0 для строк и 1 для столбцов.), а inplace - чтобы удалить столбец без необходимости переназначения датафрейма\n",
    "games.drop('name_with_sales', axis=1, inplace=True)"
   ]
  },
  {
   "cell_type": "markdown",
   "metadata": {},
   "source": [
    "Таким образом, все замечания для столбца name устранены."
   ]
  },
  {
   "cell_type": "markdown",
   "metadata": {},
   "source": [
    "### Столбец year_of_release"
   ]
  },
  {
   "cell_type": "markdown",
   "metadata": {},
   "source": [
    "*Замечания к столбцу year_of_release:*\n",
    "1. Необходимо обработать пропущенные значения\n",
    "2. Необходимо перевести тип данных в целочисленный"
   ]
  },
  {
   "cell_type": "markdown",
   "metadata": {},
   "source": [
    "Отобразим часть строк для пропущенных значений столбца year_of_release:"
   ]
  },
  {
   "cell_type": "code",
   "execution_count": 35,
   "metadata": {
    "scrolled": true
   },
   "outputs": [
    {
     "data": {
      "text/html": [
       "<div>\n",
       "<style scoped>\n",
       "    .dataframe tbody tr th:only-of-type {\n",
       "        vertical-align: middle;\n",
       "    }\n",
       "\n",
       "    .dataframe tbody tr th {\n",
       "        vertical-align: top;\n",
       "    }\n",
       "\n",
       "    .dataframe thead th {\n",
       "        text-align: right;\n",
       "    }\n",
       "</style>\n",
       "<table border=\"1\" class=\"dataframe\">\n",
       "  <thead>\n",
       "    <tr style=\"text-align: right;\">\n",
       "      <th></th>\n",
       "      <th>name</th>\n",
       "      <th>platform</th>\n",
       "      <th>year_of_release</th>\n",
       "      <th>genre</th>\n",
       "      <th>na_sales</th>\n",
       "      <th>eu_sales</th>\n",
       "      <th>jp_sales</th>\n",
       "      <th>other_sales</th>\n",
       "      <th>critic_score</th>\n",
       "      <th>user_score</th>\n",
       "      <th>rating</th>\n",
       "    </tr>\n",
       "  </thead>\n",
       "  <tbody>\n",
       "    <tr>\n",
       "      <th>183</th>\n",
       "      <td>madden nfl 2004</td>\n",
       "      <td>PS2</td>\n",
       "      <td>NaN</td>\n",
       "      <td>Sports</td>\n",
       "      <td>4.26</td>\n",
       "      <td>0.26</td>\n",
       "      <td>0.01</td>\n",
       "      <td>0.71</td>\n",
       "      <td>94.0</td>\n",
       "      <td>8.5</td>\n",
       "      <td>E</td>\n",
       "    </tr>\n",
       "    <tr>\n",
       "      <th>377</th>\n",
       "      <td>fifa soccer 2004</td>\n",
       "      <td>PS2</td>\n",
       "      <td>NaN</td>\n",
       "      <td>Sports</td>\n",
       "      <td>0.59</td>\n",
       "      <td>2.36</td>\n",
       "      <td>0.04</td>\n",
       "      <td>0.51</td>\n",
       "      <td>84.0</td>\n",
       "      <td>6.4</td>\n",
       "      <td>E</td>\n",
       "    </tr>\n",
       "    <tr>\n",
       "      <th>456</th>\n",
       "      <td>lego batman: the videogame</td>\n",
       "      <td>Wii</td>\n",
       "      <td>NaN</td>\n",
       "      <td>Action</td>\n",
       "      <td>1.80</td>\n",
       "      <td>0.97</td>\n",
       "      <td>0.00</td>\n",
       "      <td>0.29</td>\n",
       "      <td>74.0</td>\n",
       "      <td>7.9</td>\n",
       "      <td>E10+</td>\n",
       "    </tr>\n",
       "    <tr>\n",
       "      <th>475</th>\n",
       "      <td>wwe smackdown vs. raw 2006</td>\n",
       "      <td>PS2</td>\n",
       "      <td>NaN</td>\n",
       "      <td>Fighting</td>\n",
       "      <td>1.57</td>\n",
       "      <td>1.02</td>\n",
       "      <td>0.00</td>\n",
       "      <td>0.41</td>\n",
       "      <td>NaN</td>\n",
       "      <td>NaN</td>\n",
       "      <td>NaN</td>\n",
       "    </tr>\n",
       "    <tr>\n",
       "      <th>609</th>\n",
       "      <td>space invaders</td>\n",
       "      <td>2600</td>\n",
       "      <td>NaN</td>\n",
       "      <td>Shooter</td>\n",
       "      <td>2.36</td>\n",
       "      <td>0.14</td>\n",
       "      <td>0.00</td>\n",
       "      <td>0.03</td>\n",
       "      <td>NaN</td>\n",
       "      <td>NaN</td>\n",
       "      <td>NaN</td>\n",
       "    </tr>\n",
       "  </tbody>\n",
       "</table>\n",
       "</div>"
      ],
      "text/plain": [
       "                           name platform  year_of_release     genre  na_sales  \\\n",
       "183             madden nfl 2004      PS2              NaN    Sports      4.26   \n",
       "377            fifa soccer 2004      PS2              NaN    Sports      0.59   \n",
       "456  lego batman: the videogame      Wii              NaN    Action      1.80   \n",
       "475  wwe smackdown vs. raw 2006      PS2              NaN  Fighting      1.57   \n",
       "609              space invaders     2600              NaN   Shooter      2.36   \n",
       "\n",
       "     eu_sales  jp_sales  other_sales  critic_score user_score rating  \n",
       "183      0.26      0.01         0.71          94.0        8.5      E  \n",
       "377      2.36      0.04         0.51          84.0        6.4      E  \n",
       "456      0.97      0.00         0.29          74.0        7.9   E10+  \n",
       "475      1.02      0.00         0.41           NaN        NaN    NaN  \n",
       "609      0.14      0.00         0.03           NaN        NaN    NaN  "
      ]
     },
     "execution_count": 35,
     "metadata": {},
     "output_type": "execute_result"
    }
   ],
   "source": [
    "games[games['year_of_release'].isna()].head()"
   ]
  },
  {
   "cell_type": "markdown",
   "metadata": {},
   "source": [
    "* Для обработки пропущенных значений примем допущение, что при заполнении пропусков в столбце с годом выпуска year_of_release, будем вставлять тот год, в который на данной платформе вышло больше всего игр."
   ]
  },
  {
   "cell_type": "markdown",
   "metadata": {},
   "source": [
    "Заполним пропуски в столбце year_of_release:"
   ]
  },
  {
   "cell_type": "code",
   "execution_count": 36,
   "metadata": {},
   "outputs": [],
   "source": [
    "#сгрупируем данные по платформам, для каждой группы найдем моду года, заполним пропуски в столбце этими данными\n",
    "games['year_of_release'] = games.groupby('platform')['year_of_release'].apply(lambda s: s.fillna(s.mode()[0]))"
   ]
  },
  {
   "cell_type": "markdown",
   "metadata": {},
   "source": [
    "* Переведем тип данных в столбце в целочисленный:"
   ]
  },
  {
   "cell_type": "code",
   "execution_count": 37,
   "metadata": {},
   "outputs": [],
   "source": [
    "games['year_of_release'] = games['year_of_release'].astype('int')"
   ]
  },
  {
   "cell_type": "markdown",
   "metadata": {},
   "source": [
    "### Столбец user_score"
   ]
  },
  {
   "cell_type": "markdown",
   "metadata": {},
   "source": [
    "*Замечания к столбцу user_score:*\n",
    "1. В столбце присутствуют значения \"tbd\". Вероятно, имеется в виду \"to be determined\" / \"будет определено\", таким образом, необходимо заменить эти значения на пропуски.\n",
    "2. Присутствует большое количество пропусков. Так как восстановление данных по какому-либо характерному признакку невозможно, предлагается оставить столбец в неизменном виде, не заполняя пропуски.\n",
    "3. Тип данных в столбце необходимо заменить на численный."
   ]
  },
  {
   "cell_type": "markdown",
   "metadata": {},
   "source": [
    "* Заменим значения tbd на пропуски:"
   ]
  },
  {
   "cell_type": "code",
   "execution_count": 38,
   "metadata": {},
   "outputs": [],
   "source": [
    "games.loc[games['user_score'] == 'tbd','user_score'] = np.nan"
   ]
  },
  {
   "cell_type": "code",
   "execution_count": 39,
   "metadata": {
    "scrolled": true
   },
   "outputs": [
    {
     "name": "stdout",
     "output_type": "stream",
     "text": [
      "Число пропусков после замены \"tbd\": 8976\n"
     ]
    }
   ],
   "source": [
    "print('Число пропусков после замены \"tbd\":', games['user_score'].isna().sum())"
   ]
  },
  {
   "cell_type": "markdown",
   "metadata": {},
   "source": [
    "Заменим тип данных в столбце на численный:"
   ]
  },
  {
   "cell_type": "code",
   "execution_count": 40,
   "metadata": {},
   "outputs": [],
   "source": [
    "games['user_score'] = games['user_score'].astype('float')"
   ]
  },
  {
   "cell_type": "markdown",
   "metadata": {},
   "source": [
    "### Суммарные продажи во всех регионах"
   ]
  },
  {
   "cell_type": "markdown",
   "metadata": {},
   "source": [
    "По условиям работы,необходимо расчитать суммарные продажи во всех регионах и записать их в отдельный столбец.  \n",
    "Обозначим этот столбец как total_sales."
   ]
  },
  {
   "cell_type": "code",
   "execution_count": 41,
   "metadata": {},
   "outputs": [],
   "source": [
    "games['total_sales'] = games['na_sales'] + games['eu_sales'] + games['jp_sales'] + games['other_sales']"
   ]
  },
  {
   "cell_type": "code",
   "execution_count": 42,
   "metadata": {},
   "outputs": [
    {
     "data": {
      "text/plain": [
       "count    16566.000000\n",
       "mean         0.535663\n",
       "std          1.554483\n",
       "min          0.000000\n",
       "25%          0.060000\n",
       "50%          0.170000\n",
       "75%          0.470000\n",
       "max         82.540000\n",
       "Name: total_sales, dtype: float64"
      ]
     },
     "execution_count": 42,
     "metadata": {},
     "output_type": "execute_result"
    }
   ],
   "source": [
    "games['total_sales'].describe()"
   ]
  },
  {
   "cell_type": "markdown",
   "metadata": {},
   "source": [
    "Среди данныз столбца total_sales присутствуют нулевые значения. Вероятно, это связано с отсутсвтием информации о продаже конкретных позиций игр или бесплатного распространения данных игр. \n",
    "Оставим данные значения в неизменном виде в силу отсутствия формального признака для их заполнения."
   ]
  },
  {
   "cell_type": "markdown",
   "metadata": {},
   "source": [
    "## Исследовательский анализ данных"
   ]
  },
  {
   "cell_type": "markdown",
   "metadata": {},
   "source": [
    "### Выпуск игр в разные годы"
   ]
  },
  {
   "cell_type": "markdown",
   "metadata": {},
   "source": [
    "Отобразим на гистограмме количество выпущенных игр в разные годы:"
   ]
  },
  {
   "cell_type": "code",
   "execution_count": 43,
   "metadata": {},
   "outputs": [
    {
     "data": {
      "text/plain": [
       "Text(0.5, 1.0, 'Количество выпущенных игр в разные годы')"
      ]
     },
     "execution_count": 43,
     "metadata": {},
     "output_type": "execute_result"
    },
    {
     "data": {
      "image/png": "[encoded data removed]",
      "text/plain": [
       "<Figure size 432x288 with 1 Axes>"
      ]
     },
     "metadata": {
      "needs_background": "light"
     },
     "output_type": "display_data"
    }
   ],
   "source": [
    "#количество \"корзин\" равно количеству уникальных значений столбца year_of_release, чтобы не было разрывов\n",
    "n_bins = len(games['year_of_release'].unique())\n",
    "#отобразим сетку для лучшей читаемости данных\n",
    "plt.grid()\n",
    "#тип графика - гистограмма, в наличии заголовок графика и подписи осей абсцисс и ординат\n",
    "plt.hist(games['year_of_release'], bins=n_bins)\n",
    "plt.xlabel('Год выпуска')\n",
    "plt.ylabel('Количество игр, [ед]')\n",
    "plt.title('Количество выпущенных игр в разные годы')"
   ]
  },
  {
   "cell_type": "markdown",
   "metadata": {},
   "source": [
    "Исходя из данных на гистограмме выше, можно сделать вывод о том, что для дальнейшего анализа нам будут важны данные от 2000 года и старше в силу резкого увеличения количества вышедших игр.  \n",
    "Данный вывод подтверждается и анализом [открытых источников](https://dtf.ru/games/178777-istoriya-igr-osobenno-adventure-no-v-celom-igr): динамичный рост индустрии игр начинается с 2000 года, что связано с резким ростом мощностей чипов видеоадаперов, начиная с 1995 года, и последующим выпуском игровых франшиз, актуальных и по сей день."
   ]
  },
  {
   "cell_type": "markdown",
   "metadata": {},
   "source": [
    "### Продажи игр по платформам"
   ]
  },
  {
   "cell_type": "markdown",
   "metadata": {},
   "source": [
    "* Найдем  самые популярные платформы. Для этого построим график суммарных продаж игр  по платформам:"
   ]
  },
  {
   "cell_type": "code",
   "execution_count": 44,
   "metadata": {
    "scrolled": false
   },
   "outputs": [
    {
     "data": {
      "image/png": "[encoded data removed]",
      "text/plain": [
       "<Figure size 432x288 with 1 Axes>"
      ]
     },
     "metadata": {
      "needs_background": "light"
     },
     "output_type": "display_data"
    }
   ],
   "source": [
    "(games.groupby(by='platform')\n",
    " .agg({'total_sales':'sum'})\n",
    " .sort_values(by='total_sales', ascending=False)\n",
    " .plot(kind='bar')\n",
    ");"
   ]
  },
  {
   "cell_type": "markdown",
   "metadata": {},
   "source": [
    "Исходя из данных на графике выше, на фоне остальных существенно выделяются _шесть_ платформ:  \n",
    "PS2, X360, PS3, Wii, DS и PS. "
   ]
  },
  {
   "cell_type": "markdown",
   "metadata": {},
   "source": [
    "Оценим численно продажи по этим платформам:"
   ]
  },
  {
   "cell_type": "code",
   "execution_count": 45,
   "metadata": {},
   "outputs": [],
   "source": [
    "#создадим сводную таблицу, где сгруппируем данные по типу платформ и просуммируем продажи всех игр для каждой отдельной платформы\n",
    "games_pivot = games.pivot_table(index=['platform'], values=['total_sales'], aggfunc='sum')"
   ]
  },
  {
   "cell_type": "code",
   "execution_count": 46,
   "metadata": {},
   "outputs": [
    {
     "data": {
      "text/html": [
       "<div>\n",
       "<style scoped>\n",
       "    .dataframe tbody tr th:only-of-type {\n",
       "        vertical-align: middle;\n",
       "    }\n",
       "\n",
       "    .dataframe tbody tr th {\n",
       "        vertical-align: top;\n",
       "    }\n",
       "\n",
       "    .dataframe thead th {\n",
       "        text-align: right;\n",
       "    }\n",
       "</style>\n",
       "<table border=\"1\" class=\"dataframe\">\n",
       "  <thead>\n",
       "    <tr style=\"text-align: right;\">\n",
       "      <th></th>\n",
       "      <th>platform</th>\n",
       "      <th>total_sales</th>\n",
       "    </tr>\n",
       "  </thead>\n",
       "  <tbody>\n",
       "    <tr>\n",
       "      <th>0</th>\n",
       "      <td>PS2</td>\n",
       "      <td>1241.18</td>\n",
       "    </tr>\n",
       "    <tr>\n",
       "      <th>1</th>\n",
       "      <td>X360</td>\n",
       "      <td>969.78</td>\n",
       "    </tr>\n",
       "    <tr>\n",
       "      <th>2</th>\n",
       "      <td>PS3</td>\n",
       "      <td>939.61</td>\n",
       "    </tr>\n",
       "    <tr>\n",
       "      <th>3</th>\n",
       "      <td>Wii</td>\n",
       "      <td>905.22</td>\n",
       "    </tr>\n",
       "    <tr>\n",
       "      <th>4</th>\n",
       "      <td>DS</td>\n",
       "      <td>798.95</td>\n",
       "    </tr>\n",
       "    <tr>\n",
       "      <th>5</th>\n",
       "      <td>PS</td>\n",
       "      <td>730.38</td>\n",
       "    </tr>\n",
       "  </tbody>\n",
       "</table>\n",
       "</div>"
      ],
      "text/plain": [
       "  platform  total_sales\n",
       "0      PS2      1241.18\n",
       "1     X360       969.78\n",
       "2      PS3       939.61\n",
       "3      Wii       905.22\n",
       "4       DS       798.95\n",
       "5       PS       730.38"
      ]
     },
     "execution_count": 46,
     "metadata": {},
     "output_type": "execute_result"
    }
   ],
   "source": [
    "#выведем первые 5 строк таблицы на экран, отсортировав таблицу по убыванию значения суммарных продаж для каждой платформы\n",
    "games_pivot = games_pivot.sort_values('total_sales', ascending=False)\n",
    "games_pivot.reset_index(inplace=True)\n",
    "games_pivot.head(6)"
   ]
  },
  {
   "cell_type": "markdown",
   "metadata": {},
   "source": [
    "Исходя из данных выше, можно сделать вывод о том, что больше всего игр продалось на платформе PS2 (~1241.18 млн. копий)."
   ]
  },
  {
   "cell_type": "markdown",
   "metadata": {},
   "source": [
    "* Построим для ТОП-6 платформ распределение количества продаж игр по годам:"
   ]
  },
  {
   "cell_type": "code",
   "execution_count": 47,
   "metadata": {},
   "outputs": [
    {
     "data": {
      "image/png": "[encoded data removed]",
      "text/plain": [
       "<Figure size 720x360 with 1 Axes>"
      ]
     },
     "metadata": {
      "needs_background": "light"
     },
     "output_type": "display_data"
    }
   ],
   "source": [
    "for i in range(0,6):\n",
    "    (games[games['platform'] == games_pivot['platform'][i]]\n",
    "     .groupby('year_of_release')['total_sales'].sum()\n",
    "     .plot(grid=True, label=games_pivot['platform'][i], figsize=(10,5))\n",
    "    )\n",
    "\n",
    "plt.xlabel('Год выпуска')\n",
    "plt.ylabel('Продажи, [млн. копий]')\n",
    "plt.title('Количество проданных игр в разные годы')\n",
    "plt.legend()\n",
    "plt.show()"
   ]
  },
  {
   "cell_type": "markdown",
   "metadata": {},
   "source": [
    "Исходя из графиков выше, срок существования платформы, в среднем, составляет около 10 лет.  \n",
    "Однако период наибольшей активности выхода игр и связанных с ним продаж для платформ составляет, в среднем, около 6 лет."
   ]
  },
  {
   "cell_type": "markdown",
   "metadata": {},
   "source": [
    "### Актуальный период"
   ]
  },
  {
   "cell_type": "markdown",
   "metadata": {},
   "source": [
    "Исходя из результатов анализа п. 5.1 и 5.2, можно сделать вывод о том, что наиболее активным периодом по продажам игры был временной интервал с 2005 по 2012 год.  \n",
    "Однако, несмотря на активное падение продаж после 2012 года, вероятно, связанное с началом мирового финансового кризиса, мы не можем отбросить данные после 2012 года, так как тенденция развития рынка за последние годы может напрямую повлиять на результаты прогноза на будущее время.  \n",
    "\n",
    "Таким образом, актуальным периодом будем считать период с 2012 по 2016 год включительно."
   ]
  },
  {
   "cell_type": "code",
   "execution_count": 48,
   "metadata": {},
   "outputs": [],
   "source": [
    "#отбросим данные до 2005 года выхода игр\n",
    "games = games[games['year_of_release'] >= 2012]\n",
    "games.reset_index(inplace=True)"
   ]
  },
  {
   "cell_type": "code",
   "execution_count": 49,
   "metadata": {},
   "outputs": [
    {
     "name": "stdout",
     "output_type": "stream",
     "text": [
      "<class 'pandas.core.frame.DataFrame'>\n",
      "RangeIndex: 2887 entries, 0 to 2886\n",
      "Data columns (total 13 columns):\n",
      " #   Column           Non-Null Count  Dtype  \n",
      "---  ------           --------------  -----  \n",
      " 0   index            2887 non-null   int64  \n",
      " 1   name             2887 non-null   object \n",
      " 2   platform         2887 non-null   object \n",
      " 3   year_of_release  2887 non-null   int64  \n",
      " 4   genre            2887 non-null   object \n",
      " 5   na_sales         2887 non-null   float64\n",
      " 6   eu_sales         2887 non-null   float64\n",
      " 7   jp_sales         2887 non-null   float64\n",
      " 8   other_sales      2887 non-null   float64\n",
      " 9   critic_score     1313 non-null   float64\n",
      " 10  user_score       1532 non-null   float64\n",
      " 11  rating           1612 non-null   object \n",
      " 12  total_sales      2887 non-null   float64\n",
      "dtypes: float64(7), int64(2), object(4)\n",
      "memory usage: 293.3+ KB\n"
     ]
    }
   ],
   "source": [
    "games.info()"
   ]
  },
  {
   "cell_type": "markdown",
   "metadata": {},
   "source": [
    "### Потенциально прибыльные платформы"
   ]
  },
  {
   "cell_type": "markdown",
   "metadata": {},
   "source": [
    "Рассмотрим лидеров по суммарным продажам игр за актуальный период, описанный в п.5.3:"
   ]
  },
  {
   "cell_type": "code",
   "execution_count": 50,
   "metadata": {
    "scrolled": true
   },
   "outputs": [
    {
     "data": {
      "text/html": [
       "<div>\n",
       "<style scoped>\n",
       "    .dataframe tbody tr th:only-of-type {\n",
       "        vertical-align: middle;\n",
       "    }\n",
       "\n",
       "    .dataframe tbody tr th {\n",
       "        vertical-align: top;\n",
       "    }\n",
       "\n",
       "    .dataframe thead th {\n",
       "        text-align: right;\n",
       "    }\n",
       "</style>\n",
       "<table border=\"1\" class=\"dataframe\">\n",
       "  <thead>\n",
       "    <tr style=\"text-align: right;\">\n",
       "      <th></th>\n",
       "      <th>platform</th>\n",
       "      <th>total_sales</th>\n",
       "    </tr>\n",
       "  </thead>\n",
       "  <tbody>\n",
       "    <tr>\n",
       "      <th>0</th>\n",
       "      <td>PS4</td>\n",
       "      <td>314.14</td>\n",
       "    </tr>\n",
       "    <tr>\n",
       "      <th>1</th>\n",
       "      <td>PS3</td>\n",
       "      <td>288.79</td>\n",
       "    </tr>\n",
       "    <tr>\n",
       "      <th>2</th>\n",
       "      <td>X360</td>\n",
       "      <td>236.54</td>\n",
       "    </tr>\n",
       "    <tr>\n",
       "      <th>3</th>\n",
       "      <td>3DS</td>\n",
       "      <td>194.61</td>\n",
       "    </tr>\n",
       "    <tr>\n",
       "      <th>4</th>\n",
       "      <td>XOne</td>\n",
       "      <td>159.32</td>\n",
       "    </tr>\n",
       "    <tr>\n",
       "      <th>5</th>\n",
       "      <td>WiiU</td>\n",
       "      <td>82.19</td>\n",
       "    </tr>\n",
       "    <tr>\n",
       "      <th>6</th>\n",
       "      <td>PC</td>\n",
       "      <td>62.65</td>\n",
       "    </tr>\n",
       "    <tr>\n",
       "      <th>7</th>\n",
       "      <td>PSV</td>\n",
       "      <td>49.44</td>\n",
       "    </tr>\n",
       "    <tr>\n",
       "      <th>8</th>\n",
       "      <td>Wii</td>\n",
       "      <td>35.37</td>\n",
       "    </tr>\n",
       "    <tr>\n",
       "      <th>9</th>\n",
       "      <td>DS</td>\n",
       "      <td>12.55</td>\n",
       "    </tr>\n",
       "    <tr>\n",
       "      <th>10</th>\n",
       "      <td>PSP</td>\n",
       "      <td>11.19</td>\n",
       "    </tr>\n",
       "  </tbody>\n",
       "</table>\n",
       "</div>"
      ],
      "text/plain": [
       "   platform  total_sales\n",
       "0       PS4       314.14\n",
       "1       PS3       288.79\n",
       "2      X360       236.54\n",
       "3       3DS       194.61\n",
       "4      XOne       159.32\n",
       "5      WiiU        82.19\n",
       "6        PC        62.65\n",
       "7       PSV        49.44\n",
       "8       Wii        35.37\n",
       "9        DS        12.55\n",
       "10      PSP        11.19"
      ]
     },
     "execution_count": 50,
     "metadata": {},
     "output_type": "execute_result"
    }
   ],
   "source": [
    "#создадим сводную таблицу, где сгруппируем данные по типу платформ и просуммируем продажи всех игр для каждой отдельной платформы\n",
    "games_pivot = games.pivot_table(index=['platform'], values=['total_sales'], aggfunc='sum')\n",
    "games_pivot = games_pivot.sort_values('total_sales', ascending=False)\n",
    "games_pivot.reset_index(inplace=True)\n",
    "games_pivot"
   ]
  },
  {
   "cell_type": "markdown",
   "metadata": {},
   "source": [
    "Построим график зависимости количества проданных игр в зависимости от года, принадлежащего актуальному периоду:"
   ]
  },
  {
   "cell_type": "code",
   "execution_count": 51,
   "metadata": {},
   "outputs": [
    {
     "data": {
      "image/png": "[encoded data removed]",
      "text/plain": [
       "<Figure size 1224x720 with 1 Axes>"
      ]
     },
     "metadata": {
      "needs_background": "light"
     },
     "output_type": "display_data"
    }
   ],
   "source": [
    "for i in range(len(games_pivot)):\n",
    "    (games[games['platform'] == games_pivot['platform'][i]]\n",
    "     .groupby('year_of_release')['total_sales'].sum()\n",
    "     .plot(grid=True, label=games_pivot['platform'][i], figsize=(17,10))\n",
    "    )\n",
    "\n",
    "plt.xlabel('Год выпуска')\n",
    "plt.ylabel('Продажи, [млн. копий]')\n",
    "plt.title('Количество проданных в разные годы')\n",
    "plt.legend()\n",
    "plt.show()"
   ]
  },
  {
   "cell_type": "markdown",
   "metadata": {},
   "source": [
    "Как видно из графика выше, для всех платформ наблюдается спад продаж ближе к 2016 году.  \n",
    "Однако, во временном промежутке с 2013 по 2016 год особенно выделяются две платформы:  \n",
    "* PS4\n",
    "* XOne  \n",
    "\n",
    "Данные платформы являются самыми новыми на рынке на рассматриваемого промежутка времени, количество продаж игр по этим платформам существенно опережает другие платформы с периоде времени с 2013 по 2016 год.  \n",
    "\n",
    "Примем PS4 и XOne потенциально прибыльными платформами."
   ]
  },
  {
   "cell_type": "markdown",
   "metadata": {},
   "source": [
    "### Диаграмма размаха"
   ]
  },
  {
   "cell_type": "markdown",
   "metadata": {},
   "source": [
    "* Необходимо построить диаграмму размаха по глобальным продажам игр в разбивке по платформам"
   ]
  },
  {
   "cell_type": "markdown",
   "metadata": {},
   "source": [
    "Для построения диаграммы размаха по глобальным продажам игр в разбивке по платформам возьмем ТОП-3 лидеров по суммарным продажам игр за актуальный период (X360, PS3 и Wii) и потенциально прибыльные платформы (PS4 и XOne)."
   ]
  },
  {
   "cell_type": "code",
   "execution_count": 52,
   "metadata": {},
   "outputs": [],
   "source": [
    "#создадим новую таблицу, в которую запишем только интересующие нас платформы\n",
    "games_box = games.loc[(games['platform'] == 'X360') |\n",
    "                      (games['platform'] == 'PS3') |\n",
    "                      (games['platform'] == 'Wii') |\n",
    "                      (games['platform'] == 'PS4') |\n",
    "                      (games['platform'] == 'XOne')]\n"
   ]
  },
  {
   "cell_type": "code",
   "execution_count": 53,
   "metadata": {
    "scrolled": true
   },
   "outputs": [
    {
     "data": {
      "image/png": "[encoded data removed]",
      "text/plain": [
       "<Figure size 360x360 with 1 Axes>"
      ]
     },
     "metadata": {
      "needs_background": "light"
     },
     "output_type": "display_data"
    }
   ],
   "source": [
    "games_box.boxplot('total_sales', by='platform', grid=True, figsize=(5, 5));"
   ]
  },
  {
   "cell_type": "markdown",
   "metadata": {},
   "source": [
    "По оси ординат для каждой платформы находится распределение данных о количестве продаж игр в мире.  \n",
    "В данном случае _\"выбросы\"_ (данные о продажах игр в мире - больше, чем 75% перцентили плюс 1.5 х Межквартильный размах) являются полезной информацией: это _признак игры-хита_ для выбранной платформы, так как её продажи на данной платформе существенно выше, чем ожидаемые от платформы значения продаж.  \n",
    "\n",
    "Оценим распределение продаж основной массы игр на платформах:"
   ]
  },
  {
   "cell_type": "code",
   "execution_count": 54,
   "metadata": {},
   "outputs": [
    {
     "data": {
      "image/png": "[encoded data removed]",
      "text/plain": [
       "<Figure size 720x1080 with 1 Axes>"
      ]
     },
     "metadata": {
      "needs_background": "light"
     },
     "output_type": "display_data"
    }
   ],
   "source": [
    "#для фильтрации и наглядности предоставляемых данных введем лимит в 3 млн копий\n",
    "games_box = games_box[games_box['total_sales'] < 3]\n",
    "games_box.boxplot('total_sales', by='platform', grid=True, figsize=(10, 15));"
   ]
  },
  {
   "cell_type": "markdown",
   "metadata": {},
   "source": [
    "Среди лидирующих платформ с датой выхода на рынок до 2013 года особенно сильно выделяется X360:\n",
    "* Медианные значения продаж по миру (50% данных, зеленая линия) выше, чем продажи у Wii и PS3;\n",
    "* Верхний квартиль (75% данных, верхняя синяя горизонтальная линия) выше, чем у у Wii и PS3;\n",
    "\n",
    "Среди потенциально прибыльных платформ XOne опережает PS4 как по медианным значениям, так и по верхнему квартилю и верхнему \"усу\" продаж в мире, однако у PS4 суественно больше \"хитов\", что подтверждается анализом графика п. 5.4, где PS4 уже со старта продаж уверенно обгоняет XOne, что связано с эксклюзивными для платформы играми, произведенными собственными студиями Sony.  \n",
    "\n",
    "Для дальнейшего анализа самой популярной и перспективной платформой будем считать PS4."
   ]
  },
  {
   "cell_type": "markdown",
   "metadata": {},
   "source": [
    "### Отзывы пользователей и критиков"
   ]
  },
  {
   "cell_type": "markdown",
   "metadata": {},
   "source": [
    "Оценим, как влияют на продажи внутри одной популярной платформы (PS4) отзывы пользователей и критиков."
   ]
  },
  {
   "cell_type": "markdown",
   "metadata": {},
   "source": [
    " Построим диаграмму рассеяния и посчитайте корреляцию между отзывами и продажами."
   ]
  },
  {
   "cell_type": "code",
   "execution_count": 55,
   "metadata": {
    "scrolled": true
   },
   "outputs": [
    {
     "data": {
      "image/png": "[encoded data removed]",
      "text/plain": [
       "<Figure size 864x864 with 9 Axes>"
      ]
     },
     "metadata": {
      "needs_background": "light"
     },
     "output_type": "display_data"
    }
   ],
   "source": [
    "#Диагональ матрицы - это гистограмма каждой функции\n",
    "#Построим матрицу рассеяния:\n",
    "pd.plotting.scatter_matrix(games.loc[games['platform'] == 'PS4'][['critic_score', 'user_score', 'total_sales']], \n",
    "                           alpha = 0.8, figsize = (12,12));"
   ]
  },
  {
   "cell_type": "markdown",
   "metadata": {},
   "source": [
    "Исходя из информации на графике выше, можно сделать вывод о наличии существенной связи между оценками игроков и критиков для популярной платформы: чем выше оценка у критиков, тем выше оценка у пользователей.\n",
    "\n",
    "Связь общего числа продаж для популярной платформы и оценок пользователей и критиков выглядит неоднозначной, оценим её численное значение."
   ]
  },
  {
   "cell_type": "code",
   "execution_count": 56,
   "metadata": {},
   "outputs": [
    {
     "name": "stdout",
     "output_type": "stream",
     "text": [
      "Корреляция продаж игр на PS4 и оценок критиков равна: 0.406567902061781\n"
     ]
    }
   ],
   "source": [
    "print ('Корреляция продаж игр на PS4 и оценок критиков равна:', \n",
    "       games.loc[games['platform'] == 'PS4', 'total_sales'].corr(games['critic_score']))"
   ]
  },
  {
   "cell_type": "markdown",
   "metadata": {},
   "source": [
    "Таким образом, мы можем сделать вывод о наличии слабой связи между оценками критиков и числом продаж игр по всему миру для популярной платформы."
   ]
  },
  {
   "cell_type": "code",
   "execution_count": 57,
   "metadata": {},
   "outputs": [
    {
     "name": "stdout",
     "output_type": "stream",
     "text": [
      "Корреляция продаж игр на PS4 и оценок пользователей (игроков) равна: -0.031957110204556424\n"
     ]
    }
   ],
   "source": [
    "print ('Корреляция продаж игр на PS4 и оценок пользователей (игроков) равна:', \n",
    "       games.loc[games['platform'] == 'PS4', 'total_sales'].corr(games['user_score']))"
   ]
  },
  {
   "cell_type": "markdown",
   "metadata": {},
   "source": [
    "Число продаж и оценки пользоватей отрицительно коррелированы и очень слабо связаны: чем выше продажи, тем меньше оценки пользователей, но только для некоторых проектов.  \n",
    "Вероятно, это связяно с желанием пользователей самостоятельно ознакомиться с плохим, по мнению других игроков, проектом. Однако, подобный путь развития продаж может привести к существенным репутационным потерям из-за общего негативного мнения о качестве игр на платформе."
   ]
  },
  {
   "cell_type": "markdown",
   "metadata": {},
   "source": [
    "Рассмотрим другие платформы:"
   ]
  },
  {
   "cell_type": "code",
   "execution_count": 58,
   "metadata": {},
   "outputs": [
    {
     "name": "stdout",
     "output_type": "stream",
     "text": [
      "Корреляция продаж игр на XOne и оценок критиков равна: 0.41699832800840175\n",
      "Корреляция продаж игр на XOne и оценок пользователей (игроков) равна: -0.06892505328279412\n"
     ]
    }
   ],
   "source": [
    "print ('Корреляция продаж игр на XOne и оценок критиков равна:', \n",
    "       games.loc[games['platform'] == 'XOne', 'total_sales'].corr(games['critic_score']))\n",
    "print ('Корреляция продаж игр на XOne и оценок пользователей (игроков) равна:', \n",
    "       games.loc[games['platform'] == 'XOne', 'total_sales'].corr(games['user_score']))"
   ]
  },
  {
   "cell_type": "code",
   "execution_count": 59,
   "metadata": {},
   "outputs": [
    {
     "name": "stdout",
     "output_type": "stream",
     "text": [
      "Корреляция продаж игр на PS3 и оценок критиков равна: 0.3314972592629587\n",
      "Корреляция продаж игр на PS3 и оценок пользователей (игроков) равна: -0.005143522887113816\n"
     ]
    }
   ],
   "source": [
    "print ('Корреляция продаж игр на PS3 и оценок критиков равна:', \n",
    "       games.loc[games['platform'] == 'PS3', 'total_sales'].corr(games['critic_score']))\n",
    "print ('Корреляция продаж игр на PS3 и оценок пользователей (игроков) равна:', \n",
    "       games.loc[games['platform'] == 'PS3', 'total_sales'].corr(games['user_score']))"
   ]
  },
  {
   "cell_type": "code",
   "execution_count": 60,
   "metadata": {
    "scrolled": true
   },
   "outputs": [
    {
     "name": "stdout",
     "output_type": "stream",
     "text": [
      "Корреляция продаж игр на Wii и оценок критиков равна: -0.4243413011077495\n",
      "Корреляция продаж игр на Wii и оценок пользователей (игроков) равна: 0.2961968000747953\n"
     ]
    }
   ],
   "source": [
    "print ('Корреляция продаж игр на Wii и оценок критиков равна:', \n",
    "       games.loc[games['platform'] == 'Wii', 'total_sales'].corr(games['critic_score']))\n",
    "print ('Корреляция продаж игр на Wii и оценок пользователей (игроков) равна:', \n",
    "       games.loc[games['platform'] == 'Wii', 'total_sales'].corr(games['user_score']))"
   ]
  },
  {
   "cell_type": "code",
   "execution_count": 61,
   "metadata": {
    "scrolled": true
   },
   "outputs": [
    {
     "name": "stdout",
     "output_type": "stream",
     "text": [
      "Корреляция продаж игр на X360 и оценок критиков равна: 0.36057348885073365\n",
      "Корреляция продаж игр на X360 и оценок пользователей (игроков) равна: 0.0061639786462133256\n"
     ]
    }
   ],
   "source": [
    "print ('Корреляция продаж игр на X360 и оценок критиков равна:', \n",
    "       games.loc[games['platform'] == 'X360', 'total_sales'].corr(games['critic_score']))\n",
    "print ('Корреляция продаж игр на X360 и оценок пользователей (игроков) равна:', \n",
    "       games.loc[games['platform'] == 'X360', 'total_sales'].corr(games['user_score']))"
   ]
  },
  {
   "cell_type": "markdown",
   "metadata": {},
   "source": [
    "В целом, на других платформах мы наблюдаем похожую картину связи продаж игр в мире с оценками пользователей для актуального периода."
   ]
  },
  {
   "cell_type": "markdown",
   "metadata": {},
   "source": [
    "### Распределение игр по жанрам"
   ]
  },
  {
   "cell_type": "markdown",
   "metadata": {},
   "source": [
    "Оценим визуально распределение количества игр по жанрам:"
   ]
  },
  {
   "cell_type": "code",
   "execution_count": 62,
   "metadata": {
    "scrolled": true
   },
   "outputs": [
    {
     "data": {
      "image/png": "[encoded data removed]",
      "text/plain": [
       "<Figure size 432x288 with 1 Axes>"
      ]
     },
     "metadata": {
      "needs_background": "light"
     },
     "output_type": "display_data"
    }
   ],
   "source": [
    "games_pivot = games.pivot_table(index=['genre'], values=['total_sales'], aggfunc='count')\n",
    "games_pivot = games_pivot.sort_values('total_sales', ascending=False)\n",
    "games_pivot.reset_index(inplace=True)\n",
    "games_pivot.plot(kind='bar', \n",
    "                  x='genre', \n",
    "                  y='total_sales', \n",
    "                  label='количество', \n",
    "                  color='g', \n",
    "                  alpha=0.3, \n",
    "                  width=0.2);\n",
    "\n",
    "#или games['genre'].value_counts().plot(kind='bar'), но так как-то красивее =)"
   ]
  },
  {
   "cell_type": "markdown",
   "metadata": {},
   "source": [
    "Больше всего игр жанра \"Action\", меньше всего игр жанра \"Puzzle\"."
   ]
  },
  {
   "cell_type": "markdown",
   "metadata": {},
   "source": [
    "Оценим численно распределение количества игр по жанрам:"
   ]
  },
  {
   "cell_type": "code",
   "execution_count": 63,
   "metadata": {
    "scrolled": false
   },
   "outputs": [
    {
     "data": {
      "text/plain": [
       "Action          1031\n",
       "Role-Playing     371\n",
       "Adventure        302\n",
       "Sports           268\n",
       "Shooter          235\n",
       "Misc             192\n",
       "Racing           115\n",
       "Fighting         109\n",
       "Platform          85\n",
       "Simulation        80\n",
       "Strategy          71\n",
       "Puzzle            28\n",
       "Name: genre, dtype: int64"
      ]
     },
     "execution_count": 63,
     "metadata": {},
     "output_type": "execute_result"
    }
   ],
   "source": [
    "games['genre'].value_counts()"
   ]
  },
  {
   "cell_type": "markdown",
   "metadata": {},
   "source": [
    "Оценим суммарное число продаж игр в мире в зависимости от жанра игр:"
   ]
  },
  {
   "cell_type": "code",
   "execution_count": 64,
   "metadata": {},
   "outputs": [
    {
     "data": {
      "image/png": "[encoded data removed]",
      "text/plain": [
       "<Figure size 432x288 with 1 Axes>"
      ]
     },
     "metadata": {
      "needs_background": "light"
     },
     "output_type": "display_data"
    }
   ],
   "source": [
    "games_pivot = games.pivot_table(index=['genre'], values=['total_sales'], aggfunc='sum')\n",
    "games_pivot = games_pivot.sort_values('total_sales', ascending=False)\n",
    "games_pivot.reset_index(inplace=True)\n",
    "games_pivot.plot(kind='bar', \n",
    "                  x='genre', \n",
    "                  y='total_sales', \n",
    "                  label='продажи, млн. копий', \n",
    "                  color='r', \n",
    "                  alpha=0.3, \n",
    "                  width=0.2);"
   ]
  },
  {
   "cell_type": "markdown",
   "metadata": {},
   "source": [
    "Таким образом, можно сделать вывод, что игры жанра \"Action\" продаются лучше всего. При этом игры жанра \"Strategy\" имеют самые низкие продажи, однако всё равно остаются востребованным нишевым продуктом."
   ]
  },
  {
   "cell_type": "markdown",
   "metadata": {},
   "source": [
    "## Портрет пользователя каждого региона"
   ]
  },
  {
   "cell_type": "markdown",
   "metadata": {},
   "source": [
    "### Пользователи региона NA"
   ]
  },
  {
   "cell_type": "markdown",
   "metadata": {},
   "source": [
    "* Самые популярные платформы:"
   ]
  },
  {
   "cell_type": "code",
   "execution_count": 65,
   "metadata": {},
   "outputs": [
    {
     "data": {
      "image/png": "[encoded data removed]",
      "text/plain": [
       "<Figure size 432x288 with 1 Axes>"
      ]
     },
     "metadata": {
      "needs_background": "light"
     },
     "output_type": "display_data"
    }
   ],
   "source": [
    "#группируем по типу платформы, складываем по продажам в NA, сортируем значения по убыванию, выводим первые 5 на гистограмму\n",
    "(games.groupby(by='platform')\n",
    " .agg({'na_sales':'sum'})\n",
    " .sort_values(by='na_sales', ascending=False)\n",
    " .head(5)\n",
    " .plot(kind='bar')\n",
    ");"
   ]
  },
  {
   "cell_type": "markdown",
   "metadata": {},
   "source": [
    "* Самые популярные жанры:"
   ]
  },
  {
   "cell_type": "code",
   "execution_count": 66,
   "metadata": {},
   "outputs": [
    {
     "data": {
      "image/png": "[encoded data removed]",
      "text/plain": [
       "<Figure size 432x288 with 1 Axes>"
      ]
     },
     "metadata": {
      "needs_background": "light"
     },
     "output_type": "display_data"
    }
   ],
   "source": [
    "(games.groupby(by='genre')\n",
    " .agg({'na_sales':'sum'})\n",
    " .sort_values(by='na_sales', ascending=False)\n",
    " .head(5)\n",
    " .plot(kind='bar')\n",
    ");"
   ]
  },
  {
   "cell_type": "markdown",
   "metadata": {},
   "source": [
    "* Влияние рейтинга:"
   ]
  },
  {
   "cell_type": "code",
   "execution_count": 67,
   "metadata": {},
   "outputs": [
    {
     "data": {
      "image/png": "[encoded data removed]",
      "text/plain": [
       "<Figure size 432x288 with 1 Axes>"
      ]
     },
     "metadata": {
      "needs_background": "light"
     },
     "output_type": "display_data"
    }
   ],
   "source": [
    "(games.groupby(by='rating')\n",
    " .agg({'na_sales':'sum'})\n",
    " .sort_values(by='na_sales', ascending=False)\n",
    " .head(5)\n",
    " .plot(kind='bar')\n",
    ");"
   ]
  },
  {
   "cell_type": "markdown",
   "metadata": {},
   "source": [
    "**Вывод:**\n",
    "Типичный пользователь региона NA играет на X360 в игры жанра \"Action\" с рейтингом \"M\" (от 17 лет)."
   ]
  },
  {
   "cell_type": "markdown",
   "metadata": {},
   "source": [
    "### Пользователи региона EU"
   ]
  },
  {
   "cell_type": "markdown",
   "metadata": {},
   "source": [
    "* Самые популярные платформы:"
   ]
  },
  {
   "cell_type": "code",
   "execution_count": 68,
   "metadata": {},
   "outputs": [
    {
     "data": {
      "image/png": "[encoded data removed]",
      "text/plain": [
       "<Figure size 432x288 with 1 Axes>"
      ]
     },
     "metadata": {
      "needs_background": "light"
     },
     "output_type": "display_data"
    }
   ],
   "source": [
    "(games.groupby(by='platform')\n",
    " .agg({'eu_sales':'sum'})\n",
    " .sort_values(by='eu_sales', ascending=False)\n",
    " .head(5)\n",
    " .plot(kind='bar')\n",
    ");"
   ]
  },
  {
   "cell_type": "markdown",
   "metadata": {},
   "source": [
    "* Самые популярные жанры:"
   ]
  },
  {
   "cell_type": "code",
   "execution_count": 69,
   "metadata": {},
   "outputs": [
    {
     "data": {
      "image/png": "[encoded data removed]",
      "text/plain": [
       "<Figure size 432x288 with 1 Axes>"
      ]
     },
     "metadata": {
      "needs_background": "light"
     },
     "output_type": "display_data"
    }
   ],
   "source": [
    "(games.groupby(by='genre')\n",
    " .agg({'eu_sales':'sum'})\n",
    " .sort_values(by='eu_sales', ascending=False)\n",
    " .head(5)\n",
    " .plot(kind='bar')\n",
    ");"
   ]
  },
  {
   "cell_type": "markdown",
   "metadata": {},
   "source": [
    "* Влияние рейтинга:"
   ]
  },
  {
   "cell_type": "code",
   "execution_count": 70,
   "metadata": {},
   "outputs": [
    {
     "data": {
      "image/png": "[encoded data removed]",
      "text/plain": [
       "<Figure size 432x288 with 1 Axes>"
      ]
     },
     "metadata": {
      "needs_background": "light"
     },
     "output_type": "display_data"
    }
   ],
   "source": [
    "(games.groupby(by='rating')\n",
    " .agg({'eu_sales':'sum'})\n",
    " .sort_values(by='eu_sales', ascending=False)\n",
    " .head(5)\n",
    " .plot(kind='bar')\n",
    ");"
   ]
  },
  {
   "cell_type": "markdown",
   "metadata": {},
   "source": [
    "**Вывод:**\n",
    "Типичный пользователь региона EU играет на PS4 в игры жанра \"Action\" с рейтингом \"М\" (от 17 лет)."
   ]
  },
  {
   "cell_type": "markdown",
   "metadata": {},
   "source": [
    "### Пользователи региона JP"
   ]
  },
  {
   "cell_type": "markdown",
   "metadata": {},
   "source": [
    "* Самые популярные платформы:"
   ]
  },
  {
   "cell_type": "code",
   "execution_count": 71,
   "metadata": {},
   "outputs": [
    {
     "data": {
      "image/png": "[encoded data removed]",
      "text/plain": [
       "<Figure size 432x288 with 1 Axes>"
      ]
     },
     "metadata": {
      "needs_background": "light"
     },
     "output_type": "display_data"
    }
   ],
   "source": [
    "(games.groupby(by='platform')\n",
    " .agg({'jp_sales':'sum'})\n",
    " .sort_values(by='jp_sales', ascending=False)\n",
    " .head(5)\n",
    " .plot(kind='bar')\n",
    ");"
   ]
  },
  {
   "cell_type": "markdown",
   "metadata": {},
   "source": [
    "* Самые популярные жанры:"
   ]
  },
  {
   "cell_type": "code",
   "execution_count": 72,
   "metadata": {},
   "outputs": [
    {
     "data": {
      "image/png": "[encoded data removed]",
      "text/plain": [
       "<Figure size 432x288 with 1 Axes>"
      ]
     },
     "metadata": {
      "needs_background": "light"
     },
     "output_type": "display_data"
    }
   ],
   "source": [
    "(games.groupby(by='genre')\n",
    " .agg({'jp_sales':'sum'})\n",
    " .sort_values(by='jp_sales', ascending=False)\n",
    " .head(5)\n",
    " .plot(kind='bar')\n",
    ");"
   ]
  },
  {
   "cell_type": "markdown",
   "metadata": {},
   "source": [
    "* Влияние рейтинга:"
   ]
  },
  {
   "cell_type": "code",
   "execution_count": 73,
   "metadata": {},
   "outputs": [
    {
     "data": {
      "image/png": "[encoded data removed]",
      "text/plain": [
       "<Figure size 432x288 with 1 Axes>"
      ]
     },
     "metadata": {
      "needs_background": "light"
     },
     "output_type": "display_data"
    }
   ],
   "source": [
    "(games.groupby(by='rating')\n",
    " .agg({'jp_sales':'sum'})\n",
    " .sort_values(by='jp_sales', ascending=False)\n",
    " .head(5)\n",
    " .plot(kind='bar')\n",
    ");"
   ]
  },
  {
   "cell_type": "markdown",
   "metadata": {},
   "source": [
    "**Вывод:**\n",
    "Типичный пользователь региона JP играет на 3DS в игры жанра \"Role-Playing\" с рейтингом \"E\" (для всех)."
   ]
  },
  {
   "cell_type": "markdown",
   "metadata": {},
   "source": [
    "### Общий вывод по портрету пользователя"
   ]
  },
  {
   "cell_type": "markdown",
   "metadata": {},
   "source": [
    "Ранее, мы получили выводы для типичного игрока по каждому региону:  \n",
    "* Типичный пользователь региона NA играет на X360 в игры жанра \"Action\" с рейтингом \"M\" (от 17 лет).\n",
    "* Типичный пользователь региона EU играет на PS4 в игры жанра \"Action\" с рейтингом \"М\" (от 17 лет).\n",
    "* Типичный пользователь региона JP играет на 3DS в игры жанра \"Role-Playing\" с рейтингом \"E\" (для всех).\n",
    "\n",
    "Расхождение в популярных платформах может быть связано с агрессивной рекламной компанией определенных производителей платформ в отдельном регионе.  \n",
    "Различия в популярных жанрах, вероятно, связаны с культурными особенностями общества каждого региона.  \n",
    "При этом во всех регионах лучше всего продаются игры с ретингом \"для всех\"."
   ]
  },
  {
   "cell_type": "markdown",
   "metadata": {},
   "source": [
    "## Проверка гипотез"
   ]
  },
  {
   "cell_type": "markdown",
   "metadata": {},
   "source": [
    "### Средние пользовательские рейтинги платформ Xbox One и PC"
   ]
  },
  {
   "cell_type": "markdown",
   "metadata": {},
   "source": [
    "_Нулевая гипотеза:_ Средние пользовательские рейтинги платформ Xbox One и PC одинаковые.  \n",
    "_Альтернативная гипотеза:_ Средние пользовательские рейтинги платформ Xbox One и PC различаются. "
   ]
  },
  {
   "cell_type": "code",
   "execution_count": 74,
   "metadata": {},
   "outputs": [
    {
     "name": "stdout",
     "output_type": "stream",
     "text": [
      "Дисперсия пользовательских оценок игр для платформы Xbox One: 1.9069968429360693\n"
     ]
    }
   ],
   "source": [
    "print('Дисперсия пользовательских оценок игр для платформы Xbox One:', \n",
    "      games.loc[games['platform'] == 'XOne', 'user_score'].describe()['std'] ** 2)"
   ]
  },
  {
   "cell_type": "code",
   "execution_count": 75,
   "metadata": {},
   "outputs": [
    {
     "name": "stdout",
     "output_type": "stream",
     "text": [
      "Дисперсия пользовательских оценок игр для платформы PC: 2.770443997158418\n"
     ]
    }
   ],
   "source": [
    "print('Дисперсия пользовательских оценок игр для платформы PC:', \n",
    "      games.loc[games['platform'] == 'PC', 'user_score'].describe()['std'] ** 2)"
   ]
  },
  {
   "cell_type": "markdown",
   "metadata": {},
   "source": [
    "Следовательно, дисперсии наших выборок отличаются."
   ]
  },
  {
   "cell_type": "markdown",
   "metadata": {},
   "source": [
    "Критический уровень значимости зададим равным 0.05, чтобы вероятность правильности вывода была равна 95% и более."
   ]
  },
  {
   "cell_type": "code",
   "execution_count": 76,
   "metadata": {},
   "outputs": [],
   "source": [
    "games = games.dropna(subset=['user_score']).reset_index(drop=True)"
   ]
  },
  {
   "cell_type": "code",
   "execution_count": 77,
   "metadata": {},
   "outputs": [
    {
     "name": "stdout",
     "output_type": "stream",
     "text": [
      "P-value: 0.5489537965134912\n",
      "Не получилось отвергнуть нулевую гипотезу\n"
     ]
    }
   ],
   "source": [
    "#Используем метод scipy.stats.ttest_ind (array1, array2, equal_var = False)\n",
    "#False - потому что дисперсии наших выборок отличаются\n",
    "#ttest_ind - так как выборки независимые\n",
    "alpha = 0.05\n",
    "results = st.ttest_ind(games.loc[games['platform'] == 'XOne', 'user_score'],\n",
    "                       games.loc[games['platform'] == 'PC', 'user_score'],\n",
    "                       equal_var = False)\n",
    "\n",
    "print('P-value:', results.pvalue)\n",
    "\n",
    "if (results.pvalue < alpha):\n",
    "    print(\"Отвергаем нулевую гипотезу\")\n",
    "else:\n",
    "    print(\"Не получилось отвергнуть нулевую гипотезу\")"
   ]
  },
  {
   "cell_type": "markdown",
   "metadata": {},
   "source": [
    "**Вывод** Средние пользовательские рейтинги платформ Xbox One и PC одинаковые."
   ]
  },
  {
   "cell_type": "markdown",
   "metadata": {},
   "source": [
    "### Средние пользовательские рейтинги жанров Action и Sports."
   ]
  },
  {
   "cell_type": "markdown",
   "metadata": {},
   "source": [
    "_Нулевая гипотеза:_ Средние пользовательские рейтинги жанров Action и Sports одинаковые.  \n",
    "_Альтернативная гипотеза:_ Средние пользовательские рейтинги жанров Action и Sports различаются. "
   ]
  },
  {
   "cell_type": "code",
   "execution_count": 78,
   "metadata": {},
   "outputs": [
    {
     "name": "stdout",
     "output_type": "stream",
     "text": [
      "Дисперсия пользовательских оценок игр для жанра Action: 1.8890840494348111\n"
     ]
    }
   ],
   "source": [
    "print('Дисперсия пользовательских оценок игр для жанра Action:', \n",
    "      games.loc[games['genre'] == 'Action', 'user_score'].describe()['std'] ** 2)"
   ]
  },
  {
   "cell_type": "code",
   "execution_count": 79,
   "metadata": {},
   "outputs": [
    {
     "name": "stdout",
     "output_type": "stream",
     "text": [
      "Дисперсия пользовательских оценок игр для жанра Sports: 3.0228902987047315\n"
     ]
    }
   ],
   "source": [
    "print('Дисперсия пользовательских оценок игр для жанра Sports:', \n",
    "      games.loc[games['genre'] == 'Sports', 'user_score'].describe()['std'] ** 2)"
   ]
  },
  {
   "cell_type": "markdown",
   "metadata": {},
   "source": [
    "Следовательно, дисперсии наших выборок отличаются."
   ]
  },
  {
   "cell_type": "markdown",
   "metadata": {},
   "source": [
    "Критический уровень значимости зададим равным 0.05, чтобы вероятность правильности вывода была равна 95% и более."
   ]
  },
  {
   "cell_type": "code",
   "execution_count": 80,
   "metadata": {},
   "outputs": [
    {
     "name": "stdout",
     "output_type": "stream",
     "text": [
      "P-value: 4.24307776572644e-20\n",
      "Отвергаем нулевую гипотезу\n"
     ]
    }
   ],
   "source": [
    "alpha = 0.05\n",
    "results = st.ttest_ind(games.loc[games['genre'] == 'Action', 'user_score'],\n",
    "                       games.loc[games['genre'] == 'Sports', 'user_score'],\n",
    "                       equal_var = False)\n",
    "\n",
    "print('P-value:', results.pvalue)\n",
    "\n",
    "if (results.pvalue < alpha):\n",
    "    print(\"Отвергаем нулевую гипотезу\")\n",
    "else:\n",
    "    print(\"Не получилось отвергнуть нулевую гипотезу\")"
   ]
  },
  {
   "cell_type": "markdown",
   "metadata": {},
   "source": [
    "**Вывод** Средние пользовательские рейтинги жанров Action и Sports различаются."
   ]
  },
  {
   "cell_type": "markdown",
   "metadata": {},
   "source": [
    "## Общий вывод"
   ]
  },
  {
   "cell_type": "markdown",
   "metadata": {},
   "source": [
    "Для выявление определяющих успешность игры закономерностей и прогноз потенциально популярного продукта для дальнего планирования рекламных кампаний необходимо учитывать следующие факторы:\n",
    "* К концу рассматриваемого периода времени продажи игр имеют тенденцию к снижению\n",
    "* Потенциально прибыльными платформами для игр являются PS4 и XOne\n",
    "* Самым популярным и продаваемым в мире жанром является жанр \"Action\"\n",
    "* Отзывы критиков слабо влияют на продажи\n",
    "* Отзывы пользователей практически не влияют на продажи\n",
    "* Наиболее успешны игры с рейтингом \"Е\" (для всех) и \"M\" (от 17 лет).\n",
    "\n",
    "При этом для конкретного региона:\n",
    "* Типичный пользователь региона NA играет на X360 в игры жанра \"Action\" с рейтингом \"M\" (от 17 лет).\n",
    "* Типичный пользователь региона EU играет на PS4 в игры жанра \"Action\" с рейтингом \"М\" (от 17 лет).\n",
    "* Типичный пользователь региона JP играет на 3DS в игры жанра \"Role-Playing\" с рейтингом \"E\" (для всех).\n",
    "\n",
    "Следовательно, потенциально успешным решением будет реализация игры жанра \"Action\" с рейтингом \"E\" или \"М\" с элементами RPG на платформах PS4 и XOne и дальнейшая рекламная компания в СМИ для образования сообщества фанатов, ряд которых необходимо привлекать на этапе бета-тестирования игры."
   ]
  }
 ],
 "metadata": {
  "ExecuteTimeLog": [
   {
    "duration": 1234,
    "start_time": "2022-01-10T19:57:54.110Z"
   },
   {
    "duration": 9,
    "start_time": "2022-01-10T19:59:58.304Z"
   },
   {
    "duration": 47,
    "start_time": "2022-01-10T20:00:28.240Z"
   },
   {
    "duration": 47,
    "start_time": "2022-01-10T20:02:10.623Z"
   },
   {
    "duration": 46,
    "start_time": "2022-01-10T20:02:54.307Z"
   },
   {
    "duration": 13,
    "start_time": "2022-01-10T20:03:48.521Z"
   },
   {
    "duration": 9,
    "start_time": "2022-01-10T20:04:27.590Z"
   },
   {
    "duration": 15,
    "start_time": "2022-01-10T20:06:15.387Z"
   },
   {
    "duration": 13,
    "start_time": "2022-01-10T20:09:04.264Z"
   },
   {
    "duration": 27,
    "start_time": "2022-01-10T20:15:33.954Z"
   },
   {
    "duration": 441,
    "start_time": "2022-01-10T20:22:36.013Z"
   },
   {
    "duration": 11,
    "start_time": "2022-01-10T20:23:49.738Z"
   },
   {
    "duration": 8,
    "start_time": "2022-01-10T20:24:01.824Z"
   },
   {
    "duration": 7,
    "start_time": "2022-01-10T20:24:47.533Z"
   },
   {
    "duration": 481,
    "start_time": "2022-01-10T20:27:21.191Z"
   },
   {
    "duration": 5,
    "start_time": "2022-01-10T20:28:02.663Z"
   },
   {
    "duration": 4,
    "start_time": "2022-01-10T20:29:03.722Z"
   },
   {
    "duration": 11,
    "start_time": "2022-01-10T20:30:38.173Z"
   },
   {
    "duration": 11,
    "start_time": "2022-01-10T20:32:18.266Z"
   },
   {
    "duration": 331,
    "start_time": "2022-01-11T15:15:40.581Z"
   },
   {
    "duration": 1052,
    "start_time": "2022-01-11T15:15:46.776Z"
   },
   {
    "duration": 17,
    "start_time": "2022-01-11T15:15:47.830Z"
   },
   {
    "duration": 37,
    "start_time": "2022-01-11T15:15:47.849Z"
   },
   {
    "duration": 34,
    "start_time": "2022-01-11T15:15:47.888Z"
   },
   {
    "duration": 38,
    "start_time": "2022-01-11T15:15:47.923Z"
   },
   {
    "duration": 7,
    "start_time": "2022-01-11T15:15:47.962Z"
   },
   {
    "duration": 32,
    "start_time": "2022-01-11T15:15:47.971Z"
   },
   {
    "duration": 13,
    "start_time": "2022-01-11T15:15:48.005Z"
   },
   {
    "duration": 22,
    "start_time": "2022-01-11T15:15:48.019Z"
   },
   {
    "duration": 13,
    "start_time": "2022-01-11T15:16:09.067Z"
   },
   {
    "duration": 5,
    "start_time": "2022-01-11T15:17:13.966Z"
   },
   {
    "duration": 341,
    "start_time": "2022-01-11T15:20:48.604Z"
   },
   {
    "duration": 7,
    "start_time": "2022-01-11T15:20:55.510Z"
   },
   {
    "duration": 5,
    "start_time": "2022-01-11T15:21:09.145Z"
   },
   {
    "duration": 6,
    "start_time": "2022-01-11T15:22:13.911Z"
   },
   {
    "duration": 5,
    "start_time": "2022-01-11T15:22:27.337Z"
   },
   {
    "duration": 5,
    "start_time": "2022-01-11T15:22:57.312Z"
   },
   {
    "duration": 5,
    "start_time": "2022-01-11T15:23:44.572Z"
   },
   {
    "duration": 7,
    "start_time": "2022-01-11T15:23:57.678Z"
   },
   {
    "duration": 5,
    "start_time": "2022-01-11T15:26:22.513Z"
   },
   {
    "duration": 5,
    "start_time": "2022-01-11T15:26:35.968Z"
   },
   {
    "duration": 5,
    "start_time": "2022-01-11T15:26:39.556Z"
   },
   {
    "duration": 5,
    "start_time": "2022-01-11T15:26:48.968Z"
   },
   {
    "duration": 5,
    "start_time": "2022-01-11T15:27:01.187Z"
   },
   {
    "duration": 6,
    "start_time": "2022-01-11T15:27:16.767Z"
   },
   {
    "duration": 248,
    "start_time": "2022-01-11T15:29:25.001Z"
   },
   {
    "duration": 7,
    "start_time": "2022-01-11T15:29:31.986Z"
   },
   {
    "duration": 5,
    "start_time": "2022-01-11T15:29:40.219Z"
   },
   {
    "duration": 5,
    "start_time": "2022-01-11T15:29:46.474Z"
   },
   {
    "duration": 5,
    "start_time": "2022-01-11T15:30:13.471Z"
   },
   {
    "duration": 375,
    "start_time": "2022-01-11T16:26:00.991Z"
   },
   {
    "duration": 5,
    "start_time": "2022-01-11T16:26:38.453Z"
   },
   {
    "duration": 6,
    "start_time": "2022-01-11T16:26:54.142Z"
   },
   {
    "duration": 6,
    "start_time": "2022-01-11T16:27:08.422Z"
   },
   {
    "duration": 6,
    "start_time": "2022-01-11T16:27:37.719Z"
   },
   {
    "duration": 5,
    "start_time": "2022-01-11T16:27:48.272Z"
   },
   {
    "duration": 3,
    "start_time": "2022-01-11T16:33:24.503Z"
   },
   {
    "duration": 1291,
    "start_time": "2022-01-11T16:34:18.802Z"
   },
   {
    "duration": 4690,
    "start_time": "2022-01-11T16:38:28.535Z"
   },
   {
    "duration": 5256,
    "start_time": "2022-01-11T16:46:46.040Z"
   },
   {
    "duration": 79,
    "start_time": "2022-01-11T16:48:39.495Z"
   },
   {
    "duration": 121,
    "start_time": "2022-01-11T16:49:07.535Z"
   },
   {
    "duration": 278,
    "start_time": "2022-01-11T16:49:30.457Z"
   },
   {
    "duration": 251,
    "start_time": "2022-01-11T16:49:48.876Z"
   },
   {
    "duration": 13,
    "start_time": "2022-01-11T16:50:50.656Z"
   },
   {
    "duration": 9,
    "start_time": "2022-01-11T16:57:13.629Z"
   },
   {
    "duration": 9,
    "start_time": "2022-01-11T16:58:45.099Z"
   },
   {
    "duration": 10,
    "start_time": "2022-01-11T16:59:04.473Z"
   },
   {
    "duration": 9,
    "start_time": "2022-01-11T16:59:28.523Z"
   },
   {
    "duration": 7,
    "start_time": "2022-01-11T17:04:00.727Z"
   },
   {
    "duration": 9,
    "start_time": "2022-01-11T17:08:34.559Z"
   },
   {
    "duration": 5,
    "start_time": "2022-01-11T17:13:55.461Z"
   },
   {
    "duration": 274,
    "start_time": "2022-01-11T17:16:14.873Z"
   },
   {
    "duration": 10,
    "start_time": "2022-01-11T17:16:34.344Z"
   },
   {
    "duration": 6,
    "start_time": "2022-01-11T17:17:02.022Z"
   },
   {
    "duration": 9,
    "start_time": "2022-01-11T17:19:08.490Z"
   },
   {
    "duration": 8,
    "start_time": "2022-01-11T17:19:35.786Z"
   },
   {
    "duration": 10,
    "start_time": "2022-01-11T17:22:59.519Z"
   },
   {
    "duration": 10,
    "start_time": "2022-01-11T17:23:23.672Z"
   },
   {
    "duration": 10,
    "start_time": "2022-01-11T17:23:25.806Z"
   },
   {
    "duration": 242,
    "start_time": "2022-01-11T17:24:46.686Z"
   },
   {
    "duration": 8,
    "start_time": "2022-01-11T17:24:52.511Z"
   },
   {
    "duration": 7,
    "start_time": "2022-01-11T17:25:05.593Z"
   },
   {
    "duration": 8,
    "start_time": "2022-01-11T17:26:40.030Z"
   },
   {
    "duration": 9,
    "start_time": "2022-01-11T17:26:54.060Z"
   },
   {
    "duration": 10,
    "start_time": "2022-01-11T17:28:44.120Z"
   },
   {
    "duration": 8,
    "start_time": "2022-01-11T17:28:56.880Z"
   },
   {
    "duration": 9,
    "start_time": "2022-01-11T17:33:37.167Z"
   },
   {
    "duration": 9,
    "start_time": "2022-01-11T17:34:04.077Z"
   },
   {
    "duration": 8,
    "start_time": "2022-01-11T17:37:50.132Z"
   },
   {
    "duration": 10,
    "start_time": "2022-01-11T17:42:03.362Z"
   },
   {
    "duration": 7,
    "start_time": "2022-01-11T17:42:22.800Z"
   },
   {
    "duration": 6697,
    "start_time": "2022-01-11T17:51:01.411Z"
   },
   {
    "duration": 10,
    "start_time": "2022-01-11T17:53:43.020Z"
   },
   {
    "duration": 5,
    "start_time": "2022-01-11T17:53:55.764Z"
   },
   {
    "duration": 1047,
    "start_time": "2022-01-11T18:50:18.799Z"
   },
   {
    "duration": 16,
    "start_time": "2022-01-11T18:50:19.848Z"
   },
   {
    "duration": 18,
    "start_time": "2022-01-11T18:50:19.866Z"
   },
   {
    "duration": 17,
    "start_time": "2022-01-11T18:50:19.886Z"
   },
   {
    "duration": 25,
    "start_time": "2022-01-11T18:50:19.904Z"
   },
   {
    "duration": 7,
    "start_time": "2022-01-11T18:50:19.940Z"
   },
   {
    "duration": 13,
    "start_time": "2022-01-11T18:50:19.949Z"
   },
   {
    "duration": 4,
    "start_time": "2022-01-11T18:50:19.964Z"
   },
   {
    "duration": 11,
    "start_time": "2022-01-11T18:50:19.970Z"
   },
   {
    "duration": 7,
    "start_time": "2022-01-11T18:50:19.983Z"
   },
   {
    "duration": 12,
    "start_time": "2022-01-11T18:50:19.991Z"
   },
   {
    "duration": 14,
    "start_time": "2022-01-11T18:50:20.004Z"
   },
   {
    "duration": 7,
    "start_time": "2022-01-11T18:50:20.041Z"
   },
   {
    "duration": 14,
    "start_time": "2022-01-11T18:50:20.050Z"
   },
   {
    "duration": 18,
    "start_time": "2022-01-11T18:50:20.065Z"
   },
   {
    "duration": 15,
    "start_time": "2022-01-11T18:50:20.085Z"
   },
   {
    "duration": 28,
    "start_time": "2022-01-11T18:50:20.102Z"
   },
   {
    "duration": 20,
    "start_time": "2022-01-11T18:50:20.132Z"
   },
   {
    "duration": 16,
    "start_time": "2022-01-11T18:50:20.153Z"
   },
   {
    "duration": 24,
    "start_time": "2022-01-11T18:50:20.170Z"
   },
   {
    "duration": 17,
    "start_time": "2022-01-11T18:50:20.196Z"
   },
   {
    "duration": 16,
    "start_time": "2022-01-11T18:50:20.215Z"
   },
   {
    "duration": 23,
    "start_time": "2022-01-11T18:50:20.234Z"
   },
   {
    "duration": 18,
    "start_time": "2022-01-11T18:50:20.259Z"
   },
   {
    "duration": 12,
    "start_time": "2022-01-11T18:50:20.279Z"
   },
   {
    "duration": 19,
    "start_time": "2022-01-11T18:50:20.292Z"
   },
   {
    "duration": 21,
    "start_time": "2022-01-11T18:50:20.313Z"
   },
   {
    "duration": 12,
    "start_time": "2022-01-11T18:50:20.335Z"
   },
   {
    "duration": 10,
    "start_time": "2022-01-11T18:50:20.348Z"
   },
   {
    "duration": 11,
    "start_time": "2022-01-11T18:50:20.360Z"
   },
   {
    "duration": 9,
    "start_time": "2022-01-11T18:50:20.372Z"
   },
   {
    "duration": 11,
    "start_time": "2022-01-11T18:50:20.383Z"
   },
   {
    "duration": 11,
    "start_time": "2022-01-11T18:51:37.124Z"
   },
   {
    "duration": 38,
    "start_time": "2022-01-11T18:51:42.114Z"
   },
   {
    "duration": 15,
    "start_time": "2022-01-11T18:51:42.153Z"
   },
   {
    "duration": 10,
    "start_time": "2022-01-11T18:51:42.170Z"
   },
   {
    "duration": 15,
    "start_time": "2022-01-11T18:51:42.182Z"
   },
   {
    "duration": 51,
    "start_time": "2022-01-11T18:51:42.198Z"
   },
   {
    "duration": 7,
    "start_time": "2022-01-11T18:51:42.250Z"
   },
   {
    "duration": 12,
    "start_time": "2022-01-11T18:51:42.258Z"
   },
   {
    "duration": 4,
    "start_time": "2022-01-11T18:51:42.272Z"
   },
   {
    "duration": 9,
    "start_time": "2022-01-11T18:51:42.278Z"
   },
   {
    "duration": 4,
    "start_time": "2022-01-11T18:51:42.289Z"
   },
   {
    "duration": 13,
    "start_time": "2022-01-11T18:51:42.295Z"
   },
   {
    "duration": 10,
    "start_time": "2022-01-11T18:51:42.341Z"
   },
   {
    "duration": 8,
    "start_time": "2022-01-11T18:51:42.352Z"
   },
   {
    "duration": 8,
    "start_time": "2022-01-11T18:51:42.362Z"
   },
   {
    "duration": 5,
    "start_time": "2022-01-11T18:51:42.372Z"
   },
   {
    "duration": 14,
    "start_time": "2022-01-11T18:51:42.379Z"
   },
   {
    "duration": 12,
    "start_time": "2022-01-11T18:51:42.394Z"
   },
   {
    "duration": 13,
    "start_time": "2022-01-11T18:51:42.407Z"
   },
   {
    "duration": 26,
    "start_time": "2022-01-11T18:51:42.421Z"
   },
   {
    "duration": 6,
    "start_time": "2022-01-11T18:51:42.448Z"
   },
   {
    "duration": 7,
    "start_time": "2022-01-11T18:51:42.456Z"
   },
   {
    "duration": 9,
    "start_time": "2022-01-11T18:51:42.464Z"
   },
   {
    "duration": 10,
    "start_time": "2022-01-11T18:51:42.476Z"
   },
   {
    "duration": 7,
    "start_time": "2022-01-11T18:51:42.487Z"
   },
   {
    "duration": 8,
    "start_time": "2022-01-11T18:51:42.496Z"
   },
   {
    "duration": 38,
    "start_time": "2022-01-11T18:51:42.505Z"
   },
   {
    "duration": 6,
    "start_time": "2022-01-11T18:51:42.544Z"
   },
   {
    "duration": 8,
    "start_time": "2022-01-11T18:51:42.552Z"
   },
   {
    "duration": 13,
    "start_time": "2022-01-11T18:51:42.561Z"
   },
   {
    "duration": 13,
    "start_time": "2022-01-11T18:51:42.575Z"
   },
   {
    "duration": 10,
    "start_time": "2022-01-11T18:51:42.590Z"
   },
   {
    "duration": 13,
    "start_time": "2022-01-11T18:51:42.601Z"
   },
   {
    "duration": 11,
    "start_time": "2022-01-11T18:51:42.615Z"
   },
   {
    "duration": 6,
    "start_time": "2022-01-11T18:52:02.852Z"
   },
   {
    "duration": 7,
    "start_time": "2022-01-11T18:52:19.113Z"
   },
   {
    "duration": 12,
    "start_time": "2022-01-11T18:52:51.389Z"
   },
   {
    "duration": 5,
    "start_time": "2022-01-11T18:54:24.832Z"
   },
   {
    "duration": 13,
    "start_time": "2022-01-11T18:54:30.584Z"
   },
   {
    "duration": 13,
    "start_time": "2022-01-11T19:05:57.576Z"
   },
   {
    "duration": 307,
    "start_time": "2022-01-11T19:09:22.281Z"
   },
   {
    "duration": 11,
    "start_time": "2022-01-11T19:09:27.402Z"
   },
   {
    "duration": 16,
    "start_time": "2022-01-11T19:09:31.474Z"
   },
   {
    "duration": 6,
    "start_time": "2022-01-11T19:10:57.186Z"
   },
   {
    "duration": 19,
    "start_time": "2022-01-11T19:11:29.316Z"
   },
   {
    "duration": 14,
    "start_time": "2022-01-11T19:11:55.029Z"
   },
   {
    "duration": 19,
    "start_time": "2022-01-11T19:13:31.679Z"
   },
   {
    "duration": 9,
    "start_time": "2022-01-11T19:14:07.890Z"
   },
   {
    "duration": 7264,
    "start_time": "2022-01-11T19:14:59.788Z"
   },
   {
    "duration": 10,
    "start_time": "2022-01-11T19:15:17.419Z"
   },
   {
    "duration": 11,
    "start_time": "2022-01-11T19:15:21.808Z"
   },
   {
    "duration": 8,
    "start_time": "2022-01-11T19:15:56.959Z"
   },
   {
    "duration": 166,
    "start_time": "2022-01-11T19:16:24.953Z"
   },
   {
    "duration": 317,
    "start_time": "2022-01-11T19:18:07.162Z"
   },
   {
    "duration": 258,
    "start_time": "2022-01-11T19:20:03.792Z"
   },
   {
    "duration": 459,
    "start_time": "2022-01-11T19:25:30.277Z"
   },
   {
    "duration": 244,
    "start_time": "2022-01-11T19:26:27.574Z"
   },
   {
    "duration": 5,
    "start_time": "2022-01-11T19:28:03.220Z"
   },
   {
    "duration": 6,
    "start_time": "2022-01-11T19:28:14.816Z"
   },
   {
    "duration": 345,
    "start_time": "2022-01-11T19:29:29.505Z"
   },
   {
    "duration": 233,
    "start_time": "2022-01-11T19:30:09.342Z"
   },
   {
    "duration": 250,
    "start_time": "2022-01-11T19:30:19.510Z"
   },
   {
    "duration": 393,
    "start_time": "2022-01-11T19:33:22.635Z"
   },
   {
    "duration": 11,
    "start_time": "2022-01-11T19:40:26.718Z"
   },
   {
    "duration": 10,
    "start_time": "2022-01-11T19:40:49.927Z"
   },
   {
    "duration": 6,
    "start_time": "2022-01-11T19:41:08.306Z"
   },
   {
    "duration": 264,
    "start_time": "2022-01-11T19:41:15.420Z"
   },
   {
    "duration": 4,
    "start_time": "2022-01-11T19:41:29.631Z"
   },
   {
    "duration": 38,
    "start_time": "2022-01-11T19:43:57.133Z"
   },
   {
    "duration": 14,
    "start_time": "2022-01-11T19:43:57.173Z"
   },
   {
    "duration": 13,
    "start_time": "2022-01-11T19:43:57.189Z"
   },
   {
    "duration": 13,
    "start_time": "2022-01-11T19:43:57.204Z"
   },
   {
    "duration": 44,
    "start_time": "2022-01-11T19:43:57.219Z"
   },
   {
    "duration": 8,
    "start_time": "2022-01-11T19:43:57.265Z"
   },
   {
    "duration": 12,
    "start_time": "2022-01-11T19:43:57.274Z"
   },
   {
    "duration": 3,
    "start_time": "2022-01-11T19:43:57.289Z"
   },
   {
    "duration": 10,
    "start_time": "2022-01-11T19:43:57.294Z"
   },
   {
    "duration": 5,
    "start_time": "2022-01-11T19:43:57.472Z"
   },
   {
    "duration": 15,
    "start_time": "2022-01-11T19:43:57.479Z"
   },
   {
    "duration": 10,
    "start_time": "2022-01-11T19:43:57.496Z"
   },
   {
    "duration": 7,
    "start_time": "2022-01-11T19:43:57.508Z"
   },
   {
    "duration": 7,
    "start_time": "2022-01-11T19:43:57.517Z"
   },
   {
    "duration": 3,
    "start_time": "2022-01-11T19:43:57.526Z"
   },
   {
    "duration": 10,
    "start_time": "2022-01-11T19:43:57.531Z"
   },
   {
    "duration": 13,
    "start_time": "2022-01-11T19:43:57.543Z"
   },
   {
    "duration": 11,
    "start_time": "2022-01-11T19:43:57.558Z"
   },
   {
    "duration": 8,
    "start_time": "2022-01-11T19:43:57.570Z"
   },
   {
    "duration": 10,
    "start_time": "2022-01-11T19:43:57.580Z"
   },
   {
    "duration": 7,
    "start_time": "2022-01-11T19:43:57.592Z"
   },
   {
    "duration": 9,
    "start_time": "2022-01-11T19:43:57.601Z"
   },
   {
    "duration": 35,
    "start_time": "2022-01-11T19:43:57.612Z"
   },
   {
    "duration": 8,
    "start_time": "2022-01-11T19:43:57.648Z"
   },
   {
    "duration": 7,
    "start_time": "2022-01-11T19:43:57.657Z"
   },
   {
    "duration": 12,
    "start_time": "2022-01-11T19:43:57.666Z"
   },
   {
    "duration": 8,
    "start_time": "2022-01-11T19:43:57.680Z"
   },
   {
    "duration": 9,
    "start_time": "2022-01-11T19:43:57.689Z"
   },
   {
    "duration": 47,
    "start_time": "2022-01-11T19:43:57.699Z"
   },
   {
    "duration": 17,
    "start_time": "2022-01-11T19:43:57.748Z"
   },
   {
    "duration": 8,
    "start_time": "2022-01-11T19:43:57.766Z"
   },
   {
    "duration": 11,
    "start_time": "2022-01-11T19:43:57.775Z"
   },
   {
    "duration": 12,
    "start_time": "2022-01-11T19:43:57.788Z"
   },
   {
    "duration": 6,
    "start_time": "2022-01-11T19:43:57.802Z"
   },
   {
    "duration": 21,
    "start_time": "2022-01-11T19:43:57.810Z"
   },
   {
    "duration": 14,
    "start_time": "2022-01-11T19:43:57.833Z"
   },
   {
    "duration": 9,
    "start_time": "2022-01-11T19:43:57.848Z"
   },
   {
    "duration": 189,
    "start_time": "2022-01-11T19:43:57.858Z"
   },
   {
    "duration": 8,
    "start_time": "2022-01-11T19:43:58.049Z"
   },
   {
    "duration": 6,
    "start_time": "2022-01-11T19:43:58.059Z"
   },
   {
    "duration": 4,
    "start_time": "2022-01-11T19:43:58.066Z"
   },
   {
    "duration": 10,
    "start_time": "2022-01-11T19:44:48.677Z"
   },
   {
    "duration": 335,
    "start_time": "2022-01-11T19:44:59.067Z"
   },
   {
    "duration": 245,
    "start_time": "2022-01-11T19:45:56.748Z"
   },
   {
    "duration": 8,
    "start_time": "2022-01-11T19:46:26.030Z"
   },
   {
    "duration": 244,
    "start_time": "2022-01-11T19:46:57.429Z"
   },
   {
    "duration": 9,
    "start_time": "2022-01-11T19:50:07.513Z"
   },
   {
    "duration": 8,
    "start_time": "2022-01-11T20:02:21.158Z"
   },
   {
    "duration": 5,
    "start_time": "2022-01-11T20:02:42.669Z"
   },
   {
    "duration": 5,
    "start_time": "2022-01-11T20:03:29.016Z"
   },
   {
    "duration": 5,
    "start_time": "2022-01-11T20:03:59.094Z"
   },
   {
    "duration": 12,
    "start_time": "2022-01-11T20:04:30.768Z"
   },
   {
    "duration": 326,
    "start_time": "2022-01-11T20:12:48.724Z"
   },
   {
    "duration": 13,
    "start_time": "2022-01-11T20:14:21.713Z"
   },
   {
    "duration": 16,
    "start_time": "2022-01-11T20:14:30.031Z"
   },
   {
    "duration": 16,
    "start_time": "2022-01-11T20:20:07.786Z"
   },
   {
    "duration": 257,
    "start_time": "2022-01-11T20:25:06.608Z"
   },
   {
    "duration": 6892,
    "start_time": "2022-01-11T20:25:17.596Z"
   },
   {
    "duration": 21,
    "start_time": "2022-01-11T20:28:53.740Z"
   },
   {
    "duration": 9106,
    "start_time": "2022-01-11T20:29:10.029Z"
   },
   {
    "duration": 6,
    "start_time": "2022-01-11T20:31:23.503Z"
   },
   {
    "duration": 5,
    "start_time": "2022-01-11T20:31:54.184Z"
   },
   {
    "duration": 6,
    "start_time": "2022-01-11T20:32:15.785Z"
   },
   {
    "duration": 20,
    "start_time": "2022-01-11T20:37:35.552Z"
   },
   {
    "duration": 5,
    "start_time": "2022-01-11T20:38:53.855Z"
   },
   {
    "duration": 10,
    "start_time": "2022-01-11T20:39:09.937Z"
   },
   {
    "duration": 11,
    "start_time": "2022-01-11T20:39:19.943Z"
   },
   {
    "duration": 12,
    "start_time": "2022-01-11T20:41:45.741Z"
   },
   {
    "duration": 9,
    "start_time": "2022-01-11T20:42:42.919Z"
   },
   {
    "duration": 13,
    "start_time": "2022-01-11T20:42:47.565Z"
   },
   {
    "duration": 8,
    "start_time": "2022-01-11T20:43:08.173Z"
   },
   {
    "duration": 1491,
    "start_time": "2022-01-12T17:03:27.127Z"
   },
   {
    "duration": 25,
    "start_time": "2022-01-12T17:03:28.621Z"
   },
   {
    "duration": 14,
    "start_time": "2022-01-12T17:03:28.649Z"
   },
   {
    "duration": 22,
    "start_time": "2022-01-12T17:03:28.665Z"
   },
   {
    "duration": 67,
    "start_time": "2022-01-12T17:03:28.689Z"
   },
   {
    "duration": 12,
    "start_time": "2022-01-12T17:03:28.759Z"
   },
   {
    "duration": 17,
    "start_time": "2022-01-12T17:03:28.773Z"
   },
   {
    "duration": 7,
    "start_time": "2022-01-12T17:03:28.818Z"
   },
   {
    "duration": 12,
    "start_time": "2022-01-12T17:03:28.829Z"
   },
   {
    "duration": 8,
    "start_time": "2022-01-12T17:03:28.845Z"
   },
   {
    "duration": 25,
    "start_time": "2022-01-12T17:03:28.855Z"
   },
   {
    "duration": 48,
    "start_time": "2022-01-12T17:03:28.883Z"
   },
   {
    "duration": 11,
    "start_time": "2022-01-12T17:03:28.933Z"
   },
   {
    "duration": 11,
    "start_time": "2022-01-12T17:03:28.946Z"
   },
   {
    "duration": 5,
    "start_time": "2022-01-12T17:03:28.960Z"
   },
   {
    "duration": 60,
    "start_time": "2022-01-12T17:03:28.968Z"
   },
   {
    "duration": 12,
    "start_time": "2022-01-12T17:03:29.030Z"
   },
   {
    "duration": 10,
    "start_time": "2022-01-12T17:03:29.044Z"
   },
   {
    "duration": 10,
    "start_time": "2022-01-12T17:03:29.057Z"
   },
   {
    "duration": 47,
    "start_time": "2022-01-12T17:03:29.070Z"
   },
   {
    "duration": 11,
    "start_time": "2022-01-12T17:03:29.119Z"
   },
   {
    "duration": 10,
    "start_time": "2022-01-12T17:03:29.132Z"
   },
   {
    "duration": 10,
    "start_time": "2022-01-12T17:03:29.144Z"
   },
   {
    "duration": 11,
    "start_time": "2022-01-12T17:03:29.156Z"
   },
   {
    "duration": 50,
    "start_time": "2022-01-12T17:03:29.169Z"
   },
   {
    "duration": 12,
    "start_time": "2022-01-12T17:03:29.221Z"
   },
   {
    "duration": 13,
    "start_time": "2022-01-12T17:03:29.239Z"
   },
   {
    "duration": 12,
    "start_time": "2022-01-12T17:03:29.255Z"
   },
   {
    "duration": 54,
    "start_time": "2022-01-12T17:03:29.270Z"
   },
   {
    "duration": 13,
    "start_time": "2022-01-12T17:03:29.326Z"
   },
   {
    "duration": 11,
    "start_time": "2022-01-12T17:03:29.341Z"
   },
   {
    "duration": 13,
    "start_time": "2022-01-12T17:03:29.354Z"
   },
   {
    "duration": 48,
    "start_time": "2022-01-12T17:03:29.369Z"
   },
   {
    "duration": 7,
    "start_time": "2022-01-12T17:03:29.419Z"
   },
   {
    "duration": 22,
    "start_time": "2022-01-12T17:03:29.428Z"
   },
   {
    "duration": 33,
    "start_time": "2022-01-12T17:03:29.453Z"
   },
   {
    "duration": 30,
    "start_time": "2022-01-12T17:03:29.489Z"
   },
   {
    "duration": 12,
    "start_time": "2022-01-12T17:03:29.521Z"
   },
   {
    "duration": 8,
    "start_time": "2022-01-12T17:03:29.535Z"
   },
   {
    "duration": 7,
    "start_time": "2022-01-12T17:03:29.545Z"
   },
   {
    "duration": 11,
    "start_time": "2022-01-12T17:03:29.554Z"
   },
   {
    "duration": 11,
    "start_time": "2022-01-12T17:03:29.567Z"
   },
   {
    "duration": 288,
    "start_time": "2022-01-12T17:14:11.187Z"
   },
   {
    "duration": 893,
    "start_time": "2022-01-12T17:14:25.792Z"
   },
   {
    "duration": 351,
    "start_time": "2022-01-12T17:14:52.507Z"
   },
   {
    "duration": 367,
    "start_time": "2022-01-12T17:15:59.115Z"
   },
   {
    "duration": 398,
    "start_time": "2022-01-12T17:16:20.668Z"
   },
   {
    "duration": 421,
    "start_time": "2022-01-12T17:16:30.401Z"
   },
   {
    "duration": 435,
    "start_time": "2022-01-12T17:18:26.865Z"
   },
   {
    "duration": 386,
    "start_time": "2022-01-12T17:20:16.499Z"
   },
   {
    "duration": 589,
    "start_time": "2022-01-12T17:20:31.011Z"
   },
   {
    "duration": 243,
    "start_time": "2022-01-12T17:23:46.233Z"
   },
   {
    "duration": 460,
    "start_time": "2022-01-12T17:25:08.488Z"
   },
   {
    "duration": 461,
    "start_time": "2022-01-12T17:25:17.347Z"
   },
   {
    "duration": 400,
    "start_time": "2022-01-12T17:25:26.622Z"
   },
   {
    "duration": 388,
    "start_time": "2022-01-12T17:25:32.351Z"
   },
   {
    "duration": 417,
    "start_time": "2022-01-12T17:25:52.503Z"
   },
   {
    "duration": 443,
    "start_time": "2022-01-12T17:26:03.747Z"
   },
   {
    "duration": 501,
    "start_time": "2022-01-12T17:27:27.024Z"
   },
   {
    "duration": 389,
    "start_time": "2022-01-12T17:27:36.257Z"
   },
   {
    "duration": 408,
    "start_time": "2022-01-12T17:28:16.356Z"
   },
   {
    "duration": 20,
    "start_time": "2022-01-12T17:54:38.646Z"
   },
   {
    "duration": 6772,
    "start_time": "2022-01-12T17:55:52.172Z"
   },
   {
    "duration": 6845,
    "start_time": "2022-01-12T17:56:14.065Z"
   },
   {
    "duration": 57431,
    "start_time": "2022-01-12T17:56:36.564Z"
   },
   {
    "duration": 64096,
    "start_time": "2022-01-12T17:58:21.030Z"
   },
   {
    "duration": 62974,
    "start_time": "2022-01-12T18:00:05.516Z"
   },
   {
    "duration": 293995,
    "start_time": "2022-01-12T18:02:31.678Z"
   },
   {
    "duration": 591,
    "start_time": "2022-01-12T18:10:06.871Z"
   },
   {
    "duration": 616,
    "start_time": "2022-01-12T18:10:18.255Z"
   },
   {
    "duration": 488,
    "start_time": "2022-01-12T18:11:21.220Z"
   },
   {
    "duration": 643,
    "start_time": "2022-01-12T18:11:31.205Z"
   },
   {
    "duration": 53094,
    "start_time": "2022-01-12T18:11:41.798Z"
   },
   {
    "duration": 55838,
    "start_time": "2022-01-12T18:14:35.717Z"
   },
   {
    "duration": 56501,
    "start_time": "2022-01-12T18:16:54.923Z"
   },
   {
    "duration": 337,
    "start_time": "2022-01-12T18:22:20.506Z"
   },
   {
    "duration": 14,
    "start_time": "2022-01-12T18:22:42.776Z"
   },
   {
    "duration": 21,
    "start_time": "2022-01-12T18:22:54.166Z"
   },
   {
    "duration": 9,
    "start_time": "2022-01-12T18:24:30.543Z"
   },
   {
    "duration": 16,
    "start_time": "2022-01-12T18:25:09.991Z"
   },
   {
    "duration": 256,
    "start_time": "2022-01-12T18:25:12.906Z"
   },
   {
    "duration": 22,
    "start_time": "2022-01-12T18:25:29.841Z"
   },
   {
    "duration": 253,
    "start_time": "2022-01-12T18:25:37.992Z"
   },
   {
    "duration": 12,
    "start_time": "2022-01-12T18:25:45.197Z"
   },
   {
    "duration": 12,
    "start_time": "2022-01-12T18:25:59.643Z"
   },
   {
    "duration": 19,
    "start_time": "2022-01-12T18:26:18.246Z"
   },
   {
    "duration": 6719,
    "start_time": "2022-01-12T18:26:42.387Z"
   },
   {
    "duration": 11,
    "start_time": "2022-01-12T18:26:53.209Z"
   },
   {
    "duration": 9,
    "start_time": "2022-01-12T18:29:20.520Z"
   },
   {
    "duration": 12,
    "start_time": "2022-01-12T18:29:53.714Z"
   },
   {
    "duration": 11,
    "start_time": "2022-01-12T18:30:12.679Z"
   },
   {
    "duration": 16,
    "start_time": "2022-01-12T18:31:31.069Z"
   },
   {
    "duration": 14,
    "start_time": "2022-01-12T18:33:24.047Z"
   },
   {
    "duration": 11,
    "start_time": "2022-01-12T18:34:17.227Z"
   },
   {
    "duration": 82,
    "start_time": "2022-01-12T18:36:16.386Z"
   },
   {
    "duration": 21,
    "start_time": "2022-01-12T18:38:58.762Z"
   },
   {
    "duration": 12,
    "start_time": "2022-01-12T18:39:01.881Z"
   },
   {
    "duration": 6153,
    "start_time": "2022-01-12T18:42:20.539Z"
   },
   {
    "duration": 7178,
    "start_time": "2022-01-12T18:43:16.455Z"
   },
   {
    "duration": 7129,
    "start_time": "2022-01-12T18:43:48.393Z"
   },
   {
    "duration": 12,
    "start_time": "2022-01-12T18:45:22.701Z"
   },
   {
    "duration": 13,
    "start_time": "2022-01-12T18:45:51.914Z"
   },
   {
    "duration": 6,
    "start_time": "2022-01-12T18:46:13.573Z"
   },
   {
    "duration": 279,
    "start_time": "2022-01-12T18:46:28.000Z"
   },
   {
    "duration": 565,
    "start_time": "2022-01-12T18:47:35.639Z"
   },
   {
    "duration": 603,
    "start_time": "2022-01-12T18:51:21.782Z"
   },
   {
    "duration": 675,
    "start_time": "2022-01-12T18:52:32.191Z"
   },
   {
    "duration": 648,
    "start_time": "2022-01-12T18:54:20.910Z"
   },
   {
    "duration": 957,
    "start_time": "2022-01-12T18:55:04.427Z"
   },
   {
    "duration": 1174,
    "start_time": "2022-01-12T18:59:08.962Z"
   },
   {
    "duration": 92,
    "start_time": "2022-01-12T19:04:39.182Z"
   },
   {
    "duration": 508,
    "start_time": "2022-01-12T19:04:56.967Z"
   },
   {
    "duration": 510,
    "start_time": "2022-01-12T19:05:18.826Z"
   },
   {
    "duration": 2086,
    "start_time": "2022-01-12T19:06:04.088Z"
   },
   {
    "duration": 1925,
    "start_time": "2022-01-12T19:06:14.728Z"
   },
   {
    "duration": 1751,
    "start_time": "2022-01-12T19:06:37.792Z"
   },
   {
    "duration": 1485,
    "start_time": "2022-01-12T19:07:46.650Z"
   },
   {
    "duration": 27,
    "start_time": "2022-01-12T19:07:48.137Z"
   },
   {
    "duration": 46,
    "start_time": "2022-01-12T19:07:48.171Z"
   },
   {
    "duration": 22,
    "start_time": "2022-01-12T19:07:48.220Z"
   },
   {
    "duration": 43,
    "start_time": "2022-01-12T19:07:48.244Z"
   },
   {
    "duration": 37,
    "start_time": "2022-01-12T19:07:48.290Z"
   },
   {
    "duration": 17,
    "start_time": "2022-01-12T19:07:48.331Z"
   },
   {
    "duration": 6,
    "start_time": "2022-01-12T19:07:48.351Z"
   },
   {
    "duration": 13,
    "start_time": "2022-01-12T19:07:48.360Z"
   },
   {
    "duration": 8,
    "start_time": "2022-01-12T19:07:48.420Z"
   },
   {
    "duration": 26,
    "start_time": "2022-01-12T19:07:48.430Z"
   },
   {
    "duration": 14,
    "start_time": "2022-01-12T19:07:48.460Z"
   },
   {
    "duration": 43,
    "start_time": "2022-01-12T19:07:48.478Z"
   },
   {
    "duration": 12,
    "start_time": "2022-01-12T19:07:48.524Z"
   },
   {
    "duration": 7,
    "start_time": "2022-01-12T19:07:48.538Z"
   },
   {
    "duration": 15,
    "start_time": "2022-01-12T19:07:48.547Z"
   },
   {
    "duration": 9,
    "start_time": "2022-01-12T19:07:48.565Z"
   },
   {
    "duration": 49,
    "start_time": "2022-01-12T19:07:48.577Z"
   },
   {
    "duration": 18,
    "start_time": "2022-01-12T19:07:48.629Z"
   },
   {
    "duration": 11,
    "start_time": "2022-01-12T19:07:48.650Z"
   },
   {
    "duration": 12,
    "start_time": "2022-01-12T19:07:48.663Z"
   },
   {
    "duration": 13,
    "start_time": "2022-01-12T19:07:48.716Z"
   },
   {
    "duration": 12,
    "start_time": "2022-01-12T19:07:48.732Z"
   },
   {
    "duration": 12,
    "start_time": "2022-01-12T19:07:48.747Z"
   },
   {
    "duration": 57,
    "start_time": "2022-01-12T19:07:48.762Z"
   },
   {
    "duration": 13,
    "start_time": "2022-01-12T19:07:48.822Z"
   },
   {
    "duration": 13,
    "start_time": "2022-01-12T19:07:48.838Z"
   },
   {
    "duration": 15,
    "start_time": "2022-01-12T19:07:48.854Z"
   },
   {
    "duration": 14,
    "start_time": "2022-01-12T19:07:48.917Z"
   },
   {
    "duration": 13,
    "start_time": "2022-01-12T19:07:48.934Z"
   },
   {
    "duration": 12,
    "start_time": "2022-01-12T19:07:48.950Z"
   },
   {
    "duration": 13,
    "start_time": "2022-01-12T19:07:48.965Z"
   },
   {
    "duration": 11,
    "start_time": "2022-01-12T19:07:49.018Z"
   },
   {
    "duration": 7,
    "start_time": "2022-01-12T19:07:49.031Z"
   },
   {
    "duration": 22,
    "start_time": "2022-01-12T19:07:49.040Z"
   },
   {
    "duration": 67,
    "start_time": "2022-01-12T19:07:49.064Z"
   },
   {
    "duration": 5,
    "start_time": "2022-01-12T19:07:49.134Z"
   },
   {
    "duration": 19,
    "start_time": "2022-01-12T19:07:49.141Z"
   },
   {
    "duration": 7,
    "start_time": "2022-01-12T19:07:49.163Z"
   },
   {
    "duration": 6,
    "start_time": "2022-01-12T19:07:49.172Z"
   },
   {
    "duration": 37,
    "start_time": "2022-01-12T19:07:49.180Z"
   },
   {
    "duration": 10,
    "start_time": "2022-01-12T19:07:49.220Z"
   },
   {
    "duration": 425,
    "start_time": "2022-01-12T19:07:49.233Z"
   },
   {
    "duration": 17,
    "start_time": "2022-01-12T19:07:49.660Z"
   },
   {
    "duration": 12,
    "start_time": "2022-01-12T19:07:49.679Z"
   },
   {
    "duration": 11,
    "start_time": "2022-01-12T19:07:49.718Z"
   },
   {
    "duration": 1694,
    "start_time": "2022-01-12T19:07:49.731Z"
   },
   {
    "duration": 11,
    "start_time": "2022-01-12T19:31:12.717Z"
   },
   {
    "duration": 7,
    "start_time": "2022-01-12T19:31:31.687Z"
   },
   {
    "duration": 12,
    "start_time": "2022-01-12T19:31:40.850Z"
   },
   {
    "duration": 8,
    "start_time": "2022-01-12T19:32:21.101Z"
   },
   {
    "duration": 14,
    "start_time": "2022-01-12T19:32:24.083Z"
   },
   {
    "duration": 10,
    "start_time": "2022-01-12T19:33:07.902Z"
   },
   {
    "duration": 25,
    "start_time": "2022-01-12T19:41:54.375Z"
   },
   {
    "duration": 25,
    "start_time": "2022-01-12T19:42:14.021Z"
   },
   {
    "duration": 5701,
    "start_time": "2022-01-12T19:51:49.994Z"
   },
   {
    "duration": 1049,
    "start_time": "2022-01-12T19:56:23.907Z"
   },
   {
    "duration": 461,
    "start_time": "2022-01-12T19:58:51.019Z"
   },
   {
    "duration": 53,
    "start_time": "2022-01-12T19:59:03.976Z"
   },
   {
    "duration": 26,
    "start_time": "2022-01-12T19:59:04.032Z"
   },
   {
    "duration": 60,
    "start_time": "2022-01-12T19:59:04.062Z"
   },
   {
    "duration": 31,
    "start_time": "2022-01-12T19:59:04.125Z"
   },
   {
    "duration": 92,
    "start_time": "2022-01-12T19:59:04.159Z"
   },
   {
    "duration": 15,
    "start_time": "2022-01-12T19:59:04.254Z"
   },
   {
    "duration": 49,
    "start_time": "2022-01-12T19:59:04.273Z"
   },
   {
    "duration": 9,
    "start_time": "2022-01-12T19:59:04.327Z"
   },
   {
    "duration": 19,
    "start_time": "2022-01-12T19:59:04.340Z"
   },
   {
    "duration": 9,
    "start_time": "2022-01-12T19:59:04.362Z"
   },
   {
    "duration": 65,
    "start_time": "2022-01-12T19:59:04.374Z"
   },
   {
    "duration": 17,
    "start_time": "2022-01-12T19:59:04.442Z"
   },
   {
    "duration": 11,
    "start_time": "2022-01-12T19:59:04.462Z"
   },
   {
    "duration": 49,
    "start_time": "2022-01-12T19:59:04.477Z"
   },
   {
    "duration": 9,
    "start_time": "2022-01-12T19:59:04.529Z"
   },
   {
    "duration": 16,
    "start_time": "2022-01-12T19:59:04.541Z"
   },
   {
    "duration": 59,
    "start_time": "2022-01-12T19:59:04.559Z"
   },
   {
    "duration": 17,
    "start_time": "2022-01-12T19:59:04.621Z"
   },
   {
    "duration": 16,
    "start_time": "2022-01-12T19:59:04.642Z"
   },
   {
    "duration": 57,
    "start_time": "2022-01-12T19:59:04.662Z"
   },
   {
    "duration": 15,
    "start_time": "2022-01-12T19:59:04.722Z"
   },
   {
    "duration": 13,
    "start_time": "2022-01-12T19:59:04.740Z"
   },
   {
    "duration": 56,
    "start_time": "2022-01-12T19:59:04.762Z"
   },
   {
    "duration": 18,
    "start_time": "2022-01-12T19:59:04.822Z"
   },
   {
    "duration": 12,
    "start_time": "2022-01-12T19:59:04.843Z"
   },
   {
    "duration": 11,
    "start_time": "2022-01-12T19:59:04.858Z"
   },
   {
    "duration": 46,
    "start_time": "2022-01-12T19:59:04.872Z"
   },
   {
    "duration": 14,
    "start_time": "2022-01-12T19:59:04.921Z"
   },
   {
    "duration": 12,
    "start_time": "2022-01-12T19:59:04.939Z"
   },
   {
    "duration": 14,
    "start_time": "2022-01-12T19:59:04.953Z"
   },
   {
    "duration": 55,
    "start_time": "2022-01-12T19:59:04.969Z"
   },
   {
    "duration": 14,
    "start_time": "2022-01-12T19:59:05.027Z"
   },
   {
    "duration": 13,
    "start_time": "2022-01-12T19:59:05.044Z"
   },
   {
    "duration": 7,
    "start_time": "2022-01-12T19:59:05.059Z"
   },
   {
    "duration": 74,
    "start_time": "2022-01-12T19:59:05.069Z"
   },
   {
    "duration": 45,
    "start_time": "2022-01-12T19:59:05.146Z"
   },
   {
    "duration": 23,
    "start_time": "2022-01-12T19:59:05.194Z"
   },
   {
    "duration": 14,
    "start_time": "2022-01-12T19:59:05.220Z"
   },
   {
    "duration": 10,
    "start_time": "2022-01-12T19:59:05.237Z"
   },
   {
    "duration": 11,
    "start_time": "2022-01-12T19:59:05.249Z"
   },
   {
    "duration": 8,
    "start_time": "2022-01-12T19:59:05.263Z"
   },
   {
    "duration": 47,
    "start_time": "2022-01-12T19:59:05.274Z"
   },
   {
    "duration": 434,
    "start_time": "2022-01-12T19:59:05.324Z"
   },
   {
    "duration": 17,
    "start_time": "2022-01-12T19:59:05.761Z"
   },
   {
    "duration": 36,
    "start_time": "2022-01-12T19:59:05.781Z"
   },
   {
    "duration": 458,
    "start_time": "2022-01-12T19:59:05.820Z"
   },
   {
    "duration": 10,
    "start_time": "2022-01-12T19:59:06.282Z"
   },
   {
    "duration": 36,
    "start_time": "2022-01-12T19:59:06.295Z"
   },
   {
    "duration": 27,
    "start_time": "2022-01-12T19:59:06.334Z"
   },
   {
    "duration": 851,
    "start_time": "2022-01-12T19:59:06.364Z"
   },
   {
    "duration": 1583,
    "start_time": "2022-01-12T19:59:50.750Z"
   },
   {
    "duration": 1043,
    "start_time": "2022-01-12T20:03:25.628Z"
   },
   {
    "duration": 427,
    "start_time": "2022-01-12T20:03:39.866Z"
   },
   {
    "duration": 883,
    "start_time": "2022-01-12T20:04:33.000Z"
   },
   {
    "duration": 12,
    "start_time": "2022-01-12T20:53:30.258Z"
   },
   {
    "duration": 419,
    "start_time": "2022-01-12T21:01:21.815Z"
   },
   {
    "duration": 1386,
    "start_time": "2022-01-12T21:04:05.142Z"
   },
   {
    "duration": 26,
    "start_time": "2022-01-12T21:04:06.530Z"
   },
   {
    "duration": 15,
    "start_time": "2022-01-12T21:04:06.559Z"
   },
   {
    "duration": 46,
    "start_time": "2022-01-12T21:04:06.577Z"
   },
   {
    "duration": 41,
    "start_time": "2022-01-12T21:04:06.625Z"
   },
   {
    "duration": 14,
    "start_time": "2022-01-12T21:04:06.668Z"
   },
   {
    "duration": 48,
    "start_time": "2022-01-12T21:04:06.685Z"
   },
   {
    "duration": 8,
    "start_time": "2022-01-12T21:04:06.737Z"
   },
   {
    "duration": 12,
    "start_time": "2022-01-12T21:04:06.749Z"
   },
   {
    "duration": 9,
    "start_time": "2022-01-12T21:04:06.764Z"
   },
   {
    "duration": 54,
    "start_time": "2022-01-12T21:04:06.776Z"
   },
   {
    "duration": 14,
    "start_time": "2022-01-12T21:04:06.833Z"
   },
   {
    "duration": 13,
    "start_time": "2022-01-12T21:04:06.849Z"
   },
   {
    "duration": 12,
    "start_time": "2022-01-12T21:04:06.865Z"
   },
   {
    "duration": 8,
    "start_time": "2022-01-12T21:04:06.918Z"
   },
   {
    "duration": 14,
    "start_time": "2022-01-12T21:04:06.929Z"
   },
   {
    "duration": 11,
    "start_time": "2022-01-12T21:04:06.946Z"
   },
   {
    "duration": 59,
    "start_time": "2022-01-12T21:04:06.960Z"
   },
   {
    "duration": 11,
    "start_time": "2022-01-12T21:04:07.021Z"
   },
   {
    "duration": 10,
    "start_time": "2022-01-12T21:04:07.034Z"
   },
   {
    "duration": 10,
    "start_time": "2022-01-12T21:04:07.046Z"
   },
   {
    "duration": 9,
    "start_time": "2022-01-12T21:04:07.059Z"
   },
   {
    "duration": 10,
    "start_time": "2022-01-12T21:04:07.118Z"
   },
   {
    "duration": 11,
    "start_time": "2022-01-12T21:04:07.131Z"
   },
   {
    "duration": 11,
    "start_time": "2022-01-12T21:04:07.144Z"
   },
   {
    "duration": 10,
    "start_time": "2022-01-12T21:04:07.157Z"
   },
   {
    "duration": 51,
    "start_time": "2022-01-12T21:04:07.170Z"
   },
   {
    "duration": 12,
    "start_time": "2022-01-12T21:04:07.223Z"
   },
   {
    "duration": 14,
    "start_time": "2022-01-12T21:04:07.237Z"
   },
   {
    "duration": 11,
    "start_time": "2022-01-12T21:04:07.254Z"
   },
   {
    "duration": 10,
    "start_time": "2022-01-12T21:04:07.267Z"
   },
   {
    "duration": 12,
    "start_time": "2022-01-12T21:04:07.317Z"
   },
   {
    "duration": 12,
    "start_time": "2022-01-12T21:04:07.332Z"
   },
   {
    "duration": 6,
    "start_time": "2022-01-12T21:04:07.347Z"
   },
   {
    "duration": 24,
    "start_time": "2022-01-12T21:04:07.355Z"
   },
   {
    "duration": 62,
    "start_time": "2022-01-12T21:04:07.381Z"
   },
   {
    "duration": 5,
    "start_time": "2022-01-12T21:04:07.445Z"
   },
   {
    "duration": 9,
    "start_time": "2022-01-12T21:04:07.452Z"
   },
   {
    "duration": 8,
    "start_time": "2022-01-12T21:04:07.463Z"
   },
   {
    "duration": 44,
    "start_time": "2022-01-12T21:04:07.474Z"
   },
   {
    "duration": 12,
    "start_time": "2022-01-12T21:04:07.520Z"
   },
   {
    "duration": 11,
    "start_time": "2022-01-12T21:04:07.534Z"
   },
   {
    "duration": 458,
    "start_time": "2022-01-12T21:04:07.547Z"
   },
   {
    "duration": 21,
    "start_time": "2022-01-12T21:04:08.008Z"
   },
   {
    "duration": 12,
    "start_time": "2022-01-12T21:04:08.032Z"
   },
   {
    "duration": 456,
    "start_time": "2022-01-12T21:04:08.047Z"
   },
   {
    "duration": 17,
    "start_time": "2022-01-12T21:04:08.506Z"
   },
   {
    "duration": 12,
    "start_time": "2022-01-12T21:04:08.525Z"
   },
   {
    "duration": 24,
    "start_time": "2022-01-12T21:04:08.540Z"
   },
   {
    "duration": 904,
    "start_time": "2022-01-12T21:04:08.567Z"
   },
   {
    "duration": 14,
    "start_time": "2022-01-12T21:04:09.474Z"
   },
   {
    "duration": 387,
    "start_time": "2022-01-12T21:11:47.871Z"
   },
   {
    "duration": 179,
    "start_time": "2022-01-12T21:13:49.702Z"
   },
   {
    "duration": 2159,
    "start_time": "2022-01-12T21:13:59.452Z"
   },
   {
    "duration": 43,
    "start_time": "2022-01-12T21:14:01.615Z"
   },
   {
    "duration": 31,
    "start_time": "2022-01-12T21:14:01.667Z"
   },
   {
    "duration": 49,
    "start_time": "2022-01-12T21:14:01.701Z"
   },
   {
    "duration": 91,
    "start_time": "2022-01-12T21:14:01.753Z"
   },
   {
    "duration": 18,
    "start_time": "2022-01-12T21:14:01.847Z"
   },
   {
    "duration": 54,
    "start_time": "2022-01-12T21:14:01.871Z"
   },
   {
    "duration": 30,
    "start_time": "2022-01-12T21:14:01.930Z"
   },
   {
    "duration": 20,
    "start_time": "2022-01-12T21:14:01.963Z"
   },
   {
    "duration": 18,
    "start_time": "2022-01-12T21:14:01.986Z"
   },
   {
    "duration": 33,
    "start_time": "2022-01-12T21:14:02.008Z"
   },
   {
    "duration": 14,
    "start_time": "2022-01-12T21:14:02.044Z"
   },
   {
    "duration": 25,
    "start_time": "2022-01-12T21:14:02.060Z"
   },
   {
    "duration": 19,
    "start_time": "2022-01-12T21:14:02.087Z"
   },
   {
    "duration": 21,
    "start_time": "2022-01-12T21:14:02.108Z"
   },
   {
    "duration": 15,
    "start_time": "2022-01-12T21:14:02.131Z"
   },
   {
    "duration": 12,
    "start_time": "2022-01-12T21:14:02.149Z"
   },
   {
    "duration": 40,
    "start_time": "2022-01-12T21:14:02.163Z"
   },
   {
    "duration": 13,
    "start_time": "2022-01-12T21:14:02.206Z"
   },
   {
    "duration": 12,
    "start_time": "2022-01-12T21:14:02.222Z"
   },
   {
    "duration": 12,
    "start_time": "2022-01-12T21:14:02.237Z"
   },
   {
    "duration": 13,
    "start_time": "2022-01-12T21:14:02.260Z"
   },
   {
    "duration": 50,
    "start_time": "2022-01-12T21:14:02.278Z"
   },
   {
    "duration": 11,
    "start_time": "2022-01-12T21:14:02.330Z"
   },
   {
    "duration": 10,
    "start_time": "2022-01-12T21:14:02.343Z"
   },
   {
    "duration": 10,
    "start_time": "2022-01-12T21:14:02.355Z"
   },
   {
    "duration": 55,
    "start_time": "2022-01-12T21:14:02.368Z"
   },
   {
    "duration": 13,
    "start_time": "2022-01-12T21:14:02.426Z"
   },
   {
    "duration": 15,
    "start_time": "2022-01-12T21:14:02.441Z"
   },
   {
    "duration": 14,
    "start_time": "2022-01-12T21:14:02.459Z"
   },
   {
    "duration": 46,
    "start_time": "2022-01-12T21:14:02.475Z"
   },
   {
    "duration": 20,
    "start_time": "2022-01-12T21:14:02.523Z"
   },
   {
    "duration": 12,
    "start_time": "2022-01-12T21:14:02.545Z"
   },
   {
    "duration": 6,
    "start_time": "2022-01-12T21:14:02.559Z"
   },
   {
    "duration": 50,
    "start_time": "2022-01-12T21:14:02.567Z"
   },
   {
    "duration": 34,
    "start_time": "2022-01-12T21:14:02.620Z"
   },
   {
    "duration": 4,
    "start_time": "2022-01-12T21:14:02.656Z"
   },
   {
    "duration": 16,
    "start_time": "2022-01-12T21:14:02.663Z"
   },
   {
    "duration": 39,
    "start_time": "2022-01-12T21:14:02.681Z"
   },
   {
    "duration": 6,
    "start_time": "2022-01-12T21:14:02.722Z"
   },
   {
    "duration": 11,
    "start_time": "2022-01-12T21:14:02.730Z"
   },
   {
    "duration": 10,
    "start_time": "2022-01-12T21:14:02.744Z"
   },
   {
    "duration": 673,
    "start_time": "2022-01-12T21:14:02.756Z"
   },
   {
    "duration": 23,
    "start_time": "2022-01-12T21:14:03.432Z"
   },
   {
    "duration": 17,
    "start_time": "2022-01-12T21:14:03.458Z"
   },
   {
    "duration": 470,
    "start_time": "2022-01-12T21:14:03.478Z"
   },
   {
    "duration": 8,
    "start_time": "2022-01-12T21:14:03.951Z"
   },
   {
    "duration": 14,
    "start_time": "2022-01-12T21:14:03.962Z"
   },
   {
    "duration": 48,
    "start_time": "2022-01-12T21:14:03.979Z"
   },
   {
    "duration": 920,
    "start_time": "2022-01-12T21:14:04.029Z"
   },
   {
    "duration": 11,
    "start_time": "2022-01-12T21:14:04.951Z"
   },
   {
    "duration": 4,
    "start_time": "2022-01-12T21:14:04.964Z"
   },
   {
    "duration": 1470,
    "start_time": "2022-01-12T21:14:14.983Z"
   },
   {
    "duration": 46,
    "start_time": "2022-01-12T21:17:29.367Z"
   },
   {
    "duration": 266,
    "start_time": "2022-01-12T21:19:07.136Z"
   },
   {
    "duration": 266,
    "start_time": "2022-01-12T21:19:49.766Z"
   },
   {
    "duration": 6276,
    "start_time": "2022-01-12T21:21:35.709Z"
   },
   {
    "duration": -4950,
    "start_time": "2022-01-12T21:21:46.937Z"
   },
   {
    "duration": 257,
    "start_time": "2022-01-12T21:25:58.625Z"
   },
   {
    "duration": 92,
    "start_time": "2022-01-12T21:26:20.708Z"
   },
   {
    "duration": 65,
    "start_time": "2022-01-12T21:26:20.806Z"
   },
   {
    "duration": 15,
    "start_time": "2022-01-12T21:26:20.874Z"
   },
   {
    "duration": 61,
    "start_time": "2022-01-12T21:26:20.895Z"
   },
   {
    "duration": 68,
    "start_time": "2022-01-12T21:26:20.973Z"
   },
   {
    "duration": 16,
    "start_time": "2022-01-12T21:26:21.045Z"
   },
   {
    "duration": 19,
    "start_time": "2022-01-12T21:26:21.067Z"
   },
   {
    "duration": 7,
    "start_time": "2022-01-12T21:26:21.118Z"
   },
   {
    "duration": 37,
    "start_time": "2022-01-12T21:26:21.129Z"
   },
   {
    "duration": 26,
    "start_time": "2022-01-12T21:26:21.174Z"
   },
   {
    "duration": 80,
    "start_time": "2022-01-12T21:26:21.203Z"
   },
   {
    "duration": 85,
    "start_time": "2022-01-12T21:26:21.287Z"
   },
   {
    "duration": 36,
    "start_time": "2022-01-12T21:26:21.387Z"
   },
   {
    "duration": 49,
    "start_time": "2022-01-12T21:26:21.428Z"
   },
   {
    "duration": 25,
    "start_time": "2022-01-12T21:26:21.480Z"
   },
   {
    "duration": 34,
    "start_time": "2022-01-12T21:26:21.508Z"
   },
   {
    "duration": 14,
    "start_time": "2022-01-12T21:26:21.548Z"
   },
   {
    "duration": 40,
    "start_time": "2022-01-12T21:26:21.566Z"
   },
   {
    "duration": 35,
    "start_time": "2022-01-12T21:26:21.609Z"
   },
   {
    "duration": 22,
    "start_time": "2022-01-12T21:26:21.647Z"
   },
   {
    "duration": 25,
    "start_time": "2022-01-12T21:26:21.672Z"
   },
   {
    "duration": 21,
    "start_time": "2022-01-12T21:26:21.700Z"
   },
   {
    "duration": 19,
    "start_time": "2022-01-12T21:26:21.728Z"
   },
   {
    "duration": 23,
    "start_time": "2022-01-12T21:26:21.751Z"
   },
   {
    "duration": 39,
    "start_time": "2022-01-12T21:26:21.778Z"
   },
   {
    "duration": 31,
    "start_time": "2022-01-12T21:26:21.821Z"
   },
   {
    "duration": 38,
    "start_time": "2022-01-12T21:26:21.855Z"
   },
   {
    "duration": 24,
    "start_time": "2022-01-12T21:26:21.896Z"
   },
   {
    "duration": 53,
    "start_time": "2022-01-12T21:26:21.924Z"
   },
   {
    "duration": 91,
    "start_time": "2022-01-12T21:26:21.985Z"
   },
   {
    "duration": 21,
    "start_time": "2022-01-12T21:26:22.084Z"
   },
   {
    "duration": 72,
    "start_time": "2022-01-12T21:26:22.107Z"
   },
   {
    "duration": 19,
    "start_time": "2022-01-12T21:26:22.182Z"
   },
   {
    "duration": 14,
    "start_time": "2022-01-12T21:26:22.204Z"
   },
   {
    "duration": 50,
    "start_time": "2022-01-12T21:26:22.221Z"
   },
   {
    "duration": 42,
    "start_time": "2022-01-12T21:26:22.274Z"
   },
   {
    "duration": 8,
    "start_time": "2022-01-12T21:26:22.319Z"
   },
   {
    "duration": 29,
    "start_time": "2022-01-12T21:26:22.331Z"
   },
   {
    "duration": 16,
    "start_time": "2022-01-12T21:26:22.363Z"
   },
   {
    "duration": 27,
    "start_time": "2022-01-12T21:26:22.381Z"
   },
   {
    "duration": 25,
    "start_time": "2022-01-12T21:26:22.410Z"
   },
   {
    "duration": 23,
    "start_time": "2022-01-12T21:26:22.439Z"
   },
   {
    "duration": 758,
    "start_time": "2022-01-12T21:26:22.465Z"
   },
   {
    "duration": 24,
    "start_time": "2022-01-12T21:26:23.226Z"
   },
   {
    "duration": 46,
    "start_time": "2022-01-12T21:26:23.254Z"
   },
   {
    "duration": 762,
    "start_time": "2022-01-12T21:26:23.303Z"
   },
   {
    "duration": 10,
    "start_time": "2022-01-12T21:26:24.070Z"
   },
   {
    "duration": 49,
    "start_time": "2022-01-12T21:26:24.083Z"
   },
   {
    "duration": 39,
    "start_time": "2022-01-12T21:26:24.135Z"
   },
   {
    "duration": 1063,
    "start_time": "2022-01-12T21:26:24.177Z"
   },
   {
    "duration": 15,
    "start_time": "2022-01-12T21:26:25.245Z"
   },
   {
    "duration": 26,
    "start_time": "2022-01-12T21:26:25.264Z"
   },
   {
    "duration": 9,
    "start_time": "2022-01-12T21:26:25.293Z"
   },
   {
    "duration": 5,
    "start_time": "2022-01-12T21:27:06.619Z"
   },
   {
    "duration": 4,
    "start_time": "2022-01-12T21:27:58.958Z"
   },
   {
    "duration": 5,
    "start_time": "2022-01-12T21:28:02.446Z"
   },
   {
    "duration": 6,
    "start_time": "2022-01-12T21:30:07.120Z"
   },
   {
    "duration": 6,
    "start_time": "2022-01-12T21:30:16.129Z"
   },
   {
    "duration": 9,
    "start_time": "2022-01-12T21:30:19.766Z"
   },
   {
    "duration": 4,
    "start_time": "2022-01-12T21:43:18.560Z"
   },
   {
    "duration": 5,
    "start_time": "2022-01-12T21:43:23.125Z"
   },
   {
    "duration": 277,
    "start_time": "2022-01-12T21:46:01.130Z"
   },
   {
    "duration": 6,
    "start_time": "2022-01-12T21:48:00.801Z"
   },
   {
    "duration": 7,
    "start_time": "2022-01-12T21:48:05.591Z"
   },
   {
    "duration": 1943,
    "start_time": "2022-01-13T16:05:56.329Z"
   },
   {
    "duration": 30,
    "start_time": "2022-01-13T16:05:58.275Z"
   },
   {
    "duration": 16,
    "start_time": "2022-01-13T16:05:58.308Z"
   },
   {
    "duration": 22,
    "start_time": "2022-01-13T16:05:58.327Z"
   },
   {
    "duration": 81,
    "start_time": "2022-01-13T16:05:58.351Z"
   },
   {
    "duration": 14,
    "start_time": "2022-01-13T16:05:58.435Z"
   },
   {
    "duration": 51,
    "start_time": "2022-01-13T16:05:58.452Z"
   },
   {
    "duration": 7,
    "start_time": "2022-01-13T16:05:58.507Z"
   },
   {
    "duration": 13,
    "start_time": "2022-01-13T16:05:58.516Z"
   },
   {
    "duration": 8,
    "start_time": "2022-01-13T16:05:58.532Z"
   },
   {
    "duration": 20,
    "start_time": "2022-01-13T16:05:58.542Z"
   },
   {
    "duration": 43,
    "start_time": "2022-01-13T16:05:58.564Z"
   },
   {
    "duration": 12,
    "start_time": "2022-01-13T16:05:58.610Z"
   },
   {
    "duration": 13,
    "start_time": "2022-01-13T16:05:58.624Z"
   },
   {
    "duration": 7,
    "start_time": "2022-01-13T16:05:58.639Z"
   },
   {
    "duration": 53,
    "start_time": "2022-01-13T16:05:58.648Z"
   },
   {
    "duration": 11,
    "start_time": "2022-01-13T16:05:58.704Z"
   },
   {
    "duration": 14,
    "start_time": "2022-01-13T16:05:58.718Z"
   },
   {
    "duration": 12,
    "start_time": "2022-01-13T16:05:58.735Z"
   },
   {
    "duration": 59,
    "start_time": "2022-01-13T16:05:58.750Z"
   },
   {
    "duration": 11,
    "start_time": "2022-01-13T16:05:58.811Z"
   },
   {
    "duration": 10,
    "start_time": "2022-01-13T16:05:58.825Z"
   },
   {
    "duration": 12,
    "start_time": "2022-01-13T16:05:58.841Z"
   },
   {
    "duration": 12,
    "start_time": "2022-01-13T16:05:58.902Z"
   },
   {
    "duration": 14,
    "start_time": "2022-01-13T16:05:58.917Z"
   },
   {
    "duration": 12,
    "start_time": "2022-01-13T16:05:58.933Z"
   },
   {
    "duration": 53,
    "start_time": "2022-01-13T16:05:58.947Z"
   },
   {
    "duration": 13,
    "start_time": "2022-01-13T16:05:59.003Z"
   },
   {
    "duration": 17,
    "start_time": "2022-01-13T16:05:59.018Z"
   },
   {
    "duration": 14,
    "start_time": "2022-01-13T16:05:59.037Z"
   },
   {
    "duration": 48,
    "start_time": "2022-01-13T16:05:59.054Z"
   },
   {
    "duration": 15,
    "start_time": "2022-01-13T16:05:59.105Z"
   },
   {
    "duration": 13,
    "start_time": "2022-01-13T16:05:59.122Z"
   },
   {
    "duration": 8,
    "start_time": "2022-01-13T16:05:59.138Z"
   },
   {
    "duration": 55,
    "start_time": "2022-01-13T16:05:59.148Z"
   },
   {
    "duration": 36,
    "start_time": "2022-01-13T16:05:59.205Z"
   },
   {
    "duration": 5,
    "start_time": "2022-01-13T16:05:59.243Z"
   },
   {
    "duration": 15,
    "start_time": "2022-01-13T16:05:59.250Z"
   },
   {
    "duration": 35,
    "start_time": "2022-01-13T16:05:59.267Z"
   },
   {
    "duration": 7,
    "start_time": "2022-01-13T16:05:59.306Z"
   },
   {
    "duration": 14,
    "start_time": "2022-01-13T16:05:59.316Z"
   },
   {
    "duration": 14,
    "start_time": "2022-01-13T16:05:59.332Z"
   },
   {
    "duration": 491,
    "start_time": "2022-01-13T16:05:59.349Z"
   },
   {
    "duration": 17,
    "start_time": "2022-01-13T16:05:59.842Z"
   },
   {
    "duration": 40,
    "start_time": "2022-01-13T16:05:59.862Z"
   },
   {
    "duration": 483,
    "start_time": "2022-01-13T16:05:59.904Z"
   },
   {
    "duration": 17,
    "start_time": "2022-01-13T16:06:00.390Z"
   },
   {
    "duration": 17,
    "start_time": "2022-01-13T16:06:00.409Z"
   },
   {
    "duration": 26,
    "start_time": "2022-01-13T16:06:00.429Z"
   },
   {
    "duration": 962,
    "start_time": "2022-01-13T16:06:00.458Z"
   },
   {
    "duration": 15,
    "start_time": "2022-01-13T16:06:01.424Z"
   },
   {
    "duration": 31,
    "start_time": "2022-01-13T16:06:01.442Z"
   },
   {
    "duration": 28,
    "start_time": "2022-01-13T16:06:01.476Z"
   },
   {
    "duration": 31,
    "start_time": "2022-01-13T16:06:01.507Z"
   },
   {
    "duration": 661,
    "start_time": "2022-01-13T16:08:43.718Z"
   },
   {
    "duration": 765,
    "start_time": "2022-01-13T16:09:09.339Z"
   },
   {
    "duration": 677,
    "start_time": "2022-01-13T16:10:09.932Z"
   },
   {
    "duration": 808,
    "start_time": "2022-01-13T16:13:54.063Z"
   },
   {
    "duration": 384,
    "start_time": "2022-01-13T16:16:02.807Z"
   },
   {
    "duration": 377,
    "start_time": "2022-01-13T16:16:16.982Z"
   },
   {
    "duration": 11,
    "start_time": "2022-01-13T16:16:55.758Z"
   },
   {
    "duration": 389,
    "start_time": "2022-01-13T16:17:12.344Z"
   },
   {
    "duration": 379,
    "start_time": "2022-01-13T16:17:44.572Z"
   },
   {
    "duration": 729,
    "start_time": "2022-01-13T16:17:54.747Z"
   },
   {
    "duration": 283,
    "start_time": "2022-01-13T16:19:46.745Z"
   },
   {
    "duration": 8016,
    "start_time": "2022-01-13T16:20:10.205Z"
   },
   {
    "duration": 1056,
    "start_time": "2022-01-13T16:20:23.888Z"
   },
   {
    "duration": 279,
    "start_time": "2022-01-13T16:22:02.308Z"
   },
   {
    "duration": 378,
    "start_time": "2022-01-13T16:22:20.799Z"
   },
   {
    "duration": 748,
    "start_time": "2022-01-13T16:23:44.006Z"
   },
   {
    "duration": 376,
    "start_time": "2022-01-13T16:24:04.568Z"
   },
   {
    "duration": 14,
    "start_time": "2022-01-13T16:25:56.419Z"
   },
   {
    "duration": 23,
    "start_time": "2022-01-13T16:26:12.294Z"
   },
   {
    "duration": 22,
    "start_time": "2022-01-13T16:26:53.757Z"
   },
   {
    "duration": 49,
    "start_time": "2022-01-13T16:27:22.758Z"
   },
   {
    "duration": 23,
    "start_time": "2022-01-13T16:27:22.810Z"
   },
   {
    "duration": 17,
    "start_time": "2022-01-13T16:27:22.836Z"
   },
   {
    "duration": 65,
    "start_time": "2022-01-13T16:27:22.855Z"
   },
   {
    "duration": 45,
    "start_time": "2022-01-13T16:27:22.922Z"
   },
   {
    "duration": 37,
    "start_time": "2022-01-13T16:27:22.969Z"
   },
   {
    "duration": 32,
    "start_time": "2022-01-13T16:27:23.008Z"
   },
   {
    "duration": 15,
    "start_time": "2022-01-13T16:27:23.042Z"
   },
   {
    "duration": 29,
    "start_time": "2022-01-13T16:27:23.061Z"
   },
   {
    "duration": 26,
    "start_time": "2022-01-13T16:27:23.093Z"
   },
   {
    "duration": 36,
    "start_time": "2022-01-13T16:27:23.122Z"
   },
   {
    "duration": 31,
    "start_time": "2022-01-13T16:27:23.161Z"
   },
   {
    "duration": 37,
    "start_time": "2022-01-13T16:27:23.194Z"
   },
   {
    "duration": 35,
    "start_time": "2022-01-13T16:27:23.234Z"
   },
   {
    "duration": 26,
    "start_time": "2022-01-13T16:27:23.271Z"
   },
   {
    "duration": 25,
    "start_time": "2022-01-13T16:27:23.299Z"
   },
   {
    "duration": 14,
    "start_time": "2022-01-13T16:27:23.327Z"
   },
   {
    "duration": 11,
    "start_time": "2022-01-13T16:27:23.344Z"
   },
   {
    "duration": 11,
    "start_time": "2022-01-13T16:27:23.357Z"
   },
   {
    "duration": 33,
    "start_time": "2022-01-13T16:27:23.370Z"
   },
   {
    "duration": 11,
    "start_time": "2022-01-13T16:27:23.405Z"
   },
   {
    "duration": 12,
    "start_time": "2022-01-13T16:27:23.418Z"
   },
   {
    "duration": 11,
    "start_time": "2022-01-13T16:27:23.433Z"
   },
   {
    "duration": 15,
    "start_time": "2022-01-13T16:27:23.446Z"
   },
   {
    "duration": 12,
    "start_time": "2022-01-13T16:27:23.501Z"
   },
   {
    "duration": 16,
    "start_time": "2022-01-13T16:27:23.515Z"
   },
   {
    "duration": 14,
    "start_time": "2022-01-13T16:27:23.536Z"
   },
   {
    "duration": 14,
    "start_time": "2022-01-13T16:27:23.553Z"
   },
   {
    "duration": 13,
    "start_time": "2022-01-13T16:27:23.600Z"
   },
   {
    "duration": 16,
    "start_time": "2022-01-13T16:27:23.616Z"
   },
   {
    "duration": 12,
    "start_time": "2022-01-13T16:27:23.634Z"
   },
   {
    "duration": 53,
    "start_time": "2022-01-13T16:27:23.649Z"
   },
   {
    "duration": 16,
    "start_time": "2022-01-13T16:27:23.705Z"
   },
   {
    "duration": 14,
    "start_time": "2022-01-13T16:27:23.724Z"
   },
   {
    "duration": 23,
    "start_time": "2022-01-13T16:27:23.741Z"
   },
   {
    "duration": 52,
    "start_time": "2022-01-13T16:27:23.766Z"
   },
   {
    "duration": 5,
    "start_time": "2022-01-13T16:27:23.821Z"
   },
   {
    "duration": 18,
    "start_time": "2022-01-13T16:27:23.828Z"
   },
   {
    "duration": 18,
    "start_time": "2022-01-13T16:27:23.849Z"
   },
   {
    "duration": 15,
    "start_time": "2022-01-13T16:27:23.870Z"
   },
   {
    "duration": 15,
    "start_time": "2022-01-13T16:27:23.889Z"
   },
   {
    "duration": 16,
    "start_time": "2022-01-13T16:27:23.907Z"
   },
   {
    "duration": 583,
    "start_time": "2022-01-13T16:27:23.926Z"
   },
   {
    "duration": 16,
    "start_time": "2022-01-13T16:27:24.511Z"
   },
   {
    "duration": 13,
    "start_time": "2022-01-13T16:27:24.529Z"
   },
   {
    "duration": 487,
    "start_time": "2022-01-13T16:27:24.544Z"
   },
   {
    "duration": 9,
    "start_time": "2022-01-13T16:27:25.033Z"
   },
   {
    "duration": 25,
    "start_time": "2022-01-13T16:27:25.044Z"
   },
   {
    "duration": 41,
    "start_time": "2022-01-13T16:27:25.071Z"
   },
   {
    "duration": 950,
    "start_time": "2022-01-13T16:27:25.115Z"
   },
   {
    "duration": 11,
    "start_time": "2022-01-13T16:27:26.068Z"
   },
   {
    "duration": 24,
    "start_time": "2022-01-13T16:27:26.101Z"
   },
   {
    "duration": 387,
    "start_time": "2022-01-13T16:27:26.127Z"
   },
   {
    "duration": 25,
    "start_time": "2022-01-13T16:28:12.356Z"
   },
   {
    "duration": 22,
    "start_time": "2022-01-13T16:34:59.667Z"
   },
   {
    "duration": 34,
    "start_time": "2022-01-13T16:35:21.958Z"
   },
   {
    "duration": 43,
    "start_time": "2022-01-13T16:35:34.226Z"
   },
   {
    "duration": 14,
    "start_time": "2022-01-13T16:35:52.084Z"
   },
   {
    "duration": 782,
    "start_time": "2022-01-13T16:35:58.941Z"
   },
   {
    "duration": 1042,
    "start_time": "2022-01-13T16:39:28.311Z"
   },
   {
    "duration": 1295,
    "start_time": "2022-01-13T16:41:41.621Z"
   },
   {
    "duration": 494,
    "start_time": "2022-01-13T16:41:58.772Z"
   },
   {
    "duration": 357,
    "start_time": "2022-01-13T16:43:03.447Z"
   },
   {
    "duration": 377,
    "start_time": "2022-01-13T16:43:57.586Z"
   },
   {
    "duration": 536,
    "start_time": "2022-01-13T16:44:22.003Z"
   },
   {
    "duration": 842,
    "start_time": "2022-01-13T16:44:34.712Z"
   },
   {
    "duration": 52,
    "start_time": "2022-01-13T16:44:43.238Z"
   },
   {
    "duration": 31,
    "start_time": "2022-01-13T16:44:43.292Z"
   },
   {
    "duration": 14,
    "start_time": "2022-01-13T16:44:43.327Z"
   },
   {
    "duration": 67,
    "start_time": "2022-01-13T16:44:43.344Z"
   },
   {
    "duration": 44,
    "start_time": "2022-01-13T16:44:43.414Z"
   },
   {
    "duration": 42,
    "start_time": "2022-01-13T16:44:43.461Z"
   },
   {
    "duration": 20,
    "start_time": "2022-01-13T16:44:43.505Z"
   },
   {
    "duration": 9,
    "start_time": "2022-01-13T16:44:43.531Z"
   },
   {
    "duration": 17,
    "start_time": "2022-01-13T16:44:43.544Z"
   },
   {
    "duration": 60,
    "start_time": "2022-01-13T16:44:43.565Z"
   },
   {
    "duration": 19,
    "start_time": "2022-01-13T16:44:43.628Z"
   },
   {
    "duration": 14,
    "start_time": "2022-01-13T16:44:43.649Z"
   },
   {
    "duration": 42,
    "start_time": "2022-01-13T16:44:43.666Z"
   },
   {
    "duration": 18,
    "start_time": "2022-01-13T16:44:43.712Z"
   },
   {
    "duration": 8,
    "start_time": "2022-01-13T16:44:43.733Z"
   },
   {
    "duration": 19,
    "start_time": "2022-01-13T16:44:43.745Z"
   },
   {
    "duration": 47,
    "start_time": "2022-01-13T16:44:43.767Z"
   },
   {
    "duration": 12,
    "start_time": "2022-01-13T16:44:43.816Z"
   },
   {
    "duration": 11,
    "start_time": "2022-01-13T16:44:43.831Z"
   },
   {
    "duration": 11,
    "start_time": "2022-01-13T16:44:43.844Z"
   },
   {
    "duration": 12,
    "start_time": "2022-01-13T16:44:43.900Z"
   },
   {
    "duration": 11,
    "start_time": "2022-01-13T16:44:43.915Z"
   },
   {
    "duration": 11,
    "start_time": "2022-01-13T16:44:43.932Z"
   },
   {
    "duration": 12,
    "start_time": "2022-01-13T16:44:44.000Z"
   },
   {
    "duration": 13,
    "start_time": "2022-01-13T16:44:44.015Z"
   },
   {
    "duration": 13,
    "start_time": "2022-01-13T16:44:44.031Z"
   },
   {
    "duration": 54,
    "start_time": "2022-01-13T16:44:44.046Z"
   },
   {
    "duration": 15,
    "start_time": "2022-01-13T16:44:44.103Z"
   },
   {
    "duration": 14,
    "start_time": "2022-01-13T16:44:44.121Z"
   },
   {
    "duration": 14,
    "start_time": "2022-01-13T16:44:44.138Z"
   },
   {
    "duration": 50,
    "start_time": "2022-01-13T16:44:44.156Z"
   },
   {
    "duration": 18,
    "start_time": "2022-01-13T16:44:44.209Z"
   },
   {
    "duration": 12,
    "start_time": "2022-01-13T16:44:44.229Z"
   },
   {
    "duration": 8,
    "start_time": "2022-01-13T16:44:44.244Z"
   },
   {
    "duration": 64,
    "start_time": "2022-01-13T16:44:44.255Z"
   },
   {
    "duration": 33,
    "start_time": "2022-01-13T16:44:44.322Z"
   },
   {
    "duration": 4,
    "start_time": "2022-01-13T16:44:44.358Z"
   },
   {
    "duration": 42,
    "start_time": "2022-01-13T16:44:44.365Z"
   },
   {
    "duration": 8,
    "start_time": "2022-01-13T16:44:44.409Z"
   },
   {
    "duration": 9,
    "start_time": "2022-01-13T16:44:44.420Z"
   },
   {
    "duration": 8,
    "start_time": "2022-01-13T16:44:44.432Z"
   },
   {
    "duration": 61,
    "start_time": "2022-01-13T16:44:44.443Z"
   },
   {
    "duration": 447,
    "start_time": "2022-01-13T16:44:44.506Z"
   },
   {
    "duration": 18,
    "start_time": "2022-01-13T16:44:44.956Z"
   },
   {
    "duration": 33,
    "start_time": "2022-01-13T16:44:44.977Z"
   },
   {
    "duration": 477,
    "start_time": "2022-01-13T16:44:45.014Z"
   },
   {
    "duration": 12,
    "start_time": "2022-01-13T16:44:45.494Z"
   },
   {
    "duration": 13,
    "start_time": "2022-01-13T16:44:45.509Z"
   },
   {
    "duration": 23,
    "start_time": "2022-01-13T16:44:45.525Z"
   },
   {
    "duration": 1037,
    "start_time": "2022-01-13T16:44:45.551Z"
   },
   {
    "duration": 19,
    "start_time": "2022-01-13T16:44:46.591Z"
   },
   {
    "duration": 15,
    "start_time": "2022-01-13T16:44:46.613Z"
   },
   {
    "duration": 734,
    "start_time": "2022-01-13T16:44:46.631Z"
   },
   {
    "duration": 391,
    "start_time": "2022-01-13T16:44:47.368Z"
   },
   {
    "duration": 382,
    "start_time": "2022-01-13T16:45:16.369Z"
   },
   {
    "duration": 606,
    "start_time": "2022-01-13T16:45:28.718Z"
   },
   {
    "duration": 49,
    "start_time": "2022-01-13T16:46:19.089Z"
   },
   {
    "duration": 23,
    "start_time": "2022-01-13T16:46:19.140Z"
   },
   {
    "duration": 14,
    "start_time": "2022-01-13T16:46:19.201Z"
   },
   {
    "duration": 26,
    "start_time": "2022-01-13T16:46:19.219Z"
   },
   {
    "duration": 88,
    "start_time": "2022-01-13T16:46:19.248Z"
   },
   {
    "duration": 14,
    "start_time": "2022-01-13T16:46:19.339Z"
   },
   {
    "duration": 50,
    "start_time": "2022-01-13T16:46:19.356Z"
   },
   {
    "duration": 6,
    "start_time": "2022-01-13T16:46:19.412Z"
   },
   {
    "duration": 20,
    "start_time": "2022-01-13T16:46:19.422Z"
   },
   {
    "duration": 8,
    "start_time": "2022-01-13T16:46:19.444Z"
   },
   {
    "duration": 52,
    "start_time": "2022-01-13T16:46:19.454Z"
   },
   {
    "duration": 12,
    "start_time": "2022-01-13T16:46:19.509Z"
   },
   {
    "duration": 15,
    "start_time": "2022-01-13T16:46:19.523Z"
   },
   {
    "duration": 12,
    "start_time": "2022-01-13T16:46:19.541Z"
   },
   {
    "duration": 6,
    "start_time": "2022-01-13T16:46:19.555Z"
   },
   {
    "duration": 13,
    "start_time": "2022-01-13T16:46:19.600Z"
   },
   {
    "duration": 11,
    "start_time": "2022-01-13T16:46:19.615Z"
   },
   {
    "duration": 11,
    "start_time": "2022-01-13T16:46:19.628Z"
   },
   {
    "duration": 11,
    "start_time": "2022-01-13T16:46:19.642Z"
   },
   {
    "duration": 11,
    "start_time": "2022-01-13T16:46:19.700Z"
   },
   {
    "duration": 11,
    "start_time": "2022-01-13T16:46:19.713Z"
   },
   {
    "duration": 10,
    "start_time": "2022-01-13T16:46:19.727Z"
   },
   {
    "duration": 11,
    "start_time": "2022-01-13T16:46:19.743Z"
   },
   {
    "duration": 52,
    "start_time": "2022-01-13T16:46:19.757Z"
   },
   {
    "duration": 12,
    "start_time": "2022-01-13T16:46:19.811Z"
   },
   {
    "duration": 11,
    "start_time": "2022-01-13T16:46:19.825Z"
   },
   {
    "duration": 11,
    "start_time": "2022-01-13T16:46:19.838Z"
   },
   {
    "duration": 58,
    "start_time": "2022-01-13T16:46:19.851Z"
   },
   {
    "duration": 15,
    "start_time": "2022-01-13T16:46:19.911Z"
   },
   {
    "duration": 14,
    "start_time": "2022-01-13T16:46:19.929Z"
   },
   {
    "duration": 10,
    "start_time": "2022-01-13T16:46:19.946Z"
   },
   {
    "duration": 55,
    "start_time": "2022-01-13T16:46:19.958Z"
   },
   {
    "duration": 14,
    "start_time": "2022-01-13T16:46:20.016Z"
   },
   {
    "duration": 6,
    "start_time": "2022-01-13T16:46:20.033Z"
   },
   {
    "duration": 22,
    "start_time": "2022-01-13T16:46:20.042Z"
   },
   {
    "duration": 65,
    "start_time": "2022-01-13T16:46:20.067Z"
   },
   {
    "duration": 5,
    "start_time": "2022-01-13T16:46:20.135Z"
   },
   {
    "duration": 14,
    "start_time": "2022-01-13T16:46:20.143Z"
   },
   {
    "duration": 8,
    "start_time": "2022-01-13T16:46:20.159Z"
   },
   {
    "duration": 36,
    "start_time": "2022-01-13T16:46:20.169Z"
   },
   {
    "duration": 10,
    "start_time": "2022-01-13T16:46:20.209Z"
   },
   {
    "duration": 17,
    "start_time": "2022-01-13T16:46:20.221Z"
   },
   {
    "duration": 454,
    "start_time": "2022-01-13T16:46:20.240Z"
   },
   {
    "duration": 17,
    "start_time": "2022-01-13T16:46:20.696Z"
   },
   {
    "duration": 13,
    "start_time": "2022-01-13T16:46:20.715Z"
   },
   {
    "duration": 589,
    "start_time": "2022-01-13T16:46:20.730Z"
   },
   {
    "duration": 9,
    "start_time": "2022-01-13T16:46:21.321Z"
   },
   {
    "duration": 22,
    "start_time": "2022-01-13T16:46:21.332Z"
   },
   {
    "duration": 49,
    "start_time": "2022-01-13T16:46:21.357Z"
   },
   {
    "duration": 1081,
    "start_time": "2022-01-13T16:46:21.409Z"
   },
   {
    "duration": 17,
    "start_time": "2022-01-13T16:46:22.492Z"
   },
   {
    "duration": 15,
    "start_time": "2022-01-13T16:46:22.511Z"
   },
   {
    "duration": 402,
    "start_time": "2022-01-13T16:46:22.529Z"
   },
   {
    "duration": 625,
    "start_time": "2022-01-13T16:46:22.933Z"
   },
   {
    "duration": 15,
    "start_time": "2022-01-13T16:50:51.223Z"
   },
   {
    "duration": 596,
    "start_time": "2022-01-13T16:59:56.477Z"
   },
   {
    "duration": 27,
    "start_time": "2022-01-13T17:19:48.012Z"
   },
   {
    "duration": 13,
    "start_time": "2022-01-13T17:19:51.226Z"
   },
   {
    "duration": 1626,
    "start_time": "2022-01-13T17:21:00.280Z"
   },
   {
    "duration": 1853,
    "start_time": "2022-01-13T17:21:26.051Z"
   },
   {
    "duration": 1599,
    "start_time": "2022-01-13T17:25:44.647Z"
   },
   {
    "duration": 1540,
    "start_time": "2022-01-13T17:25:59.684Z"
   },
   {
    "duration": 49,
    "start_time": "2022-01-13T17:26:51.062Z"
   },
   {
    "duration": 24,
    "start_time": "2022-01-13T17:26:51.114Z"
   },
   {
    "duration": 14,
    "start_time": "2022-01-13T17:26:51.141Z"
   },
   {
    "duration": 51,
    "start_time": "2022-01-13T17:26:51.158Z"
   },
   {
    "duration": 47,
    "start_time": "2022-01-13T17:26:51.211Z"
   },
   {
    "duration": 13,
    "start_time": "2022-01-13T17:26:51.260Z"
   },
   {
    "duration": 40,
    "start_time": "2022-01-13T17:26:51.275Z"
   },
   {
    "duration": 6,
    "start_time": "2022-01-13T17:26:51.318Z"
   },
   {
    "duration": 12,
    "start_time": "2022-01-13T17:26:51.328Z"
   },
   {
    "duration": 7,
    "start_time": "2022-01-13T17:26:51.343Z"
   },
   {
    "duration": 17,
    "start_time": "2022-01-13T17:26:51.352Z"
   },
   {
    "duration": 28,
    "start_time": "2022-01-13T17:26:51.372Z"
   },
   {
    "duration": 10,
    "start_time": "2022-01-13T17:26:51.403Z"
   },
   {
    "duration": 14,
    "start_time": "2022-01-13T17:26:51.415Z"
   },
   {
    "duration": 6,
    "start_time": "2022-01-13T17:26:51.431Z"
   },
   {
    "duration": 16,
    "start_time": "2022-01-13T17:26:51.439Z"
   },
   {
    "duration": 13,
    "start_time": "2022-01-13T17:26:51.457Z"
   },
   {
    "duration": 13,
    "start_time": "2022-01-13T17:26:51.473Z"
   },
   {
    "duration": 21,
    "start_time": "2022-01-13T17:26:51.488Z"
   },
   {
    "duration": 11,
    "start_time": "2022-01-13T17:26:51.511Z"
   },
   {
    "duration": 14,
    "start_time": "2022-01-13T17:26:51.525Z"
   },
   {
    "duration": 12,
    "start_time": "2022-01-13T17:26:51.542Z"
   },
   {
    "duration": 12,
    "start_time": "2022-01-13T17:26:51.557Z"
   },
   {
    "duration": 27,
    "start_time": "2022-01-13T17:26:51.572Z"
   },
   {
    "duration": 11,
    "start_time": "2022-01-13T17:26:51.602Z"
   },
   {
    "duration": 11,
    "start_time": "2022-01-13T17:26:51.615Z"
   },
   {
    "duration": 11,
    "start_time": "2022-01-13T17:26:51.632Z"
   },
   {
    "duration": 14,
    "start_time": "2022-01-13T17:26:51.646Z"
   },
   {
    "duration": 15,
    "start_time": "2022-01-13T17:26:51.662Z"
   },
   {
    "duration": 25,
    "start_time": "2022-01-13T17:26:51.680Z"
   },
   {
    "duration": 10,
    "start_time": "2022-01-13T17:26:51.708Z"
   },
   {
    "duration": 17,
    "start_time": "2022-01-13T17:26:51.720Z"
   },
   {
    "duration": 17,
    "start_time": "2022-01-13T17:26:51.740Z"
   },
   {
    "duration": 9,
    "start_time": "2022-01-13T17:26:51.760Z"
   },
   {
    "duration": 25,
    "start_time": "2022-01-13T17:26:51.771Z"
   },
   {
    "duration": 36,
    "start_time": "2022-01-13T17:26:51.800Z"
   },
   {
    "duration": 6,
    "start_time": "2022-01-13T17:26:51.838Z"
   },
   {
    "duration": 14,
    "start_time": "2022-01-13T17:26:51.846Z"
   },
   {
    "duration": 12,
    "start_time": "2022-01-13T17:26:51.862Z"
   },
   {
    "duration": 9,
    "start_time": "2022-01-13T17:26:51.877Z"
   },
   {
    "duration": 10,
    "start_time": "2022-01-13T17:26:51.888Z"
   },
   {
    "duration": 14,
    "start_time": "2022-01-13T17:26:51.901Z"
   },
   {
    "duration": 726,
    "start_time": "2022-01-13T17:26:51.918Z"
   },
   {
    "duration": 16,
    "start_time": "2022-01-13T17:26:52.647Z"
   },
   {
    "duration": 12,
    "start_time": "2022-01-13T17:26:52.665Z"
   },
   {
    "duration": 499,
    "start_time": "2022-01-13T17:26:52.680Z"
   },
   {
    "duration": 18,
    "start_time": "2022-01-13T17:26:53.183Z"
   },
   {
    "duration": 16,
    "start_time": "2022-01-13T17:26:53.204Z"
   },
   {
    "duration": 23,
    "start_time": "2022-01-13T17:26:53.223Z"
   },
   {
    "duration": 1012,
    "start_time": "2022-01-13T17:26:53.249Z"
   },
   {
    "duration": 12,
    "start_time": "2022-01-13T17:26:54.263Z"
   },
   {
    "duration": 36,
    "start_time": "2022-01-13T17:26:54.277Z"
   },
   {
    "duration": 366,
    "start_time": "2022-01-13T17:26:54.315Z"
   },
   {
    "duration": 700,
    "start_time": "2022-01-13T17:26:54.684Z"
   },
   {
    "duration": 16,
    "start_time": "2022-01-13T17:26:55.387Z"
   },
   {
    "duration": 1888,
    "start_time": "2022-01-13T17:26:55.405Z"
   },
   {
    "duration": 1578,
    "start_time": "2022-01-13T17:28:08.922Z"
   },
   {
    "duration": 10064,
    "start_time": "2022-01-13T17:31:54.710Z"
   },
   {
    "duration": 10,
    "start_time": "2022-01-13T17:32:18.382Z"
   },
   {
    "duration": 8,
    "start_time": "2022-01-13T17:33:40.268Z"
   },
   {
    "duration": 9,
    "start_time": "2022-01-13T17:34:21.649Z"
   },
   {
    "duration": 27,
    "start_time": "2022-01-13T17:51:47.503Z"
   },
   {
    "duration": 12,
    "start_time": "2022-01-13T17:53:44.040Z"
   },
   {
    "duration": 12,
    "start_time": "2022-01-13T17:54:08.156Z"
   },
   {
    "duration": 13,
    "start_time": "2022-01-13T17:54:43.675Z"
   },
   {
    "duration": 13,
    "start_time": "2022-01-13T17:59:55.040Z"
   },
   {
    "duration": 23,
    "start_time": "2022-01-13T18:00:18.804Z"
   },
   {
    "duration": 1521,
    "start_time": "2022-01-13T18:03:40.611Z"
   },
   {
    "duration": 27,
    "start_time": "2022-01-13T18:03:42.135Z"
   },
   {
    "duration": 15,
    "start_time": "2022-01-13T18:03:42.165Z"
   },
   {
    "duration": 30,
    "start_time": "2022-01-13T18:03:42.183Z"
   },
   {
    "duration": 45,
    "start_time": "2022-01-13T18:03:42.215Z"
   },
   {
    "duration": 12,
    "start_time": "2022-01-13T18:03:42.262Z"
   },
   {
    "duration": 28,
    "start_time": "2022-01-13T18:03:42.276Z"
   },
   {
    "duration": 7,
    "start_time": "2022-01-13T18:03:42.308Z"
   },
   {
    "duration": 13,
    "start_time": "2022-01-13T18:03:42.319Z"
   },
   {
    "duration": 8,
    "start_time": "2022-01-13T18:03:42.335Z"
   },
   {
    "duration": 26,
    "start_time": "2022-01-13T18:03:42.345Z"
   },
   {
    "duration": 36,
    "start_time": "2022-01-13T18:03:42.374Z"
   },
   {
    "duration": 14,
    "start_time": "2022-01-13T18:03:42.413Z"
   },
   {
    "duration": 15,
    "start_time": "2022-01-13T18:03:42.430Z"
   },
   {
    "duration": 7,
    "start_time": "2022-01-13T18:03:42.448Z"
   },
   {
    "duration": 18,
    "start_time": "2022-01-13T18:03:42.457Z"
   },
   {
    "duration": 10,
    "start_time": "2022-01-13T18:03:42.478Z"
   },
   {
    "duration": 21,
    "start_time": "2022-01-13T18:03:42.491Z"
   },
   {
    "duration": 11,
    "start_time": "2022-01-13T18:03:42.514Z"
   },
   {
    "duration": 10,
    "start_time": "2022-01-13T18:03:42.527Z"
   },
   {
    "duration": 10,
    "start_time": "2022-01-13T18:03:42.540Z"
   },
   {
    "duration": 12,
    "start_time": "2022-01-13T18:03:42.553Z"
   },
   {
    "duration": 30,
    "start_time": "2022-01-13T18:03:42.571Z"
   },
   {
    "duration": 13,
    "start_time": "2022-01-13T18:03:42.605Z"
   },
   {
    "duration": 15,
    "start_time": "2022-01-13T18:03:42.621Z"
   },
   {
    "duration": 16,
    "start_time": "2022-01-13T18:03:42.638Z"
   },
   {
    "duration": 13,
    "start_time": "2022-01-13T18:03:42.657Z"
   },
   {
    "duration": 31,
    "start_time": "2022-01-13T18:03:42.672Z"
   },
   {
    "duration": 13,
    "start_time": "2022-01-13T18:03:42.706Z"
   },
   {
    "duration": 14,
    "start_time": "2022-01-13T18:03:42.722Z"
   },
   {
    "duration": 13,
    "start_time": "2022-01-13T18:03:42.738Z"
   },
   {
    "duration": 18,
    "start_time": "2022-01-13T18:03:42.753Z"
   },
   {
    "duration": 16,
    "start_time": "2022-01-13T18:03:42.773Z"
   },
   {
    "duration": 12,
    "start_time": "2022-01-13T18:03:42.791Z"
   },
   {
    "duration": 29,
    "start_time": "2022-01-13T18:03:42.806Z"
   },
   {
    "duration": 35,
    "start_time": "2022-01-13T18:03:42.837Z"
   },
   {
    "duration": 5,
    "start_time": "2022-01-13T18:03:42.874Z"
   },
   {
    "duration": 9,
    "start_time": "2022-01-13T18:03:42.882Z"
   },
   {
    "duration": 6,
    "start_time": "2022-01-13T18:03:42.901Z"
   },
   {
    "duration": 11,
    "start_time": "2022-01-13T18:03:42.909Z"
   },
   {
    "duration": 36,
    "start_time": "2022-01-13T18:03:42.922Z"
   },
   {
    "duration": 13,
    "start_time": "2022-01-13T18:03:42.961Z"
   },
   {
    "duration": 625,
    "start_time": "2022-01-13T18:03:42.976Z"
   },
   {
    "duration": 17,
    "start_time": "2022-01-13T18:03:43.604Z"
   },
   {
    "duration": 14,
    "start_time": "2022-01-13T18:03:43.623Z"
   },
   {
    "duration": 764,
    "start_time": "2022-01-13T18:03:43.640Z"
   },
   {
    "duration": 8,
    "start_time": "2022-01-13T18:03:44.406Z"
   },
   {
    "duration": 12,
    "start_time": "2022-01-13T18:03:44.417Z"
   },
   {
    "duration": 75,
    "start_time": "2022-01-13T18:03:44.431Z"
   },
   {
    "duration": 3109,
    "start_time": "2022-01-13T18:07:25.801Z"
   },
   {
    "duration": 41,
    "start_time": "2022-01-13T18:07:28.913Z"
   },
   {
    "duration": 20,
    "start_time": "2022-01-13T18:07:28.959Z"
   },
   {
    "duration": 28,
    "start_time": "2022-01-13T18:07:29.002Z"
   },
   {
    "duration": 71,
    "start_time": "2022-01-13T18:07:29.032Z"
   },
   {
    "duration": 12,
    "start_time": "2022-01-13T18:07:29.105Z"
   },
   {
    "duration": 18,
    "start_time": "2022-01-13T18:07:29.119Z"
   },
   {
    "duration": 6,
    "start_time": "2022-01-13T18:07:29.141Z"
   },
   {
    "duration": 50,
    "start_time": "2022-01-13T18:07:29.150Z"
   },
   {
    "duration": 8,
    "start_time": "2022-01-13T18:07:29.203Z"
   },
   {
    "duration": 20,
    "start_time": "2022-01-13T18:07:29.213Z"
   },
   {
    "duration": 16,
    "start_time": "2022-01-13T18:07:29.235Z"
   },
   {
    "duration": 46,
    "start_time": "2022-01-13T18:07:29.254Z"
   },
   {
    "duration": 12,
    "start_time": "2022-01-13T18:07:29.303Z"
   },
   {
    "duration": 6,
    "start_time": "2022-01-13T18:07:29.317Z"
   },
   {
    "duration": 13,
    "start_time": "2022-01-13T18:07:29.326Z"
   },
   {
    "duration": 12,
    "start_time": "2022-01-13T18:07:29.341Z"
   },
   {
    "duration": 54,
    "start_time": "2022-01-13T18:07:29.355Z"
   },
   {
    "duration": 13,
    "start_time": "2022-01-13T18:07:29.412Z"
   },
   {
    "duration": 13,
    "start_time": "2022-01-13T18:07:29.428Z"
   },
   {
    "duration": 58,
    "start_time": "2022-01-13T18:07:29.444Z"
   },
   {
    "duration": 14,
    "start_time": "2022-01-13T18:07:29.505Z"
   },
   {
    "duration": 13,
    "start_time": "2022-01-13T18:07:29.526Z"
   },
   {
    "duration": 57,
    "start_time": "2022-01-13T18:07:29.543Z"
   },
   {
    "duration": 12,
    "start_time": "2022-01-13T18:07:29.603Z"
   },
   {
    "duration": 12,
    "start_time": "2022-01-13T18:07:29.617Z"
   },
   {
    "duration": 12,
    "start_time": "2022-01-13T18:07:29.632Z"
   },
   {
    "duration": 55,
    "start_time": "2022-01-13T18:07:29.646Z"
   },
   {
    "duration": 15,
    "start_time": "2022-01-13T18:07:29.703Z"
   },
   {
    "duration": 12,
    "start_time": "2022-01-13T18:07:29.721Z"
   },
   {
    "duration": 10,
    "start_time": "2022-01-13T18:07:29.736Z"
   },
   {
    "duration": 55,
    "start_time": "2022-01-13T18:07:29.748Z"
   },
   {
    "duration": 12,
    "start_time": "2022-01-13T18:07:29.805Z"
   },
   {
    "duration": 6,
    "start_time": "2022-01-13T18:07:29.819Z"
   },
   {
    "duration": 23,
    "start_time": "2022-01-13T18:07:29.828Z"
   },
   {
    "duration": 80,
    "start_time": "2022-01-13T18:07:29.854Z"
   },
   {
    "duration": 5,
    "start_time": "2022-01-13T18:07:29.936Z"
   },
   {
    "duration": 11,
    "start_time": "2022-01-13T18:07:29.943Z"
   },
   {
    "duration": 8,
    "start_time": "2022-01-13T18:07:29.957Z"
   },
   {
    "duration": 34,
    "start_time": "2022-01-13T18:07:29.967Z"
   },
   {
    "duration": 23,
    "start_time": "2022-01-13T18:07:30.004Z"
   },
   {
    "duration": 12,
    "start_time": "2022-01-13T18:07:30.029Z"
   },
   {
    "duration": 452,
    "start_time": "2022-01-13T18:07:30.043Z"
   },
   {
    "duration": 16,
    "start_time": "2022-01-13T18:07:30.501Z"
   },
   {
    "duration": 13,
    "start_time": "2022-01-13T18:07:30.520Z"
   },
   {
    "duration": 539,
    "start_time": "2022-01-13T18:07:30.536Z"
   },
   {
    "duration": 26,
    "start_time": "2022-01-13T18:07:31.077Z"
   },
   {
    "duration": 14,
    "start_time": "2022-01-13T18:07:31.106Z"
   },
   {
    "duration": 27,
    "start_time": "2022-01-13T18:07:31.122Z"
   },
   {
    "duration": 1070,
    "start_time": "2022-01-13T18:07:31.152Z"
   },
   {
    "duration": 12,
    "start_time": "2022-01-13T18:07:32.225Z"
   },
   {
    "duration": 20,
    "start_time": "2022-01-13T18:07:32.241Z"
   },
   {
    "duration": 393,
    "start_time": "2022-01-13T18:07:32.263Z"
   },
   {
    "duration": 737,
    "start_time": "2022-01-13T18:07:32.659Z"
   },
   {
    "duration": 1976,
    "start_time": "2022-01-13T18:07:33.401Z"
   },
   {
    "duration": 22,
    "start_time": "2022-01-13T18:07:35.380Z"
   },
   {
    "duration": 11,
    "start_time": "2022-01-13T18:07:35.405Z"
   },
   {
    "duration": 13,
    "start_time": "2022-01-13T18:07:35.418Z"
   },
   {
    "duration": 14,
    "start_time": "2022-01-13T18:07:35.433Z"
   },
   {
    "duration": 56,
    "start_time": "2022-01-13T18:07:35.449Z"
   },
   {
    "duration": 12,
    "start_time": "2022-01-13T18:07:35.508Z"
   },
   {
    "duration": 13,
    "start_time": "2022-01-13T18:07:35.522Z"
   },
   {
    "duration": 24,
    "start_time": "2022-01-13T18:07:35.537Z"
   },
   {
    "duration": 1603,
    "start_time": "2022-01-13T18:09:16.725Z"
   },
   {
    "duration": 27,
    "start_time": "2022-01-13T18:09:18.331Z"
   },
   {
    "duration": 42,
    "start_time": "2022-01-13T18:09:18.364Z"
   },
   {
    "duration": 24,
    "start_time": "2022-01-13T18:09:18.409Z"
   },
   {
    "duration": 69,
    "start_time": "2022-01-13T18:09:18.436Z"
   },
   {
    "duration": 12,
    "start_time": "2022-01-13T18:09:18.508Z"
   },
   {
    "duration": 17,
    "start_time": "2022-01-13T18:09:18.524Z"
   },
   {
    "duration": 6,
    "start_time": "2022-01-13T18:09:18.544Z"
   },
   {
    "duration": 56,
    "start_time": "2022-01-13T18:09:18.553Z"
   },
   {
    "duration": 8,
    "start_time": "2022-01-13T18:09:18.612Z"
   },
   {
    "duration": 20,
    "start_time": "2022-01-13T18:09:18.623Z"
   },
   {
    "duration": 56,
    "start_time": "2022-01-13T18:09:18.646Z"
   },
   {
    "duration": 11,
    "start_time": "2022-01-13T18:09:18.705Z"
   },
   {
    "duration": 11,
    "start_time": "2022-01-13T18:09:18.719Z"
   },
   {
    "duration": 6,
    "start_time": "2022-01-13T18:09:18.732Z"
   },
   {
    "duration": 13,
    "start_time": "2022-01-13T18:09:18.740Z"
   },
   {
    "duration": 10,
    "start_time": "2022-01-13T18:09:18.799Z"
   },
   {
    "duration": 30,
    "start_time": "2022-01-13T18:09:18.811Z"
   },
   {
    "duration": 14,
    "start_time": "2022-01-13T18:09:18.843Z"
   },
   {
    "duration": 19,
    "start_time": "2022-01-13T18:09:18.859Z"
   },
   {
    "duration": 20,
    "start_time": "2022-01-13T18:09:18.881Z"
   },
   {
    "duration": 13,
    "start_time": "2022-01-13T18:09:18.907Z"
   },
   {
    "duration": 19,
    "start_time": "2022-01-13T18:09:18.923Z"
   },
   {
    "duration": 14,
    "start_time": "2022-01-13T18:09:18.944Z"
   },
   {
    "duration": 25,
    "start_time": "2022-01-13T18:09:18.960Z"
   },
   {
    "duration": 13,
    "start_time": "2022-01-13T18:09:19.000Z"
   },
   {
    "duration": 16,
    "start_time": "2022-01-13T18:09:19.015Z"
   },
   {
    "duration": 24,
    "start_time": "2022-01-13T18:09:19.034Z"
   },
   {
    "duration": 20,
    "start_time": "2022-01-13T18:09:19.061Z"
   },
   {
    "duration": 28,
    "start_time": "2022-01-13T18:09:19.083Z"
   },
   {
    "duration": 14,
    "start_time": "2022-01-13T18:09:19.113Z"
   },
   {
    "duration": 33,
    "start_time": "2022-01-13T18:09:19.129Z"
   },
   {
    "duration": 26,
    "start_time": "2022-01-13T18:09:19.164Z"
   },
   {
    "duration": 28,
    "start_time": "2022-01-13T18:09:19.192Z"
   },
   {
    "duration": 36,
    "start_time": "2022-01-13T18:09:19.222Z"
   },
   {
    "duration": 35,
    "start_time": "2022-01-13T18:09:19.260Z"
   },
   {
    "duration": 5,
    "start_time": "2022-01-13T18:09:19.297Z"
   },
   {
    "duration": 16,
    "start_time": "2022-01-13T18:09:19.305Z"
   },
   {
    "duration": 18,
    "start_time": "2022-01-13T18:09:19.324Z"
   },
   {
    "duration": 12,
    "start_time": "2022-01-13T18:09:19.345Z"
   },
   {
    "duration": 16,
    "start_time": "2022-01-13T18:09:19.359Z"
   },
   {
    "duration": 11,
    "start_time": "2022-01-13T18:09:19.377Z"
   },
   {
    "duration": 434,
    "start_time": "2022-01-13T18:09:19.390Z"
   },
   {
    "duration": 17,
    "start_time": "2022-01-13T18:09:19.826Z"
   },
   {
    "duration": 19,
    "start_time": "2022-01-13T18:09:19.845Z"
   },
   {
    "duration": 488,
    "start_time": "2022-01-13T18:09:19.867Z"
   },
   {
    "duration": 9,
    "start_time": "2022-01-13T18:09:20.357Z"
   },
   {
    "duration": 32,
    "start_time": "2022-01-13T18:09:20.368Z"
   },
   {
    "duration": 27,
    "start_time": "2022-01-13T18:09:20.403Z"
   },
   {
    "duration": 930,
    "start_time": "2022-01-13T18:09:20.432Z"
   },
   {
    "duration": 12,
    "start_time": "2022-01-13T18:09:21.364Z"
   },
   {
    "duration": 41,
    "start_time": "2022-01-13T18:09:21.378Z"
   },
   {
    "duration": 359,
    "start_time": "2022-01-13T18:09:21.422Z"
   },
   {
    "duration": 593,
    "start_time": "2022-01-13T18:09:21.783Z"
   },
   {
    "duration": 1699,
    "start_time": "2022-01-13T18:09:22.379Z"
   },
   {
    "duration": 19,
    "start_time": "2022-01-13T18:09:24.081Z"
   },
   {
    "duration": 13,
    "start_time": "2022-01-13T18:09:24.102Z"
   },
   {
    "duration": 29,
    "start_time": "2022-01-13T18:09:24.117Z"
   },
   {
    "duration": 26,
    "start_time": "2022-01-13T18:09:24.148Z"
   },
   {
    "duration": 32,
    "start_time": "2022-01-13T18:09:24.176Z"
   },
   {
    "duration": 34,
    "start_time": "2022-01-13T18:09:24.211Z"
   },
   {
    "duration": 27,
    "start_time": "2022-01-13T18:09:24.247Z"
   },
   {
    "duration": 39,
    "start_time": "2022-01-13T18:09:24.277Z"
   },
   {
    "duration": 11,
    "start_time": "2022-01-13T18:09:56.008Z"
   },
   {
    "duration": 12,
    "start_time": "2022-01-13T18:20:01.360Z"
   },
   {
    "duration": 21,
    "start_time": "2022-01-13T18:20:35.880Z"
   },
   {
    "duration": 268,
    "start_time": "2022-01-13T18:22:43.367Z"
   },
   {
    "duration": 12,
    "start_time": "2022-01-13T18:23:06.377Z"
   },
   {
    "duration": 258,
    "start_time": "2022-01-13T18:24:30.629Z"
   },
   {
    "duration": 128,
    "start_time": "2022-01-13T18:25:19.580Z"
   },
   {
    "duration": 259,
    "start_time": "2022-01-13T18:25:22.890Z"
   },
   {
    "duration": 249,
    "start_time": "2022-01-13T18:25:25.942Z"
   },
   {
    "duration": 250,
    "start_time": "2022-01-13T18:25:30.219Z"
   },
   {
    "duration": 254,
    "start_time": "2022-01-13T18:26:38.837Z"
   },
   {
    "duration": 123,
    "start_time": "2022-01-13T18:32:25.723Z"
   },
   {
    "duration": 239,
    "start_time": "2022-01-13T18:32:43.130Z"
   },
   {
    "duration": 269,
    "start_time": "2022-01-13T18:40:12.250Z"
   },
   {
    "duration": 262,
    "start_time": "2022-01-13T18:41:24.735Z"
   },
   {
    "duration": 253,
    "start_time": "2022-01-13T18:42:04.711Z"
   },
   {
    "duration": 292,
    "start_time": "2022-01-13T18:42:14.846Z"
   },
   {
    "duration": 434,
    "start_time": "2022-01-13T18:43:19.502Z"
   },
   {
    "duration": 394,
    "start_time": "2022-01-13T18:45:02.872Z"
   },
   {
    "duration": 285,
    "start_time": "2022-01-13T18:45:43.696Z"
   },
   {
    "duration": 256,
    "start_time": "2022-01-13T18:46:49.686Z"
   },
   {
    "duration": 12,
    "start_time": "2022-01-13T18:58:52.825Z"
   },
   {
    "duration": 19,
    "start_time": "2022-01-13T18:59:36.292Z"
   },
   {
    "duration": 11,
    "start_time": "2022-01-13T19:01:17.890Z"
   },
   {
    "duration": 13,
    "start_time": "2022-01-13T19:05:50.375Z"
   },
   {
    "duration": 15,
    "start_time": "2022-01-13T19:05:54.171Z"
   },
   {
    "duration": 15,
    "start_time": "2022-01-13T19:16:58.688Z"
   },
   {
    "duration": 11,
    "start_time": "2022-01-13T19:20:32.667Z"
   },
   {
    "duration": 11,
    "start_time": "2022-01-13T19:21:16.785Z"
   },
   {
    "duration": 10,
    "start_time": "2022-01-13T19:22:41.711Z"
   },
   {
    "duration": 13,
    "start_time": "2022-01-13T19:23:34.057Z"
   },
   {
    "duration": 13,
    "start_time": "2022-01-13T19:23:46.802Z"
   },
   {
    "duration": 11,
    "start_time": "2022-01-13T19:41:13.192Z"
   },
   {
    "duration": 12,
    "start_time": "2022-01-13T19:41:23.039Z"
   },
   {
    "duration": 516,
    "start_time": "2022-01-13T19:44:21.988Z"
   },
   {
    "duration": 11,
    "start_time": "2022-01-13T19:44:27.465Z"
   },
   {
    "duration": 8,
    "start_time": "2022-01-13T19:44:30.097Z"
   },
   {
    "duration": 13,
    "start_time": "2022-01-13T19:45:17.736Z"
   },
   {
    "duration": 13,
    "start_time": "2022-01-13T19:47:09.417Z"
   },
   {
    "duration": 9,
    "start_time": "2022-01-13T19:48:58.311Z"
   },
   {
    "duration": 11,
    "start_time": "2022-01-13T19:49:02.084Z"
   },
   {
    "duration": 7,
    "start_time": "2022-01-13T19:51:30.854Z"
   },
   {
    "duration": 12,
    "start_time": "2022-01-13T19:52:24.076Z"
   },
   {
    "duration": 1731,
    "start_time": "2022-01-13T19:52:54.170Z"
   },
   {
    "duration": 35,
    "start_time": "2022-01-13T19:52:55.905Z"
   },
   {
    "duration": 16,
    "start_time": "2022-01-13T19:52:55.944Z"
   },
   {
    "duration": 62,
    "start_time": "2022-01-13T19:52:55.963Z"
   },
   {
    "duration": 45,
    "start_time": "2022-01-13T19:52:56.030Z"
   },
   {
    "duration": 19,
    "start_time": "2022-01-13T19:52:56.106Z"
   },
   {
    "duration": 19,
    "start_time": "2022-01-13T19:52:56.132Z"
   },
   {
    "duration": 7,
    "start_time": "2022-01-13T19:52:56.154Z"
   },
   {
    "duration": 47,
    "start_time": "2022-01-13T19:52:56.167Z"
   },
   {
    "duration": 10,
    "start_time": "2022-01-13T19:52:56.218Z"
   },
   {
    "duration": 19,
    "start_time": "2022-01-13T19:52:56.232Z"
   },
   {
    "duration": 54,
    "start_time": "2022-01-13T19:52:56.253Z"
   },
   {
    "duration": 21,
    "start_time": "2022-01-13T19:52:56.310Z"
   },
   {
    "duration": 16,
    "start_time": "2022-01-13T19:52:56.334Z"
   },
   {
    "duration": 7,
    "start_time": "2022-01-13T19:52:56.353Z"
   },
   {
    "duration": 51,
    "start_time": "2022-01-13T19:52:56.363Z"
   },
   {
    "duration": 14,
    "start_time": "2022-01-13T19:52:56.418Z"
   },
   {
    "duration": 15,
    "start_time": "2022-01-13T19:52:56.435Z"
   },
   {
    "duration": 60,
    "start_time": "2022-01-13T19:52:56.452Z"
   },
   {
    "duration": 14,
    "start_time": "2022-01-13T19:52:56.514Z"
   },
   {
    "duration": 12,
    "start_time": "2022-01-13T19:52:56.531Z"
   },
   {
    "duration": 12,
    "start_time": "2022-01-13T19:52:56.546Z"
   },
   {
    "duration": 58,
    "start_time": "2022-01-13T19:52:56.561Z"
   },
   {
    "duration": 17,
    "start_time": "2022-01-13T19:52:56.623Z"
   },
   {
    "duration": 13,
    "start_time": "2022-01-13T19:52:56.644Z"
   },
   {
    "duration": 51,
    "start_time": "2022-01-13T19:52:56.660Z"
   },
   {
    "duration": 14,
    "start_time": "2022-01-13T19:52:56.725Z"
   },
   {
    "duration": 23,
    "start_time": "2022-01-13T19:52:56.743Z"
   },
   {
    "duration": 44,
    "start_time": "2022-01-13T19:52:56.769Z"
   },
   {
    "duration": 24,
    "start_time": "2022-01-13T19:52:56.817Z"
   },
   {
    "duration": 40,
    "start_time": "2022-01-13T19:52:56.844Z"
   },
   {
    "duration": 32,
    "start_time": "2022-01-13T19:52:56.886Z"
   },
   {
    "duration": 23,
    "start_time": "2022-01-13T19:52:56.923Z"
   },
   {
    "duration": 12,
    "start_time": "2022-01-13T19:52:56.949Z"
   },
   {
    "duration": 31,
    "start_time": "2022-01-13T19:52:56.963Z"
   },
   {
    "duration": 47,
    "start_time": "2022-01-13T19:52:57.000Z"
   },
   {
    "duration": 5,
    "start_time": "2022-01-13T19:52:57.049Z"
   },
   {
    "duration": 14,
    "start_time": "2022-01-13T19:52:57.056Z"
   },
   {
    "duration": 43,
    "start_time": "2022-01-13T19:52:57.072Z"
   },
   {
    "duration": 10,
    "start_time": "2022-01-13T19:52:57.119Z"
   },
   {
    "duration": 13,
    "start_time": "2022-01-13T19:52:57.136Z"
   },
   {
    "duration": 11,
    "start_time": "2022-01-13T19:52:57.152Z"
   },
   {
    "duration": 505,
    "start_time": "2022-01-13T19:52:57.166Z"
   },
   {
    "duration": 30,
    "start_time": "2022-01-13T19:52:57.674Z"
   },
   {
    "duration": 18,
    "start_time": "2022-01-13T19:52:57.707Z"
   },
   {
    "duration": 510,
    "start_time": "2022-01-13T19:52:57.729Z"
   },
   {
    "duration": 8,
    "start_time": "2022-01-13T19:52:58.242Z"
   },
   {
    "duration": 13,
    "start_time": "2022-01-13T19:52:58.252Z"
   },
   {
    "duration": 56,
    "start_time": "2022-01-13T19:52:58.267Z"
   },
   {
    "duration": 1027,
    "start_time": "2022-01-13T19:52:58.326Z"
   },
   {
    "duration": 15,
    "start_time": "2022-01-13T19:52:59.356Z"
   },
   {
    "duration": 417,
    "start_time": "2022-01-13T19:52:59.374Z"
   },
   {
    "duration": 666,
    "start_time": "2022-01-13T19:52:59.801Z"
   },
   {
    "duration": 2052,
    "start_time": "2022-01-13T19:53:00.470Z"
   },
   {
    "duration": 11,
    "start_time": "2022-01-13T19:53:02.525Z"
   },
   {
    "duration": 23,
    "start_time": "2022-01-13T19:53:02.538Z"
   },
   {
    "duration": 46,
    "start_time": "2022-01-13T19:53:02.563Z"
   },
   {
    "duration": 13,
    "start_time": "2022-01-13T19:53:02.623Z"
   },
   {
    "duration": 14,
    "start_time": "2022-01-13T19:53:02.639Z"
   },
   {
    "duration": 16,
    "start_time": "2022-01-13T19:53:02.656Z"
   },
   {
    "duration": 38,
    "start_time": "2022-01-13T19:53:02.674Z"
   },
   {
    "duration": 32,
    "start_time": "2022-01-13T19:53:02.715Z"
   },
   {
    "duration": 412,
    "start_time": "2022-01-13T19:53:02.750Z"
   },
   {
    "duration": 297,
    "start_time": "2022-01-13T19:53:03.165Z"
   },
   {
    "duration": 289,
    "start_time": "2022-01-13T19:53:03.465Z"
   },
   {
    "duration": 299,
    "start_time": "2022-01-13T19:53:03.757Z"
   },
   {
    "duration": 312,
    "start_time": "2022-01-13T19:53:04.059Z"
   },
   {
    "duration": 289,
    "start_time": "2022-01-13T19:53:04.374Z"
   },
   {
    "duration": 289,
    "start_time": "2022-01-13T19:53:04.666Z"
   },
   {
    "duration": 330,
    "start_time": "2022-01-13T19:53:04.959Z"
   },
   {
    "duration": 290,
    "start_time": "2022-01-13T19:53:05.292Z"
   },
   {
    "duration": 23,
    "start_time": "2022-01-13T19:53:05.584Z"
   },
   {
    "duration": 16,
    "start_time": "2022-01-13T19:53:05.610Z"
   },
   {
    "duration": 13,
    "start_time": "2022-01-13T19:53:05.630Z"
   },
   {
    "duration": 53,
    "start_time": "2022-01-13T19:53:05.647Z"
   },
   {
    "duration": 16,
    "start_time": "2022-01-13T19:53:05.704Z"
   },
   {
    "duration": 11,
    "start_time": "2022-01-13T19:53:05.723Z"
   },
   {
    "duration": 13,
    "start_time": "2022-01-13T19:53:05.737Z"
   },
   {
    "duration": 131,
    "start_time": "2022-01-16T05:54:45.477Z"
   },
   {
    "duration": 1442,
    "start_time": "2022-01-16T08:42:03.113Z"
   },
   {
    "duration": 26,
    "start_time": "2022-01-16T08:42:04.558Z"
   },
   {
    "duration": 15,
    "start_time": "2022-01-16T08:42:04.587Z"
   },
   {
    "duration": 20,
    "start_time": "2022-01-16T08:42:04.604Z"
   },
   {
    "duration": 72,
    "start_time": "2022-01-16T08:42:04.627Z"
   },
   {
    "duration": 12,
    "start_time": "2022-01-16T08:42:04.701Z"
   },
   {
    "duration": 46,
    "start_time": "2022-01-16T08:42:04.715Z"
   },
   {
    "duration": 6,
    "start_time": "2022-01-16T08:42:04.764Z"
   },
   {
    "duration": 12,
    "start_time": "2022-01-16T08:42:04.774Z"
   },
   {
    "duration": 7,
    "start_time": "2022-01-16T08:42:04.788Z"
   },
   {
    "duration": 20,
    "start_time": "2022-01-16T08:42:04.797Z"
   },
   {
    "duration": 54,
    "start_time": "2022-01-16T08:42:04.820Z"
   },
   {
    "duration": 11,
    "start_time": "2022-01-16T08:42:04.877Z"
   },
   {
    "duration": 13,
    "start_time": "2022-01-16T08:42:04.890Z"
   },
   {
    "duration": 55,
    "start_time": "2022-01-16T08:42:04.905Z"
   },
   {
    "duration": 14,
    "start_time": "2022-01-16T08:42:04.963Z"
   },
   {
    "duration": 10,
    "start_time": "2022-01-16T08:42:04.980Z"
   },
   {
    "duration": 10,
    "start_time": "2022-01-16T08:42:04.993Z"
   },
   {
    "duration": 60,
    "start_time": "2022-01-16T08:42:05.005Z"
   },
   {
    "duration": 10,
    "start_time": "2022-01-16T08:42:05.067Z"
   },
   {
    "duration": 10,
    "start_time": "2022-01-16T08:42:05.079Z"
   },
   {
    "duration": 11,
    "start_time": "2022-01-16T08:42:05.092Z"
   },
   {
    "duration": 10,
    "start_time": "2022-01-16T08:42:05.109Z"
   },
   {
    "duration": 10,
    "start_time": "2022-01-16T08:42:05.161Z"
   },
   {
    "duration": 11,
    "start_time": "2022-01-16T08:42:05.173Z"
   },
   {
    "duration": 9,
    "start_time": "2022-01-16T08:42:05.186Z"
   },
   {
    "duration": 10,
    "start_time": "2022-01-16T08:42:05.200Z"
   },
   {
    "duration": 58,
    "start_time": "2022-01-16T08:42:05.212Z"
   },
   {
    "duration": 16,
    "start_time": "2022-01-16T08:42:05.272Z"
   },
   {
    "duration": 13,
    "start_time": "2022-01-16T08:42:05.290Z"
   },
   {
    "duration": 12,
    "start_time": "2022-01-16T08:42:05.305Z"
   },
   {
    "duration": 49,
    "start_time": "2022-01-16T08:42:05.319Z"
   },
   {
    "duration": 15,
    "start_time": "2022-01-16T08:42:05.371Z"
   },
   {
    "duration": 8,
    "start_time": "2022-01-16T08:42:05.389Z"
   },
   {
    "duration": 21,
    "start_time": "2022-01-16T08:42:05.400Z"
   },
   {
    "duration": 66,
    "start_time": "2022-01-16T08:42:05.424Z"
   },
   {
    "duration": 5,
    "start_time": "2022-01-16T08:42:05.493Z"
   },
   {
    "duration": 11,
    "start_time": "2022-01-16T08:42:05.501Z"
   },
   {
    "duration": 9,
    "start_time": "2022-01-16T08:42:05.515Z"
   },
   {
    "duration": 8,
    "start_time": "2022-01-16T08:42:05.559Z"
   },
   {
    "duration": 13,
    "start_time": "2022-01-16T08:42:05.570Z"
   },
   {
    "duration": 12,
    "start_time": "2022-01-16T08:42:05.586Z"
   },
   {
    "duration": 454,
    "start_time": "2022-01-16T08:42:05.607Z"
   },
   {
    "duration": 17,
    "start_time": "2022-01-16T08:42:06.064Z"
   },
   {
    "duration": 13,
    "start_time": "2022-01-16T08:42:06.084Z"
   },
   {
    "duration": 478,
    "start_time": "2022-01-16T08:42:06.099Z"
   },
   {
    "duration": 8,
    "start_time": "2022-01-16T08:42:06.580Z"
   },
   {
    "duration": 22,
    "start_time": "2022-01-16T08:42:06.590Z"
   },
   {
    "duration": 46,
    "start_time": "2022-01-16T08:42:06.615Z"
   },
   {
    "duration": 888,
    "start_time": "2022-01-16T08:42:06.664Z"
   },
   {
    "duration": 15,
    "start_time": "2022-01-16T08:42:07.559Z"
   },
   {
    "duration": 369,
    "start_time": "2022-01-16T08:42:07.576Z"
   },
   {
    "duration": 591,
    "start_time": "2022-01-16T08:42:07.947Z"
   },
   {
    "duration": 1738,
    "start_time": "2022-01-16T08:42:08.540Z"
   },
   {
    "duration": 8,
    "start_time": "2022-01-16T08:42:10.280Z"
   },
   {
    "duration": 9,
    "start_time": "2022-01-16T08:42:10.290Z"
   },
   {
    "duration": 11,
    "start_time": "2022-01-16T08:42:10.301Z"
   },
   {
    "duration": 50,
    "start_time": "2022-01-16T08:42:10.315Z"
   },
   {
    "duration": 12,
    "start_time": "2022-01-16T08:42:10.367Z"
   },
   {
    "duration": 12,
    "start_time": "2022-01-16T08:42:10.382Z"
   },
   {
    "duration": 14,
    "start_time": "2022-01-16T08:42:10.396Z"
   },
   {
    "duration": 59,
    "start_time": "2022-01-16T08:42:10.412Z"
   },
   {
    "duration": 263,
    "start_time": "2022-01-16T08:42:10.474Z"
   },
   {
    "duration": 257,
    "start_time": "2022-01-16T08:42:10.739Z"
   },
   {
    "duration": 250,
    "start_time": "2022-01-16T08:42:10.999Z"
   },
   {
    "duration": 253,
    "start_time": "2022-01-16T08:42:11.259Z"
   },
   {
    "duration": 256,
    "start_time": "2022-01-16T08:42:11.515Z"
   },
   {
    "duration": 261,
    "start_time": "2022-01-16T08:42:11.779Z"
   },
   {
    "duration": 258,
    "start_time": "2022-01-16T08:42:12.042Z"
   },
   {
    "duration": 266,
    "start_time": "2022-01-16T08:42:12.302Z"
   },
   {
    "duration": 256,
    "start_time": "2022-01-16T08:42:12.570Z"
   },
   {
    "duration": 10,
    "start_time": "2022-01-16T08:42:12.829Z"
   },
   {
    "duration": 23,
    "start_time": "2022-01-16T08:42:12.841Z"
   },
   {
    "duration": 9,
    "start_time": "2022-01-16T08:42:12.866Z"
   },
   {
    "duration": 10,
    "start_time": "2022-01-16T08:42:12.877Z"
   },
   {
    "duration": 10,
    "start_time": "2022-01-16T08:42:12.889Z"
   },
   {
    "duration": 10,
    "start_time": "2022-01-16T08:42:12.901Z"
   },
   {
    "duration": 11,
    "start_time": "2022-01-16T08:42:12.960Z"
   },
   {
    "duration": 560,
    "start_time": "2022-01-16T08:47:34.292Z"
   },
   {
    "duration": 385,
    "start_time": "2022-01-16T08:47:41.507Z"
   },
   {
    "duration": 285,
    "start_time": "2022-01-16T08:47:58.187Z"
   },
   {
    "duration": 430,
    "start_time": "2022-01-16T08:49:01.088Z"
   },
   {
    "duration": 467,
    "start_time": "2022-01-16T08:49:10.814Z"
   },
   {
    "duration": 635,
    "start_time": "2022-01-16T08:50:45.452Z"
   },
   {
    "duration": 335,
    "start_time": "2022-01-16T08:52:25.817Z"
   },
   {
    "duration": 46,
    "start_time": "2022-01-16T08:52:58.845Z"
   },
   {
    "duration": 21,
    "start_time": "2022-01-16T08:52:58.893Z"
   },
   {
    "duration": 45,
    "start_time": "2022-01-16T08:52:58.917Z"
   },
   {
    "duration": 20,
    "start_time": "2022-01-16T08:52:58.965Z"
   },
   {
    "duration": 73,
    "start_time": "2022-01-16T08:52:58.988Z"
   },
   {
    "duration": 11,
    "start_time": "2022-01-16T08:52:59.064Z"
   },
   {
    "duration": 21,
    "start_time": "2022-01-16T08:52:59.077Z"
   },
   {
    "duration": 6,
    "start_time": "2022-01-16T08:52:59.101Z"
   },
   {
    "duration": 55,
    "start_time": "2022-01-16T08:52:59.110Z"
   },
   {
    "duration": 6,
    "start_time": "2022-01-16T08:52:59.168Z"
   },
   {
    "duration": 18,
    "start_time": "2022-01-16T08:52:59.176Z"
   },
   {
    "duration": 13,
    "start_time": "2022-01-16T08:52:59.197Z"
   },
   {
    "duration": 10,
    "start_time": "2022-01-16T08:52:59.261Z"
   },
   {
    "duration": 11,
    "start_time": "2022-01-16T08:52:59.273Z"
   },
   {
    "duration": 6,
    "start_time": "2022-01-16T08:52:59.287Z"
   },
   {
    "duration": 12,
    "start_time": "2022-01-16T08:52:59.295Z"
   },
   {
    "duration": 52,
    "start_time": "2022-01-16T08:52:59.309Z"
   },
   {
    "duration": 10,
    "start_time": "2022-01-16T08:52:59.363Z"
   },
   {
    "duration": 11,
    "start_time": "2022-01-16T08:52:59.376Z"
   },
   {
    "duration": 13,
    "start_time": "2022-01-16T08:52:59.390Z"
   },
   {
    "duration": 61,
    "start_time": "2022-01-16T08:52:59.405Z"
   },
   {
    "duration": 12,
    "start_time": "2022-01-16T08:52:59.469Z"
   },
   {
    "duration": 11,
    "start_time": "2022-01-16T08:52:59.490Z"
   },
   {
    "duration": 56,
    "start_time": "2022-01-16T08:52:59.507Z"
   },
   {
    "duration": 12,
    "start_time": "2022-01-16T08:52:59.566Z"
   },
   {
    "duration": 12,
    "start_time": "2022-01-16T08:52:59.580Z"
   },
   {
    "duration": 12,
    "start_time": "2022-01-16T08:52:59.594Z"
   },
   {
    "duration": 55,
    "start_time": "2022-01-16T08:52:59.608Z"
   },
   {
    "duration": 13,
    "start_time": "2022-01-16T08:52:59.666Z"
   },
   {
    "duration": 13,
    "start_time": "2022-01-16T08:52:59.681Z"
   },
   {
    "duration": 10,
    "start_time": "2022-01-16T08:52:59.696Z"
   },
   {
    "duration": 58,
    "start_time": "2022-01-16T08:52:59.708Z"
   },
   {
    "duration": 10,
    "start_time": "2022-01-16T08:52:59.769Z"
   },
   {
    "duration": 6,
    "start_time": "2022-01-16T08:52:59.782Z"
   },
   {
    "duration": 21,
    "start_time": "2022-01-16T08:52:59.791Z"
   },
   {
    "duration": 60,
    "start_time": "2022-01-16T08:52:59.815Z"
   },
   {
    "duration": 5,
    "start_time": "2022-01-16T08:52:59.878Z"
   },
   {
    "duration": 14,
    "start_time": "2022-01-16T08:52:59.885Z"
   },
   {
    "duration": 13,
    "start_time": "2022-01-16T08:52:59.902Z"
   },
   {
    "duration": 16,
    "start_time": "2022-01-16T08:52:59.917Z"
   },
   {
    "duration": 23,
    "start_time": "2022-01-16T08:52:59.936Z"
   },
   {
    "duration": 13,
    "start_time": "2022-01-16T08:52:59.962Z"
   },
   {
    "duration": 441,
    "start_time": "2022-01-16T08:52:59.978Z"
   },
   {
    "duration": 481,
    "start_time": "2022-01-16T08:53:00.421Z"
   },
   {
    "duration": 15,
    "start_time": "2022-01-16T08:53:00.904Z"
   },
   {
    "duration": 12,
    "start_time": "2022-01-16T08:53:00.921Z"
   },
   {
    "duration": 461,
    "start_time": "2022-01-16T08:53:00.960Z"
   },
   {
    "duration": 8,
    "start_time": "2022-01-16T08:53:01.424Z"
   },
   {
    "duration": 29,
    "start_time": "2022-01-16T08:53:01.435Z"
   },
   {
    "duration": 25,
    "start_time": "2022-01-16T08:53:01.466Z"
   },
   {
    "duration": 966,
    "start_time": "2022-01-16T08:53:01.494Z"
   },
   {
    "duration": 15,
    "start_time": "2022-01-16T08:53:02.463Z"
   },
   {
    "duration": 362,
    "start_time": "2022-01-16T08:53:02.481Z"
   },
   {
    "duration": 858,
    "start_time": "2022-01-16T08:53:02.847Z"
   },
   {
    "duration": 1594,
    "start_time": "2022-01-16T08:53:03.708Z"
   },
   {
    "duration": 8,
    "start_time": "2022-01-16T08:53:05.305Z"
   },
   {
    "duration": 17,
    "start_time": "2022-01-16T08:53:05.316Z"
   },
   {
    "duration": 31,
    "start_time": "2022-01-16T08:53:05.336Z"
   },
   {
    "duration": 14,
    "start_time": "2022-01-16T08:53:05.369Z"
   },
   {
    "duration": 15,
    "start_time": "2022-01-16T08:53:05.385Z"
   },
   {
    "duration": 20,
    "start_time": "2022-01-16T08:53:05.402Z"
   },
   {
    "duration": 41,
    "start_time": "2022-01-16T08:53:05.424Z"
   },
   {
    "duration": 26,
    "start_time": "2022-01-16T08:53:05.468Z"
   },
   {
    "duration": 272,
    "start_time": "2022-01-16T08:53:05.496Z"
   },
   {
    "duration": 268,
    "start_time": "2022-01-16T08:53:05.770Z"
   },
   {
    "duration": 252,
    "start_time": "2022-01-16T08:53:06.040Z"
   },
   {
    "duration": 253,
    "start_time": "2022-01-16T08:53:06.295Z"
   },
   {
    "duration": 259,
    "start_time": "2022-01-16T08:53:06.559Z"
   },
   {
    "duration": 260,
    "start_time": "2022-01-16T08:53:06.821Z"
   },
   {
    "duration": 362,
    "start_time": "2022-01-16T08:53:07.083Z"
   },
   {
    "duration": 275,
    "start_time": "2022-01-16T08:53:07.447Z"
   },
   {
    "duration": 266,
    "start_time": "2022-01-16T08:53:07.724Z"
   },
   {
    "duration": 11,
    "start_time": "2022-01-16T08:53:07.992Z"
   },
   {
    "duration": 13,
    "start_time": "2022-01-16T08:53:08.006Z"
   },
   {
    "duration": 42,
    "start_time": "2022-01-16T08:53:08.022Z"
   },
   {
    "duration": 12,
    "start_time": "2022-01-16T08:53:08.067Z"
   },
   {
    "duration": 11,
    "start_time": "2022-01-16T08:53:08.082Z"
   },
   {
    "duration": 10,
    "start_time": "2022-01-16T08:53:08.096Z"
   },
   {
    "duration": 56,
    "start_time": "2022-01-16T08:53:08.108Z"
   },
   {
    "duration": 14,
    "start_time": "2022-01-16T09:01:00.141Z"
   },
   {
    "duration": 49,
    "start_time": "2022-01-16T09:01:13.037Z"
   },
   {
    "duration": 23,
    "start_time": "2022-01-16T09:01:13.089Z"
   },
   {
    "duration": 47,
    "start_time": "2022-01-16T09:01:13.115Z"
   },
   {
    "duration": 23,
    "start_time": "2022-01-16T09:01:13.165Z"
   },
   {
    "duration": 75,
    "start_time": "2022-01-16T09:01:13.191Z"
   },
   {
    "duration": 12,
    "start_time": "2022-01-16T09:01:13.268Z"
   },
   {
    "duration": 18,
    "start_time": "2022-01-16T09:01:13.283Z"
   },
   {
    "duration": 7,
    "start_time": "2022-01-16T09:01:13.305Z"
   },
   {
    "duration": 13,
    "start_time": "2022-01-16T09:01:13.361Z"
   },
   {
    "duration": 7,
    "start_time": "2022-01-16T09:01:13.376Z"
   },
   {
    "duration": 20,
    "start_time": "2022-01-16T09:01:13.385Z"
   },
   {
    "duration": 59,
    "start_time": "2022-01-16T09:01:13.407Z"
   },
   {
    "duration": 10,
    "start_time": "2022-01-16T09:01:13.469Z"
   },
   {
    "duration": 11,
    "start_time": "2022-01-16T09:01:13.481Z"
   },
   {
    "duration": 6,
    "start_time": "2022-01-16T09:01:13.495Z"
   },
   {
    "duration": 12,
    "start_time": "2022-01-16T09:01:13.503Z"
   },
   {
    "duration": 51,
    "start_time": "2022-01-16T09:01:13.517Z"
   },
   {
    "duration": 12,
    "start_time": "2022-01-16T09:01:13.570Z"
   },
   {
    "duration": 10,
    "start_time": "2022-01-16T09:01:13.584Z"
   },
   {
    "duration": 11,
    "start_time": "2022-01-16T09:01:13.596Z"
   },
   {
    "duration": 54,
    "start_time": "2022-01-16T09:01:13.610Z"
   },
   {
    "duration": 14,
    "start_time": "2022-01-16T09:01:13.667Z"
   },
   {
    "duration": 10,
    "start_time": "2022-01-16T09:01:13.688Z"
   },
   {
    "duration": 9,
    "start_time": "2022-01-16T09:01:13.701Z"
   },
   {
    "duration": 49,
    "start_time": "2022-01-16T09:01:13.713Z"
   },
   {
    "duration": 11,
    "start_time": "2022-01-16T09:01:13.764Z"
   },
   {
    "duration": 14,
    "start_time": "2022-01-16T09:01:13.777Z"
   },
   {
    "duration": 14,
    "start_time": "2022-01-16T09:01:13.794Z"
   },
   {
    "duration": 51,
    "start_time": "2022-01-16T09:01:13.810Z"
   },
   {
    "duration": 14,
    "start_time": "2022-01-16T09:01:13.863Z"
   },
   {
    "duration": 9,
    "start_time": "2022-01-16T09:01:13.879Z"
   },
   {
    "duration": 16,
    "start_time": "2022-01-16T09:01:13.891Z"
   },
   {
    "duration": 53,
    "start_time": "2022-01-16T09:01:13.909Z"
   },
   {
    "duration": 7,
    "start_time": "2022-01-16T09:01:13.965Z"
   },
   {
    "duration": 48,
    "start_time": "2022-01-16T09:01:13.975Z"
   },
   {
    "duration": 89,
    "start_time": "2022-01-16T09:01:14.034Z"
   },
   {
    "duration": 52,
    "start_time": "2022-01-16T09:01:14.128Z"
   },
   {
    "duration": 153,
    "start_time": "2022-01-16T09:01:14.184Z"
   },
   {
    "duration": 71,
    "start_time": "2022-01-16T09:01:14.341Z"
   },
   {
    "duration": 91,
    "start_time": "2022-01-16T09:01:14.415Z"
   },
   {
    "duration": 19,
    "start_time": "2022-01-16T09:01:14.509Z"
   },
   {
    "duration": 16,
    "start_time": "2022-01-16T09:01:14.531Z"
   },
   {
    "duration": 402,
    "start_time": "2022-01-16T09:01:14.549Z"
   },
   {
    "duration": 484,
    "start_time": "2022-01-16T09:01:14.954Z"
   },
   {
    "duration": 29,
    "start_time": "2022-01-16T09:01:15.441Z"
   },
   {
    "duration": 14,
    "start_time": "2022-01-16T09:01:15.473Z"
   },
   {
    "duration": 462,
    "start_time": "2022-01-16T09:01:15.490Z"
   },
   {
    "duration": 10,
    "start_time": "2022-01-16T09:01:15.955Z"
   },
   {
    "duration": 13,
    "start_time": "2022-01-16T09:01:15.968Z"
   },
   {
    "duration": 32,
    "start_time": "2022-01-16T09:01:15.984Z"
   },
   {
    "duration": 1144,
    "start_time": "2022-01-16T09:01:16.019Z"
   },
   {
    "duration": 14,
    "start_time": "2022-01-16T09:01:17.165Z"
   },
   {
    "duration": 354,
    "start_time": "2022-01-16T09:01:17.182Z"
   },
   {
    "duration": 600,
    "start_time": "2022-01-16T09:01:17.538Z"
   },
   {
    "duration": 1722,
    "start_time": "2022-01-16T09:01:18.140Z"
   },
   {
    "duration": 7,
    "start_time": "2022-01-16T09:01:19.865Z"
   },
   {
    "duration": 10,
    "start_time": "2022-01-16T09:01:19.874Z"
   },
   {
    "duration": 11,
    "start_time": "2022-01-16T09:01:19.887Z"
   },
   {
    "duration": 59,
    "start_time": "2022-01-16T09:01:19.901Z"
   },
   {
    "duration": 13,
    "start_time": "2022-01-16T09:01:19.963Z"
   },
   {
    "duration": 12,
    "start_time": "2022-01-16T09:01:19.979Z"
   },
   {
    "duration": 9,
    "start_time": "2022-01-16T09:01:19.994Z"
   },
   {
    "duration": 65,
    "start_time": "2022-01-16T09:01:20.005Z"
   },
   {
    "duration": 268,
    "start_time": "2022-01-16T09:01:20.073Z"
   },
   {
    "duration": 273,
    "start_time": "2022-01-16T09:01:20.343Z"
   },
   {
    "duration": 272,
    "start_time": "2022-01-16T09:01:20.618Z"
   },
   {
    "duration": 267,
    "start_time": "2022-01-16T09:01:20.892Z"
   },
   {
    "duration": 295,
    "start_time": "2022-01-16T09:01:21.167Z"
   },
   {
    "duration": 252,
    "start_time": "2022-01-16T09:01:21.465Z"
   },
   {
    "duration": 263,
    "start_time": "2022-01-16T09:01:21.719Z"
   },
   {
    "duration": 348,
    "start_time": "2022-01-16T09:01:21.985Z"
   },
   {
    "duration": 258,
    "start_time": "2022-01-16T09:01:22.335Z"
   },
   {
    "duration": 13,
    "start_time": "2022-01-16T09:01:22.596Z"
   },
   {
    "duration": 13,
    "start_time": "2022-01-16T09:01:22.612Z"
   },
   {
    "duration": 39,
    "start_time": "2022-01-16T09:01:22.627Z"
   },
   {
    "duration": 12,
    "start_time": "2022-01-16T09:01:22.670Z"
   },
   {
    "duration": 12,
    "start_time": "2022-01-16T09:01:22.685Z"
   },
   {
    "duration": 61,
    "start_time": "2022-01-16T09:01:22.700Z"
   },
   {
    "duration": 11,
    "start_time": "2022-01-16T09:01:22.763Z"
   },
   {
    "duration": 10077,
    "start_time": "2022-01-16T09:07:00.662Z"
   },
   {
    "duration": 45,
    "start_time": "2022-01-16T09:07:21.572Z"
   },
   {
    "duration": 23,
    "start_time": "2022-01-16T09:07:21.620Z"
   },
   {
    "duration": 31,
    "start_time": "2022-01-16T09:07:21.646Z"
   },
   {
    "duration": 34,
    "start_time": "2022-01-16T09:07:21.681Z"
   },
   {
    "duration": 104,
    "start_time": "2022-01-16T09:07:21.718Z"
   },
   {
    "duration": 43,
    "start_time": "2022-01-16T09:07:21.825Z"
   },
   {
    "duration": 17,
    "start_time": "2022-01-16T09:07:21.871Z"
   },
   {
    "duration": 6,
    "start_time": "2022-01-16T09:07:21.891Z"
   },
   {
    "duration": 12,
    "start_time": "2022-01-16T09:07:21.900Z"
   },
   {
    "duration": 7,
    "start_time": "2022-01-16T09:07:21.960Z"
   },
   {
    "duration": 17,
    "start_time": "2022-01-16T09:07:21.970Z"
   },
   {
    "duration": 12,
    "start_time": "2022-01-16T09:07:21.990Z"
   },
   {
    "duration": 27,
    "start_time": "2022-01-16T09:07:22.005Z"
   },
   {
    "duration": 13,
    "start_time": "2022-01-16T09:07:22.059Z"
   },
   {
    "duration": 6,
    "start_time": "2022-01-16T09:07:22.075Z"
   },
   {
    "duration": 13,
    "start_time": "2022-01-16T09:07:22.083Z"
   },
   {
    "duration": 13,
    "start_time": "2022-01-16T09:07:22.098Z"
   },
   {
    "duration": 54,
    "start_time": "2022-01-16T09:07:22.113Z"
   },
   {
    "duration": 12,
    "start_time": "2022-01-16T09:07:22.169Z"
   },
   {
    "duration": 10,
    "start_time": "2022-01-16T09:07:22.183Z"
   },
   {
    "duration": 11,
    "start_time": "2022-01-16T09:07:22.196Z"
   },
   {
    "duration": 59,
    "start_time": "2022-01-16T09:07:22.209Z"
   },
   {
    "duration": 11,
    "start_time": "2022-01-16T09:07:22.274Z"
   },
   {
    "duration": 10,
    "start_time": "2022-01-16T09:07:22.289Z"
   },
   {
    "duration": 59,
    "start_time": "2022-01-16T09:07:22.301Z"
   },
   {
    "duration": 11,
    "start_time": "2022-01-16T09:07:22.362Z"
   },
   {
    "duration": 11,
    "start_time": "2022-01-16T09:07:22.376Z"
   },
   {
    "duration": 18,
    "start_time": "2022-01-16T09:07:22.389Z"
   },
   {
    "duration": 58,
    "start_time": "2022-01-16T09:07:22.410Z"
   },
   {
    "duration": 14,
    "start_time": "2022-01-16T09:07:22.470Z"
   },
   {
    "duration": 14,
    "start_time": "2022-01-16T09:07:22.487Z"
   },
   {
    "duration": 17,
    "start_time": "2022-01-16T09:07:22.504Z"
   },
   {
    "duration": 11,
    "start_time": "2022-01-16T09:07:22.561Z"
   },
   {
    "duration": 7,
    "start_time": "2022-01-16T09:07:22.574Z"
   },
   {
    "duration": 29,
    "start_time": "2022-01-16T09:07:22.584Z"
   },
   {
    "duration": 66,
    "start_time": "2022-01-16T09:07:22.616Z"
   },
   {
    "duration": 6,
    "start_time": "2022-01-16T09:07:22.685Z"
   },
   {
    "duration": 12,
    "start_time": "2022-01-16T09:07:22.693Z"
   },
   {
    "duration": 6,
    "start_time": "2022-01-16T09:07:22.708Z"
   },
   {
    "duration": 44,
    "start_time": "2022-01-16T09:07:22.716Z"
   },
   {
    "duration": 22,
    "start_time": "2022-01-16T09:07:22.763Z"
   },
   {
    "duration": 15,
    "start_time": "2022-01-16T09:07:22.788Z"
   },
   {
    "duration": 428,
    "start_time": "2022-01-16T09:07:22.805Z"
   },
   {
    "duration": 591,
    "start_time": "2022-01-16T09:07:23.235Z"
   },
   {
    "duration": 14,
    "start_time": "2022-01-16T09:07:23.828Z"
   },
   {
    "duration": 12,
    "start_time": "2022-01-16T09:07:23.858Z"
   },
   {
    "duration": 490,
    "start_time": "2022-01-16T09:07:23.873Z"
   },
   {
    "duration": 10,
    "start_time": "2022-01-16T09:07:24.366Z"
   },
   {
    "duration": 14,
    "start_time": "2022-01-16T09:07:24.379Z"
   },
   {
    "duration": 23,
    "start_time": "2022-01-16T09:07:24.396Z"
   },
   {
    "duration": 920,
    "start_time": "2022-01-16T09:07:24.460Z"
   },
   {
    "duration": 14,
    "start_time": "2022-01-16T09:07:25.382Z"
   },
   {
    "duration": 375,
    "start_time": "2022-01-16T09:07:25.399Z"
   },
   {
    "duration": 888,
    "start_time": "2022-01-16T09:07:25.776Z"
   },
   {
    "duration": 2534,
    "start_time": "2022-01-16T09:07:26.667Z"
   },
   {
    "duration": 9,
    "start_time": "2022-01-16T09:07:29.204Z"
   },
   {
    "duration": 8,
    "start_time": "2022-01-16T09:07:29.215Z"
   },
   {
    "duration": 42,
    "start_time": "2022-01-16T09:07:29.225Z"
   },
   {
    "duration": 16,
    "start_time": "2022-01-16T09:07:29.270Z"
   },
   {
    "duration": 12,
    "start_time": "2022-01-16T09:07:29.289Z"
   },
   {
    "duration": 12,
    "start_time": "2022-01-16T09:07:29.304Z"
   },
   {
    "duration": 9,
    "start_time": "2022-01-16T09:07:29.360Z"
   },
   {
    "duration": 24,
    "start_time": "2022-01-16T09:07:29.371Z"
   },
   {
    "duration": 331,
    "start_time": "2022-01-16T09:07:29.398Z"
   },
   {
    "duration": 288,
    "start_time": "2022-01-16T09:07:29.731Z"
   },
   {
    "duration": 263,
    "start_time": "2022-01-16T09:07:30.021Z"
   },
   {
    "duration": 265,
    "start_time": "2022-01-16T09:07:30.287Z"
   },
   {
    "duration": 265,
    "start_time": "2022-01-16T09:07:30.561Z"
   },
   {
    "duration": 364,
    "start_time": "2022-01-16T09:07:30.829Z"
   },
   {
    "duration": 304,
    "start_time": "2022-01-16T09:07:31.196Z"
   },
   {
    "duration": 375,
    "start_time": "2022-01-16T09:07:31.502Z"
   },
   {
    "duration": 379,
    "start_time": "2022-01-16T09:07:31.880Z"
   },
   {
    "duration": 14,
    "start_time": "2022-01-16T09:07:32.263Z"
   },
   {
    "duration": 17,
    "start_time": "2022-01-16T09:07:32.281Z"
   },
   {
    "duration": 17,
    "start_time": "2022-01-16T09:07:32.301Z"
   },
   {
    "duration": 40,
    "start_time": "2022-01-16T09:07:32.321Z"
   },
   {
    "duration": 14,
    "start_time": "2022-01-16T09:07:32.364Z"
   },
   {
    "duration": 12,
    "start_time": "2022-01-16T09:07:32.381Z"
   },
   {
    "duration": 11,
    "start_time": "2022-01-16T09:07:32.396Z"
   },
   {
    "duration": 8,
    "start_time": "2022-01-16T09:09:21.717Z"
   },
   {
    "duration": 61,
    "start_time": "2022-01-16T09:09:31.111Z"
   },
   {
    "duration": 34,
    "start_time": "2022-01-16T09:09:31.175Z"
   },
   {
    "duration": 46,
    "start_time": "2022-01-16T09:09:31.213Z"
   },
   {
    "duration": 32,
    "start_time": "2022-01-16T09:09:31.263Z"
   },
   {
    "duration": 97,
    "start_time": "2022-01-16T09:09:31.298Z"
   },
   {
    "duration": 13,
    "start_time": "2022-01-16T09:09:31.399Z"
   },
   {
    "duration": 62,
    "start_time": "2022-01-16T09:09:31.415Z"
   },
   {
    "duration": 143,
    "start_time": "2022-01-16T09:09:31.484Z"
   },
   {
    "duration": 30,
    "start_time": "2022-01-16T09:09:31.631Z"
   },
   {
    "duration": 8,
    "start_time": "2022-01-16T09:09:31.664Z"
   },
   {
    "duration": 21,
    "start_time": "2022-01-16T09:09:31.674Z"
   },
   {
    "duration": 22,
    "start_time": "2022-01-16T09:09:31.698Z"
   },
   {
    "duration": 41,
    "start_time": "2022-01-16T09:09:31.723Z"
   },
   {
    "duration": 11,
    "start_time": "2022-01-16T09:09:31.767Z"
   },
   {
    "duration": 7,
    "start_time": "2022-01-16T09:09:31.780Z"
   },
   {
    "duration": 12,
    "start_time": "2022-01-16T09:09:31.789Z"
   },
   {
    "duration": 10,
    "start_time": "2022-01-16T09:09:31.804Z"
   },
   {
    "duration": 50,
    "start_time": "2022-01-16T09:09:31.817Z"
   },
   {
    "duration": 9,
    "start_time": "2022-01-16T09:09:31.870Z"
   },
   {
    "duration": 9,
    "start_time": "2022-01-16T09:09:31.882Z"
   },
   {
    "duration": 9,
    "start_time": "2022-01-16T09:09:31.893Z"
   },
   {
    "duration": 57,
    "start_time": "2022-01-16T09:09:31.905Z"
   },
   {
    "duration": 11,
    "start_time": "2022-01-16T09:09:31.968Z"
   },
   {
    "duration": 10,
    "start_time": "2022-01-16T09:09:31.982Z"
   },
   {
    "duration": 9,
    "start_time": "2022-01-16T09:09:31.995Z"
   },
   {
    "duration": 55,
    "start_time": "2022-01-16T09:09:32.007Z"
   },
   {
    "duration": 10,
    "start_time": "2022-01-16T09:09:32.064Z"
   },
   {
    "duration": 12,
    "start_time": "2022-01-16T09:09:32.076Z"
   },
   {
    "duration": 15,
    "start_time": "2022-01-16T09:09:32.090Z"
   },
   {
    "duration": 12,
    "start_time": "2022-01-16T09:09:32.107Z"
   },
   {
    "duration": 9,
    "start_time": "2022-01-16T09:09:32.160Z"
   },
   {
    "duration": 15,
    "start_time": "2022-01-16T09:09:32.172Z"
   },
   {
    "duration": 10,
    "start_time": "2022-01-16T09:09:32.189Z"
   },
   {
    "duration": 6,
    "start_time": "2022-01-16T09:09:32.202Z"
   },
   {
    "duration": 59,
    "start_time": "2022-01-16T09:09:32.211Z"
   },
   {
    "duration": 35,
    "start_time": "2022-01-16T09:09:32.272Z"
   },
   {
    "duration": 5,
    "start_time": "2022-01-16T09:09:32.309Z"
   },
   {
    "duration": 13,
    "start_time": "2022-01-16T09:09:32.316Z"
   },
   {
    "duration": 33,
    "start_time": "2022-01-16T09:09:32.331Z"
   },
   {
    "duration": 7,
    "start_time": "2022-01-16T09:09:32.366Z"
   },
   {
    "duration": 7,
    "start_time": "2022-01-16T09:09:32.375Z"
   },
   {
    "duration": 11,
    "start_time": "2022-01-16T09:09:32.384Z"
   },
   {
    "duration": 461,
    "start_time": "2022-01-16T09:09:32.398Z"
   },
   {
    "duration": 485,
    "start_time": "2022-01-16T09:09:32.861Z"
   },
   {
    "duration": 22,
    "start_time": "2022-01-16T09:09:33.348Z"
   },
   {
    "duration": 12,
    "start_time": "2022-01-16T09:09:33.372Z"
   },
   {
    "duration": 504,
    "start_time": "2022-01-16T09:09:33.387Z"
   },
   {
    "duration": 8,
    "start_time": "2022-01-16T09:09:33.893Z"
   },
   {
    "duration": 13,
    "start_time": "2022-01-16T09:09:33.903Z"
   },
   {
    "duration": 49,
    "start_time": "2022-01-16T09:09:33.918Z"
   },
   {
    "duration": 840,
    "start_time": "2022-01-16T09:09:33.970Z"
   },
   {
    "duration": 14,
    "start_time": "2022-01-16T09:09:34.813Z"
   },
   {
    "duration": 357,
    "start_time": "2022-01-16T09:09:34.830Z"
   },
   {
    "duration": 593,
    "start_time": "2022-01-16T09:09:35.190Z"
   },
   {
    "duration": 1534,
    "start_time": "2022-01-16T09:09:35.786Z"
   },
   {
    "duration": 8,
    "start_time": "2022-01-16T09:09:37.322Z"
   },
   {
    "duration": 8,
    "start_time": "2022-01-16T09:09:37.332Z"
   },
   {
    "duration": 10,
    "start_time": "2022-01-16T09:09:37.359Z"
   },
   {
    "duration": 11,
    "start_time": "2022-01-16T09:09:37.371Z"
   },
   {
    "duration": 14,
    "start_time": "2022-01-16T09:09:37.384Z"
   },
   {
    "duration": 13,
    "start_time": "2022-01-16T09:09:37.400Z"
   },
   {
    "duration": 52,
    "start_time": "2022-01-16T09:09:37.415Z"
   },
   {
    "duration": 140,
    "start_time": "2022-01-16T09:09:37.470Z"
   },
   {
    "duration": 263,
    "start_time": "2022-01-16T09:09:37.613Z"
   },
   {
    "duration": 273,
    "start_time": "2022-01-16T09:09:37.879Z"
   },
   {
    "duration": 241,
    "start_time": "2022-01-16T09:09:38.158Z"
   },
   {
    "duration": 275,
    "start_time": "2022-01-16T09:09:38.402Z"
   },
   {
    "duration": 283,
    "start_time": "2022-01-16T09:09:38.685Z"
   },
   {
    "duration": 274,
    "start_time": "2022-01-16T09:09:38.971Z"
   },
   {
    "duration": 248,
    "start_time": "2022-01-16T09:09:39.247Z"
   },
   {
    "duration": 264,
    "start_time": "2022-01-16T09:09:39.497Z"
   },
   {
    "duration": 242,
    "start_time": "2022-01-16T09:09:39.764Z"
   },
   {
    "duration": 10,
    "start_time": "2022-01-16T09:09:40.008Z"
   },
   {
    "duration": 10,
    "start_time": "2022-01-16T09:09:40.020Z"
   },
   {
    "duration": 33,
    "start_time": "2022-01-16T09:09:40.033Z"
   },
   {
    "duration": 9,
    "start_time": "2022-01-16T09:09:40.069Z"
   },
   {
    "duration": 16,
    "start_time": "2022-01-16T09:09:40.080Z"
   },
   {
    "duration": 10,
    "start_time": "2022-01-16T09:09:40.099Z"
   },
   {
    "duration": 50,
    "start_time": "2022-01-16T09:09:40.111Z"
   },
   {
    "duration": 411,
    "start_time": "2022-01-16T09:23:03.961Z"
   },
   {
    "duration": 1465,
    "start_time": "2022-01-16T09:25:40.487Z"
   },
   {
    "duration": 27,
    "start_time": "2022-01-16T09:25:41.955Z"
   },
   {
    "duration": 14,
    "start_time": "2022-01-16T09:25:41.985Z"
   },
   {
    "duration": 23,
    "start_time": "2022-01-16T09:25:42.003Z"
   },
   {
    "duration": 72,
    "start_time": "2022-01-16T09:25:42.028Z"
   },
   {
    "duration": 14,
    "start_time": "2022-01-16T09:25:42.102Z"
   },
   {
    "duration": 47,
    "start_time": "2022-01-16T09:25:42.118Z"
   },
   {
    "duration": 5,
    "start_time": "2022-01-16T09:25:42.169Z"
   },
   {
    "duration": 11,
    "start_time": "2022-01-16T09:25:42.177Z"
   },
   {
    "duration": 7,
    "start_time": "2022-01-16T09:25:42.191Z"
   },
   {
    "duration": 18,
    "start_time": "2022-01-16T09:25:42.200Z"
   },
   {
    "duration": 13,
    "start_time": "2022-01-16T09:25:42.259Z"
   },
   {
    "duration": 10,
    "start_time": "2022-01-16T09:25:42.274Z"
   },
   {
    "duration": 11,
    "start_time": "2022-01-16T09:25:42.286Z"
   },
   {
    "duration": 7,
    "start_time": "2022-01-16T09:25:42.299Z"
   },
   {
    "duration": 57,
    "start_time": "2022-01-16T09:25:42.308Z"
   },
   {
    "duration": 10,
    "start_time": "2022-01-16T09:25:42.367Z"
   },
   {
    "duration": 10,
    "start_time": "2022-01-16T09:25:42.379Z"
   },
   {
    "duration": 9,
    "start_time": "2022-01-16T09:25:42.392Z"
   },
   {
    "duration": 56,
    "start_time": "2022-01-16T09:25:42.403Z"
   },
   {
    "duration": 11,
    "start_time": "2022-01-16T09:25:42.462Z"
   },
   {
    "duration": 10,
    "start_time": "2022-01-16T09:25:42.475Z"
   },
   {
    "duration": 11,
    "start_time": "2022-01-16T09:25:42.490Z"
   },
   {
    "duration": 9,
    "start_time": "2022-01-16T09:25:42.505Z"
   },
   {
    "duration": 52,
    "start_time": "2022-01-16T09:25:42.517Z"
   },
   {
    "duration": 11,
    "start_time": "2022-01-16T09:25:42.571Z"
   },
   {
    "duration": 10,
    "start_time": "2022-01-16T09:25:42.584Z"
   },
   {
    "duration": 13,
    "start_time": "2022-01-16T09:25:42.596Z"
   },
   {
    "duration": 54,
    "start_time": "2022-01-16T09:25:42.611Z"
   },
   {
    "duration": 12,
    "start_time": "2022-01-16T09:25:42.667Z"
   },
   {
    "duration": 8,
    "start_time": "2022-01-16T09:25:42.681Z"
   },
   {
    "duration": 13,
    "start_time": "2022-01-16T09:25:42.691Z"
   },
   {
    "duration": 10,
    "start_time": "2022-01-16T09:25:42.707Z"
   },
   {
    "duration": 6,
    "start_time": "2022-01-16T09:25:42.759Z"
   },
   {
    "duration": 23,
    "start_time": "2022-01-16T09:25:42.767Z"
   },
   {
    "duration": 33,
    "start_time": "2022-01-16T09:25:42.792Z"
   },
   {
    "duration": 5,
    "start_time": "2022-01-16T09:25:42.827Z"
   },
   {
    "duration": 9,
    "start_time": "2022-01-16T09:25:42.859Z"
   },
   {
    "duration": 10,
    "start_time": "2022-01-16T09:25:42.870Z"
   },
   {
    "duration": 10,
    "start_time": "2022-01-16T09:25:42.882Z"
   },
   {
    "duration": 12,
    "start_time": "2022-01-16T09:25:42.894Z"
   },
   {
    "duration": 10,
    "start_time": "2022-01-16T09:25:42.909Z"
   },
   {
    "duration": 440,
    "start_time": "2022-01-16T09:25:42.921Z"
   },
   {
    "duration": 470,
    "start_time": "2022-01-16T09:25:43.364Z"
   },
   {
    "duration": 22,
    "start_time": "2022-01-16T09:25:43.837Z"
   },
   {
    "duration": 12,
    "start_time": "2022-01-16T09:25:43.862Z"
   },
   {
    "duration": 475,
    "start_time": "2022-01-16T09:25:43.877Z"
   },
   {
    "duration": 10,
    "start_time": "2022-01-16T09:25:44.354Z"
   },
   {
    "duration": 12,
    "start_time": "2022-01-16T09:25:44.366Z"
   },
   {
    "duration": 23,
    "start_time": "2022-01-16T09:25:44.381Z"
   },
   {
    "duration": 876,
    "start_time": "2022-01-16T09:25:44.406Z"
   },
   {
    "duration": 12,
    "start_time": "2022-01-16T09:25:45.284Z"
   },
   {
    "duration": 369,
    "start_time": "2022-01-16T09:25:45.298Z"
   },
   {
    "duration": 610,
    "start_time": "2022-01-16T09:25:45.669Z"
   },
   {
    "duration": 1638,
    "start_time": "2022-01-16T09:25:46.281Z"
   },
   {
    "duration": 8,
    "start_time": "2022-01-16T09:25:47.922Z"
   },
   {
    "duration": 29,
    "start_time": "2022-01-16T09:25:47.933Z"
   },
   {
    "duration": 18,
    "start_time": "2022-01-16T09:25:47.964Z"
   },
   {
    "duration": 11,
    "start_time": "2022-01-16T09:25:47.985Z"
   },
   {
    "duration": 9,
    "start_time": "2022-01-16T09:25:47.999Z"
   },
   {
    "duration": 56,
    "start_time": "2022-01-16T09:25:48.011Z"
   },
   {
    "duration": 1439,
    "start_time": "2022-01-16T09:26:32.221Z"
   },
   {
    "duration": 31,
    "start_time": "2022-01-16T09:26:33.663Z"
   },
   {
    "duration": 18,
    "start_time": "2022-01-16T09:26:33.697Z"
   },
   {
    "duration": 53,
    "start_time": "2022-01-16T09:26:33.718Z"
   },
   {
    "duration": 43,
    "start_time": "2022-01-16T09:26:33.773Z"
   },
   {
    "duration": 11,
    "start_time": "2022-01-16T09:26:33.819Z"
   },
   {
    "duration": 16,
    "start_time": "2022-01-16T09:26:33.860Z"
   },
   {
    "duration": 6,
    "start_time": "2022-01-16T09:26:33.881Z"
   },
   {
    "duration": 20,
    "start_time": "2022-01-16T09:26:33.890Z"
   },
   {
    "duration": 8,
    "start_time": "2022-01-16T09:26:33.912Z"
   },
   {
    "duration": 56,
    "start_time": "2022-01-16T09:26:33.923Z"
   },
   {
    "duration": 13,
    "start_time": "2022-01-16T09:26:33.981Z"
   },
   {
    "duration": 19,
    "start_time": "2022-01-16T09:26:33.997Z"
   },
   {
    "duration": 11,
    "start_time": "2022-01-16T09:26:34.018Z"
   },
   {
    "duration": 29,
    "start_time": "2022-01-16T09:26:34.031Z"
   },
   {
    "duration": 17,
    "start_time": "2022-01-16T09:26:34.063Z"
   },
   {
    "duration": 17,
    "start_time": "2022-01-16T09:26:34.083Z"
   },
   {
    "duration": 17,
    "start_time": "2022-01-16T09:26:34.103Z"
   },
   {
    "duration": 10,
    "start_time": "2022-01-16T09:26:34.122Z"
   },
   {
    "duration": 26,
    "start_time": "2022-01-16T09:26:34.134Z"
   },
   {
    "duration": 11,
    "start_time": "2022-01-16T09:26:34.163Z"
   },
   {
    "duration": 14,
    "start_time": "2022-01-16T09:26:34.177Z"
   },
   {
    "duration": 15,
    "start_time": "2022-01-16T09:26:34.197Z"
   },
   {
    "duration": 43,
    "start_time": "2022-01-16T09:26:34.216Z"
   },
   {
    "duration": 11,
    "start_time": "2022-01-16T09:26:34.262Z"
   },
   {
    "duration": 23,
    "start_time": "2022-01-16T09:26:34.275Z"
   },
   {
    "duration": 11,
    "start_time": "2022-01-16T09:26:34.300Z"
   },
   {
    "duration": 46,
    "start_time": "2022-01-16T09:26:34.314Z"
   },
   {
    "duration": 13,
    "start_time": "2022-01-16T09:26:34.362Z"
   },
   {
    "duration": 26,
    "start_time": "2022-01-16T09:26:34.377Z"
   },
   {
    "duration": 17,
    "start_time": "2022-01-16T09:26:34.406Z"
   },
   {
    "duration": 34,
    "start_time": "2022-01-16T09:26:34.425Z"
   },
   {
    "duration": 38,
    "start_time": "2022-01-16T09:26:34.461Z"
   },
   {
    "duration": 7,
    "start_time": "2022-01-16T09:26:34.501Z"
   },
   {
    "duration": 33,
    "start_time": "2022-01-16T09:26:34.510Z"
   },
   {
    "duration": 35,
    "start_time": "2022-01-16T09:26:34.545Z"
   },
   {
    "duration": 5,
    "start_time": "2022-01-16T09:26:34.582Z"
   },
   {
    "duration": 21,
    "start_time": "2022-01-16T09:26:34.589Z"
   },
   {
    "duration": 13,
    "start_time": "2022-01-16T09:26:34.612Z"
   },
   {
    "duration": 10,
    "start_time": "2022-01-16T09:26:34.627Z"
   },
   {
    "duration": 27,
    "start_time": "2022-01-16T09:26:34.639Z"
   },
   {
    "duration": 11,
    "start_time": "2022-01-16T09:26:34.669Z"
   },
   {
    "duration": 432,
    "start_time": "2022-01-16T09:26:34.682Z"
   },
   {
    "duration": 493,
    "start_time": "2022-01-16T09:26:35.116Z"
   },
   {
    "duration": 14,
    "start_time": "2022-01-16T09:26:35.611Z"
   },
   {
    "duration": 32,
    "start_time": "2022-01-16T09:26:35.628Z"
   },
   {
    "duration": 542,
    "start_time": "2022-01-16T09:26:35.663Z"
   },
   {
    "duration": 10,
    "start_time": "2022-01-16T09:26:36.208Z"
   },
   {
    "duration": 38,
    "start_time": "2022-01-16T09:26:36.221Z"
   },
   {
    "duration": 31,
    "start_time": "2022-01-16T09:26:36.263Z"
   },
   {
    "duration": 834,
    "start_time": "2022-01-16T09:26:36.297Z"
   },
   {
    "duration": 27,
    "start_time": "2022-01-16T09:26:37.135Z"
   },
   {
    "duration": 351,
    "start_time": "2022-01-16T09:26:37.164Z"
   },
   {
    "duration": 595,
    "start_time": "2022-01-16T09:26:37.517Z"
   },
   {
    "duration": 1570,
    "start_time": "2022-01-16T09:26:38.115Z"
   },
   {
    "duration": 8,
    "start_time": "2022-01-16T09:26:39.687Z"
   },
   {
    "duration": 8,
    "start_time": "2022-01-16T09:26:39.697Z"
   },
   {
    "duration": 12,
    "start_time": "2022-01-16T09:26:39.707Z"
   },
   {
    "duration": 45,
    "start_time": "2022-01-16T09:26:39.721Z"
   },
   {
    "duration": 9,
    "start_time": "2022-01-16T09:26:39.768Z"
   },
   {
    "duration": 12,
    "start_time": "2022-01-16T09:26:39.779Z"
   },
   {
    "duration": 7,
    "start_time": "2022-01-16T09:26:39.794Z"
   },
   {
    "duration": 68,
    "start_time": "2022-01-16T09:26:39.803Z"
   },
   {
    "duration": 277,
    "start_time": "2022-01-16T09:26:39.873Z"
   },
   {
    "duration": 275,
    "start_time": "2022-01-16T09:26:40.152Z"
   },
   {
    "duration": 244,
    "start_time": "2022-01-16T09:26:40.430Z"
   },
   {
    "duration": 265,
    "start_time": "2022-01-16T09:26:40.677Z"
   },
   {
    "duration": 281,
    "start_time": "2022-01-16T09:26:40.962Z"
   },
   {
    "duration": 257,
    "start_time": "2022-01-16T09:26:41.246Z"
   },
   {
    "duration": 247,
    "start_time": "2022-01-16T09:26:41.506Z"
   },
   {
    "duration": 259,
    "start_time": "2022-01-16T09:26:41.759Z"
   },
   {
    "duration": 243,
    "start_time": "2022-01-16T09:26:42.020Z"
   },
   {
    "duration": 11,
    "start_time": "2022-01-16T09:26:42.266Z"
   },
   {
    "duration": 10,
    "start_time": "2022-01-16T09:26:42.279Z"
   },
   {
    "duration": 8,
    "start_time": "2022-01-16T09:26:42.292Z"
   },
   {
    "duration": 9,
    "start_time": "2022-01-16T09:26:42.302Z"
   },
   {
    "duration": 10,
    "start_time": "2022-01-16T09:26:42.359Z"
   },
   {
    "duration": 10,
    "start_time": "2022-01-16T09:26:42.371Z"
   },
   {
    "duration": 10,
    "start_time": "2022-01-16T09:26:42.383Z"
   },
   {
    "duration": 7,
    "start_time": "2022-01-16T09:28:41.679Z"
   },
   {
    "duration": 477,
    "start_time": "2022-01-16T09:33:51.252Z"
   },
   {
    "duration": 1649,
    "start_time": "2022-01-16T09:36:25.814Z"
   },
   {
    "duration": 1294,
    "start_time": "2022-01-16T09:36:51.548Z"
   },
   {
    "duration": 45008,
    "start_time": "2022-01-16T09:37:26.214Z"
   },
   {
    "duration": 348,
    "start_time": "2022-01-16T09:40:24.811Z"
   },
   {
    "duration": 1178,
    "start_time": "2022-01-16T09:40:31.056Z"
   },
   {
    "duration": 47326,
    "start_time": "2022-01-16T09:43:12.253Z"
   },
   {
    "duration": 28,
    "start_time": "2022-01-16T09:49:40.876Z"
   },
   {
    "duration": 27,
    "start_time": "2022-01-16T09:50:54.535Z"
   },
   {
    "duration": 355,
    "start_time": "2022-01-16T09:51:04.639Z"
   },
   {
    "duration": 18,
    "start_time": "2022-01-16T09:51:09.806Z"
   },
   {
    "duration": 51,
    "start_time": "2022-01-16T09:51:32.906Z"
   },
   {
    "duration": 28,
    "start_time": "2022-01-16T09:51:32.960Z"
   },
   {
    "duration": 18,
    "start_time": "2022-01-16T09:51:32.992Z"
   },
   {
    "duration": 67,
    "start_time": "2022-01-16T09:51:33.013Z"
   },
   {
    "duration": 83,
    "start_time": "2022-01-16T09:51:33.083Z"
   },
   {
    "duration": 12,
    "start_time": "2022-01-16T09:51:33.168Z"
   },
   {
    "duration": 22,
    "start_time": "2022-01-16T09:51:33.183Z"
   },
   {
    "duration": 58,
    "start_time": "2022-01-16T09:51:33.210Z"
   },
   {
    "duration": 14,
    "start_time": "2022-01-16T09:51:33.273Z"
   },
   {
    "duration": 7,
    "start_time": "2022-01-16T09:51:33.290Z"
   },
   {
    "duration": 72,
    "start_time": "2022-01-16T09:51:33.300Z"
   },
   {
    "duration": 18,
    "start_time": "2022-01-16T09:51:33.375Z"
   },
   {
    "duration": 13,
    "start_time": "2022-01-16T09:51:33.396Z"
   },
   {
    "duration": 49,
    "start_time": "2022-01-16T09:51:33.412Z"
   },
   {
    "duration": 7,
    "start_time": "2022-01-16T09:51:33.463Z"
   },
   {
    "duration": 17,
    "start_time": "2022-01-16T09:51:33.474Z"
   },
   {
    "duration": 13,
    "start_time": "2022-01-16T09:51:33.495Z"
   },
   {
    "duration": 56,
    "start_time": "2022-01-16T09:51:33.511Z"
   },
   {
    "duration": 13,
    "start_time": "2022-01-16T09:51:33.570Z"
   },
   {
    "duration": 14,
    "start_time": "2022-01-16T09:51:33.586Z"
   },
   {
    "duration": 57,
    "start_time": "2022-01-16T09:51:33.602Z"
   },
   {
    "duration": 13,
    "start_time": "2022-01-16T09:51:33.662Z"
   },
   {
    "duration": 25,
    "start_time": "2022-01-16T09:51:33.682Z"
   },
   {
    "duration": 15,
    "start_time": "2022-01-16T09:51:33.713Z"
   },
   {
    "duration": 37,
    "start_time": "2022-01-16T09:51:33.731Z"
   },
   {
    "duration": 19,
    "start_time": "2022-01-16T09:51:33.771Z"
   },
   {
    "duration": 17,
    "start_time": "2022-01-16T09:51:33.793Z"
   },
   {
    "duration": 50,
    "start_time": "2022-01-16T09:51:33.812Z"
   },
   {
    "duration": 13,
    "start_time": "2022-01-16T09:51:33.867Z"
   },
   {
    "duration": 18,
    "start_time": "2022-01-16T09:51:33.882Z"
   },
   {
    "duration": 23,
    "start_time": "2022-01-16T09:51:33.903Z"
   },
   {
    "duration": 43,
    "start_time": "2022-01-16T09:51:33.928Z"
   },
   {
    "duration": 23,
    "start_time": "2022-01-16T09:51:33.975Z"
   },
   {
    "duration": 14,
    "start_time": "2022-01-16T09:51:34.001Z"
   },
   {
    "duration": 40,
    "start_time": "2022-01-16T09:51:34.018Z"
   },
   {
    "duration": 57,
    "start_time": "2022-01-16T09:51:34.061Z"
   },
   {
    "duration": 4,
    "start_time": "2022-01-16T09:51:34.121Z"
   },
   {
    "duration": 36,
    "start_time": "2022-01-16T09:51:34.128Z"
   },
   {
    "duration": 23,
    "start_time": "2022-01-16T09:51:34.167Z"
   },
   {
    "duration": 13,
    "start_time": "2022-01-16T09:51:34.192Z"
   },
   {
    "duration": 7,
    "start_time": "2022-01-16T09:51:34.208Z"
   },
   {
    "duration": 13,
    "start_time": "2022-01-16T09:51:34.217Z"
   },
   {
    "duration": 447,
    "start_time": "2022-01-16T09:51:34.233Z"
   },
   {
    "duration": 492,
    "start_time": "2022-01-16T09:51:34.683Z"
   },
   {
    "duration": 15,
    "start_time": "2022-01-16T09:51:35.177Z"
   },
   {
    "duration": 12,
    "start_time": "2022-01-16T09:51:35.194Z"
   },
   {
    "duration": 525,
    "start_time": "2022-01-16T09:51:35.209Z"
   },
   {
    "duration": 23,
    "start_time": "2022-01-16T09:51:35.738Z"
   },
   {
    "duration": 19,
    "start_time": "2022-01-16T09:51:35.765Z"
   },
   {
    "duration": 29,
    "start_time": "2022-01-16T09:51:35.787Z"
   },
   {
    "duration": 1293,
    "start_time": "2022-01-16T09:51:35.819Z"
   },
   {
    "duration": 14,
    "start_time": "2022-01-16T09:51:37.115Z"
   },
   {
    "duration": 1560,
    "start_time": "2022-01-16T09:51:37.131Z"
   },
   {
    "duration": 604,
    "start_time": "2022-01-16T09:51:38.694Z"
   },
   {
    "duration": 1659,
    "start_time": "2022-01-16T09:51:39.301Z"
   },
   {
    "duration": 10,
    "start_time": "2022-01-16T09:51:40.963Z"
   },
   {
    "duration": 10,
    "start_time": "2022-01-16T09:51:40.976Z"
   },
   {
    "duration": 22,
    "start_time": "2022-01-16T09:51:40.989Z"
   },
   {
    "duration": 54,
    "start_time": "2022-01-16T09:51:41.015Z"
   },
   {
    "duration": 19,
    "start_time": "2022-01-16T09:51:41.072Z"
   },
   {
    "duration": 20,
    "start_time": "2022-01-16T09:51:41.094Z"
   },
   {
    "duration": 56,
    "start_time": "2022-01-16T09:51:41.117Z"
   },
   {
    "duration": 11,
    "start_time": "2022-01-16T09:51:41.177Z"
   },
   {
    "duration": 69,
    "start_time": "2022-01-16T09:51:41.191Z"
   },
   {
    "duration": 279,
    "start_time": "2022-01-16T09:51:41.263Z"
   },
   {
    "duration": 284,
    "start_time": "2022-01-16T09:51:41.545Z"
   },
   {
    "duration": 248,
    "start_time": "2022-01-16T09:51:41.831Z"
   },
   {
    "duration": 431,
    "start_time": "2022-01-16T09:51:42.092Z"
   },
   {
    "duration": 441,
    "start_time": "2022-01-16T09:51:42.527Z"
   },
   {
    "duration": 272,
    "start_time": "2022-01-16T09:51:42.970Z"
   },
   {
    "duration": 388,
    "start_time": "2022-01-16T09:51:43.246Z"
   },
   {
    "duration": 426,
    "start_time": "2022-01-16T09:51:43.637Z"
   },
   {
    "duration": 386,
    "start_time": "2022-01-16T09:51:44.066Z"
   },
   {
    "duration": 15,
    "start_time": "2022-01-16T09:51:44.459Z"
   },
   {
    "duration": 13,
    "start_time": "2022-01-16T09:51:44.477Z"
   },
   {
    "duration": 11,
    "start_time": "2022-01-16T09:51:44.493Z"
   },
   {
    "duration": 10,
    "start_time": "2022-01-16T09:51:44.507Z"
   },
   {
    "duration": 49,
    "start_time": "2022-01-16T09:51:44.520Z"
   },
   {
    "duration": 9,
    "start_time": "2022-01-16T09:51:44.573Z"
   },
   {
    "duration": 13,
    "start_time": "2022-01-16T09:51:44.586Z"
   },
   {
    "duration": 311,
    "start_time": "2022-01-16T09:52:51.859Z"
   },
   {
    "duration": 48,
    "start_time": "2022-01-16T09:53:07.141Z"
   },
   {
    "duration": 24,
    "start_time": "2022-01-16T09:53:07.192Z"
   },
   {
    "duration": 47,
    "start_time": "2022-01-16T09:53:07.219Z"
   },
   {
    "duration": 23,
    "start_time": "2022-01-16T09:53:07.269Z"
   },
   {
    "duration": 90,
    "start_time": "2022-01-16T09:53:07.294Z"
   },
   {
    "duration": 13,
    "start_time": "2022-01-16T09:53:07.387Z"
   },
   {
    "duration": 31,
    "start_time": "2022-01-16T09:53:07.402Z"
   },
   {
    "duration": 7,
    "start_time": "2022-01-16T09:53:07.461Z"
   },
   {
    "duration": 13,
    "start_time": "2022-01-16T09:53:07.471Z"
   },
   {
    "duration": 7,
    "start_time": "2022-01-16T09:53:07.487Z"
   },
   {
    "duration": 63,
    "start_time": "2022-01-16T09:53:07.496Z"
   },
   {
    "duration": 14,
    "start_time": "2022-01-16T09:53:07.562Z"
   },
   {
    "duration": 11,
    "start_time": "2022-01-16T09:53:07.578Z"
   },
   {
    "duration": 15,
    "start_time": "2022-01-16T09:53:07.592Z"
   },
   {
    "duration": 7,
    "start_time": "2022-01-16T09:53:07.610Z"
   },
   {
    "duration": 53,
    "start_time": "2022-01-16T09:53:07.620Z"
   },
   {
    "duration": 17,
    "start_time": "2022-01-16T09:53:07.675Z"
   },
   {
    "duration": 17,
    "start_time": "2022-01-16T09:53:07.695Z"
   },
   {
    "duration": 48,
    "start_time": "2022-01-16T09:53:07.715Z"
   },
   {
    "duration": 14,
    "start_time": "2022-01-16T09:53:07.766Z"
   },
   {
    "duration": 14,
    "start_time": "2022-01-16T09:53:07.783Z"
   },
   {
    "duration": 12,
    "start_time": "2022-01-16T09:53:07.800Z"
   },
   {
    "duration": 13,
    "start_time": "2022-01-16T09:53:07.858Z"
   },
   {
    "duration": 11,
    "start_time": "2022-01-16T09:53:07.874Z"
   },
   {
    "duration": 11,
    "start_time": "2022-01-16T09:53:07.888Z"
   },
   {
    "duration": 12,
    "start_time": "2022-01-16T09:53:07.902Z"
   },
   {
    "duration": 53,
    "start_time": "2022-01-16T09:53:07.917Z"
   },
   {
    "duration": 14,
    "start_time": "2022-01-16T09:53:07.972Z"
   },
   {
    "duration": 14,
    "start_time": "2022-01-16T09:53:07.989Z"
   },
   {
    "duration": 17,
    "start_time": "2022-01-16T09:53:08.006Z"
   },
   {
    "duration": 43,
    "start_time": "2022-01-16T09:53:08.025Z"
   },
   {
    "duration": 14,
    "start_time": "2022-01-16T09:53:08.070Z"
   },
   {
    "duration": 12,
    "start_time": "2022-01-16T09:53:08.086Z"
   },
   {
    "duration": 6,
    "start_time": "2022-01-16T09:53:08.100Z"
   },
   {
    "duration": 66,
    "start_time": "2022-01-16T09:53:08.108Z"
   },
   {
    "duration": 36,
    "start_time": "2022-01-16T09:53:08.177Z"
   },
   {
    "duration": 5,
    "start_time": "2022-01-16T09:53:08.216Z"
   },
   {
    "duration": 36,
    "start_time": "2022-01-16T09:53:08.224Z"
   },
   {
    "duration": 9,
    "start_time": "2022-01-16T09:53:08.263Z"
   },
   {
    "duration": 13,
    "start_time": "2022-01-16T09:53:08.275Z"
   },
   {
    "duration": 9,
    "start_time": "2022-01-16T09:53:08.291Z"
   },
   {
    "duration": 11,
    "start_time": "2022-01-16T09:53:08.303Z"
   },
   {
    "duration": 463,
    "start_time": "2022-01-16T09:53:08.316Z"
   },
   {
    "duration": 490,
    "start_time": "2022-01-16T09:53:08.781Z"
   },
   {
    "duration": 15,
    "start_time": "2022-01-16T09:53:09.273Z"
   },
   {
    "duration": 15,
    "start_time": "2022-01-16T09:53:09.290Z"
   },
   {
    "duration": 512,
    "start_time": "2022-01-16T09:53:09.308Z"
   },
   {
    "duration": 8,
    "start_time": "2022-01-16T09:53:09.823Z"
   },
   {
    "duration": 29,
    "start_time": "2022-01-16T09:53:09.833Z"
   },
   {
    "duration": 23,
    "start_time": "2022-01-16T09:53:09.865Z"
   },
   {
    "duration": 882,
    "start_time": "2022-01-16T09:53:09.892Z"
   },
   {
    "duration": 15,
    "start_time": "2022-01-16T09:53:10.777Z"
   },
   {
    "duration": 399,
    "start_time": "2022-01-16T09:53:10.794Z"
   },
   {
    "duration": 611,
    "start_time": "2022-01-16T09:53:11.195Z"
   },
   {
    "duration": 1533,
    "start_time": "2022-01-16T09:53:11.809Z"
   },
   {
    "duration": 18,
    "start_time": "2022-01-16T09:53:13.344Z"
   },
   {
    "duration": 9,
    "start_time": "2022-01-16T09:53:13.365Z"
   },
   {
    "duration": 11,
    "start_time": "2022-01-16T09:53:13.376Z"
   },
   {
    "duration": 11,
    "start_time": "2022-01-16T09:53:13.390Z"
   },
   {
    "duration": 58,
    "start_time": "2022-01-16T09:53:13.404Z"
   },
   {
    "duration": 11,
    "start_time": "2022-01-16T09:53:13.464Z"
   },
   {
    "duration": 333,
    "start_time": "2022-01-16T09:53:13.478Z"
   },
   {
    "duration": 64,
    "start_time": "2022-01-16T09:53:44.465Z"
   },
   {
    "duration": 52,
    "start_time": "2022-01-16T09:53:44.532Z"
   },
   {
    "duration": 22,
    "start_time": "2022-01-16T09:53:44.587Z"
   },
   {
    "duration": 65,
    "start_time": "2022-01-16T09:53:44.613Z"
   },
   {
    "duration": 88,
    "start_time": "2022-01-16T09:53:44.681Z"
   },
   {
    "duration": 11,
    "start_time": "2022-01-16T09:53:44.772Z"
   },
   {
    "duration": 19,
    "start_time": "2022-01-16T09:53:44.786Z"
   },
   {
    "duration": 6,
    "start_time": "2022-01-16T09:53:44.809Z"
   },
   {
    "duration": 52,
    "start_time": "2022-01-16T09:53:44.818Z"
   },
   {
    "duration": 7,
    "start_time": "2022-01-16T09:53:44.873Z"
   },
   {
    "duration": 19,
    "start_time": "2022-01-16T09:53:44.883Z"
   },
   {
    "duration": 14,
    "start_time": "2022-01-16T09:53:44.904Z"
   },
   {
    "duration": 46,
    "start_time": "2022-01-16T09:53:44.921Z"
   },
   {
    "duration": 13,
    "start_time": "2022-01-16T09:53:44.970Z"
   },
   {
    "duration": 7,
    "start_time": "2022-01-16T09:53:44.986Z"
   },
   {
    "duration": 62,
    "start_time": "2022-01-16T09:53:44.996Z"
   },
   {
    "duration": 11,
    "start_time": "2022-01-16T09:53:45.061Z"
   },
   {
    "duration": 14,
    "start_time": "2022-01-16T09:53:45.074Z"
   },
   {
    "duration": 11,
    "start_time": "2022-01-16T09:53:45.090Z"
   },
   {
    "duration": 9,
    "start_time": "2022-01-16T09:53:45.104Z"
   },
   {
    "duration": 11,
    "start_time": "2022-01-16T09:53:45.160Z"
   },
   {
    "duration": 11,
    "start_time": "2022-01-16T09:53:45.173Z"
   },
   {
    "duration": 11,
    "start_time": "2022-01-16T09:53:45.192Z"
   },
   {
    "duration": 55,
    "start_time": "2022-01-16T09:53:45.206Z"
   },
   {
    "duration": 11,
    "start_time": "2022-01-16T09:53:45.264Z"
   },
   {
    "duration": 10,
    "start_time": "2022-01-16T09:53:45.277Z"
   },
   {
    "duration": 11,
    "start_time": "2022-01-16T09:53:45.289Z"
   },
   {
    "duration": 12,
    "start_time": "2022-01-16T09:53:45.302Z"
   },
   {
    "duration": 13,
    "start_time": "2022-01-16T09:53:45.359Z"
   },
   {
    "duration": 17,
    "start_time": "2022-01-16T09:53:45.375Z"
   },
   {
    "duration": 13,
    "start_time": "2022-01-16T09:53:45.396Z"
   },
   {
    "duration": 50,
    "start_time": "2022-01-16T09:53:45.412Z"
   },
   {
    "duration": 11,
    "start_time": "2022-01-16T09:53:45.465Z"
   },
   {
    "duration": 9,
    "start_time": "2022-01-16T09:53:45.480Z"
   },
   {
    "duration": 32,
    "start_time": "2022-01-16T09:53:45.492Z"
   },
   {
    "duration": 84,
    "start_time": "2022-01-16T09:53:45.527Z"
   },
   {
    "duration": 7,
    "start_time": "2022-01-16T09:53:45.614Z"
   },
   {
    "duration": 37,
    "start_time": "2022-01-16T09:53:45.624Z"
   },
   {
    "duration": 9,
    "start_time": "2022-01-16T09:53:45.664Z"
   },
   {
    "duration": 7,
    "start_time": "2022-01-16T09:53:45.675Z"
   },
   {
    "duration": 11,
    "start_time": "2022-01-16T09:53:45.684Z"
   },
   {
    "duration": 11,
    "start_time": "2022-01-16T09:53:45.698Z"
   },
   {
    "duration": 467,
    "start_time": "2022-01-16T09:53:45.711Z"
   },
   {
    "duration": 833,
    "start_time": "2022-01-16T09:53:46.182Z"
   },
   {
    "duration": 15,
    "start_time": "2022-01-16T09:53:47.018Z"
   },
   {
    "duration": 32,
    "start_time": "2022-01-16T09:53:47.035Z"
   },
   {
    "duration": 474,
    "start_time": "2022-01-16T09:53:47.069Z"
   },
   {
    "duration": 16,
    "start_time": "2022-01-16T09:53:47.546Z"
   },
   {
    "duration": 18,
    "start_time": "2022-01-16T09:53:47.566Z"
   },
   {
    "duration": 26,
    "start_time": "2022-01-16T09:53:47.587Z"
   },
   {
    "duration": 849,
    "start_time": "2022-01-16T09:53:47.615Z"
   },
   {
    "duration": 14,
    "start_time": "2022-01-16T09:53:48.467Z"
   },
   {
    "duration": 384,
    "start_time": "2022-01-16T09:53:48.483Z"
   },
   {
    "duration": 601,
    "start_time": "2022-01-16T09:53:48.869Z"
   },
   {
    "duration": 1563,
    "start_time": "2022-01-16T09:53:49.472Z"
   },
   {
    "duration": 24,
    "start_time": "2022-01-16T09:53:51.038Z"
   },
   {
    "duration": 10,
    "start_time": "2022-01-16T09:53:51.066Z"
   },
   {
    "duration": 11,
    "start_time": "2022-01-16T09:53:51.080Z"
   },
   {
    "duration": 13,
    "start_time": "2022-01-16T09:53:51.095Z"
   },
   {
    "duration": 12,
    "start_time": "2022-01-16T09:53:51.158Z"
   },
   {
    "duration": 11,
    "start_time": "2022-01-16T09:53:51.173Z"
   },
   {
    "duration": 47,
    "start_time": "2022-01-16T09:54:07.069Z"
   },
   {
    "duration": 40,
    "start_time": "2022-01-16T09:54:07.119Z"
   },
   {
    "duration": 18,
    "start_time": "2022-01-16T09:54:07.163Z"
   },
   {
    "duration": 22,
    "start_time": "2022-01-16T09:54:07.184Z"
   },
   {
    "duration": 80,
    "start_time": "2022-01-16T09:54:07.208Z"
   },
   {
    "duration": 12,
    "start_time": "2022-01-16T09:54:07.291Z"
   },
   {
    "duration": 63,
    "start_time": "2022-01-16T09:54:07.306Z"
   },
   {
    "duration": 6,
    "start_time": "2022-01-16T09:54:07.374Z"
   },
   {
    "duration": 25,
    "start_time": "2022-01-16T09:54:07.383Z"
   },
   {
    "duration": 47,
    "start_time": "2022-01-16T09:54:07.412Z"
   },
   {
    "duration": 21,
    "start_time": "2022-01-16T09:54:07.462Z"
   },
   {
    "duration": 13,
    "start_time": "2022-01-16T09:54:07.486Z"
   },
   {
    "duration": 12,
    "start_time": "2022-01-16T09:54:07.501Z"
   },
   {
    "duration": 50,
    "start_time": "2022-01-16T09:54:07.516Z"
   },
   {
    "duration": 7,
    "start_time": "2022-01-16T09:54:07.569Z"
   },
   {
    "duration": 12,
    "start_time": "2022-01-16T09:54:07.579Z"
   },
   {
    "duration": 11,
    "start_time": "2022-01-16T09:54:07.593Z"
   },
   {
    "duration": 54,
    "start_time": "2022-01-16T09:54:07.607Z"
   },
   {
    "duration": 11,
    "start_time": "2022-01-16T09:54:07.664Z"
   },
   {
    "duration": 11,
    "start_time": "2022-01-16T09:54:07.677Z"
   },
   {
    "duration": 11,
    "start_time": "2022-01-16T09:54:07.690Z"
   },
   {
    "duration": 9,
    "start_time": "2022-01-16T09:54:07.704Z"
   },
   {
    "duration": 11,
    "start_time": "2022-01-16T09:54:07.764Z"
   },
   {
    "duration": 9,
    "start_time": "2022-01-16T09:54:07.779Z"
   },
   {
    "duration": 10,
    "start_time": "2022-01-16T09:54:07.790Z"
   },
   {
    "duration": 12,
    "start_time": "2022-01-16T09:54:07.802Z"
   },
   {
    "duration": 12,
    "start_time": "2022-01-16T09:54:07.859Z"
   },
   {
    "duration": 13,
    "start_time": "2022-01-16T09:54:07.873Z"
   },
   {
    "duration": 11,
    "start_time": "2022-01-16T09:54:07.889Z"
   },
   {
    "duration": 12,
    "start_time": "2022-01-16T09:54:07.903Z"
   },
   {
    "duration": 9,
    "start_time": "2022-01-16T09:54:07.960Z"
   },
   {
    "duration": 14,
    "start_time": "2022-01-16T09:54:07.972Z"
   },
   {
    "duration": 10,
    "start_time": "2022-01-16T09:54:07.988Z"
   },
   {
    "duration": 6,
    "start_time": "2022-01-16T09:54:08.000Z"
   },
   {
    "duration": 60,
    "start_time": "2022-01-16T09:54:08.008Z"
   },
   {
    "duration": 34,
    "start_time": "2022-01-16T09:54:08.071Z"
   },
   {
    "duration": 5,
    "start_time": "2022-01-16T09:54:08.107Z"
   },
   {
    "duration": 12,
    "start_time": "2022-01-16T09:54:08.115Z"
   },
   {
    "duration": 8,
    "start_time": "2022-01-16T09:54:08.161Z"
   },
   {
    "duration": 6,
    "start_time": "2022-01-16T09:54:08.172Z"
   },
   {
    "duration": 7,
    "start_time": "2022-01-16T09:54:08.181Z"
   },
   {
    "duration": 11,
    "start_time": "2022-01-16T09:54:08.191Z"
   },
   {
    "duration": 475,
    "start_time": "2022-01-16T09:54:08.204Z"
   },
   {
    "duration": 487,
    "start_time": "2022-01-16T09:54:08.681Z"
   },
   {
    "duration": 14,
    "start_time": "2022-01-16T09:54:09.170Z"
   },
   {
    "duration": 15,
    "start_time": "2022-01-16T09:54:09.186Z"
   },
   {
    "duration": 491,
    "start_time": "2022-01-16T09:54:09.204Z"
   },
   {
    "duration": 10,
    "start_time": "2022-01-16T09:54:09.698Z"
   },
   {
    "duration": 13,
    "start_time": "2022-01-16T09:54:09.710Z"
   },
   {
    "duration": 56,
    "start_time": "2022-01-16T09:54:09.725Z"
   },
   {
    "duration": 848,
    "start_time": "2022-01-16T09:54:09.784Z"
   },
   {
    "duration": 25,
    "start_time": "2022-01-16T09:54:10.634Z"
   },
   {
    "duration": 373,
    "start_time": "2022-01-16T09:54:10.662Z"
   },
   {
    "duration": 605,
    "start_time": "2022-01-16T09:54:11.037Z"
   },
   {
    "duration": 1553,
    "start_time": "2022-01-16T09:54:11.644Z"
   },
   {
    "duration": 9,
    "start_time": "2022-01-16T09:54:13.199Z"
   },
   {
    "duration": 8,
    "start_time": "2022-01-16T09:54:13.210Z"
   },
   {
    "duration": 41,
    "start_time": "2022-01-16T09:54:13.221Z"
   },
   {
    "duration": 13,
    "start_time": "2022-01-16T09:54:13.266Z"
   },
   {
    "duration": 9,
    "start_time": "2022-01-16T09:54:13.281Z"
   },
   {
    "duration": 12,
    "start_time": "2022-01-16T09:54:13.293Z"
   },
   {
    "duration": 58,
    "start_time": "2022-01-16T09:54:13.307Z"
   },
   {
    "duration": 8,
    "start_time": "2022-01-16T09:54:13.368Z"
   },
   {
    "duration": 22,
    "start_time": "2022-01-16T09:54:13.378Z"
   },
   {
    "duration": 285,
    "start_time": "2022-01-16T09:54:13.402Z"
   },
   {
    "duration": 277,
    "start_time": "2022-01-16T09:54:13.689Z"
   },
   {
    "duration": 235,
    "start_time": "2022-01-16T09:54:13.968Z"
   },
   {
    "duration": 381,
    "start_time": "2022-01-16T09:54:14.211Z"
   },
   {
    "duration": 384,
    "start_time": "2022-01-16T09:54:14.595Z"
   },
   {
    "duration": 267,
    "start_time": "2022-01-16T09:54:14.982Z"
   },
   {
    "duration": 242,
    "start_time": "2022-01-16T09:54:15.259Z"
   },
   {
    "duration": 269,
    "start_time": "2022-01-16T09:54:15.503Z"
   },
   {
    "duration": 251,
    "start_time": "2022-01-16T09:54:15.774Z"
   },
   {
    "duration": 11,
    "start_time": "2022-01-16T09:54:16.028Z"
   },
   {
    "duration": 14,
    "start_time": "2022-01-16T09:54:16.059Z"
   },
   {
    "duration": 19,
    "start_time": "2022-01-16T09:54:16.076Z"
   },
   {
    "duration": 12,
    "start_time": "2022-01-16T09:54:16.098Z"
   },
   {
    "duration": 10,
    "start_time": "2022-01-16T09:54:16.112Z"
   },
   {
    "duration": 9,
    "start_time": "2022-01-16T09:54:16.160Z"
   },
   {
    "duration": 9,
    "start_time": "2022-01-16T09:54:16.172Z"
   },
   {
    "duration": 22,
    "start_time": "2022-01-16T09:55:44.755Z"
   },
   {
    "duration": 47,
    "start_time": "2022-01-16T09:55:53.033Z"
   },
   {
    "duration": 25,
    "start_time": "2022-01-16T09:55:53.083Z"
   },
   {
    "duration": 14,
    "start_time": "2022-01-16T09:55:53.112Z"
   },
   {
    "duration": 22,
    "start_time": "2022-01-16T09:55:53.160Z"
   },
   {
    "duration": 42,
    "start_time": "2022-01-16T09:55:53.185Z"
   },
   {
    "duration": 12,
    "start_time": "2022-01-16T09:55:53.260Z"
   },
   {
    "duration": 16,
    "start_time": "2022-01-16T09:55:53.274Z"
   },
   {
    "duration": 6,
    "start_time": "2022-01-16T09:55:53.293Z"
   },
   {
    "duration": 10,
    "start_time": "2022-01-16T09:55:53.302Z"
   },
   {
    "duration": 8,
    "start_time": "2022-01-16T09:55:53.360Z"
   },
   {
    "duration": 17,
    "start_time": "2022-01-16T09:55:53.371Z"
   },
   {
    "duration": 13,
    "start_time": "2022-01-16T09:55:53.391Z"
   },
   {
    "duration": 52,
    "start_time": "2022-01-16T09:55:53.407Z"
   },
   {
    "duration": 12,
    "start_time": "2022-01-16T09:55:53.461Z"
   },
   {
    "duration": 6,
    "start_time": "2022-01-16T09:55:53.475Z"
   },
   {
    "duration": 14,
    "start_time": "2022-01-16T09:55:53.483Z"
   },
   {
    "duration": 9,
    "start_time": "2022-01-16T09:55:53.499Z"
   },
   {
    "duration": 55,
    "start_time": "2022-01-16T09:55:53.511Z"
   },
   {
    "duration": 13,
    "start_time": "2022-01-16T09:55:53.569Z"
   },
   {
    "duration": 11,
    "start_time": "2022-01-16T09:55:53.585Z"
   },
   {
    "duration": 10,
    "start_time": "2022-01-16T09:55:53.598Z"
   },
   {
    "duration": 52,
    "start_time": "2022-01-16T09:55:53.610Z"
   },
   {
    "duration": 11,
    "start_time": "2022-01-16T09:55:53.667Z"
   },
   {
    "duration": 11,
    "start_time": "2022-01-16T09:55:53.681Z"
   },
   {
    "duration": 10,
    "start_time": "2022-01-16T09:55:53.694Z"
   },
   {
    "duration": 53,
    "start_time": "2022-01-16T09:55:53.706Z"
   },
   {
    "duration": 11,
    "start_time": "2022-01-16T09:55:53.762Z"
   },
   {
    "duration": 12,
    "start_time": "2022-01-16T09:55:53.776Z"
   },
   {
    "duration": 11,
    "start_time": "2022-01-16T09:55:53.791Z"
   },
   {
    "duration": 57,
    "start_time": "2022-01-16T09:55:53.805Z"
   },
   {
    "duration": 10,
    "start_time": "2022-01-16T09:55:53.865Z"
   },
   {
    "duration": 13,
    "start_time": "2022-01-16T09:55:53.877Z"
   },
   {
    "duration": 12,
    "start_time": "2022-01-16T09:55:53.892Z"
   },
   {
    "duration": 6,
    "start_time": "2022-01-16T09:55:53.906Z"
   },
   {
    "duration": 58,
    "start_time": "2022-01-16T09:55:53.914Z"
   },
   {
    "duration": 35,
    "start_time": "2022-01-16T09:55:53.975Z"
   },
   {
    "duration": 4,
    "start_time": "2022-01-16T09:55:54.013Z"
   },
   {
    "duration": 15,
    "start_time": "2022-01-16T09:55:54.019Z"
   },
   {
    "duration": 6,
    "start_time": "2022-01-16T09:55:54.059Z"
   },
   {
    "duration": 7,
    "start_time": "2022-01-16T09:55:54.067Z"
   },
   {
    "duration": 6,
    "start_time": "2022-01-16T09:55:54.077Z"
   },
   {
    "duration": 11,
    "start_time": "2022-01-16T09:55:54.085Z"
   },
   {
    "duration": 444,
    "start_time": "2022-01-16T09:55:54.099Z"
   },
   {
    "duration": 478,
    "start_time": "2022-01-16T09:55:54.546Z"
   },
   {
    "duration": 15,
    "start_time": "2022-01-16T09:55:55.026Z"
   },
   {
    "duration": 26,
    "start_time": "2022-01-16T09:55:55.044Z"
   },
   {
    "duration": 467,
    "start_time": "2022-01-16T09:55:55.073Z"
   },
   {
    "duration": 19,
    "start_time": "2022-01-16T09:55:55.543Z"
   },
   {
    "duration": 12,
    "start_time": "2022-01-16T09:55:55.565Z"
   },
   {
    "duration": 23,
    "start_time": "2022-01-16T09:55:55.579Z"
   },
   {
    "duration": 888,
    "start_time": "2022-01-16T09:55:55.604Z"
   },
   {
    "duration": 13,
    "start_time": "2022-01-16T09:55:56.495Z"
   },
   {
    "duration": 354,
    "start_time": "2022-01-16T09:55:56.510Z"
   },
   {
    "duration": 571,
    "start_time": "2022-01-16T09:55:56.866Z"
   },
   {
    "duration": 1483,
    "start_time": "2022-01-16T09:55:57.440Z"
   },
   {
    "duration": 8,
    "start_time": "2022-01-16T09:55:58.925Z"
   },
   {
    "duration": 25,
    "start_time": "2022-01-16T09:55:58.936Z"
   },
   {
    "duration": 11,
    "start_time": "2022-01-16T09:55:58.963Z"
   },
   {
    "duration": 10,
    "start_time": "2022-01-16T09:55:58.977Z"
   },
   {
    "duration": 12,
    "start_time": "2022-01-16T09:55:58.989Z"
   },
   {
    "duration": 56,
    "start_time": "2022-01-16T09:55:59.004Z"
   },
   {
    "duration": 21,
    "start_time": "2022-01-16T09:56:03.861Z"
   },
   {
    "duration": 344,
    "start_time": "2022-01-16T09:58:32.264Z"
   },
   {
    "duration": 326,
    "start_time": "2022-01-16T09:59:34.071Z"
   },
   {
    "duration": 315,
    "start_time": "2022-01-16T10:01:58.208Z"
   },
   {
    "duration": 710,
    "start_time": "2022-01-16T10:02:13.349Z"
   },
   {
    "duration": 326,
    "start_time": "2022-01-16T10:02:17.424Z"
   },
   {
    "duration": 49,
    "start_time": "2022-01-16T10:03:03.536Z"
   },
   {
    "duration": 23,
    "start_time": "2022-01-16T10:03:03.588Z"
   },
   {
    "duration": 48,
    "start_time": "2022-01-16T10:03:03.614Z"
   },
   {
    "duration": 32,
    "start_time": "2022-01-16T10:03:03.666Z"
   },
   {
    "duration": 94,
    "start_time": "2022-01-16T10:03:03.701Z"
   },
   {
    "duration": 12,
    "start_time": "2022-01-16T10:03:03.797Z"
   },
   {
    "duration": 60,
    "start_time": "2022-01-16T10:03:03.811Z"
   },
   {
    "duration": 8,
    "start_time": "2022-01-16T10:03:03.877Z"
   },
   {
    "duration": 16,
    "start_time": "2022-01-16T10:03:03.890Z"
   },
   {
    "duration": 55,
    "start_time": "2022-01-16T10:03:03.909Z"
   },
   {
    "duration": 21,
    "start_time": "2022-01-16T10:03:03.967Z"
   },
   {
    "duration": 13,
    "start_time": "2022-01-16T10:03:03.991Z"
   },
   {
    "duration": 9,
    "start_time": "2022-01-16T10:03:04.007Z"
   },
   {
    "duration": 50,
    "start_time": "2022-01-16T10:03:04.018Z"
   },
   {
    "duration": 6,
    "start_time": "2022-01-16T10:03:04.071Z"
   },
   {
    "duration": 14,
    "start_time": "2022-01-16T10:03:04.080Z"
   },
   {
    "duration": 10,
    "start_time": "2022-01-16T10:03:04.097Z"
   },
   {
    "duration": 51,
    "start_time": "2022-01-16T10:03:04.110Z"
   },
   {
    "duration": 11,
    "start_time": "2022-01-16T10:03:04.164Z"
   },
   {
    "duration": 11,
    "start_time": "2022-01-16T10:03:04.177Z"
   },
   {
    "duration": 10,
    "start_time": "2022-01-16T10:03:04.190Z"
   },
   {
    "duration": 61,
    "start_time": "2022-01-16T10:03:04.202Z"
   },
   {
    "duration": 11,
    "start_time": "2022-01-16T10:03:04.271Z"
   },
   {
    "duration": 11,
    "start_time": "2022-01-16T10:03:04.286Z"
   },
   {
    "duration": 11,
    "start_time": "2022-01-16T10:03:04.300Z"
   },
   {
    "duration": 52,
    "start_time": "2022-01-16T10:03:04.314Z"
   },
   {
    "duration": 12,
    "start_time": "2022-01-16T10:03:04.368Z"
   },
   {
    "duration": 14,
    "start_time": "2022-01-16T10:03:04.383Z"
   },
   {
    "duration": 14,
    "start_time": "2022-01-16T10:03:04.400Z"
   },
   {
    "duration": 53,
    "start_time": "2022-01-16T10:03:04.417Z"
   },
   {
    "duration": 10,
    "start_time": "2022-01-16T10:03:04.473Z"
   },
   {
    "duration": 15,
    "start_time": "2022-01-16T10:03:04.486Z"
   },
   {
    "duration": 55,
    "start_time": "2022-01-16T10:03:04.504Z"
   },
   {
    "duration": 8,
    "start_time": "2022-01-16T10:03:04.563Z"
   },
   {
    "duration": 23,
    "start_time": "2022-01-16T10:03:04.575Z"
   },
   {
    "duration": 58,
    "start_time": "2022-01-16T10:03:04.601Z"
   },
   {
    "duration": 5,
    "start_time": "2022-01-16T10:03:04.661Z"
   },
   {
    "duration": 13,
    "start_time": "2022-01-16T10:03:04.668Z"
   },
   {
    "duration": 8,
    "start_time": "2022-01-16T10:03:04.683Z"
   },
   {
    "duration": 9,
    "start_time": "2022-01-16T10:03:04.694Z"
   },
   {
    "duration": 8,
    "start_time": "2022-01-16T10:03:04.706Z"
   },
   {
    "duration": 52,
    "start_time": "2022-01-16T10:03:04.717Z"
   },
   {
    "duration": 561,
    "start_time": "2022-01-16T10:03:04.772Z"
   },
   {
    "duration": 830,
    "start_time": "2022-01-16T10:03:05.335Z"
   },
   {
    "duration": 22,
    "start_time": "2022-01-16T10:03:06.168Z"
   },
   {
    "duration": 19,
    "start_time": "2022-01-16T10:03:06.193Z"
   },
   {
    "duration": 779,
    "start_time": "2022-01-16T10:03:06.215Z"
   },
   {
    "duration": 10,
    "start_time": "2022-01-16T10:03:06.997Z"
   },
   {
    "duration": 16,
    "start_time": "2022-01-16T10:03:07.010Z"
   },
   {
    "duration": 59,
    "start_time": "2022-01-16T10:03:07.029Z"
   },
   {
    "duration": 1368,
    "start_time": "2022-01-16T10:03:07.091Z"
   },
   {
    "duration": 17,
    "start_time": "2022-01-16T10:03:08.462Z"
   },
   {
    "duration": 378,
    "start_time": "2022-01-16T10:03:08.482Z"
   },
   {
    "duration": 648,
    "start_time": "2022-01-16T10:03:08.863Z"
   },
   {
    "duration": 1704,
    "start_time": "2022-01-16T10:03:09.514Z"
   },
   {
    "duration": 8,
    "start_time": "2022-01-16T10:03:11.221Z"
   },
   {
    "duration": 8,
    "start_time": "2022-01-16T10:03:11.232Z"
   },
   {
    "duration": 12,
    "start_time": "2022-01-16T10:03:11.260Z"
   },
   {
    "duration": 14,
    "start_time": "2022-01-16T10:03:11.274Z"
   },
   {
    "duration": 10,
    "start_time": "2022-01-16T10:03:11.291Z"
   },
   {
    "duration": 59,
    "start_time": "2022-01-16T10:03:11.304Z"
   },
   {
    "duration": 342,
    "start_time": "2022-01-16T10:03:11.365Z"
   },
   {
    "duration": 9,
    "start_time": "2022-01-16T10:03:11.710Z"
   },
   {
    "duration": 338,
    "start_time": "2022-01-16T10:03:11.721Z"
   },
   {
    "duration": 270,
    "start_time": "2022-01-16T10:03:12.061Z"
   },
   {
    "duration": 277,
    "start_time": "2022-01-16T10:03:12.333Z"
   },
   {
    "duration": 263,
    "start_time": "2022-01-16T10:03:12.612Z"
   },
   {
    "duration": 277,
    "start_time": "2022-01-16T10:03:12.882Z"
   },
   {
    "duration": 269,
    "start_time": "2022-01-16T10:03:13.162Z"
   },
   {
    "duration": 283,
    "start_time": "2022-01-16T10:03:13.434Z"
   },
   {
    "duration": 268,
    "start_time": "2022-01-16T10:03:13.719Z"
   },
   {
    "duration": 269,
    "start_time": "2022-01-16T10:03:13.990Z"
   },
   {
    "duration": 247,
    "start_time": "2022-01-16T10:03:14.261Z"
   },
   {
    "duration": 10,
    "start_time": "2022-01-16T10:03:14.510Z"
   },
   {
    "duration": 10,
    "start_time": "2022-01-16T10:03:14.522Z"
   },
   {
    "duration": 8,
    "start_time": "2022-01-16T10:03:14.559Z"
   },
   {
    "duration": 10,
    "start_time": "2022-01-16T10:03:14.569Z"
   },
   {
    "duration": 12,
    "start_time": "2022-01-16T10:03:14.582Z"
   },
   {
    "duration": 10,
    "start_time": "2022-01-16T10:03:14.596Z"
   },
   {
    "duration": 9,
    "start_time": "2022-01-16T10:03:14.608Z"
   },
   {
    "duration": 12,
    "start_time": "2022-01-16T10:10:54.177Z"
   },
   {
    "duration": 12,
    "start_time": "2022-01-16T10:11:13.379Z"
   },
   {
    "duration": 48,
    "start_time": "2022-01-16T10:12:22.554Z"
   },
   {
    "duration": 24,
    "start_time": "2022-01-16T10:12:22.605Z"
   },
   {
    "duration": 35,
    "start_time": "2022-01-16T10:12:22.632Z"
   },
   {
    "duration": 23,
    "start_time": "2022-01-16T10:12:22.671Z"
   },
   {
    "duration": 84,
    "start_time": "2022-01-16T10:12:22.697Z"
   },
   {
    "duration": 11,
    "start_time": "2022-01-16T10:12:22.784Z"
   },
   {
    "duration": 20,
    "start_time": "2022-01-16T10:12:22.797Z"
   },
   {
    "duration": 43,
    "start_time": "2022-01-16T10:12:22.821Z"
   },
   {
    "duration": 15,
    "start_time": "2022-01-16T10:12:22.867Z"
   },
   {
    "duration": 6,
    "start_time": "2022-01-16T10:12:22.885Z"
   },
   {
    "duration": 20,
    "start_time": "2022-01-16T10:12:22.893Z"
   },
   {
    "duration": 12,
    "start_time": "2022-01-16T10:12:22.960Z"
   },
   {
    "duration": 12,
    "start_time": "2022-01-16T10:12:22.975Z"
   },
   {
    "duration": 13,
    "start_time": "2022-01-16T10:12:22.989Z"
   },
   {
    "duration": 6,
    "start_time": "2022-01-16T10:12:23.004Z"
   },
   {
    "duration": 55,
    "start_time": "2022-01-16T10:12:23.012Z"
   },
   {
    "duration": 9,
    "start_time": "2022-01-16T10:12:23.069Z"
   },
   {
    "duration": 10,
    "start_time": "2022-01-16T10:12:23.081Z"
   },
   {
    "duration": 10,
    "start_time": "2022-01-16T10:12:23.094Z"
   },
   {
    "duration": 55,
    "start_time": "2022-01-16T10:12:23.106Z"
   },
   {
    "duration": 12,
    "start_time": "2022-01-16T10:12:23.163Z"
   },
   {
    "duration": 10,
    "start_time": "2022-01-16T10:12:23.177Z"
   },
   {
    "duration": 11,
    "start_time": "2022-01-16T10:12:23.193Z"
   },
   {
    "duration": 10,
    "start_time": "2022-01-16T10:12:23.208Z"
   },
   {
    "duration": 11,
    "start_time": "2022-01-16T10:12:23.260Z"
   },
   {
    "duration": 10,
    "start_time": "2022-01-16T10:12:23.274Z"
   },
   {
    "duration": 11,
    "start_time": "2022-01-16T10:12:23.287Z"
   },
   {
    "duration": 12,
    "start_time": "2022-01-16T10:12:23.300Z"
   },
   {
    "duration": 55,
    "start_time": "2022-01-16T10:12:23.314Z"
   },
   {
    "duration": 14,
    "start_time": "2022-01-16T10:12:23.372Z"
   },
   {
    "duration": 9,
    "start_time": "2022-01-16T10:12:23.388Z"
   },
   {
    "duration": 14,
    "start_time": "2022-01-16T10:12:23.399Z"
   },
   {
    "duration": 50,
    "start_time": "2022-01-16T10:12:23.415Z"
   },
   {
    "duration": 6,
    "start_time": "2022-01-16T10:12:23.468Z"
   },
   {
    "duration": 22,
    "start_time": "2022-01-16T10:12:23.477Z"
   },
   {
    "duration": 62,
    "start_time": "2022-01-16T10:12:23.501Z"
   },
   {
    "duration": 7,
    "start_time": "2022-01-16T10:12:23.565Z"
   },
   {
    "duration": 12,
    "start_time": "2022-01-16T10:12:23.574Z"
   },
   {
    "duration": 15,
    "start_time": "2022-01-16T10:12:23.589Z"
   },
   {
    "duration": 10,
    "start_time": "2022-01-16T10:12:23.607Z"
   },
   {
    "duration": 7,
    "start_time": "2022-01-16T10:12:23.620Z"
   },
   {
    "duration": 37,
    "start_time": "2022-01-16T10:12:23.629Z"
   },
   {
    "duration": 428,
    "start_time": "2022-01-16T10:12:23.669Z"
   },
   {
    "duration": 485,
    "start_time": "2022-01-16T10:12:24.100Z"
   },
   {
    "duration": 15,
    "start_time": "2022-01-16T10:12:24.587Z"
   },
   {
    "duration": 13,
    "start_time": "2022-01-16T10:12:24.604Z"
   },
   {
    "duration": 484,
    "start_time": "2022-01-16T10:12:24.619Z"
   },
   {
    "duration": 8,
    "start_time": "2022-01-16T10:12:25.106Z"
   },
   {
    "duration": 13,
    "start_time": "2022-01-16T10:12:25.116Z"
   },
   {
    "duration": 47,
    "start_time": "2022-01-16T10:12:25.132Z"
   },
   {
    "duration": 1024,
    "start_time": "2022-01-16T10:12:25.182Z"
   },
   {
    "duration": 12,
    "start_time": "2022-01-16T10:12:26.208Z"
   },
   {
    "duration": 372,
    "start_time": "2022-01-16T10:12:26.223Z"
   },
   {
    "duration": 590,
    "start_time": "2022-01-16T10:12:26.598Z"
   },
   {
    "duration": 1681,
    "start_time": "2022-01-16T10:12:27.191Z"
   },
   {
    "duration": 7,
    "start_time": "2022-01-16T10:12:28.875Z"
   },
   {
    "duration": 8,
    "start_time": "2022-01-16T10:12:28.884Z"
   },
   {
    "duration": 10,
    "start_time": "2022-01-16T10:12:28.895Z"
   },
   {
    "duration": 52,
    "start_time": "2022-01-16T10:12:28.908Z"
   },
   {
    "duration": 12,
    "start_time": "2022-01-16T10:12:28.962Z"
   },
   {
    "duration": 12,
    "start_time": "2022-01-16T10:12:28.977Z"
   },
   {
    "duration": 353,
    "start_time": "2022-01-16T10:12:28.991Z"
   },
   {
    "duration": 17,
    "start_time": "2022-01-16T10:12:29.346Z"
   },
   {
    "duration": 330,
    "start_time": "2022-01-16T10:12:29.365Z"
   },
   {
    "duration": 270,
    "start_time": "2022-01-16T10:12:29.697Z"
   },
   {
    "duration": 272,
    "start_time": "2022-01-16T10:12:29.970Z"
   },
   {
    "duration": 249,
    "start_time": "2022-01-16T10:12:30.244Z"
   },
   {
    "duration": 266,
    "start_time": "2022-01-16T10:12:30.501Z"
   },
   {
    "duration": 289,
    "start_time": "2022-01-16T10:12:30.770Z"
   },
   {
    "duration": 271,
    "start_time": "2022-01-16T10:12:31.062Z"
   },
   {
    "duration": 255,
    "start_time": "2022-01-16T10:12:31.336Z"
   },
   {
    "duration": 265,
    "start_time": "2022-01-16T10:12:31.594Z"
   },
   {
    "duration": 248,
    "start_time": "2022-01-16T10:12:31.862Z"
   },
   {
    "duration": 10,
    "start_time": "2022-01-16T10:12:32.113Z"
   },
   {
    "duration": 34,
    "start_time": "2022-01-16T10:12:32.125Z"
   },
   {
    "duration": 8,
    "start_time": "2022-01-16T10:12:32.162Z"
   },
   {
    "duration": 9,
    "start_time": "2022-01-16T10:12:32.173Z"
   },
   {
    "duration": 14,
    "start_time": "2022-01-16T10:12:32.184Z"
   },
   {
    "duration": 11,
    "start_time": "2022-01-16T10:12:32.200Z"
   },
   {
    "duration": 53,
    "start_time": "2022-01-16T10:12:32.213Z"
   },
   {
    "duration": 10,
    "start_time": "2022-01-16T10:12:32.269Z"
   },
   {
    "duration": 10,
    "start_time": "2022-01-16T10:12:32.282Z"
   },
   {
    "duration": 1421,
    "start_time": "2022-01-16T10:18:22.771Z"
   },
   {
    "duration": 27,
    "start_time": "2022-01-16T10:18:24.195Z"
   },
   {
    "duration": 16,
    "start_time": "2022-01-16T10:18:24.225Z"
   },
   {
    "duration": 22,
    "start_time": "2022-01-16T10:18:24.260Z"
   },
   {
    "duration": 42,
    "start_time": "2022-01-16T10:18:24.285Z"
   },
   {
    "duration": 37,
    "start_time": "2022-01-16T10:18:24.329Z"
   },
   {
    "duration": 18,
    "start_time": "2022-01-16T10:18:24.369Z"
   },
   {
    "duration": 6,
    "start_time": "2022-01-16T10:18:24.390Z"
   },
   {
    "duration": 12,
    "start_time": "2022-01-16T10:18:24.399Z"
   },
   {
    "duration": 7,
    "start_time": "2022-01-16T10:18:24.414Z"
   },
   {
    "duration": 17,
    "start_time": "2022-01-16T10:18:24.460Z"
   },
   {
    "duration": 14,
    "start_time": "2022-01-16T10:18:24.480Z"
   },
   {
    "duration": 12,
    "start_time": "2022-01-16T10:18:24.497Z"
   },
   {
    "duration": 59,
    "start_time": "2022-01-16T10:18:24.511Z"
   },
   {
    "duration": 7,
    "start_time": "2022-01-16T10:18:24.573Z"
   },
   {
    "duration": 17,
    "start_time": "2022-01-16T10:18:24.582Z"
   },
   {
    "duration": 14,
    "start_time": "2022-01-16T10:18:24.601Z"
   },
   {
    "duration": 46,
    "start_time": "2022-01-16T10:18:24.617Z"
   },
   {
    "duration": 11,
    "start_time": "2022-01-16T10:18:24.666Z"
   },
   {
    "duration": 10,
    "start_time": "2022-01-16T10:18:24.679Z"
   },
   {
    "duration": 13,
    "start_time": "2022-01-16T10:18:24.692Z"
   },
   {
    "duration": 57,
    "start_time": "2022-01-16T10:18:24.707Z"
   },
   {
    "duration": 12,
    "start_time": "2022-01-16T10:18:24.772Z"
   },
   {
    "duration": 13,
    "start_time": "2022-01-16T10:18:24.788Z"
   },
   {
    "duration": 57,
    "start_time": "2022-01-16T10:18:24.804Z"
   },
   {
    "duration": 13,
    "start_time": "2022-01-16T10:18:24.864Z"
   },
   {
    "duration": 13,
    "start_time": "2022-01-16T10:18:24.880Z"
   },
   {
    "duration": 14,
    "start_time": "2022-01-16T10:18:24.895Z"
   },
   {
    "duration": 14,
    "start_time": "2022-01-16T10:18:24.961Z"
   },
   {
    "duration": 14,
    "start_time": "2022-01-16T10:18:24.978Z"
   },
   {
    "duration": 12,
    "start_time": "2022-01-16T10:18:24.995Z"
   },
   {
    "duration": 56,
    "start_time": "2022-01-16T10:18:25.009Z"
   },
   {
    "duration": 12,
    "start_time": "2022-01-16T10:18:25.068Z"
   },
   {
    "duration": 7,
    "start_time": "2022-01-16T10:18:25.083Z"
   },
   {
    "duration": 22,
    "start_time": "2022-01-16T10:18:25.092Z"
   },
   {
    "duration": 70,
    "start_time": "2022-01-16T10:18:25.117Z"
   },
   {
    "duration": 5,
    "start_time": "2022-01-16T10:18:25.190Z"
   },
   {
    "duration": 13,
    "start_time": "2022-01-16T10:18:25.198Z"
   },
   {
    "duration": 7,
    "start_time": "2022-01-16T10:18:25.213Z"
   },
   {
    "duration": 40,
    "start_time": "2022-01-16T10:18:25.222Z"
   },
   {
    "duration": 12,
    "start_time": "2022-01-16T10:18:25.264Z"
   },
   {
    "duration": 11,
    "start_time": "2022-01-16T10:18:25.279Z"
   },
   {
    "duration": 429,
    "start_time": "2022-01-16T10:18:25.293Z"
   },
   {
    "duration": 491,
    "start_time": "2022-01-16T10:18:25.724Z"
   },
   {
    "duration": 16,
    "start_time": "2022-01-16T10:18:26.217Z"
   },
   {
    "duration": 29,
    "start_time": "2022-01-16T10:18:26.236Z"
   },
   {
    "duration": 482,
    "start_time": "2022-01-16T10:18:26.268Z"
   },
   {
    "duration": 11,
    "start_time": "2022-01-16T10:18:26.753Z"
   },
   {
    "duration": 13,
    "start_time": "2022-01-16T10:18:26.767Z"
   },
   {
    "duration": 23,
    "start_time": "2022-01-16T10:18:26.782Z"
   },
   {
    "duration": 909,
    "start_time": "2022-01-16T10:18:26.807Z"
   },
   {
    "duration": 11,
    "start_time": "2022-01-16T10:18:27.719Z"
   },
   {
    "duration": 390,
    "start_time": "2022-01-16T10:18:27.733Z"
   },
   {
    "duration": 606,
    "start_time": "2022-01-16T10:18:28.126Z"
   },
   {
    "duration": 1804,
    "start_time": "2022-01-16T10:18:28.735Z"
   },
   {
    "duration": 18,
    "start_time": "2022-01-16T10:18:30.541Z"
   },
   {
    "duration": 11,
    "start_time": "2022-01-16T10:18:30.562Z"
   },
   {
    "duration": 12,
    "start_time": "2022-01-16T10:18:30.576Z"
   },
   {
    "duration": 13,
    "start_time": "2022-01-16T10:18:30.591Z"
   },
   {
    "duration": 58,
    "start_time": "2022-01-16T10:18:30.607Z"
   },
   {
    "duration": 17,
    "start_time": "2022-01-16T10:18:30.668Z"
   },
   {
    "duration": 350,
    "start_time": "2022-01-16T10:18:30.688Z"
   },
   {
    "duration": 20,
    "start_time": "2022-01-16T10:18:31.041Z"
   },
   {
    "duration": 436,
    "start_time": "2022-01-16T10:18:31.063Z"
   },
   {
    "duration": 266,
    "start_time": "2022-01-16T10:18:31.502Z"
   },
   {
    "duration": 277,
    "start_time": "2022-01-16T10:18:31.771Z"
   },
   {
    "duration": 239,
    "start_time": "2022-01-16T10:18:32.051Z"
   },
   {
    "duration": 265,
    "start_time": "2022-01-16T10:18:32.298Z"
   },
   {
    "duration": 280,
    "start_time": "2022-01-16T10:18:32.565Z"
   },
   {
    "duration": 270,
    "start_time": "2022-01-16T10:18:32.848Z"
   },
   {
    "duration": 339,
    "start_time": "2022-01-16T10:18:33.122Z"
   },
   {
    "duration": 317,
    "start_time": "2022-01-16T10:18:33.464Z"
   },
   {
    "duration": 306,
    "start_time": "2022-01-16T10:18:33.784Z"
   },
   {
    "duration": 10,
    "start_time": "2022-01-16T10:18:34.092Z"
   },
   {
    "duration": 10,
    "start_time": "2022-01-16T10:18:34.104Z"
   },
   {
    "duration": 8,
    "start_time": "2022-01-16T10:18:34.117Z"
   },
   {
    "duration": 38,
    "start_time": "2022-01-16T10:18:34.127Z"
   },
   {
    "duration": 11,
    "start_time": "2022-01-16T10:18:34.168Z"
   },
   {
    "duration": 11,
    "start_time": "2022-01-16T10:18:34.181Z"
   },
   {
    "duration": 10,
    "start_time": "2022-01-16T10:18:34.194Z"
   },
   {
    "duration": 286,
    "start_time": "2022-01-16T10:21:59.020Z"
   },
   {
    "duration": 119,
    "start_time": "2022-01-16T10:22:07.886Z"
   },
   {
    "duration": 297,
    "start_time": "2022-01-16T10:22:45.903Z"
   },
   {
    "duration": 286,
    "start_time": "2022-01-16T10:22:53.982Z"
   },
   {
    "duration": 47,
    "start_time": "2022-01-16T10:25:45.936Z"
   },
   {
    "duration": 24,
    "start_time": "2022-01-16T10:25:45.986Z"
   },
   {
    "duration": 46,
    "start_time": "2022-01-16T10:25:46.013Z"
   },
   {
    "duration": 23,
    "start_time": "2022-01-16T10:25:46.063Z"
   },
   {
    "duration": 77,
    "start_time": "2022-01-16T10:25:46.089Z"
   },
   {
    "duration": 16,
    "start_time": "2022-01-16T10:25:46.170Z"
   },
   {
    "duration": 20,
    "start_time": "2022-01-16T10:25:46.189Z"
   },
   {
    "duration": 47,
    "start_time": "2022-01-16T10:25:46.215Z"
   },
   {
    "duration": 23,
    "start_time": "2022-01-16T10:25:46.266Z"
   },
   {
    "duration": 9,
    "start_time": "2022-01-16T10:25:46.292Z"
   },
   {
    "duration": 62,
    "start_time": "2022-01-16T10:25:46.304Z"
   },
   {
    "duration": 15,
    "start_time": "2022-01-16T10:25:46.369Z"
   },
   {
    "duration": 9,
    "start_time": "2022-01-16T10:25:46.387Z"
   },
   {
    "duration": 12,
    "start_time": "2022-01-16T10:25:46.399Z"
   },
   {
    "duration": 6,
    "start_time": "2022-01-16T10:25:46.460Z"
   },
   {
    "duration": 15,
    "start_time": "2022-01-16T10:25:46.468Z"
   },
   {
    "duration": 10,
    "start_time": "2022-01-16T10:25:46.485Z"
   },
   {
    "duration": 11,
    "start_time": "2022-01-16T10:25:46.498Z"
   },
   {
    "duration": 57,
    "start_time": "2022-01-16T10:25:46.511Z"
   },
   {
    "duration": 11,
    "start_time": "2022-01-16T10:25:46.570Z"
   },
   {
    "duration": 13,
    "start_time": "2022-01-16T10:25:46.583Z"
   },
   {
    "duration": 14,
    "start_time": "2022-01-16T10:25:46.598Z"
   },
   {
    "duration": 12,
    "start_time": "2022-01-16T10:25:46.660Z"
   },
   {
    "duration": 9,
    "start_time": "2022-01-16T10:25:46.676Z"
   },
   {
    "duration": 10,
    "start_time": "2022-01-16T10:25:46.688Z"
   },
   {
    "duration": 10,
    "start_time": "2022-01-16T10:25:46.700Z"
   },
   {
    "duration": 51,
    "start_time": "2022-01-16T10:25:46.712Z"
   },
   {
    "duration": 12,
    "start_time": "2022-01-16T10:25:46.766Z"
   },
   {
    "duration": 14,
    "start_time": "2022-01-16T10:25:46.781Z"
   },
   {
    "duration": 13,
    "start_time": "2022-01-16T10:25:46.797Z"
   },
   {
    "duration": 49,
    "start_time": "2022-01-16T10:25:46.812Z"
   },
   {
    "duration": 14,
    "start_time": "2022-01-16T10:25:46.864Z"
   },
   {
    "duration": 12,
    "start_time": "2022-01-16T10:25:46.880Z"
   },
   {
    "duration": 6,
    "start_time": "2022-01-16T10:25:46.894Z"
   },
   {
    "duration": 59,
    "start_time": "2022-01-16T10:25:46.902Z"
   },
   {
    "duration": 34,
    "start_time": "2022-01-16T10:25:46.963Z"
   },
   {
    "duration": 5,
    "start_time": "2022-01-16T10:25:46.999Z"
   },
   {
    "duration": 10,
    "start_time": "2022-01-16T10:25:47.006Z"
   },
   {
    "duration": 7,
    "start_time": "2022-01-16T10:25:47.019Z"
   },
   {
    "duration": 7,
    "start_time": "2022-01-16T10:25:47.060Z"
   },
   {
    "duration": 12,
    "start_time": "2022-01-16T10:25:47.069Z"
   },
   {
    "duration": 13,
    "start_time": "2022-01-16T10:25:47.083Z"
   },
   {
    "duration": 438,
    "start_time": "2022-01-16T10:25:47.098Z"
   },
   {
    "duration": 609,
    "start_time": "2022-01-16T10:25:47.539Z"
   },
   {
    "duration": 323,
    "start_time": "2022-01-16T10:25:48.151Z"
   },
   {
    "duration": 18,
    "start_time": "2022-01-16T10:25:48.477Z"
   },
   {
    "duration": 13,
    "start_time": "2022-01-16T10:25:48.497Z"
   },
   {
    "duration": 512,
    "start_time": "2022-01-16T10:25:48.513Z"
   },
   {
    "duration": 11,
    "start_time": "2022-01-16T10:25:49.028Z"
   },
   {
    "duration": 13,
    "start_time": "2022-01-16T10:25:49.059Z"
   },
   {
    "duration": 26,
    "start_time": "2022-01-16T10:25:49.075Z"
   },
   {
    "duration": 962,
    "start_time": "2022-01-16T10:25:49.104Z"
   },
   {
    "duration": 12,
    "start_time": "2022-01-16T10:25:50.069Z"
   },
   {
    "duration": 381,
    "start_time": "2022-01-16T10:25:50.083Z"
   },
   {
    "duration": 606,
    "start_time": "2022-01-16T10:25:50.467Z"
   },
   {
    "duration": 1640,
    "start_time": "2022-01-16T10:25:51.076Z"
   },
   {
    "duration": 7,
    "start_time": "2022-01-16T10:25:52.719Z"
   },
   {
    "duration": 7,
    "start_time": "2022-01-16T10:25:52.729Z"
   },
   {
    "duration": 11,
    "start_time": "2022-01-16T10:25:52.760Z"
   },
   {
    "duration": 13,
    "start_time": "2022-01-16T10:25:52.773Z"
   },
   {
    "duration": 11,
    "start_time": "2022-01-16T10:25:52.789Z"
   },
   {
    "duration": 12,
    "start_time": "2022-01-16T10:25:52.803Z"
   },
   {
    "duration": 383,
    "start_time": "2022-01-16T10:25:52.817Z"
   },
   {
    "duration": 9,
    "start_time": "2022-01-16T10:25:53.202Z"
   },
   {
    "duration": 325,
    "start_time": "2022-01-16T10:25:53.213Z"
   },
   {
    "duration": 275,
    "start_time": "2022-01-16T10:25:53.540Z"
   },
   {
    "duration": 271,
    "start_time": "2022-01-16T10:25:53.817Z"
   },
   {
    "duration": 330,
    "start_time": "2022-01-16T10:25:54.095Z"
   },
   {
    "duration": 277,
    "start_time": "2022-01-16T10:25:54.428Z"
   },
   {
    "duration": 278,
    "start_time": "2022-01-16T10:25:54.707Z"
   },
   {
    "duration": 261,
    "start_time": "2022-01-16T10:25:54.987Z"
   },
   {
    "duration": 246,
    "start_time": "2022-01-16T10:25:55.251Z"
   },
   {
    "duration": 267,
    "start_time": "2022-01-16T10:25:55.500Z"
   },
   {
    "duration": 254,
    "start_time": "2022-01-16T10:25:55.769Z"
   },
   {
    "duration": 10,
    "start_time": "2022-01-16T10:25:56.026Z"
   },
   {
    "duration": 26,
    "start_time": "2022-01-16T10:25:56.039Z"
   },
   {
    "duration": 8,
    "start_time": "2022-01-16T10:25:56.068Z"
   },
   {
    "duration": 11,
    "start_time": "2022-01-16T10:25:56.079Z"
   },
   {
    "duration": 11,
    "start_time": "2022-01-16T10:25:56.092Z"
   },
   {
    "duration": 56,
    "start_time": "2022-01-16T10:25:56.107Z"
   },
   {
    "duration": 11,
    "start_time": "2022-01-16T10:25:56.165Z"
   },
   {
    "duration": 48,
    "start_time": "2022-01-16T10:47:36.606Z"
   },
   {
    "duration": 22,
    "start_time": "2022-01-16T10:47:36.657Z"
   },
   {
    "duration": 13,
    "start_time": "2022-01-16T10:47:36.683Z"
   },
   {
    "duration": 62,
    "start_time": "2022-01-16T10:47:36.699Z"
   },
   {
    "duration": 44,
    "start_time": "2022-01-16T10:47:36.764Z"
   },
   {
    "duration": 12,
    "start_time": "2022-01-16T10:47:36.810Z"
   },
   {
    "duration": 18,
    "start_time": "2022-01-16T10:47:36.860Z"
   },
   {
    "duration": 5,
    "start_time": "2022-01-16T10:47:36.883Z"
   },
   {
    "duration": 13,
    "start_time": "2022-01-16T10:47:36.891Z"
   },
   {
    "duration": 53,
    "start_time": "2022-01-16T10:47:36.907Z"
   },
   {
    "duration": 19,
    "start_time": "2022-01-16T10:47:36.963Z"
   },
   {
    "duration": 20,
    "start_time": "2022-01-16T10:47:36.985Z"
   },
   {
    "duration": 51,
    "start_time": "2022-01-16T10:47:37.008Z"
   },
   {
    "duration": 15,
    "start_time": "2022-01-16T10:47:37.063Z"
   },
   {
    "duration": 8,
    "start_time": "2022-01-16T10:47:37.082Z"
   },
   {
    "duration": 13,
    "start_time": "2022-01-16T10:47:37.093Z"
   },
   {
    "duration": 55,
    "start_time": "2022-01-16T10:47:37.109Z"
   },
   {
    "duration": 13,
    "start_time": "2022-01-16T10:47:37.167Z"
   },
   {
    "duration": 12,
    "start_time": "2022-01-16T10:47:37.182Z"
   },
   {
    "duration": 12,
    "start_time": "2022-01-16T10:47:37.196Z"
   },
   {
    "duration": 52,
    "start_time": "2022-01-16T10:47:37.210Z"
   },
   {
    "duration": 11,
    "start_time": "2022-01-16T10:47:37.265Z"
   },
   {
    "duration": 11,
    "start_time": "2022-01-16T10:47:37.282Z"
   },
   {
    "duration": 10,
    "start_time": "2022-01-16T10:47:37.297Z"
   },
   {
    "duration": 58,
    "start_time": "2022-01-16T10:47:37.310Z"
   },
   {
    "duration": 12,
    "start_time": "2022-01-16T10:47:37.370Z"
   },
   {
    "duration": 11,
    "start_time": "2022-01-16T10:47:37.385Z"
   },
   {
    "duration": 62,
    "start_time": "2022-01-16T10:47:37.399Z"
   },
   {
    "duration": 18,
    "start_time": "2022-01-16T10:47:37.464Z"
   },
   {
    "duration": 15,
    "start_time": "2022-01-16T10:47:37.485Z"
   },
   {
    "duration": 12,
    "start_time": "2022-01-16T10:47:37.502Z"
   },
   {
    "duration": 50,
    "start_time": "2022-01-16T10:47:37.517Z"
   },
   {
    "duration": 10,
    "start_time": "2022-01-16T10:47:37.569Z"
   },
   {
    "duration": 8,
    "start_time": "2022-01-16T10:47:37.582Z"
   },
   {
    "duration": 20,
    "start_time": "2022-01-16T10:47:37.593Z"
   },
   {
    "duration": 73,
    "start_time": "2022-01-16T10:47:37.616Z"
   },
   {
    "duration": 5,
    "start_time": "2022-01-16T10:47:37.691Z"
   },
   {
    "duration": 12,
    "start_time": "2022-01-16T10:47:37.699Z"
   },
   {
    "duration": 9,
    "start_time": "2022-01-16T10:47:37.713Z"
   },
   {
    "duration": 39,
    "start_time": "2022-01-16T10:47:37.725Z"
   },
   {
    "duration": 6,
    "start_time": "2022-01-16T10:47:37.767Z"
   },
   {
    "duration": 12,
    "start_time": "2022-01-16T10:47:37.776Z"
   },
   {
    "duration": 445,
    "start_time": "2022-01-16T10:47:37.790Z"
   },
   {
    "duration": 477,
    "start_time": "2022-01-16T10:47:38.238Z"
   },
   {
    "duration": 320,
    "start_time": "2022-01-16T10:47:38.718Z"
   },
   {
    "duration": 24,
    "start_time": "2022-01-16T10:47:39.040Z"
   },
   {
    "duration": 12,
    "start_time": "2022-01-16T10:47:39.066Z"
   },
   {
    "duration": 566,
    "start_time": "2022-01-16T10:47:39.080Z"
   },
   {
    "duration": 15,
    "start_time": "2022-01-16T10:47:39.649Z"
   },
   {
    "duration": 13,
    "start_time": "2022-01-16T10:47:39.666Z"
   },
   {
    "duration": 34,
    "start_time": "2022-01-16T10:47:39.682Z"
   },
   {
    "duration": 1299,
    "start_time": "2022-01-16T10:47:39.720Z"
   },
   {
    "duration": 37,
    "start_time": "2022-01-16T10:47:41.022Z"
   },
   {
    "duration": 553,
    "start_time": "2022-01-16T10:47:41.063Z"
   },
   {
    "duration": 855,
    "start_time": "2022-01-16T10:47:41.619Z"
   },
   {
    "duration": 2426,
    "start_time": "2022-01-16T10:47:42.477Z"
   },
   {
    "duration": 10,
    "start_time": "2022-01-16T10:47:44.907Z"
   },
   {
    "duration": 16,
    "start_time": "2022-01-16T10:47:44.920Z"
   },
   {
    "duration": 15,
    "start_time": "2022-01-16T10:47:44.959Z"
   },
   {
    "duration": 14,
    "start_time": "2022-01-16T10:47:44.977Z"
   },
   {
    "duration": 15,
    "start_time": "2022-01-16T10:47:44.994Z"
   },
   {
    "duration": 53,
    "start_time": "2022-01-16T10:47:45.012Z"
   },
   {
    "duration": 351,
    "start_time": "2022-01-16T10:47:45.067Z"
   },
   {
    "duration": 9,
    "start_time": "2022-01-16T10:47:45.420Z"
   },
   {
    "duration": 349,
    "start_time": "2022-01-16T10:47:45.432Z"
   },
   {
    "duration": 404,
    "start_time": "2022-01-16T10:47:45.784Z"
   },
   {
    "duration": 596,
    "start_time": "2022-01-16T10:47:46.191Z"
   },
   {
    "duration": 367,
    "start_time": "2022-01-16T10:47:46.799Z"
   },
   {
    "duration": 382,
    "start_time": "2022-01-16T10:47:47.170Z"
   },
   {
    "duration": 405,
    "start_time": "2022-01-16T10:47:47.559Z"
   },
   {
    "duration": 309,
    "start_time": "2022-01-16T10:47:47.967Z"
   },
   {
    "duration": 280,
    "start_time": "2022-01-16T10:47:48.279Z"
   },
   {
    "duration": 412,
    "start_time": "2022-01-16T10:47:48.561Z"
   },
   {
    "duration": 249,
    "start_time": "2022-01-16T10:47:48.976Z"
   },
   {
    "duration": 11,
    "start_time": "2022-01-16T10:47:49.228Z"
   },
   {
    "duration": 23,
    "start_time": "2022-01-16T10:47:49.244Z"
   },
   {
    "duration": 13,
    "start_time": "2022-01-16T10:47:49.269Z"
   },
   {
    "duration": 12,
    "start_time": "2022-01-16T10:47:49.285Z"
   },
   {
    "duration": 14,
    "start_time": "2022-01-16T10:47:49.300Z"
   },
   {
    "duration": 14,
    "start_time": "2022-01-16T10:47:49.360Z"
   },
   {
    "duration": 16,
    "start_time": "2022-01-16T10:47:49.377Z"
   },
   {
    "duration": 316,
    "start_time": "2022-01-16T10:49:03.452Z"
   },
   {
    "duration": 51,
    "start_time": "2022-01-16T10:49:17.917Z"
   },
   {
    "duration": 30,
    "start_time": "2022-01-16T10:49:17.972Z"
   },
   {
    "duration": 55,
    "start_time": "2022-01-16T10:49:18.006Z"
   },
   {
    "duration": 34,
    "start_time": "2022-01-16T10:49:18.065Z"
   },
   {
    "duration": 107,
    "start_time": "2022-01-16T10:49:18.102Z"
   },
   {
    "duration": 47,
    "start_time": "2022-01-16T10:49:18.212Z"
   },
   {
    "duration": 25,
    "start_time": "2022-01-16T10:49:18.263Z"
   },
   {
    "duration": 6,
    "start_time": "2022-01-16T10:49:18.293Z"
   },
   {
    "duration": 56,
    "start_time": "2022-01-16T10:49:18.304Z"
   },
   {
    "duration": 9,
    "start_time": "2022-01-16T10:49:18.363Z"
   },
   {
    "duration": 29,
    "start_time": "2022-01-16T10:49:18.374Z"
   },
   {
    "duration": 11,
    "start_time": "2022-01-16T10:49:18.406Z"
   },
   {
    "duration": 12,
    "start_time": "2022-01-16T10:49:18.460Z"
   },
   {
    "duration": 16,
    "start_time": "2022-01-16T10:49:18.475Z"
   },
   {
    "duration": 9,
    "start_time": "2022-01-16T10:49:18.494Z"
   },
   {
    "duration": 13,
    "start_time": "2022-01-16T10:49:18.505Z"
   },
   {
    "duration": 12,
    "start_time": "2022-01-16T10:49:18.560Z"
   },
   {
    "duration": 10,
    "start_time": "2022-01-16T10:49:18.575Z"
   },
   {
    "duration": 11,
    "start_time": "2022-01-16T10:49:18.588Z"
   },
   {
    "duration": 60,
    "start_time": "2022-01-16T10:49:18.601Z"
   },
   {
    "duration": 15,
    "start_time": "2022-01-16T10:49:18.664Z"
   },
   {
    "duration": 14,
    "start_time": "2022-01-16T10:49:18.682Z"
   },
   {
    "duration": 12,
    "start_time": "2022-01-16T10:49:18.702Z"
   },
   {
    "duration": 13,
    "start_time": "2022-01-16T10:49:18.763Z"
   },
   {
    "duration": 23,
    "start_time": "2022-01-16T10:49:18.780Z"
   },
   {
    "duration": 18,
    "start_time": "2022-01-16T10:49:18.806Z"
   },
   {
    "duration": 44,
    "start_time": "2022-01-16T10:49:18.827Z"
   },
   {
    "duration": 19,
    "start_time": "2022-01-16T10:49:18.873Z"
   },
   {
    "duration": 18,
    "start_time": "2022-01-16T10:49:18.895Z"
   },
   {
    "duration": 53,
    "start_time": "2022-01-16T10:49:18.916Z"
   },
   {
    "duration": 11,
    "start_time": "2022-01-16T10:49:18.972Z"
   },
   {
    "duration": 21,
    "start_time": "2022-01-16T10:49:18.986Z"
   },
   {
    "duration": 49,
    "start_time": "2022-01-16T10:49:19.010Z"
   },
   {
    "duration": 8,
    "start_time": "2022-01-16T10:49:19.063Z"
   },
   {
    "duration": 24,
    "start_time": "2022-01-16T10:49:19.074Z"
   },
   {
    "duration": 67,
    "start_time": "2022-01-16T10:49:19.101Z"
   },
   {
    "duration": 5,
    "start_time": "2022-01-16T10:49:19.170Z"
   },
   {
    "duration": 12,
    "start_time": "2022-01-16T10:49:19.178Z"
   },
   {
    "duration": 11,
    "start_time": "2022-01-16T10:49:19.193Z"
   },
   {
    "duration": 12,
    "start_time": "2022-01-16T10:49:19.207Z"
   },
   {
    "duration": 37,
    "start_time": "2022-01-16T10:49:19.222Z"
   },
   {
    "duration": 21,
    "start_time": "2022-01-16T10:49:19.262Z"
   },
   {
    "duration": 573,
    "start_time": "2022-01-16T10:49:19.286Z"
   },
   {
    "duration": 625,
    "start_time": "2022-01-16T10:49:19.863Z"
   },
   {
    "duration": 17,
    "start_time": "2022-01-16T10:49:20.492Z"
   },
   {
    "duration": 19,
    "start_time": "2022-01-16T10:49:20.512Z"
   },
   {
    "duration": 515,
    "start_time": "2022-01-16T10:49:20.534Z"
   },
   {
    "duration": 8,
    "start_time": "2022-01-16T10:49:21.059Z"
   },
   {
    "duration": 20,
    "start_time": "2022-01-16T10:49:21.070Z"
   },
   {
    "duration": 72,
    "start_time": "2022-01-16T10:49:21.093Z"
   },
   {
    "duration": 914,
    "start_time": "2022-01-16T10:49:21.168Z"
   },
   {
    "duration": 13,
    "start_time": "2022-01-16T10:49:22.085Z"
   },
   {
    "duration": 575,
    "start_time": "2022-01-16T10:49:22.101Z"
   },
   {
    "duration": 875,
    "start_time": "2022-01-16T10:49:22.680Z"
   },
   {
    "duration": 1562,
    "start_time": "2022-01-16T10:49:23.560Z"
   },
   {
    "duration": 10,
    "start_time": "2022-01-16T10:49:25.126Z"
   },
   {
    "duration": 24,
    "start_time": "2022-01-16T10:49:25.139Z"
   },
   {
    "duration": 16,
    "start_time": "2022-01-16T10:49:25.166Z"
   },
   {
    "duration": 15,
    "start_time": "2022-01-16T10:49:25.185Z"
   },
   {
    "duration": 16,
    "start_time": "2022-01-16T10:49:25.203Z"
   },
   {
    "duration": 16,
    "start_time": "2022-01-16T10:49:25.258Z"
   },
   {
    "duration": 654,
    "start_time": "2022-01-16T10:49:25.277Z"
   },
   {
    "duration": 25,
    "start_time": "2022-01-16T10:49:25.934Z"
   },
   {
    "duration": 544,
    "start_time": "2022-01-16T10:49:25.962Z"
   },
   {
    "duration": 564,
    "start_time": "2022-01-16T10:49:26.509Z"
   },
   {
    "duration": 290,
    "start_time": "2022-01-16T10:49:27.076Z"
   },
   {
    "duration": 254,
    "start_time": "2022-01-16T10:49:27.370Z"
   },
   {
    "duration": 427,
    "start_time": "2022-01-16T10:49:27.637Z"
   },
   {
    "duration": 547,
    "start_time": "2022-01-16T10:49:28.067Z"
   },
   {
    "duration": 430,
    "start_time": "2022-01-16T10:49:28.617Z"
   },
   {
    "duration": 389,
    "start_time": "2022-01-16T10:49:29.051Z"
   },
   {
    "duration": 262,
    "start_time": "2022-01-16T10:49:29.443Z"
   },
   {
    "duration": 391,
    "start_time": "2022-01-16T10:49:29.709Z"
   },
   {
    "duration": 12,
    "start_time": "2022-01-16T10:49:30.103Z"
   },
   {
    "duration": 43,
    "start_time": "2022-01-16T10:49:30.118Z"
   },
   {
    "duration": 24,
    "start_time": "2022-01-16T10:49:30.164Z"
   },
   {
    "duration": 17,
    "start_time": "2022-01-16T10:49:30.191Z"
   },
   {
    "duration": 23,
    "start_time": "2022-01-16T10:49:30.211Z"
   },
   {
    "duration": 34,
    "start_time": "2022-01-16T10:49:30.237Z"
   },
   {
    "duration": 16,
    "start_time": "2022-01-16T10:49:30.274Z"
   },
   {
    "duration": 346,
    "start_time": "2022-01-16T10:51:18.490Z"
   },
   {
    "duration": 54,
    "start_time": "2022-01-16T10:51:24.771Z"
   },
   {
    "duration": 42,
    "start_time": "2022-01-16T10:51:24.829Z"
   },
   {
    "duration": 19,
    "start_time": "2022-01-16T10:51:24.875Z"
   },
   {
    "duration": 75,
    "start_time": "2022-01-16T10:51:24.898Z"
   },
   {
    "duration": 97,
    "start_time": "2022-01-16T10:51:24.977Z"
   },
   {
    "duration": 12,
    "start_time": "2022-01-16T10:51:25.076Z"
   },
   {
    "duration": 17,
    "start_time": "2022-01-16T10:51:25.091Z"
   },
   {
    "duration": 8,
    "start_time": "2022-01-16T10:51:25.158Z"
   },
   {
    "duration": 15,
    "start_time": "2022-01-16T10:51:25.170Z"
   },
   {
    "duration": 10,
    "start_time": "2022-01-16T10:51:25.191Z"
   },
   {
    "duration": 61,
    "start_time": "2022-01-16T10:51:25.204Z"
   },
   {
    "duration": 12,
    "start_time": "2022-01-16T10:51:25.268Z"
   },
   {
    "duration": 13,
    "start_time": "2022-01-16T10:51:25.283Z"
   },
   {
    "duration": 16,
    "start_time": "2022-01-16T10:51:25.300Z"
   },
   {
    "duration": 6,
    "start_time": "2022-01-16T10:51:25.360Z"
   },
   {
    "duration": 15,
    "start_time": "2022-01-16T10:51:25.368Z"
   },
   {
    "duration": 14,
    "start_time": "2022-01-16T10:51:25.386Z"
   },
   {
    "duration": 11,
    "start_time": "2022-01-16T10:51:25.403Z"
   },
   {
    "duration": 12,
    "start_time": "2022-01-16T10:51:25.460Z"
   },
   {
    "duration": 10,
    "start_time": "2022-01-16T10:51:25.475Z"
   },
   {
    "duration": 16,
    "start_time": "2022-01-16T10:51:25.488Z"
   },
   {
    "duration": 58,
    "start_time": "2022-01-16T10:51:25.508Z"
   },
   {
    "duration": 14,
    "start_time": "2022-01-16T10:51:25.575Z"
   },
   {
    "duration": 10,
    "start_time": "2022-01-16T10:51:25.593Z"
   },
   {
    "duration": 10,
    "start_time": "2022-01-16T10:51:25.606Z"
   },
   {
    "duration": 45,
    "start_time": "2022-01-16T10:51:25.619Z"
   },
   {
    "duration": 12,
    "start_time": "2022-01-16T10:51:25.667Z"
   },
   {
    "duration": 13,
    "start_time": "2022-01-16T10:51:25.681Z"
   },
   {
    "duration": 67,
    "start_time": "2022-01-16T10:51:25.697Z"
   },
   {
    "duration": 18,
    "start_time": "2022-01-16T10:51:25.767Z"
   },
   {
    "duration": 10,
    "start_time": "2022-01-16T10:51:25.787Z"
   },
   {
    "duration": 13,
    "start_time": "2022-01-16T10:51:25.799Z"
   },
   {
    "duration": 54,
    "start_time": "2022-01-16T10:51:25.815Z"
   },
   {
    "duration": 9,
    "start_time": "2022-01-16T10:51:25.872Z"
   },
   {
    "duration": 21,
    "start_time": "2022-01-16T10:51:25.885Z"
   },
   {
    "duration": 69,
    "start_time": "2022-01-16T10:51:25.909Z"
   },
   {
    "duration": 6,
    "start_time": "2022-01-16T10:51:25.980Z"
   },
   {
    "duration": 25,
    "start_time": "2022-01-16T10:51:25.989Z"
   },
   {
    "duration": 9,
    "start_time": "2022-01-16T10:51:26.017Z"
   },
   {
    "duration": 32,
    "start_time": "2022-01-16T10:51:26.029Z"
   },
   {
    "duration": 8,
    "start_time": "2022-01-16T10:51:26.064Z"
   },
   {
    "duration": 16,
    "start_time": "2022-01-16T10:51:26.075Z"
   },
   {
    "duration": 722,
    "start_time": "2022-01-16T10:51:26.095Z"
   },
   {
    "duration": 671,
    "start_time": "2022-01-16T10:51:26.820Z"
   },
   {
    "duration": 21,
    "start_time": "2022-01-16T10:51:27.495Z"
   },
   {
    "duration": 41,
    "start_time": "2022-01-16T10:51:27.519Z"
   },
   {
    "duration": 513,
    "start_time": "2022-01-16T10:51:27.563Z"
   },
   {
    "duration": 9,
    "start_time": "2022-01-16T10:51:28.079Z"
   },
   {
    "duration": 13,
    "start_time": "2022-01-16T10:51:28.091Z"
   },
   {
    "duration": 62,
    "start_time": "2022-01-16T10:51:28.107Z"
   },
   {
    "duration": 1329,
    "start_time": "2022-01-16T10:51:28.172Z"
   },
   {
    "duration": 18,
    "start_time": "2022-01-16T10:51:29.503Z"
   },
   {
    "duration": 401,
    "start_time": "2022-01-16T10:51:29.524Z"
   },
   {
    "duration": 637,
    "start_time": "2022-01-16T10:51:29.928Z"
   },
   {
    "duration": 1831,
    "start_time": "2022-01-16T10:51:30.568Z"
   },
   {
    "duration": 8,
    "start_time": "2022-01-16T10:51:32.401Z"
   },
   {
    "duration": 11,
    "start_time": "2022-01-16T10:51:32.412Z"
   },
   {
    "duration": 43,
    "start_time": "2022-01-16T10:51:32.426Z"
   },
   {
    "duration": 15,
    "start_time": "2022-01-16T10:51:32.472Z"
   },
   {
    "duration": 13,
    "start_time": "2022-01-16T10:51:32.490Z"
   },
   {
    "duration": 11,
    "start_time": "2022-01-16T10:51:32.506Z"
   },
   {
    "duration": 376,
    "start_time": "2022-01-16T10:51:32.519Z"
   },
   {
    "duration": 9,
    "start_time": "2022-01-16T10:51:32.898Z"
   },
   {
    "duration": 694,
    "start_time": "2022-01-16T10:51:32.910Z"
   },
   {
    "duration": 411,
    "start_time": "2022-01-16T10:51:33.607Z"
   },
   {
    "duration": 435,
    "start_time": "2022-01-16T10:51:34.021Z"
   },
   {
    "duration": 250,
    "start_time": "2022-01-16T10:51:34.459Z"
   },
   {
    "duration": 359,
    "start_time": "2022-01-16T10:51:34.717Z"
   },
   {
    "duration": 292,
    "start_time": "2022-01-16T10:51:35.079Z"
   },
   {
    "duration": 364,
    "start_time": "2022-01-16T10:51:35.374Z"
   },
   {
    "duration": 328,
    "start_time": "2022-01-16T10:51:35.741Z"
   },
   {
    "duration": 395,
    "start_time": "2022-01-16T10:51:36.072Z"
   },
   {
    "duration": 376,
    "start_time": "2022-01-16T10:51:36.470Z"
   },
   {
    "duration": 19,
    "start_time": "2022-01-16T10:51:36.848Z"
   },
   {
    "duration": 16,
    "start_time": "2022-01-16T10:51:36.870Z"
   },
   {
    "duration": 10,
    "start_time": "2022-01-16T10:51:36.888Z"
   },
   {
    "duration": 11,
    "start_time": "2022-01-16T10:51:36.900Z"
   },
   {
    "duration": 52,
    "start_time": "2022-01-16T10:51:36.913Z"
   },
   {
    "duration": 10,
    "start_time": "2022-01-16T10:51:36.968Z"
   },
   {
    "duration": 12,
    "start_time": "2022-01-16T10:51:36.981Z"
   },
   {
    "duration": 1282,
    "start_time": "2022-03-18T12:47:25.253Z"
   },
   {
    "duration": 19,
    "start_time": "2022-03-18T12:47:26.537Z"
   },
   {
    "duration": 13,
    "start_time": "2022-03-18T12:47:26.557Z"
   },
   {
    "duration": 14,
    "start_time": "2022-03-18T12:47:26.572Z"
   },
   {
    "duration": 24,
    "start_time": "2022-03-18T12:47:26.587Z"
   },
   {
    "duration": 7,
    "start_time": "2022-03-18T12:47:26.613Z"
   },
   {
    "duration": 14,
    "start_time": "2022-03-18T12:47:26.621Z"
   },
   {
    "duration": 4,
    "start_time": "2022-03-18T12:47:26.637Z"
   },
   {
    "duration": 10,
    "start_time": "2022-03-18T12:47:26.642Z"
   },
   {
    "duration": 5,
    "start_time": "2022-03-18T12:47:26.680Z"
   },
   {
    "duration": 11,
    "start_time": "2022-03-18T12:47:26.686Z"
   },
   {
    "duration": 15,
    "start_time": "2022-03-18T12:47:26.698Z"
   },
   {
    "duration": 7,
    "start_time": "2022-03-18T12:47:26.714Z"
   },
   {
    "duration": 8,
    "start_time": "2022-03-18T12:47:26.722Z"
   },
   {
    "duration": 7,
    "start_time": "2022-03-18T12:47:26.731Z"
   },
   {
    "duration": 9,
    "start_time": "2022-03-18T12:47:26.739Z"
   },
   {
    "duration": 31,
    "start_time": "2022-03-18T12:47:26.750Z"
   },
   {
    "duration": 6,
    "start_time": "2022-03-18T12:47:26.783Z"
   },
   {
    "duration": 6,
    "start_time": "2022-03-18T12:47:26.790Z"
   },
   {
    "duration": 6,
    "start_time": "2022-03-18T12:47:26.798Z"
   },
   {
    "duration": 9,
    "start_time": "2022-03-18T12:47:26.805Z"
   },
   {
    "duration": 7,
    "start_time": "2022-03-18T12:47:26.815Z"
   },
   {
    "duration": 9,
    "start_time": "2022-03-18T12:47:26.823Z"
   },
   {
    "duration": 6,
    "start_time": "2022-03-18T12:47:26.833Z"
   },
   {
    "duration": 42,
    "start_time": "2022-03-18T12:47:26.840Z"
   },
   {
    "duration": 7,
    "start_time": "2022-03-18T12:47:26.884Z"
   },
   {
    "duration": 7,
    "start_time": "2022-03-18T12:47:26.892Z"
   },
   {
    "duration": 7,
    "start_time": "2022-03-18T12:47:26.903Z"
   },
   {
    "duration": 9,
    "start_time": "2022-03-18T12:47:26.912Z"
   },
   {
    "duration": 10,
    "start_time": "2022-03-18T12:47:26.923Z"
   },
   {
    "duration": 6,
    "start_time": "2022-03-18T12:47:26.935Z"
   },
   {
    "duration": 40,
    "start_time": "2022-03-18T12:47:26.942Z"
   },
   {
    "duration": 7,
    "start_time": "2022-03-18T12:47:26.984Z"
   },
   {
    "duration": 4,
    "start_time": "2022-03-18T12:47:26.993Z"
   },
   {
    "duration": 16,
    "start_time": "2022-03-18T12:47:26.999Z"
   },
   {
    "duration": 17,
    "start_time": "2022-03-18T12:47:27.016Z"
   },
   {
    "duration": 3,
    "start_time": "2022-03-18T12:47:27.035Z"
   },
   {
    "duration": 7,
    "start_time": "2022-03-18T12:47:27.040Z"
   },
   {
    "duration": 6,
    "start_time": "2022-03-18T12:47:27.049Z"
   },
   {
    "duration": 4,
    "start_time": "2022-03-18T12:47:27.081Z"
   },
   {
    "duration": 7,
    "start_time": "2022-03-18T12:47:27.086Z"
   },
   {
    "duration": 10,
    "start_time": "2022-03-18T12:47:27.094Z"
   },
   {
    "duration": 188,
    "start_time": "2022-03-18T12:47:27.105Z"
   },
   {
    "duration": 243,
    "start_time": "2022-03-18T12:47:27.294Z"
   },
   {
    "duration": 9,
    "start_time": "2022-03-18T12:47:27.539Z"
   },
   {
    "duration": 10,
    "start_time": "2022-03-18T12:47:27.549Z"
   },
   {
    "duration": 235,
    "start_time": "2022-03-18T12:47:27.560Z"
   },
   {
    "duration": 6,
    "start_time": "2022-03-18T12:47:27.797Z"
   },
   {
    "duration": 12,
    "start_time": "2022-03-18T12:47:27.805Z"
   },
   {
    "duration": 14,
    "start_time": "2022-03-18T12:47:27.819Z"
   },
   {
    "duration": 387,
    "start_time": "2022-03-18T12:47:27.834Z"
   },
   {
    "duration": 7,
    "start_time": "2022-03-18T12:47:28.223Z"
   },
   {
    "duration": 148,
    "start_time": "2022-03-18T12:47:28.232Z"
   },
   {
    "duration": 190,
    "start_time": "2022-03-18T12:47:28.382Z"
   },
   {
    "duration": 624,
    "start_time": "2022-03-18T12:47:28.573Z"
   },
   {
    "duration": 6,
    "start_time": "2022-03-18T12:47:29.199Z"
   },
   {
    "duration": 16,
    "start_time": "2022-03-18T12:47:29.207Z"
   },
   {
    "duration": 9,
    "start_time": "2022-03-18T12:47:29.225Z"
   },
   {
    "duration": 7,
    "start_time": "2022-03-18T12:47:29.236Z"
   },
   {
    "duration": 11,
    "start_time": "2022-03-18T12:47:29.245Z"
   },
   {
    "duration": 8,
    "start_time": "2022-03-18T12:47:29.282Z"
   },
   {
    "duration": 179,
    "start_time": "2022-03-18T12:47:29.292Z"
   },
   {
    "duration": 5,
    "start_time": "2022-03-18T12:47:29.481Z"
   },
   {
    "duration": 157,
    "start_time": "2022-03-18T12:47:29.487Z"
   },
   {
    "duration": 137,
    "start_time": "2022-03-18T12:47:29.645Z"
   },
   {
    "duration": 123,
    "start_time": "2022-03-18T12:47:29.783Z"
   },
   {
    "duration": 121,
    "start_time": "2022-03-18T12:47:29.907Z"
   },
   {
    "duration": 122,
    "start_time": "2022-03-18T12:47:30.030Z"
   },
   {
    "duration": 143,
    "start_time": "2022-03-18T12:47:30.154Z"
   },
   {
    "duration": 132,
    "start_time": "2022-03-18T12:47:30.299Z"
   },
   {
    "duration": 114,
    "start_time": "2022-03-18T12:47:30.433Z"
   },
   {
    "duration": 201,
    "start_time": "2022-03-18T12:47:30.549Z"
   },
   {
    "duration": 115,
    "start_time": "2022-03-18T12:47:30.751Z"
   },
   {
    "duration": 7,
    "start_time": "2022-03-18T12:47:30.867Z"
   },
   {
    "duration": 11,
    "start_time": "2022-03-18T12:47:30.881Z"
   },
   {
    "duration": 14,
    "start_time": "2022-03-18T12:47:30.893Z"
   },
   {
    "duration": 8,
    "start_time": "2022-03-18T12:47:30.908Z"
   },
   {
    "duration": 20,
    "start_time": "2022-03-18T12:47:30.918Z"
   },
   {
    "duration": 28,
    "start_time": "2022-03-18T12:47:30.940Z"
   },
   {
    "duration": 11,
    "start_time": "2022-03-18T12:47:30.970Z"
   }
  ],
  "kernelspec": {
   "display_name": "Python 3 (ipykernel)",
   "language": "python",
   "name": "python3"
  },
  "language_info": {
   "codemirror_mode": {
    "name": "ipython",
    "version": 3
   },
   "file_extension": ".py",
   "mimetype": "text/x-python",
   "name": "python",
   "nbconvert_exporter": "python",
   "pygments_lexer": "ipython3",
   "version": "3.9.5"
  },
  "toc": {
   "base_numbering": 1,
   "nav_menu": {},
   "number_sections": true,
   "sideBar": true,
   "skip_h1_title": true,
   "title_cell": "Cодержание",
   "title_sidebar": "Contents",
   "toc_cell": true,
   "toc_position": {
    "height": "calc(100% - 180px)",
    "left": "10px",
    "top": "150px",
    "width": "302.391px"
   },
   "toc_section_display": true,
   "toc_window_display": true
  }
 },
 "nbformat": 4,
 "nbformat_minor": 2
}
