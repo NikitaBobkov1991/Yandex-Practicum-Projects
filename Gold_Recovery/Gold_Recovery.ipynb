{
 "cells": [
  {
   "cell_type": "markdown",
   "metadata": {
    "toc": true
   },
   "source": [
    "<h1>Содержание<span class=\"tocSkip\"></span></h1>\n",
    "<div class=\"toc\"><ul class=\"toc-item\"><li><ul class=\"toc-item\"><li><span><a href=\"#Импортирование-необходимых-для-работы-библиотек\" data-toc-modified-id=\"Импортирование-необходимых-для-работы-библиотек-0.1\"><span class=\"toc-item-num\">0.1&nbsp;&nbsp;</span>Импортирование необходимых для работы библиотек</a></span></li></ul></li><li><span><a href=\"#Подготовка-данных\" data-toc-modified-id=\"Подготовка-данных-1\"><span class=\"toc-item-num\">1&nbsp;&nbsp;</span>Подготовка данных</a></span><ul class=\"toc-item\"><li><span><a href=\"#Изучение-данных\" data-toc-modified-id=\"Изучение-данных-1.1\"><span class=\"toc-item-num\">1.1&nbsp;&nbsp;</span>Изучение данных</a></span></li><li><span><a href=\"#Проверка-корректности-расчета-эффективности-обогащения\" data-toc-modified-id=\"Проверка-корректности-расчета-эффективности-обогащения-1.2\"><span class=\"toc-item-num\">1.2&nbsp;&nbsp;</span>Проверка корректности расчета эффективности обогащения</a></span></li><li><span><a href=\"#Анализ-признаков,-недоступных-в-тестовой-выборке\" data-toc-modified-id=\"Анализ-признаков,-недоступных-в-тестовой-выборке-1.3\"><span class=\"toc-item-num\">1.3&nbsp;&nbsp;</span>Анализ признаков, недоступных в тестовой выборке</a></span></li><li><span><a href=\"#Предобработка-данных\" data-toc-modified-id=\"Предобработка-данных-1.4\"><span class=\"toc-item-num\">1.4&nbsp;&nbsp;</span>Предобработка данных</a></span></li></ul></li><li><span><a href=\"#Анализ-данных\" data-toc-modified-id=\"Анализ-данных-2\"><span class=\"toc-item-num\">2&nbsp;&nbsp;</span>Анализ данных</a></span><ul class=\"toc-item\"><li><span><a href=\"#Оценка-изменения-концентрации-металлов-(Au,-Ag,-Pb)-на-различных-этапах-очистки\" data-toc-modified-id=\"Оценка-изменения-концентрации-металлов-(Au,-Ag,-Pb)-на-различных-этапах-очистки-2.1\"><span class=\"toc-item-num\">2.1&nbsp;&nbsp;</span>Оценка изменения концентрации металлов (Au, Ag, Pb) на различных этапах очистки</a></span></li><li><span><a href=\"#Сравнение-распределения-размеров-гранул-сырья-на-обучающей-и-тестовой-выборках\" data-toc-modified-id=\"Сравнение-распределения-размеров-гранул-сырья-на-обучающей-и-тестовой-выборках-2.2\"><span class=\"toc-item-num\">2.2&nbsp;&nbsp;</span>Сравнение распределения размеров гранул сырья на обучающей и тестовой выборках</a></span></li><li><span><a href=\"#Исследование-суммарной-концентрации-всех-веществ\" data-toc-modified-id=\"Исследование-суммарной-концентрации-всех-веществ-2.3\"><span class=\"toc-item-num\">2.3&nbsp;&nbsp;</span>Исследование суммарной концентрации всех веществ</a></span></li></ul></li><li><span><a href=\"#Модель\" data-toc-modified-id=\"Модель-3\"><span class=\"toc-item-num\">3&nbsp;&nbsp;</span>Модель</a></span><ul class=\"toc-item\"><li><span><a href=\"#Инициализация-выборок-для-обучения-модели\" data-toc-modified-id=\"Инициализация-выборок-для-обучения-модели-3.1\"><span class=\"toc-item-num\">3.1&nbsp;&nbsp;</span>Инициализация выборок для обучения модели</a></span></li><li><span><a href=\"#Метрики\" data-toc-modified-id=\"Метрики-3.2\"><span class=\"toc-item-num\">3.2&nbsp;&nbsp;</span>Метрики</a></span></li><li><span><a href=\"#Подготовка-моделей\" data-toc-modified-id=\"Подготовка-моделей-3.3\"><span class=\"toc-item-num\">3.3&nbsp;&nbsp;</span>Подготовка моделей</a></span></li><li><span><a href=\"#Обучение-моделей\" data-toc-modified-id=\"Обучение-моделей-3.4\"><span class=\"toc-item-num\">3.4&nbsp;&nbsp;</span>Обучение моделей</a></span></li><li><span><a href=\"#Итоговая-ошибка-на-тестовой-выборке\" data-toc-modified-id=\"Итоговая-ошибка-на-тестовой-выборке-3.5\"><span class=\"toc-item-num\">3.5&nbsp;&nbsp;</span>Итоговая ошибка на тестовой выборке</a></span></li></ul></li><li><span><a href=\"#Вывод\" data-toc-modified-id=\"Вывод-4\"><span class=\"toc-item-num\">4&nbsp;&nbsp;</span>Вывод</a></span></li></ul></div>"
   ]
  },
  {
   "cell_type": "markdown",
   "metadata": {},
   "source": [
    "# Восстановление золота из руды"
   ]
  },
  {
   "cell_type": "markdown",
   "metadata": {},
   "source": [
    "Подготовьте прототип модели машинного обучения для «Цифры». Компания разрабатывает решения для эффективной работы промышленных предприятий.\n",
    "\n",
    "Модель должна предсказать коэффициент восстановления золота из золотосодержащей руды. Используйте данные с параметрами добычи и очистки. \n",
    "\n",
    "Модель поможет оптимизировать производство, чтобы не запускать предприятие с убыточными характеристиками.\n",
    "\n",
    "Вам нужно:\n",
    "\n",
    "1. Подготовить данные;\n",
    "2. Провести исследовательский анализ данных;\n",
    "3. Построить и обучить модель.\n",
    "\n",
    "Чтобы выполнить проект, обращайтесь к библиотекам *pandas*, *matplotlib* и *sklearn.* Вам поможет их документация."
   ]
  },
  {
   "cell_type": "markdown",
   "metadata": {},
   "source": [
    "### Импортирование необходимых для работы библиотек"
   ]
  },
  {
   "cell_type": "code",
   "execution_count": 1,
   "metadata": {},
   "outputs": [],
   "source": [
    "# для работы с массивами данных\n",
    "import numpy as np\n",
    "# для работы с таблицами\n",
    "import pandas as pd\n",
    "# для вычисления MAE\n",
    "from sklearn.metrics import mean_absolute_error as MAE\n",
    "# модуль, который позволяет автоматизировать предварительные преобразования данных перед обучением модели\n",
    "from sklearn.pipeline import  make_pipeline\n",
    "# для заполнения пропусков\n",
    "from sklearn.impute import SimpleImputer\n",
    "# для стандартизации масштаба признаков\n",
    "from sklearn.preprocessing import StandardScaler\n",
    "#для автоматического подбора параметров модели \n",
    "from sklearn.model_selection import GridSearchCV\n",
    "# выбранные модели\n",
    "from sklearn.ensemble import RandomForestRegressor\n",
    "from sklearn.tree import DecisionTreeRegressor\n",
    "# для количественной оценки качества прогнозов\n",
    "from sklearn.metrics import make_scorer\n",
    "# для построения графиков\n",
    "import matplotlib.pyplot as plt\n",
    "# для построения графиков\n",
    "import seaborn as sns\n",
    "\n",
    "import warnings\n",
    "warnings.simplefilter(action='ignore', category=FutureWarning)"
   ]
  },
  {
   "cell_type": "markdown",
   "metadata": {},
   "source": [
    "## Подготовка данных"
   ]
  },
  {
   "cell_type": "markdown",
   "metadata": {},
   "source": [
    "### Изучение данных"
   ]
  },
  {
   "cell_type": "markdown",
   "metadata": {},
   "source": [
    "Загрузим необходимые для работы файлы:"
   ]
  },
  {
   "cell_type": "code",
   "execution_count": 2,
   "metadata": {},
   "outputs": [],
   "source": [
    "test_frame = pd.read_csv(\"/datasets/gold_recovery_test_new.csv\")\n",
    "train_frame = pd.read_csv(\"/datasets/gold_recovery_train_new.csv\")\n",
    "full_frame = pd.read_csv(\"/datasets/gold_recovery_full_new.csv\")"
   ]
  },
  {
   "cell_type": "markdown",
   "metadata": {},
   "source": [
    "Отобразим общий вид всех трех таблиц:"
   ]
  },
  {
   "cell_type": "code",
   "execution_count": 3,
   "metadata": {
    "scrolled": true
   },
   "outputs": [
    {
     "data": {
      "text/plain": [
       "'Тестовая выборка:'"
      ]
     },
     "metadata": {},
     "output_type": "display_data"
    },
    {
     "data": {
      "text/html": [
       "<div>\n",
       "<style scoped>\n",
       "    .dataframe tbody tr th:only-of-type {\n",
       "        vertical-align: middle;\n",
       "    }\n",
       "\n",
       "    .dataframe tbody tr th {\n",
       "        vertical-align: top;\n",
       "    }\n",
       "\n",
       "    .dataframe thead th {\n",
       "        text-align: right;\n",
       "    }\n",
       "</style>\n",
       "<table border=\"1\" class=\"dataframe\">\n",
       "  <thead>\n",
       "    <tr style=\"text-align: right;\">\n",
       "      <th></th>\n",
       "      <th>date</th>\n",
       "      <th>primary_cleaner.input.sulfate</th>\n",
       "      <th>primary_cleaner.input.depressant</th>\n",
       "      <th>primary_cleaner.input.feed_size</th>\n",
       "      <th>primary_cleaner.input.xanthate</th>\n",
       "      <th>primary_cleaner.state.floatbank8_a_air</th>\n",
       "      <th>primary_cleaner.state.floatbank8_a_level</th>\n",
       "      <th>primary_cleaner.state.floatbank8_b_air</th>\n",
       "      <th>primary_cleaner.state.floatbank8_b_level</th>\n",
       "      <th>primary_cleaner.state.floatbank8_c_air</th>\n",
       "      <th>...</th>\n",
       "      <th>secondary_cleaner.state.floatbank4_a_air</th>\n",
       "      <th>secondary_cleaner.state.floatbank4_a_level</th>\n",
       "      <th>secondary_cleaner.state.floatbank4_b_air</th>\n",
       "      <th>secondary_cleaner.state.floatbank4_b_level</th>\n",
       "      <th>secondary_cleaner.state.floatbank5_a_air</th>\n",
       "      <th>secondary_cleaner.state.floatbank5_a_level</th>\n",
       "      <th>secondary_cleaner.state.floatbank5_b_air</th>\n",
       "      <th>secondary_cleaner.state.floatbank5_b_level</th>\n",
       "      <th>secondary_cleaner.state.floatbank6_a_air</th>\n",
       "      <th>secondary_cleaner.state.floatbank6_a_level</th>\n",
       "    </tr>\n",
       "  </thead>\n",
       "  <tbody>\n",
       "    <tr>\n",
       "      <th>0</th>\n",
       "      <td>2016-09-01 00:59:59</td>\n",
       "      <td>210.800909</td>\n",
       "      <td>14.993118</td>\n",
       "      <td>8.080000</td>\n",
       "      <td>1.005021</td>\n",
       "      <td>1398.981301</td>\n",
       "      <td>-500.225577</td>\n",
       "      <td>1399.144926</td>\n",
       "      <td>-499.919735</td>\n",
       "      <td>1400.102998</td>\n",
       "      <td>...</td>\n",
       "      <td>12.023554</td>\n",
       "      <td>-497.795834</td>\n",
       "      <td>8.016656</td>\n",
       "      <td>-501.289139</td>\n",
       "      <td>7.946562</td>\n",
       "      <td>-432.317850</td>\n",
       "      <td>4.872511</td>\n",
       "      <td>-500.037437</td>\n",
       "      <td>26.705889</td>\n",
       "      <td>-499.709414</td>\n",
       "    </tr>\n",
       "    <tr>\n",
       "      <th>1</th>\n",
       "      <td>2016-09-01 01:59:59</td>\n",
       "      <td>215.392455</td>\n",
       "      <td>14.987471</td>\n",
       "      <td>8.080000</td>\n",
       "      <td>0.990469</td>\n",
       "      <td>1398.777912</td>\n",
       "      <td>-500.057435</td>\n",
       "      <td>1398.055362</td>\n",
       "      <td>-499.778182</td>\n",
       "      <td>1396.151033</td>\n",
       "      <td>...</td>\n",
       "      <td>12.058140</td>\n",
       "      <td>-498.695773</td>\n",
       "      <td>8.130979</td>\n",
       "      <td>-499.634209</td>\n",
       "      <td>7.958270</td>\n",
       "      <td>-525.839648</td>\n",
       "      <td>4.878850</td>\n",
       "      <td>-500.162375</td>\n",
       "      <td>25.019940</td>\n",
       "      <td>-499.819438</td>\n",
       "    </tr>\n",
       "    <tr>\n",
       "      <th>2</th>\n",
       "      <td>2016-09-01 02:59:59</td>\n",
       "      <td>215.259946</td>\n",
       "      <td>12.884934</td>\n",
       "      <td>7.786667</td>\n",
       "      <td>0.996043</td>\n",
       "      <td>1398.493666</td>\n",
       "      <td>-500.868360</td>\n",
       "      <td>1398.860436</td>\n",
       "      <td>-499.764529</td>\n",
       "      <td>1398.075709</td>\n",
       "      <td>...</td>\n",
       "      <td>11.962366</td>\n",
       "      <td>-498.767484</td>\n",
       "      <td>8.096893</td>\n",
       "      <td>-500.827423</td>\n",
       "      <td>8.071056</td>\n",
       "      <td>-500.801673</td>\n",
       "      <td>4.905125</td>\n",
       "      <td>-499.828510</td>\n",
       "      <td>24.994862</td>\n",
       "      <td>-500.622559</td>\n",
       "    </tr>\n",
       "  </tbody>\n",
       "</table>\n",
       "<p>3 rows × 53 columns</p>\n",
       "</div>"
      ],
      "text/plain": [
       "                  date  primary_cleaner.input.sulfate  \\\n",
       "0  2016-09-01 00:59:59                     210.800909   \n",
       "1  2016-09-01 01:59:59                     215.392455   \n",
       "2  2016-09-01 02:59:59                     215.259946   \n",
       "\n",
       "   primary_cleaner.input.depressant  primary_cleaner.input.feed_size  \\\n",
       "0                         14.993118                         8.080000   \n",
       "1                         14.987471                         8.080000   \n",
       "2                         12.884934                         7.786667   \n",
       "\n",
       "   primary_cleaner.input.xanthate  primary_cleaner.state.floatbank8_a_air  \\\n",
       "0                        1.005021                             1398.981301   \n",
       "1                        0.990469                             1398.777912   \n",
       "2                        0.996043                             1398.493666   \n",
       "\n",
       "   primary_cleaner.state.floatbank8_a_level  \\\n",
       "0                               -500.225577   \n",
       "1                               -500.057435   \n",
       "2                               -500.868360   \n",
       "\n",
       "   primary_cleaner.state.floatbank8_b_air  \\\n",
       "0                             1399.144926   \n",
       "1                             1398.055362   \n",
       "2                             1398.860436   \n",
       "\n",
       "   primary_cleaner.state.floatbank8_b_level  \\\n",
       "0                               -499.919735   \n",
       "1                               -499.778182   \n",
       "2                               -499.764529   \n",
       "\n",
       "   primary_cleaner.state.floatbank8_c_air  ...  \\\n",
       "0                             1400.102998  ...   \n",
       "1                             1396.151033  ...   \n",
       "2                             1398.075709  ...   \n",
       "\n",
       "   secondary_cleaner.state.floatbank4_a_air  \\\n",
       "0                                 12.023554   \n",
       "1                                 12.058140   \n",
       "2                                 11.962366   \n",
       "\n",
       "   secondary_cleaner.state.floatbank4_a_level  \\\n",
       "0                                 -497.795834   \n",
       "1                                 -498.695773   \n",
       "2                                 -498.767484   \n",
       "\n",
       "   secondary_cleaner.state.floatbank4_b_air  \\\n",
       "0                                  8.016656   \n",
       "1                                  8.130979   \n",
       "2                                  8.096893   \n",
       "\n",
       "   secondary_cleaner.state.floatbank4_b_level  \\\n",
       "0                                 -501.289139   \n",
       "1                                 -499.634209   \n",
       "2                                 -500.827423   \n",
       "\n",
       "   secondary_cleaner.state.floatbank5_a_air  \\\n",
       "0                                  7.946562   \n",
       "1                                  7.958270   \n",
       "2                                  8.071056   \n",
       "\n",
       "   secondary_cleaner.state.floatbank5_a_level  \\\n",
       "0                                 -432.317850   \n",
       "1                                 -525.839648   \n",
       "2                                 -500.801673   \n",
       "\n",
       "   secondary_cleaner.state.floatbank5_b_air  \\\n",
       "0                                  4.872511   \n",
       "1                                  4.878850   \n",
       "2                                  4.905125   \n",
       "\n",
       "   secondary_cleaner.state.floatbank5_b_level  \\\n",
       "0                                 -500.037437   \n",
       "1                                 -500.162375   \n",
       "2                                 -499.828510   \n",
       "\n",
       "   secondary_cleaner.state.floatbank6_a_air  \\\n",
       "0                                 26.705889   \n",
       "1                                 25.019940   \n",
       "2                                 24.994862   \n",
       "\n",
       "   secondary_cleaner.state.floatbank6_a_level  \n",
       "0                                 -499.709414  \n",
       "1                                 -499.819438  \n",
       "2                                 -500.622559  \n",
       "\n",
       "[3 rows x 53 columns]"
      ]
     },
     "metadata": {},
     "output_type": "display_data"
    },
    {
     "data": {
      "text/plain": [
       "'Тренировочная выборка:'"
      ]
     },
     "metadata": {},
     "output_type": "display_data"
    },
    {
     "data": {
      "text/html": [
       "<div>\n",
       "<style scoped>\n",
       "    .dataframe tbody tr th:only-of-type {\n",
       "        vertical-align: middle;\n",
       "    }\n",
       "\n",
       "    .dataframe tbody tr th {\n",
       "        vertical-align: top;\n",
       "    }\n",
       "\n",
       "    .dataframe thead th {\n",
       "        text-align: right;\n",
       "    }\n",
       "</style>\n",
       "<table border=\"1\" class=\"dataframe\">\n",
       "  <thead>\n",
       "    <tr style=\"text-align: right;\">\n",
       "      <th></th>\n",
       "      <th>date</th>\n",
       "      <th>final.output.concentrate_ag</th>\n",
       "      <th>final.output.concentrate_pb</th>\n",
       "      <th>final.output.concentrate_sol</th>\n",
       "      <th>final.output.concentrate_au</th>\n",
       "      <th>final.output.recovery</th>\n",
       "      <th>final.output.tail_ag</th>\n",
       "      <th>final.output.tail_pb</th>\n",
       "      <th>final.output.tail_sol</th>\n",
       "      <th>final.output.tail_au</th>\n",
       "      <th>...</th>\n",
       "      <th>secondary_cleaner.state.floatbank4_a_air</th>\n",
       "      <th>secondary_cleaner.state.floatbank4_a_level</th>\n",
       "      <th>secondary_cleaner.state.floatbank4_b_air</th>\n",
       "      <th>secondary_cleaner.state.floatbank4_b_level</th>\n",
       "      <th>secondary_cleaner.state.floatbank5_a_air</th>\n",
       "      <th>secondary_cleaner.state.floatbank5_a_level</th>\n",
       "      <th>secondary_cleaner.state.floatbank5_b_air</th>\n",
       "      <th>secondary_cleaner.state.floatbank5_b_level</th>\n",
       "      <th>secondary_cleaner.state.floatbank6_a_air</th>\n",
       "      <th>secondary_cleaner.state.floatbank6_a_level</th>\n",
       "    </tr>\n",
       "  </thead>\n",
       "  <tbody>\n",
       "    <tr>\n",
       "      <th>0</th>\n",
       "      <td>2016-01-15 00:00:00</td>\n",
       "      <td>6.055403</td>\n",
       "      <td>9.889648</td>\n",
       "      <td>5.507324</td>\n",
       "      <td>42.192020</td>\n",
       "      <td>70.541216</td>\n",
       "      <td>10.411962</td>\n",
       "      <td>0.895447</td>\n",
       "      <td>16.904297</td>\n",
       "      <td>2.143149</td>\n",
       "      <td>...</td>\n",
       "      <td>14.016835</td>\n",
       "      <td>-502.488007</td>\n",
       "      <td>12.099931</td>\n",
       "      <td>-504.715942</td>\n",
       "      <td>9.925633</td>\n",
       "      <td>-498.310211</td>\n",
       "      <td>8.079666</td>\n",
       "      <td>-500.470978</td>\n",
       "      <td>14.151341</td>\n",
       "      <td>-605.841980</td>\n",
       "    </tr>\n",
       "    <tr>\n",
       "      <th>1</th>\n",
       "      <td>2016-01-15 01:00:00</td>\n",
       "      <td>6.029369</td>\n",
       "      <td>9.968944</td>\n",
       "      <td>5.257781</td>\n",
       "      <td>42.701629</td>\n",
       "      <td>69.266198</td>\n",
       "      <td>10.462676</td>\n",
       "      <td>0.927452</td>\n",
       "      <td>16.634514</td>\n",
       "      <td>2.224930</td>\n",
       "      <td>...</td>\n",
       "      <td>13.992281</td>\n",
       "      <td>-505.503262</td>\n",
       "      <td>11.950531</td>\n",
       "      <td>-501.331529</td>\n",
       "      <td>10.039245</td>\n",
       "      <td>-500.169983</td>\n",
       "      <td>7.984757</td>\n",
       "      <td>-500.582168</td>\n",
       "      <td>13.998353</td>\n",
       "      <td>-599.787184</td>\n",
       "    </tr>\n",
       "    <tr>\n",
       "      <th>2</th>\n",
       "      <td>2016-01-15 02:00:00</td>\n",
       "      <td>6.055926</td>\n",
       "      <td>10.213995</td>\n",
       "      <td>5.383759</td>\n",
       "      <td>42.657501</td>\n",
       "      <td>68.116445</td>\n",
       "      <td>10.507046</td>\n",
       "      <td>0.953716</td>\n",
       "      <td>16.208849</td>\n",
       "      <td>2.257889</td>\n",
       "      <td>...</td>\n",
       "      <td>14.015015</td>\n",
       "      <td>-502.520901</td>\n",
       "      <td>11.912783</td>\n",
       "      <td>-501.133383</td>\n",
       "      <td>10.070913</td>\n",
       "      <td>-500.129135</td>\n",
       "      <td>8.013877</td>\n",
       "      <td>-500.517572</td>\n",
       "      <td>14.028663</td>\n",
       "      <td>-601.427363</td>\n",
       "    </tr>\n",
       "  </tbody>\n",
       "</table>\n",
       "<p>3 rows × 87 columns</p>\n",
       "</div>"
      ],
      "text/plain": [
       "                  date  final.output.concentrate_ag  \\\n",
       "0  2016-01-15 00:00:00                     6.055403   \n",
       "1  2016-01-15 01:00:00                     6.029369   \n",
       "2  2016-01-15 02:00:00                     6.055926   \n",
       "\n",
       "   final.output.concentrate_pb  final.output.concentrate_sol  \\\n",
       "0                     9.889648                      5.507324   \n",
       "1                     9.968944                      5.257781   \n",
       "2                    10.213995                      5.383759   \n",
       "\n",
       "   final.output.concentrate_au  final.output.recovery  final.output.tail_ag  \\\n",
       "0                    42.192020              70.541216             10.411962   \n",
       "1                    42.701629              69.266198             10.462676   \n",
       "2                    42.657501              68.116445             10.507046   \n",
       "\n",
       "   final.output.tail_pb  final.output.tail_sol  final.output.tail_au  ...  \\\n",
       "0              0.895447              16.904297              2.143149  ...   \n",
       "1              0.927452              16.634514              2.224930  ...   \n",
       "2              0.953716              16.208849              2.257889  ...   \n",
       "\n",
       "   secondary_cleaner.state.floatbank4_a_air  \\\n",
       "0                                 14.016835   \n",
       "1                                 13.992281   \n",
       "2                                 14.015015   \n",
       "\n",
       "   secondary_cleaner.state.floatbank4_a_level  \\\n",
       "0                                 -502.488007   \n",
       "1                                 -505.503262   \n",
       "2                                 -502.520901   \n",
       "\n",
       "   secondary_cleaner.state.floatbank4_b_air  \\\n",
       "0                                 12.099931   \n",
       "1                                 11.950531   \n",
       "2                                 11.912783   \n",
       "\n",
       "   secondary_cleaner.state.floatbank4_b_level  \\\n",
       "0                                 -504.715942   \n",
       "1                                 -501.331529   \n",
       "2                                 -501.133383   \n",
       "\n",
       "   secondary_cleaner.state.floatbank5_a_air  \\\n",
       "0                                  9.925633   \n",
       "1                                 10.039245   \n",
       "2                                 10.070913   \n",
       "\n",
       "   secondary_cleaner.state.floatbank5_a_level  \\\n",
       "0                                 -498.310211   \n",
       "1                                 -500.169983   \n",
       "2                                 -500.129135   \n",
       "\n",
       "   secondary_cleaner.state.floatbank5_b_air  \\\n",
       "0                                  8.079666   \n",
       "1                                  7.984757   \n",
       "2                                  8.013877   \n",
       "\n",
       "   secondary_cleaner.state.floatbank5_b_level  \\\n",
       "0                                 -500.470978   \n",
       "1                                 -500.582168   \n",
       "2                                 -500.517572   \n",
       "\n",
       "   secondary_cleaner.state.floatbank6_a_air  \\\n",
       "0                                 14.151341   \n",
       "1                                 13.998353   \n",
       "2                                 14.028663   \n",
       "\n",
       "   secondary_cleaner.state.floatbank6_a_level  \n",
       "0                                 -605.841980  \n",
       "1                                 -599.787184  \n",
       "2                                 -601.427363  \n",
       "\n",
       "[3 rows x 87 columns]"
      ]
     },
     "metadata": {},
     "output_type": "display_data"
    },
    {
     "data": {
      "text/plain": [
       "'Общая выборка'"
      ]
     },
     "metadata": {},
     "output_type": "display_data"
    },
    {
     "data": {
      "text/html": [
       "<div>\n",
       "<style scoped>\n",
       "    .dataframe tbody tr th:only-of-type {\n",
       "        vertical-align: middle;\n",
       "    }\n",
       "\n",
       "    .dataframe tbody tr th {\n",
       "        vertical-align: top;\n",
       "    }\n",
       "\n",
       "    .dataframe thead th {\n",
       "        text-align: right;\n",
       "    }\n",
       "</style>\n",
       "<table border=\"1\" class=\"dataframe\">\n",
       "  <thead>\n",
       "    <tr style=\"text-align: right;\">\n",
       "      <th></th>\n",
       "      <th>date</th>\n",
       "      <th>final.output.concentrate_ag</th>\n",
       "      <th>final.output.concentrate_pb</th>\n",
       "      <th>final.output.concentrate_sol</th>\n",
       "      <th>final.output.concentrate_au</th>\n",
       "      <th>final.output.recovery</th>\n",
       "      <th>final.output.tail_ag</th>\n",
       "      <th>final.output.tail_pb</th>\n",
       "      <th>final.output.tail_sol</th>\n",
       "      <th>final.output.tail_au</th>\n",
       "      <th>...</th>\n",
       "      <th>secondary_cleaner.state.floatbank4_a_air</th>\n",
       "      <th>secondary_cleaner.state.floatbank4_a_level</th>\n",
       "      <th>secondary_cleaner.state.floatbank4_b_air</th>\n",
       "      <th>secondary_cleaner.state.floatbank4_b_level</th>\n",
       "      <th>secondary_cleaner.state.floatbank5_a_air</th>\n",
       "      <th>secondary_cleaner.state.floatbank5_a_level</th>\n",
       "      <th>secondary_cleaner.state.floatbank5_b_air</th>\n",
       "      <th>secondary_cleaner.state.floatbank5_b_level</th>\n",
       "      <th>secondary_cleaner.state.floatbank6_a_air</th>\n",
       "      <th>secondary_cleaner.state.floatbank6_a_level</th>\n",
       "    </tr>\n",
       "  </thead>\n",
       "  <tbody>\n",
       "    <tr>\n",
       "      <th>0</th>\n",
       "      <td>2016-01-15 00:00:00</td>\n",
       "      <td>6.055403</td>\n",
       "      <td>9.889648</td>\n",
       "      <td>5.507324</td>\n",
       "      <td>42.192020</td>\n",
       "      <td>70.541216</td>\n",
       "      <td>10.411962</td>\n",
       "      <td>0.895447</td>\n",
       "      <td>16.904297</td>\n",
       "      <td>2.143149</td>\n",
       "      <td>...</td>\n",
       "      <td>14.016835</td>\n",
       "      <td>-502.488007</td>\n",
       "      <td>12.099931</td>\n",
       "      <td>-504.715942</td>\n",
       "      <td>9.925633</td>\n",
       "      <td>-498.310211</td>\n",
       "      <td>8.079666</td>\n",
       "      <td>-500.470978</td>\n",
       "      <td>14.151341</td>\n",
       "      <td>-605.841980</td>\n",
       "    </tr>\n",
       "    <tr>\n",
       "      <th>1</th>\n",
       "      <td>2016-01-15 01:00:00</td>\n",
       "      <td>6.029369</td>\n",
       "      <td>9.968944</td>\n",
       "      <td>5.257781</td>\n",
       "      <td>42.701629</td>\n",
       "      <td>69.266198</td>\n",
       "      <td>10.462676</td>\n",
       "      <td>0.927452</td>\n",
       "      <td>16.634514</td>\n",
       "      <td>2.224930</td>\n",
       "      <td>...</td>\n",
       "      <td>13.992281</td>\n",
       "      <td>-505.503262</td>\n",
       "      <td>11.950531</td>\n",
       "      <td>-501.331529</td>\n",
       "      <td>10.039245</td>\n",
       "      <td>-500.169983</td>\n",
       "      <td>7.984757</td>\n",
       "      <td>-500.582168</td>\n",
       "      <td>13.998353</td>\n",
       "      <td>-599.787184</td>\n",
       "    </tr>\n",
       "    <tr>\n",
       "      <th>2</th>\n",
       "      <td>2016-01-15 02:00:00</td>\n",
       "      <td>6.055926</td>\n",
       "      <td>10.213995</td>\n",
       "      <td>5.383759</td>\n",
       "      <td>42.657501</td>\n",
       "      <td>68.116445</td>\n",
       "      <td>10.507046</td>\n",
       "      <td>0.953716</td>\n",
       "      <td>16.208849</td>\n",
       "      <td>2.257889</td>\n",
       "      <td>...</td>\n",
       "      <td>14.015015</td>\n",
       "      <td>-502.520901</td>\n",
       "      <td>11.912783</td>\n",
       "      <td>-501.133383</td>\n",
       "      <td>10.070913</td>\n",
       "      <td>-500.129135</td>\n",
       "      <td>8.013877</td>\n",
       "      <td>-500.517572</td>\n",
       "      <td>14.028663</td>\n",
       "      <td>-601.427363</td>\n",
       "    </tr>\n",
       "  </tbody>\n",
       "</table>\n",
       "<p>3 rows × 87 columns</p>\n",
       "</div>"
      ],
      "text/plain": [
       "                  date  final.output.concentrate_ag  \\\n",
       "0  2016-01-15 00:00:00                     6.055403   \n",
       "1  2016-01-15 01:00:00                     6.029369   \n",
       "2  2016-01-15 02:00:00                     6.055926   \n",
       "\n",
       "   final.output.concentrate_pb  final.output.concentrate_sol  \\\n",
       "0                     9.889648                      5.507324   \n",
       "1                     9.968944                      5.257781   \n",
       "2                    10.213995                      5.383759   \n",
       "\n",
       "   final.output.concentrate_au  final.output.recovery  final.output.tail_ag  \\\n",
       "0                    42.192020              70.541216             10.411962   \n",
       "1                    42.701629              69.266198             10.462676   \n",
       "2                    42.657501              68.116445             10.507046   \n",
       "\n",
       "   final.output.tail_pb  final.output.tail_sol  final.output.tail_au  ...  \\\n",
       "0              0.895447              16.904297              2.143149  ...   \n",
       "1              0.927452              16.634514              2.224930  ...   \n",
       "2              0.953716              16.208849              2.257889  ...   \n",
       "\n",
       "   secondary_cleaner.state.floatbank4_a_air  \\\n",
       "0                                 14.016835   \n",
       "1                                 13.992281   \n",
       "2                                 14.015015   \n",
       "\n",
       "   secondary_cleaner.state.floatbank4_a_level  \\\n",
       "0                                 -502.488007   \n",
       "1                                 -505.503262   \n",
       "2                                 -502.520901   \n",
       "\n",
       "   secondary_cleaner.state.floatbank4_b_air  \\\n",
       "0                                 12.099931   \n",
       "1                                 11.950531   \n",
       "2                                 11.912783   \n",
       "\n",
       "   secondary_cleaner.state.floatbank4_b_level  \\\n",
       "0                                 -504.715942   \n",
       "1                                 -501.331529   \n",
       "2                                 -501.133383   \n",
       "\n",
       "   secondary_cleaner.state.floatbank5_a_air  \\\n",
       "0                                  9.925633   \n",
       "1                                 10.039245   \n",
       "2                                 10.070913   \n",
       "\n",
       "   secondary_cleaner.state.floatbank5_a_level  \\\n",
       "0                                 -498.310211   \n",
       "1                                 -500.169983   \n",
       "2                                 -500.129135   \n",
       "\n",
       "   secondary_cleaner.state.floatbank5_b_air  \\\n",
       "0                                  8.079666   \n",
       "1                                  7.984757   \n",
       "2                                  8.013877   \n",
       "\n",
       "   secondary_cleaner.state.floatbank5_b_level  \\\n",
       "0                                 -500.470978   \n",
       "1                                 -500.582168   \n",
       "2                                 -500.517572   \n",
       "\n",
       "   secondary_cleaner.state.floatbank6_a_air  \\\n",
       "0                                 14.151341   \n",
       "1                                 13.998353   \n",
       "2                                 14.028663   \n",
       "\n",
       "   secondary_cleaner.state.floatbank6_a_level  \n",
       "0                                 -605.841980  \n",
       "1                                 -599.787184  \n",
       "2                                 -601.427363  \n",
       "\n",
       "[3 rows x 87 columns]"
      ]
     },
     "metadata": {},
     "output_type": "display_data"
    }
   ],
   "source": [
    "display('Тестовая выборка:', test_frame.head(3))\n",
    "display('Тренировочная выборка:',train_frame.head(3))\n",
    "display('Общая выборка', full_frame.head(3))"
   ]
  },
  {
   "cell_type": "markdown",
   "metadata": {},
   "source": [
    "Отобразим информацию о таблицах:"
   ]
  },
  {
   "cell_type": "code",
   "execution_count": 4,
   "metadata": {
    "scrolled": true
   },
   "outputs": [
    {
     "name": "stdout",
     "output_type": "stream",
     "text": [
      "<class 'pandas.core.frame.DataFrame'>\n",
      "RangeIndex: 5290 entries, 0 to 5289\n",
      "Data columns (total 53 columns):\n",
      " #   Column                                      Non-Null Count  Dtype  \n",
      "---  ------                                      --------------  -----  \n",
      " 0   date                                        5290 non-null   object \n",
      " 1   primary_cleaner.input.sulfate               5286 non-null   float64\n",
      " 2   primary_cleaner.input.depressant            5285 non-null   float64\n",
      " 3   primary_cleaner.input.feed_size             5290 non-null   float64\n",
      " 4   primary_cleaner.input.xanthate              5286 non-null   float64\n",
      " 5   primary_cleaner.state.floatbank8_a_air      5290 non-null   float64\n",
      " 6   primary_cleaner.state.floatbank8_a_level    5290 non-null   float64\n",
      " 7   primary_cleaner.state.floatbank8_b_air      5290 non-null   float64\n",
      " 8   primary_cleaner.state.floatbank8_b_level    5290 non-null   float64\n",
      " 9   primary_cleaner.state.floatbank8_c_air      5290 non-null   float64\n",
      " 10  primary_cleaner.state.floatbank8_c_level    5290 non-null   float64\n",
      " 11  primary_cleaner.state.floatbank8_d_air      5290 non-null   float64\n",
      " 12  primary_cleaner.state.floatbank8_d_level    5290 non-null   float64\n",
      " 13  rougher.input.feed_ag                       5290 non-null   float64\n",
      " 14  rougher.input.feed_pb                       5290 non-null   float64\n",
      " 15  rougher.input.feed_rate                     5287 non-null   float64\n",
      " 16  rougher.input.feed_size                     5289 non-null   float64\n",
      " 17  rougher.input.feed_sol                      5269 non-null   float64\n",
      " 18  rougher.input.feed_au                       5290 non-null   float64\n",
      " 19  rougher.input.floatbank10_sulfate           5285 non-null   float64\n",
      " 20  rougher.input.floatbank10_xanthate          5290 non-null   float64\n",
      " 21  rougher.input.floatbank11_sulfate           5282 non-null   float64\n",
      " 22  rougher.input.floatbank11_xanthate          5265 non-null   float64\n",
      " 23  rougher.state.floatbank10_a_air             5290 non-null   float64\n",
      " 24  rougher.state.floatbank10_a_level           5290 non-null   float64\n",
      " 25  rougher.state.floatbank10_b_air             5290 non-null   float64\n",
      " 26  rougher.state.floatbank10_b_level           5290 non-null   float64\n",
      " 27  rougher.state.floatbank10_c_air             5290 non-null   float64\n",
      " 28  rougher.state.floatbank10_c_level           5290 non-null   float64\n",
      " 29  rougher.state.floatbank10_d_air             5290 non-null   float64\n",
      " 30  rougher.state.floatbank10_d_level           5290 non-null   float64\n",
      " 31  rougher.state.floatbank10_e_air             5290 non-null   float64\n",
      " 32  rougher.state.floatbank10_e_level           5290 non-null   float64\n",
      " 33  rougher.state.floatbank10_f_air             5290 non-null   float64\n",
      " 34  rougher.state.floatbank10_f_level           5290 non-null   float64\n",
      " 35  secondary_cleaner.state.floatbank2_a_air    5287 non-null   float64\n",
      " 36  secondary_cleaner.state.floatbank2_a_level  5290 non-null   float64\n",
      " 37  secondary_cleaner.state.floatbank2_b_air    5288 non-null   float64\n",
      " 38  secondary_cleaner.state.floatbank2_b_level  5290 non-null   float64\n",
      " 39  secondary_cleaner.state.floatbank3_a_air    5281 non-null   float64\n",
      " 40  secondary_cleaner.state.floatbank3_a_level  5290 non-null   float64\n",
      " 41  secondary_cleaner.state.floatbank3_b_air    5290 non-null   float64\n",
      " 42  secondary_cleaner.state.floatbank3_b_level  5290 non-null   float64\n",
      " 43  secondary_cleaner.state.floatbank4_a_air    5290 non-null   float64\n",
      " 44  secondary_cleaner.state.floatbank4_a_level  5290 non-null   float64\n",
      " 45  secondary_cleaner.state.floatbank4_b_air    5290 non-null   float64\n",
      " 46  secondary_cleaner.state.floatbank4_b_level  5290 non-null   float64\n",
      " 47  secondary_cleaner.state.floatbank5_a_air    5290 non-null   float64\n",
      " 48  secondary_cleaner.state.floatbank5_a_level  5290 non-null   float64\n",
      " 49  secondary_cleaner.state.floatbank5_b_air    5290 non-null   float64\n",
      " 50  secondary_cleaner.state.floatbank5_b_level  5290 non-null   float64\n",
      " 51  secondary_cleaner.state.floatbank6_a_air    5290 non-null   float64\n",
      " 52  secondary_cleaner.state.floatbank6_a_level  5290 non-null   float64\n",
      "dtypes: float64(52), object(1)\n",
      "memory usage: 2.1+ MB\n",
      "==================================================================\n",
      "<class 'pandas.core.frame.DataFrame'>\n",
      "RangeIndex: 14149 entries, 0 to 14148\n",
      "Data columns (total 87 columns):\n",
      " #   Column                                              Non-Null Count  Dtype  \n",
      "---  ------                                              --------------  -----  \n",
      " 0   date                                                14149 non-null  object \n",
      " 1   final.output.concentrate_ag                         14148 non-null  float64\n",
      " 2   final.output.concentrate_pb                         14148 non-null  float64\n",
      " 3   final.output.concentrate_sol                        13938 non-null  float64\n",
      " 4   final.output.concentrate_au                         14149 non-null  float64\n",
      " 5   final.output.recovery                               14149 non-null  float64\n",
      " 6   final.output.tail_ag                                14149 non-null  float64\n",
      " 7   final.output.tail_pb                                14049 non-null  float64\n",
      " 8   final.output.tail_sol                               14144 non-null  float64\n",
      " 9   final.output.tail_au                                14149 non-null  float64\n",
      " 10  primary_cleaner.input.sulfate                       14129 non-null  float64\n",
      " 11  primary_cleaner.input.depressant                    14117 non-null  float64\n",
      " 12  primary_cleaner.input.feed_size                     14149 non-null  float64\n",
      " 13  primary_cleaner.input.xanthate                      14049 non-null  float64\n",
      " 14  primary_cleaner.output.concentrate_ag               14149 non-null  float64\n",
      " 15  primary_cleaner.output.concentrate_pb               14063 non-null  float64\n",
      " 16  primary_cleaner.output.concentrate_sol              13863 non-null  float64\n",
      " 17  primary_cleaner.output.concentrate_au               14149 non-null  float64\n",
      " 18  primary_cleaner.output.tail_ag                      14148 non-null  float64\n",
      " 19  primary_cleaner.output.tail_pb                      14134 non-null  float64\n",
      " 20  primary_cleaner.output.tail_sol                     14103 non-null  float64\n",
      " 21  primary_cleaner.output.tail_au                      14149 non-null  float64\n",
      " 22  primary_cleaner.state.floatbank8_a_air              14145 non-null  float64\n",
      " 23  primary_cleaner.state.floatbank8_a_level            14148 non-null  float64\n",
      " 24  primary_cleaner.state.floatbank8_b_air              14145 non-null  float64\n",
      " 25  primary_cleaner.state.floatbank8_b_level            14148 non-null  float64\n",
      " 26  primary_cleaner.state.floatbank8_c_air              14147 non-null  float64\n",
      " 27  primary_cleaner.state.floatbank8_c_level            14148 non-null  float64\n",
      " 28  primary_cleaner.state.floatbank8_d_air              14146 non-null  float64\n",
      " 29  primary_cleaner.state.floatbank8_d_level            14148 non-null  float64\n",
      " 30  rougher.calculation.sulfate_to_au_concentrate       14148 non-null  float64\n",
      " 31  rougher.calculation.floatbank10_sulfate_to_au_feed  14148 non-null  float64\n",
      " 32  rougher.calculation.floatbank11_sulfate_to_au_feed  14148 non-null  float64\n",
      " 33  rougher.calculation.au_pb_ratio                     14149 non-null  float64\n",
      " 34  rougher.input.feed_ag                               14149 non-null  float64\n",
      " 35  rougher.input.feed_pb                               14049 non-null  float64\n",
      " 36  rougher.input.feed_rate                             14141 non-null  float64\n",
      " 37  rougher.input.feed_size                             14005 non-null  float64\n",
      " 38  rougher.input.feed_sol                              14071 non-null  float64\n",
      " 39  rougher.input.feed_au                               14149 non-null  float64\n",
      " 40  rougher.input.floatbank10_sulfate                   14120 non-null  float64\n",
      " 41  rougher.input.floatbank10_xanthate                  14141 non-null  float64\n",
      " 42  rougher.input.floatbank11_sulfate                   14113 non-null  float64\n",
      " 43  rougher.input.floatbank11_xanthate                  13721 non-null  float64\n",
      " 44  rougher.output.concentrate_ag                       14149 non-null  float64\n",
      " 45  rougher.output.concentrate_pb                       14149 non-null  float64\n",
      " 46  rougher.output.concentrate_sol                      14127 non-null  float64\n",
      " 47  rougher.output.concentrate_au                       14149 non-null  float64\n",
      " 48  rougher.output.recovery                             14149 non-null  float64\n",
      " 49  rougher.output.tail_ag                              14148 non-null  float64\n",
      " 50  rougher.output.tail_pb                              14149 non-null  float64\n",
      " 51  rougher.output.tail_sol                             14149 non-null  float64\n",
      " 52  rougher.output.tail_au                              14149 non-null  float64\n",
      " 53  rougher.state.floatbank10_a_air                     14148 non-null  float64\n",
      " 54  rougher.state.floatbank10_a_level                   14148 non-null  float64\n",
      " 55  rougher.state.floatbank10_b_air                     14148 non-null  float64\n",
      " 56  rougher.state.floatbank10_b_level                   14148 non-null  float64\n",
      " 57  rougher.state.floatbank10_c_air                     14148 non-null  float64\n",
      " 58  rougher.state.floatbank10_c_level                   14148 non-null  float64\n",
      " 59  rougher.state.floatbank10_d_air                     14149 non-null  float64\n",
      " 60  rougher.state.floatbank10_d_level                   14149 non-null  float64\n",
      " 61  rougher.state.floatbank10_e_air                     13713 non-null  float64\n",
      " 62  rougher.state.floatbank10_e_level                   14149 non-null  float64\n",
      " 63  rougher.state.floatbank10_f_air                     14149 non-null  float64\n",
      " 64  rougher.state.floatbank10_f_level                   14149 non-null  float64\n",
      " 65  secondary_cleaner.output.tail_ag                    14147 non-null  float64\n",
      " 66  secondary_cleaner.output.tail_pb                    14139 non-null  float64\n",
      " 67  secondary_cleaner.output.tail_sol                   12544 non-null  float64\n",
      " 68  secondary_cleaner.output.tail_au                    14149 non-null  float64\n",
      " 69  secondary_cleaner.state.floatbank2_a_air            13932 non-null  float64\n",
      " 70  secondary_cleaner.state.floatbank2_a_level          14148 non-null  float64\n",
      " 71  secondary_cleaner.state.floatbank2_b_air            14128 non-null  float64\n",
      " 72  secondary_cleaner.state.floatbank2_b_level          14148 non-null  float64\n",
      " 73  secondary_cleaner.state.floatbank3_a_air            14145 non-null  float64\n",
      " 74  secondary_cleaner.state.floatbank3_a_level          14148 non-null  float64\n",
      " 75  secondary_cleaner.state.floatbank3_b_air            14148 non-null  float64\n",
      " 76  secondary_cleaner.state.floatbank3_b_level          14148 non-null  float64\n",
      " 77  secondary_cleaner.state.floatbank4_a_air            14143 non-null  float64\n",
      " 78  secondary_cleaner.state.floatbank4_a_level          14148 non-null  float64\n",
      " 79  secondary_cleaner.state.floatbank4_b_air            14148 non-null  float64\n",
      " 80  secondary_cleaner.state.floatbank4_b_level          14148 non-null  float64\n",
      " 81  secondary_cleaner.state.floatbank5_a_air            14148 non-null  float64\n",
      " 82  secondary_cleaner.state.floatbank5_a_level          14148 non-null  float64\n",
      " 83  secondary_cleaner.state.floatbank5_b_air            14148 non-null  float64\n",
      " 84  secondary_cleaner.state.floatbank5_b_level          14148 non-null  float64\n",
      " 85  secondary_cleaner.state.floatbank6_a_air            14147 non-null  float64\n",
      " 86  secondary_cleaner.state.floatbank6_a_level          14148 non-null  float64\n",
      "dtypes: float64(86), object(1)\n",
      "memory usage: 9.4+ MB\n",
      "==================================================================\n",
      "<class 'pandas.core.frame.DataFrame'>\n",
      "RangeIndex: 19439 entries, 0 to 19438\n",
      "Data columns (total 87 columns):\n",
      " #   Column                                              Non-Null Count  Dtype  \n",
      "---  ------                                              --------------  -----  \n",
      " 0   date                                                19439 non-null  object \n",
      " 1   final.output.concentrate_ag                         19438 non-null  float64\n",
      " 2   final.output.concentrate_pb                         19438 non-null  float64\n",
      " 3   final.output.concentrate_sol                        19228 non-null  float64\n",
      " 4   final.output.concentrate_au                         19439 non-null  float64\n",
      " 5   final.output.recovery                               19439 non-null  float64\n",
      " 6   final.output.tail_ag                                19438 non-null  float64\n",
      " 7   final.output.tail_pb                                19338 non-null  float64\n",
      " 8   final.output.tail_sol                               19433 non-null  float64\n",
      " 9   final.output.tail_au                                19439 non-null  float64\n",
      " 10  primary_cleaner.input.sulfate                       19415 non-null  float64\n",
      " 11  primary_cleaner.input.depressant                    19402 non-null  float64\n",
      " 12  primary_cleaner.input.feed_size                     19439 non-null  float64\n",
      " 13  primary_cleaner.input.xanthate                      19335 non-null  float64\n",
      " 14  primary_cleaner.output.concentrate_ag               19439 non-null  float64\n",
      " 15  primary_cleaner.output.concentrate_pb               19323 non-null  float64\n",
      " 16  primary_cleaner.output.concentrate_sol              19069 non-null  float64\n",
      " 17  primary_cleaner.output.concentrate_au               19439 non-null  float64\n",
      " 18  primary_cleaner.output.tail_ag                      19435 non-null  float64\n",
      " 19  primary_cleaner.output.tail_pb                      19418 non-null  float64\n",
      " 20  primary_cleaner.output.tail_sol                     19377 non-null  float64\n",
      " 21  primary_cleaner.output.tail_au                      19439 non-null  float64\n",
      " 22  primary_cleaner.state.floatbank8_a_air              19435 non-null  float64\n",
      " 23  primary_cleaner.state.floatbank8_a_level            19438 non-null  float64\n",
      " 24  primary_cleaner.state.floatbank8_b_air              19435 non-null  float64\n",
      " 25  primary_cleaner.state.floatbank8_b_level            19438 non-null  float64\n",
      " 26  primary_cleaner.state.floatbank8_c_air              19437 non-null  float64\n",
      " 27  primary_cleaner.state.floatbank8_c_level            19438 non-null  float64\n",
      " 28  primary_cleaner.state.floatbank8_d_air              19436 non-null  float64\n",
      " 29  primary_cleaner.state.floatbank8_d_level            19438 non-null  float64\n",
      " 30  rougher.calculation.sulfate_to_au_concentrate       19437 non-null  float64\n",
      " 31  rougher.calculation.floatbank10_sulfate_to_au_feed  19437 non-null  float64\n",
      " 32  rougher.calculation.floatbank11_sulfate_to_au_feed  19437 non-null  float64\n",
      " 33  rougher.calculation.au_pb_ratio                     19439 non-null  float64\n",
      " 34  rougher.input.feed_ag                               19439 non-null  float64\n",
      " 35  rougher.input.feed_pb                               19339 non-null  float64\n",
      " 36  rougher.input.feed_rate                             19428 non-null  float64\n",
      " 37  rougher.input.feed_size                             19294 non-null  float64\n",
      " 38  rougher.input.feed_sol                              19340 non-null  float64\n",
      " 39  rougher.input.feed_au                               19439 non-null  float64\n",
      " 40  rougher.input.floatbank10_sulfate                   19405 non-null  float64\n",
      " 41  rougher.input.floatbank10_xanthate                  19431 non-null  float64\n",
      " 42  rougher.input.floatbank11_sulfate                   19395 non-null  float64\n",
      " 43  rougher.input.floatbank11_xanthate                  18986 non-null  float64\n",
      " 44  rougher.output.concentrate_ag                       19439 non-null  float64\n",
      " 45  rougher.output.concentrate_pb                       19439 non-null  float64\n",
      " 46  rougher.output.concentrate_sol                      19416 non-null  float64\n",
      " 47  rougher.output.concentrate_au                       19439 non-null  float64\n",
      " 48  rougher.output.recovery                             19439 non-null  float64\n",
      " 49  rougher.output.tail_ag                              19438 non-null  float64\n",
      " 50  rougher.output.tail_pb                              19439 non-null  float64\n",
      " 51  rougher.output.tail_sol                             19439 non-null  float64\n",
      " 52  rougher.output.tail_au                              19439 non-null  float64\n",
      " 53  rougher.state.floatbank10_a_air                     19438 non-null  float64\n",
      " 54  rougher.state.floatbank10_a_level                   19438 non-null  float64\n",
      " 55  rougher.state.floatbank10_b_air                     19438 non-null  float64\n",
      " 56  rougher.state.floatbank10_b_level                   19438 non-null  float64\n",
      " 57  rougher.state.floatbank10_c_air                     19438 non-null  float64\n",
      " 58  rougher.state.floatbank10_c_level                   19438 non-null  float64\n",
      " 59  rougher.state.floatbank10_d_air                     19439 non-null  float64\n",
      " 60  rougher.state.floatbank10_d_level                   19439 non-null  float64\n",
      " 61  rougher.state.floatbank10_e_air                     19003 non-null  float64\n",
      " 62  rougher.state.floatbank10_e_level                   19439 non-null  float64\n",
      " 63  rougher.state.floatbank10_f_air                     19439 non-null  float64\n",
      " 64  rougher.state.floatbank10_f_level                   19439 non-null  float64\n",
      " 65  secondary_cleaner.output.tail_ag                    19437 non-null  float64\n",
      " 66  secondary_cleaner.output.tail_pb                    19427 non-null  float64\n",
      " 67  secondary_cleaner.output.tail_sol                   17691 non-null  float64\n",
      " 68  secondary_cleaner.output.tail_au                    19439 non-null  float64\n",
      " 69  secondary_cleaner.state.floatbank2_a_air            19219 non-null  float64\n",
      " 70  secondary_cleaner.state.floatbank2_a_level          19438 non-null  float64\n",
      " 71  secondary_cleaner.state.floatbank2_b_air            19416 non-null  float64\n",
      " 72  secondary_cleaner.state.floatbank2_b_level          19438 non-null  float64\n",
      " 73  secondary_cleaner.state.floatbank3_a_air            19426 non-null  float64\n",
      " 74  secondary_cleaner.state.floatbank3_a_level          19438 non-null  float64\n",
      " 75  secondary_cleaner.state.floatbank3_b_air            19438 non-null  float64\n",
      " 76  secondary_cleaner.state.floatbank3_b_level          19438 non-null  float64\n",
      " 77  secondary_cleaner.state.floatbank4_a_air            19433 non-null  float64\n",
      " 78  secondary_cleaner.state.floatbank4_a_level          19438 non-null  float64\n",
      " 79  secondary_cleaner.state.floatbank4_b_air            19438 non-null  float64\n",
      " 80  secondary_cleaner.state.floatbank4_b_level          19438 non-null  float64\n",
      " 81  secondary_cleaner.state.floatbank5_a_air            19438 non-null  float64\n",
      " 82  secondary_cleaner.state.floatbank5_a_level          19438 non-null  float64\n",
      " 83  secondary_cleaner.state.floatbank5_b_air            19438 non-null  float64\n",
      " 84  secondary_cleaner.state.floatbank5_b_level          19438 non-null  float64\n",
      " 85  secondary_cleaner.state.floatbank6_a_air            19437 non-null  float64\n",
      " 86  secondary_cleaner.state.floatbank6_a_level          19438 non-null  float64\n",
      "dtypes: float64(86), object(1)\n",
      "memory usage: 12.9+ MB\n"
     ]
    }
   ],
   "source": [
    "test_frame.info()\n",
    "print('==================================================================')\n",
    "train_frame.info()\n",
    "print('==================================================================')\n",
    "full_frame.info()"
   ]
  },
  {
   "cell_type": "markdown",
   "metadata": {},
   "source": [
    "Как видно из информации выше, во всех таблицах присутствуют пропуски в данных."
   ]
  },
  {
   "cell_type": "markdown",
   "metadata": {},
   "source": [
    "### Проверка корректности расчета эффективности обогащения"
   ]
  },
  {
   "cell_type": "markdown",
   "metadata": {},
   "source": [
    "Эффективность обогащения рассчитывается по формуле:  \n",
    "Recovery = (C * (F - T)) / (F * (C - T)) * 100 %, где  \n",
    "* C — доля золота в концентрате после флотации/очистки;  \n",
    "* F — доля золота в сырье/концентрате до флотации/очистки;  \n",
    "* T — доля золота в отвальных хвостах после флотации/очистки."
   ]
  },
  {
   "cell_type": "markdown",
   "metadata": {},
   "source": [
    "Вычислим эффективность обогащения на обучающей выборке для признака rougher.output.recovery."
   ]
  },
  {
   "cell_type": "markdown",
   "metadata": {},
   "source": [
    "Создадим функцию для расчета эффективности обогащения:"
   ]
  },
  {
   "cell_type": "code",
   "execution_count": 5,
   "metadata": {},
   "outputs": [],
   "source": [
    "# на вход функции передаем строку таблицы, из нее используем столбцы:\n",
    "# C - output_au - rougher.output.concentrate_au\n",
    "# F - input_au - rougher.input.feed_au\n",
    "# T - output_tail - rougher.output.tail_au\n",
    "def apply_recovery(row):\n",
    "    (input_au,\n",
    "     output_au,\n",
    "     output_tail) = (row[\"rougher.input.feed_au\"],\n",
    "                     row[\"rougher.output.concentrate_au\"],\n",
    "                     row[\"rougher.output.tail_au\"])\n",
    "    recovery_metric = (((output_au) * ((input_au) - (output_tail)))/\n",
    "                       (((input_au) * ((output_au) - (output_tail))))) * 100\n",
    "    return recovery_metric"
   ]
  },
  {
   "cell_type": "markdown",
   "metadata": {},
   "source": [
    "Полученную метрику запишем в переменную test:"
   ]
  },
  {
   "cell_type": "code",
   "execution_count": 6,
   "metadata": {},
   "outputs": [],
   "source": [
    "# так как мы еще не обрабатывали пропуски данных, временно удалим эти значения для корректной работы функции\n",
    "test = train_frame.dropna(subset = [\"rougher.input.feed_au\",\n",
    "                                    \"rougher.output.concentrate_au\",\n",
    "                                    \"rougher.output.tail_au\",\n",
    "                                    \"rougher.output.recovery\"],axis = 0).apply(apply_recovery, axis = 1)"
   ]
  },
  {
   "cell_type": "markdown",
   "metadata": {},
   "source": [
    "Найдем MAE между расчётным значением и значением признака:"
   ]
  },
  {
   "cell_type": "code",
   "execution_count": 7,
   "metadata": {},
   "outputs": [
    {
     "data": {
      "text/plain": [
       "9.73512347450521e-15"
      ]
     },
     "execution_count": 7,
     "metadata": {},
     "output_type": "execute_result"
    }
   ],
   "source": [
    "MAE(train_frame.dropna(subset = [\"rougher.input.feed_au\",\n",
    "                                    \"rougher.output.concentrate_au\",\n",
    "                                    \"rougher.output.tail_au\",\n",
    "                                    \"rougher.output.recovery\"])[\"rougher.output.recovery\"],\n",
    "                       test)"
   ]
  },
  {
   "cell_type": "markdown",
   "metadata": {},
   "source": [
    "__Вывод:__"
   ]
  },
  {
   "cell_type": "markdown",
   "metadata": {},
   "source": [
    "Эффективность обогащения на обучающей выборке для признака rougher.output.recovery расчитана верно, так как средняя сумма абсолютной разницы между фактическим значением и прогнозируемым значением является сильно малой величиной."
   ]
  },
  {
   "cell_type": "markdown",
   "metadata": {},
   "source": [
    "### Анализ признаков, недоступных в тестовой выборке"
   ]
  },
  {
   "cell_type": "markdown",
   "metadata": {},
   "source": [
    "Для анализа признаков, недоступных в тестовой выборке, воспользуемся [множествами](https://pythonworld.ru/tipy-dannyx-v-python/mnozhestva-set-i-frozenset.html)."
   ]
  },
  {
   "cell_type": "code",
   "execution_count": 8,
   "metadata": {
    "scrolled": false
   },
   "outputs": [
    {
     "name": "stdout",
     "output_type": "stream",
     "text": [
      "Всего признаков: 34\n"
     ]
    },
    {
     "data": {
      "text/plain": [
       "{'final.output.concentrate_ag',\n",
       " 'final.output.concentrate_au',\n",
       " 'final.output.concentrate_pb',\n",
       " 'final.output.concentrate_sol',\n",
       " 'final.output.recovery',\n",
       " 'final.output.tail_ag',\n",
       " 'final.output.tail_au',\n",
       " 'final.output.tail_pb',\n",
       " 'final.output.tail_sol',\n",
       " 'primary_cleaner.output.concentrate_ag',\n",
       " 'primary_cleaner.output.concentrate_au',\n",
       " 'primary_cleaner.output.concentrate_pb',\n",
       " 'primary_cleaner.output.concentrate_sol',\n",
       " 'primary_cleaner.output.tail_ag',\n",
       " 'primary_cleaner.output.tail_au',\n",
       " 'primary_cleaner.output.tail_pb',\n",
       " 'primary_cleaner.output.tail_sol',\n",
       " 'rougher.calculation.au_pb_ratio',\n",
       " 'rougher.calculation.floatbank10_sulfate_to_au_feed',\n",
       " 'rougher.calculation.floatbank11_sulfate_to_au_feed',\n",
       " 'rougher.calculation.sulfate_to_au_concentrate',\n",
       " 'rougher.output.concentrate_ag',\n",
       " 'rougher.output.concentrate_au',\n",
       " 'rougher.output.concentrate_pb',\n",
       " 'rougher.output.concentrate_sol',\n",
       " 'rougher.output.recovery',\n",
       " 'rougher.output.tail_ag',\n",
       " 'rougher.output.tail_au',\n",
       " 'rougher.output.tail_pb',\n",
       " 'rougher.output.tail_sol',\n",
       " 'secondary_cleaner.output.tail_ag',\n",
       " 'secondary_cleaner.output.tail_au',\n",
       " 'secondary_cleaner.output.tail_pb',\n",
       " 'secondary_cleaner.output.tail_sol'}"
      ]
     },
     "execution_count": 8,
     "metadata": {},
     "output_type": "execute_result"
    }
   ],
   "source": [
    "# создаем множество названий столбцов тестовой выборки\n",
    "test_list = set(test_frame.columns.tolist())\n",
    "# создаем множество названий столбцов из полной выборки\n",
    "full_list = set(full_frame.columns.tolist())\n",
    "# вычитаем из полного списка множество из тестовой выборки\n",
    "test_list = full_list - test_list\n",
    "# получаем признаки, недоступные в тестовой выборке\n",
    "print('Всего признаков:', len(test_list))\n",
    "test_list"
   ]
  },
  {
   "cell_type": "markdown",
   "metadata": {},
   "source": [
    "__Вывод:__  \n",
    "Из 34 пропущенных признаков 30 относятся к параметрам продукта, а 4 относятся к расчетным характеристикам.  \n",
    "\n",
    "* 9 пропущенных признаков этапа final, 8 primary_cleaner, 9 rougher, 4 secondary_cleaner относятся к параметрам продукта;\n",
    "* 4 пропущенных признака этапа rougher относятся к расчетным характеристикам;\n",
    "* На всех этапах отсутствует информация о хвостовых частях;\n",
    "* Во всех этапах, кроме повторной очистки, отсутствует информация о доле металлов;\n",
    "* У финального этапа и этапа флотации отсутствуют признаки обогащения;\n",
    "* Отсутствуют данные о некоторых реагентах на этапе флотации."
   ]
  },
  {
   "cell_type": "markdown",
   "metadata": {},
   "source": [
    "### Предобработка данных"
   ]
  },
  {
   "cell_type": "markdown",
   "metadata": {},
   "source": [
    "Проверим возможность восстановления параметра recovery:"
   ]
  },
  {
   "cell_type": "code",
   "execution_count": 9,
   "metadata": {},
   "outputs": [],
   "source": [
    "train_frame = train_frame.dropna(subset=[\"rougher.output.recovery\",\"final.output.recovery\"],axis = 0)"
   ]
  },
  {
   "cell_type": "markdown",
   "metadata": {},
   "source": [
    "Обработаем пропуски:  \n",
    "[про одномерное восстановление признаков](https://scikit-learn.ru/6-4-imputation-of-missing-values/)"
   ]
  },
  {
   "cell_type": "code",
   "execution_count": 10,
   "metadata": {},
   "outputs": [],
   "source": [
    "# замена отсутствующих значений, закодированных как np.nan, \n",
    "# с использованием среднего значения столбцов (ось 0), содержащих отсутствующие значения\n",
    "imputer = SimpleImputer(missing_values=np.nan, strategy='mean')\n",
    "# в данном случае, избавляемся от столбца date, так как он не нужен для обучения\n",
    "# создаем новый датасет для обучающей выборки, без пропусков\n",
    "without_nan = pd.DataFrame(data = imputer.fit_transform(train_frame.drop(['date'],axis = 1)),\n",
    "             columns= train_frame.drop(['date'],axis = 1).columns,\n",
    "             index = train_frame.index)"
   ]
  },
  {
   "cell_type": "code",
   "execution_count": 11,
   "metadata": {},
   "outputs": [],
   "source": [
    "# восстановим тестовую выборку\n",
    "\n",
    "# удалим столбец с датами\n",
    "test_frame = test_frame.dropna(subset= ['date'],axis = 0)\n",
    "# подгрузим целевые признаки по подходящей дате из общей выборки\n",
    "test_frame_for_target = test_frame.merge(\n",
    "    full_frame.loc[:,['date',\"rougher.output.recovery\",\"final.output.recovery\"]],on = 'date')\n",
    "# удалим пропущенные значения целевых признаков\n",
    "test_frame_for_target = test_frame_for_target.dropna(\n",
    "    subset=[\"rougher.output.recovery\",\"final.output.recovery\"],axis = 0)\n",
    "# оставим только те столбцы, которые есть в общей выборке\n",
    "test_frame = test_frame_for_target.loc[:,test_frame.columns]\n",
    "# разделим целевые признаки\n",
    "target_test_rougher = test_frame_for_target[\"rougher.output.recovery\"]\n",
    "target_test_final = test_frame_for_target[\"final.output.recovery\"]\n",
    "# удалим даты из теста\n",
    "test_frame = test_frame.drop(\"date\",axis =1)\n",
    "\n",
    "# создаем новый датасет для тестовой выборки, без пропусков\n",
    "imputer_test = SimpleImputer(missing_values=np.nan, strategy='mean')\n",
    "test_without_nan = pd.DataFrame(data = imputer_test.fit_transform(test_frame),\n",
    "             columns= test_frame.columns,\n",
    "             index = test_frame.index)"
   ]
  },
  {
   "cell_type": "code",
   "execution_count": 12,
   "metadata": {
    "scrolled": true
   },
   "outputs": [
    {
     "name": "stdout",
     "output_type": "stream",
     "text": [
      "Количество пропусков в тренировочной выборке до обработки: \n",
      " date                                            0\n",
      "final.output.concentrate_ag                     1\n",
      "final.output.concentrate_pb                     1\n",
      "final.output.concentrate_sol                  211\n",
      "final.output.concentrate_au                     0\n",
      "                                             ... \n",
      "secondary_cleaner.state.floatbank5_a_level      1\n",
      "secondary_cleaner.state.floatbank5_b_air        1\n",
      "secondary_cleaner.state.floatbank5_b_level      1\n",
      "secondary_cleaner.state.floatbank6_a_air        2\n",
      "secondary_cleaner.state.floatbank6_a_level      1\n",
      "Length: 87, dtype: int64\n"
     ]
    }
   ],
   "source": [
    "print('Количество пропусков в тренировочной выборке до обработки:', '\\n', train_frame.isna().sum())"
   ]
  },
  {
   "cell_type": "code",
   "execution_count": 13,
   "metadata": {
    "scrolled": true
   },
   "outputs": [
    {
     "name": "stdout",
     "output_type": "stream",
     "text": [
      "Количество пропусков в тренировочной выборке после обработки: \n",
      " final.output.concentrate_ag                   0\n",
      "final.output.concentrate_pb                   0\n",
      "final.output.concentrate_sol                  0\n",
      "final.output.concentrate_au                   0\n",
      "final.output.recovery                         0\n",
      "                                             ..\n",
      "secondary_cleaner.state.floatbank5_a_level    0\n",
      "secondary_cleaner.state.floatbank5_b_air      0\n",
      "secondary_cleaner.state.floatbank5_b_level    0\n",
      "secondary_cleaner.state.floatbank6_a_air      0\n",
      "secondary_cleaner.state.floatbank6_a_level    0\n",
      "Length: 86, dtype: int64\n"
     ]
    }
   ],
   "source": [
    "print('Количество пропусков в тренировочной выборке после обработки:', '\\n', without_nan.isna().sum())"
   ]
  },
  {
   "cell_type": "code",
   "execution_count": 14,
   "metadata": {},
   "outputs": [
    {
     "name": "stdout",
     "output_type": "stream",
     "text": [
      "Количество пропусков в тестовой выборке до обработки: \n",
      " primary_cleaner.input.sulfate                  4\n",
      "primary_cleaner.input.depressant               5\n",
      "primary_cleaner.input.feed_size                0\n",
      "primary_cleaner.input.xanthate                 4\n",
      "primary_cleaner.state.floatbank8_a_air         0\n",
      "primary_cleaner.state.floatbank8_a_level       0\n",
      "primary_cleaner.state.floatbank8_b_air         0\n",
      "primary_cleaner.state.floatbank8_b_level       0\n",
      "primary_cleaner.state.floatbank8_c_air         0\n",
      "primary_cleaner.state.floatbank8_c_level       0\n",
      "primary_cleaner.state.floatbank8_d_air         0\n",
      "primary_cleaner.state.floatbank8_d_level       0\n",
      "rougher.input.feed_ag                          0\n",
      "rougher.input.feed_pb                          0\n",
      "rougher.input.feed_rate                        3\n",
      "rougher.input.feed_size                        1\n",
      "rougher.input.feed_sol                        21\n",
      "rougher.input.feed_au                          0\n",
      "rougher.input.floatbank10_sulfate              5\n",
      "rougher.input.floatbank10_xanthate             0\n",
      "rougher.input.floatbank11_sulfate              8\n",
      "rougher.input.floatbank11_xanthate            25\n",
      "rougher.state.floatbank10_a_air                0\n",
      "rougher.state.floatbank10_a_level              0\n",
      "rougher.state.floatbank10_b_air                0\n",
      "rougher.state.floatbank10_b_level              0\n",
      "rougher.state.floatbank10_c_air                0\n",
      "rougher.state.floatbank10_c_level              0\n",
      "rougher.state.floatbank10_d_air                0\n",
      "rougher.state.floatbank10_d_level              0\n",
      "rougher.state.floatbank10_e_air                0\n",
      "rougher.state.floatbank10_e_level              0\n",
      "rougher.state.floatbank10_f_air                0\n",
      "rougher.state.floatbank10_f_level              0\n",
      "secondary_cleaner.state.floatbank2_a_air       3\n",
      "secondary_cleaner.state.floatbank2_a_level     0\n",
      "secondary_cleaner.state.floatbank2_b_air       2\n",
      "secondary_cleaner.state.floatbank2_b_level     0\n",
      "secondary_cleaner.state.floatbank3_a_air       9\n",
      "secondary_cleaner.state.floatbank3_a_level     0\n",
      "secondary_cleaner.state.floatbank3_b_air       0\n",
      "secondary_cleaner.state.floatbank3_b_level     0\n",
      "secondary_cleaner.state.floatbank4_a_air       0\n",
      "secondary_cleaner.state.floatbank4_a_level     0\n",
      "secondary_cleaner.state.floatbank4_b_air       0\n",
      "secondary_cleaner.state.floatbank4_b_level     0\n",
      "secondary_cleaner.state.floatbank5_a_air       0\n",
      "secondary_cleaner.state.floatbank5_a_level     0\n",
      "secondary_cleaner.state.floatbank5_b_air       0\n",
      "secondary_cleaner.state.floatbank5_b_level     0\n",
      "secondary_cleaner.state.floatbank6_a_air       0\n",
      "secondary_cleaner.state.floatbank6_a_level     0\n",
      "dtype: int64\n"
     ]
    }
   ],
   "source": [
    "print('Количество пропусков в тестовой выборке до обработки:', '\\n', test_frame.isna().sum())"
   ]
  },
  {
   "cell_type": "code",
   "execution_count": 15,
   "metadata": {
    "scrolled": true
   },
   "outputs": [
    {
     "name": "stdout",
     "output_type": "stream",
     "text": [
      "Количество пропусков в тестовой выборке до обработки: \n",
      " primary_cleaner.input.sulfate                 0\n",
      "primary_cleaner.input.depressant              0\n",
      "primary_cleaner.input.feed_size               0\n",
      "primary_cleaner.input.xanthate                0\n",
      "primary_cleaner.state.floatbank8_a_air        0\n",
      "primary_cleaner.state.floatbank8_a_level      0\n",
      "primary_cleaner.state.floatbank8_b_air        0\n",
      "primary_cleaner.state.floatbank8_b_level      0\n",
      "primary_cleaner.state.floatbank8_c_air        0\n",
      "primary_cleaner.state.floatbank8_c_level      0\n",
      "primary_cleaner.state.floatbank8_d_air        0\n",
      "primary_cleaner.state.floatbank8_d_level      0\n",
      "rougher.input.feed_ag                         0\n",
      "rougher.input.feed_pb                         0\n",
      "rougher.input.feed_rate                       0\n",
      "rougher.input.feed_size                       0\n",
      "rougher.input.feed_sol                        0\n",
      "rougher.input.feed_au                         0\n",
      "rougher.input.floatbank10_sulfate             0\n",
      "rougher.input.floatbank10_xanthate            0\n",
      "rougher.input.floatbank11_sulfate             0\n",
      "rougher.input.floatbank11_xanthate            0\n",
      "rougher.state.floatbank10_a_air               0\n",
      "rougher.state.floatbank10_a_level             0\n",
      "rougher.state.floatbank10_b_air               0\n",
      "rougher.state.floatbank10_b_level             0\n",
      "rougher.state.floatbank10_c_air               0\n",
      "rougher.state.floatbank10_c_level             0\n",
      "rougher.state.floatbank10_d_air               0\n",
      "rougher.state.floatbank10_d_level             0\n",
      "rougher.state.floatbank10_e_air               0\n",
      "rougher.state.floatbank10_e_level             0\n",
      "rougher.state.floatbank10_f_air               0\n",
      "rougher.state.floatbank10_f_level             0\n",
      "secondary_cleaner.state.floatbank2_a_air      0\n",
      "secondary_cleaner.state.floatbank2_a_level    0\n",
      "secondary_cleaner.state.floatbank2_b_air      0\n",
      "secondary_cleaner.state.floatbank2_b_level    0\n",
      "secondary_cleaner.state.floatbank3_a_air      0\n",
      "secondary_cleaner.state.floatbank3_a_level    0\n",
      "secondary_cleaner.state.floatbank3_b_air      0\n",
      "secondary_cleaner.state.floatbank3_b_level    0\n",
      "secondary_cleaner.state.floatbank4_a_air      0\n",
      "secondary_cleaner.state.floatbank4_a_level    0\n",
      "secondary_cleaner.state.floatbank4_b_air      0\n",
      "secondary_cleaner.state.floatbank4_b_level    0\n",
      "secondary_cleaner.state.floatbank5_a_air      0\n",
      "secondary_cleaner.state.floatbank5_a_level    0\n",
      "secondary_cleaner.state.floatbank5_b_air      0\n",
      "secondary_cleaner.state.floatbank5_b_level    0\n",
      "secondary_cleaner.state.floatbank6_a_air      0\n",
      "secondary_cleaner.state.floatbank6_a_level    0\n",
      "dtype: int64\n"
     ]
    }
   ],
   "source": [
    "print('Количество пропусков в тестовой выборке до обработки:', '\\n', test_without_nan.isna().sum())"
   ]
  },
  {
   "cell_type": "markdown",
   "metadata": {},
   "source": [
    "__Вывод:__  \n",
    "Таким образом, мы обработали все пропуски в данных."
   ]
  },
  {
   "cell_type": "markdown",
   "metadata": {},
   "source": [
    "## Анализ данных"
   ]
  },
  {
   "cell_type": "markdown",
   "metadata": {},
   "source": [
    "### Оценка изменения концентрации металлов (Au, Ag, Pb) на различных этапах очистки"
   ]
  },
  {
   "cell_type": "code",
   "execution_count": 16,
   "metadata": {
    "scrolled": false
   },
   "outputs": [
    {
     "name": "stdout",
     "output_type": "stream",
     "text": [
      "Концентрация до флотации\n",
      "Концентрация Серебра: 8.58,Свинца: 3.52,Золота: 7.87\n",
      "\n",
      "Концентрация после флотации\n",
      "Коцентрация Серебра: 11.78,Свинца: 7.66, Золота: 19.44\n",
      "\n",
      "Концентрация после первичной очистки\n",
      "Концентрация Серебра: 8.20,Свинца: 9.59, Золота: 32.39\n",
      "\n",
      "Концентрация после вторичной очистки\n",
      "Концентрация Серебра: 5.14,Свинца: 10.13, Золота: 44.00\n"
     ]
    }
   ],
   "source": [
    "print(\"Концентрация до флотации\")\n",
    "print(\"Концентрация Серебра:{: 0.2f},Свинца:{: 0.2f},Золота:{: 0.2f}\".\n",
    "format(without_nan[\"rougher.input.feed_ag\"].mean(), \n",
    "       without_nan[\"rougher.input.feed_pb\"].mean(), \n",
    "       without_nan[\"rougher.input.feed_au\"].mean()))\n",
    "print()\n",
    "\n",
    "print(\"Концентрация после флотации\")\n",
    "print(\"Коцентрация Серебра:{: 0.2f},Свинца:{: 0.2f}, Золота:{: 0.2f}\".\n",
    "format(without_nan[\"rougher.output.concentrate_ag\"].mean(),\n",
    "       without_nan[\"rougher.output.concentrate_pb\"].mean(),\n",
    "       without_nan[\"rougher.output.concentrate_au\"].mean()))\n",
    "print()\n",
    "\n",
    "print(\"Концентрация после первичной очистки\")\n",
    "print(\"Концентрация Серебра:{: 0.2f},Свинца:{: 0.2f}, Золота:{: 0.2f}\".\n",
    "format(without_nan[\"primary_cleaner.output.concentrate_ag\"].mean(), \n",
    "       without_nan[\"primary_cleaner.output.concentrate_pb\"].mean(), \n",
    "       without_nan[\"primary_cleaner.output.concentrate_au\"].mean()))\n",
    "print()\n",
    "\n",
    "print(\"Концентрация после вторичной очистки\")\n",
    "print(\"Концентрация Серебра:{: 0.2f},Свинца:{: 0.2f}, Золота:{: 0.2f}\".\n",
    "format(without_nan[\"final.output.concentrate_ag\"].mean(), \n",
    "       without_nan[\"final.output.concentrate_pb\"].mean(), \n",
    "       without_nan[\"final.output.concentrate_au\"].mean()))"
   ]
  },
  {
   "cell_type": "markdown",
   "metadata": {},
   "source": [
    "Для лучшей визуализации полученных данных построим гистограммы распределения концентрации веществ:"
   ]
  },
  {
   "cell_type": "code",
   "execution_count": 17,
   "metadata": {},
   "outputs": [
    {
     "data": {
      "image/png": "[encoded data removed]",
      "text/plain": [
       "<Figure size 432x288 with 1 Axes>"
      ]
     },
     "metadata": {
      "needs_background": "light"
     },
     "output_type": "display_data"
    }
   ],
   "source": [
    "label_list = ['Концентрация до флотации', \n",
    "              'Концентрация после флотации', \n",
    "              'Концентрация после первичной очистки',\n",
    "             'Концентрация после вторичной очистки']\n",
    "\n",
    "ag_list = [without_nan['rougher.input.feed_ag'].mean(), \n",
    "           without_nan['rougher.output.concentrate_ag'].mean(), \n",
    "           without_nan['primary_cleaner.output.concentrate_ag'].mean(), \n",
    "          without_nan['final.output.concentrate_ag'].mean()]\n",
    "\n",
    "pb_list = [without_nan['rougher.input.feed_pb'].mean(), \n",
    "           without_nan['rougher.output.concentrate_pb'].mean(), \n",
    "           without_nan['primary_cleaner.output.concentrate_pb'].mean(), \n",
    "          without_nan['final.output.concentrate_pb'].mean()]\n",
    "\n",
    "au_list = [without_nan['rougher.input.feed_au'].mean(), \n",
    "           without_nan['rougher.output.concentrate_au'].mean(), \n",
    "           without_nan['primary_cleaner.output.concentrate_au'].mean(), \n",
    "          without_nan['final.output.concentrate_au'].mean()]\n",
    "\n",
    "sns.barplot(x=ag_list, y=label_list).set_title('Серебро');"
   ]
  },
  {
   "cell_type": "code",
   "execution_count": 18,
   "metadata": {},
   "outputs": [
    {
     "data": {
      "image/png": "[encoded data removed]",
      "text/plain": [
       "<Figure size 432x288 with 1 Axes>"
      ]
     },
     "metadata": {
      "needs_background": "light"
     },
     "output_type": "display_data"
    }
   ],
   "source": [
    "sns.barplot(x=pb_list, y=label_list).set_title('Свинец');"
   ]
  },
  {
   "cell_type": "code",
   "execution_count": 19,
   "metadata": {},
   "outputs": [
    {
     "data": {
      "image/png": "[encoded data removed]",
      "text/plain": [
       "<Figure size 432x288 with 1 Axes>"
      ]
     },
     "metadata": {
      "needs_background": "light"
     },
     "output_type": "display_data"
    }
   ],
   "source": [
    "sns.barplot(x=au_list, y=label_list).set_title('Золото');"
   ]
  },
  {
   "cell_type": "markdown",
   "metadata": {},
   "source": [
    "__Вывод:__  \n",
    "Исходя из информации выше, мы можем сделать вывод о том, что на каждом этапе работы с сырьем стабильно увеличиется концентрация свинца и золота, причем концентрация золота растет быстрее."
   ]
  },
  {
   "cell_type": "markdown",
   "metadata": {},
   "source": [
    "### Сравнение распределения размеров гранул сырья на обучающей и тестовой выборках"
   ]
  },
  {
   "cell_type": "markdown",
   "metadata": {},
   "source": [
    "Оценим распределение размера гранул на графике:"
   ]
  },
  {
   "cell_type": "code",
   "execution_count": 20,
   "metadata": {
    "scrolled": true
   },
   "outputs": [
    {
     "data": {
      "text/plain": [
       "Text(0.5, 1.0, 'Размер гранул')"
      ]
     },
     "execution_count": 20,
     "metadata": {},
     "output_type": "execute_result"
    },
    {
     "data": {
      "image/png": "[encoded data removed]",
      "text/plain": [
       "<Figure size 1080x720 with 1 Axes>"
      ]
     },
     "metadata": {},
     "output_type": "display_data"
    }
   ],
   "source": [
    "for frame,name in zip([without_nan,test_without_nan],\n",
    "                       [\"train\",\"test\"]):\n",
    "    subset = frame[\"rougher.input.feed_size\"]\n",
    "    sns.set(rc={'figure.figsize':(15,10)})\n",
    "    sns.distplot(subset, hist = True, kde = True,\n",
    "                 label = name)\n",
    "plt.legend(prop={'size': 15}, title = 'Frame')\n",
    "plt.title('Размер гранул')"
   ]
  },
  {
   "cell_type": "markdown",
   "metadata": {},
   "source": [
    "__Вывод:__  \n",
    "В целом, исходя из графика выше, мы видим, что распределения *немного* отличаются, однако, примем допущение о том, что различия несущественны и определены погрешностью измерения размеров гранул."
   ]
  },
  {
   "cell_type": "markdown",
   "metadata": {},
   "source": [
    "### Исследование суммарной концентрации всех веществ"
   ]
  },
  {
   "cell_type": "markdown",
   "metadata": {},
   "source": [
    "Исследуем суммарную концентрацию всех веществ на разных стадиях: в сырье, в черновом и финальном концентратах."
   ]
  },
  {
   "cell_type": "code",
   "execution_count": 21,
   "metadata": {},
   "outputs": [],
   "source": [
    "# на вход подаем строку таблицы\n",
    "def summary_of_concentarution(row):\n",
    "    # формируем список итераций при обработке\n",
    "    list_of_steps = [\"rougher\",\"primary_cleaner\",\"final\"]\n",
    "    # вытаскиваем из таблицы необходимые данные о начальной концентрации четырех веществ\n",
    "    input_feed_au = row[\"rougher.input.feed_au\"]\n",
    "    input_feed_ag = row[\"rougher.input.feed_ag\"]\n",
    "    input_feed_pb = row[\"rougher.input.feed_pb\"]\n",
    "    input_feed_sol = row[\"rougher.input.feed_sol\"]\n",
    "    # формируем списки этапов для последующего вычисления\n",
    "    out_rougher = []\n",
    "    out_primary_cleaner = []\n",
    "    out_final = []\n",
    "    # формируем общий список этапов (списков) после обработки\n",
    "    list_of_arrays =[out_rougher, out_primary_cleaner, out_final]\n",
    "    # попарно перебираем наименование итерации и соответствующий ей список- заполняем массивы концентрациями на выходе\n",
    "    for step,array in zip(list_of_steps,list_of_arrays):\n",
    "        array.append(row[step+\".output.concentrate_au\"])\n",
    "        array.append(row[step+\".output.concentrate_ag\"])\n",
    "        array.append(row[step+\".output.concentrate_pb\"])\n",
    "        array.append(row[step+\".output.concentrate_sol\"])\n",
    "    # сумма до\n",
    "    sum_before_steps = input_feed_ag+input_feed_au+input_feed_pb+input_feed_sol\n",
    "    # cумма после флотации\n",
    "    sum_rougher = sum(out_rougher)\n",
    "    # сумма после первичной очистки\n",
    "    sum_primary = sum(out_primary_cleaner)\n",
    "    # сумма финальных характеристик\n",
    "    sum_final = sum(out_final)\n",
    "    # возвращаем список полученных значений для каждой строчки\n",
    "    return pd.Series([sum_before_steps, sum_rougher, sum_primary, sum_final])"
   ]
  },
  {
   "cell_type": "code",
   "execution_count": 22,
   "metadata": {},
   "outputs": [
    {
     "data": {
      "text/html": [
       "<div>\n",
       "<style scoped>\n",
       "    .dataframe tbody tr th:only-of-type {\n",
       "        vertical-align: middle;\n",
       "    }\n",
       "\n",
       "    .dataframe tbody tr th {\n",
       "        vertical-align: top;\n",
       "    }\n",
       "\n",
       "    .dataframe thead th {\n",
       "        text-align: right;\n",
       "    }\n",
       "</style>\n",
       "<table border=\"1\" class=\"dataframe\">\n",
       "  <thead>\n",
       "    <tr style=\"text-align: right;\">\n",
       "      <th></th>\n",
       "      <th>До обработки</th>\n",
       "      <th>После флотации</th>\n",
       "      <th>После первичной очистки</th>\n",
       "      <th>После финального этапа</th>\n",
       "    </tr>\n",
       "  </thead>\n",
       "  <tbody>\n",
       "    <tr>\n",
       "      <th>0</th>\n",
       "      <td>51.680034</td>\n",
       "      <td>66.424950</td>\n",
       "      <td>72.640924</td>\n",
       "      <td>63.644396</td>\n",
       "    </tr>\n",
       "    <tr>\n",
       "      <th>1</th>\n",
       "      <td>50.659114</td>\n",
       "      <td>67.012710</td>\n",
       "      <td>72.543485</td>\n",
       "      <td>63.957723</td>\n",
       "    </tr>\n",
       "    <tr>\n",
       "      <th>2</th>\n",
       "      <td>50.609929</td>\n",
       "      <td>66.103793</td>\n",
       "      <td>72.095042</td>\n",
       "      <td>64.311180</td>\n",
       "    </tr>\n",
       "    <tr>\n",
       "      <th>3</th>\n",
       "      <td>51.061546</td>\n",
       "      <td>65.752751</td>\n",
       "      <td>59.957723</td>\n",
       "      <td>63.573449</td>\n",
       "    </tr>\n",
       "    <tr>\n",
       "      <th>4</th>\n",
       "      <td>47.859163</td>\n",
       "      <td>65.908382</td>\n",
       "      <td>71.321010</td>\n",
       "      <td>64.004667</td>\n",
       "    </tr>\n",
       "  </tbody>\n",
       "</table>\n",
       "</div>"
      ],
      "text/plain": [
       "   До обработки  После флотации  После первичной очистки  \\\n",
       "0     51.680034       66.424950                72.640924   \n",
       "1     50.659114       67.012710                72.543485   \n",
       "2     50.609929       66.103793                72.095042   \n",
       "3     51.061546       65.752751                59.957723   \n",
       "4     47.859163       65.908382                71.321010   \n",
       "\n",
       "   После финального этапа  \n",
       "0               63.644396  \n",
       "1               63.957723  \n",
       "2               64.311180  \n",
       "3               63.573449  \n",
       "4               64.004667  "
      ]
     },
     "execution_count": 22,
     "metadata": {},
     "output_type": "execute_result"
    }
   ],
   "source": [
    "sum_values = without_nan.apply(summary_of_concentarution,axis = 1)\n",
    "sum_values.columns = [\"До обработки\",\"После флотации\",\"После первичной очистки\",\"После финального этапа\"]\n",
    "sum_values.head()"
   ]
  },
  {
   "cell_type": "markdown",
   "metadata": {},
   "source": [
    "Для наглядности оценим распределение концентрации компонентов на графиках:"
   ]
  },
  {
   "cell_type": "code",
   "execution_count": 23,
   "metadata": {
    "scrolled": true
   },
   "outputs": [
    {
     "data": {
      "image/png": "[encoded data removed]",
      "text/plain": [
       "<Figure size 720x1440 with 4 Axes>"
      ]
     },
     "metadata": {},
     "output_type": "display_data"
    }
   ],
   "source": [
    "fig,ax = plt.subplots(4,1,figsize = (10,20))\n",
    "\n",
    "plt.grid()\n",
    "\n",
    "ax[0].hist(sum_values[\"До обработки\"], bins = 100)\n",
    "ax[1].hist(sum_values[\"После флотации\"], bins = 100)\n",
    "ax[2].hist(sum_values[\"После первичной очистки\"], bins = 100)\n",
    "ax[3].hist(sum_values[\"После финального этапа\"], bins = 100)\n",
    "\n",
    "ax[0].set_xlabel(\"Сумма долей компонентов\")\n",
    "ax[1].set_xlabel(\"Сумма долей компонентов\")\n",
    "ax[2].set_xlabel(\"Сумма долей компонентов\")\n",
    "ax[3].set_xlabel(\"Сумма долей компонентов\")\n",
    "\n",
    "ax[0].set_title(\"Концентрация компонентов до обработки\")\n",
    "ax[1].set_title(\"Концентрация компонентов после флотации\")\n",
    "ax[2].set_title(\"Концентрация компонентов после первичной очистки\")\n",
    "ax[3].set_title(\"Концентрация компонентов после финального этапа\")\n",
    "\n",
    "plt.show()"
   ]
  },
  {
   "cell_type": "markdown",
   "metadata": {},
   "source": [
    "__Вывод:__  \n",
    "Исходя из информации на графиках выше, мы видим, что в данных присутствует сумма долей компонентов, равная или очень близкая к нулю. Так как дынное значение противоречит природе исследуемых данных, а так же в силу того, что оно далеко от общего распределения, будем считать подобные значения выбросами.  "
   ]
  },
  {
   "cell_type": "markdown",
   "metadata": {},
   "source": [
    "Удалим подобные выбросы данных из обучающей выборки, чтобы в последующем избежать некорректоного обучения модели:"
   ]
  },
  {
   "cell_type": "code",
   "execution_count": 24,
   "metadata": {},
   "outputs": [],
   "source": [
    "without_nan = without_nan.drop(index = without_nan[without_nan[\"rougher.input.feed_au\"] < 1].index,\n",
    "                               axis = 0)\n",
    "without_nan = without_nan.drop(index = without_nan[without_nan[\"rougher.input.feed_ag\"] < 1].index,\n",
    "                               axis = 0)\n",
    "without_nan = without_nan.drop(index = without_nan[without_nan[\"rougher.input.feed_pb\"] < 1].index,\n",
    "                               axis = 0)\n",
    "without_nan = without_nan.drop(index = without_nan[without_nan[\"rougher.input.feed_sol\"] < 1].index,\n",
    "                               axis = 0)\n",
    "\n",
    "\n",
    "without_nan = without_nan.drop(index = without_nan[without_nan[\"rougher.output.concentrate_au\"] < 1].index,\n",
    "                               axis = 0)\n",
    "without_nan = without_nan.drop(index = without_nan[without_nan[\"rougher.output.concentrate_ag\"] < 1].index,\n",
    "                               axis = 0)\n",
    "without_nan = without_nan.drop(index = without_nan[without_nan[\"rougher.output.concentrate_pb\"] < 1].index,\n",
    "                               axis = 0)\n",
    "without_nan = without_nan.drop(index = without_nan[without_nan[\"rougher.output.concentrate_sol\"] < 1].index,\n",
    "                               axis = 0)\n",
    "\n",
    "without_nan = without_nan.drop(index = without_nan[without_nan[\"primary_cleaner.output.concentrate_au\"] < 1].index,\n",
    "                               axis = 0)\n",
    "without_nan = without_nan.drop(index = without_nan[without_nan[\"primary_cleaner.output.concentrate_ag\"] < 1].index,\n",
    "                               axis = 0)\n",
    "without_nan = without_nan.drop(index = without_nan[without_nan[\"primary_cleaner.output.concentrate_pb\"] < 1].index,\n",
    "                               axis = 0)\n",
    "without_nan = without_nan.drop(index = without_nan[without_nan[\"primary_cleaner.output.concentrate_sol\"] < 1].index,\n",
    "                               axis = 0)\n",
    "\n",
    "without_nan = without_nan.drop(index = without_nan[without_nan[\"final.output.concentrate_au\"] < 1].index,\n",
    "                               axis = 0)\n",
    "without_nan = without_nan.drop(index = without_nan[without_nan[\"final.output.concentrate_ag\"] < 1].index,\n",
    "                               axis = 0)\n",
    "without_nan = without_nan.drop(index = without_nan[without_nan[\"final.output.concentrate_pb\"] < 1].index,\n",
    "                               axis = 0)\n",
    "without_nan = without_nan.drop(index = without_nan[without_nan[\"final.output.concentrate_sol\"] < 1].index,\n",
    "                               axis = 0)"
   ]
  },
  {
   "cell_type": "code",
   "execution_count": 25,
   "metadata": {},
   "outputs": [],
   "source": [
    "sum_values = without_nan.apply(summary_of_concentarution,axis = 1)\n",
    "sum_values.columns = [\"До обработки\",\"После флотации\",\"После первичной очистки\",\"После финального этапа\"]"
   ]
  },
  {
   "cell_type": "markdown",
   "metadata": {},
   "source": [
    "Оценим распределение концентрации компонентов на графиках после удаления выбросов:"
   ]
  },
  {
   "cell_type": "code",
   "execution_count": 26,
   "metadata": {},
   "outputs": [
    {
     "data": {
      "image/png": "[encoded data removed]",
      "text/plain": [
       "<Figure size 1080x720 with 4 Axes>"
      ]
     },
     "metadata": {},
     "output_type": "display_data"
    }
   ],
   "source": [
    "sum_values.hist(bins=100);"
   ]
  },
  {
   "cell_type": "markdown",
   "metadata": {},
   "source": [
    "## Модель"
   ]
  },
  {
   "cell_type": "markdown",
   "metadata": {},
   "source": [
    "### Инициализация выборок для обучения модели"
   ]
  },
  {
   "cell_type": "code",
   "execution_count": 27,
   "metadata": {},
   "outputs": [],
   "source": [
    "# выбираем только то, что есть в тестовой выборке (без целевых признаков, их там нет)\n",
    "train_features_dataset_rougher = without_nan.loc[:,test_frame.columns]\n",
    "train_features_dataset_final = train_features_dataset_rougher\n",
    "\n",
    "# выделяем первый целевой признак из уже фильтрованного датасета\n",
    "train_target_dataset_rougher = without_nan['rougher.output.recovery'] \n",
    "# выделяем второй целевой признак из уже фильтрованного датасета\n",
    "train_target_dataset_final = without_nan['final.output.recovery']"
   ]
  },
  {
   "cell_type": "markdown",
   "metadata": {},
   "source": [
    "### Метрики"
   ]
  },
  {
   "cell_type": "markdown",
   "metadata": {},
   "source": [
    "[Метрики и оценки](https://scikit-learn.ru/3-3-metrics-and-scoring-quantifying-the-quality-of-predictions/)"
   ]
  },
  {
   "cell_type": "markdown",
   "metadata": {},
   "source": [
    "Напишем функцию для вычисления итоговой sMAPE."
   ]
  },
  {
   "cell_type": "code",
   "execution_count": 28,
   "metadata": {},
   "outputs": [],
   "source": [
    "def sMAPE(y_true, y_pred):\n",
    "    error = np.mean(abs(y_true - y_pred) / ((abs(y_true)+abs(y_pred))/2))*100\n",
    "    return error"
   ]
  },
  {
   "cell_type": "code",
   "execution_count": 29,
   "metadata": {},
   "outputs": [],
   "source": [
    "def final_sMAPE(sMAPE_rougher,sMAPE_final):\n",
    "    return (0.25*sMAPE_rougher + 0.75*sMAPE_final)"
   ]
  },
  {
   "cell_type": "code",
   "execution_count": 30,
   "metadata": {},
   "outputs": [],
   "source": [
    "custom_score = make_scorer(sMAPE, greater_is_better=False)"
   ]
  },
  {
   "cell_type": "markdown",
   "metadata": {},
   "source": [
    "### Подготовка моделей"
   ]
  },
  {
   "cell_type": "markdown",
   "metadata": {},
   "source": [
    "* Инициализация pipeline"
   ]
  },
  {
   "cell_type": "code",
   "execution_count": 31,
   "metadata": {},
   "outputs": [],
   "source": [
    "# содаем конвеер- стандартизатор данных и новую модель\n",
    "model = make_pipeline(StandardScaler(), RandomForestRegressor())\n",
    "model2 = make_pipeline(StandardScaler(), DecisionTreeRegressor())"
   ]
  },
  {
   "cell_type": "markdown",
   "metadata": {},
   "source": [
    "* Автоматический подбор параметров для модели машинного обучения"
   ]
  },
  {
   "cell_type": "markdown",
   "metadata": {},
   "source": [
    "Подбор параметров – одна из важных задач для построения модели машинного обучения. Изменение параметров модели может принципиально повлиять на ее качество. Например, модель может переобучиться. Перебор этих параметров вручную может занять колоссальное количество времени. Однако, существует модуль GridSearchCV.\n",
    "GridSearchCV – это очень мощный инструмент для автоматического подбора параметров моделей машинного обучения. GridSearchCV находит наилучшие параметры, путем обычного перебора: он создает модель для каждой возможной комбинации параметров. Важно отметить, что такой подход может быть весьма времязатратным."
   ]
  },
  {
   "cell_type": "code",
   "execution_count": 32,
   "metadata": {},
   "outputs": [],
   "source": [
    "# Инициализация параметров для GridSearchCV\n",
    "params_RF = {\"randomforestregressor__n_estimators\":[5,100],\n",
    "             \"randomforestregressor__max_depth\":[1,10]}\n",
    "params_DT= {\"decisiontreeregressor__max_depth\":[1,10]}"
   ]
  },
  {
   "cell_type": "code",
   "execution_count": 33,
   "metadata": {},
   "outputs": [],
   "source": [
    "# для случайного леса\n",
    "grid_rougher = GridSearchCV(model, param_grid = params_RF, scoring=custom_score)\n",
    "grid_final = GridSearchCV(model, param_grid = params_RF, scoring=custom_score)\n",
    "# для дерева решений\n",
    "grid_rougher_DT = GridSearchCV(model2, param_grid = params_DT, scoring=custom_score)\n",
    "grid_final_DT = GridSearchCV(model2 ,param_grid = params_DT, scoring=custom_score)\n",
    "\n",
    "# scoring — выбор метрики ошибки, у нас это sMAPE"
   ]
  },
  {
   "cell_type": "markdown",
   "metadata": {},
   "source": [
    "### Обучение моделей"
   ]
  },
  {
   "cell_type": "code",
   "execution_count": 34,
   "metadata": {
    "scrolled": true
   },
   "outputs": [
    {
     "data": {
      "text/plain": [
       "GridSearchCV(estimator=Pipeline(steps=[('standardscaler', StandardScaler()),\n",
       "                                       ('decisiontreeregressor',\n",
       "                                        DecisionTreeRegressor())]),\n",
       "             param_grid={'decisiontreeregressor__max_depth': [1, 10]},\n",
       "             scoring=make_scorer(sMAPE, greater_is_better=False))"
      ]
     },
     "execution_count": 34,
     "metadata": {},
     "output_type": "execute_result"
    }
   ],
   "source": [
    "grid_rougher.fit(train_features_dataset_rougher, train_target_dataset_rougher)\n",
    "grid_final.fit(train_features_dataset_final, train_target_dataset_final)\n",
    "grid_rougher_DT.fit(train_features_dataset_rougher, train_target_dataset_rougher)\n",
    "grid_final_DT.fit(train_features_dataset_final, train_target_dataset_final)"
   ]
  },
  {
   "cell_type": "code",
   "execution_count": 35,
   "metadata": {
    "scrolled": true
   },
   "outputs": [
    {
     "name": "stdout",
     "output_type": "stream",
     "text": [
      "Лучшие модели:\n",
      "==========================================================================================================\n",
      "Pipeline(steps=[('standardscaler', StandardScaler()),\n",
      "                ('randomforestregressor', RandomForestRegressor(max_depth=10))])\n",
      "==========================================================================================================\n",
      "Pipeline(steps=[('standardscaler', StandardScaler()),\n",
      "                ('randomforestregressor', RandomForestRegressor(max_depth=1))])\n",
      "==========================================================================================================\n",
      "Pipeline(steps=[('standardscaler', StandardScaler()),\n",
      "                ('decisiontreeregressor', DecisionTreeRegressor(max_depth=1))])\n",
      "==========================================================================================================\n",
      "Pipeline(steps=[('standardscaler', StandardScaler()),\n",
      "                ('decisiontreeregressor', DecisionTreeRegressor(max_depth=1))])\n"
     ]
    }
   ],
   "source": [
    "print(\"Лучшие модели:\")\n",
    "print('==========================================================================================================')\n",
    "print(grid_rougher.best_estimator_)\n",
    "print('==========================================================================================================')\n",
    "print(grid_final.best_estimator_)\n",
    "print('==========================================================================================================')\n",
    "print(grid_rougher_DT.best_estimator_)\n",
    "print('==========================================================================================================')\n",
    "print(grid_final_DT.best_estimator_)"
   ]
  },
  {
   "cell_type": "markdown",
   "metadata": {},
   "source": [
    "Запишем лучшие метрики ошибок в отдельные переменные:"
   ]
  },
  {
   "cell_type": "code",
   "execution_count": 36,
   "metadata": {},
   "outputs": [],
   "source": [
    "best_score_rougher = grid_rougher.best_score_\n",
    "best_score_final = grid_final.best_score_\n",
    "best_score_rougher_DT = grid_rougher_DT.best_score_\n",
    "best_score_final_DT = grid_final_DT.best_score_"
   ]
  },
  {
   "cell_type": "markdown",
   "metadata": {},
   "source": [
    "* Определим лучшую модель для каждого целевого признака:"
   ]
  },
  {
   "cell_type": "code",
   "execution_count": 37,
   "metadata": {
    "scrolled": true
   },
   "outputs": [
    {
     "name": "stdout",
     "output_type": "stream",
     "text": [
      "После флотации\n",
      "RandomForest: 6.637554120584977 , DecisionTree: 7.962710670812351\n",
      "После финального этапа\n",
      "RandomForest: 9.338623436690973 , DecisionTree 9.319992411105696\n"
     ]
    }
   ],
   "source": [
    "print(\"После флотации\")\n",
    "print(\"RandomForest:\", abs(best_score_rougher),\", DecisionTree:\", abs(best_score_rougher_DT))\n",
    "print(\"После финального этапа\")\n",
    "print(\"RandomForest:\", abs(best_score_final),\", DecisionTree\", abs(best_score_final_DT))"
   ]
  },
  {
   "cell_type": "markdown",
   "metadata": {},
   "source": [
    "__Вывод:__  \n",
    "Минимальная метрика ошибки наблюдается у модели \"случайного леса\". Продолжим работу именно с ней."
   ]
  },
  {
   "cell_type": "markdown",
   "metadata": {},
   "source": [
    "* Лучшие результаты на обучающей выборке"
   ]
  },
  {
   "cell_type": "code",
   "execution_count": 38,
   "metadata": {
    "scrolled": true
   },
   "outputs": [
    {
     "name": "stdout",
     "output_type": "stream",
     "text": [
      "Итоговый sMAPE случайного леса: -8.663356107664475\n"
     ]
    }
   ],
   "source": [
    "print('Итоговый sMAPE случайного леса:', final_sMAPE(best_score_rougher, best_score_final))"
   ]
  },
  {
   "cell_type": "markdown",
   "metadata": {},
   "source": [
    "### Итоговая ошибка на тестовой выборке"
   ]
  },
  {
   "cell_type": "code",
   "execution_count": 39,
   "metadata": {},
   "outputs": [
    {
     "name": "stdout",
     "output_type": "stream",
     "text": [
      "Итоговая ошибка на тестовой выборке: 9.15425674060797\n"
     ]
    }
   ],
   "source": [
    "rogher_test = grid_rougher.predict(test_without_nan)\n",
    "final_test = grid_final.predict(test_without_nan)\n",
    "\n",
    "print('Итоговая ошибка на тестовой выборке:', \n",
    "      final_sMAPE(sMAPE(target_test_rougher, rogher_test), sMAPE(target_test_final ,final_test)))"
   ]
  },
  {
   "cell_type": "markdown",
   "metadata": {},
   "source": [
    "## Вывод"
   ]
  },
  {
   "cell_type": "markdown",
   "metadata": {},
   "source": [
    "Модель предсказывает коэффициент восстановления золота из золотосодержащей руды.  \n",
    "* Итоговая ошибка на тестовой выборке: 9.17;\n",
    "* Итоговая модель построена на алгоритме RandomForest."
   ]
  }
 ],
 "metadata": {
  "ExecuteTimeLog": [
   {
    "duration": 1294,
    "start_time": "2022-03-08T07:36:15.925Z"
   },
   {
    "duration": 161,
    "start_time": "2022-03-08T07:36:55.648Z"
   },
   {
    "duration": 1462,
    "start_time": "2022-03-12T05:25:59.079Z"
   },
   {
    "duration": 382,
    "start_time": "2022-03-12T05:26:09.002Z"
   },
   {
    "duration": 242,
    "start_time": "2022-03-12T05:28:37.109Z"
   },
   {
    "duration": 6,
    "start_time": "2022-03-12T05:30:56.124Z"
   },
   {
    "duration": 835,
    "start_time": "2022-03-12T05:33:26.839Z"
   },
   {
    "duration": 113,
    "start_time": "2022-03-12T05:34:28.894Z"
   },
   {
    "duration": 83,
    "start_time": "2022-03-12T05:34:53.150Z"
   },
   {
    "duration": 80,
    "start_time": "2022-03-12T05:35:12.898Z"
   },
   {
    "duration": 18,
    "start_time": "2022-03-12T05:39:30.295Z"
   },
   {
    "duration": 25,
    "start_time": "2022-03-12T05:40:31.746Z"
   },
   {
    "duration": 76,
    "start_time": "2022-03-12T05:41:14.759Z"
   },
   {
    "duration": 24,
    "start_time": "2022-03-12T05:42:05.641Z"
   },
   {
    "duration": 61,
    "start_time": "2022-03-12T05:42:17.755Z"
   },
   {
    "duration": 41,
    "start_time": "2022-03-12T05:43:13.275Z"
   },
   {
    "duration": 40,
    "start_time": "2022-03-12T05:43:37.715Z"
   },
   {
    "duration": 6,
    "start_time": "2022-03-12T06:01:38.473Z"
   },
   {
    "duration": 651,
    "start_time": "2022-03-12T06:05:30.135Z"
   },
   {
    "duration": 7,
    "start_time": "2022-03-12T06:05:48.144Z"
   },
   {
    "duration": 18,
    "start_time": "2022-03-12T06:31:06.137Z"
   },
   {
    "duration": 7,
    "start_time": "2022-03-12T06:54:10.238Z"
   },
   {
    "duration": 4,
    "start_time": "2022-03-12T06:55:34.349Z"
   },
   {
    "duration": 6,
    "start_time": "2022-03-12T06:56:13.466Z"
   },
   {
    "duration": 244,
    "start_time": "2022-03-12T06:57:03.853Z"
   },
   {
    "duration": 6,
    "start_time": "2022-03-12T07:21:12.204Z"
   },
   {
    "duration": 5,
    "start_time": "2022-03-12T07:21:32.801Z"
   },
   {
    "duration": 7,
    "start_time": "2022-03-12T07:21:41.837Z"
   },
   {
    "duration": 257,
    "start_time": "2022-03-12T07:22:12.792Z"
   },
   {
    "duration": 6,
    "start_time": "2022-03-12T07:22:27.238Z"
   },
   {
    "duration": 5,
    "start_time": "2022-03-12T07:22:40.758Z"
   },
   {
    "duration": 5,
    "start_time": "2022-03-12T07:23:05.835Z"
   },
   {
    "duration": 4,
    "start_time": "2022-03-12T07:23:34.035Z"
   },
   {
    "duration": 4,
    "start_time": "2022-03-12T07:23:47.520Z"
   },
   {
    "duration": 3,
    "start_time": "2022-03-12T07:23:51.052Z"
   },
   {
    "duration": 6,
    "start_time": "2022-03-12T07:24:03.635Z"
   },
   {
    "duration": 4,
    "start_time": "2022-03-12T07:25:46.293Z"
   },
   {
    "duration": 3,
    "start_time": "2022-03-12T07:25:49.018Z"
   },
   {
    "duration": 6,
    "start_time": "2022-03-12T07:28:23.268Z"
   },
   {
    "duration": 6,
    "start_time": "2022-03-12T07:29:35.048Z"
   },
   {
    "duration": 5,
    "start_time": "2022-03-12T07:30:41.568Z"
   },
   {
    "duration": 6,
    "start_time": "2022-03-12T07:31:15.554Z"
   },
   {
    "duration": 7,
    "start_time": "2022-03-12T07:31:48.588Z"
   },
   {
    "duration": 8,
    "start_time": "2022-03-12T07:35:31.080Z"
   },
   {
    "duration": 7,
    "start_time": "2022-03-12T07:36:09.420Z"
   },
   {
    "duration": 75,
    "start_time": "2022-03-12T07:36:25.593Z"
   },
   {
    "duration": 6,
    "start_time": "2022-03-12T07:36:41.178Z"
   },
   {
    "duration": 103,
    "start_time": "2022-03-12T07:36:55.274Z"
   },
   {
    "duration": 6,
    "start_time": "2022-03-12T07:37:10.873Z"
   },
   {
    "duration": 8,
    "start_time": "2022-03-12T07:37:34.014Z"
   },
   {
    "duration": 80,
    "start_time": "2022-03-12T07:47:36.054Z"
   },
   {
    "duration": 302,
    "start_time": "2022-03-12T08:04:54.074Z"
   },
   {
    "duration": 261,
    "start_time": "2022-03-12T08:09:57.343Z"
   },
   {
    "duration": 6,
    "start_time": "2022-03-12T08:11:10.925Z"
   },
   {
    "duration": 266,
    "start_time": "2022-03-12T08:16:07.861Z"
   },
   {
    "duration": 7,
    "start_time": "2022-03-12T08:16:26.808Z"
   },
   {
    "duration": 7,
    "start_time": "2022-03-12T08:17:12.761Z"
   },
   {
    "duration": 865,
    "start_time": "2022-03-12T08:17:12.771Z"
   },
   {
    "duration": 113,
    "start_time": "2022-03-12T08:17:13.640Z"
   },
   {
    "duration": 56,
    "start_time": "2022-03-12T08:17:13.755Z"
   },
   {
    "duration": 5,
    "start_time": "2022-03-12T08:17:13.814Z"
   },
   {
    "duration": 679,
    "start_time": "2022-03-12T08:17:13.822Z"
   },
   {
    "duration": 21,
    "start_time": "2022-03-12T08:17:14.503Z"
   },
   {
    "duration": 30,
    "start_time": "2022-03-12T08:17:14.527Z"
   },
   {
    "duration": 48,
    "start_time": "2022-03-12T08:20:03.872Z"
   },
   {
    "duration": 13,
    "start_time": "2022-03-12T08:20:18.921Z"
   },
   {
    "duration": 42,
    "start_time": "2022-03-12T08:22:09.914Z"
   },
   {
    "duration": 38,
    "start_time": "2022-03-12T08:22:58.010Z"
   },
   {
    "duration": 30,
    "start_time": "2022-03-12T08:23:09.090Z"
   },
   {
    "duration": 31,
    "start_time": "2022-03-12T08:24:42.508Z"
   },
   {
    "duration": 36,
    "start_time": "2022-03-12T08:34:39.519Z"
   },
   {
    "duration": 24,
    "start_time": "2022-03-12T08:39:20.985Z"
   },
   {
    "duration": 39,
    "start_time": "2022-03-12T08:39:31.837Z"
   },
   {
    "duration": 31,
    "start_time": "2022-03-12T08:43:46.170Z"
   },
   {
    "duration": 27,
    "start_time": "2022-03-12T08:46:36.257Z"
   },
   {
    "duration": 29,
    "start_time": "2022-03-12T08:48:58.716Z"
   },
   {
    "duration": 34,
    "start_time": "2022-03-12T08:49:13.491Z"
   },
   {
    "duration": 33,
    "start_time": "2022-03-12T08:51:14.704Z"
   },
   {
    "duration": 32,
    "start_time": "2022-03-12T08:51:42.173Z"
   },
   {
    "duration": 67,
    "start_time": "2022-03-12T08:53:36.548Z"
   },
   {
    "duration": 55,
    "start_time": "2022-03-12T08:53:47.893Z"
   },
   {
    "duration": 31,
    "start_time": "2022-03-12T08:54:56.623Z"
   },
   {
    "duration": 261,
    "start_time": "2022-03-12T08:58:38.939Z"
   },
   {
    "duration": 30,
    "start_time": "2022-03-12T08:58:43.571Z"
   },
   {
    "duration": 7,
    "start_time": "2022-03-12T08:58:46.747Z"
   },
   {
    "duration": 8,
    "start_time": "2022-03-12T08:58:55.500Z"
   },
   {
    "duration": 7,
    "start_time": "2022-03-12T08:58:59.216Z"
   },
   {
    "duration": 809,
    "start_time": "2022-03-12T08:58:59.225Z"
   },
   {
    "duration": 88,
    "start_time": "2022-03-12T08:59:00.037Z"
   },
   {
    "duration": 66,
    "start_time": "2022-03-12T08:59:00.153Z"
   },
   {
    "duration": 4,
    "start_time": "2022-03-12T08:59:00.221Z"
   },
   {
    "duration": 688,
    "start_time": "2022-03-12T08:59:00.228Z"
   },
   {
    "duration": 15,
    "start_time": "2022-03-12T08:59:00.918Z"
   },
   {
    "duration": 8,
    "start_time": "2022-03-12T08:59:00.952Z"
   },
   {
    "duration": 25,
    "start_time": "2022-03-12T08:59:00.963Z"
   },
   {
    "duration": 36,
    "start_time": "2022-03-12T08:59:00.990Z"
   },
   {
    "duration": 52,
    "start_time": "2022-03-12T08:59:01.028Z"
   },
   {
    "duration": 8,
    "start_time": "2022-03-12T08:59:01.082Z"
   },
   {
    "duration": 31,
    "start_time": "2022-03-12T08:59:12.336Z"
   },
   {
    "duration": 6,
    "start_time": "2022-03-12T08:59:18.365Z"
   },
   {
    "duration": 7,
    "start_time": "2022-03-12T08:59:29.882Z"
   },
   {
    "duration": 323,
    "start_time": "2022-03-12T09:00:28.283Z"
   },
   {
    "duration": 40,
    "start_time": "2022-03-12T09:01:07.787Z"
   },
   {
    "duration": 281,
    "start_time": "2022-03-12T09:01:27.299Z"
   },
   {
    "duration": 7,
    "start_time": "2022-03-12T09:01:55.552Z"
   },
   {
    "duration": 854,
    "start_time": "2022-03-12T09:01:55.562Z"
   },
   {
    "duration": 96,
    "start_time": "2022-03-12T09:01:56.418Z"
   },
   {
    "duration": 76,
    "start_time": "2022-03-12T09:01:56.516Z"
   },
   {
    "duration": 5,
    "start_time": "2022-03-12T09:01:56.595Z"
   },
   {
    "duration": 641,
    "start_time": "2022-03-12T09:01:56.602Z"
   },
   {
    "duration": 16,
    "start_time": "2022-03-12T09:01:57.246Z"
   },
   {
    "duration": 8,
    "start_time": "2022-03-12T09:01:57.264Z"
   },
   {
    "duration": 14,
    "start_time": "2022-03-12T09:01:57.275Z"
   },
   {
    "duration": 75,
    "start_time": "2022-03-12T09:01:57.292Z"
   },
   {
    "duration": 39,
    "start_time": "2022-03-12T09:01:57.370Z"
   },
   {
    "duration": 11,
    "start_time": "2022-03-12T09:07:54.079Z"
   },
   {
    "duration": 15,
    "start_time": "2022-03-12T09:08:36.832Z"
   },
   {
    "duration": 96,
    "start_time": "2022-03-12T09:09:10.984Z"
   },
   {
    "duration": 11,
    "start_time": "2022-03-12T09:09:20.220Z"
   },
   {
    "duration": 12,
    "start_time": "2022-03-12T09:09:31.461Z"
   },
   {
    "duration": 11,
    "start_time": "2022-03-12T09:15:43.940Z"
   },
   {
    "duration": 8,
    "start_time": "2022-03-12T09:21:16.661Z"
   },
   {
    "duration": 8,
    "start_time": "2022-03-12T09:21:44.352Z"
   },
   {
    "duration": 16,
    "start_time": "2022-03-12T10:30:03.671Z"
   },
   {
    "duration": 13,
    "start_time": "2022-03-12T10:31:26.493Z"
   },
   {
    "duration": 295,
    "start_time": "2022-03-12T10:47:05.585Z"
   },
   {
    "duration": 302,
    "start_time": "2022-03-12T10:47:13.337Z"
   },
   {
    "duration": 299,
    "start_time": "2022-03-12T10:47:22.113Z"
   },
   {
    "duration": 792,
    "start_time": "2022-03-12T10:47:39.640Z"
   },
   {
    "duration": 270,
    "start_time": "2022-03-12T10:49:59.785Z"
   },
   {
    "duration": 251,
    "start_time": "2022-03-12T10:50:04.253Z"
   },
   {
    "duration": 919,
    "start_time": "2022-03-12T10:52:21.795Z"
   },
   {
    "duration": 981,
    "start_time": "2022-03-12T10:52:36.955Z"
   },
   {
    "duration": 959,
    "start_time": "2022-03-12T10:52:55.956Z"
   },
   {
    "duration": 958,
    "start_time": "2022-03-12T12:24:18.093Z"
   },
   {
    "duration": 1053,
    "start_time": "2022-03-12T12:24:26.813Z"
   },
   {
    "duration": 7,
    "start_time": "2022-03-12T12:54:08.725Z"
   },
   {
    "duration": 8,
    "start_time": "2022-03-12T12:54:32.271Z"
   },
   {
    "duration": 8,
    "start_time": "2022-03-12T12:54:40.917Z"
   },
   {
    "duration": 7264,
    "start_time": "2022-03-12T12:56:24.715Z"
   },
   {
    "duration": 8038,
    "start_time": "2022-03-12T12:59:53.580Z"
   },
   {
    "duration": 7674,
    "start_time": "2022-03-12T13:00:33.674Z"
   },
   {
    "duration": 8703,
    "start_time": "2022-03-12T13:01:08.140Z"
   },
   {
    "duration": 3058,
    "start_time": "2022-03-12T13:02:14.270Z"
   },
   {
    "duration": 3023,
    "start_time": "2022-03-12T13:03:09.064Z"
   },
   {
    "duration": 85,
    "start_time": "2022-03-12T13:19:27.732Z"
   },
   {
    "duration": 10676,
    "start_time": "2022-03-12T13:20:30.643Z"
   },
   {
    "duration": 1870,
    "start_time": "2022-03-12T13:23:12.696Z"
   },
   {
    "duration": 1673,
    "start_time": "2022-03-12T13:23:33.864Z"
   },
   {
    "duration": 2942,
    "start_time": "2022-03-12T13:23:59.744Z"
   },
   {
    "duration": 3425,
    "start_time": "2022-03-12T13:26:36.432Z"
   },
   {
    "duration": 106,
    "start_time": "2022-03-12T13:27:14.932Z"
   },
   {
    "duration": 6586,
    "start_time": "2022-03-12T13:27:18.345Z"
   },
   {
    "duration": 2951,
    "start_time": "2022-03-12T13:27:31.763Z"
   },
   {
    "duration": 6302,
    "start_time": "2022-03-12T13:28:22.225Z"
   },
   {
    "duration": 6760,
    "start_time": "2022-03-12T13:28:59.323Z"
   },
   {
    "duration": 3046,
    "start_time": "2022-03-12T13:29:08.478Z"
   },
   {
    "duration": 4501,
    "start_time": "2022-03-12T13:30:38.266Z"
   },
   {
    "duration": 2819,
    "start_time": "2022-03-12T13:30:52.496Z"
   },
   {
    "duration": 3062,
    "start_time": "2022-03-12T13:31:10.906Z"
   },
   {
    "duration": 12,
    "start_time": "2022-03-12T13:32:27.520Z"
   },
   {
    "duration": 7,
    "start_time": "2022-03-12T13:41:37.751Z"
   },
   {
    "duration": 4,
    "start_time": "2022-03-12T13:49:09.281Z"
   },
   {
    "duration": 4,
    "start_time": "2022-03-12T13:49:18.805Z"
   },
   {
    "duration": 5,
    "start_time": "2022-03-12T13:52:54.621Z"
   },
   {
    "duration": 5,
    "start_time": "2022-03-12T13:58:12.510Z"
   },
   {
    "duration": 4,
    "start_time": "2022-03-12T14:00:25.898Z"
   },
   {
    "duration": 5,
    "start_time": "2022-03-12T14:01:26.930Z"
   },
   {
    "duration": 4,
    "start_time": "2022-03-12T14:03:52.508Z"
   },
   {
    "duration": 14,
    "start_time": "2022-03-12T14:07:24.108Z"
   },
   {
    "duration": 8,
    "start_time": "2022-03-12T14:07:28.893Z"
   },
   {
    "duration": 847,
    "start_time": "2022-03-12T14:07:28.905Z"
   },
   {
    "duration": 132,
    "start_time": "2022-03-12T14:07:29.755Z"
   },
   {
    "duration": 93,
    "start_time": "2022-03-12T14:07:29.891Z"
   },
   {
    "duration": 6,
    "start_time": "2022-03-12T14:07:29.987Z"
   },
   {
    "duration": 1068,
    "start_time": "2022-03-12T14:07:29.996Z"
   },
   {
    "duration": 17,
    "start_time": "2022-03-12T14:07:31.067Z"
   },
   {
    "duration": 13,
    "start_time": "2022-03-12T14:07:31.090Z"
   },
   {
    "duration": 25,
    "start_time": "2022-03-12T14:07:31.106Z"
   },
   {
    "duration": 44,
    "start_time": "2022-03-12T14:07:31.150Z"
   },
   {
    "duration": 64,
    "start_time": "2022-03-12T14:07:31.196Z"
   },
   {
    "duration": 12,
    "start_time": "2022-03-12T14:07:31.262Z"
   },
   {
    "duration": 9,
    "start_time": "2022-03-12T14:07:31.277Z"
   },
   {
    "duration": 7,
    "start_time": "2022-03-12T14:07:31.288Z"
   },
   {
    "duration": 13,
    "start_time": "2022-03-12T14:07:31.297Z"
   },
   {
    "duration": 52,
    "start_time": "2022-03-12T14:07:31.313Z"
   },
   {
    "duration": 1016,
    "start_time": "2022-03-12T14:07:31.368Z"
   },
   {
    "duration": 8,
    "start_time": "2022-03-12T14:07:32.387Z"
   },
   {
    "duration": 7211,
    "start_time": "2022-03-12T14:07:32.397Z"
   },
   {
    "duration": 3089,
    "start_time": "2022-03-12T14:07:39.611Z"
   },
   {
    "duration": 102,
    "start_time": "2022-03-12T14:07:42.703Z"
   },
   {
    "duration": 6714,
    "start_time": "2022-03-12T14:07:42.808Z"
   },
   {
    "duration": 3282,
    "start_time": "2022-03-12T14:07:49.528Z"
   },
   {
    "duration": 9,
    "start_time": "2022-03-12T14:07:52.813Z"
   },
   {
    "duration": 26,
    "start_time": "2022-03-12T14:07:52.825Z"
   },
   {
    "duration": 5,
    "start_time": "2022-03-12T14:07:52.853Z"
   },
   {
    "duration": 5,
    "start_time": "2022-03-12T14:07:52.860Z"
   },
   {
    "duration": 5,
    "start_time": "2022-03-12T14:07:52.869Z"
   },
   {
    "duration": 5,
    "start_time": "2022-03-12T14:07:52.877Z"
   },
   {
    "duration": 7,
    "start_time": "2022-03-12T14:07:52.884Z"
   },
   {
    "duration": 309464,
    "start_time": "2022-03-12T14:09:41.009Z"
   },
   {
    "duration": 112,
    "start_time": "2022-03-12T14:18:45.675Z"
   },
   {
    "duration": 256085,
    "start_time": "2022-03-12T14:19:08.849Z"
   },
   {
    "duration": 1513,
    "start_time": "2022-03-12T14:24:45.827Z"
   },
   {
    "duration": 835,
    "start_time": "2022-03-12T14:24:47.343Z"
   },
   {
    "duration": 101,
    "start_time": "2022-03-12T14:24:48.181Z"
   },
   {
    "duration": 76,
    "start_time": "2022-03-12T14:24:48.285Z"
   },
   {
    "duration": 6,
    "start_time": "2022-03-12T14:24:48.363Z"
   },
   {
    "duration": 699,
    "start_time": "2022-03-12T14:24:48.372Z"
   },
   {
    "duration": 16,
    "start_time": "2022-03-12T14:24:49.073Z"
   },
   {
    "duration": 8,
    "start_time": "2022-03-12T14:24:49.093Z"
   },
   {
    "duration": 14,
    "start_time": "2022-03-12T14:24:49.104Z"
   },
   {
    "duration": 68,
    "start_time": "2022-03-12T14:24:49.120Z"
   },
   {
    "duration": 39,
    "start_time": "2022-03-12T14:24:49.190Z"
   },
   {
    "duration": 11,
    "start_time": "2022-03-12T14:24:49.251Z"
   },
   {
    "duration": 10,
    "start_time": "2022-03-12T14:24:49.264Z"
   },
   {
    "duration": 8,
    "start_time": "2022-03-12T14:24:49.277Z"
   },
   {
    "duration": 6,
    "start_time": "2022-03-12T14:24:49.288Z"
   },
   {
    "duration": 60,
    "start_time": "2022-03-12T14:24:49.296Z"
   },
   {
    "duration": 1025,
    "start_time": "2022-03-12T14:24:49.358Z"
   },
   {
    "duration": 8,
    "start_time": "2022-03-12T14:24:50.386Z"
   },
   {
    "duration": 7402,
    "start_time": "2022-03-12T14:24:50.396Z"
   },
   {
    "duration": 3089,
    "start_time": "2022-03-12T14:24:57.801Z"
   },
   {
    "duration": 109,
    "start_time": "2022-03-12T14:25:00.893Z"
   },
   {
    "duration": 6798,
    "start_time": "2022-03-12T14:25:01.005Z"
   },
   {
    "duration": 2967,
    "start_time": "2022-03-12T14:25:07.807Z"
   },
   {
    "duration": 10,
    "start_time": "2022-03-12T14:25:10.777Z"
   },
   {
    "duration": 8,
    "start_time": "2022-03-12T14:25:10.789Z"
   },
   {
    "duration": 5,
    "start_time": "2022-03-12T14:25:10.799Z"
   },
   {
    "duration": 5,
    "start_time": "2022-03-12T14:25:10.807Z"
   },
   {
    "duration": 37,
    "start_time": "2022-03-12T14:25:10.814Z"
   },
   {
    "duration": 5,
    "start_time": "2022-03-12T14:25:10.854Z"
   },
   {
    "duration": 5,
    "start_time": "2022-03-12T14:25:10.861Z"
   },
   {
    "duration": 266616,
    "start_time": "2022-03-12T14:25:10.868Z"
   },
   {
    "duration": 15,
    "start_time": "2022-03-12T14:30:58.659Z"
   },
   {
    "duration": 16,
    "start_time": "2022-03-12T14:32:04.600Z"
   },
   {
    "duration": 17,
    "start_time": "2022-03-12T14:32:45.119Z"
   },
   {
    "duration": 16,
    "start_time": "2022-03-12T14:32:58.242Z"
   },
   {
    "duration": 4,
    "start_time": "2022-03-12T14:34:51.243Z"
   },
   {
    "duration": 8,
    "start_time": "2022-03-12T14:39:58.968Z"
   },
   {
    "duration": 5,
    "start_time": "2022-03-12T14:43:25.207Z"
   },
   {
    "duration": 6,
    "start_time": "2022-03-12T14:44:23.780Z"
   },
   {
    "duration": 152,
    "start_time": "2022-03-12T14:46:59.003Z"
   },
   {
    "duration": 90,
    "start_time": "2022-03-12T14:47:15.506Z"
   },
   {
    "duration": 93,
    "start_time": "2022-03-12T14:47:20.024Z"
   },
   {
    "duration": 79,
    "start_time": "2022-03-12T14:48:12.168Z"
   },
   {
    "duration": 1509,
    "start_time": "2022-03-12T14:59:17.546Z"
   },
   {
    "duration": 848,
    "start_time": "2022-03-12T14:59:19.058Z"
   },
   {
    "duration": 107,
    "start_time": "2022-03-12T14:59:19.909Z"
   },
   {
    "duration": 78,
    "start_time": "2022-03-12T14:59:20.019Z"
   },
   {
    "duration": 6,
    "start_time": "2022-03-12T14:59:20.101Z"
   },
   {
    "duration": 1091,
    "start_time": "2022-03-12T14:59:20.110Z"
   },
   {
    "duration": 23,
    "start_time": "2022-03-12T14:59:21.204Z"
   },
   {
    "duration": 27,
    "start_time": "2022-03-12T14:59:21.233Z"
   },
   {
    "duration": 20,
    "start_time": "2022-03-12T14:59:21.263Z"
   },
   {
    "duration": 74,
    "start_time": "2022-03-12T14:59:21.286Z"
   },
   {
    "duration": 40,
    "start_time": "2022-03-12T14:59:21.363Z"
   },
   {
    "duration": 10,
    "start_time": "2022-03-12T14:59:21.406Z"
   },
   {
    "duration": 40,
    "start_time": "2022-03-12T14:59:21.418Z"
   },
   {
    "duration": 9,
    "start_time": "2022-03-12T14:59:21.461Z"
   },
   {
    "duration": 9,
    "start_time": "2022-03-12T14:59:21.472Z"
   },
   {
    "duration": 16,
    "start_time": "2022-03-12T14:59:21.484Z"
   },
   {
    "duration": 1564,
    "start_time": "2022-03-12T14:59:21.503Z"
   },
   {
    "duration": 7,
    "start_time": "2022-03-12T14:59:23.070Z"
   },
   {
    "duration": 8149,
    "start_time": "2022-03-12T14:59:23.080Z"
   },
   {
    "duration": 3011,
    "start_time": "2022-03-12T14:59:31.231Z"
   },
   {
    "duration": 86,
    "start_time": "2022-03-12T14:59:34.251Z"
   },
   {
    "duration": 7160,
    "start_time": "2022-03-12T14:59:34.352Z"
   },
   {
    "duration": 2876,
    "start_time": "2022-03-12T14:59:41.517Z"
   },
   {
    "duration": 10,
    "start_time": "2022-03-12T14:59:44.395Z"
   },
   {
    "duration": 7,
    "start_time": "2022-03-12T14:59:44.408Z"
   },
   {
    "duration": 6,
    "start_time": "2022-03-12T14:59:44.417Z"
   },
   {
    "duration": 27,
    "start_time": "2022-03-12T14:59:44.425Z"
   },
   {
    "duration": 5,
    "start_time": "2022-03-12T14:59:44.455Z"
   },
   {
    "duration": 5,
    "start_time": "2022-03-12T14:59:44.463Z"
   },
   {
    "duration": 6,
    "start_time": "2022-03-12T14:59:44.471Z"
   },
   {
    "duration": 275945,
    "start_time": "2022-03-12T14:59:44.479Z"
   },
   {
    "duration": 28,
    "start_time": "2022-03-12T15:04:20.426Z"
   },
   {
    "duration": 11,
    "start_time": "2022-03-12T15:04:20.457Z"
   },
   {
    "duration": 13,
    "start_time": "2022-03-12T15:04:20.472Z"
   },
   {
    "duration": 6,
    "start_time": "2022-03-12T15:04:20.488Z"
   },
   {
    "duration": 182,
    "start_time": "2022-03-12T15:04:20.497Z"
   },
   {
    "duration": 239,
    "start_time": "2022-03-13T15:34:27.963Z"
   },
   {
    "duration": 1192,
    "start_time": "2022-03-13T15:45:34.476Z"
   },
   {
    "duration": 1885,
    "start_time": "2022-03-13T15:45:35.669Z"
   },
   {
    "duration": 54,
    "start_time": "2022-03-13T15:45:37.556Z"
   },
   {
    "duration": 34,
    "start_time": "2022-03-13T15:45:37.612Z"
   },
   {
    "duration": 16,
    "start_time": "2022-03-13T15:45:37.647Z"
   },
   {
    "duration": 447,
    "start_time": "2022-03-13T15:45:37.664Z"
   },
   {
    "duration": 14,
    "start_time": "2022-03-13T15:45:38.113Z"
   },
   {
    "duration": 12,
    "start_time": "2022-03-13T15:45:38.129Z"
   },
   {
    "duration": 20,
    "start_time": "2022-03-13T15:45:38.143Z"
   },
   {
    "duration": 33,
    "start_time": "2022-03-13T15:45:38.165Z"
   },
   {
    "duration": 42,
    "start_time": "2022-03-13T15:45:38.200Z"
   },
   {
    "duration": 22,
    "start_time": "2022-03-13T15:45:38.244Z"
   },
   {
    "duration": 7,
    "start_time": "2022-03-13T15:45:38.267Z"
   },
   {
    "duration": 6,
    "start_time": "2022-03-13T15:45:38.276Z"
   },
   {
    "duration": 7,
    "start_time": "2022-03-13T15:45:38.284Z"
   },
   {
    "duration": 11,
    "start_time": "2022-03-13T15:45:38.293Z"
   },
   {
    "duration": 646,
    "start_time": "2022-03-13T15:45:44.219Z"
   },
   {
    "duration": 941,
    "start_time": "2022-03-13T15:46:53.168Z"
   },
   {
    "duration": 786,
    "start_time": "2022-03-13T15:47:22.481Z"
   },
   {
    "duration": 657,
    "start_time": "2022-03-13T15:48:55.425Z"
   },
   {
    "duration": 681,
    "start_time": "2022-03-13T15:52:13.694Z"
   },
   {
    "duration": 782,
    "start_time": "2022-03-13T15:52:28.511Z"
   },
   {
    "duration": 921,
    "start_time": "2022-03-13T15:52:52.126Z"
   },
   {
    "duration": 249,
    "start_time": "2022-03-13T16:00:28.042Z"
   },
   {
    "duration": 5,
    "start_time": "2022-03-13T16:00:39.358Z"
   },
   {
    "duration": 734,
    "start_time": "2022-03-13T16:00:39.364Z"
   },
   {
    "duration": 65,
    "start_time": "2022-03-13T16:00:40.100Z"
   },
   {
    "duration": 35,
    "start_time": "2022-03-13T16:00:40.168Z"
   },
   {
    "duration": 4,
    "start_time": "2022-03-13T16:00:40.205Z"
   },
   {
    "duration": 434,
    "start_time": "2022-03-13T16:00:40.211Z"
   },
   {
    "duration": 16,
    "start_time": "2022-03-13T16:00:40.647Z"
   },
   {
    "duration": 6,
    "start_time": "2022-03-13T16:00:40.665Z"
   },
   {
    "duration": 26,
    "start_time": "2022-03-13T16:00:40.674Z"
   },
   {
    "duration": 52,
    "start_time": "2022-03-13T16:00:40.702Z"
   },
   {
    "duration": 39,
    "start_time": "2022-03-13T16:00:40.756Z"
   },
   {
    "duration": 11,
    "start_time": "2022-03-13T16:00:40.796Z"
   },
   {
    "duration": 17,
    "start_time": "2022-03-13T16:00:40.808Z"
   },
   {
    "duration": 21,
    "start_time": "2022-03-13T16:00:40.827Z"
   },
   {
    "duration": 14,
    "start_time": "2022-03-13T16:00:40.850Z"
   },
   {
    "duration": 16,
    "start_time": "2022-03-13T16:00:40.865Z"
   },
   {
    "duration": 268,
    "start_time": "2022-03-13T16:00:40.883Z"
   },
   {
    "duration": 217,
    "start_time": "2022-03-13T16:00:54.836Z"
   },
   {
    "duration": 247,
    "start_time": "2022-03-13T16:19:27.108Z"
   },
   {
    "duration": 626,
    "start_time": "2022-03-13T16:20:32.354Z"
   },
   {
    "duration": 224,
    "start_time": "2022-03-13T16:21:27.432Z"
   },
   {
    "duration": 146,
    "start_time": "2022-03-13T16:26:22.740Z"
   },
   {
    "duration": 358,
    "start_time": "2022-03-13T16:26:46.478Z"
   },
   {
    "duration": 154,
    "start_time": "2022-03-13T16:31:51.262Z"
   },
   {
    "duration": 541,
    "start_time": "2022-03-13T16:32:34.026Z"
   },
   {
    "duration": 509,
    "start_time": "2022-03-13T16:33:22.577Z"
   },
   {
    "duration": 175,
    "start_time": "2022-03-13T16:34:02.483Z"
   },
   {
    "duration": 176,
    "start_time": "2022-03-13T16:34:20.800Z"
   },
   {
    "duration": 159,
    "start_time": "2022-03-13T16:34:34.681Z"
   },
   {
    "duration": 155,
    "start_time": "2022-03-13T16:34:41.747Z"
   },
   {
    "duration": 153,
    "start_time": "2022-03-13T16:34:52.111Z"
   },
   {
    "duration": 144,
    "start_time": "2022-03-13T16:34:57.985Z"
   },
   {
    "duration": 148,
    "start_time": "2022-03-13T16:35:23.844Z"
   },
   {
    "duration": 4,
    "start_time": "2022-03-13T16:37:44.562Z"
   },
   {
    "duration": 713,
    "start_time": "2022-03-13T16:37:44.568Z"
   },
   {
    "duration": 46,
    "start_time": "2022-03-13T16:37:45.283Z"
   },
   {
    "duration": 142,
    "start_time": "2022-03-13T16:37:45.331Z"
   },
   {
    "duration": 4,
    "start_time": "2022-03-13T16:37:45.475Z"
   },
   {
    "duration": 403,
    "start_time": "2022-03-13T16:37:45.480Z"
   },
   {
    "duration": 10,
    "start_time": "2022-03-13T16:37:45.885Z"
   },
   {
    "duration": 6,
    "start_time": "2022-03-13T16:37:45.897Z"
   },
   {
    "duration": 11,
    "start_time": "2022-03-13T16:37:45.905Z"
   },
   {
    "duration": 52,
    "start_time": "2022-03-13T16:37:45.918Z"
   },
   {
    "duration": 30,
    "start_time": "2022-03-13T16:37:45.972Z"
   },
   {
    "duration": 9,
    "start_time": "2022-03-13T16:37:46.003Z"
   },
   {
    "duration": 8,
    "start_time": "2022-03-13T16:37:46.014Z"
   },
   {
    "duration": 5,
    "start_time": "2022-03-13T16:37:46.024Z"
   },
   {
    "duration": 35,
    "start_time": "2022-03-13T16:37:46.030Z"
   },
   {
    "duration": 12,
    "start_time": "2022-03-13T16:37:46.067Z"
   },
   {
    "duration": 174,
    "start_time": "2022-03-13T16:37:46.081Z"
   },
   {
    "duration": 148,
    "start_time": "2022-03-13T16:37:46.257Z"
   },
   {
    "duration": 146,
    "start_time": "2022-03-13T16:37:46.407Z"
   },
   {
    "duration": 578,
    "start_time": "2022-03-13T16:37:46.562Z"
   },
   {
    "duration": 5,
    "start_time": "2022-03-13T16:37:47.141Z"
   },
   {
    "duration": 3768,
    "start_time": "2022-03-13T16:37:47.148Z"
   },
   {
    "duration": 1750,
    "start_time": "2022-03-13T16:37:50.918Z"
   },
   {
    "duration": 67,
    "start_time": "2022-03-13T16:37:52.670Z"
   },
   {
    "duration": 3763,
    "start_time": "2022-03-13T16:37:52.739Z"
   },
   {
    "duration": 1588,
    "start_time": "2022-03-13T16:37:56.504Z"
   },
   {
    "duration": 6,
    "start_time": "2022-03-13T16:37:58.095Z"
   },
   {
    "duration": 8,
    "start_time": "2022-03-13T16:37:58.103Z"
   },
   {
    "duration": 4,
    "start_time": "2022-03-13T16:37:58.113Z"
   },
   {
    "duration": 5,
    "start_time": "2022-03-13T16:37:58.118Z"
   },
   {
    "duration": 7,
    "start_time": "2022-03-13T16:37:58.124Z"
   },
   {
    "duration": 6,
    "start_time": "2022-03-13T16:37:58.132Z"
   },
   {
    "duration": 5,
    "start_time": "2022-03-13T16:37:58.139Z"
   },
   {
    "duration": 209574,
    "start_time": "2022-03-13T16:37:58.162Z"
   },
   {
    "duration": 11,
    "start_time": "2022-03-13T16:41:27.739Z"
   },
   {
    "duration": 2,
    "start_time": "2022-03-13T16:41:27.764Z"
   },
   {
    "duration": 15,
    "start_time": "2022-03-13T16:41:27.768Z"
   },
   {
    "duration": 10,
    "start_time": "2022-03-13T16:41:27.784Z"
   },
   {
    "duration": 67,
    "start_time": "2022-03-13T16:41:27.796Z"
   },
   {
    "duration": 1691,
    "start_time": "2022-03-17T12:15:12.603Z"
   },
   {
    "duration": 873,
    "start_time": "2022-03-17T12:15:14.297Z"
   },
   {
    "duration": 65,
    "start_time": "2022-03-17T12:15:15.172Z"
   },
   {
    "duration": 43,
    "start_time": "2022-03-17T12:15:15.239Z"
   },
   {
    "duration": 25,
    "start_time": "2022-03-17T12:15:15.284Z"
   },
   {
    "duration": 275,
    "start_time": "2022-03-17T12:15:15.311Z"
   },
   {
    "duration": 21,
    "start_time": "2022-03-17T12:15:15.588Z"
   },
   {
    "duration": 7,
    "start_time": "2022-03-17T12:15:15.611Z"
   },
   {
    "duration": 11,
    "start_time": "2022-03-17T12:15:15.620Z"
   },
   {
    "duration": 75,
    "start_time": "2022-03-17T12:15:15.634Z"
   },
   {
    "duration": 35,
    "start_time": "2022-03-17T12:15:15.711Z"
   },
   {
    "duration": 9,
    "start_time": "2022-03-17T12:15:15.748Z"
   },
   {
    "duration": 8,
    "start_time": "2022-03-17T12:15:15.759Z"
   },
   {
    "duration": 5,
    "start_time": "2022-03-17T12:15:15.769Z"
   },
   {
    "duration": 36,
    "start_time": "2022-03-17T12:15:15.775Z"
   },
   {
    "duration": 11,
    "start_time": "2022-03-17T12:15:15.813Z"
   },
   {
    "duration": 161,
    "start_time": "2022-03-17T12:15:15.826Z"
   },
   {
    "duration": 134,
    "start_time": "2022-03-17T12:15:15.989Z"
   },
   {
    "duration": 130,
    "start_time": "2022-03-17T12:15:16.125Z"
   },
   {
    "duration": 783,
    "start_time": "2022-03-17T12:15:16.257Z"
   },
   {
    "duration": 5,
    "start_time": "2022-03-17T12:15:17.042Z"
   },
   {
    "duration": 2893,
    "start_time": "2022-03-17T12:15:17.049Z"
   },
   {
    "duration": 1242,
    "start_time": "2022-03-17T12:15:19.943Z"
   },
   {
    "duration": 63,
    "start_time": "2022-03-17T12:15:21.187Z"
   },
   {
    "duration": 2810,
    "start_time": "2022-03-17T12:15:21.252Z"
   },
   {
    "duration": 1188,
    "start_time": "2022-03-17T12:15:24.063Z"
   },
   {
    "duration": 7,
    "start_time": "2022-03-17T12:15:25.253Z"
   },
   {
    "duration": 7,
    "start_time": "2022-03-17T12:15:25.263Z"
   },
   {
    "duration": 5,
    "start_time": "2022-03-17T12:15:25.271Z"
   },
   {
    "duration": 5,
    "start_time": "2022-03-17T12:15:25.277Z"
   },
   {
    "duration": 7,
    "start_time": "2022-03-17T12:15:25.283Z"
   },
   {
    "duration": 19,
    "start_time": "2022-03-17T12:15:25.291Z"
   },
   {
    "duration": 5,
    "start_time": "2022-03-17T12:15:25.312Z"
   },
   {
    "duration": 421146,
    "start_time": "2022-03-17T12:15:25.318Z"
   },
   {
    "duration": 11,
    "start_time": "2022-03-17T12:22:26.466Z"
   },
   {
    "duration": 5,
    "start_time": "2022-03-17T12:22:26.478Z"
   },
   {
    "duration": 9,
    "start_time": "2022-03-17T12:22:26.485Z"
   },
   {
    "duration": 3,
    "start_time": "2022-03-17T12:22:26.510Z"
   },
   {
    "duration": 79,
    "start_time": "2022-03-17T12:22:26.515Z"
   },
   {
    "duration": 2730,
    "start_time": "2022-03-18T08:12:23.095Z"
   },
   {
    "duration": 914,
    "start_time": "2022-03-18T08:12:25.828Z"
   },
   {
    "duration": 95,
    "start_time": "2022-03-18T08:12:26.745Z"
   },
   {
    "duration": 66,
    "start_time": "2022-03-18T08:12:26.867Z"
   },
   {
    "duration": 6,
    "start_time": "2022-03-18T08:12:26.936Z"
   },
   {
    "duration": 645,
    "start_time": "2022-03-18T08:12:26.968Z"
   },
   {
    "duration": 20,
    "start_time": "2022-03-18T08:12:27.616Z"
   },
   {
    "duration": 28,
    "start_time": "2022-03-18T08:12:27.639Z"
   },
   {
    "duration": 15,
    "start_time": "2022-03-18T08:12:27.670Z"
   },
   {
    "duration": 80,
    "start_time": "2022-03-18T08:12:27.688Z"
   },
   {
    "duration": 58,
    "start_time": "2022-03-18T08:12:27.771Z"
   },
   {
    "duration": 14,
    "start_time": "2022-03-18T08:12:27.832Z"
   },
   {
    "duration": 12,
    "start_time": "2022-03-18T08:12:27.868Z"
   },
   {
    "duration": 9,
    "start_time": "2022-03-18T08:12:27.886Z"
   },
   {
    "duration": 11,
    "start_time": "2022-03-18T08:12:27.897Z"
   },
   {
    "duration": 56,
    "start_time": "2022-03-18T08:12:27.912Z"
   },
   {
    "duration": 244,
    "start_time": "2022-03-18T08:12:27.971Z"
   },
   {
    "duration": 220,
    "start_time": "2022-03-18T08:12:28.218Z"
   },
   {
    "duration": 211,
    "start_time": "2022-03-18T08:12:28.440Z"
   },
   {
    "duration": 1114,
    "start_time": "2022-03-18T08:12:28.653Z"
   },
   {
    "duration": 17,
    "start_time": "2022-03-18T08:12:29.770Z"
   },
   {
    "duration": 5611,
    "start_time": "2022-03-18T08:12:29.791Z"
   },
   {
    "duration": 1884,
    "start_time": "2022-03-18T08:12:35.404Z"
   },
   {
    "duration": 78,
    "start_time": "2022-03-18T08:12:37.290Z"
   },
   {
    "duration": 4960,
    "start_time": "2022-03-18T08:12:37.370Z"
   },
   {
    "duration": 1822,
    "start_time": "2022-03-18T08:12:42.332Z"
   },
   {
    "duration": 16,
    "start_time": "2022-03-18T08:12:44.157Z"
   },
   {
    "duration": 11,
    "start_time": "2022-03-18T08:12:44.176Z"
   },
   {
    "duration": 9,
    "start_time": "2022-03-18T08:12:44.189Z"
   },
   {
    "duration": 8,
    "start_time": "2022-03-18T08:12:44.200Z"
   },
   {
    "duration": 6,
    "start_time": "2022-03-18T08:12:44.211Z"
   },
   {
    "duration": 10,
    "start_time": "2022-03-18T08:12:44.219Z"
   },
   {
    "duration": 9,
    "start_time": "2022-03-18T08:12:44.231Z"
   },
   {
    "duration": 483229,
    "start_time": "2022-03-18T08:12:44.268Z"
   },
   {
    "duration": 16,
    "start_time": "2022-03-18T08:20:47.499Z"
   },
   {
    "duration": 8,
    "start_time": "2022-03-18T08:20:47.517Z"
   },
   {
    "duration": 10,
    "start_time": "2022-03-18T08:20:47.527Z"
   },
   {
    "duration": 5,
    "start_time": "2022-03-18T08:20:47.568Z"
   },
   {
    "duration": 100,
    "start_time": "2022-03-18T08:20:47.575Z"
   }
  ],
  "kernelspec": {
   "display_name": "Python 3 (ipykernel)",
   "language": "python",
   "name": "python3"
  },
  "language_info": {
   "codemirror_mode": {
    "name": "ipython",
    "version": 3
   },
   "file_extension": ".py",
   "mimetype": "text/x-python",
   "name": "python",
   "nbconvert_exporter": "python",
   "pygments_lexer": "ipython3",
   "version": "3.9.5"
  },
  "toc": {
   "base_numbering": 1,
   "nav_menu": {},
   "number_sections": true,
   "sideBar": true,
   "skip_h1_title": true,
   "title_cell": "Содержание",
   "title_sidebar": "Contents",
   "toc_cell": true,
   "toc_position": {},
   "toc_section_display": true,
   "toc_window_display": true
  }
 },
 "nbformat": 4,
 "nbformat_minor": 2
}
