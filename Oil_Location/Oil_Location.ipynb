{
 "cells": [
  {
   "cell_type": "markdown",
   "metadata": {
    "toc": true
   },
   "source": [
    "<h1>Содержание<span class=\"tocSkip\"></span></h1>\n",
    "<div class=\"toc\"><ul class=\"toc-item\"><li><span><a href=\"#Загрузка-и-подготовка-данных\" data-toc-modified-id=\"Загрузка-и-подготовка-данных-1\"><span class=\"toc-item-num\">1&nbsp;&nbsp;</span>Загрузка и подготовка данных</a></span><ul class=\"toc-item\"><li><span><a href=\"#Ознакомление-с-данными\" data-toc-modified-id=\"Ознакомление-с-данными-1.1\"><span class=\"toc-item-num\">1.1&nbsp;&nbsp;</span>Ознакомление с данными</a></span></li></ul></li><li><span><a href=\"#Обучение-и-проверка-модели\" data-toc-modified-id=\"Обучение-и-проверка-модели-2\"><span class=\"toc-item-num\">2&nbsp;&nbsp;</span>Обучение и проверка модели</a></span><ul class=\"toc-item\"><li><span><a href=\"#Вывод\" data-toc-modified-id=\"Вывод-2.1\"><span class=\"toc-item-num\">2.1&nbsp;&nbsp;</span>Вывод</a></span></li></ul></li><li><span><a href=\"#Подготовка-к-расчёту-прибыли\" data-toc-modified-id=\"Подготовка-к-расчёту-прибыли-3\"><span class=\"toc-item-num\">3&nbsp;&nbsp;</span>Подготовка к расчёту прибыли</a></span><ul class=\"toc-item\"><li><span><a href=\"#Расчет-прибыли-по-выбранным-скважинам-и-предсказаниям-модели\" data-toc-modified-id=\"Расчет-прибыли-по-выбранным-скважинам-и-предсказаниям-модели-3.1\"><span class=\"toc-item-num\">3.1&nbsp;&nbsp;</span>Расчет прибыли по выбранным скважинам и предсказаниям модели</a></span></li></ul></li><li><span><a href=\"#Расчёт-прибыли-и-рисков\" data-toc-modified-id=\"Расчёт-прибыли-и-рисков-4\"><span class=\"toc-item-num\">4&nbsp;&nbsp;</span>Расчёт прибыли и рисков</a></span></li><li><span><a href=\"#Вывод\" data-toc-modified-id=\"Вывод-5\"><span class=\"toc-item-num\">5&nbsp;&nbsp;</span>Вывод</a></span></li></ul></div>"
   ]
  },
  {
   "cell_type": "markdown",
   "metadata": {},
   "source": [
    "# Выбор локации для скважины"
   ]
  },
  {
   "cell_type": "markdown",
   "metadata": {},
   "source": [
    "Допустим, вы работаете в добывающей компании «ГлавРосГосНефть». Нужно решить, где бурить новую скважину.\n",
    "\n",
    "Вам предоставлены пробы нефти в трёх регионах: в каждом 10 000 месторождений, где измерили качество нефти и объём её запасов. Постройте модель машинного обучения, которая поможет определить регион, где добыча принесёт наибольшую прибыль. Проанализируйте возможную прибыль и риски техникой *Bootstrap.*\n",
    "\n",
    "Шаги для выбора локации:\n",
    "\n",
    "- В избранном регионе ищут месторождения, для каждого определяют значения признаков;\n",
    "- Строят модель и оценивают объём запасов;\n",
    "- Выбирают месторождения с самым высокими оценками значений. Количество месторождений зависит от бюджета компании и стоимости разработки одной скважины;\n",
    "- Прибыль равна суммарной прибыли отобранных месторождений."
   ]
  },
  {
   "cell_type": "markdown",
   "metadata": {},
   "source": [
    "## Загрузка и подготовка данных"
   ]
  },
  {
   "cell_type": "code",
   "execution_count": 22,
   "metadata": {},
   "outputs": [],
   "source": [
    "# для работы с таблицами\n",
    "import pandas as pd\n",
    "\n",
    "# для работы с массивами данных\n",
    "import numpy as np\n",
    "\n",
    "# для построения графиков\n",
    "import matplotlib.pyplot as plt\n",
    "\n",
    "# для разделения таблицы на выборки\n",
    "from sklearn.model_selection import train_test_split\n",
    "\n",
    "# для модели решения\n",
    "from sklearn.linear_model import LinearRegression\n",
    "\n",
    "# модуль, который позволяет автоматизировать предварительные преобразования данных перед обучением модели\n",
    "from sklearn.pipeline import make_pipeline\n",
    "\n",
    "# для стандартизации масштаба признаков\n",
    "from sklearn.preprocessing import StandardScaler\n",
    "\n",
    "# для вычисления средней квадратичной ошибки\n",
    "from sklearn.metrics import mean_squared_error\n",
    "\n",
    "# аргумент, при каждом новом вызове его состояние будет меняться на случайное- так получаем разные подвыборки\n",
    "from numpy.random import RandomState\n",
    "\n",
    "# модуль, который выводит на консоль динамически обновляемый индикатор выполнения\n",
    "from tqdm import tqdm\n",
    "\n",
    "# глобальные пареметры для случайного фиксированного сотояния модели\n",
    "RANDOM = 12345\n",
    "state = RandomState(RANDOM) "
   ]
  },
  {
   "cell_type": "markdown",
   "metadata": {},
   "source": [
    "### Ознакомление с данными"
   ]
  },
  {
   "cell_type": "markdown",
   "metadata": {},
   "source": [
    "1) id — уникальный идентификатор скважины;  \n",
    "2) f0, f1, f2 — три признака точек (неважно, что они означают, но сами признаки значимы);  \n",
    "3) product — объём запасов в скважине (тыс. баррелей).  "
   ]
  },
  {
   "cell_type": "markdown",
   "metadata": {},
   "source": [
    "* Загрузим необходимые данные:"
   ]
  },
  {
   "cell_type": "code",
   "execution_count": 23,
   "metadata": {},
   "outputs": [],
   "source": [
    "zero_frame = pd.read_csv(\"/datasets/geo_data_0.csv\")\n",
    "first_frame = pd.read_csv(\"/datasets/geo_data_1.csv\")\n",
    "second_frame = pd.read_csv(\"/datasets/geo_data_2.csv\")"
   ]
  },
  {
   "cell_type": "markdown",
   "metadata": {},
   "source": [
    "* Изучим файлы с данными:"
   ]
  },
  {
   "cell_type": "code",
   "execution_count": 24,
   "metadata": {},
   "outputs": [
    {
     "data": {
      "text/plain": [
       "'Таблица 1'"
      ]
     },
     "metadata": {},
     "output_type": "display_data"
    },
    {
     "data": {
      "text/html": [
       "<div>\n",
       "<style scoped>\n",
       "    .dataframe tbody tr th:only-of-type {\n",
       "        vertical-align: middle;\n",
       "    }\n",
       "\n",
       "    .dataframe tbody tr th {\n",
       "        vertical-align: top;\n",
       "    }\n",
       "\n",
       "    .dataframe thead th {\n",
       "        text-align: right;\n",
       "    }\n",
       "</style>\n",
       "<table border=\"1\" class=\"dataframe\">\n",
       "  <thead>\n",
       "    <tr style=\"text-align: right;\">\n",
       "      <th></th>\n",
       "      <th>id</th>\n",
       "      <th>f0</th>\n",
       "      <th>f1</th>\n",
       "      <th>f2</th>\n",
       "      <th>product</th>\n",
       "    </tr>\n",
       "  </thead>\n",
       "  <tbody>\n",
       "    <tr>\n",
       "      <th>0</th>\n",
       "      <td>txEyH</td>\n",
       "      <td>0.705745</td>\n",
       "      <td>-0.497823</td>\n",
       "      <td>1.221170</td>\n",
       "      <td>105.280062</td>\n",
       "    </tr>\n",
       "    <tr>\n",
       "      <th>1</th>\n",
       "      <td>2acmU</td>\n",
       "      <td>1.334711</td>\n",
       "      <td>-0.340164</td>\n",
       "      <td>4.365080</td>\n",
       "      <td>73.037750</td>\n",
       "    </tr>\n",
       "    <tr>\n",
       "      <th>2</th>\n",
       "      <td>409Wp</td>\n",
       "      <td>1.022732</td>\n",
       "      <td>0.151990</td>\n",
       "      <td>1.419926</td>\n",
       "      <td>85.265647</td>\n",
       "    </tr>\n",
       "    <tr>\n",
       "      <th>3</th>\n",
       "      <td>iJLyR</td>\n",
       "      <td>-0.032172</td>\n",
       "      <td>0.139033</td>\n",
       "      <td>2.978566</td>\n",
       "      <td>168.620776</td>\n",
       "    </tr>\n",
       "    <tr>\n",
       "      <th>4</th>\n",
       "      <td>Xdl7t</td>\n",
       "      <td>1.988431</td>\n",
       "      <td>0.155413</td>\n",
       "      <td>4.751769</td>\n",
       "      <td>154.036647</td>\n",
       "    </tr>\n",
       "  </tbody>\n",
       "</table>\n",
       "</div>"
      ],
      "text/plain": [
       "      id        f0        f1        f2     product\n",
       "0  txEyH  0.705745 -0.497823  1.221170  105.280062\n",
       "1  2acmU  1.334711 -0.340164  4.365080   73.037750\n",
       "2  409Wp  1.022732  0.151990  1.419926   85.265647\n",
       "3  iJLyR -0.032172  0.139033  2.978566  168.620776\n",
       "4  Xdl7t  1.988431  0.155413  4.751769  154.036647"
      ]
     },
     "metadata": {},
     "output_type": "display_data"
    },
    {
     "data": {
      "text/plain": [
       "'Таблица 2'"
      ]
     },
     "metadata": {},
     "output_type": "display_data"
    },
    {
     "data": {
      "text/html": [
       "<div>\n",
       "<style scoped>\n",
       "    .dataframe tbody tr th:only-of-type {\n",
       "        vertical-align: middle;\n",
       "    }\n",
       "\n",
       "    .dataframe tbody tr th {\n",
       "        vertical-align: top;\n",
       "    }\n",
       "\n",
       "    .dataframe thead th {\n",
       "        text-align: right;\n",
       "    }\n",
       "</style>\n",
       "<table border=\"1\" class=\"dataframe\">\n",
       "  <thead>\n",
       "    <tr style=\"text-align: right;\">\n",
       "      <th></th>\n",
       "      <th>id</th>\n",
       "      <th>f0</th>\n",
       "      <th>f1</th>\n",
       "      <th>f2</th>\n",
       "      <th>product</th>\n",
       "    </tr>\n",
       "  </thead>\n",
       "  <tbody>\n",
       "    <tr>\n",
       "      <th>0</th>\n",
       "      <td>kBEdx</td>\n",
       "      <td>-15.001348</td>\n",
       "      <td>-8.276000</td>\n",
       "      <td>-0.005876</td>\n",
       "      <td>3.179103</td>\n",
       "    </tr>\n",
       "    <tr>\n",
       "      <th>1</th>\n",
       "      <td>62mP7</td>\n",
       "      <td>14.272088</td>\n",
       "      <td>-3.475083</td>\n",
       "      <td>0.999183</td>\n",
       "      <td>26.953261</td>\n",
       "    </tr>\n",
       "    <tr>\n",
       "      <th>2</th>\n",
       "      <td>vyE1P</td>\n",
       "      <td>6.263187</td>\n",
       "      <td>-5.948386</td>\n",
       "      <td>5.001160</td>\n",
       "      <td>134.766305</td>\n",
       "    </tr>\n",
       "    <tr>\n",
       "      <th>3</th>\n",
       "      <td>KcrkZ</td>\n",
       "      <td>-13.081196</td>\n",
       "      <td>-11.506057</td>\n",
       "      <td>4.999415</td>\n",
       "      <td>137.945408</td>\n",
       "    </tr>\n",
       "    <tr>\n",
       "      <th>4</th>\n",
       "      <td>AHL4O</td>\n",
       "      <td>12.702195</td>\n",
       "      <td>-8.147433</td>\n",
       "      <td>5.004363</td>\n",
       "      <td>134.766305</td>\n",
       "    </tr>\n",
       "  </tbody>\n",
       "</table>\n",
       "</div>"
      ],
      "text/plain": [
       "      id         f0         f1        f2     product\n",
       "0  kBEdx -15.001348  -8.276000 -0.005876    3.179103\n",
       "1  62mP7  14.272088  -3.475083  0.999183   26.953261\n",
       "2  vyE1P   6.263187  -5.948386  5.001160  134.766305\n",
       "3  KcrkZ -13.081196 -11.506057  4.999415  137.945408\n",
       "4  AHL4O  12.702195  -8.147433  5.004363  134.766305"
      ]
     },
     "metadata": {},
     "output_type": "display_data"
    },
    {
     "data": {
      "text/plain": [
       "'Таблица 3'"
      ]
     },
     "metadata": {},
     "output_type": "display_data"
    },
    {
     "data": {
      "text/html": [
       "<div>\n",
       "<style scoped>\n",
       "    .dataframe tbody tr th:only-of-type {\n",
       "        vertical-align: middle;\n",
       "    }\n",
       "\n",
       "    .dataframe tbody tr th {\n",
       "        vertical-align: top;\n",
       "    }\n",
       "\n",
       "    .dataframe thead th {\n",
       "        text-align: right;\n",
       "    }\n",
       "</style>\n",
       "<table border=\"1\" class=\"dataframe\">\n",
       "  <thead>\n",
       "    <tr style=\"text-align: right;\">\n",
       "      <th></th>\n",
       "      <th>id</th>\n",
       "      <th>f0</th>\n",
       "      <th>f1</th>\n",
       "      <th>f2</th>\n",
       "      <th>product</th>\n",
       "    </tr>\n",
       "  </thead>\n",
       "  <tbody>\n",
       "    <tr>\n",
       "      <th>0</th>\n",
       "      <td>fwXo0</td>\n",
       "      <td>-1.146987</td>\n",
       "      <td>0.963328</td>\n",
       "      <td>-0.828965</td>\n",
       "      <td>27.758673</td>\n",
       "    </tr>\n",
       "    <tr>\n",
       "      <th>1</th>\n",
       "      <td>WJtFt</td>\n",
       "      <td>0.262778</td>\n",
       "      <td>0.269839</td>\n",
       "      <td>-2.530187</td>\n",
       "      <td>56.069697</td>\n",
       "    </tr>\n",
       "    <tr>\n",
       "      <th>2</th>\n",
       "      <td>ovLUW</td>\n",
       "      <td>0.194587</td>\n",
       "      <td>0.289035</td>\n",
       "      <td>-5.586433</td>\n",
       "      <td>62.871910</td>\n",
       "    </tr>\n",
       "    <tr>\n",
       "      <th>3</th>\n",
       "      <td>q6cA6</td>\n",
       "      <td>2.236060</td>\n",
       "      <td>-0.553760</td>\n",
       "      <td>0.930038</td>\n",
       "      <td>114.572842</td>\n",
       "    </tr>\n",
       "    <tr>\n",
       "      <th>4</th>\n",
       "      <td>WPMUX</td>\n",
       "      <td>-0.515993</td>\n",
       "      <td>1.716266</td>\n",
       "      <td>5.899011</td>\n",
       "      <td>149.600746</td>\n",
       "    </tr>\n",
       "  </tbody>\n",
       "</table>\n",
       "</div>"
      ],
      "text/plain": [
       "      id        f0        f1        f2     product\n",
       "0  fwXo0 -1.146987  0.963328 -0.828965   27.758673\n",
       "1  WJtFt  0.262778  0.269839 -2.530187   56.069697\n",
       "2  ovLUW  0.194587  0.289035 -5.586433   62.871910\n",
       "3  q6cA6  2.236060 -0.553760  0.930038  114.572842\n",
       "4  WPMUX -0.515993  1.716266  5.899011  149.600746"
      ]
     },
     "metadata": {},
     "output_type": "display_data"
    }
   ],
   "source": [
    "display('Таблица 1', zero_frame.head())\n",
    "display('Таблица 2', first_frame.head())\n",
    "display('Таблица 3', second_frame.head())"
   ]
  },
  {
   "cell_type": "markdown",
   "metadata": {},
   "source": [
    "* Отобразим информацию по каждой таблице:"
   ]
  },
  {
   "cell_type": "code",
   "execution_count": 25,
   "metadata": {
    "scrolled": true
   },
   "outputs": [
    {
     "name": "stdout",
     "output_type": "stream",
     "text": [
      "<class 'pandas.core.frame.DataFrame'>\n",
      "RangeIndex: 100000 entries, 0 to 99999\n",
      "Data columns (total 5 columns):\n",
      " #   Column   Non-Null Count   Dtype  \n",
      "---  ------   --------------   -----  \n",
      " 0   id       100000 non-null  object \n",
      " 1   f0       100000 non-null  float64\n",
      " 2   f1       100000 non-null  float64\n",
      " 3   f2       100000 non-null  float64\n",
      " 4   product  100000 non-null  float64\n",
      "dtypes: float64(4), object(1)\n",
      "memory usage: 3.8+ MB\n"
     ]
    },
    {
     "data": {
      "text/plain": [
       "'Конец таблицы 1'"
      ]
     },
     "metadata": {},
     "output_type": "display_data"
    },
    {
     "data": {
      "text/plain": [
       "None"
      ]
     },
     "metadata": {},
     "output_type": "display_data"
    },
    {
     "name": "stdout",
     "output_type": "stream",
     "text": [
      "<class 'pandas.core.frame.DataFrame'>\n",
      "RangeIndex: 100000 entries, 0 to 99999\n",
      "Data columns (total 5 columns):\n",
      " #   Column   Non-Null Count   Dtype  \n",
      "---  ------   --------------   -----  \n",
      " 0   id       100000 non-null  object \n",
      " 1   f0       100000 non-null  float64\n",
      " 2   f1       100000 non-null  float64\n",
      " 3   f2       100000 non-null  float64\n",
      " 4   product  100000 non-null  float64\n",
      "dtypes: float64(4), object(1)\n",
      "memory usage: 3.8+ MB\n"
     ]
    },
    {
     "data": {
      "text/plain": [
       "'Конец таблицы 2'"
      ]
     },
     "metadata": {},
     "output_type": "display_data"
    },
    {
     "data": {
      "text/plain": [
       "None"
      ]
     },
     "metadata": {},
     "output_type": "display_data"
    },
    {
     "name": "stdout",
     "output_type": "stream",
     "text": [
      "<class 'pandas.core.frame.DataFrame'>\n",
      "RangeIndex: 100000 entries, 0 to 99999\n",
      "Data columns (total 5 columns):\n",
      " #   Column   Non-Null Count   Dtype  \n",
      "---  ------   --------------   -----  \n",
      " 0   id       100000 non-null  object \n",
      " 1   f0       100000 non-null  float64\n",
      " 2   f1       100000 non-null  float64\n",
      " 3   f2       100000 non-null  float64\n",
      " 4   product  100000 non-null  float64\n",
      "dtypes: float64(4), object(1)\n",
      "memory usage: 3.8+ MB\n"
     ]
    },
    {
     "data": {
      "text/plain": [
       "'Конец таблицы 3'"
      ]
     },
     "metadata": {},
     "output_type": "display_data"
    },
    {
     "data": {
      "text/plain": [
       "None"
      ]
     },
     "metadata": {},
     "output_type": "display_data"
    }
   ],
   "source": [
    "display('Конец таблицы 1', zero_frame.info())\n",
    "display('Конец таблицы 2', first_frame.info())\n",
    "display('Конец таблицы 3', second_frame.info())"
   ]
  },
  {
   "cell_type": "markdown",
   "metadata": {},
   "source": [
    "* Оценим количество полных дубликатов в таблицах:"
   ]
  },
  {
   "cell_type": "code",
   "execution_count": 26,
   "metadata": {
    "scrolled": true
   },
   "outputs": [
    {
     "name": "stdout",
     "output_type": "stream",
     "text": [
      "Полных дубликатов в таблице 1: 0\n",
      "Полных дубликатов в таблице 2: 0\n",
      "Полных дубликатов в таблице 3: 0\n"
     ]
    }
   ],
   "source": [
    "print('Полных дубликатов в таблице 1:', zero_frame.duplicated().sum())\n",
    "print('Полных дубликатов в таблице 2:', first_frame.duplicated().sum())\n",
    "print('Полных дубликатов в таблице 3:', second_frame.duplicated().sum())"
   ]
  },
  {
   "cell_type": "markdown",
   "metadata": {},
   "source": [
    "* Оценим распределение данных по каждой таблице:"
   ]
  },
  {
   "cell_type": "code",
   "execution_count": 27,
   "metadata": {
    "scrolled": true
   },
   "outputs": [
    {
     "data": {
      "text/plain": [
       "'Таблица 1'"
      ]
     },
     "metadata": {},
     "output_type": "display_data"
    },
    {
     "data": {
      "text/html": [
       "<div>\n",
       "<style scoped>\n",
       "    .dataframe tbody tr th:only-of-type {\n",
       "        vertical-align: middle;\n",
       "    }\n",
       "\n",
       "    .dataframe tbody tr th {\n",
       "        vertical-align: top;\n",
       "    }\n",
       "\n",
       "    .dataframe thead th {\n",
       "        text-align: right;\n",
       "    }\n",
       "</style>\n",
       "<table border=\"1\" class=\"dataframe\">\n",
       "  <thead>\n",
       "    <tr style=\"text-align: right;\">\n",
       "      <th></th>\n",
       "      <th>f0</th>\n",
       "      <th>f1</th>\n",
       "      <th>f2</th>\n",
       "      <th>product</th>\n",
       "    </tr>\n",
       "  </thead>\n",
       "  <tbody>\n",
       "    <tr>\n",
       "      <th>count</th>\n",
       "      <td>100000.000000</td>\n",
       "      <td>100000.000000</td>\n",
       "      <td>100000.000000</td>\n",
       "      <td>100000.000000</td>\n",
       "    </tr>\n",
       "    <tr>\n",
       "      <th>mean</th>\n",
       "      <td>0.500419</td>\n",
       "      <td>0.250143</td>\n",
       "      <td>2.502647</td>\n",
       "      <td>92.500000</td>\n",
       "    </tr>\n",
       "    <tr>\n",
       "      <th>std</th>\n",
       "      <td>0.871832</td>\n",
       "      <td>0.504433</td>\n",
       "      <td>3.248248</td>\n",
       "      <td>44.288691</td>\n",
       "    </tr>\n",
       "    <tr>\n",
       "      <th>min</th>\n",
       "      <td>-1.408605</td>\n",
       "      <td>-0.848218</td>\n",
       "      <td>-12.088328</td>\n",
       "      <td>0.000000</td>\n",
       "    </tr>\n",
       "    <tr>\n",
       "      <th>25%</th>\n",
       "      <td>-0.072580</td>\n",
       "      <td>-0.200881</td>\n",
       "      <td>0.287748</td>\n",
       "      <td>56.497507</td>\n",
       "    </tr>\n",
       "    <tr>\n",
       "      <th>50%</th>\n",
       "      <td>0.502360</td>\n",
       "      <td>0.250252</td>\n",
       "      <td>2.515969</td>\n",
       "      <td>91.849972</td>\n",
       "    </tr>\n",
       "    <tr>\n",
       "      <th>75%</th>\n",
       "      <td>1.073581</td>\n",
       "      <td>0.700646</td>\n",
       "      <td>4.715088</td>\n",
       "      <td>128.564089</td>\n",
       "    </tr>\n",
       "    <tr>\n",
       "      <th>max</th>\n",
       "      <td>2.362331</td>\n",
       "      <td>1.343769</td>\n",
       "      <td>16.003790</td>\n",
       "      <td>185.364347</td>\n",
       "    </tr>\n",
       "  </tbody>\n",
       "</table>\n",
       "</div>"
      ],
      "text/plain": [
       "                  f0             f1             f2        product\n",
       "count  100000.000000  100000.000000  100000.000000  100000.000000\n",
       "mean        0.500419       0.250143       2.502647      92.500000\n",
       "std         0.871832       0.504433       3.248248      44.288691\n",
       "min        -1.408605      -0.848218     -12.088328       0.000000\n",
       "25%        -0.072580      -0.200881       0.287748      56.497507\n",
       "50%         0.502360       0.250252       2.515969      91.849972\n",
       "75%         1.073581       0.700646       4.715088     128.564089\n",
       "max         2.362331       1.343769      16.003790     185.364347"
      ]
     },
     "metadata": {},
     "output_type": "display_data"
    },
    {
     "data": {
      "text/plain": [
       "'Таблица 2'"
      ]
     },
     "metadata": {},
     "output_type": "display_data"
    },
    {
     "data": {
      "text/html": [
       "<div>\n",
       "<style scoped>\n",
       "    .dataframe tbody tr th:only-of-type {\n",
       "        vertical-align: middle;\n",
       "    }\n",
       "\n",
       "    .dataframe tbody tr th {\n",
       "        vertical-align: top;\n",
       "    }\n",
       "\n",
       "    .dataframe thead th {\n",
       "        text-align: right;\n",
       "    }\n",
       "</style>\n",
       "<table border=\"1\" class=\"dataframe\">\n",
       "  <thead>\n",
       "    <tr style=\"text-align: right;\">\n",
       "      <th></th>\n",
       "      <th>f0</th>\n",
       "      <th>f1</th>\n",
       "      <th>f2</th>\n",
       "      <th>product</th>\n",
       "    </tr>\n",
       "  </thead>\n",
       "  <tbody>\n",
       "    <tr>\n",
       "      <th>count</th>\n",
       "      <td>100000.000000</td>\n",
       "      <td>100000.000000</td>\n",
       "      <td>100000.000000</td>\n",
       "      <td>100000.000000</td>\n",
       "    </tr>\n",
       "    <tr>\n",
       "      <th>mean</th>\n",
       "      <td>1.141296</td>\n",
       "      <td>-4.796579</td>\n",
       "      <td>2.494541</td>\n",
       "      <td>68.825000</td>\n",
       "    </tr>\n",
       "    <tr>\n",
       "      <th>std</th>\n",
       "      <td>8.965932</td>\n",
       "      <td>5.119872</td>\n",
       "      <td>1.703572</td>\n",
       "      <td>45.944423</td>\n",
       "    </tr>\n",
       "    <tr>\n",
       "      <th>min</th>\n",
       "      <td>-31.609576</td>\n",
       "      <td>-26.358598</td>\n",
       "      <td>-0.018144</td>\n",
       "      <td>0.000000</td>\n",
       "    </tr>\n",
       "    <tr>\n",
       "      <th>25%</th>\n",
       "      <td>-6.298551</td>\n",
       "      <td>-8.267985</td>\n",
       "      <td>1.000021</td>\n",
       "      <td>26.953261</td>\n",
       "    </tr>\n",
       "    <tr>\n",
       "      <th>50%</th>\n",
       "      <td>1.153055</td>\n",
       "      <td>-4.813172</td>\n",
       "      <td>2.011479</td>\n",
       "      <td>57.085625</td>\n",
       "    </tr>\n",
       "    <tr>\n",
       "      <th>75%</th>\n",
       "      <td>8.621015</td>\n",
       "      <td>-1.332816</td>\n",
       "      <td>3.999904</td>\n",
       "      <td>107.813044</td>\n",
       "    </tr>\n",
       "    <tr>\n",
       "      <th>max</th>\n",
       "      <td>29.421755</td>\n",
       "      <td>18.734063</td>\n",
       "      <td>5.019721</td>\n",
       "      <td>137.945408</td>\n",
       "    </tr>\n",
       "  </tbody>\n",
       "</table>\n",
       "</div>"
      ],
      "text/plain": [
       "                  f0             f1             f2        product\n",
       "count  100000.000000  100000.000000  100000.000000  100000.000000\n",
       "mean        1.141296      -4.796579       2.494541      68.825000\n",
       "std         8.965932       5.119872       1.703572      45.944423\n",
       "min       -31.609576     -26.358598      -0.018144       0.000000\n",
       "25%        -6.298551      -8.267985       1.000021      26.953261\n",
       "50%         1.153055      -4.813172       2.011479      57.085625\n",
       "75%         8.621015      -1.332816       3.999904     107.813044\n",
       "max        29.421755      18.734063       5.019721     137.945408"
      ]
     },
     "metadata": {},
     "output_type": "display_data"
    },
    {
     "data": {
      "text/plain": [
       "'Таблица 3'"
      ]
     },
     "metadata": {},
     "output_type": "display_data"
    },
    {
     "data": {
      "text/html": [
       "<div>\n",
       "<style scoped>\n",
       "    .dataframe tbody tr th:only-of-type {\n",
       "        vertical-align: middle;\n",
       "    }\n",
       "\n",
       "    .dataframe tbody tr th {\n",
       "        vertical-align: top;\n",
       "    }\n",
       "\n",
       "    .dataframe thead th {\n",
       "        text-align: right;\n",
       "    }\n",
       "</style>\n",
       "<table border=\"1\" class=\"dataframe\">\n",
       "  <thead>\n",
       "    <tr style=\"text-align: right;\">\n",
       "      <th></th>\n",
       "      <th>f0</th>\n",
       "      <th>f1</th>\n",
       "      <th>f2</th>\n",
       "      <th>product</th>\n",
       "    </tr>\n",
       "  </thead>\n",
       "  <tbody>\n",
       "    <tr>\n",
       "      <th>count</th>\n",
       "      <td>100000.000000</td>\n",
       "      <td>100000.000000</td>\n",
       "      <td>100000.000000</td>\n",
       "      <td>100000.000000</td>\n",
       "    </tr>\n",
       "    <tr>\n",
       "      <th>mean</th>\n",
       "      <td>0.002023</td>\n",
       "      <td>-0.002081</td>\n",
       "      <td>2.495128</td>\n",
       "      <td>95.000000</td>\n",
       "    </tr>\n",
       "    <tr>\n",
       "      <th>std</th>\n",
       "      <td>1.732045</td>\n",
       "      <td>1.730417</td>\n",
       "      <td>3.473445</td>\n",
       "      <td>44.749921</td>\n",
       "    </tr>\n",
       "    <tr>\n",
       "      <th>min</th>\n",
       "      <td>-8.760004</td>\n",
       "      <td>-7.084020</td>\n",
       "      <td>-11.970335</td>\n",
       "      <td>0.000000</td>\n",
       "    </tr>\n",
       "    <tr>\n",
       "      <th>25%</th>\n",
       "      <td>-1.162288</td>\n",
       "      <td>-1.174820</td>\n",
       "      <td>0.130359</td>\n",
       "      <td>59.450441</td>\n",
       "    </tr>\n",
       "    <tr>\n",
       "      <th>50%</th>\n",
       "      <td>0.009424</td>\n",
       "      <td>-0.009482</td>\n",
       "      <td>2.484236</td>\n",
       "      <td>94.925613</td>\n",
       "    </tr>\n",
       "    <tr>\n",
       "      <th>75%</th>\n",
       "      <td>1.158535</td>\n",
       "      <td>1.163678</td>\n",
       "      <td>4.858794</td>\n",
       "      <td>130.595027</td>\n",
       "    </tr>\n",
       "    <tr>\n",
       "      <th>max</th>\n",
       "      <td>7.238262</td>\n",
       "      <td>7.844801</td>\n",
       "      <td>16.739402</td>\n",
       "      <td>190.029838</td>\n",
       "    </tr>\n",
       "  </tbody>\n",
       "</table>\n",
       "</div>"
      ],
      "text/plain": [
       "                  f0             f1             f2        product\n",
       "count  100000.000000  100000.000000  100000.000000  100000.000000\n",
       "mean        0.002023      -0.002081       2.495128      95.000000\n",
       "std         1.732045       1.730417       3.473445      44.749921\n",
       "min        -8.760004      -7.084020     -11.970335       0.000000\n",
       "25%        -1.162288      -1.174820       0.130359      59.450441\n",
       "50%         0.009424      -0.009482       2.484236      94.925613\n",
       "75%         1.158535       1.163678       4.858794     130.595027\n",
       "max         7.238262       7.844801      16.739402     190.029838"
      ]
     },
     "metadata": {},
     "output_type": "display_data"
    }
   ],
   "source": [
    "display('Таблица 1', zero_frame.describe())\n",
    "display('Таблица 2', first_frame.describe())\n",
    "display('Таблица 3', second_frame.describe())"
   ]
  },
  {
   "cell_type": "markdown",
   "metadata": {},
   "source": [
    "* Визуализируем данные  \n",
    "В силу сложности и объема анализа первоначальных данных, визуализируем их распределение на диаграмме размаха:  "
   ]
  },
  {
   "cell_type": "code",
   "execution_count": 28,
   "metadata": {
    "scrolled": true
   },
   "outputs": [
    {
     "data": {
      "image/png": "[encoded data removed]",
      "text/plain": [
       "<Figure size 432x288 with 1 Axes>"
      ]
     },
     "metadata": {
      "needs_background": "light"
     },
     "output_type": "display_data"
    }
   ],
   "source": [
    "plt.boxplot([zero_frame.f0, zero_frame.f1, zero_frame.f2], labels=['f0', 'f1', 'f2'])\n",
    "plt.grid()\n",
    "plt.title('Таблица 1, признаки')\n",
    "plt.show()"
   ]
  },
  {
   "cell_type": "code",
   "execution_count": 29,
   "metadata": {
    "scrolled": true
   },
   "outputs": [
    {
     "data": {
      "image/png": "[encoded data removed]",
      "text/plain": [
       "<Figure size 432x288 with 1 Axes>"
      ]
     },
     "metadata": {
      "needs_background": "light"
     },
     "output_type": "display_data"
    }
   ],
   "source": [
    "plt.boxplot([first_frame.f0, first_frame.f1, first_frame.f2], labels=['f0', 'f1', 'f2'])\n",
    "plt.grid()\n",
    "plt.title('Таблица 2, признаки')\n",
    "plt.show()"
   ]
  },
  {
   "cell_type": "code",
   "execution_count": 30,
   "metadata": {
    "scrolled": true
   },
   "outputs": [
    {
     "data": {
      "image/png": "[encoded data removed]",
      "text/plain": [
       "<Figure size 432x288 with 1 Axes>"
      ]
     },
     "metadata": {
      "needs_background": "light"
     },
     "output_type": "display_data"
    }
   ],
   "source": [
    "plt.boxplot([second_frame.f0, second_frame.f1, second_frame.f2], labels=['f0', 'f1', 'f2'])\n",
    "plt.grid()\n",
    "plt.title('Таблица 3, признаки')\n",
    "plt.show()"
   ]
  },
  {
   "cell_type": "markdown",
   "metadata": {},
   "source": [
    "**Вывод:**  \n",
    "Как видно из анализа диаграмм размаха признаков f0, f1 и f2, во всех таблицах присутствуют [выбросы данных](https://www.tidydata.ru/boxplot) (отмечены на графиках черными точками), что может негативно сказаться на качестве обучения математической модели.  \n",
    "Возможно, это необходимо проверить в отдельном эксперименте."
   ]
  },
  {
   "cell_type": "markdown",
   "metadata": {},
   "source": [
    "* Оценим корреляцию между признаками:"
   ]
  },
  {
   "cell_type": "code",
   "execution_count": 31,
   "metadata": {
    "scrolled": true
   },
   "outputs": [
    {
     "name": "stdout",
     "output_type": "stream",
     "text": [
      "Таблица 1\n"
     ]
    },
    {
     "data": {
      "text/html": [
       "<div>\n",
       "<style scoped>\n",
       "    .dataframe tbody tr th:only-of-type {\n",
       "        vertical-align: middle;\n",
       "    }\n",
       "\n",
       "    .dataframe tbody tr th {\n",
       "        vertical-align: top;\n",
       "    }\n",
       "\n",
       "    .dataframe thead th {\n",
       "        text-align: right;\n",
       "    }\n",
       "</style>\n",
       "<table border=\"1\" class=\"dataframe\">\n",
       "  <thead>\n",
       "    <tr style=\"text-align: right;\">\n",
       "      <th></th>\n",
       "      <th>f0</th>\n",
       "      <th>f1</th>\n",
       "      <th>f2</th>\n",
       "      <th>product</th>\n",
       "    </tr>\n",
       "  </thead>\n",
       "  <tbody>\n",
       "    <tr>\n",
       "      <th>f0</th>\n",
       "      <td>1.000000</td>\n",
       "      <td>-0.440723</td>\n",
       "      <td>-0.003153</td>\n",
       "      <td>0.143536</td>\n",
       "    </tr>\n",
       "    <tr>\n",
       "      <th>f1</th>\n",
       "      <td>-0.440723</td>\n",
       "      <td>1.000000</td>\n",
       "      <td>0.001724</td>\n",
       "      <td>-0.192356</td>\n",
       "    </tr>\n",
       "    <tr>\n",
       "      <th>f2</th>\n",
       "      <td>-0.003153</td>\n",
       "      <td>0.001724</td>\n",
       "      <td>1.000000</td>\n",
       "      <td>0.483663</td>\n",
       "    </tr>\n",
       "    <tr>\n",
       "      <th>product</th>\n",
       "      <td>0.143536</td>\n",
       "      <td>-0.192356</td>\n",
       "      <td>0.483663</td>\n",
       "      <td>1.000000</td>\n",
       "    </tr>\n",
       "  </tbody>\n",
       "</table>\n",
       "</div>"
      ],
      "text/plain": [
       "               f0        f1        f2   product\n",
       "f0       1.000000 -0.440723 -0.003153  0.143536\n",
       "f1      -0.440723  1.000000  0.001724 -0.192356\n",
       "f2      -0.003153  0.001724  1.000000  0.483663\n",
       "product  0.143536 -0.192356  0.483663  1.000000"
      ]
     },
     "execution_count": 31,
     "metadata": {},
     "output_type": "execute_result"
    }
   ],
   "source": [
    "print('Таблица 1')\n",
    "zero_frame.corr()"
   ]
  },
  {
   "cell_type": "code",
   "execution_count": 32,
   "metadata": {
    "scrolled": true
   },
   "outputs": [
    {
     "name": "stdout",
     "output_type": "stream",
     "text": [
      "Таблица 2\n"
     ]
    },
    {
     "data": {
      "text/html": [
       "<div>\n",
       "<style scoped>\n",
       "    .dataframe tbody tr th:only-of-type {\n",
       "        vertical-align: middle;\n",
       "    }\n",
       "\n",
       "    .dataframe tbody tr th {\n",
       "        vertical-align: top;\n",
       "    }\n",
       "\n",
       "    .dataframe thead th {\n",
       "        text-align: right;\n",
       "    }\n",
       "</style>\n",
       "<table border=\"1\" class=\"dataframe\">\n",
       "  <thead>\n",
       "    <tr style=\"text-align: right;\">\n",
       "      <th></th>\n",
       "      <th>f0</th>\n",
       "      <th>f1</th>\n",
       "      <th>f2</th>\n",
       "      <th>product</th>\n",
       "    </tr>\n",
       "  </thead>\n",
       "  <tbody>\n",
       "    <tr>\n",
       "      <th>f0</th>\n",
       "      <td>1.000000</td>\n",
       "      <td>0.182287</td>\n",
       "      <td>-0.001777</td>\n",
       "      <td>-0.030491</td>\n",
       "    </tr>\n",
       "    <tr>\n",
       "      <th>f1</th>\n",
       "      <td>0.182287</td>\n",
       "      <td>1.000000</td>\n",
       "      <td>-0.002595</td>\n",
       "      <td>-0.010155</td>\n",
       "    </tr>\n",
       "    <tr>\n",
       "      <th>f2</th>\n",
       "      <td>-0.001777</td>\n",
       "      <td>-0.002595</td>\n",
       "      <td>1.000000</td>\n",
       "      <td>0.999397</td>\n",
       "    </tr>\n",
       "    <tr>\n",
       "      <th>product</th>\n",
       "      <td>-0.030491</td>\n",
       "      <td>-0.010155</td>\n",
       "      <td>0.999397</td>\n",
       "      <td>1.000000</td>\n",
       "    </tr>\n",
       "  </tbody>\n",
       "</table>\n",
       "</div>"
      ],
      "text/plain": [
       "               f0        f1        f2   product\n",
       "f0       1.000000  0.182287 -0.001777 -0.030491\n",
       "f1       0.182287  1.000000 -0.002595 -0.010155\n",
       "f2      -0.001777 -0.002595  1.000000  0.999397\n",
       "product -0.030491 -0.010155  0.999397  1.000000"
      ]
     },
     "execution_count": 32,
     "metadata": {},
     "output_type": "execute_result"
    }
   ],
   "source": [
    "print('Таблица 2')\n",
    "first_frame.corr()"
   ]
  },
  {
   "cell_type": "code",
   "execution_count": 33,
   "metadata": {
    "scrolled": true
   },
   "outputs": [
    {
     "name": "stdout",
     "output_type": "stream",
     "text": [
      "Таблица 3\n"
     ]
    },
    {
     "data": {
      "text/html": [
       "<div>\n",
       "<style scoped>\n",
       "    .dataframe tbody tr th:only-of-type {\n",
       "        vertical-align: middle;\n",
       "    }\n",
       "\n",
       "    .dataframe tbody tr th {\n",
       "        vertical-align: top;\n",
       "    }\n",
       "\n",
       "    .dataframe thead th {\n",
       "        text-align: right;\n",
       "    }\n",
       "</style>\n",
       "<table border=\"1\" class=\"dataframe\">\n",
       "  <thead>\n",
       "    <tr style=\"text-align: right;\">\n",
       "      <th></th>\n",
       "      <th>f0</th>\n",
       "      <th>f1</th>\n",
       "      <th>f2</th>\n",
       "      <th>product</th>\n",
       "    </tr>\n",
       "  </thead>\n",
       "  <tbody>\n",
       "    <tr>\n",
       "      <th>f0</th>\n",
       "      <td>1.000000</td>\n",
       "      <td>0.000528</td>\n",
       "      <td>-0.000448</td>\n",
       "      <td>-0.001987</td>\n",
       "    </tr>\n",
       "    <tr>\n",
       "      <th>f1</th>\n",
       "      <td>0.000528</td>\n",
       "      <td>1.000000</td>\n",
       "      <td>0.000779</td>\n",
       "      <td>-0.001012</td>\n",
       "    </tr>\n",
       "    <tr>\n",
       "      <th>f2</th>\n",
       "      <td>-0.000448</td>\n",
       "      <td>0.000779</td>\n",
       "      <td>1.000000</td>\n",
       "      <td>0.445871</td>\n",
       "    </tr>\n",
       "    <tr>\n",
       "      <th>product</th>\n",
       "      <td>-0.001987</td>\n",
       "      <td>-0.001012</td>\n",
       "      <td>0.445871</td>\n",
       "      <td>1.000000</td>\n",
       "    </tr>\n",
       "  </tbody>\n",
       "</table>\n",
       "</div>"
      ],
      "text/plain": [
       "               f0        f1        f2   product\n",
       "f0       1.000000  0.000528 -0.000448 -0.001987\n",
       "f1       0.000528  1.000000  0.000779 -0.001012\n",
       "f2      -0.000448  0.000779  1.000000  0.445871\n",
       "product -0.001987 -0.001012  0.445871  1.000000"
      ]
     },
     "execution_count": 33,
     "metadata": {},
     "output_type": "execute_result"
    }
   ],
   "source": [
    "print('Таблица 3')\n",
    "second_frame.corr()"
   ]
  },
  {
   "cell_type": "markdown",
   "metadata": {},
   "source": [
    "Как видно из данных выше, корреляция признаков в регионах различается:  \n",
    "* в Таблице 1 признаки f0 и f1 отрицательно  коррелируют относительно друг друга, признак f2 положительно коррелирует с целевым признаком; \n",
    "* в Таблице 2 очень сильно коррелирует целевой признак и f2;\n",
    "* в Таблице 3  коррелируют признак f2 и целевой признак.  \n",
    "\n",
    "Так как в уловиях задачи проекта указано, что все признаки являются значимыми, мы не можем удалить столбец с признаком f2 в таблице номер 2: в данном случае интрепретируем столь высокую корреляию как сильную линейную связь между признаками, а не утечку данных."
   ]
  },
  {
   "cell_type": "markdown",
   "metadata": {},
   "source": [
    "## Обучение и проверка модели"
   ]
  },
  {
   "cell_type": "markdown",
   "metadata": {},
   "source": [
    "Учитывая возможный большой объем рассматриваемых входных данных, будем использовать \"конвеер\".   \n",
    "[подробнее о pipeline](https://www.machinelearningmastery.ru/automate-machine-learning-workflows-pipelines-python-scikit-learn/)"
   ]
  },
  {
   "cell_type": "code",
   "execution_count": 34,
   "metadata": {},
   "outputs": [],
   "source": [
    "# создаем массив с названиями таблиц\n",
    "array_name = [\"Таблица 1\",\n",
    "              \"Таблица 2\",\n",
    "              \"Таблица 3\"]\n",
    "\n",
    "# создам массив с данными таблиц\n",
    "array_frame = [zero_frame,\n",
    "               first_frame, \n",
    "               second_frame]\n",
    "# для унификации создаем словарь данных, к которому в дальнейшем будем обращаться при выводе результатов\n",
    "data_dict = {'pipelines':{},'scores':{},'valid':{}, 'predictions':{}}\n",
    "\n",
    "# попарно перебираем таблицы и их названия\n",
    "for frame, name in zip(array_frame,array_name):\n",
    "    # выделяем матрицу признаков, удаляем ненужный столбец id с именем строки и целевой признак\n",
    "    features = frame.drop([\"id\",\"product\"], axis = 1)\n",
    "    # выделяем целевой признак\n",
    "    target = frame[\"product\"]\n",
    "    \n",
    "    # содаем конвеер- стандартизатор данных и новую модель\n",
    "    new_pipeline = make_pipeline(StandardScaler(),LinearRegression())\n",
    "    \n",
    "    # разбиваем данные на обучающую и валидационную выборки в соотношении 75:25\n",
    "    (features_train,\n",
    "    features_valid,\n",
    "    target_train,\n",
    "    target_valid) = train_test_split(features,\n",
    "                                     target,\n",
    "                                     test_size = 0.25,\n",
    "                                     random_state = RANDOM)\n",
    "    # передаем в словарь данных валидационные выборки: кортеж и фичей [0] и таргетов [1]\n",
    "    data_dict['valid'][name] = (features_valid,target_valid)\n",
    "    # передаем в конвеер обучающие выборки, стандартизируем данные, обучаем модель (удобно!)\n",
    "    new_pipeline.fit(features_train,target_train)\n",
    "    # передаем в словарь данных стандартизатор и модель\n",
    "    data_dict['pipelines'][name] = new_pipeline\n",
    "    # вычисляем RMSE, записываем результат в словарь\n",
    "    data_dict['scores'][name] = mean_squared_error(target_valid,\n",
    "                                                   new_pipeline.predict(features_valid))**0.5\n",
    "    # сохраним предсказания модели на валидационной выборке \n",
    "    data_dict['predictions'][name] = new_pipeline.predict(features_valid)"
   ]
  },
  {
   "cell_type": "markdown",
   "metadata": {},
   "source": [
    "Отобразим квадратный корень из средней квадратичной ошибки (RMSE) для каждой таблицы для предсказанного значения целевого признака на валидационной выборке:"
   ]
  },
  {
   "cell_type": "code",
   "execution_count": 35,
   "metadata": {
    "scrolled": true
   },
   "outputs": [
    {
     "data": {
      "text/plain": [
       "{'Таблица 1': 37.5794217150813,\n",
       " 'Таблица 2': 0.893099286775617,\n",
       " 'Таблица 3': 40.02970873393434}"
      ]
     },
     "execution_count": 35,
     "metadata": {},
     "output_type": "execute_result"
    }
   ],
   "source": [
    "data_dict['scores']"
   ]
  },
  {
   "cell_type": "markdown",
   "metadata": {},
   "source": [
    "Отобразим настройки конвееров для предсказания данных:"
   ]
  },
  {
   "cell_type": "code",
   "execution_count": 36,
   "metadata": {
    "scrolled": true
   },
   "outputs": [
    {
     "data": {
      "text/plain": [
       "{'Таблица 1': Pipeline(steps=[('standardscaler', StandardScaler()),\n",
       "                 ('linearregression', LinearRegression())]),\n",
       " 'Таблица 2': Pipeline(steps=[('standardscaler', StandardScaler()),\n",
       "                 ('linearregression', LinearRegression())]),\n",
       " 'Таблица 3': Pipeline(steps=[('standardscaler', StandardScaler()),\n",
       "                 ('linearregression', LinearRegression())])}"
      ]
     },
     "execution_count": 36,
     "metadata": {},
     "output_type": "execute_result"
    }
   ],
   "source": [
    "data_dict['pipelines']"
   ]
  },
  {
   "cell_type": "code",
   "execution_count": 37,
   "metadata": {
    "scrolled": true
   },
   "outputs": [
    {
     "name": "stdout",
     "output_type": "stream",
     "text": [
      "Средний запас предсказанного сырья в таблице 1: 92.59256778438035\n",
      "Средний запас предсказанного сырья в таблице 2: 68.728546895446\n",
      "Средний запас предсказанного сырья в таблице 3: 94.96504596800489\n"
     ]
    }
   ],
   "source": [
    "print('Средний запас предсказанного сырья в таблице 1:', data_dict['predictions']['Таблица 1'].mean())\n",
    "print('Средний запас предсказанного сырья в таблице 2:', data_dict['predictions']['Таблица 2'].mean())\n",
    "print('Средний запас предсказанного сырья в таблице 3:', data_dict['predictions']['Таблица 3'].mean())"
   ]
  },
  {
   "cell_type": "markdown",
   "metadata": {},
   "source": [
    "### Вывод"
   ]
  },
  {
   "cell_type": "markdown",
   "metadata": {},
   "source": [
    "* Корень из средней квадратичной ошибки меньше всего (0.89) в таблице 2, однако, в выбранном регионе модель предсказывает наименьшие средние запасы сырья на скважинах (68.73);\n",
    "* Наибольшие средние запасы сырья на скважинах (94.965) представлены в регионе, описанном в таблице 3, однако в нём же наблюдается наибольший (40.03) корень из средней квадратичной ошибки;\n",
    "* В таблице 1 корень из средней квадратичной ошибки составил 37.58, средние запасы сырья на скважинах составили 92.593 тысяч баррелей."
   ]
  },
  {
   "cell_type": "markdown",
   "metadata": {},
   "source": [
    "## Подготовка к расчёту прибыли"
   ]
  },
  {
   "cell_type": "markdown",
   "metadata": {},
   "source": [
    "* Сохраним все ключевые значения для расчётов в отдельных переменных."
   ]
  },
  {
   "cell_type": "code",
   "execution_count": 38,
   "metadata": {},
   "outputs": [
    {
     "name": "stdout",
     "output_type": "stream",
     "text": [
      "Достаточный объем добычи для безубыточной разработки: 111.11\n"
     ]
    }
   ],
   "source": [
    "# Бюджет на разработку скважин в регионе — 10 млрд рублей\n",
    "BUDGET_PER_REGION = 10*(10**9)\n",
    "# Доход с каждой единицы продукта составляет 450 тыс. рублей, поскольку объём указан в тысячах баррелей.\n",
    "PRICE_PER_1K_BARREL = 450000\n",
    "# После оценки рисков нужно оставить лишь те регионы, в которых вероятность убытков меньше 2.5%.\n",
    "DAMAGE_THRESHOLD =  0.025\n",
    "# При разведке региона исследуют 500 точек\n",
    "PRE_MAX_POINTS = 500\n",
    "#  из которых с помощью машинного обучения выбирают 200 лучших для разработки.\n",
    "FINAL_MAX_POINTS = 200\n",
    "\n",
    "\n",
    "# посчитаем, сколько в среднем должно быть в одной скважине, чтобы не прогореть, выбирая скважины для бурения случайно\n",
    "NON_DAMAGE_POINT = BUDGET_PER_REGION / PRICE_PER_1K_BARREL / FINAL_MAX_POINTS\n",
    "print('Достаточный объем добычи для безубыточной разработки:', round(NON_DAMAGE_POINT, 2))"
   ]
  },
  {
   "cell_type": "markdown",
   "metadata": {},
   "source": [
    "**Вывод:**  \n",
    "Данное значение достаточного объема добычи для безубыточной разработки (111.11) _существенно выше_ среднего запаса предсказанного сырья в таблицах 1, 2, 3 (92.59, 68.73, 94.965), следоваельно, мы _не можем_ выбирать в заданных областях вышки случайно. Необходимо задействовать предсказания модели."
   ]
  },
  {
   "cell_type": "markdown",
   "metadata": {},
   "source": [
    "### Расчет прибыли по выбранным скважинам и предсказаниям модели"
   ]
  },
  {
   "cell_type": "markdown",
   "metadata": {},
   "source": [
    "Напишем функцию для расчёта прибыли по выбранным скважинам и предсказаниям модели:"
   ]
  },
  {
   "cell_type": "code",
   "execution_count": 39,
   "metadata": {},
   "outputs": [],
   "source": [
    "# на вход подаем целевой признак валидационной выборки и предсказанные значения признака для валидационной выборки\n",
    "def income(true_target, pred_target):\n",
    "    # переведем массив в Series для доп. функционала по обработке\n",
    "    # отсортируем значения по убыванию\n",
    "    # возьмем первые 200 (в данном случае) строк\n",
    "    sort_Series = pd.Series(pred_target).sort_values(ascending=False)[:FINAL_MAX_POINTS]\n",
    "    # синхронизируем списки целевого признака валидационной выборки по сортированным индексам предсказанных значений\n",
    "    true_target_sort = (true_target.reset_index(drop = True)[sort_Series.index])\n",
    "    # вычислим сумму для ТОПа скважин по целевому признакку\n",
    "    sum_true = true_target_sort.sum() \n",
    "    # полученную сумму тысяч баррелей сырья умножим на цену за тысячу баррелей и вычтем бюджет на область\n",
    "    return ((sum_true * PRICE_PER_1K_BARREL) - BUDGET_PER_REGION)"
   ]
  },
  {
   "cell_type": "code",
   "execution_count": 40,
   "metadata": {},
   "outputs": [
    {
     "name": "stdout",
     "output_type": "stream",
     "text": [
      "Прибыль с лучших 200 скважин в Таблице 1: 3320826043.14\n",
      "Прибыль с лучших 200 скважин в Таблице 2: 2415086696.68\n",
      "Прибыль с лучших 200 скважин в Таблице 3: 2710349963.6\n"
     ]
    }
   ],
   "source": [
    "print(\"Прибыль с лучших 200 скважин в Таблице 1:\", round(income(data_dict['valid']['Таблица 1'][1],\n",
    "                                                               data_dict['predictions']['Таблица 1']), 2))\n",
    "print(\"Прибыль с лучших 200 скважин в Таблице 2:\", round(income(data_dict['valid']['Таблица 2'][1],\n",
    "                                                               data_dict['predictions']['Таблица 2']), 2))\n",
    "print(\"Прибыль с лучших 200 скважин в Таблице 3:\", round(income(data_dict['valid']['Таблица 3'][1],\n",
    "                                                               data_dict['predictions']['Таблица 3']), 2))"
   ]
  },
  {
   "cell_type": "markdown",
   "metadata": {},
   "source": [
    "Таким образом, выбирая ТОП-200 скважин из предсказанных значений модели и расчитывая прибыли по истинным значениям запасов сырья для этих скважин, мы расчитали прибыль по выбранным скважинам и предсказаниям модели."
   ]
  },
  {
   "cell_type": "markdown",
   "metadata": {},
   "source": [
    "## Расчёт прибыли и рисков "
   ]
  },
  {
   "cell_type": "markdown",
   "metadata": {},
   "source": [
    "Применим технику Bootstrap с 1000 выборок, чтобы найти распределение прибыли.  \n",
    "Найдем среднюю прибыль, 95%-й доверительный интервал и риск убытков (убыток — это отрицательная прибыль).  "
   ]
  },
  {
   "cell_type": "code",
   "execution_count": 41,
   "metadata": {},
   "outputs": [],
   "source": [
    "# фукция расчета доверительного интервала, \n",
    "# на вход подаем целевой признак валидационной выборки и предсказанные значения признака для валидационной выборки\n",
    "def confidence_interval(true_target,pred_target):\n",
    "    # создадим список для интервалов\n",
    "    samples = []\n",
    "    # # tqdm - модуль, который выводит на консоль динамически обновляемый индикатор выполнения, Bootstrap с 1000 выборок\n",
    "    for i in tqdm(range(1000)):\n",
    "        # соберем произвольные выборки функцией sample\n",
    "        # где n - число включений (размер выборки), replace=True возвращает элементы в изначальную выборку\n",
    "        # преобразуем тип данных в Series для удобства обработки\n",
    "        sample = pd.Series(pred_target).sample(n = PRE_MAX_POINTS, replace=True, random_state=state)\n",
    "        # записываем в список полученную прибыль, функция \"income\" описана ранее\n",
    "        samples.append(income(true_target,sample))\n",
    "    # преобразуем тип данных в Series для удобства обработки\n",
    "    samples = pd.Series(samples)\n",
    "    print('Среднее значение дохода для выбранного региона:', round(samples.mean(), 2))\n",
    "    # суммируем число убыточных по прибыли выборок, делим на общее число выборок, переводим в проценты\n",
    "    print('Процент убыточных выборок:', samples.apply(lambda x: x < 0).sum()/len(samples)*100,\"%\")\n",
    "    # вычисляем границы доверительного интервала\n",
    "    lower = samples.quantile(0.025)\n",
    "    upper = samples.quantile(0.975)\n",
    "    return round(lower,2), round(upper,2)"
   ]
  },
  {
   "cell_type": "code",
   "execution_count": 42,
   "metadata": {
    "scrolled": true
   },
   "outputs": [
    {
     "name": "stderr",
     "output_type": "stream",
     "text": [
      "100%|██████████| 1000/1000 [00:01<00:00, 674.19it/s]\n"
     ]
    },
    {
     "name": "stdout",
     "output_type": "stream",
     "text": [
      "Среднее значение дохода для выбранного региона: 396164984.8\n",
      "Процент убыточных выборок: 6.9 %\n",
      "95% доверительный итервал для Таблицы 1 лежит между: (-111215545.89, 909766941.55)\n",
      "\n"
     ]
    },
    {
     "name": "stderr",
     "output_type": "stream",
     "text": [
      "100%|██████████| 1000/1000 [00:01<00:00, 672.79it/s]\n"
     ]
    },
    {
     "name": "stdout",
     "output_type": "stream",
     "text": [
      "Среднее значение дохода для выбранного региона: 461155817.28\n",
      "Процент убыточных выборок: 0.7000000000000001 %\n",
      "95% Доверительный итервал для Таблицы 2 лежит между: (78050810.75, 862952060.26)\n",
      "\n"
     ]
    },
    {
     "name": "stderr",
     "output_type": "stream",
     "text": [
      "100%|██████████| 1000/1000 [00:01<00:00, 671.52it/s]"
     ]
    },
    {
     "name": "stdout",
     "output_type": "stream",
     "text": [
      "Среднее значение дохода для выбранного региона: 392950475.17\n",
      "Процент убыточных выборок: 6.5 %\n",
      "95% Доверительный итервал для Таблицы 3 лежит между: (-112227625.38, 934562914.55)\n"
     ]
    },
    {
     "name": "stderr",
     "output_type": "stream",
     "text": [
      "\n"
     ]
    }
   ],
   "source": [
    "print(\"95% доверительный итервал для Таблицы 1 лежит между:\",\n",
    "      confidence_interval(data_dict['valid']['Таблица 1'][1], data_dict['predictions']['Таблица 1']))\n",
    "print()\n",
    "print(\"95% Доверительный итервал для Таблицы 2 лежит между:\",\n",
    "      confidence_interval(data_dict['valid']['Таблица 2'][1], data_dict['predictions']['Таблица 2']))\n",
    "print()\n",
    "print(\"95% Доверительный итервал для Таблицы 3 лежит между:\",\n",
    "      confidence_interval(data_dict['valid']['Таблица 3'][1], data_dict['predictions']['Таблица 3']))"
   ]
  },
  {
   "cell_type": "markdown",
   "metadata": {},
   "source": [
    "## Вывод"
   ]
  },
  {
   "cell_type": "markdown",
   "metadata": {},
   "source": [
    "Исходя из задач проекта, учета всех значений матрицы признаков и выделения всех признаков модели в качестве важных, наиболее выгодным для разработки представляется область (регион), описанный в Таблице 2:  \n",
    "* Среднее значение дохода для выбранного региона с лучших 500 случайно выбранных скважин: 461 155 817.28\n",
    "* Процент убыточных выборок: 0.7000000000000001 %\n",
    "* 95% Доверительный итервал лежит между: (78 050 810.75, 862 952 060.26)\n",
    "* Прибыль с гарантированно лучших 200 скважин: 2 415 086 696.68\n",
    "* Корень из средней квадратичной ошибки (RMSE): 0.893\n",
    "\n",
    "При этом, достаточный объем добычи для безубыточной разработки: 111.11 тыс. баррелей.  \n",
    "\n",
    "\n",
    "\n"
   ]
  }
 ],
 "metadata": {
  "ExecuteTimeLog": [
   {
    "duration": 1148,
    "start_time": "2022-02-28T16:22:30.737Z"
   },
   {
    "duration": 380,
    "start_time": "2022-02-28T16:25:47.284Z"
   },
   {
    "duration": 381,
    "start_time": "2022-02-28T16:31:05.332Z"
   },
   {
    "duration": 21,
    "start_time": "2022-02-28T16:31:43.466Z"
   },
   {
    "duration": 31,
    "start_time": "2022-02-28T16:32:04.646Z"
   },
   {
    "duration": 31,
    "start_time": "2022-02-28T16:32:48.180Z"
   },
   {
    "duration": 35,
    "start_time": "2022-02-28T16:33:22.069Z"
   },
   {
    "duration": 32,
    "start_time": "2022-02-28T16:33:53.816Z"
   },
   {
    "duration": 27,
    "start_time": "2022-02-28T16:36:54.726Z"
   },
   {
    "duration": 25,
    "start_time": "2022-02-28T16:37:24.867Z"
   },
   {
    "duration": 45,
    "start_time": "2022-02-28T16:39:39.455Z"
   },
   {
    "duration": 111,
    "start_time": "2022-02-28T16:40:41.998Z"
   },
   {
    "duration": 118,
    "start_time": "2022-02-28T16:42:44.421Z"
   },
   {
    "duration": 128,
    "start_time": "2022-02-28T16:43:14.784Z"
   },
   {
    "duration": 1443,
    "start_time": "2022-02-28T17:06:10.668Z"
   },
   {
    "duration": 1501,
    "start_time": "2022-02-28T17:06:47.302Z"
   },
   {
    "duration": 1931,
    "start_time": "2022-02-28T17:14:13.303Z"
   },
   {
    "duration": 1572,
    "start_time": "2022-02-28T17:14:22.995Z"
   },
   {
    "duration": 1677,
    "start_time": "2022-02-28T17:15:22.160Z"
   },
   {
    "duration": 1968,
    "start_time": "2022-02-28T17:15:40.598Z"
   },
   {
    "duration": 1619,
    "start_time": "2022-02-28T17:16:24.141Z"
   },
   {
    "duration": 1831,
    "start_time": "2022-02-28T17:18:06.789Z"
   },
   {
    "duration": 1946,
    "start_time": "2022-02-28T17:19:17.378Z"
   },
   {
    "duration": 1479,
    "start_time": "2022-02-28T17:19:39.537Z"
   },
   {
    "duration": 4,
    "start_time": "2022-02-28T17:29:59.569Z"
   },
   {
    "duration": 1558,
    "start_time": "2022-02-28T17:30:07.703Z"
   },
   {
    "duration": 1775,
    "start_time": "2022-02-28T17:39:02.050Z"
   },
   {
    "duration": 210,
    "start_time": "2022-02-28T17:45:04.020Z"
   },
   {
    "duration": 183,
    "start_time": "2022-02-28T17:45:34.962Z"
   },
   {
    "duration": -64,
    "start_time": "2022-02-28T17:46:12.865Z"
   },
   {
    "duration": 326,
    "start_time": "2022-02-28T17:46:15.102Z"
   },
   {
    "duration": 206,
    "start_time": "2022-02-28T17:46:21.082Z"
   },
   {
    "duration": 498,
    "start_time": "2022-02-28T17:46:52.470Z"
   },
   {
    "duration": 5559,
    "start_time": "2022-02-28T17:47:03.843Z"
   },
   {
    "duration": 164,
    "start_time": "2022-02-28T17:49:02.547Z"
   },
   {
    "duration": 1186,
    "start_time": "2022-02-28T17:56:39.664Z"
   },
   {
    "duration": 374,
    "start_time": "2022-02-28T17:56:40.852Z"
   },
   {
    "duration": 27,
    "start_time": "2022-02-28T17:56:41.229Z"
   },
   {
    "duration": 64,
    "start_time": "2022-02-28T17:56:41.258Z"
   },
   {
    "duration": 145,
    "start_time": "2022-02-28T17:56:41.324Z"
   },
   {
    "duration": 149,
    "start_time": "2022-02-28T17:56:41.472Z"
   },
   {
    "duration": 67,
    "start_time": "2022-02-28T17:56:41.624Z"
   },
   {
    "duration": -22,
    "start_time": "2022-02-28T17:56:41.716Z"
   },
   {
    "duration": 138,
    "start_time": "2022-02-28T17:56:55.424Z"
   },
   {
    "duration": 492,
    "start_time": "2022-02-28T17:57:16.631Z"
   },
   {
    "duration": 154,
    "start_time": "2022-02-28T17:57:46.283Z"
   },
   {
    "duration": 185,
    "start_time": "2022-02-28T17:58:58.593Z"
   },
   {
    "duration": 181,
    "start_time": "2022-02-28T18:00:14.773Z"
   },
   {
    "duration": 216,
    "start_time": "2022-02-28T18:01:19.060Z"
   },
   {
    "duration": 216,
    "start_time": "2022-02-28T18:02:02.943Z"
   },
   {
    "duration": 173,
    "start_time": "2022-02-28T18:02:09.104Z"
   },
   {
    "duration": 316,
    "start_time": "2022-02-28T18:02:21.655Z"
   },
   {
    "duration": 167,
    "start_time": "2022-02-28T18:05:41.186Z"
   },
   {
    "duration": 243,
    "start_time": "2022-02-28T18:08:38.256Z"
   },
   {
    "duration": 177,
    "start_time": "2022-02-28T18:10:31.090Z"
   },
   {
    "duration": 166,
    "start_time": "2022-02-28T18:11:34.211Z"
   },
   {
    "duration": 174,
    "start_time": "2022-02-28T18:14:04.781Z"
   },
   {
    "duration": 187,
    "start_time": "2022-02-28T18:14:14.957Z"
   },
   {
    "duration": 186,
    "start_time": "2022-02-28T18:14:22.669Z"
   },
   {
    "duration": 5,
    "start_time": "2022-02-28T18:15:37.003Z"
   },
   {
    "duration": 428,
    "start_time": "2022-02-28T18:27:31.125Z"
   },
   {
    "duration": 7,
    "start_time": "2022-02-28T18:27:40.764Z"
   },
   {
    "duration": 4,
    "start_time": "2022-02-28T19:01:43.774Z"
   },
   {
    "duration": 4,
    "start_time": "2022-02-28T19:02:59.817Z"
   },
   {
    "duration": 270,
    "start_time": "2022-02-28T19:06:52.601Z"
   },
   {
    "duration": 56,
    "start_time": "2022-02-28T19:07:28.406Z"
   },
   {
    "duration": 5,
    "start_time": "2022-02-28T19:08:19.080Z"
   },
   {
    "duration": 41,
    "start_time": "2022-02-28T19:08:21.249Z"
   },
   {
    "duration": 4,
    "start_time": "2022-02-28T19:09:15.447Z"
   },
   {
    "duration": 89,
    "start_time": "2022-02-28T19:09:22.536Z"
   },
   {
    "duration": 4,
    "start_time": "2022-02-28T19:10:02.993Z"
   },
   {
    "duration": 384,
    "start_time": "2022-02-28T19:10:02.999Z"
   },
   {
    "duration": 25,
    "start_time": "2022-02-28T19:10:03.386Z"
   },
   {
    "duration": 46,
    "start_time": "2022-02-28T19:10:03.413Z"
   },
   {
    "duration": 156,
    "start_time": "2022-02-28T19:10:03.462Z"
   },
   {
    "duration": 129,
    "start_time": "2022-02-28T19:10:03.620Z"
   },
   {
    "duration": 202,
    "start_time": "2022-02-28T19:10:03.751Z"
   },
   {
    "duration": 190,
    "start_time": "2022-02-28T19:10:03.955Z"
   },
   {
    "duration": 188,
    "start_time": "2022-02-28T19:10:04.147Z"
   },
   {
    "duration": 5,
    "start_time": "2022-02-28T19:10:04.337Z"
   },
   {
    "duration": 91,
    "start_time": "2022-02-28T19:10:04.343Z"
   },
   {
    "duration": 85,
    "start_time": "2022-02-28T19:11:17.448Z"
   },
   {
    "duration": 82,
    "start_time": "2022-02-28T19:12:35.202Z"
   },
   {
    "duration": 85,
    "start_time": "2022-02-28T19:13:24.398Z"
   },
   {
    "duration": 237,
    "start_time": "2022-02-28T19:14:14.446Z"
   },
   {
    "duration": 303,
    "start_time": "2022-02-28T19:16:30.673Z"
   },
   {
    "duration": 71,
    "start_time": "2022-02-28T19:18:34.236Z"
   },
   {
    "duration": 64,
    "start_time": "2022-02-28T19:18:40.816Z"
   },
   {
    "duration": 222,
    "start_time": "2022-02-28T19:20:04.260Z"
   },
   {
    "duration": 324,
    "start_time": "2022-02-28T19:20:21.453Z"
   },
   {
    "duration": 65,
    "start_time": "2022-02-28T19:22:59.118Z"
   },
   {
    "duration": 13,
    "start_time": "2022-02-28T19:23:44.333Z"
   },
   {
    "duration": 12,
    "start_time": "2022-02-28T19:25:18.610Z"
   },
   {
    "duration": 101,
    "start_time": "2022-02-28T19:25:48.252Z"
   },
   {
    "duration": 233,
    "start_time": "2022-02-28T19:27:21.692Z"
   },
   {
    "duration": 5,
    "start_time": "2022-02-28T19:30:05.095Z"
   },
   {
    "duration": 412,
    "start_time": "2022-02-28T19:30:05.102Z"
   },
   {
    "duration": 25,
    "start_time": "2022-02-28T19:30:05.516Z"
   },
   {
    "duration": 68,
    "start_time": "2022-02-28T19:30:05.543Z"
   },
   {
    "duration": 126,
    "start_time": "2022-02-28T19:30:05.612Z"
   },
   {
    "duration": 127,
    "start_time": "2022-02-28T19:30:05.741Z"
   },
   {
    "duration": 191,
    "start_time": "2022-02-28T19:30:05.870Z"
   },
   {
    "duration": 188,
    "start_time": "2022-02-28T19:30:06.063Z"
   },
   {
    "duration": 282,
    "start_time": "2022-02-28T19:30:06.254Z"
   },
   {
    "duration": 4,
    "start_time": "2022-02-28T19:30:06.538Z"
   },
   {
    "duration": 91,
    "start_time": "2022-02-28T19:30:06.544Z"
   },
   {
    "duration": 14,
    "start_time": "2022-02-28T19:30:06.638Z"
   },
   {
    "duration": 75,
    "start_time": "2022-02-28T19:30:49.325Z"
   },
   {
    "duration": 324,
    "start_time": "2022-02-28T19:47:58.203Z"
   },
   {
    "duration": 25,
    "start_time": "2022-02-28T19:53:38.514Z"
   },
   {
    "duration": 26,
    "start_time": "2022-02-28T19:54:41.873Z"
   },
   {
    "duration": 4,
    "start_time": "2022-02-28T19:54:47.942Z"
   },
   {
    "duration": 390,
    "start_time": "2022-02-28T19:54:47.948Z"
   },
   {
    "duration": 23,
    "start_time": "2022-02-28T19:54:48.341Z"
   },
   {
    "duration": 54,
    "start_time": "2022-02-28T19:54:48.366Z"
   },
   {
    "duration": 136,
    "start_time": "2022-02-28T19:54:48.422Z"
   },
   {
    "duration": 141,
    "start_time": "2022-02-28T19:54:48.560Z"
   },
   {
    "duration": 186,
    "start_time": "2022-02-28T19:54:48.703Z"
   },
   {
    "duration": 190,
    "start_time": "2022-02-28T19:54:48.891Z"
   },
   {
    "duration": 185,
    "start_time": "2022-02-28T19:54:49.083Z"
   },
   {
    "duration": 4,
    "start_time": "2022-02-28T19:54:49.270Z"
   },
   {
    "duration": 98,
    "start_time": "2022-02-28T19:54:49.276Z"
   },
   {
    "duration": 29,
    "start_time": "2022-02-28T19:54:49.377Z"
   },
   {
    "duration": 4,
    "start_time": "2022-02-28T19:58:34.040Z"
   },
   {
    "duration": 68,
    "start_time": "2022-02-28T19:58:35.961Z"
   },
   {
    "duration": 78,
    "start_time": "2022-02-28T20:00:33.857Z"
   },
   {
    "duration": 5,
    "start_time": "2022-02-28T20:00:47.938Z"
   },
   {
    "duration": 372,
    "start_time": "2022-02-28T20:00:47.945Z"
   },
   {
    "duration": 26,
    "start_time": "2022-02-28T20:00:48.319Z"
   },
   {
    "duration": 67,
    "start_time": "2022-02-28T20:00:48.347Z"
   },
   {
    "duration": 126,
    "start_time": "2022-02-28T20:00:48.415Z"
   },
   {
    "duration": 124,
    "start_time": "2022-02-28T20:00:48.542Z"
   },
   {
    "duration": 194,
    "start_time": "2022-02-28T20:00:48.668Z"
   },
   {
    "duration": 191,
    "start_time": "2022-02-28T20:00:48.864Z"
   },
   {
    "duration": 189,
    "start_time": "2022-02-28T20:00:49.057Z"
   },
   {
    "duration": 5,
    "start_time": "2022-02-28T20:00:49.247Z"
   },
   {
    "duration": 105,
    "start_time": "2022-02-28T20:00:49.253Z"
   },
   {
    "duration": 22,
    "start_time": "2022-02-28T20:00:49.360Z"
   },
   {
    "duration": 5,
    "start_time": "2022-02-28T20:01:32.146Z"
   },
   {
    "duration": 89,
    "start_time": "2022-02-28T20:01:34.109Z"
   },
   {
    "duration": 5,
    "start_time": "2022-02-28T20:01:53.480Z"
   },
   {
    "duration": 365,
    "start_time": "2022-02-28T20:01:53.487Z"
   },
   {
    "duration": 24,
    "start_time": "2022-02-28T20:01:53.854Z"
   },
   {
    "duration": 53,
    "start_time": "2022-02-28T20:01:53.881Z"
   },
   {
    "duration": 142,
    "start_time": "2022-02-28T20:01:53.936Z"
   },
   {
    "duration": 140,
    "start_time": "2022-02-28T20:01:54.080Z"
   },
   {
    "duration": 181,
    "start_time": "2022-02-28T20:01:54.222Z"
   },
   {
    "duration": 186,
    "start_time": "2022-02-28T20:01:54.405Z"
   },
   {
    "duration": 178,
    "start_time": "2022-02-28T20:01:54.602Z"
   },
   {
    "duration": 4,
    "start_time": "2022-02-28T20:01:54.782Z"
   },
   {
    "duration": 116,
    "start_time": "2022-02-28T20:01:54.788Z"
   },
   {
    "duration": 127,
    "start_time": "2022-02-28T20:02:18.851Z"
   },
   {
    "duration": 134,
    "start_time": "2022-02-28T20:03:10.103Z"
   },
   {
    "duration": 70,
    "start_time": "2022-02-28T20:14:46.022Z"
   },
   {
    "duration": 15,
    "start_time": "2022-02-28T20:16:36.703Z"
   },
   {
    "duration": 14,
    "start_time": "2022-02-28T20:17:05.818Z"
   },
   {
    "duration": 14,
    "start_time": "2022-02-28T20:17:17.239Z"
   },
   {
    "duration": 12,
    "start_time": "2022-02-28T20:20:21.198Z"
   },
   {
    "duration": 242,
    "start_time": "2022-02-28T20:20:35.264Z"
   },
   {
    "duration": 14,
    "start_time": "2022-02-28T20:20:39.785Z"
   },
   {
    "duration": 15,
    "start_time": "2022-02-28T20:20:55.960Z"
   },
   {
    "duration": 15,
    "start_time": "2022-02-28T20:21:08.618Z"
   },
   {
    "duration": 5,
    "start_time": "2022-03-01T05:19:37.792Z"
   },
   {
    "duration": 3,
    "start_time": "2022-03-01T05:19:57.063Z"
   },
   {
    "duration": 207,
    "start_time": "2022-03-01T05:22:41.660Z"
   },
   {
    "duration": 3,
    "start_time": "2022-03-01T05:22:53.468Z"
   },
   {
    "duration": 373,
    "start_time": "2022-03-01T05:32:36.951Z"
   },
   {
    "duration": 1134,
    "start_time": "2022-03-01T05:32:54.240Z"
   },
   {
    "duration": 354,
    "start_time": "2022-03-01T05:32:55.376Z"
   },
   {
    "duration": 26,
    "start_time": "2022-03-01T05:32:55.732Z"
   },
   {
    "duration": 30,
    "start_time": "2022-03-01T05:32:55.759Z"
   },
   {
    "duration": 150,
    "start_time": "2022-03-01T05:32:55.790Z"
   },
   {
    "duration": 123,
    "start_time": "2022-03-01T05:32:55.941Z"
   },
   {
    "duration": 180,
    "start_time": "2022-03-01T05:32:56.066Z"
   },
   {
    "duration": 178,
    "start_time": "2022-03-01T05:32:56.248Z"
   },
   {
    "duration": 179,
    "start_time": "2022-03-01T05:32:56.428Z"
   },
   {
    "duration": 4,
    "start_time": "2022-03-01T05:32:56.609Z"
   },
   {
    "duration": 94,
    "start_time": "2022-03-01T05:32:56.615Z"
   },
   {
    "duration": 9,
    "start_time": "2022-03-01T05:32:56.712Z"
   },
   {
    "duration": 13,
    "start_time": "2022-03-01T05:32:56.737Z"
   },
   {
    "duration": 11,
    "start_time": "2022-03-01T05:32:56.752Z"
   },
   {
    "duration": 12,
    "start_time": "2022-03-01T05:32:56.765Z"
   },
   {
    "duration": 3,
    "start_time": "2022-03-01T05:32:56.778Z"
   },
   {
    "duration": 5,
    "start_time": "2022-03-01T05:32:56.783Z"
   },
   {
    "duration": 50,
    "start_time": "2022-03-01T05:32:56.789Z"
   },
   {
    "duration": 4,
    "start_time": "2022-03-01T06:08:19.977Z"
   },
   {
    "duration": 5,
    "start_time": "2022-03-01T06:09:15.723Z"
   },
   {
    "duration": 61,
    "start_time": "2022-03-01T06:11:55.073Z"
   },
   {
    "duration": 229,
    "start_time": "2022-03-01T06:12:01.024Z"
   },
   {
    "duration": 290,
    "start_time": "2022-03-01T06:12:30.131Z"
   },
   {
    "duration": 4,
    "start_time": "2022-03-01T06:12:43.049Z"
   },
   {
    "duration": 5,
    "start_time": "2022-03-01T06:13:19.299Z"
   },
   {
    "duration": 191,
    "start_time": "2022-03-01T06:14:37.756Z"
   },
   {
    "duration": 4,
    "start_time": "2022-03-01T06:35:32.965Z"
   },
   {
    "duration": 4,
    "start_time": "2022-03-01T06:35:57.136Z"
   },
   {
    "duration": 4,
    "start_time": "2022-03-01T06:39:22.319Z"
   },
   {
    "duration": 4,
    "start_time": "2022-03-01T06:39:29.398Z"
   },
   {
    "duration": 368,
    "start_time": "2022-03-01T06:39:29.404Z"
   },
   {
    "duration": 27,
    "start_time": "2022-03-01T06:39:29.774Z"
   },
   {
    "duration": 62,
    "start_time": "2022-03-01T06:39:29.803Z"
   },
   {
    "duration": 160,
    "start_time": "2022-03-01T06:39:29.867Z"
   },
   {
    "duration": 151,
    "start_time": "2022-03-01T06:39:30.029Z"
   },
   {
    "duration": 189,
    "start_time": "2022-03-01T06:39:30.182Z"
   },
   {
    "duration": 184,
    "start_time": "2022-03-01T06:39:30.373Z"
   },
   {
    "duration": 187,
    "start_time": "2022-03-01T06:39:30.559Z"
   },
   {
    "duration": 14,
    "start_time": "2022-03-01T06:39:30.749Z"
   },
   {
    "duration": 23,
    "start_time": "2022-03-01T06:39:30.765Z"
   },
   {
    "duration": 15,
    "start_time": "2022-03-01T06:39:30.790Z"
   },
   {
    "duration": 30,
    "start_time": "2022-03-01T06:39:30.808Z"
   },
   {
    "duration": 4,
    "start_time": "2022-03-01T06:40:10.637Z"
   },
   {
    "duration": 218,
    "start_time": "2022-03-01T06:47:29.968Z"
   },
   {
    "duration": 267,
    "start_time": "2022-03-01T06:48:26.751Z"
   },
   {
    "duration": 207,
    "start_time": "2022-03-01T06:49:38.995Z"
   },
   {
    "duration": 4,
    "start_time": "2022-03-01T06:49:47.294Z"
   },
   {
    "duration": 305,
    "start_time": "2022-03-01T06:49:50.619Z"
   },
   {
    "duration": 80,
    "start_time": "2022-03-01T06:54:16.972Z"
   },
   {
    "duration": 61,
    "start_time": "2022-03-01T06:54:46.411Z"
   },
   {
    "duration": 77,
    "start_time": "2022-03-01T06:55:20.463Z"
   },
   {
    "duration": 77,
    "start_time": "2022-03-01T06:56:59.611Z"
   },
   {
    "duration": 1141,
    "start_time": "2022-03-01T16:04:15.059Z"
   },
   {
    "duration": 369,
    "start_time": "2022-03-01T16:04:16.202Z"
   },
   {
    "duration": 27,
    "start_time": "2022-03-01T16:04:16.573Z"
   },
   {
    "duration": 60,
    "start_time": "2022-03-01T16:04:16.602Z"
   },
   {
    "duration": 124,
    "start_time": "2022-03-01T16:04:16.664Z"
   },
   {
    "duration": 123,
    "start_time": "2022-03-01T16:04:16.790Z"
   },
   {
    "duration": 210,
    "start_time": "2022-03-01T16:04:16.914Z"
   },
   {
    "duration": 202,
    "start_time": "2022-03-01T16:04:17.125Z"
   },
   {
    "duration": 202,
    "start_time": "2022-03-01T16:04:17.329Z"
   },
   {
    "duration": 14,
    "start_time": "2022-03-01T16:04:17.533Z"
   },
   {
    "duration": 22,
    "start_time": "2022-03-01T16:04:17.549Z"
   },
   {
    "duration": 13,
    "start_time": "2022-03-01T16:04:17.573Z"
   },
   {
    "duration": 188,
    "start_time": "2022-03-01T16:04:17.587Z"
   },
   {
    "duration": 200,
    "start_time": "2022-03-01T16:20:27.470Z"
   },
   {
    "duration": 3,
    "start_time": "2022-03-01T16:23:57.524Z"
   },
   {
    "duration": 412,
    "start_time": "2022-03-01T16:24:16.060Z"
   },
   {
    "duration": 5,
    "start_time": "2022-03-01T16:24:18.180Z"
   },
   {
    "duration": 7,
    "start_time": "2022-03-01T16:30:07.391Z"
   },
   {
    "duration": 17,
    "start_time": "2022-03-01T16:33:19.762Z"
   },
   {
    "duration": 444,
    "start_time": "2022-03-01T16:37:07.624Z"
   },
   {
    "duration": 5,
    "start_time": "2022-03-01T16:37:12.196Z"
   },
   {
    "duration": 403,
    "start_time": "2022-03-01T16:37:12.203Z"
   },
   {
    "duration": 27,
    "start_time": "2022-03-01T16:37:12.608Z"
   },
   {
    "duration": 48,
    "start_time": "2022-03-01T16:37:12.638Z"
   },
   {
    "duration": 134,
    "start_time": "2022-03-01T16:37:12.687Z"
   },
   {
    "duration": 117,
    "start_time": "2022-03-01T16:37:12.823Z"
   },
   {
    "duration": 208,
    "start_time": "2022-03-01T16:37:12.942Z"
   },
   {
    "duration": 194,
    "start_time": "2022-03-01T16:37:13.152Z"
   },
   {
    "duration": 200,
    "start_time": "2022-03-01T16:37:13.348Z"
   },
   {
    "duration": 13,
    "start_time": "2022-03-01T16:37:13.558Z"
   },
   {
    "duration": 36,
    "start_time": "2022-03-01T16:37:13.573Z"
   },
   {
    "duration": 36,
    "start_time": "2022-03-01T16:37:13.611Z"
   },
   {
    "duration": 421,
    "start_time": "2022-03-01T16:37:13.649Z"
   },
   {
    "duration": 88,
    "start_time": "2022-03-01T16:37:14.073Z"
   },
   {
    "duration": 116,
    "start_time": "2022-03-01T16:37:14.164Z"
   },
   {
    "duration": 5,
    "start_time": "2022-03-01T16:37:23.763Z"
   },
   {
    "duration": 6,
    "start_time": "2022-03-01T16:37:53.075Z"
   },
   {
    "duration": 4,
    "start_time": "2022-03-01T16:38:03.778Z"
   },
   {
    "duration": 4,
    "start_time": "2022-03-01T16:38:10.944Z"
   },
   {
    "duration": 5,
    "start_time": "2022-03-01T16:38:14.421Z"
   },
   {
    "duration": 298,
    "start_time": "2022-03-01T16:38:38.136Z"
   },
   {
    "duration": 4,
    "start_time": "2022-03-01T16:38:58.739Z"
   },
   {
    "duration": 4,
    "start_time": "2022-03-01T16:42:39.796Z"
   },
   {
    "duration": 3,
    "start_time": "2022-03-01T16:42:50.555Z"
   },
   {
    "duration": 5,
    "start_time": "2022-03-01T16:43:26.317Z"
   },
   {
    "duration": 3,
    "start_time": "2022-03-01T17:03:25.605Z"
   },
   {
    "duration": 5,
    "start_time": "2022-03-01T17:03:33.077Z"
   },
   {
    "duration": 4,
    "start_time": "2022-03-01T17:04:52.498Z"
   },
   {
    "duration": 4,
    "start_time": "2022-03-01T17:47:53.749Z"
   },
   {
    "duration": 213,
    "start_time": "2022-03-01T17:48:00.688Z"
   },
   {
    "duration": 59,
    "start_time": "2022-03-01T17:50:44.769Z"
   },
   {
    "duration": 8,
    "start_time": "2022-03-01T17:50:57.939Z"
   },
   {
    "duration": 9,
    "start_time": "2022-03-01T17:51:06.117Z"
   },
   {
    "duration": 12,
    "start_time": "2022-03-01T17:51:23.128Z"
   },
   {
    "duration": 4531,
    "start_time": "2022-03-01T17:52:54.627Z"
   },
   {
    "duration": 4561,
    "start_time": "2022-03-01T17:53:09.398Z"
   },
   {
    "duration": 11,
    "start_time": "2022-03-01T17:53:20.888Z"
   },
   {
    "duration": 187,
    "start_time": "2022-03-01T17:53:30.043Z"
   },
   {
    "duration": 8,
    "start_time": "2022-03-01T17:53:39.938Z"
   },
   {
    "duration": 202,
    "start_time": "2022-03-01T17:54:04.101Z"
   },
   {
    "duration": 6,
    "start_time": "2022-03-01T17:54:11.098Z"
   },
   {
    "duration": 4,
    "start_time": "2022-03-01T18:01:11.087Z"
   },
   {
    "duration": 197,
    "start_time": "2022-03-01T18:01:29.421Z"
   },
   {
    "duration": 10,
    "start_time": "2022-03-01T18:02:26.722Z"
   },
   {
    "duration": 11,
    "start_time": "2022-03-01T18:02:44.274Z"
   },
   {
    "duration": 4,
    "start_time": "2022-03-01T18:02:51.715Z"
   },
   {
    "duration": 5,
    "start_time": "2022-03-01T18:05:53.374Z"
   },
   {
    "duration": 198,
    "start_time": "2022-03-01T18:06:47.108Z"
   },
   {
    "duration": 8,
    "start_time": "2022-03-01T18:06:59.260Z"
   },
   {
    "duration": 4,
    "start_time": "2022-03-01T18:12:15.798Z"
   },
   {
    "duration": 405,
    "start_time": "2022-03-01T18:14:05.257Z"
   },
   {
    "duration": 4,
    "start_time": "2022-03-01T18:14:23.796Z"
   },
   {
    "duration": 4,
    "start_time": "2022-03-01T18:14:42.545Z"
   },
   {
    "duration": 368,
    "start_time": "2022-03-01T18:14:42.552Z"
   },
   {
    "duration": 38,
    "start_time": "2022-03-01T18:14:42.922Z"
   },
   {
    "duration": 32,
    "start_time": "2022-03-01T18:14:42.962Z"
   },
   {
    "duration": 133,
    "start_time": "2022-03-01T18:14:42.996Z"
   },
   {
    "duration": 130,
    "start_time": "2022-03-01T18:14:43.131Z"
   },
   {
    "duration": 202,
    "start_time": "2022-03-01T18:14:43.263Z"
   },
   {
    "duration": 266,
    "start_time": "2022-03-01T18:14:43.467Z"
   },
   {
    "duration": 192,
    "start_time": "2022-03-01T18:14:43.735Z"
   },
   {
    "duration": 14,
    "start_time": "2022-03-01T18:14:43.928Z"
   },
   {
    "duration": 16,
    "start_time": "2022-03-01T18:14:43.960Z"
   },
   {
    "duration": 16,
    "start_time": "2022-03-01T18:14:43.978Z"
   },
   {
    "duration": 473,
    "start_time": "2022-03-01T18:14:43.996Z"
   },
   {
    "duration": 89,
    "start_time": "2022-03-01T18:14:44.472Z"
   },
   {
    "duration": 100,
    "start_time": "2022-03-01T18:14:44.564Z"
   },
   {
    "duration": 10,
    "start_time": "2022-03-01T18:14:44.666Z"
   },
   {
    "duration": 15,
    "start_time": "2022-03-01T18:14:44.678Z"
   },
   {
    "duration": 4,
    "start_time": "2022-03-01T18:14:44.695Z"
   },
   {
    "duration": 23,
    "start_time": "2022-03-01T18:14:44.700Z"
   },
   {
    "duration": 27,
    "start_time": "2022-03-01T18:21:29.886Z"
   },
   {
    "duration": 20,
    "start_time": "2022-03-01T18:22:09.294Z"
   },
   {
    "duration": 20,
    "start_time": "2022-03-01T18:22:19.833Z"
   },
   {
    "duration": 20,
    "start_time": "2022-03-01T18:22:48.820Z"
   },
   {
    "duration": 20,
    "start_time": "2022-03-01T18:23:01.499Z"
   },
   {
    "duration": 19,
    "start_time": "2022-03-01T18:23:08.265Z"
   },
   {
    "duration": 19,
    "start_time": "2022-03-01T18:23:24.221Z"
   },
   {
    "duration": 19,
    "start_time": "2022-03-01T18:23:37.620Z"
   },
   {
    "duration": 19,
    "start_time": "2022-03-01T18:25:23.455Z"
   },
   {
    "duration": 5,
    "start_time": "2022-03-01T18:35:21.607Z"
   },
   {
    "duration": 344,
    "start_time": "2022-03-01T18:35:21.614Z"
   },
   {
    "duration": 24,
    "start_time": "2022-03-01T18:35:21.960Z"
   },
   {
    "duration": 31,
    "start_time": "2022-03-01T18:35:21.987Z"
   },
   {
    "duration": 130,
    "start_time": "2022-03-01T18:35:22.020Z"
   },
   {
    "duration": 129,
    "start_time": "2022-03-01T18:35:22.152Z"
   },
   {
    "duration": 191,
    "start_time": "2022-03-01T18:35:22.283Z"
   },
   {
    "duration": 237,
    "start_time": "2022-03-01T18:35:22.476Z"
   },
   {
    "duration": 205,
    "start_time": "2022-03-01T18:35:22.715Z"
   },
   {
    "duration": 13,
    "start_time": "2022-03-01T18:35:22.922Z"
   },
   {
    "duration": 30,
    "start_time": "2022-03-01T18:35:22.937Z"
   },
   {
    "duration": 13,
    "start_time": "2022-03-01T18:35:22.969Z"
   },
   {
    "duration": 484,
    "start_time": "2022-03-01T18:35:22.984Z"
   },
   {
    "duration": 90,
    "start_time": "2022-03-01T18:35:23.470Z"
   },
   {
    "duration": 96,
    "start_time": "2022-03-01T18:35:23.564Z"
   },
   {
    "duration": 5,
    "start_time": "2022-03-01T18:35:23.662Z"
   },
   {
    "duration": 8,
    "start_time": "2022-03-01T18:35:23.669Z"
   },
   {
    "duration": 5,
    "start_time": "2022-03-01T18:35:23.678Z"
   },
   {
    "duration": 23,
    "start_time": "2022-03-01T18:35:23.684Z"
   },
   {
    "duration": 195,
    "start_time": "2022-03-01T19:13:51.352Z"
   },
   {
    "duration": 6,
    "start_time": "2022-03-01T19:14:20.044Z"
   },
   {
    "duration": 6,
    "start_time": "2022-03-01T19:14:31.745Z"
   },
   {
    "duration": 5,
    "start_time": "2022-03-01T19:15:51.144Z"
   },
   {
    "duration": 5223,
    "start_time": "2022-03-01T19:18:38.100Z"
   },
   {
    "duration": 5,
    "start_time": "2022-03-01T19:20:25.740Z"
   },
   {
    "duration": 5269,
    "start_time": "2022-03-01T19:20:27.341Z"
   },
   {
    "duration": 1104,
    "start_time": "2022-03-01T19:20:49.588Z"
   },
   {
    "duration": 369,
    "start_time": "2022-03-01T19:20:50.694Z"
   },
   {
    "duration": 26,
    "start_time": "2022-03-01T19:20:51.065Z"
   },
   {
    "duration": 31,
    "start_time": "2022-03-01T19:20:51.093Z"
   },
   {
    "duration": 150,
    "start_time": "2022-03-01T19:20:51.126Z"
   },
   {
    "duration": 126,
    "start_time": "2022-03-01T19:20:51.277Z"
   },
   {
    "duration": 216,
    "start_time": "2022-03-01T19:20:51.405Z"
   },
   {
    "duration": 198,
    "start_time": "2022-03-01T19:20:51.625Z"
   },
   {
    "duration": 199,
    "start_time": "2022-03-01T19:20:51.825Z"
   },
   {
    "duration": 15,
    "start_time": "2022-03-01T19:20:52.026Z"
   },
   {
    "duration": 14,
    "start_time": "2022-03-01T19:20:52.063Z"
   },
   {
    "duration": 16,
    "start_time": "2022-03-01T19:20:52.079Z"
   },
   {
    "duration": 476,
    "start_time": "2022-03-01T19:20:52.098Z"
   },
   {
    "duration": 6,
    "start_time": "2022-03-01T19:20:52.660Z"
   },
   {
    "duration": 96,
    "start_time": "2022-03-01T19:20:52.668Z"
   },
   {
    "duration": 5,
    "start_time": "2022-03-01T19:20:52.765Z"
   },
   {
    "duration": 6,
    "start_time": "2022-03-01T19:20:52.772Z"
   },
   {
    "duration": 4,
    "start_time": "2022-03-01T19:20:52.780Z"
   },
   {
    "duration": 22,
    "start_time": "2022-03-01T19:20:52.785Z"
   },
   {
    "duration": 5,
    "start_time": "2022-03-01T19:20:52.808Z"
   },
   {
    "duration": 5175,
    "start_time": "2022-03-01T19:20:52.815Z"
   },
   {
    "duration": 1075,
    "start_time": "2022-03-01T19:38:41.116Z"
   },
   {
    "duration": 364,
    "start_time": "2022-03-01T19:38:42.194Z"
   },
   {
    "duration": 30,
    "start_time": "2022-03-01T19:38:42.561Z"
   },
   {
    "duration": 70,
    "start_time": "2022-03-01T19:38:42.593Z"
   },
   {
    "duration": 131,
    "start_time": "2022-03-01T19:38:42.665Z"
   },
   {
    "duration": 122,
    "start_time": "2022-03-01T19:38:42.798Z"
   },
   {
    "duration": 209,
    "start_time": "2022-03-01T19:38:42.922Z"
   },
   {
    "duration": 194,
    "start_time": "2022-03-01T19:38:43.134Z"
   },
   {
    "duration": 203,
    "start_time": "2022-03-01T19:38:43.331Z"
   },
   {
    "duration": 24,
    "start_time": "2022-03-01T19:38:43.536Z"
   },
   {
    "duration": 14,
    "start_time": "2022-03-01T19:38:43.562Z"
   },
   {
    "duration": 14,
    "start_time": "2022-03-01T19:38:43.578Z"
   },
   {
    "duration": 473,
    "start_time": "2022-03-01T19:38:43.594Z"
   },
   {
    "duration": 91,
    "start_time": "2022-03-01T19:38:44.073Z"
   },
   {
    "duration": 94,
    "start_time": "2022-03-01T19:38:44.167Z"
   },
   {
    "duration": 9,
    "start_time": "2022-03-01T19:38:44.263Z"
   },
   {
    "duration": 6,
    "start_time": "2022-03-01T19:38:44.274Z"
   },
   {
    "duration": 6,
    "start_time": "2022-03-01T19:38:44.282Z"
   },
   {
    "duration": 22,
    "start_time": "2022-03-01T19:38:44.290Z"
   },
   {
    "duration": 6,
    "start_time": "2022-03-01T19:38:44.314Z"
   },
   {
    "duration": 5302,
    "start_time": "2022-03-01T19:38:44.359Z"
   },
   {
    "duration": 1847,
    "start_time": "2022-03-18T09:29:21.666Z"
   },
   {
    "duration": 417,
    "start_time": "2022-03-18T09:29:23.516Z"
   },
   {
    "duration": 58,
    "start_time": "2022-03-18T09:29:23.935Z"
   },
   {
    "duration": 100,
    "start_time": "2022-03-18T09:29:23.996Z"
   },
   {
    "duration": 240,
    "start_time": "2022-03-18T09:29:24.099Z"
   },
   {
    "duration": 151,
    "start_time": "2022-03-18T09:29:24.341Z"
   },
   {
    "duration": 217,
    "start_time": "2022-03-18T09:29:24.495Z"
   },
   {
    "duration": 209,
    "start_time": "2022-03-18T09:29:24.714Z"
   },
   {
    "duration": 199,
    "start_time": "2022-03-18T09:29:24.926Z"
   },
   {
    "duration": 20,
    "start_time": "2022-03-18T09:29:25.128Z"
   },
   {
    "duration": 21,
    "start_time": "2022-03-18T09:29:25.167Z"
   },
   {
    "duration": 20,
    "start_time": "2022-03-18T09:29:25.190Z"
   },
   {
    "duration": 482,
    "start_time": "2022-03-18T09:29:25.213Z"
   },
   {
    "duration": 97,
    "start_time": "2022-03-18T09:29:25.772Z"
   },
   {
    "duration": 14,
    "start_time": "2022-03-18T09:29:25.871Z"
   },
   {
    "duration": 7,
    "start_time": "2022-03-18T09:29:25.887Z"
   },
   {
    "duration": 16,
    "start_time": "2022-03-18T09:29:25.896Z"
   },
   {
    "duration": 13,
    "start_time": "2022-03-18T09:29:25.914Z"
   },
   {
    "duration": 51,
    "start_time": "2022-03-18T09:29:25.929Z"
   },
   {
    "duration": 10,
    "start_time": "2022-03-18T09:29:25.983Z"
   },
   {
    "duration": 4518,
    "start_time": "2022-03-18T09:29:25.996Z"
   },
   {
    "duration": 6,
    "start_time": "2022-03-18T09:33:19.670Z"
   },
   {
    "duration": 601,
    "start_time": "2022-03-18T09:33:19.680Z"
   },
   {
    "duration": 37,
    "start_time": "2022-03-18T09:33:20.284Z"
   },
   {
    "duration": 94,
    "start_time": "2022-03-18T09:33:20.324Z"
   },
   {
    "duration": 221,
    "start_time": "2022-03-18T09:33:20.423Z"
   },
   {
    "duration": 153,
    "start_time": "2022-03-18T09:33:20.647Z"
   },
   {
    "duration": 203,
    "start_time": "2022-03-18T09:33:20.802Z"
   },
   {
    "duration": 211,
    "start_time": "2022-03-18T09:33:21.008Z"
   },
   {
    "duration": 279,
    "start_time": "2022-03-18T09:33:21.221Z"
   },
   {
    "duration": 22,
    "start_time": "2022-03-18T09:33:21.502Z"
   },
   {
    "duration": 50,
    "start_time": "2022-03-18T09:33:21.526Z"
   },
   {
    "duration": 24,
    "start_time": "2022-03-18T09:33:21.578Z"
   },
   {
    "duration": 479,
    "start_time": "2022-03-18T09:33:21.604Z"
   },
   {
    "duration": 84,
    "start_time": "2022-03-18T09:33:22.088Z"
   },
   {
    "duration": 107,
    "start_time": "2022-03-18T09:33:22.175Z"
   },
   {
    "duration": 11,
    "start_time": "2022-03-18T09:33:22.284Z"
   },
   {
    "duration": 10,
    "start_time": "2022-03-18T09:33:22.297Z"
   },
   {
    "duration": 7,
    "start_time": "2022-03-18T09:33:22.309Z"
   },
   {
    "duration": 55,
    "start_time": "2022-03-18T09:33:22.319Z"
   },
   {
    "duration": 8,
    "start_time": "2022-03-18T09:33:22.376Z"
   },
   {
    "duration": 4496,
    "start_time": "2022-03-18T09:33:22.386Z"
   }
  ],
  "kernelspec": {
   "display_name": "Python 3 (ipykernel)",
   "language": "python",
   "name": "python3"
  },
  "language_info": {
   "codemirror_mode": {
    "name": "ipython",
    "version": 3
   },
   "file_extension": ".py",
   "mimetype": "text/x-python",
   "name": "python",
   "nbconvert_exporter": "python",
   "pygments_lexer": "ipython3",
   "version": "3.9.5"
  },
  "toc": {
   "base_numbering": 1,
   "nav_menu": {},
   "number_sections": true,
   "sideBar": true,
   "skip_h1_title": true,
   "title_cell": "Содержание",
   "title_sidebar": "Contents",
   "toc_cell": true,
   "toc_position": {
    "height": "calc(100% - 180px)",
    "left": "10px",
    "top": "150px",
    "width": "302.391px"
   },
   "toc_section_display": true,
   "toc_window_display": true
  }
 },
 "nbformat": 4,
 "nbformat_minor": 2
}
