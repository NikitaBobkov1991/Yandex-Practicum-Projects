{
 "cells": [
  {
   "cell_type": "markdown",
   "metadata": {
    "toc": true
   },
   "source": [
    "<h1>Содержание<span class=\"tocSkip\"></span></h1>\n",
    "<div class=\"toc\"><ul class=\"toc-item\"><li><span><a href=\"#Изучение-файла\" data-toc-modified-id=\"Изучение-файла-1\"><span class=\"toc-item-num\">1&nbsp;&nbsp;</span>Изучение файла</a></span><ul class=\"toc-item\"><li><span><a href=\"#Загрузка-необходимых-для-решения-библиотек:\" data-toc-modified-id=\"Загрузка-необходимых-для-решения-библиотек:-1.1\"><span class=\"toc-item-num\">1.1&nbsp;&nbsp;</span>Загрузка необходимых для решения библиотек:</a></span></li><li><span><a href=\"#Ознакомление-с-данными\" data-toc-modified-id=\"Ознакомление-с-данными-1.2\"><span class=\"toc-item-num\">1.2&nbsp;&nbsp;</span>Ознакомление с данными</a></span></li></ul></li><li><span><a href=\"#Разделение-данных-на-выборки\" data-toc-modified-id=\"Разделение-данных-на-выборки-2\"><span class=\"toc-item-num\">2&nbsp;&nbsp;</span>Разделение данных на выборки</a></span></li><li><span><a href=\"#Исследуйте-модели\" data-toc-modified-id=\"Исследуйте-модели-3\"><span class=\"toc-item-num\">3&nbsp;&nbsp;</span>Исследуйте модели</a></span><ul class=\"toc-item\"><li><span><a href=\"#Модель-Random-Forest\" data-toc-modified-id=\"Модель-Random-Forest-3.1\"><span class=\"toc-item-num\">3.1&nbsp;&nbsp;</span>Модель Random Forest</a></span></li><li><span><a href=\"#Модель-Decision-Tree\" data-toc-modified-id=\"Модель-Decision-Tree-3.2\"><span class=\"toc-item-num\">3.2&nbsp;&nbsp;</span>Модель Decision Tree</a></span></li><li><span><a href=\"#Модель-Logistic-Regression\" data-toc-modified-id=\"Модель-Logistic-Regression-3.3\"><span class=\"toc-item-num\">3.3&nbsp;&nbsp;</span>Модель Logistic Regression</a></span></li><li><span><a href=\"#Вывод\" data-toc-modified-id=\"Вывод-3.4\"><span class=\"toc-item-num\">3.4&nbsp;&nbsp;</span>Вывод</a></span></li></ul></li><li><span><a href=\"#Проверка-моделей-на-тестовой-выборке\" data-toc-modified-id=\"Проверка-моделей-на-тестовой-выборке-4\"><span class=\"toc-item-num\">4&nbsp;&nbsp;</span>Проверка моделей на тестовой выборке</a></span></li></ul></div>"
   ]
  },
  {
   "cell_type": "markdown",
   "metadata": {},
   "source": [
    "# Рекомендация тарифов"
   ]
  },
  {
   "cell_type": "markdown",
   "metadata": {},
   "source": [
    "В вашем распоряжении данные о поведении клиентов, которые уже перешли на эти тарифы (из проекта курса «Статистический анализ данных»). Нужно построить модель для задачи классификации, которая выберет подходящий тариф. Предобработка данных не понадобится — вы её уже сделали.\n",
    "\n",
    "Постройте модель с максимально большим значением *accuracy*. Чтобы сдать проект успешно, нужно довести долю правильных ответов по крайней мере до 0.75. Проверьте *accuracy* на тестовой выборке самостоятельно."
   ]
  },
  {
   "cell_type": "markdown",
   "metadata": {},
   "source": [
    "## Изучение файла"
   ]
  },
  {
   "cell_type": "markdown",
   "metadata": {},
   "source": [
    "### Загрузка необходимых для решения библиотек:"
   ]
  },
  {
   "cell_type": "code",
   "execution_count": 1,
   "metadata": {},
   "outputs": [],
   "source": [
    "#для работы с таблицами\n",
    "import pandas as pd\n",
    "\n",
    "#для разделения таблицы на выборки\n",
    "from sklearn.model_selection import train_test_split\n",
    "\n",
    "#три различные модели решения\n",
    "from sklearn.linear_model import LogisticRegression\n",
    "from sklearn.ensemble import RandomForestClassifier\n",
    "from sklearn.tree import DecisionTreeClassifier\n",
    "\n",
    "#для вычисления точности предсказания модели\n",
    "from sklearn.metrics import accuracy_score\n",
    "\n",
    "#модуль, который выводит на консоль динамически обновляемый индикатор выполнения\n",
    "from tqdm import tqdm"
   ]
  },
  {
   "cell_type": "markdown",
   "metadata": {},
   "source": [
    "### Ознакомление с данными"
   ]
  },
  {
   "cell_type": "markdown",
   "metadata": {},
   "source": [
    "Каждый объект в наборе данных — это информация о поведении одного пользователя за месяц. Известно:  \n",
    "* сalls — количество звонков,  \n",
    "* minutes — суммарная длительность звонков в минутах,  \n",
    "* messages — количество sms-сообщений,  \n",
    "* mb_used — израсходованный интернет-трафик в Мб,  \n",
    "* is_ultra — каким тарифом пользовался в течение месяца («Ультра» — 1, «Смарт» — 0)."
   ]
  },
  {
   "cell_type": "markdown",
   "metadata": {},
   "source": [
    "Откроем и изучим файл с данными:"
   ]
  },
  {
   "cell_type": "code",
   "execution_count": 2,
   "metadata": {},
   "outputs": [
    {
     "data": {
      "text/html": [
       "<div>\n",
       "<style scoped>\n",
       "    .dataframe tbody tr th:only-of-type {\n",
       "        vertical-align: middle;\n",
       "    }\n",
       "\n",
       "    .dataframe tbody tr th {\n",
       "        vertical-align: top;\n",
       "    }\n",
       "\n",
       "    .dataframe thead th {\n",
       "        text-align: right;\n",
       "    }\n",
       "</style>\n",
       "<table border=\"1\" class=\"dataframe\">\n",
       "  <thead>\n",
       "    <tr style=\"text-align: right;\">\n",
       "      <th></th>\n",
       "      <th>calls</th>\n",
       "      <th>minutes</th>\n",
       "      <th>messages</th>\n",
       "      <th>mb_used</th>\n",
       "      <th>is_ultra</th>\n",
       "    </tr>\n",
       "  </thead>\n",
       "  <tbody>\n",
       "    <tr>\n",
       "      <th>0</th>\n",
       "      <td>40.0</td>\n",
       "      <td>311.90</td>\n",
       "      <td>83.0</td>\n",
       "      <td>19915.42</td>\n",
       "      <td>0</td>\n",
       "    </tr>\n",
       "    <tr>\n",
       "      <th>1</th>\n",
       "      <td>85.0</td>\n",
       "      <td>516.75</td>\n",
       "      <td>56.0</td>\n",
       "      <td>22696.96</td>\n",
       "      <td>0</td>\n",
       "    </tr>\n",
       "    <tr>\n",
       "      <th>2</th>\n",
       "      <td>77.0</td>\n",
       "      <td>467.66</td>\n",
       "      <td>86.0</td>\n",
       "      <td>21060.45</td>\n",
       "      <td>0</td>\n",
       "    </tr>\n",
       "    <tr>\n",
       "      <th>3</th>\n",
       "      <td>106.0</td>\n",
       "      <td>745.53</td>\n",
       "      <td>81.0</td>\n",
       "      <td>8437.39</td>\n",
       "      <td>1</td>\n",
       "    </tr>\n",
       "    <tr>\n",
       "      <th>4</th>\n",
       "      <td>66.0</td>\n",
       "      <td>418.74</td>\n",
       "      <td>1.0</td>\n",
       "      <td>14502.75</td>\n",
       "      <td>0</td>\n",
       "    </tr>\n",
       "  </tbody>\n",
       "</table>\n",
       "</div>"
      ],
      "text/plain": [
       "   calls  minutes  messages   mb_used  is_ultra\n",
       "0   40.0   311.90      83.0  19915.42         0\n",
       "1   85.0   516.75      56.0  22696.96         0\n",
       "2   77.0   467.66      86.0  21060.45         0\n",
       "3  106.0   745.53      81.0   8437.39         1\n",
       "4   66.0   418.74       1.0  14502.75         0"
      ]
     },
     "execution_count": 2,
     "metadata": {},
     "output_type": "execute_result"
    }
   ],
   "source": [
    "df = pd.read_csv('/datasets/users_behavior.csv')\n",
    "df.head()"
   ]
  },
  {
   "cell_type": "markdown",
   "metadata": {},
   "source": [
    "Оценим информацию о столбцах таблицы:"
   ]
  },
  {
   "cell_type": "code",
   "execution_count": 3,
   "metadata": {
    "scrolled": true
   },
   "outputs": [
    {
     "name": "stdout",
     "output_type": "stream",
     "text": [
      "<class 'pandas.core.frame.DataFrame'>\n",
      "RangeIndex: 3214 entries, 0 to 3213\n",
      "Data columns (total 5 columns):\n",
      " #   Column    Non-Null Count  Dtype  \n",
      "---  ------    --------------  -----  \n",
      " 0   calls     3214 non-null   float64\n",
      " 1   minutes   3214 non-null   float64\n",
      " 2   messages  3214 non-null   float64\n",
      " 3   mb_used   3214 non-null   float64\n",
      " 4   is_ultra  3214 non-null   int64  \n",
      "dtypes: float64(4), int64(1)\n",
      "memory usage: 125.7 KB\n"
     ]
    }
   ],
   "source": [
    "df.info()"
   ]
  },
  {
   "cell_type": "markdown",
   "metadata": {},
   "source": [
    "Как видно из информации выше, в таблице нет пропусков. Однако, столбец massages принадлежит к типу данных \"число с плавающей точкой\", что является некорректным: количество sms-сообщений не может быть дробным.  \n",
    "\n",
    "Исправим тип данных в этом столбце на целочисленный:"
   ]
  },
  {
   "cell_type": "code",
   "execution_count": 4,
   "metadata": {},
   "outputs": [],
   "source": [
    "df['messages'] = df['messages'].astype('int')"
   ]
  },
  {
   "cell_type": "markdown",
   "metadata": {},
   "source": [
    "Оценим количество полных дубликатов в таблице:"
   ]
  },
  {
   "cell_type": "code",
   "execution_count": 5,
   "metadata": {},
   "outputs": [
    {
     "name": "stdout",
     "output_type": "stream",
     "text": [
      "Число полных дубликатов в таблице равно: 0\n"
     ]
    }
   ],
   "source": [
    "print('Число полных дубликатов в таблице равно:', df.duplicated().sum())"
   ]
  },
  {
   "cell_type": "markdown",
   "metadata": {},
   "source": [
    "Оценим разброс значений в столбцах таблицы:"
   ]
  },
  {
   "cell_type": "code",
   "execution_count": 6,
   "metadata": {
    "scrolled": false
   },
   "outputs": [
    {
     "data": {
      "text/html": [
       "<div>\n",
       "<style scoped>\n",
       "    .dataframe tbody tr th:only-of-type {\n",
       "        vertical-align: middle;\n",
       "    }\n",
       "\n",
       "    .dataframe tbody tr th {\n",
       "        vertical-align: top;\n",
       "    }\n",
       "\n",
       "    .dataframe thead th {\n",
       "        text-align: right;\n",
       "    }\n",
       "</style>\n",
       "<table border=\"1\" class=\"dataframe\">\n",
       "  <thead>\n",
       "    <tr style=\"text-align: right;\">\n",
       "      <th></th>\n",
       "      <th>calls</th>\n",
       "      <th>minutes</th>\n",
       "      <th>messages</th>\n",
       "      <th>mb_used</th>\n",
       "      <th>is_ultra</th>\n",
       "    </tr>\n",
       "  </thead>\n",
       "  <tbody>\n",
       "    <tr>\n",
       "      <th>count</th>\n",
       "      <td>3214.000000</td>\n",
       "      <td>3214.000000</td>\n",
       "      <td>3214.000000</td>\n",
       "      <td>3214.000000</td>\n",
       "      <td>3214.000000</td>\n",
       "    </tr>\n",
       "    <tr>\n",
       "      <th>mean</th>\n",
       "      <td>63.038892</td>\n",
       "      <td>438.208787</td>\n",
       "      <td>38.281269</td>\n",
       "      <td>17207.673836</td>\n",
       "      <td>0.306472</td>\n",
       "    </tr>\n",
       "    <tr>\n",
       "      <th>std</th>\n",
       "      <td>33.236368</td>\n",
       "      <td>234.569872</td>\n",
       "      <td>36.148326</td>\n",
       "      <td>7570.968246</td>\n",
       "      <td>0.461100</td>\n",
       "    </tr>\n",
       "    <tr>\n",
       "      <th>min</th>\n",
       "      <td>0.000000</td>\n",
       "      <td>0.000000</td>\n",
       "      <td>0.000000</td>\n",
       "      <td>0.000000</td>\n",
       "      <td>0.000000</td>\n",
       "    </tr>\n",
       "    <tr>\n",
       "      <th>25%</th>\n",
       "      <td>40.000000</td>\n",
       "      <td>274.575000</td>\n",
       "      <td>9.000000</td>\n",
       "      <td>12491.902500</td>\n",
       "      <td>0.000000</td>\n",
       "    </tr>\n",
       "    <tr>\n",
       "      <th>50%</th>\n",
       "      <td>62.000000</td>\n",
       "      <td>430.600000</td>\n",
       "      <td>30.000000</td>\n",
       "      <td>16943.235000</td>\n",
       "      <td>0.000000</td>\n",
       "    </tr>\n",
       "    <tr>\n",
       "      <th>75%</th>\n",
       "      <td>82.000000</td>\n",
       "      <td>571.927500</td>\n",
       "      <td>57.000000</td>\n",
       "      <td>21424.700000</td>\n",
       "      <td>1.000000</td>\n",
       "    </tr>\n",
       "    <tr>\n",
       "      <th>max</th>\n",
       "      <td>244.000000</td>\n",
       "      <td>1632.060000</td>\n",
       "      <td>224.000000</td>\n",
       "      <td>49745.730000</td>\n",
       "      <td>1.000000</td>\n",
       "    </tr>\n",
       "  </tbody>\n",
       "</table>\n",
       "</div>"
      ],
      "text/plain": [
       "             calls      minutes     messages       mb_used     is_ultra\n",
       "count  3214.000000  3214.000000  3214.000000   3214.000000  3214.000000\n",
       "mean     63.038892   438.208787    38.281269  17207.673836     0.306472\n",
       "std      33.236368   234.569872    36.148326   7570.968246     0.461100\n",
       "min       0.000000     0.000000     0.000000      0.000000     0.000000\n",
       "25%      40.000000   274.575000     9.000000  12491.902500     0.000000\n",
       "50%      62.000000   430.600000    30.000000  16943.235000     0.000000\n",
       "75%      82.000000   571.927500    57.000000  21424.700000     1.000000\n",
       "max     244.000000  1632.060000   224.000000  49745.730000     1.000000"
      ]
     },
     "execution_count": 6,
     "metadata": {},
     "output_type": "execute_result"
    }
   ],
   "source": [
    "df.describe()"
   ]
  },
  {
   "cell_type": "markdown",
   "metadata": {},
   "source": [
    "Из информации выше видно, что ряд пользователей не используют или функционал звонков, или sms-сообщений, или интернет в рамках тарифа оператора связи."
   ]
  },
  {
   "cell_type": "markdown",
   "metadata": {},
   "source": [
    "Оценим корреляцию данных в столбцах таблицы:"
   ]
  },
  {
   "cell_type": "code",
   "execution_count": 7,
   "metadata": {
    "scrolled": true
   },
   "outputs": [
    {
     "data": {
      "text/html": [
       "<div>\n",
       "<style scoped>\n",
       "    .dataframe tbody tr th:only-of-type {\n",
       "        vertical-align: middle;\n",
       "    }\n",
       "\n",
       "    .dataframe tbody tr th {\n",
       "        vertical-align: top;\n",
       "    }\n",
       "\n",
       "    .dataframe thead th {\n",
       "        text-align: right;\n",
       "    }\n",
       "</style>\n",
       "<table border=\"1\" class=\"dataframe\">\n",
       "  <thead>\n",
       "    <tr style=\"text-align: right;\">\n",
       "      <th></th>\n",
       "      <th>calls</th>\n",
       "      <th>minutes</th>\n",
       "      <th>messages</th>\n",
       "      <th>mb_used</th>\n",
       "      <th>is_ultra</th>\n",
       "    </tr>\n",
       "  </thead>\n",
       "  <tbody>\n",
       "    <tr>\n",
       "      <th>calls</th>\n",
       "      <td>1.000000</td>\n",
       "      <td>0.982083</td>\n",
       "      <td>0.177385</td>\n",
       "      <td>0.286442</td>\n",
       "      <td>0.207122</td>\n",
       "    </tr>\n",
       "    <tr>\n",
       "      <th>minutes</th>\n",
       "      <td>0.982083</td>\n",
       "      <td>1.000000</td>\n",
       "      <td>0.173110</td>\n",
       "      <td>0.280967</td>\n",
       "      <td>0.206955</td>\n",
       "    </tr>\n",
       "    <tr>\n",
       "      <th>messages</th>\n",
       "      <td>0.177385</td>\n",
       "      <td>0.173110</td>\n",
       "      <td>1.000000</td>\n",
       "      <td>0.195721</td>\n",
       "      <td>0.203830</td>\n",
       "    </tr>\n",
       "    <tr>\n",
       "      <th>mb_used</th>\n",
       "      <td>0.286442</td>\n",
       "      <td>0.280967</td>\n",
       "      <td>0.195721</td>\n",
       "      <td>1.000000</td>\n",
       "      <td>0.198568</td>\n",
       "    </tr>\n",
       "    <tr>\n",
       "      <th>is_ultra</th>\n",
       "      <td>0.207122</td>\n",
       "      <td>0.206955</td>\n",
       "      <td>0.203830</td>\n",
       "      <td>0.198568</td>\n",
       "      <td>1.000000</td>\n",
       "    </tr>\n",
       "  </tbody>\n",
       "</table>\n",
       "</div>"
      ],
      "text/plain": [
       "             calls   minutes  messages   mb_used  is_ultra\n",
       "calls     1.000000  0.982083  0.177385  0.286442  0.207122\n",
       "minutes   0.982083  1.000000  0.173110  0.280967  0.206955\n",
       "messages  0.177385  0.173110  1.000000  0.195721  0.203830\n",
       "mb_used   0.286442  0.280967  0.195721  1.000000  0.198568\n",
       "is_ultra  0.207122  0.206955  0.203830  0.198568  1.000000"
      ]
     },
     "execution_count": 7,
     "metadata": {},
     "output_type": "execute_result"
    }
   ],
   "source": [
    "df.corr()"
   ]
  },
  {
   "cell_type": "markdown",
   "metadata": {},
   "source": [
    "Из данных выше видно, что взаимное влияние количества совершенных звонков и количества потраченных минут является крайне сильным, то есть обнаружено 2 параметра с высокой корреляцией.  \n",
    "Для возможного улучшения работы моделей предлагается рассмотреть следующий подход- проводить эксперименты по удалению этих признаков: сначала обучить модель на всех признаках и измерить качество, далее по очереди удалять по одному из этих признаков и снова измерять качество."
   ]
  },
  {
   "cell_type": "markdown",
   "metadata": {},
   "source": [
    "## Разделение данных на выборки"
   ]
  },
  {
   "cell_type": "markdown",
   "metadata": {},
   "source": [
    "Разделим исходные данные на обучающую, валидационную и тестовую выборки в соотношении 3:1:1."
   ]
  },
  {
   "cell_type": "markdown",
   "metadata": {},
   "source": [
    "Перед этим выделим:  \n",
    "* _целевой признак_ - (тип тарифа) столбец is_ultra;\n",
    "* _матрицу признаков_ - столбцы calls, minutes, messages, mb_used."
   ]
  },
  {
   "cell_type": "code",
   "execution_count": 8,
   "metadata": {},
   "outputs": [],
   "source": [
    "#выделяем целевой признак, оставляя в нем только столбец с категориальным признаком\n",
    "target = df['is_ultra']\n",
    "#выделяем матрицу признаков, вычитая из таблицы целевой признак (удаляя столбец)\n",
    "features = df.drop(['is_ultra'], axis=1)"
   ]
  },
  {
   "cell_type": "markdown",
   "metadata": {},
   "source": [
    "Выделим обучающую выборку, она составит 60% от общего числа данных:"
   ]
  },
  {
   "cell_type": "code",
   "execution_count": 9,
   "metadata": {},
   "outputs": [],
   "source": [
    "(features_train, \n",
    " features_part_2, \n",
    " target_train, \n",
    " target_part_2) = train_test_split(features, \n",
    "                                  target, \n",
    "                                  test_size=0.4, \n",
    "                                  random_state=12345) \n",
    "# отделим 40% данных для дальнейшего разбиения на валидационную и тестовую выборки\n",
    "# при этом 60% данных останется для обучения модели в переменных features_train и target_train\n",
    "# features_train - тренировочная матрица признаков\n",
    "# target_train - тренировочный целевой признак\n",
    "\n",
    "# для разделения данных используется функция train_test_split библиотеки sklearn.model_selection\n",
    "# random_state=12345 - произвольное фиксированное состояние модели"
   ]
  },
  {
   "cell_type": "markdown",
   "metadata": {},
   "source": [
    "Выделим валидационные и тестовые выборки:"
   ]
  },
  {
   "cell_type": "code",
   "execution_count": 10,
   "metadata": {},
   "outputs": [],
   "source": [
    "(features_valid, \n",
    " features_test, \n",
    " target_valid, \n",
    " target_test) = train_test_split(features_part_2, \n",
    "                                  target_part_2, \n",
    "                                  test_size=0.5, \n",
    "                                  random_state=12345)\n",
    "# разделим оставшиеся данные пополам: на валидационную и тестовую выборки"
   ]
  },
  {
   "cell_type": "markdown",
   "metadata": {},
   "source": [
    "Таким образом мы получили:  \n",
    "1) для непосредственного обучения модели - обучающую  выборку\n",
    "* features_train - тренировочную матрицу признаков\n",
    "* target_train - тренировочный целевой признак \n",
    "\n",
    "2) для выбора наилучшей модели машинного обучения - проверочную (валидационную) выборку  \n",
    "* features_valid - валидационную матрицу признаков\n",
    "* target_valid - валидационый целевой признак  \n",
    "\n",
    "3) для оценки качества модели - тестовую выборку  \n",
    "* features_test - тестовая матрица признаков  \n",
    "* target_test - тестовый целевой признак"
   ]
  },
  {
   "cell_type": "markdown",
   "metadata": {},
   "source": [
    "## Исследуйте модели"
   ]
  },
  {
   "cell_type": "markdown",
   "metadata": {},
   "source": [
    "### Модель Random Forest"
   ]
  },
  {
   "cell_type": "markdown",
   "metadata": {},
   "source": [
    "По сути, Random Forest является композицией (ансамблем) множества решающих деревьев, что позволяет снизить проблему переобучения и повысить точность в сравнении с одним деревом. Прогноз получается в результате агрегирования ответов множества деревьев. Тренировка деревьев происходит независимо друг от друга (на разных подмножествах), что решает проблему построения одинаковых деревьев на одном и том же наборе данных.  \n",
    "[Источник](https://habr.com/ru/post/320726/)"
   ]
  },
  {
   "cell_type": "code",
   "execution_count": 11,
   "metadata": {
    "scrolled": true
   },
   "outputs": [
    {
     "name": "stderr",
     "output_type": "stream",
     "text": [
      "100%|██████████| 5/5 [00:02<00:00,  1.73it/s]"
     ]
    },
    {
     "name": "stdout",
     "output_type": "stream",
     "text": [
      "Точность лучшей модели Random Forest: 0.807153965785381\n",
      "Глубина лучшей модели Random Forest: 8\n",
      "Количество деревьев лучшей модели Random Forest: 41\n"
     ]
    },
    {
     "name": "stderr",
     "output_type": "stream",
     "text": [
      "\n"
     ]
    }
   ],
   "source": [
    "# лучшая модель \"случайного леса\"\n",
    "best_RF = None\n",
    "# точность лучшей модели\n",
    "best_accuracy_RF = 0\n",
    "# количество деревьев лучшей модели\n",
    "best_est_RF = 0\n",
    "# глубина лучшей модели\n",
    "best_depth_RF = 0\n",
    "\n",
    "# цикл от 1 до 50 с шагом в 10 для количества деревьев\n",
    "for est in tqdm(range(1,51, 10)):\n",
    "    #глубина каждого дерева от 2 до 10 с шагом 1\n",
    "    for depth in range(2, 10):\n",
    "        # объявляем модель Random Forest с заданным количеством деревьев, заданной глубиной\n",
    "        model_RF = RandomForestClassifier(random_state = 12345, \n",
    "                                          n_estimators = est,\n",
    "                                          max_depth = depth)\n",
    "        # обучаем модель на тренировочной выборке\n",
    "        model_RF.fit(features_train,target_train)\n",
    "        # получаем предсказания модели на валидационной выборке\n",
    "        prediction_valid_RF = model_RF.predict(features_valid)\n",
    "        #считаем точность предсказания модели\n",
    "        accuracy_RF = accuracy_score(prediction_valid_RF, target_valid)\n",
    "        #обновляем данные о лучшей модели\n",
    "        if best_accuracy_RF < accuracy_RF:\n",
    "            best_RF = model_RF\n",
    "            best_depth_RF = depth\n",
    "            best_est_RF = est\n",
    "            best_accuracy_RF = accuracy_RF\n",
    "\n",
    "# выводим точность лучшей модели\n",
    "print(f\"Точность лучшей модели Random Forest: {best_accuracy_RF}\")\n",
    "print(f\"Глубина лучшей модели Random Forest: {best_depth_RF}\")\n",
    "print(f\"Количество деревьев лучшей модели Random Forest: {best_est_RF}\")"
   ]
  },
  {
   "cell_type": "markdown",
   "metadata": {},
   "source": [
    "### Модель Decision Tree"
   ]
  },
  {
   "cell_type": "markdown",
   "metadata": {},
   "source": [
    "В основе популярных алгоритмов построения дерева решений лежит принцип жадной максимизации прироста информации – на каждом шаге выбирается тот признак, при разделении по которому прирост информации оказывается наибольшим. Дальше процедура повторяется рекурсивно, пока энтропия не окажется равной нулю или какой-то малой величине.  \n",
    "[Источник](https://habr.com/ru/company/ods/blog/322534/)"
   ]
  },
  {
   "cell_type": "code",
   "execution_count": 12,
   "metadata": {},
   "outputs": [
    {
     "name": "stderr",
     "output_type": "stream",
     "text": [
      "100%|██████████| 5/5 [00:00<00:00, 68.67it/s]"
     ]
    },
    {
     "name": "stdout",
     "output_type": "stream",
     "text": [
      "Точность лучшей модели Decision Tree: 0.7822706065318819\n",
      "Глубина лучшей модели Decision Tree: 2\n"
     ]
    },
    {
     "name": "stderr",
     "output_type": "stream",
     "text": [
      "\n"
     ]
    }
   ],
   "source": [
    "# лучшая модель \"дерева решений\"\n",
    "best_DT = None\n",
    "# точность лучшей модели\n",
    "best_accuracy_DT = 0\n",
    "# глубина дерева для лучшей модели\n",
    "best_depth_DT = 0\n",
    "# цикл от 2 до 50 с шагом в 10 для глубины дерева\n",
    "for depth in tqdm(range(2,52,10)):\n",
    "    # объявляем модель Decision Tree с заданной глубиной\n",
    "    model_DT = DecisionTreeClassifier(random_state = 12345, max_depth = depth)\n",
    "    # обучаем модель на тренировочной выборке\n",
    "    model_DT.fit(features_train,target_train)\n",
    "    # получаем предсказания модели на валидационной выборке\n",
    "    prediction_valid_DT = model_DT.predict(features_valid)\n",
    "    #считаем точность предсказания модели\n",
    "    accuracy_DT = accuracy_score(prediction_valid_DT, target_valid)\n",
    "    #обновляем данные о лучшей модели\n",
    "    if best_accuracy_DT < accuracy_DT:\n",
    "        best_DT = model_DT\n",
    "        best_accuracy_DT = accuracy_DT\n",
    "        best_depth_DT = depth\n",
    "\n",
    "# выводим точность лучшей модели\n",
    "print(f\"Точность лучшей модели Decision Tree: {best_accuracy_DT}\")\n",
    "print(f\"Глубина лучшей модели Decision Tree: {best_depth_DT}\")"
   ]
  },
  {
   "cell_type": "markdown",
   "metadata": {},
   "source": [
    "### Модель Logistic Regression"
   ]
  },
  {
   "cell_type": "markdown",
   "metadata": {},
   "source": [
    "Логистическая регрессия – это алгоритм классификации, используемый для отнесения наблюдений к дискретному набору классов.  \n",
    "[Источник](https://www.helenkapatsa.ru/loghistichieskaia-rieghriessiia/)"
   ]
  },
  {
   "cell_type": "code",
   "execution_count": 13,
   "metadata": {
    "scrolled": true
   },
   "outputs": [
    {
     "name": "stdout",
     "output_type": "stream",
     "text": [
      "Точность лучшей модели Logistic Regression: 0.7107309486780715\n"
     ]
    }
   ],
   "source": [
    "model_LR = LogisticRegression(random_state = 12345)\n",
    "model_LR.fit(features_train,target_train)\n",
    "prediction_valid_LR = model_LR.predict(features_valid)\n",
    "accuracy_LR = accuracy_score(prediction_valid_LR, target_valid)\n",
    "\n",
    "print(f\"Точность лучшей модели Logistic Regression: {accuracy_LR}\")"
   ]
  },
  {
   "cell_type": "markdown",
   "metadata": {},
   "source": [
    "### Вывод"
   ]
  },
  {
   "cell_type": "markdown",
   "metadata": {},
   "source": [
    "Основываясь на показателе точности (accuracy), делаем вывод, что наиболее качественные результаты прогнозирует моедель Random Forest.  \n",
    "Точность лучшей модели Random Forest: 0.807153965785381"
   ]
  },
  {
   "cell_type": "markdown",
   "metadata": {},
   "source": [
    "## Проверка моделей на тестовой выборке"
   ]
  },
  {
   "cell_type": "code",
   "execution_count": 14,
   "metadata": {},
   "outputs": [],
   "source": [
    "# получаем предсказания моделей на тестовой выборке\n",
    "prediction_test_RF = best_RF.predict(features_test)\n",
    "prediction_test_DT = best_DT.predict(features_test)\n",
    "prediction_test_LR = model_LR.predict(features_test)"
   ]
  },
  {
   "cell_type": "code",
   "execution_count": 15,
   "metadata": {
    "scrolled": true
   },
   "outputs": [
    {
     "name": "stdout",
     "output_type": "stream",
     "text": [
      "Точность модели Random Forest на тестовой выборке: 0.7978227060653188\n",
      "Точность модели Decision Tree на тестовой выборке: 0.7744945567651633\n",
      "Точность модели Logistic Regression на тестовой выборке: 0.6842923794712286\n"
     ]
    }
   ],
   "source": [
    "#считаем точность предсказания моделей\n",
    "accuracy_RF_test = accuracy_score(prediction_test_RF, target_test)\n",
    "accuracy_DT_test = accuracy_score(prediction_test_DT, target_test)\n",
    "accuracy_LR_test = accuracy_score(prediction_test_LR, target_test)\n",
    "# выводим точность моделей для тестовой выборки\n",
    "print(f\"Точность модели Random Forest на тестовой выборке: {accuracy_RF_test}\")\n",
    "print(f\"Точность модели Decision Tree на тестовой выборке: {accuracy_DT_test}\")\n",
    "print(f\"Точность модели Logistic Regression на тестовой выборке: {accuracy_LR_test}\")"
   ]
  }
 ],
 "metadata": {
  "ExecuteTimeLog": [
   {
    "duration": 1105,
    "start_time": "2022-02-01T16:49:55.478Z"
   },
   {
    "duration": 30,
    "start_time": "2022-02-01T16:55:25.421Z"
   },
   {
    "duration": 9,
    "start_time": "2022-02-01T17:00:46.684Z"
   },
   {
    "duration": 4,
    "start_time": "2022-02-01T17:09:11.750Z"
   },
   {
    "duration": 7,
    "start_time": "2022-02-01T17:10:18.058Z"
   },
   {
    "duration": 6,
    "start_time": "2022-02-01T17:10:48.326Z"
   },
   {
    "duration": 33,
    "start_time": "2022-02-01T17:12:11.572Z"
   },
   {
    "duration": 6,
    "start_time": "2022-02-01T17:13:44.924Z"
   },
   {
    "duration": 12,
    "start_time": "2022-02-01T17:17:23.760Z"
   },
   {
    "duration": 5,
    "start_time": "2022-02-01T17:53:21.044Z"
   },
   {
    "duration": 5,
    "start_time": "2022-02-01T17:53:31.239Z"
   },
   {
    "duration": 8,
    "start_time": "2022-02-01T17:53:40.432Z"
   },
   {
    "duration": 3,
    "start_time": "2022-02-01T17:53:49.956Z"
   },
   {
    "duration": 4,
    "start_time": "2022-02-01T17:55:24.160Z"
   },
   {
    "duration": 5,
    "start_time": "2022-02-01T18:06:36.240Z"
   },
   {
    "duration": 6,
    "start_time": "2022-02-01T18:07:17.575Z"
   },
   {
    "duration": 5,
    "start_time": "2022-02-01T18:11:02.241Z"
   },
   {
    "duration": 5,
    "start_time": "2022-02-01T18:11:16.411Z"
   },
   {
    "duration": 1116,
    "start_time": "2022-02-01T18:11:27.930Z"
   },
   {
    "duration": 5,
    "start_time": "2022-02-01T18:11:45.659Z"
   },
   {
    "duration": 5,
    "start_time": "2022-02-01T18:11:50.800Z"
   },
   {
    "duration": 5469,
    "start_time": "2022-02-01T18:57:20.028Z"
   },
   {
    "duration": 14537,
    "start_time": "2022-02-01T18:59:35.176Z"
   },
   {
    "duration": 1840,
    "start_time": "2022-02-01T19:00:33.550Z"
   },
   {
    "duration": 41,
    "start_time": "2022-02-01T19:18:36.080Z"
   },
   {
    "duration": 87,
    "start_time": "2022-02-01T19:19:04.735Z"
   },
   {
    "duration": 399,
    "start_time": "2022-02-01T19:19:11.552Z"
   },
   {
    "duration": 42,
    "start_time": "2022-02-01T19:19:23.696Z"
   },
   {
    "duration": 351,
    "start_time": "2022-02-01T19:30:35.042Z"
   },
   {
    "duration": 14,
    "start_time": "2022-02-01T19:30:49.891Z"
   },
   {
    "duration": 45,
    "start_time": "2022-02-01T19:31:00.745Z"
   },
   {
    "duration": 40,
    "start_time": "2022-02-01T19:31:13.939Z"
   },
   {
    "duration": 340,
    "start_time": "2022-02-01T19:40:01.321Z"
   },
   {
    "duration": 10,
    "start_time": "2022-02-01T19:40:46.996Z"
   },
   {
    "duration": 5,
    "start_time": "2022-02-01T19:43:33.661Z"
   },
   {
    "duration": 1060,
    "start_time": "2022-02-01T19:46:34.578Z"
   },
   {
    "duration": 30,
    "start_time": "2022-02-01T19:46:35.639Z"
   },
   {
    "duration": 6,
    "start_time": "2022-02-01T19:46:35.672Z"
   },
   {
    "duration": 11,
    "start_time": "2022-02-01T19:46:35.681Z"
   },
   {
    "duration": 20,
    "start_time": "2022-02-01T19:46:35.694Z"
   },
   {
    "duration": 24,
    "start_time": "2022-02-01T19:46:35.716Z"
   },
   {
    "duration": 12,
    "start_time": "2022-02-01T19:46:35.742Z"
   },
   {
    "duration": 10,
    "start_time": "2022-02-01T19:46:35.757Z"
   },
   {
    "duration": 22,
    "start_time": "2022-02-01T19:46:35.768Z"
   },
   {
    "duration": 15,
    "start_time": "2022-02-01T19:46:35.791Z"
   },
   {
    "duration": 1768,
    "start_time": "2022-02-01T19:46:35.808Z"
   },
   {
    "duration": 41,
    "start_time": "2022-02-01T19:46:37.577Z"
   },
   {
    "duration": 19,
    "start_time": "2022-02-01T19:46:37.620Z"
   },
   {
    "duration": 35,
    "start_time": "2022-02-01T19:46:37.640Z"
   },
   {
    "duration": 5,
    "start_time": "2022-02-01T19:46:37.676Z"
   },
   {
    "duration": 1863,
    "start_time": "2022-03-18T12:35:44.527Z"
   },
   {
    "duration": 30,
    "start_time": "2022-03-18T12:35:46.393Z"
   },
   {
    "duration": 17,
    "start_time": "2022-03-18T12:35:46.425Z"
   },
   {
    "duration": 10,
    "start_time": "2022-03-18T12:35:46.444Z"
   },
   {
    "duration": 10,
    "start_time": "2022-03-18T12:35:46.455Z"
   },
   {
    "duration": 26,
    "start_time": "2022-03-18T12:35:46.466Z"
   },
   {
    "duration": 12,
    "start_time": "2022-03-18T12:35:46.494Z"
   },
   {
    "duration": 3,
    "start_time": "2022-03-18T12:35:46.508Z"
   },
   {
    "duration": 15,
    "start_time": "2022-03-18T12:35:46.513Z"
   },
   {
    "duration": 9,
    "start_time": "2022-03-18T12:35:46.530Z"
   },
   {
    "duration": 2906,
    "start_time": "2022-03-18T12:35:46.540Z"
   },
   {
    "duration": 81,
    "start_time": "2022-03-18T12:35:49.448Z"
   },
   {
    "duration": 29,
    "start_time": "2022-03-18T12:35:49.531Z"
   },
   {
    "duration": 30,
    "start_time": "2022-03-18T12:35:49.562Z"
   },
   {
    "duration": 6,
    "start_time": "2022-03-18T12:35:49.594Z"
   }
  ],
  "kernelspec": {
   "display_name": "Python 3 (ipykernel)",
   "language": "python",
   "name": "python3"
  },
  "language_info": {
   "codemirror_mode": {
    "name": "ipython",
    "version": 3
   },
   "file_extension": ".py",
   "mimetype": "text/x-python",
   "name": "python",
   "nbconvert_exporter": "python",
   "pygments_lexer": "ipython3",
   "version": "3.9.5"
  },
  "toc": {
   "base_numbering": 1,
   "nav_menu": {},
   "number_sections": true,
   "sideBar": true,
   "skip_h1_title": true,
   "title_cell": "Содержание",
   "title_sidebar": "Содержание",
   "toc_cell": true,
   "toc_position": {},
   "toc_section_display": true,
   "toc_window_display": true
  }
 },
 "nbformat": 4,
 "nbformat_minor": 2
}
