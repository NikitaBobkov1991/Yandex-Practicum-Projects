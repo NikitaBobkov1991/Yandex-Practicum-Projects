{
 "cells": [
  {
   "cell_type": "markdown",
   "metadata": {
    "toc": true
   },
   "source": [
    "<h1>Содержание<span class=\"tocSkip\"></span></h1>\n",
    "<div class=\"toc\"><ul class=\"toc-item\"><li><span><a href=\"#Подготовка-данных\" data-toc-modified-id=\"Подготовка-данных-1\"><span class=\"toc-item-num\">1&nbsp;&nbsp;</span>Подготовка данных</a></span><ul class=\"toc-item\"><li><span><a href=\"#Загрузим-необходимые-для-решения-библиотеки\" data-toc-modified-id=\"Загрузим-необходимые-для-решения-библиотеки-1.1\"><span class=\"toc-item-num\">1.1&nbsp;&nbsp;</span>Загрузим необходимые для решения библиотеки</a></span></li><li><span><a href=\"#Ознакомление-с-данными\" data-toc-modified-id=\"Ознакомление-с-данными-1.2\"><span class=\"toc-item-num\">1.2&nbsp;&nbsp;</span>Ознакомление с данными</a></span></li></ul></li><li><span><a href=\"#Исследование-задачи\" data-toc-modified-id=\"Исследование-задачи-2\"><span class=\"toc-item-num\">2&nbsp;&nbsp;</span>Исследование задачи</a></span><ul class=\"toc-item\"><li><span><a href=\"#Разделение-данных-на-выборки\" data-toc-modified-id=\"Разделение-данных-на-выборки-2.1\"><span class=\"toc-item-num\">2.1&nbsp;&nbsp;</span>Разделение данных на выборки</a></span></li><li><span><a href=\"#Оценка-баланса-классов\" data-toc-modified-id=\"Оценка-баланса-классов-2.2\"><span class=\"toc-item-num\">2.2&nbsp;&nbsp;</span>Оценка баланса классов</a></span></li><li><span><a href=\"#Масштабирование-признаков\" data-toc-modified-id=\"Масштабирование-признаков-2.3\"><span class=\"toc-item-num\">2.3&nbsp;&nbsp;</span>Масштабирование признаков</a></span></li></ul></li><li><span><a href=\"#Борьба-с-дисбалансом\" data-toc-modified-id=\"Борьба-с-дисбалансом-3\"><span class=\"toc-item-num\">3&nbsp;&nbsp;</span>Борьба с дисбалансом</a></span><ul class=\"toc-item\"><li><span><a href=\"#Upsampling\" data-toc-modified-id=\"Upsampling-3.1\"><span class=\"toc-item-num\">3.1&nbsp;&nbsp;</span>Upsampling</a></span></li><li><span><a href=\"#Downsampling\" data-toc-modified-id=\"Downsampling-3.2\"><span class=\"toc-item-num\">3.2&nbsp;&nbsp;</span>Downsampling</a></span></li><li><span><a href=\"#Добавление-в-модель-параметра-class_weight\" data-toc-modified-id=\"Добавление-в-модель-параметра-class_weight-3.3\"><span class=\"toc-item-num\">3.3&nbsp;&nbsp;</span>Добавление в модель параметра class_weight</a></span></li><li><span><a href=\"#Представление-данных\" data-toc-modified-id=\"Представление-данных-3.4\"><span class=\"toc-item-num\">3.4&nbsp;&nbsp;</span>Представление данных</a></span></li></ul></li><li><span><a href=\"#Тестирование-модели\" data-toc-modified-id=\"Тестирование-модели-4\"><span class=\"toc-item-num\">4&nbsp;&nbsp;</span>Тестирование модели</a></span><ul class=\"toc-item\"><li><span><a href=\"#Автоматический-подбор-параметров-для-модели-машинного-обучения\" data-toc-modified-id=\"Автоматический-подбор-параметров-для-модели-машинного-обучения-4.1\"><span class=\"toc-item-num\">4.1&nbsp;&nbsp;</span>Автоматический подбор параметров для модели машинного обучения</a></span></li><li><span><a href=\"#Оптимизация-классификатора-(порогов),-построение-ROC-кривой\" data-toc-modified-id=\"Оптимизация-классификатора-(порогов),-построение-ROC-кривой-4.2\"><span class=\"toc-item-num\">4.2&nbsp;&nbsp;</span>Оптимизация классификатора (порогов), построение ROC-кривой</a></span></li><li><span><a href=\"#Модель-RandomForestClassifier\" data-toc-modified-id=\"Модель-RandomForestClassifier-4.3\"><span class=\"toc-item-num\">4.3&nbsp;&nbsp;</span>Модель RandomForestClassifier</a></span></li><li><span><a href=\"#Модель-LogisticRegression\" data-toc-modified-id=\"Модель-LogisticRegression-4.4\"><span class=\"toc-item-num\">4.4&nbsp;&nbsp;</span>Модель LogisticRegression</a></span></li><li><span><a href=\"#Модель-DecisionTreeClassifier\" data-toc-modified-id=\"Модель-DecisionTreeClassifier-4.5\"><span class=\"toc-item-num\">4.5&nbsp;&nbsp;</span>Модель DecisionTreeClassifier</a></span></li></ul></li><li><span><a href=\"#Вывод\" data-toc-modified-id=\"Вывод-5\"><span class=\"toc-item-num\">5&nbsp;&nbsp;</span>Вывод</a></span></li><li><span><a href=\"#Чек-лист-готовности-проекта\" data-toc-modified-id=\"Чек-лист-готовности-проекта-6\"><span class=\"toc-item-num\">6&nbsp;&nbsp;</span>Чек-лист готовности проекта</a></span></li></ul></div>"
   ]
  },
  {
   "cell_type": "markdown",
   "metadata": {},
   "source": [
    "# Отток клиентов"
   ]
  },
  {
   "cell_type": "markdown",
   "metadata": {},
   "source": [
    "Из «Бета-Банка» стали уходить клиенты. Каждый месяц. Немного, но заметно. Банковские маркетологи посчитали: сохранять текущих клиентов дешевле, чем привлекать новых.\n",
    "\n",
    "Нужно спрогнозировать, уйдёт клиент из банка в ближайшее время или нет. Вам предоставлены исторические данные о поведении клиентов и расторжении договоров с банком. \n",
    "\n",
    "Постройте модель с предельно большим значением *F1*-меры. Чтобы сдать проект успешно, нужно довести метрику до 0.59. Проверьте *F1*-меру на тестовой выборке самостоятельно.\n",
    "\n",
    "Дополнительно измеряйте *AUC-ROC*, сравнивайте её значение с *F1*-мерой.\n",
    "\n",
    "Источник данных: [https://www.kaggle.com/barelydedicated/bank-customer-churn-modeling](https://www.kaggle.com/barelydedicated/bank-customer-churn-modeling)"
   ]
  },
  {
   "cell_type": "markdown",
   "metadata": {},
   "source": [
    "## Подготовка данных"
   ]
  },
  {
   "cell_type": "markdown",
   "metadata": {},
   "source": [
    "### Загрузим необходимые для решения библиотеки"
   ]
  },
  {
   "cell_type": "code",
   "execution_count": 1,
   "metadata": {},
   "outputs": [],
   "source": [
    "#для работы с таблицами\n",
    "import pandas as pd\n",
    "\n",
    "#для работы с массивами данных\n",
    "import numpy as np\n",
    "\n",
    "#для оценки F1-меры - среднее гармоническое полноты и точности\n",
    "from sklearn.metrics import f1_score\n",
    "\n",
    "#площадь под ROC-кривой, AUC-ROC случайной модели равна 0.5\n",
    "from sklearn.metrics import roc_auc_score\n",
    "\n",
    "#ROC-кривая\n",
    "from sklearn.metrics import roc_curve\n",
    "\n",
    "##для вычисления точности предсказания модели\n",
    "from sklearn.metrics import accuracy_score\n",
    "\n",
    "#для построения графиков\n",
    "import matplotlib.pyplot as plt\n",
    "\n",
    "#для вычисления площади под кривой\n",
    "from sklearn.metrics import auc\n",
    "\n",
    "#три различные модели решения\n",
    "from sklearn.linear_model import LogisticRegression\n",
    "from sklearn.ensemble import RandomForestClassifier\n",
    "from sklearn.tree import DecisionTreeClassifier\n",
    "\n",
    "#для разделения таблицы на выборки\n",
    "from sklearn.model_selection import train_test_split\n",
    "\n",
    "#модуль, который выводит на консоль динамически обновляемый индикатор выполнения\n",
    "from tqdm import tqdm\n",
    "\n",
    "#для перемешивания данных после масштабирования\n",
    "from sklearn.utils import shuffle\n",
    "\n",
    "#для стандартизации масштаба признаков\n",
    "from sklearn.preprocessing import StandardScaler\n",
    "\n",
    "#для автоматического подбора параметров модели \n",
    "from sklearn.model_selection import GridSearchCV\n",
    "\n",
    "#переменная для фиксирования состояния мат. моделей\n",
    "RANDOM = 12345\n",
    "\n",
    "#для того, чтобы увидеть все названия столбцов в таблице без пропусков, изменим глобальные настройки библиотеки pandas\n",
    "pd.options.display.max_columns = None\n",
    "\n",
    "#ЭТУ КОМАНДУ МОЖНО ИСПОЛЬЗОВАТЬ ДЛЯ ФИЛЬТРА ПРЕДУПРЕЖДЕНИЙ\n",
    "import warnings\n",
    "warnings.filterwarnings('ignore')"
   ]
  },
  {
   "cell_type": "markdown",
   "metadata": {},
   "source": [
    "### Ознакомление с данными"
   ]
  },
  {
   "cell_type": "markdown",
   "metadata": {},
   "source": [
    "Признаки:  \n",
    "* RowNumber — индекс строки в данных  \n",
    "* CustomerId — уникальный идентификатор клиента  \n",
    "* Surname — фамилия  \n",
    "* CreditScore — кредитный рейтинг  \n",
    "* Geography — страна проживания  \n",
    "* Gender — пол  \n",
    "* Age — возраст  \n",
    "* Tenure — сколько лет человек является клиентом банка  \n",
    "* Balance — баланс на счёте  \n",
    "* NumOfProducts — количество продуктов банка, используемых клиентом  \n",
    "* HasCrCard — наличие кредитной карты  \n",
    "* IsActiveMember — активность клиента  \n",
    "* EstimatedSalary — предполагаемая зарплата  "
   ]
  },
  {
   "cell_type": "markdown",
   "metadata": {},
   "source": [
    "Целевой признак:  \n",
    "* Exited — факт ухода клиента"
   ]
  },
  {
   "cell_type": "markdown",
   "metadata": {},
   "source": [
    "Откроем и изучим файл с данными:"
   ]
  },
  {
   "cell_type": "code",
   "execution_count": 2,
   "metadata": {},
   "outputs": [],
   "source": [
    "data = pd.read_csv(\"/datasets/Churn.csv\")"
   ]
  },
  {
   "cell_type": "code",
   "execution_count": 3,
   "metadata": {
    "scrolled": true
   },
   "outputs": [
    {
     "data": {
      "text/html": [
       "<div>\n",
       "<style scoped>\n",
       "    .dataframe tbody tr th:only-of-type {\n",
       "        vertical-align: middle;\n",
       "    }\n",
       "\n",
       "    .dataframe tbody tr th {\n",
       "        vertical-align: top;\n",
       "    }\n",
       "\n",
       "    .dataframe thead th {\n",
       "        text-align: right;\n",
       "    }\n",
       "</style>\n",
       "<table border=\"1\" class=\"dataframe\">\n",
       "  <thead>\n",
       "    <tr style=\"text-align: right;\">\n",
       "      <th></th>\n",
       "      <th>RowNumber</th>\n",
       "      <th>CustomerId</th>\n",
       "      <th>Surname</th>\n",
       "      <th>CreditScore</th>\n",
       "      <th>Geography</th>\n",
       "      <th>Gender</th>\n",
       "      <th>Age</th>\n",
       "      <th>Tenure</th>\n",
       "      <th>Balance</th>\n",
       "      <th>NumOfProducts</th>\n",
       "      <th>HasCrCard</th>\n",
       "      <th>IsActiveMember</th>\n",
       "      <th>EstimatedSalary</th>\n",
       "      <th>Exited</th>\n",
       "    </tr>\n",
       "  </thead>\n",
       "  <tbody>\n",
       "    <tr>\n",
       "      <th>0</th>\n",
       "      <td>1</td>\n",
       "      <td>15634602</td>\n",
       "      <td>Hargrave</td>\n",
       "      <td>619</td>\n",
       "      <td>France</td>\n",
       "      <td>Female</td>\n",
       "      <td>42</td>\n",
       "      <td>2.0</td>\n",
       "      <td>0.00</td>\n",
       "      <td>1</td>\n",
       "      <td>1</td>\n",
       "      <td>1</td>\n",
       "      <td>101348.88</td>\n",
       "      <td>1</td>\n",
       "    </tr>\n",
       "    <tr>\n",
       "      <th>1</th>\n",
       "      <td>2</td>\n",
       "      <td>15647311</td>\n",
       "      <td>Hill</td>\n",
       "      <td>608</td>\n",
       "      <td>Spain</td>\n",
       "      <td>Female</td>\n",
       "      <td>41</td>\n",
       "      <td>1.0</td>\n",
       "      <td>83807.86</td>\n",
       "      <td>1</td>\n",
       "      <td>0</td>\n",
       "      <td>1</td>\n",
       "      <td>112542.58</td>\n",
       "      <td>0</td>\n",
       "    </tr>\n",
       "    <tr>\n",
       "      <th>2</th>\n",
       "      <td>3</td>\n",
       "      <td>15619304</td>\n",
       "      <td>Onio</td>\n",
       "      <td>502</td>\n",
       "      <td>France</td>\n",
       "      <td>Female</td>\n",
       "      <td>42</td>\n",
       "      <td>8.0</td>\n",
       "      <td>159660.80</td>\n",
       "      <td>3</td>\n",
       "      <td>1</td>\n",
       "      <td>0</td>\n",
       "      <td>113931.57</td>\n",
       "      <td>1</td>\n",
       "    </tr>\n",
       "    <tr>\n",
       "      <th>3</th>\n",
       "      <td>4</td>\n",
       "      <td>15701354</td>\n",
       "      <td>Boni</td>\n",
       "      <td>699</td>\n",
       "      <td>France</td>\n",
       "      <td>Female</td>\n",
       "      <td>39</td>\n",
       "      <td>1.0</td>\n",
       "      <td>0.00</td>\n",
       "      <td>2</td>\n",
       "      <td>0</td>\n",
       "      <td>0</td>\n",
       "      <td>93826.63</td>\n",
       "      <td>0</td>\n",
       "    </tr>\n",
       "    <tr>\n",
       "      <th>4</th>\n",
       "      <td>5</td>\n",
       "      <td>15737888</td>\n",
       "      <td>Mitchell</td>\n",
       "      <td>850</td>\n",
       "      <td>Spain</td>\n",
       "      <td>Female</td>\n",
       "      <td>43</td>\n",
       "      <td>2.0</td>\n",
       "      <td>125510.82</td>\n",
       "      <td>1</td>\n",
       "      <td>1</td>\n",
       "      <td>1</td>\n",
       "      <td>79084.10</td>\n",
       "      <td>0</td>\n",
       "    </tr>\n",
       "  </tbody>\n",
       "</table>\n",
       "</div>"
      ],
      "text/plain": [
       "   RowNumber  CustomerId   Surname  CreditScore Geography  Gender  Age  \\\n",
       "0          1    15634602  Hargrave          619    France  Female   42   \n",
       "1          2    15647311      Hill          608     Spain  Female   41   \n",
       "2          3    15619304      Onio          502    France  Female   42   \n",
       "3          4    15701354      Boni          699    France  Female   39   \n",
       "4          5    15737888  Mitchell          850     Spain  Female   43   \n",
       "\n",
       "   Tenure    Balance  NumOfProducts  HasCrCard  IsActiveMember  \\\n",
       "0     2.0       0.00              1          1               1   \n",
       "1     1.0   83807.86              1          0               1   \n",
       "2     8.0  159660.80              3          1               0   \n",
       "3     1.0       0.00              2          0               0   \n",
       "4     2.0  125510.82              1          1               1   \n",
       "\n",
       "   EstimatedSalary  Exited  \n",
       "0        101348.88       1  \n",
       "1        112542.58       0  \n",
       "2        113931.57       1  \n",
       "3         93826.63       0  \n",
       "4         79084.10       0  "
      ]
     },
     "execution_count": 3,
     "metadata": {},
     "output_type": "execute_result"
    }
   ],
   "source": [
    "data.head()"
   ]
  },
  {
   "cell_type": "code",
   "execution_count": 4,
   "metadata": {},
   "outputs": [
    {
     "data": {
      "text/html": [
       "<div>\n",
       "<style scoped>\n",
       "    .dataframe tbody tr th:only-of-type {\n",
       "        vertical-align: middle;\n",
       "    }\n",
       "\n",
       "    .dataframe tbody tr th {\n",
       "        vertical-align: top;\n",
       "    }\n",
       "\n",
       "    .dataframe thead th {\n",
       "        text-align: right;\n",
       "    }\n",
       "</style>\n",
       "<table border=\"1\" class=\"dataframe\">\n",
       "  <thead>\n",
       "    <tr style=\"text-align: right;\">\n",
       "      <th></th>\n",
       "      <th>RowNumber</th>\n",
       "      <th>CustomerId</th>\n",
       "      <th>CreditScore</th>\n",
       "      <th>Age</th>\n",
       "      <th>Tenure</th>\n",
       "      <th>Balance</th>\n",
       "      <th>NumOfProducts</th>\n",
       "      <th>HasCrCard</th>\n",
       "      <th>IsActiveMember</th>\n",
       "      <th>EstimatedSalary</th>\n",
       "      <th>Exited</th>\n",
       "    </tr>\n",
       "  </thead>\n",
       "  <tbody>\n",
       "    <tr>\n",
       "      <th>RowNumber</th>\n",
       "      <td>1.000000</td>\n",
       "      <td>0.004202</td>\n",
       "      <td>0.005840</td>\n",
       "      <td>0.000783</td>\n",
       "      <td>-0.007322</td>\n",
       "      <td>-0.009067</td>\n",
       "      <td>0.007246</td>\n",
       "      <td>0.000599</td>\n",
       "      <td>0.012044</td>\n",
       "      <td>-0.005988</td>\n",
       "      <td>-0.016571</td>\n",
       "    </tr>\n",
       "    <tr>\n",
       "      <th>CustomerId</th>\n",
       "      <td>0.004202</td>\n",
       "      <td>1.000000</td>\n",
       "      <td>0.005308</td>\n",
       "      <td>0.009497</td>\n",
       "      <td>-0.021418</td>\n",
       "      <td>-0.012419</td>\n",
       "      <td>0.016972</td>\n",
       "      <td>-0.014025</td>\n",
       "      <td>0.001665</td>\n",
       "      <td>0.015271</td>\n",
       "      <td>-0.006248</td>\n",
       "    </tr>\n",
       "    <tr>\n",
       "      <th>CreditScore</th>\n",
       "      <td>0.005840</td>\n",
       "      <td>0.005308</td>\n",
       "      <td>1.000000</td>\n",
       "      <td>-0.003965</td>\n",
       "      <td>-0.000062</td>\n",
       "      <td>0.006268</td>\n",
       "      <td>0.012238</td>\n",
       "      <td>-0.005458</td>\n",
       "      <td>0.025651</td>\n",
       "      <td>-0.001384</td>\n",
       "      <td>-0.027094</td>\n",
       "    </tr>\n",
       "    <tr>\n",
       "      <th>Age</th>\n",
       "      <td>0.000783</td>\n",
       "      <td>0.009497</td>\n",
       "      <td>-0.003965</td>\n",
       "      <td>1.000000</td>\n",
       "      <td>-0.013134</td>\n",
       "      <td>0.028308</td>\n",
       "      <td>-0.030680</td>\n",
       "      <td>-0.011721</td>\n",
       "      <td>0.085472</td>\n",
       "      <td>-0.007201</td>\n",
       "      <td>0.285323</td>\n",
       "    </tr>\n",
       "    <tr>\n",
       "      <th>Tenure</th>\n",
       "      <td>-0.007322</td>\n",
       "      <td>-0.021418</td>\n",
       "      <td>-0.000062</td>\n",
       "      <td>-0.013134</td>\n",
       "      <td>1.000000</td>\n",
       "      <td>-0.007911</td>\n",
       "      <td>0.011979</td>\n",
       "      <td>0.027232</td>\n",
       "      <td>-0.032178</td>\n",
       "      <td>0.010520</td>\n",
       "      <td>-0.016761</td>\n",
       "    </tr>\n",
       "    <tr>\n",
       "      <th>Balance</th>\n",
       "      <td>-0.009067</td>\n",
       "      <td>-0.012419</td>\n",
       "      <td>0.006268</td>\n",
       "      <td>0.028308</td>\n",
       "      <td>-0.007911</td>\n",
       "      <td>1.000000</td>\n",
       "      <td>-0.304180</td>\n",
       "      <td>-0.014858</td>\n",
       "      <td>-0.010084</td>\n",
       "      <td>0.012797</td>\n",
       "      <td>0.118533</td>\n",
       "    </tr>\n",
       "    <tr>\n",
       "      <th>NumOfProducts</th>\n",
       "      <td>0.007246</td>\n",
       "      <td>0.016972</td>\n",
       "      <td>0.012238</td>\n",
       "      <td>-0.030680</td>\n",
       "      <td>0.011979</td>\n",
       "      <td>-0.304180</td>\n",
       "      <td>1.000000</td>\n",
       "      <td>0.003183</td>\n",
       "      <td>0.009612</td>\n",
       "      <td>0.014204</td>\n",
       "      <td>-0.047820</td>\n",
       "    </tr>\n",
       "    <tr>\n",
       "      <th>HasCrCard</th>\n",
       "      <td>0.000599</td>\n",
       "      <td>-0.014025</td>\n",
       "      <td>-0.005458</td>\n",
       "      <td>-0.011721</td>\n",
       "      <td>0.027232</td>\n",
       "      <td>-0.014858</td>\n",
       "      <td>0.003183</td>\n",
       "      <td>1.000000</td>\n",
       "      <td>-0.011866</td>\n",
       "      <td>-0.009933</td>\n",
       "      <td>-0.007138</td>\n",
       "    </tr>\n",
       "    <tr>\n",
       "      <th>IsActiveMember</th>\n",
       "      <td>0.012044</td>\n",
       "      <td>0.001665</td>\n",
       "      <td>0.025651</td>\n",
       "      <td>0.085472</td>\n",
       "      <td>-0.032178</td>\n",
       "      <td>-0.010084</td>\n",
       "      <td>0.009612</td>\n",
       "      <td>-0.011866</td>\n",
       "      <td>1.000000</td>\n",
       "      <td>-0.011421</td>\n",
       "      <td>-0.156128</td>\n",
       "    </tr>\n",
       "    <tr>\n",
       "      <th>EstimatedSalary</th>\n",
       "      <td>-0.005988</td>\n",
       "      <td>0.015271</td>\n",
       "      <td>-0.001384</td>\n",
       "      <td>-0.007201</td>\n",
       "      <td>0.010520</td>\n",
       "      <td>0.012797</td>\n",
       "      <td>0.014204</td>\n",
       "      <td>-0.009933</td>\n",
       "      <td>-0.011421</td>\n",
       "      <td>1.000000</td>\n",
       "      <td>0.012097</td>\n",
       "    </tr>\n",
       "    <tr>\n",
       "      <th>Exited</th>\n",
       "      <td>-0.016571</td>\n",
       "      <td>-0.006248</td>\n",
       "      <td>-0.027094</td>\n",
       "      <td>0.285323</td>\n",
       "      <td>-0.016761</td>\n",
       "      <td>0.118533</td>\n",
       "      <td>-0.047820</td>\n",
       "      <td>-0.007138</td>\n",
       "      <td>-0.156128</td>\n",
       "      <td>0.012097</td>\n",
       "      <td>1.000000</td>\n",
       "    </tr>\n",
       "  </tbody>\n",
       "</table>\n",
       "</div>"
      ],
      "text/plain": [
       "                 RowNumber  CustomerId  CreditScore       Age    Tenure  \\\n",
       "RowNumber         1.000000    0.004202     0.005840  0.000783 -0.007322   \n",
       "CustomerId        0.004202    1.000000     0.005308  0.009497 -0.021418   \n",
       "CreditScore       0.005840    0.005308     1.000000 -0.003965 -0.000062   \n",
       "Age               0.000783    0.009497    -0.003965  1.000000 -0.013134   \n",
       "Tenure           -0.007322   -0.021418    -0.000062 -0.013134  1.000000   \n",
       "Balance          -0.009067   -0.012419     0.006268  0.028308 -0.007911   \n",
       "NumOfProducts     0.007246    0.016972     0.012238 -0.030680  0.011979   \n",
       "HasCrCard         0.000599   -0.014025    -0.005458 -0.011721  0.027232   \n",
       "IsActiveMember    0.012044    0.001665     0.025651  0.085472 -0.032178   \n",
       "EstimatedSalary  -0.005988    0.015271    -0.001384 -0.007201  0.010520   \n",
       "Exited           -0.016571   -0.006248    -0.027094  0.285323 -0.016761   \n",
       "\n",
       "                  Balance  NumOfProducts  HasCrCard  IsActiveMember  \\\n",
       "RowNumber       -0.009067       0.007246   0.000599        0.012044   \n",
       "CustomerId      -0.012419       0.016972  -0.014025        0.001665   \n",
       "CreditScore      0.006268       0.012238  -0.005458        0.025651   \n",
       "Age              0.028308      -0.030680  -0.011721        0.085472   \n",
       "Tenure          -0.007911       0.011979   0.027232       -0.032178   \n",
       "Balance          1.000000      -0.304180  -0.014858       -0.010084   \n",
       "NumOfProducts   -0.304180       1.000000   0.003183        0.009612   \n",
       "HasCrCard       -0.014858       0.003183   1.000000       -0.011866   \n",
       "IsActiveMember  -0.010084       0.009612  -0.011866        1.000000   \n",
       "EstimatedSalary  0.012797       0.014204  -0.009933       -0.011421   \n",
       "Exited           0.118533      -0.047820  -0.007138       -0.156128   \n",
       "\n",
       "                 EstimatedSalary    Exited  \n",
       "RowNumber              -0.005988 -0.016571  \n",
       "CustomerId              0.015271 -0.006248  \n",
       "CreditScore            -0.001384 -0.027094  \n",
       "Age                    -0.007201  0.285323  \n",
       "Tenure                  0.010520 -0.016761  \n",
       "Balance                 0.012797  0.118533  \n",
       "NumOfProducts           0.014204 -0.047820  \n",
       "HasCrCard              -0.009933 -0.007138  \n",
       "IsActiveMember         -0.011421 -0.156128  \n",
       "EstimatedSalary         1.000000  0.012097  \n",
       "Exited                  0.012097  1.000000  "
      ]
     },
     "execution_count": 4,
     "metadata": {},
     "output_type": "execute_result"
    }
   ],
   "source": [
    "data.corr()"
   ]
  },
  {
   "cell_type": "markdown",
   "metadata": {},
   "source": [
    "Исходя из представленной в описании данных информации, а так же из анализа корреляции данных в столбцах таблицы, было принято решение об удалении столбцов, не влияющих на решение клиента уйти из банка:  \n",
    "* RowNumber — индекс строки в данных,  \n",
    "* CustomerId — уникальный идентификатор клиента,  \n",
    "* Surname — фамилия.  "
   ]
  },
  {
   "cell_type": "markdown",
   "metadata": {},
   "source": [
    "Удалим эти столбцы из таблицы:"
   ]
  },
  {
   "cell_type": "code",
   "execution_count": 5,
   "metadata": {},
   "outputs": [],
   "source": [
    "data = data.drop([\"RowNumber\",\"CustomerId\",\"Surname\"], axis = 1)"
   ]
  },
  {
   "cell_type": "markdown",
   "metadata": {},
   "source": [
    "Оценим информацию о столбцах таблицы:"
   ]
  },
  {
   "cell_type": "code",
   "execution_count": 6,
   "metadata": {
    "scrolled": false
   },
   "outputs": [
    {
     "name": "stdout",
     "output_type": "stream",
     "text": [
      "<class 'pandas.core.frame.DataFrame'>\n",
      "RangeIndex: 10000 entries, 0 to 9999\n",
      "Data columns (total 11 columns):\n",
      " #   Column           Non-Null Count  Dtype  \n",
      "---  ------           --------------  -----  \n",
      " 0   CreditScore      10000 non-null  int64  \n",
      " 1   Geography        10000 non-null  object \n",
      " 2   Gender           10000 non-null  object \n",
      " 3   Age              10000 non-null  int64  \n",
      " 4   Tenure           9091 non-null   float64\n",
      " 5   Balance          10000 non-null  float64\n",
      " 6   NumOfProducts    10000 non-null  int64  \n",
      " 7   HasCrCard        10000 non-null  int64  \n",
      " 8   IsActiveMember   10000 non-null  int64  \n",
      " 9   EstimatedSalary  10000 non-null  float64\n",
      " 10  Exited           10000 non-null  int64  \n",
      "dtypes: float64(3), int64(6), object(2)\n",
      "memory usage: 859.5+ KB\n"
     ]
    }
   ],
   "source": [
    "data.info()"
   ]
  },
  {
   "cell_type": "markdown",
   "metadata": {},
   "source": [
    "В дальнейшем необходимо преобразовать столбец Tenure в целочисленный тип данных."
   ]
  },
  {
   "cell_type": "code",
   "execution_count": 7,
   "metadata": {
    "scrolled": false
   },
   "outputs": [
    {
     "name": "stdout",
     "output_type": "stream",
     "text": [
      "Пропущенных данных в столбце Tenure (сколько лет человек является клиентом банка): 9.09 %\n"
     ]
    }
   ],
   "source": [
    "print(f\"Пропущенных данных в столбце Tenure (сколько лет человек является клиентом банка): {data['Tenure'].isna().sum() / len(data) * 100} %\")"
   ]
  },
  {
   "cell_type": "markdown",
   "metadata": {},
   "source": [
    "Заменим пропуски в столбце Tenure на медианное значение этого столбца:"
   ]
  },
  {
   "cell_type": "code",
   "execution_count": 8,
   "metadata": {},
   "outputs": [],
   "source": [
    "data['Tenure'] = data[\"Tenure\"].fillna(data[\"Tenure\"].median())"
   ]
  },
  {
   "cell_type": "raw",
   "metadata": {},
   "source": [
    "Оценим распределение данных в таблице:"
   ]
  },
  {
   "cell_type": "code",
   "execution_count": 9,
   "metadata": {
    "scrolled": true
   },
   "outputs": [
    {
     "data": {
      "text/html": [
       "<div>\n",
       "<style scoped>\n",
       "    .dataframe tbody tr th:only-of-type {\n",
       "        vertical-align: middle;\n",
       "    }\n",
       "\n",
       "    .dataframe tbody tr th {\n",
       "        vertical-align: top;\n",
       "    }\n",
       "\n",
       "    .dataframe thead th {\n",
       "        text-align: right;\n",
       "    }\n",
       "</style>\n",
       "<table border=\"1\" class=\"dataframe\">\n",
       "  <thead>\n",
       "    <tr style=\"text-align: right;\">\n",
       "      <th></th>\n",
       "      <th>CreditScore</th>\n",
       "      <th>Age</th>\n",
       "      <th>Tenure</th>\n",
       "      <th>Balance</th>\n",
       "      <th>NumOfProducts</th>\n",
       "      <th>HasCrCard</th>\n",
       "      <th>IsActiveMember</th>\n",
       "      <th>EstimatedSalary</th>\n",
       "      <th>Exited</th>\n",
       "    </tr>\n",
       "  </thead>\n",
       "  <tbody>\n",
       "    <tr>\n",
       "      <th>count</th>\n",
       "      <td>10000.000000</td>\n",
       "      <td>10000.000000</td>\n",
       "      <td>10000.00000</td>\n",
       "      <td>10000.000000</td>\n",
       "      <td>10000.000000</td>\n",
       "      <td>10000.00000</td>\n",
       "      <td>10000.000000</td>\n",
       "      <td>10000.000000</td>\n",
       "      <td>10000.000000</td>\n",
       "    </tr>\n",
       "    <tr>\n",
       "      <th>mean</th>\n",
       "      <td>650.528800</td>\n",
       "      <td>38.921800</td>\n",
       "      <td>4.99790</td>\n",
       "      <td>76485.889288</td>\n",
       "      <td>1.530200</td>\n",
       "      <td>0.70550</td>\n",
       "      <td>0.515100</td>\n",
       "      <td>100090.239881</td>\n",
       "      <td>0.203700</td>\n",
       "    </tr>\n",
       "    <tr>\n",
       "      <th>std</th>\n",
       "      <td>96.653299</td>\n",
       "      <td>10.487806</td>\n",
       "      <td>2.76001</td>\n",
       "      <td>62397.405202</td>\n",
       "      <td>0.581654</td>\n",
       "      <td>0.45584</td>\n",
       "      <td>0.499797</td>\n",
       "      <td>57510.492818</td>\n",
       "      <td>0.402769</td>\n",
       "    </tr>\n",
       "    <tr>\n",
       "      <th>min</th>\n",
       "      <td>350.000000</td>\n",
       "      <td>18.000000</td>\n",
       "      <td>0.00000</td>\n",
       "      <td>0.000000</td>\n",
       "      <td>1.000000</td>\n",
       "      <td>0.00000</td>\n",
       "      <td>0.000000</td>\n",
       "      <td>11.580000</td>\n",
       "      <td>0.000000</td>\n",
       "    </tr>\n",
       "    <tr>\n",
       "      <th>25%</th>\n",
       "      <td>584.000000</td>\n",
       "      <td>32.000000</td>\n",
       "      <td>3.00000</td>\n",
       "      <td>0.000000</td>\n",
       "      <td>1.000000</td>\n",
       "      <td>0.00000</td>\n",
       "      <td>0.000000</td>\n",
       "      <td>51002.110000</td>\n",
       "      <td>0.000000</td>\n",
       "    </tr>\n",
       "    <tr>\n",
       "      <th>50%</th>\n",
       "      <td>652.000000</td>\n",
       "      <td>37.000000</td>\n",
       "      <td>5.00000</td>\n",
       "      <td>97198.540000</td>\n",
       "      <td>1.000000</td>\n",
       "      <td>1.00000</td>\n",
       "      <td>1.000000</td>\n",
       "      <td>100193.915000</td>\n",
       "      <td>0.000000</td>\n",
       "    </tr>\n",
       "    <tr>\n",
       "      <th>75%</th>\n",
       "      <td>718.000000</td>\n",
       "      <td>44.000000</td>\n",
       "      <td>7.00000</td>\n",
       "      <td>127644.240000</td>\n",
       "      <td>2.000000</td>\n",
       "      <td>1.00000</td>\n",
       "      <td>1.000000</td>\n",
       "      <td>149388.247500</td>\n",
       "      <td>0.000000</td>\n",
       "    </tr>\n",
       "    <tr>\n",
       "      <th>max</th>\n",
       "      <td>850.000000</td>\n",
       "      <td>92.000000</td>\n",
       "      <td>10.00000</td>\n",
       "      <td>250898.090000</td>\n",
       "      <td>4.000000</td>\n",
       "      <td>1.00000</td>\n",
       "      <td>1.000000</td>\n",
       "      <td>199992.480000</td>\n",
       "      <td>1.000000</td>\n",
       "    </tr>\n",
       "  </tbody>\n",
       "</table>\n",
       "</div>"
      ],
      "text/plain": [
       "        CreditScore           Age       Tenure        Balance  NumOfProducts  \\\n",
       "count  10000.000000  10000.000000  10000.00000   10000.000000   10000.000000   \n",
       "mean     650.528800     38.921800      4.99790   76485.889288       1.530200   \n",
       "std       96.653299     10.487806      2.76001   62397.405202       0.581654   \n",
       "min      350.000000     18.000000      0.00000       0.000000       1.000000   \n",
       "25%      584.000000     32.000000      3.00000       0.000000       1.000000   \n",
       "50%      652.000000     37.000000      5.00000   97198.540000       1.000000   \n",
       "75%      718.000000     44.000000      7.00000  127644.240000       2.000000   \n",
       "max      850.000000     92.000000     10.00000  250898.090000       4.000000   \n",
       "\n",
       "         HasCrCard  IsActiveMember  EstimatedSalary        Exited  \n",
       "count  10000.00000    10000.000000     10000.000000  10000.000000  \n",
       "mean       0.70550        0.515100    100090.239881      0.203700  \n",
       "std        0.45584        0.499797     57510.492818      0.402769  \n",
       "min        0.00000        0.000000        11.580000      0.000000  \n",
       "25%        0.00000        0.000000     51002.110000      0.000000  \n",
       "50%        1.00000        1.000000    100193.915000      0.000000  \n",
       "75%        1.00000        1.000000    149388.247500      0.000000  \n",
       "max        1.00000        1.000000    199992.480000      1.000000  "
      ]
     },
     "execution_count": 9,
     "metadata": {},
     "output_type": "execute_result"
    }
   ],
   "source": [
    "data.describe()"
   ]
  },
  {
   "cell_type": "markdown",
   "metadata": {},
   "source": [
    "Количественными признаками являются:  \n",
    "* CreditScore — кредитный рейтинг  \n",
    "* Age — возраст  \n",
    "* Tenure — сколько лет человек является клиентом банка  \n",
    "* Balance — баланс на счёте  \n",
    "* NumOfProducts — количество продуктов банка, используемых клиентом  \n",
    "* EstimatedSalary — предполагаемая зарплата"
   ]
  },
  {
   "cell_type": "markdown",
   "metadata": {},
   "source": [
    "Категориальными признаками являются:  \n",
    "* Geography — страна проживания  \n",
    "* Gender — пол  \n",
    "* HasCrCard — наличие кредитной карты  \n",
    "* IsActiveMember — активность клиента"
   ]
  },
  {
   "cell_type": "markdown",
   "metadata": {},
   "source": [
    "Оценим количество полных дубликатов в таблице:"
   ]
  },
  {
   "cell_type": "code",
   "execution_count": 10,
   "metadata": {
    "scrolled": false
   },
   "outputs": [
    {
     "name": "stdout",
     "output_type": "stream",
     "text": [
      "Количество полных дубликатов в таблице: 0\n"
     ]
    }
   ],
   "source": [
    "print(\"Количество полных дубликатов в таблице:\", data.duplicated().sum())"
   ]
  },
  {
   "cell_type": "markdown",
   "metadata": {},
   "source": [
    "Техникой OHE категориальные признаки переведем в численные:"
   ]
  },
  {
   "cell_type": "code",
   "execution_count": 11,
   "metadata": {},
   "outputs": [],
   "source": [
    "#Чтобы не попасть в ловушку фиктивных признаков, удалим первый из связанных между собой столбцов\n",
    "data = pd.get_dummies(data, drop_first=True)"
   ]
  },
  {
   "cell_type": "markdown",
   "metadata": {},
   "source": [
    "Отобразим преобразованную таблицу:"
   ]
  },
  {
   "cell_type": "code",
   "execution_count": 12,
   "metadata": {
    "scrolled": true
   },
   "outputs": [
    {
     "data": {
      "text/html": [
       "<div>\n",
       "<style scoped>\n",
       "    .dataframe tbody tr th:only-of-type {\n",
       "        vertical-align: middle;\n",
       "    }\n",
       "\n",
       "    .dataframe tbody tr th {\n",
       "        vertical-align: top;\n",
       "    }\n",
       "\n",
       "    .dataframe thead th {\n",
       "        text-align: right;\n",
       "    }\n",
       "</style>\n",
       "<table border=\"1\" class=\"dataframe\">\n",
       "  <thead>\n",
       "    <tr style=\"text-align: right;\">\n",
       "      <th></th>\n",
       "      <th>CreditScore</th>\n",
       "      <th>Age</th>\n",
       "      <th>Tenure</th>\n",
       "      <th>Balance</th>\n",
       "      <th>NumOfProducts</th>\n",
       "      <th>HasCrCard</th>\n",
       "      <th>IsActiveMember</th>\n",
       "      <th>EstimatedSalary</th>\n",
       "      <th>Exited</th>\n",
       "      <th>Geography_Germany</th>\n",
       "      <th>Geography_Spain</th>\n",
       "      <th>Gender_Male</th>\n",
       "    </tr>\n",
       "  </thead>\n",
       "  <tbody>\n",
       "    <tr>\n",
       "      <th>0</th>\n",
       "      <td>619</td>\n",
       "      <td>42</td>\n",
       "      <td>2.0</td>\n",
       "      <td>0.00</td>\n",
       "      <td>1</td>\n",
       "      <td>1</td>\n",
       "      <td>1</td>\n",
       "      <td>101348.88</td>\n",
       "      <td>1</td>\n",
       "      <td>0</td>\n",
       "      <td>0</td>\n",
       "      <td>0</td>\n",
       "    </tr>\n",
       "    <tr>\n",
       "      <th>1</th>\n",
       "      <td>608</td>\n",
       "      <td>41</td>\n",
       "      <td>1.0</td>\n",
       "      <td>83807.86</td>\n",
       "      <td>1</td>\n",
       "      <td>0</td>\n",
       "      <td>1</td>\n",
       "      <td>112542.58</td>\n",
       "      <td>0</td>\n",
       "      <td>0</td>\n",
       "      <td>1</td>\n",
       "      <td>0</td>\n",
       "    </tr>\n",
       "    <tr>\n",
       "      <th>2</th>\n",
       "      <td>502</td>\n",
       "      <td>42</td>\n",
       "      <td>8.0</td>\n",
       "      <td>159660.80</td>\n",
       "      <td>3</td>\n",
       "      <td>1</td>\n",
       "      <td>0</td>\n",
       "      <td>113931.57</td>\n",
       "      <td>1</td>\n",
       "      <td>0</td>\n",
       "      <td>0</td>\n",
       "      <td>0</td>\n",
       "    </tr>\n",
       "    <tr>\n",
       "      <th>3</th>\n",
       "      <td>699</td>\n",
       "      <td>39</td>\n",
       "      <td>1.0</td>\n",
       "      <td>0.00</td>\n",
       "      <td>2</td>\n",
       "      <td>0</td>\n",
       "      <td>0</td>\n",
       "      <td>93826.63</td>\n",
       "      <td>0</td>\n",
       "      <td>0</td>\n",
       "      <td>0</td>\n",
       "      <td>0</td>\n",
       "    </tr>\n",
       "    <tr>\n",
       "      <th>4</th>\n",
       "      <td>850</td>\n",
       "      <td>43</td>\n",
       "      <td>2.0</td>\n",
       "      <td>125510.82</td>\n",
       "      <td>1</td>\n",
       "      <td>1</td>\n",
       "      <td>1</td>\n",
       "      <td>79084.10</td>\n",
       "      <td>0</td>\n",
       "      <td>0</td>\n",
       "      <td>1</td>\n",
       "      <td>0</td>\n",
       "    </tr>\n",
       "  </tbody>\n",
       "</table>\n",
       "</div>"
      ],
      "text/plain": [
       "   CreditScore  Age  Tenure    Balance  NumOfProducts  HasCrCard  \\\n",
       "0          619   42     2.0       0.00              1          1   \n",
       "1          608   41     1.0   83807.86              1          0   \n",
       "2          502   42     8.0  159660.80              3          1   \n",
       "3          699   39     1.0       0.00              2          0   \n",
       "4          850   43     2.0  125510.82              1          1   \n",
       "\n",
       "   IsActiveMember  EstimatedSalary  Exited  Geography_Germany  \\\n",
       "0               1        101348.88       1                  0   \n",
       "1               1        112542.58       0                  0   \n",
       "2               0        113931.57       1                  0   \n",
       "3               0         93826.63       0                  0   \n",
       "4               1         79084.10       0                  0   \n",
       "\n",
       "   Geography_Spain  Gender_Male  \n",
       "0                0            0  \n",
       "1                1            0  \n",
       "2                0            0  \n",
       "3                0            0  \n",
       "4                1            0  "
      ]
     },
     "execution_count": 12,
     "metadata": {},
     "output_type": "execute_result"
    }
   ],
   "source": [
    "data.head()"
   ]
  },
  {
   "cell_type": "markdown",
   "metadata": {},
   "source": [
    "## Исследование задачи"
   ]
  },
  {
   "cell_type": "markdown",
   "metadata": {},
   "source": [
    "### Разделение данных на выборки"
   ]
  },
  {
   "cell_type": "markdown",
   "metadata": {},
   "source": [
    "Разделим исходные данные на обучающую, валидационную и тестовую выборки в соотношении 3:1:1."
   ]
  },
  {
   "cell_type": "code",
   "execution_count": 13,
   "metadata": {},
   "outputs": [],
   "source": [
    "#выделяем целевой признак, оставляя в нем только столбец с категориальным признаком\n",
    "target = data['Exited']\n",
    "#выделяем матрицу признаков, вычитая из таблицы целевой признак (удаляя столбец)\n",
    "features = data.drop(['Exited'], axis=1)"
   ]
  },
  {
   "cell_type": "markdown",
   "metadata": {},
   "source": [
    "Выделим обучающую выборку, она составит 60% от общего числа данных:"
   ]
  },
  {
   "cell_type": "code",
   "execution_count": 14,
   "metadata": {},
   "outputs": [],
   "source": [
    "(features_train, \n",
    " features_part_2, \n",
    " target_train, \n",
    " target_part_2) = train_test_split(features, \n",
    "                                  target, \n",
    "                                  test_size=0.4, \n",
    "                                  random_state=RANDOM) \n",
    "# отделим 40% данных для дальнейшего разбиения на валидационную и тестовую выборки\n",
    "# при этом 60% данных останется для обучения модели в переменных features_train и target_train\n",
    "# features_train - тренировочная матрица признаков\n",
    "# target_train - тренировочный целевой признак\n",
    "\n",
    "# для разделения данных используется функция train_test_split библиотеки sklearn.model_selection"
   ]
  },
  {
   "cell_type": "markdown",
   "metadata": {},
   "source": [
    "Выделим валидационные и тестовые выборки:"
   ]
  },
  {
   "cell_type": "code",
   "execution_count": 15,
   "metadata": {},
   "outputs": [],
   "source": [
    "(features_valid, \n",
    " features_test, \n",
    " target_valid, \n",
    " target_test) = train_test_split(features_part_2, \n",
    "                                  target_part_2, \n",
    "                                  test_size=0.5, \n",
    "                                  random_state=RANDOM)\n",
    "# разделим оставшиеся данные пополам: на валидационную и тестовую выборки"
   ]
  },
  {
   "cell_type": "markdown",
   "metadata": {},
   "source": [
    "### Оценка баланса классов"
   ]
  },
  {
   "cell_type": "markdown",
   "metadata": {},
   "source": [
    "Классы несбалансированны, когда их соотношение далеко от 1:1. Баланс классов (англ. class balance) наблюдается, если их количество примерно равно. Оценим баланс классов на целевом признаке обучающей выборки: "
   ]
  },
  {
   "cell_type": "code",
   "execution_count": 16,
   "metadata": {
    "scrolled": true
   },
   "outputs": [
    {
     "data": {
      "text/plain": [
       "0    0.800667\n",
       "1    0.199333\n",
       "Name: Exited, dtype: float64"
      ]
     },
     "execution_count": 16,
     "metadata": {},
     "output_type": "execute_result"
    }
   ],
   "source": [
    "balance_rate = target_train.value_counts(normalize=True)\n",
    "balance_rate\n",
    "# normalize=True означает, что возвращаемый объект будет содержать значения относительно частоты встречаемых значений"
   ]
  },
  {
   "cell_type": "markdown",
   "metadata": {},
   "source": [
    "Обозначим в новой переменной соотнощение отрицательных объектов целевого признака к положительным:"
   ]
  },
  {
   "cell_type": "code",
   "execution_count": 17,
   "metadata": {},
   "outputs": [
    {
     "data": {
      "text/plain": [
       "4"
      ]
     },
     "execution_count": 17,
     "metadata": {},
     "output_type": "execute_result"
    }
   ],
   "source": [
    "rate = round(balance_rate[0] / balance_rate[1])\n",
    "rate"
   ]
  },
  {
   "cell_type": "markdown",
   "metadata": {},
   "source": [
    "Таким образом, в наших данных наблюдается явный дисбаланс классов."
   ]
  },
  {
   "cell_type": "markdown",
   "metadata": {},
   "source": [
    "### Масштабирование признаков"
   ]
  },
  {
   "cell_type": "markdown",
   "metadata": {},
   "source": [
    "Один из методов масштабирования — стандартизации данных.  \n",
    "Предположим, что все признаки распределены нормально, среднее (англ. mean, M) и дисперсия (лат. dispersio, D) определяются по выборке. "
   ]
  },
  {
   "cell_type": "markdown",
   "metadata": {},
   "source": [
    "Определим численные признаки для масштабирования:"
   ]
  },
  {
   "cell_type": "code",
   "execution_count": 18,
   "metadata": {},
   "outputs": [],
   "source": [
    "\"\"\"\n",
    "CreditScore — кредитный рейтинг\n",
    "Age — возраст\n",
    "Tenure — сколько лет человек является клиентом банка\n",
    "Balance — баланс на счёте\n",
    "NumOfProducts — количество продуктов банка, используемых клиентом\n",
    "EstimatedSalary — предполагаемая зарплата\n",
    "\"\"\"\n",
    "# запишем наименования колонок с численными признаками для масштабирования в переменную numeric\n",
    "numeric = ['CreditScore', 'Age', 'Tenure', 'Balance', 'NumOfProducts', 'EstimatedSalary']"
   ]
  },
  {
   "cell_type": "markdown",
   "metadata": {},
   "source": [
    "Стандартизируем численные признаки:"
   ]
  },
  {
   "cell_type": "code",
   "execution_count": 19,
   "metadata": {},
   "outputs": [],
   "source": [
    "# Чтобы предупреждение SettingWithCopy не появлялось\n",
    "pd.options.mode.chained_assignment = None\n",
    "\n",
    "# преобразователь масштаба методом стандартизации\n",
    "scaler = StandardScaler()\n",
    "\n",
    "# обучим преобразователь масштаба на численных признаках обучающей выборки\n",
    "scaler.fit(features_train[numeric])\n",
    "\n",
    "#преобразуем все численные признаки всех выборок\n",
    "features_train[numeric] = scaler.transform(features_train[numeric])\n",
    "features_valid[numeric] = scaler.transform(features_valid[numeric])\n",
    "features_test[numeric] = scaler.transform(features_test[numeric])"
   ]
  },
  {
   "cell_type": "markdown",
   "metadata": {},
   "source": [
    "## Борьба с дисбалансом"
   ]
  },
  {
   "cell_type": "markdown",
   "metadata": {},
   "source": [
    "### Upsampling"
   ]
  },
  {
   "cell_type": "markdown",
   "metadata": {},
   "source": [
    "Увеличение выборки.  \n",
    "Преобразование проходит в несколько этапов:  \n",
    "1. Разделить обучающую выборку на отрицательные и положительные объекты;\n",
    "2. Скопировать несколько раз положительные объекты;\n",
    "3. С учётом полученных данных создать новую обучающую выборку;\n",
    "4. Перемешать данные."
   ]
  },
  {
   "cell_type": "code",
   "execution_count": 20,
   "metadata": {
    "scrolled": true
   },
   "outputs": [],
   "source": [
    "# разделение обучающей выборки на положительные объекты\n",
    "feature_one = features_train[target == 1]\n",
    "target_one = target_train[target == 1]\n",
    "\n",
    "# разделение обучающей выборки на отрицательные объекты\n",
    "feature_zero = features_train[target == 0]\n",
    "target_zero = target_train[target == 0]\n",
    "\n",
    "# копирование положительных объектов с учетом их отношения к отрицательным, получение новой обучающей выборки\n",
    "features_train_upsampling = pd.concat([feature_one] * rate + [feature_zero])\n",
    "target_train_upsampling = pd.concat([target_one] * rate + [target_zero])\n",
    "\n",
    "#перемешивание данных\n",
    "features_train_upsampling,target_train_upsampling = shuffle(features_train_upsampling,\n",
    "                                                            target_train_upsampling,\n",
    "                                                            random_state = RANDOM)"
   ]
  },
  {
   "cell_type": "markdown",
   "metadata": {},
   "source": [
    "### Downsampling"
   ]
  },
  {
   "cell_type": "markdown",
   "metadata": {},
   "source": [
    "Уменьшение выборки.  \n",
    "Преобразование проходит в несколько этапов:  \n",
    "1. Разделить обучающую выборку на отрицательные и положительные объекты;\n",
    "2. Случайным образом отбросить часть из отрицательных объектов;\n",
    "3. С учётом полученных данных создать новую обучающую выборку;\n",
    "4. Перемешать данные. "
   ]
  },
  {
   "cell_type": "code",
   "execution_count": 21,
   "metadata": {},
   "outputs": [],
   "source": [
    "\"\"\"\n",
    "Чтобы выбросить из таблицы случайные элементы, применим функцию sample().\n",
    "На вход она принимает аргумент frac (от англ. fraction, «доля»). \n",
    "Возвращает случайные элементы в таком количестве, чтобы их доля от исходной таблицы была равна frac.\n",
    "\"\"\"\n",
    "# разделение обучающей выборки на положительные и отрицательные объекты мы произвели ранее\n",
    "\n",
    "# уменьшение доли отрицательных объектов случайным образом\n",
    "feature_zero_downsampling = feature_zero.sample(frac = 1/round(rate), random_state = RANDOM)\n",
    "target_zero_downsampling =  target_zero.sample(frac = 1/round(rate), random_state = RANDOM)\n",
    "\n",
    "# получение новой обучающей выборки: чтобы соединить таблицы, воспользуемся функцией pd.concat() («сцепить») \n",
    "features_train_downsampling = pd.concat([feature_one]  + [feature_zero_downsampling])\n",
    "target_train_downsampling = pd.concat([target_one] + [target_zero_downsampling])\n",
    "\n",
    "#перемешивание данных\n",
    "features_train_downsampling,target_train_downsampling = shuffle(features_train_downsampling,\n",
    "                                                                target_train_downsampling, \n",
    "                                                                random_state = RANDOM)\n"
   ]
  },
  {
   "cell_type": "markdown",
   "metadata": {},
   "source": [
    "### Добавление в модель параметра class_weight"
   ]
  },
  {
   "cell_type": "markdown",
   "metadata": {},
   "source": [
    "Взвешивание классов.  \n",
    "Придание объектам редкого класса большего веса.  \n",
    "Алгоритмы машинного обучения считают все объекты обучающей выборки равнозначными по умолчанию. Если важно указать, что какие-то объекты важнее, их классу присваивается вес (англ. class_weight, «вес класса»).  \n",
    "Если указать class_weight='balanced' (англ. «сбалансированный»), алгоритм посчитает, во сколько раз класс «0» встречается чаще класса «1».   \n",
    "\n",
    "\n",
    "Дальнейшая работа с этим параметром будет осуществляться на этапе тестирования моделей."
   ]
  },
  {
   "cell_type": "markdown",
   "metadata": {},
   "source": [
    "### Представление данных"
   ]
  },
  {
   "cell_type": "markdown",
   "metadata": {},
   "source": [
    "Для удобства дальнейшей работы создадим массив, в котором будут храниться все возможные сочетания методов выравнивания данных."
   ]
  },
  {
   "cell_type": "code",
   "execution_count": 22,
   "metadata": {},
   "outputs": [],
   "source": [
    "train_list = []\n",
    "# для метода увеличения выборки\n",
    "train_list.append((features_train_upsampling, target_train_upsampling))\n",
    "\n",
    "# для метода уменьшения выборки\n",
    "train_list.append((features_train_downsampling, target_train_downsampling))\n",
    "\n",
    "#для оценки обработки данных без изменения дисбаланса классов\n",
    "train_list.append((features_train, target_train))"
   ]
  },
  {
   "cell_type": "code",
   "execution_count": 23,
   "metadata": {},
   "outputs": [],
   "source": [
    "valid_list = []\n",
    "valid_list.append((features_valid,target_valid))\n",
    "valid_list.append((features_valid,target_valid))\n",
    "valid_list.append((features_valid,target_valid))"
   ]
  },
  {
   "cell_type": "code",
   "execution_count": 24,
   "metadata": {},
   "outputs": [],
   "source": [
    "test_list = []\n",
    "test_list.append((features_test,target_test))\n",
    "test_list.append((features_test,target_test))\n",
    "test_list.append((features_test,target_test))"
   ]
  },
  {
   "cell_type": "markdown",
   "metadata": {},
   "source": [
    "## Тестирование модели"
   ]
  },
  {
   "cell_type": "markdown",
   "metadata": {},
   "source": [
    "### Автоматический подбор параметров для модели машинного обучения"
   ]
  },
  {
   "cell_type": "markdown",
   "metadata": {},
   "source": [
    "Подбор параметров – одна из важных задач для построения модели машинного обучения. Изменение параметров модели может принципиально повлиять на ее качество. Например, модель может переобучиться. Перебор этих параметров вручную может занять колоссальное количество времени. Однако, существует модуль GridSearchCV.  \n",
    "GridSearchCV – это очень мощный инструмент для автоматического подбора параметров моделей машинного обучения. GridSearchCV находит наилучшие параметры, путем обычного перебора: он создает модель для каждой возможной комбинации параметров. Важно отметить, что такой подход может быть весьма времязатратным."
   ]
  },
  {
   "cell_type": "markdown",
   "metadata": {},
   "source": [
    "Напишем функцию для подбора наилучших параметоров модели:"
   ]
  },
  {
   "cell_type": "code",
   "execution_count": 25,
   "metadata": {},
   "outputs": [],
   "source": [
    "# на вход функции подаются следующие параметры:\n",
    "# train_list - обучающий массив, в котором хранятся все возможные сочетания методов выравнивания данных\n",
    "# valid_list - валидационный массив, в котором хранятся все возможные сочетания методов выравнивания данных\n",
    "# parameters - параметры выбранной модели обучения\n",
    "# model - наименование модели для обучения\n",
    "def fit_and_compare(train_list,valid_list,parameters,model):\n",
    "    # локальный параметр для сравления F1-меры\n",
    "    best_score = 0\n",
    "    # В Pyhon функция zip позволяет пройтись одновременно по нескольким итерируемым объектам (спискам и др.)\n",
    "    # Функция enumerate() используется для упрощения прохода по коллекциям в цикле, когда кроме самих элементов требуется их индекс\n",
    "    # tqdm - модуль, который выводит на консоль динамически обновляемый индикатор выполнения\n",
    "    # index - счетчик внутри списка для пар выборок\n",
    "    # train_data - обучающий массив конкретной пары выборок\n",
    "    # valid_data - валидационный массив конкретной пары выборок\n",
    "    for index,(train_data,valid_data) in tqdm(enumerate(zip(train_list,valid_list))):\n",
    "\n",
    "        # инициализация мат. модели для анализа: имя модели берем на входе в функцию, состояние фиксируем, добавляем взвешивание классов (для всех трех типов моделей эта функция доступна)\n",
    "        modelOut = model(random_state=RANDOM, class_weight=\"balanced\")\n",
    "        \n",
    "        # Запускаем обучение: на входе имя модели, ее парамтры и\n",
    "        # scoring — выбор метрики ошибки (для разных задач можно выбрать разные функции ошибки, здесь это F1-мера)\n",
    "        Grid = GridSearchCV(modelOut, parameters, scoring=\"f1\")\n",
    "        # train_data[0] - матрица признаков, train_data[1] - целевой признак\n",
    "        Grid.fit(train_data[0], train_data[1])\n",
    "        \n",
    "        # оцениваем F1-меру: на вход функции подаются:\n",
    "        # valid_data[1] - целевой признак валидационной выборки\n",
    "        # Grid.best_estimator_ - параметры оценщика самой лучшей обученной модели\n",
    "        # Grid.predict(valid_data[0]) - предсказание целелвого признака данных по матрице признаков валидационной выборки\n",
    "        valid_score = f1_score(valid_data[1], Grid.best_estimator_.predict(valid_data[0]))\n",
    "\n",
    "        # блок вывода расчитываемых параметров\n",
    "        print()\n",
    "        print(\"-----------------\")\n",
    "        print(\"Index: \", index)\n",
    "        print(\"Best score:\", Grid.best_score_)\n",
    "        print(\"f1 score (valid):\", valid_score) \n",
    "        print(\"-----------------\")\n",
    "\n",
    "        if best_score < valid_score:\n",
    "            best_score = valid_score\n",
    "            best_model = Grid.best_estimator_\n",
    "            best_index = index\n",
    "    \n",
    "    # блок вывода лучших параметров модели\n",
    "    print(\"-----BEST------\")\n",
    "    print(\"Best index: \", best_index)\n",
    "    print(\"Best f1 score (valid):\", best_score) \n",
    "    print(\"---------------------\")\n",
    "    print(Grid.best_params_)\n",
    "    \n",
    "    # сохраняем настройки параметров, которые дали наилучшие результаты\n",
    "    params = Grid.best_params_\n",
    "    \n",
    "    # возвращаем на выходе функции лучшее значение F1-меры, параметры оценщика самой лучшей обученной модели, соответствующий индекс, лучшие настройки параметров\n",
    "    return best_score, best_model, best_index, params"
   ]
  },
  {
   "cell_type": "markdown",
   "metadata": {},
   "source": [
    "###  Оптимизация классификатора (порогов), построение ROC-кривой"
   ]
  },
  {
   "cell_type": "code",
   "execution_count": 26,
   "metadata": {},
   "outputs": [],
   "source": [
    "# на вход функции подаются следующие параметры:\n",
    "# target_vector - массив целевых признаков\n",
    "# predictions - значения вероятностей классов\n",
    "# model_name - наименование модели\n",
    "def best_threshold(target_vector,predictions,model_name):\n",
    "    \n",
    "    # Первичное получение данных метрики ROC-кривой, pos_label=1 - метка положительного класса\n",
    "    \"\"\"\n",
    "    Построить ROC-кривую поможет функция roc_curve() (англ. ROC-кривая) из модуля sklearn.metrics:\n",
    "    from sklearn.metrics import roc_curve \n",
    "    На вход она принимает значения целевого признака и вероятности положительного класса.\n",
    "    Перебирает разные пороги и возвращает три списка:\n",
    "    значения FPR, значения TPR и рассмотренные пороги.\n",
    "    \"\"\"\n",
    "    fpr, tpr, thresholds = roc_curve(np.array(target_vector), predictions, pos_label=1)\n",
    "    \n",
    "    # инициализируем локальные переменные, в которые далее будем записывать полученные метрики\n",
    "    best_accuracy = 0\n",
    "    best_f1 = 0\n",
    "    best_threshold = -1\n",
    "    best_threshold_f1 = -1\n",
    "    \n",
    "    #Найдем площадь под кривой функцией auc()\n",
    "    auc_value = round(auc(fpr,tpr),2)\n",
    "            \n",
    "    # переберем все пороги, полученные выше, в поисках наилучшей точности\n",
    "    for threshold in thresholds:\n",
    "        # Чтобы найти нужный класс, оператором > сравниваем значения вероятностей класса «1» с порогом и создаем соответствующий массив:\n",
    "        pre_marker = np.array(predictions > threshold)\n",
    "        # Вычисляем точность\n",
    "        accuracy = accuracy_score(target_vector,pre_marker)\n",
    "        # И сравниваем вычисленную точность с наилучшей\n",
    "        if accuracy > best_accuracy:\n",
    "            # Если эта точность лучше, перезаписываем лучшую точность и лучший порог\n",
    "            best_accuracy = accuracy\n",
    "            best_threshold = threshold\n",
    "    \n",
    "    # То же самое для F1-меры\n",
    "    for threshold in thresholds:\n",
    "        pre_marker = np.array(predictions > threshold)\n",
    "        f1_threshold = f1_score(target_vector,pre_marker)\n",
    "        if f1_threshold > best_f1:\n",
    "            best_f1 = f1_threshold\n",
    "            best_threshold_f1 = threshold\n",
    "            \n",
    "    #Построим ROC-кривую\n",
    "    fig,ax = plt.subplots(figsize= (10,5))\n",
    "    \n",
    "    # ROC-кривая случайной модели (выглядит как прямая)\n",
    "    ax.plot(np.arange(0,1.1,0.1),np.arange(0,1.1,0.1),label = 'BaseLine',ls = '--')\n",
    "    # строим ROC-кривую, выводим необходимые пояснения\n",
    "    ax.plot(fpr,\n",
    "            tpr,\n",
    "            label = f\"{model_name} (area = {auc_value}, best_accuracy = {best_accuracy}, best_f1 = {best_f1})\")\n",
    "    # отображаем подписи\n",
    "    ax.legend()\n",
    "    # выставляем пределы осей\n",
    "    ax.set_xlim((0,1))\n",
    "    ax.set_ylim((0,1))\n",
    "    \n",
    "    \n",
    "    print(\"Лучшее значение F1-меры: {}, при лучшем пороге: {}\".format(best_f1,best_threshold_f1))\n",
    "    print(\"Лучшая точность: {}, при лучшем пороге: {}\".format(best_accuracy,best_threshold))"
   ]
  },
  {
   "cell_type": "markdown",
   "metadata": {},
   "source": [
    "### Модель RandomForestClassifier"
   ]
  },
  {
   "cell_type": "markdown",
   "metadata": {},
   "source": [
    "По сути, Random Forest является композицией (ансамблем) множества решающих деревьев, что позволяет снизить проблему переобучения и повысить точность в сравнении с одним деревом. Прогноз получается в результате агрегирования ответов множества деревьев. Тренировка деревьев происходит независимо друг от друга (на разных подмножествах), что решает проблему построения одинаковых деревьев на одном и том же наборе данных."
   ]
  },
  {
   "cell_type": "code",
   "execution_count": 27,
   "metadata": {},
   "outputs": [
    {
     "name": "stderr",
     "output_type": "stream",
     "text": [
      "1it [00:08,  8.12s/it]"
     ]
    },
    {
     "name": "stdout",
     "output_type": "stream",
     "text": [
      "\n",
      "-----------------\n",
      "Index:  0\n",
      "Best score: 0.8678551152067753\n",
      "f1 score (valid): 0.6209150326797385\n",
      "-----------------\n"
     ]
    },
    {
     "name": "stderr",
     "output_type": "stream",
     "text": [
      "2it [00:11,  5.47s/it]"
     ]
    },
    {
     "name": "stdout",
     "output_type": "stream",
     "text": [
      "\n",
      "-----------------\n",
      "Index:  1\n",
      "Best score: 0.7720571985978879\n",
      "f1 score (valid): 0.5928705440900562\n",
      "-----------------\n"
     ]
    },
    {
     "name": "stderr",
     "output_type": "stream",
     "text": [
      "3it [00:17,  5.95s/it]"
     ]
    },
    {
     "name": "stdout",
     "output_type": "stream",
     "text": [
      "\n",
      "-----------------\n",
      "Index:  2\n",
      "Best score: 0.6132374445736395\n",
      "f1 score (valid): 0.6251526251526253\n",
      "-----------------\n",
      "-----BEST------\n",
      "Best index:  2\n",
      "Best f1 score (valid): 0.6251526251526253\n",
      "---------------------\n",
      "{'max_depth': 10, 'n_estimators': 100}\n"
     ]
    },
    {
     "name": "stderr",
     "output_type": "stream",
     "text": [
      "\n"
     ]
    }
   ],
   "source": [
    "(best_score_RandomForest,\n",
    " best_model_RandomForest,\n",
    " best_index_RandomForest,\n",
    " params_RandomForest) = fit_and_compare(train_list,\n",
    "                                            valid_list,\n",
    "                                            {\"n_estimators\":[5,100],\"max_depth\":[1,10]},\n",
    "                                            RandomForestClassifier)"
   ]
  },
  {
   "cell_type": "markdown",
   "metadata": {},
   "source": [
    "Оценим работу наилучших параметров модели RandomForestClassifier на тестовой выборке:"
   ]
  },
  {
   "cell_type": "code",
   "execution_count": 28,
   "metadata": {
    "scrolled": true
   },
   "outputs": [
    {
     "name": "stdout",
     "output_type": "stream",
     "text": [
      "Лучшая F1-мера на тестовой выборке: 0.6004842615012106\n"
     ]
    }
   ],
   "source": [
    "print(\"Лучшая F1-мера на тестовой выборке:\", \n",
    "      f1_score(test_list[best_index_RandomForest][1], \n",
    "               best_model_RandomForest.predict(test_list[best_index_RandomForest][0]))) "
   ]
  },
  {
   "cell_type": "code",
   "execution_count": 29,
   "metadata": {},
   "outputs": [],
   "source": [
    "#значения вероятностей классов 1 для валидационной выборки матрицы признаков\n",
    "predictions_RandomForest = best_model_RandomForest.predict_proba(valid_list[best_index_RandomForest][0])[:,1]"
   ]
  },
  {
   "cell_type": "code",
   "execution_count": 30,
   "metadata": {},
   "outputs": [
    {
     "name": "stdout",
     "output_type": "stream",
     "text": [
      "Лучшее значение F1-меры: 0.6253101736972705, при лучшем пороге: 0.5099025905971534\n",
      "Лучшая точность: 0.863, при лучшем пороге: 0.6323962323561576\n"
     ]
    },
    {
     "data": {
      "image/png": "[encoded data removed]",
      "text/plain": [
       "<Figure size 720x360 with 1 Axes>"
      ]
     },
     "metadata": {
      "needs_background": "light"
     },
     "output_type": "display_data"
    }
   ],
   "source": [
    "best_threshold(valid_list[best_index_RandomForest][1], predictions_RandomForest, \"RandomForest\")"
   ]
  },
  {
   "cell_type": "markdown",
   "metadata": {},
   "source": [
    "### Модель LogisticRegression"
   ]
  },
  {
   "cell_type": "markdown",
   "metadata": {},
   "source": [
    "Логистическая регрессия – это алгоритм классификации, используемый для отнесения наблюдений к дискретному набору классов."
   ]
  },
  {
   "cell_type": "code",
   "execution_count": 31,
   "metadata": {
    "scrolled": true
   },
   "outputs": [
    {
     "name": "stderr",
     "output_type": "stream",
     "text": [
      "1it [00:04,  4.00s/it]"
     ]
    },
    {
     "name": "stdout",
     "output_type": "stream",
     "text": [
      "\n",
      "-----------------\n",
      "Index:  0\n",
      "Best score: 0.7106671619396432\n",
      "f1 score (valid): 0.4888507718696398\n",
      "-----------------\n"
     ]
    },
    {
     "name": "stderr",
     "output_type": "stream",
     "text": [
      "2it [00:04,  1.95s/it]"
     ]
    },
    {
     "name": "stdout",
     "output_type": "stream",
     "text": [
      "\n",
      "-----------------\n",
      "Index:  1\n",
      "Best score: 0.7085062917521202\n",
      "f1 score (valid): 0.4853700516351119\n",
      "-----------------\n"
     ]
    },
    {
     "name": "stderr",
     "output_type": "stream",
     "text": [
      "3it [00:08,  2.90s/it]"
     ]
    },
    {
     "name": "stdout",
     "output_type": "stream",
     "text": [
      "\n",
      "-----------------\n",
      "Index:  2\n",
      "Best score: 0.49476496530480096\n",
      "f1 score (valid): 0.4888507718696398\n",
      "-----------------\n",
      "-----BEST------\n",
      "Best index:  0\n",
      "Best f1 score (valid): 0.4888507718696398\n",
      "---------------------\n",
      "{'max_iter': 100, 'solver': 'liblinear'}\n"
     ]
    },
    {
     "name": "stderr",
     "output_type": "stream",
     "text": [
      "\n"
     ]
    }
   ],
   "source": [
    "(best_score_LogisticRegression,\n",
    " best_model_LogisticRegression,\n",
    " best_index_LogisticRegression,\n",
    " params_LogisticRegression) = fit_and_compare(train_list,\n",
    "                                            valid_list,\n",
    "                                            {\"solver\":(\"liblinear\", \"saga\"),\n",
    "                                             \"max_iter\":[100,1000]},\n",
    "                                            LogisticRegression)\n"
   ]
  },
  {
   "cell_type": "code",
   "execution_count": 32,
   "metadata": {
    "scrolled": true
   },
   "outputs": [
    {
     "name": "stdout",
     "output_type": "stream",
     "text": [
      "Лучшая F1-мера на тестовой выборке: 0.4775086505190312\n"
     ]
    }
   ],
   "source": [
    "print(\"Лучшая F1-мера на тестовой выборке:\",f1_score(test_list[best_index_LogisticRegression][1],\n",
    "                                       best_model_LogisticRegression.predict(\n",
    "                                           test_list[best_index_LogisticRegression][0]))) "
   ]
  },
  {
   "cell_type": "code",
   "execution_count": 33,
   "metadata": {},
   "outputs": [],
   "source": [
    "#значения вероятностей классов 1 для валидационной выборки матрицы признаков\n",
    "predictions_LogisticRegression = best_model_LogisticRegression.predict_proba(valid_list[best_index_LogisticRegression][0])[:,1]"
   ]
  },
  {
   "cell_type": "code",
   "execution_count": 34,
   "metadata": {},
   "outputs": [
    {
     "name": "stdout",
     "output_type": "stream",
     "text": [
      "Лучшее значение F1-меры: 0.5028142589118199, при лучшем пороге: 0.5392992646090762\n",
      "Лучшая точность: 0.807, при лучшем пороге: 0.8121069907892445\n"
     ]
    },
    {
     "data": {
      "image/png": "[encoded data removed]",
      "text/plain": [
       "<Figure size 720x360 with 1 Axes>"
      ]
     },
     "metadata": {
      "needs_background": "light"
     },
     "output_type": "display_data"
    }
   ],
   "source": [
    "best_threshold(valid_list[best_index_LogisticRegression][1], predictions_LogisticRegression, \"LogisticRegression\")"
   ]
  },
  {
   "cell_type": "markdown",
   "metadata": {},
   "source": [
    "### Модель DecisionTreeClassifier"
   ]
  },
  {
   "cell_type": "markdown",
   "metadata": {},
   "source": [
    "В основе популярных алгоритмов построения дерева решений лежит принцип жадной максимизации прироста информации – на каждом шаге выбирается тот признак, при разделении по которому прирост информации оказывается наибольшим. Дальше процедура повторяется рекурсивно, пока энтропия не окажется равной нулю или какой-то малой величине."
   ]
  },
  {
   "cell_type": "code",
   "execution_count": 35,
   "metadata": {
    "scrolled": true
   },
   "outputs": [
    {
     "name": "stderr",
     "output_type": "stream",
     "text": [
      "1it [00:00,  1.22it/s]"
     ]
    },
    {
     "name": "stdout",
     "output_type": "stream",
     "text": [
      "\n",
      "-----------------\n",
      "Index:  0\n",
      "Best score: 0.9265603598403761\n",
      "f1 score (valid): 0.4874551971326165\n",
      "-----------------\n"
     ]
    },
    {
     "name": "stderr",
     "output_type": "stream",
     "text": [
      "2it [00:01,  1.88it/s]"
     ]
    },
    {
     "name": "stdout",
     "output_type": "stream",
     "text": [
      "\n",
      "-----------------\n",
      "Index:  1\n",
      "Best score: 0.7115941431169915\n",
      "f1 score (valid): 0.5394495412844036\n",
      "-----------------\n"
     ]
    },
    {
     "name": "stderr",
     "output_type": "stream",
     "text": [
      "3it [00:02,  1.50it/s]"
     ]
    },
    {
     "name": "stdout",
     "output_type": "stream",
     "text": [
      "\n",
      "-----------------\n",
      "Index:  2\n",
      "Best score: 0.5041479875637609\n",
      "f1 score (valid): 0.541015625\n",
      "-----------------\n",
      "-----BEST------\n",
      "Best index:  2\n",
      "Best f1 score (valid): 0.541015625\n",
      "---------------------\n",
      "{'criterion': 'gini', 'max_depth': 2}\n"
     ]
    },
    {
     "name": "stderr",
     "output_type": "stream",
     "text": [
      "\n"
     ]
    }
   ],
   "source": [
    "(best_score_DecisionTree,\n",
    " best_model_DecisionTree,\n",
    " best_index_DecisionTree,\n",
    " params_DecisionTree) = fit_and_compare(train_list, \n",
    "                                        valid_list,\n",
    "                                            {\"criterion\":(\"gini\", \"entropy\"),\n",
    "                                             \"max_depth\":[2,16]},\n",
    "                                            DecisionTreeClassifier)"
   ]
  },
  {
   "cell_type": "code",
   "execution_count": 36,
   "metadata": {},
   "outputs": [
    {
     "name": "stdout",
     "output_type": "stream",
     "text": [
      "Лучшая F1-мера на тестовой выборке: 0.5129682997118156\n"
     ]
    }
   ],
   "source": [
    "print(\"Лучшая F1-мера на тестовой выборке:\",f1_score(test_list[best_index_DecisionTree][1],\n",
    "                                       best_model_DecisionTree.predict(\n",
    "                                           test_list[best_index_DecisionTree][0]))) "
   ]
  },
  {
   "cell_type": "code",
   "execution_count": 37,
   "metadata": {},
   "outputs": [],
   "source": [
    "#значения вероятностей классов 1 для валидационной выборки матрицы признаков\n",
    "predictions_DecisionTree = best_model_DecisionTree.predict_proba(valid_list[best_index_DecisionTree][0])[:,1]"
   ]
  },
  {
   "cell_type": "code",
   "execution_count": 38,
   "metadata": {
    "scrolled": true
   },
   "outputs": [
    {
     "name": "stdout",
     "output_type": "stream",
     "text": [
      "Лучшее значение F1-меры: 0.541015625, при лучшем пороге: 0.30801288730025395\n",
      "Лучшая точность: 0.824, при лучшем пороге: 0.5841108053790316\n"
     ]
    },
    {
     "data": {
      "image/png": "[encoded data removed]",
      "text/plain": [
       "<Figure size 720x360 with 1 Axes>"
      ]
     },
     "metadata": {
      "needs_background": "light"
     },
     "output_type": "display_data"
    }
   ],
   "source": [
    "best_threshold(valid_list[best_index_DecisionTree][1], predictions_DecisionTree, \"DecisionTree\")"
   ]
  },
  {
   "cell_type": "markdown",
   "metadata": {},
   "source": [
    "## Вывод"
   ]
  },
  {
   "cell_type": "markdown",
   "metadata": {},
   "source": [
    "Исходя из целей работы, получено следующее:  \n",
    "* Модель RandomForest работает на нашей выборке лучше всего;\n",
    "* Лучшее значение F1-меры на тестовой выборке равно 0.611;  \n",
    "* При этом ROC-AUC (площадь под кривой) составляет 0.85;\n",
    "* Для валидационной матрицы признаков лучшее значение F1-меры равно 0.6244 при лучшем пороге в 0.551, а лучшая точность равна 0.8625 при лучшем пороге в 0.712."
   ]
  }
 ],
 "metadata": {
  "ExecuteTimeLog": [
   {
    "duration": 1140,
    "start_time": "2022-02-15T08:49:10.911Z"
   },
   {
    "duration": 4,
    "start_time": "2022-02-15T08:53:19.173Z"
   },
   {
    "duration": 337,
    "start_time": "2022-02-15T15:53:28.184Z"
   },
   {
    "duration": 1228,
    "start_time": "2022-02-15T15:53:37.520Z"
   },
   {
    "duration": 23,
    "start_time": "2022-02-15T15:53:38.750Z"
   },
   {
    "duration": 16,
    "start_time": "2022-02-15T15:53:53.562Z"
   },
   {
    "duration": 18,
    "start_time": "2022-02-15T15:55:35.565Z"
   },
   {
    "duration": 5,
    "start_time": "2022-02-15T15:59:37.278Z"
   },
   {
    "duration": 10,
    "start_time": "2022-02-15T16:00:40.246Z"
   },
   {
    "duration": 306,
    "start_time": "2022-02-15T16:02:05.406Z"
   },
   {
    "duration": 6,
    "start_time": "2022-02-15T16:02:14.701Z"
   },
   {
    "duration": 4,
    "start_time": "2022-02-15T16:02:50.073Z"
   },
   {
    "duration": 4,
    "start_time": "2022-02-15T16:03:22.850Z"
   },
   {
    "duration": 116,
    "start_time": "2022-02-15T16:06:38.470Z"
   },
   {
    "duration": 83,
    "start_time": "2022-02-15T16:06:52.249Z"
   },
   {
    "duration": 84,
    "start_time": "2022-02-15T16:06:59.904Z"
   },
   {
    "duration": 85,
    "start_time": "2022-02-15T16:07:06.500Z"
   },
   {
    "duration": 4,
    "start_time": "2022-02-15T16:07:25.477Z"
   },
   {
    "duration": 82,
    "start_time": "2022-02-15T16:11:42.850Z"
   },
   {
    "duration": 4,
    "start_time": "2022-02-15T16:11:54.698Z"
   },
   {
    "duration": 33,
    "start_time": "2022-02-15T16:15:55.654Z"
   },
   {
    "duration": 9,
    "start_time": "2022-02-15T16:25:07.775Z"
   },
   {
    "duration": 11,
    "start_time": "2022-02-15T16:25:20.377Z"
   },
   {
    "duration": 13,
    "start_time": "2022-02-15T16:40:42.139Z"
   },
   {
    "duration": 12,
    "start_time": "2022-02-15T16:40:49.237Z"
   },
   {
    "duration": 5,
    "start_time": "2022-02-15T16:41:32.479Z"
   },
   {
    "duration": 6,
    "start_time": "2022-02-15T16:41:36.326Z"
   },
   {
    "duration": 32,
    "start_time": "2022-02-15T16:41:36.334Z"
   },
   {
    "duration": 15,
    "start_time": "2022-02-15T16:41:36.369Z"
   },
   {
    "duration": 34,
    "start_time": "2022-02-15T16:41:36.386Z"
   },
   {
    "duration": 6,
    "start_time": "2022-02-15T16:41:36.518Z"
   },
   {
    "duration": 25,
    "start_time": "2022-02-15T16:41:36.527Z"
   },
   {
    "duration": 5,
    "start_time": "2022-02-15T16:41:36.555Z"
   },
   {
    "duration": 44,
    "start_time": "2022-02-15T16:41:36.562Z"
   },
   {
    "duration": 10,
    "start_time": "2022-02-15T16:41:36.962Z"
   },
   {
    "duration": 15,
    "start_time": "2022-02-15T16:41:36.974Z"
   },
   {
    "duration": 13,
    "start_time": "2022-02-15T16:41:36.991Z"
   },
   {
    "duration": 19,
    "start_time": "2022-02-15T16:45:38.420Z"
   },
   {
    "duration": 5,
    "start_time": "2022-02-15T17:07:36.680Z"
   },
   {
    "duration": 8,
    "start_time": "2022-02-15T17:07:48.905Z"
   },
   {
    "duration": 5,
    "start_time": "2022-02-15T17:19:04.547Z"
   },
   {
    "duration": 4,
    "start_time": "2022-02-15T17:19:29.990Z"
   },
   {
    "duration": 15,
    "start_time": "2022-02-15T17:19:38.918Z"
   },
   {
    "duration": 8,
    "start_time": "2022-02-15T17:20:57.439Z"
   },
   {
    "duration": 6,
    "start_time": "2022-02-15T17:21:48.655Z"
   },
   {
    "duration": 12,
    "start_time": "2022-02-15T17:34:03.021Z"
   },
   {
    "duration": 7,
    "start_time": "2022-02-15T17:37:48.509Z"
   },
   {
    "duration": 5,
    "start_time": "2022-02-15T17:38:11.388Z"
   },
   {
    "duration": 3,
    "start_time": "2022-02-15T17:53:36.287Z"
   },
   {
    "duration": 24,
    "start_time": "2022-02-15T18:08:08.271Z"
   },
   {
    "duration": 5,
    "start_time": "2022-02-15T18:42:15.452Z"
   },
   {
    "duration": 6,
    "start_time": "2022-02-15T18:42:34.324Z"
   },
   {
    "duration": 5,
    "start_time": "2022-02-15T18:43:25.926Z"
   },
   {
    "duration": 4,
    "start_time": "2022-02-15T18:44:22.955Z"
   },
   {
    "duration": 3,
    "start_time": "2022-02-15T18:44:34.216Z"
   },
   {
    "duration": 4,
    "start_time": "2022-02-15T18:44:39.554Z"
   },
   {
    "duration": 88,
    "start_time": "2022-02-15T18:45:39.980Z"
   },
   {
    "duration": 17,
    "start_time": "2022-02-15T18:52:17.340Z"
   },
   {
    "duration": 252,
    "start_time": "2022-02-15T19:09:54.374Z"
   },
   {
    "duration": 10,
    "start_time": "2022-02-15T19:11:44.581Z"
   },
   {
    "duration": 4,
    "start_time": "2022-02-15T19:46:10.233Z"
   },
   {
    "duration": 3,
    "start_time": "2022-02-15T19:46:48.164Z"
   },
   {
    "duration": 3,
    "start_time": "2022-02-15T19:47:27.707Z"
   },
   {
    "duration": 1216,
    "start_time": "2022-02-16T06:23:43.224Z"
   },
   {
    "duration": 30,
    "start_time": "2022-02-16T06:23:44.442Z"
   },
   {
    "duration": 16,
    "start_time": "2022-02-16T06:23:44.474Z"
   },
   {
    "duration": 24,
    "start_time": "2022-02-16T06:23:44.493Z"
   },
   {
    "duration": 4,
    "start_time": "2022-02-16T06:23:44.519Z"
   },
   {
    "duration": 18,
    "start_time": "2022-02-16T06:23:44.525Z"
   },
   {
    "duration": 6,
    "start_time": "2022-02-16T06:23:44.545Z"
   },
   {
    "duration": 7,
    "start_time": "2022-02-16T06:23:44.554Z"
   },
   {
    "duration": 64,
    "start_time": "2022-02-16T06:23:44.563Z"
   },
   {
    "duration": 10,
    "start_time": "2022-02-16T06:23:44.630Z"
   },
   {
    "duration": 15,
    "start_time": "2022-02-16T06:23:44.642Z"
   },
   {
    "duration": 13,
    "start_time": "2022-02-16T06:23:44.659Z"
   },
   {
    "duration": 36,
    "start_time": "2022-02-16T06:23:44.674Z"
   },
   {
    "duration": 8,
    "start_time": "2022-02-16T06:23:44.712Z"
   },
   {
    "duration": 7,
    "start_time": "2022-02-16T06:23:44.722Z"
   },
   {
    "duration": 12,
    "start_time": "2022-02-16T06:23:44.731Z"
   },
   {
    "duration": 6,
    "start_time": "2022-02-16T06:23:44.745Z"
   },
   {
    "duration": 8,
    "start_time": "2022-02-16T06:23:44.753Z"
   },
   {
    "duration": 52,
    "start_time": "2022-02-16T06:23:44.763Z"
   },
   {
    "duration": 17,
    "start_time": "2022-02-16T06:23:44.817Z"
   },
   {
    "duration": 9,
    "start_time": "2022-02-16T06:23:44.836Z"
   },
   {
    "duration": 7,
    "start_time": "2022-02-16T06:23:44.847Z"
   },
   {
    "duration": 7,
    "start_time": "2022-02-16T06:23:44.857Z"
   },
   {
    "duration": 8,
    "start_time": "2022-02-16T06:23:44.865Z"
   },
   {
    "duration": 25,
    "start_time": "2022-02-16T06:49:47.209Z"
   },
   {
    "duration": 3,
    "start_time": "2022-02-16T06:50:15.013Z"
   },
   {
    "duration": 7,
    "start_time": "2022-02-16T08:10:56.306Z"
   },
   {
    "duration": 7981,
    "start_time": "2022-02-16T08:11:08.426Z"
   },
   {
    "duration": 4,
    "start_time": "2022-02-16T08:13:18.527Z"
   },
   {
    "duration": 8537,
    "start_time": "2022-02-16T08:13:42.282Z"
   },
   {
    "duration": 7765,
    "start_time": "2022-02-16T08:14:11.890Z"
   },
   {
    "duration": 47,
    "start_time": "2022-02-16T08:36:43.032Z"
   },
   {
    "duration": 625,
    "start_time": "2022-02-16T08:56:15.131Z"
   },
   {
    "duration": 1229,
    "start_time": "2022-02-16T08:58:11.510Z"
   },
   {
    "duration": 25,
    "start_time": "2022-02-16T08:58:12.741Z"
   },
   {
    "duration": 25,
    "start_time": "2022-02-16T08:58:12.769Z"
   },
   {
    "duration": 34,
    "start_time": "2022-02-16T08:58:12.796Z"
   },
   {
    "duration": 21,
    "start_time": "2022-02-16T08:58:12.832Z"
   },
   {
    "duration": 41,
    "start_time": "2022-02-16T08:58:12.855Z"
   },
   {
    "duration": 21,
    "start_time": "2022-02-16T08:58:12.898Z"
   },
   {
    "duration": 33,
    "start_time": "2022-02-16T08:58:12.921Z"
   },
   {
    "duration": 51,
    "start_time": "2022-02-16T08:58:12.956Z"
   },
   {
    "duration": 9,
    "start_time": "2022-02-16T08:58:13.009Z"
   },
   {
    "duration": 51,
    "start_time": "2022-02-16T08:58:13.020Z"
   },
   {
    "duration": 31,
    "start_time": "2022-02-16T08:58:13.074Z"
   },
   {
    "duration": 29,
    "start_time": "2022-02-16T08:58:13.107Z"
   },
   {
    "duration": 26,
    "start_time": "2022-02-16T08:58:13.138Z"
   },
   {
    "duration": 18,
    "start_time": "2022-02-16T08:58:13.166Z"
   },
   {
    "duration": 53,
    "start_time": "2022-02-16T08:58:13.186Z"
   },
   {
    "duration": 16,
    "start_time": "2022-02-16T08:58:13.242Z"
   },
   {
    "duration": 24,
    "start_time": "2022-02-16T08:58:13.260Z"
   },
   {
    "duration": 40,
    "start_time": "2022-02-16T08:58:13.286Z"
   },
   {
    "duration": 23,
    "start_time": "2022-02-16T08:58:13.328Z"
   },
   {
    "duration": 11,
    "start_time": "2022-02-16T08:58:13.353Z"
   },
   {
    "duration": 14,
    "start_time": "2022-02-16T08:58:13.366Z"
   },
   {
    "duration": 17,
    "start_time": "2022-02-16T08:58:13.384Z"
   },
   {
    "duration": 19,
    "start_time": "2022-02-16T08:58:13.403Z"
   },
   {
    "duration": 29,
    "start_time": "2022-02-16T08:58:13.424Z"
   },
   {
    "duration": 7642,
    "start_time": "2022-02-16T08:58:13.456Z"
   },
   {
    "duration": 40,
    "start_time": "2022-02-16T08:58:21.108Z"
   },
   {
    "duration": 140857,
    "start_time": "2022-02-16T08:58:21.150Z"
   },
   {
    "duration": 708,
    "start_time": "2022-02-16T09:02:21.404Z"
   },
   {
    "duration": 141255,
    "start_time": "2022-02-16T09:02:49.452Z"
   },
   {
    "duration": 1184,
    "start_time": "2022-02-16T09:06:22.459Z"
   },
   {
    "duration": 27,
    "start_time": "2022-02-16T09:06:23.645Z"
   },
   {
    "duration": 31,
    "start_time": "2022-02-16T09:06:23.675Z"
   },
   {
    "duration": 19,
    "start_time": "2022-02-16T09:06:23.709Z"
   },
   {
    "duration": 5,
    "start_time": "2022-02-16T09:06:23.730Z"
   },
   {
    "duration": 8,
    "start_time": "2022-02-16T09:06:23.737Z"
   },
   {
    "duration": 27,
    "start_time": "2022-02-16T09:06:23.747Z"
   },
   {
    "duration": 12,
    "start_time": "2022-02-16T09:06:23.777Z"
   },
   {
    "duration": 50,
    "start_time": "2022-02-16T09:06:23.791Z"
   },
   {
    "duration": 9,
    "start_time": "2022-02-16T09:06:23.843Z"
   },
   {
    "duration": 28,
    "start_time": "2022-02-16T09:06:23.854Z"
   },
   {
    "duration": 27,
    "start_time": "2022-02-16T09:06:23.884Z"
   },
   {
    "duration": 17,
    "start_time": "2022-02-16T09:06:23.913Z"
   },
   {
    "duration": 11,
    "start_time": "2022-02-16T09:06:23.932Z"
   },
   {
    "duration": 8,
    "start_time": "2022-02-16T09:06:23.945Z"
   },
   {
    "duration": 23,
    "start_time": "2022-02-16T09:06:23.954Z"
   },
   {
    "duration": 5,
    "start_time": "2022-02-16T09:06:23.979Z"
   },
   {
    "duration": 8,
    "start_time": "2022-02-16T09:06:23.986Z"
   },
   {
    "duration": 34,
    "start_time": "2022-02-16T09:06:23.996Z"
   },
   {
    "duration": 17,
    "start_time": "2022-02-16T09:06:24.032Z"
   },
   {
    "duration": 10,
    "start_time": "2022-02-16T09:06:24.051Z"
   },
   {
    "duration": 24,
    "start_time": "2022-02-16T09:06:24.063Z"
   },
   {
    "duration": 16,
    "start_time": "2022-02-16T09:06:24.091Z"
   },
   {
    "duration": 29,
    "start_time": "2022-02-16T09:06:24.109Z"
   },
   {
    "duration": 17,
    "start_time": "2022-02-16T09:06:24.140Z"
   },
   {
    "duration": 7637,
    "start_time": "2022-02-16T09:06:24.159Z"
   },
   {
    "duration": 48,
    "start_time": "2022-02-16T09:06:31.797Z"
   },
   {
    "duration": 69159,
    "start_time": "2022-02-16T09:06:31.847Z"
   },
   {
    "duration": 5133,
    "start_time": "2022-02-16T09:08:07.080Z"
   },
   {
    "duration": 566,
    "start_time": "2022-02-16T09:08:37.413Z"
   },
   {
    "duration": 242,
    "start_time": "2022-02-16T09:08:48.290Z"
   },
   {
    "duration": 5061,
    "start_time": "2022-02-16T09:09:06.650Z"
   },
   {
    "duration": 5321,
    "start_time": "2022-02-16T09:09:26.086Z"
   },
   {
    "duration": 775,
    "start_time": "2022-02-16T09:23:22.504Z"
   },
   {
    "duration": 10,
    "start_time": "2022-02-16T09:29:19.975Z"
   },
   {
    "duration": 8,
    "start_time": "2022-02-16T09:30:01.319Z"
   },
   {
    "duration": 1119,
    "start_time": "2022-02-16T15:19:57.051Z"
   },
   {
    "duration": 27,
    "start_time": "2022-02-16T15:19:58.172Z"
   },
   {
    "duration": 14,
    "start_time": "2022-02-16T15:19:58.201Z"
   },
   {
    "duration": 15,
    "start_time": "2022-02-16T15:19:58.217Z"
   },
   {
    "duration": 13,
    "start_time": "2022-02-16T15:19:58.234Z"
   },
   {
    "duration": 10,
    "start_time": "2022-02-16T15:19:58.248Z"
   },
   {
    "duration": 4,
    "start_time": "2022-02-16T15:19:58.259Z"
   },
   {
    "duration": 5,
    "start_time": "2022-02-16T15:19:58.266Z"
   },
   {
    "duration": 30,
    "start_time": "2022-02-16T15:19:58.273Z"
   },
   {
    "duration": 41,
    "start_time": "2022-02-16T15:19:58.305Z"
   },
   {
    "duration": 11,
    "start_time": "2022-02-16T15:19:58.348Z"
   },
   {
    "duration": 13,
    "start_time": "2022-02-16T15:19:58.360Z"
   },
   {
    "duration": 6,
    "start_time": "2022-02-16T15:19:58.375Z"
   },
   {
    "duration": 10,
    "start_time": "2022-02-16T15:19:58.383Z"
   },
   {
    "duration": 6,
    "start_time": "2022-02-16T15:19:58.394Z"
   },
   {
    "duration": 11,
    "start_time": "2022-02-16T15:19:58.401Z"
   },
   {
    "duration": 3,
    "start_time": "2022-02-16T15:19:58.414Z"
   },
   {
    "duration": 28,
    "start_time": "2022-02-16T15:19:58.419Z"
   },
   {
    "duration": 23,
    "start_time": "2022-02-16T15:19:58.449Z"
   },
   {
    "duration": 14,
    "start_time": "2022-02-16T15:19:58.474Z"
   },
   {
    "duration": 9,
    "start_time": "2022-02-16T15:19:58.490Z"
   },
   {
    "duration": 3,
    "start_time": "2022-02-16T15:19:58.500Z"
   },
   {
    "duration": 6,
    "start_time": "2022-02-16T15:19:58.506Z"
   },
   {
    "duration": 10,
    "start_time": "2022-02-16T15:19:58.514Z"
   },
   {
    "duration": 5,
    "start_time": "2022-02-16T15:19:58.547Z"
   },
   {
    "duration": 6764,
    "start_time": "2022-02-16T15:19:58.554Z"
   },
   {
    "duration": 44,
    "start_time": "2022-02-16T15:20:05.320Z"
   },
   {
    "duration": 4706,
    "start_time": "2022-02-16T15:20:05.365Z"
   },
   {
    "duration": 77,
    "start_time": "2022-02-16T15:20:10.073Z"
   },
   {
    "duration": 803,
    "start_time": "2022-02-16T15:20:10.152Z"
   },
   {
    "duration": 5,
    "start_time": "2022-02-16T15:20:10.957Z"
   },
   {
    "duration": 124,
    "start_time": "2022-02-16T16:24:16.013Z"
   },
   {
    "duration": 7,
    "start_time": "2022-02-16T16:27:28.711Z"
   },
   {
    "duration": 30,
    "start_time": "2022-02-16T16:27:58.558Z"
   },
   {
    "duration": 817,
    "start_time": "2022-02-16T16:28:27.340Z"
   },
   {
    "duration": 4,
    "start_time": "2022-02-16T16:29:34.134Z"
   },
   {
    "duration": 854,
    "start_time": "2022-02-16T16:29:45.595Z"
   },
   {
    "duration": 5,
    "start_time": "2022-02-16T16:32:52.167Z"
   },
   {
    "duration": 1004,
    "start_time": "2022-02-16T16:33:33.357Z"
   },
   {
    "duration": 5,
    "start_time": "2022-02-16T16:34:31.566Z"
   },
   {
    "duration": 196,
    "start_time": "2022-02-16T16:34:57.180Z"
   },
   {
    "duration": 1073,
    "start_time": "2022-02-16T16:53:13.673Z"
   },
   {
    "duration": 27,
    "start_time": "2022-02-16T16:53:14.748Z"
   },
   {
    "duration": 13,
    "start_time": "2022-02-16T16:53:14.777Z"
   },
   {
    "duration": 16,
    "start_time": "2022-02-16T16:53:14.792Z"
   },
   {
    "duration": 4,
    "start_time": "2022-02-16T16:53:14.809Z"
   },
   {
    "duration": 8,
    "start_time": "2022-02-16T16:53:14.814Z"
   },
   {
    "duration": 3,
    "start_time": "2022-02-16T16:53:14.824Z"
   },
   {
    "duration": 18,
    "start_time": "2022-02-16T16:53:14.830Z"
   },
   {
    "duration": 30,
    "start_time": "2022-02-16T16:53:14.850Z"
   },
   {
    "duration": 8,
    "start_time": "2022-02-16T16:53:14.882Z"
   },
   {
    "duration": 11,
    "start_time": "2022-02-16T16:53:14.891Z"
   },
   {
    "duration": 9,
    "start_time": "2022-02-16T16:53:14.904Z"
   },
   {
    "duration": 5,
    "start_time": "2022-02-16T16:53:14.946Z"
   },
   {
    "duration": 10,
    "start_time": "2022-02-16T16:53:14.952Z"
   },
   {
    "duration": 5,
    "start_time": "2022-02-16T16:53:14.963Z"
   },
   {
    "duration": 9,
    "start_time": "2022-02-16T16:53:14.969Z"
   },
   {
    "duration": 5,
    "start_time": "2022-02-16T16:53:14.980Z"
   },
   {
    "duration": 5,
    "start_time": "2022-02-16T16:53:14.986Z"
   },
   {
    "duration": 26,
    "start_time": "2022-02-16T16:53:14.992Z"
   },
   {
    "duration": 36,
    "start_time": "2022-02-16T16:53:15.020Z"
   },
   {
    "duration": 8,
    "start_time": "2022-02-16T16:53:15.058Z"
   },
   {
    "duration": 4,
    "start_time": "2022-02-16T16:53:15.067Z"
   },
   {
    "duration": 3,
    "start_time": "2022-02-16T16:53:15.074Z"
   },
   {
    "duration": 6,
    "start_time": "2022-02-16T16:53:15.078Z"
   },
   {
    "duration": 5,
    "start_time": "2022-02-16T16:53:15.086Z"
   },
   {
    "duration": 9,
    "start_time": "2022-02-16T16:53:15.093Z"
   },
   {
    "duration": 6501,
    "start_time": "2022-02-16T16:53:15.103Z"
   },
   {
    "duration": 50,
    "start_time": "2022-02-16T16:53:21.606Z"
   },
   {
    "duration": 31,
    "start_time": "2022-02-16T16:53:21.657Z"
   },
   {
    "duration": 861,
    "start_time": "2022-02-16T16:53:21.690Z"
   },
   {
    "duration": 4811,
    "start_time": "2022-02-16T16:53:22.552Z"
   },
   {
    "duration": 91,
    "start_time": "2022-02-16T16:53:27.365Z"
   },
   {
    "duration": 109,
    "start_time": "2022-02-16T16:53:27.547Z"
   },
   {
    "duration": 1200,
    "start_time": "2022-02-16T16:53:27.658Z"
   },
   {
    "duration": 617,
    "start_time": "2022-02-16T16:53:28.860Z"
   },
   {
    "duration": 6,
    "start_time": "2022-02-16T16:53:29.478Z"
   },
   {
    "duration": 3,
    "start_time": "2022-02-16T16:53:29.486Z"
   },
   {
    "duration": 206,
    "start_time": "2022-02-16T16:53:29.491Z"
   },
   {
    "duration": 1105,
    "start_time": "2022-02-17T06:30:22.539Z"
   },
   {
    "duration": 23,
    "start_time": "2022-02-17T06:30:28.282Z"
   },
   {
    "duration": 15,
    "start_time": "2022-02-17T06:30:28.940Z"
   },
   {
    "duration": 16,
    "start_time": "2022-02-17T06:30:29.880Z"
   },
   {
    "duration": 5,
    "start_time": "2022-02-17T06:30:33.099Z"
   },
   {
    "duration": 11,
    "start_time": "2022-02-17T06:31:20.122Z"
   },
   {
    "duration": 5,
    "start_time": "2022-02-17T06:33:54.551Z"
   },
   {
    "duration": 4,
    "start_time": "2022-02-17T06:33:56.099Z"
   },
   {
    "duration": 33,
    "start_time": "2022-02-17T06:33:57.902Z"
   },
   {
    "duration": 10,
    "start_time": "2022-02-17T06:34:24.497Z"
   },
   {
    "duration": 13,
    "start_time": "2022-02-17T06:34:26.775Z"
   },
   {
    "duration": 5,
    "start_time": "2022-02-17T06:35:09.954Z"
   },
   {
    "duration": 6,
    "start_time": "2022-02-17T06:35:14.914Z"
   },
   {
    "duration": 6,
    "start_time": "2022-02-17T06:35:16.501Z"
   },
   {
    "duration": 8,
    "start_time": "2022-02-17T06:35:55.382Z"
   },
   {
    "duration": 4,
    "start_time": "2022-02-17T06:35:56.437Z"
   },
   {
    "duration": 3,
    "start_time": "2022-02-17T06:36:31.726Z"
   },
   {
    "duration": 23,
    "start_time": "2022-02-17T06:36:38.412Z"
   },
   {
    "duration": 15,
    "start_time": "2022-02-17T06:37:10.317Z"
   },
   {
    "duration": 9,
    "start_time": "2022-02-17T06:37:48.484Z"
   },
   {
    "duration": 3,
    "start_time": "2022-02-17T06:49:44.224Z"
   },
   {
    "duration": 3,
    "start_time": "2022-02-17T06:49:45.159Z"
   },
   {
    "duration": 3,
    "start_time": "2022-02-17T06:49:45.610Z"
   },
   {
    "duration": 5,
    "start_time": "2022-02-17T06:50:14.887Z"
   },
   {
    "duration": 6,
    "start_time": "2022-02-17T06:53:04.029Z"
   },
   {
    "duration": 7,
    "start_time": "2022-02-17T06:53:07.899Z"
   },
   {
    "duration": 6911,
    "start_time": "2022-02-17T06:53:10.462Z"
   },
   {
    "duration": 37,
    "start_time": "2022-02-17T06:53:17.375Z"
   },
   {
    "duration": 47,
    "start_time": "2022-02-17T06:53:17.415Z"
   },
   {
    "duration": 932,
    "start_time": "2022-02-17T06:53:17.464Z"
   },
   {
    "duration": 4934,
    "start_time": "2022-02-17T06:53:18.397Z"
   },
   {
    "duration": 98,
    "start_time": "2022-02-17T06:53:23.333Z"
   },
   {
    "duration": 102,
    "start_time": "2022-02-17T06:53:23.433Z"
   },
   {
    "duration": 1259,
    "start_time": "2022-02-17T06:53:23.544Z"
   },
   {
    "duration": 665,
    "start_time": "2022-02-17T06:53:24.805Z"
   },
   {
    "duration": 5,
    "start_time": "2022-02-17T06:53:25.472Z"
   },
   {
    "duration": 4,
    "start_time": "2022-02-17T06:53:25.479Z"
   },
   {
    "duration": 222,
    "start_time": "2022-02-17T06:53:25.484Z"
   },
   {
    "duration": 1359,
    "start_time": "2022-02-17T07:19:13.478Z"
   },
   {
    "duration": 47,
    "start_time": "2022-02-17T07:19:14.839Z"
   },
   {
    "duration": 17,
    "start_time": "2022-02-17T07:19:14.889Z"
   },
   {
    "duration": 17,
    "start_time": "2022-02-17T07:19:14.908Z"
   },
   {
    "duration": 4,
    "start_time": "2022-02-17T07:19:14.927Z"
   },
   {
    "duration": 10,
    "start_time": "2022-02-17T07:19:14.932Z"
   },
   {
    "duration": 5,
    "start_time": "2022-02-17T07:19:14.943Z"
   },
   {
    "duration": 5,
    "start_time": "2022-02-17T07:19:14.950Z"
   },
   {
    "duration": 30,
    "start_time": "2022-02-17T07:19:14.957Z"
   },
   {
    "duration": 7,
    "start_time": "2022-02-17T07:19:14.989Z"
   },
   {
    "duration": 13,
    "start_time": "2022-02-17T07:19:14.998Z"
   },
   {
    "duration": 36,
    "start_time": "2022-02-17T07:19:15.012Z"
   },
   {
    "duration": 5,
    "start_time": "2022-02-17T07:19:15.050Z"
   },
   {
    "duration": 6,
    "start_time": "2022-02-17T07:19:15.056Z"
   },
   {
    "duration": 9,
    "start_time": "2022-02-17T07:19:15.064Z"
   },
   {
    "duration": 16,
    "start_time": "2022-02-17T07:19:15.074Z"
   },
   {
    "duration": 4,
    "start_time": "2022-02-17T07:19:15.092Z"
   },
   {
    "duration": 9,
    "start_time": "2022-02-17T07:19:15.098Z"
   },
   {
    "duration": 25,
    "start_time": "2022-02-17T07:19:15.108Z"
   },
   {
    "duration": 23,
    "start_time": "2022-02-17T07:19:15.134Z"
   },
   {
    "duration": 8,
    "start_time": "2022-02-17T07:19:15.158Z"
   },
   {
    "duration": 6,
    "start_time": "2022-02-17T07:19:15.167Z"
   },
   {
    "duration": 12,
    "start_time": "2022-02-17T07:19:15.176Z"
   },
   {
    "duration": 13,
    "start_time": "2022-02-17T07:19:15.190Z"
   },
   {
    "duration": 12,
    "start_time": "2022-02-17T07:19:15.204Z"
   },
   {
    "duration": 7,
    "start_time": "2022-02-17T07:19:15.217Z"
   },
   {
    "duration": 6453,
    "start_time": "2022-02-17T07:19:15.225Z"
   },
   {
    "duration": 33,
    "start_time": "2022-02-17T07:19:21.680Z"
   },
   {
    "duration": 46,
    "start_time": "2022-02-17T07:19:21.714Z"
   },
   {
    "duration": 853,
    "start_time": "2022-02-17T07:19:21.762Z"
   },
   {
    "duration": 4647,
    "start_time": "2022-02-17T07:19:22.616Z"
   },
   {
    "duration": 86,
    "start_time": "2022-02-17T07:19:27.265Z"
   },
   {
    "duration": 94,
    "start_time": "2022-02-17T07:19:27.353Z"
   },
   {
    "duration": 1205,
    "start_time": "2022-02-17T07:19:27.449Z"
   },
   {
    "duration": 663,
    "start_time": "2022-02-17T07:19:28.656Z"
   },
   {
    "duration": 6,
    "start_time": "2022-02-17T07:19:29.321Z"
   },
   {
    "duration": 19,
    "start_time": "2022-02-17T07:19:29.329Z"
   },
   {
    "duration": 288,
    "start_time": "2022-02-17T07:19:29.349Z"
   },
   {
    "duration": 5,
    "start_time": "2022-02-17T07:38:28.423Z"
   },
   {
    "duration": 5,
    "start_time": "2022-02-17T07:38:34.831Z"
   },
   {
    "duration": 40,
    "start_time": "2022-02-17T07:38:34.838Z"
   },
   {
    "duration": 11,
    "start_time": "2022-02-17T07:38:34.880Z"
   },
   {
    "duration": 17,
    "start_time": "2022-02-17T07:38:34.893Z"
   },
   {
    "duration": 4,
    "start_time": "2022-02-17T07:38:34.912Z"
   },
   {
    "duration": 24,
    "start_time": "2022-02-17T07:38:34.917Z"
   },
   {
    "duration": 5,
    "start_time": "2022-02-17T07:38:34.944Z"
   },
   {
    "duration": 4,
    "start_time": "2022-02-17T07:38:34.951Z"
   },
   {
    "duration": 35,
    "start_time": "2022-02-17T07:38:34.957Z"
   },
   {
    "duration": 9,
    "start_time": "2022-02-17T07:38:34.993Z"
   },
   {
    "duration": 12,
    "start_time": "2022-02-17T07:38:35.003Z"
   },
   {
    "duration": 40,
    "start_time": "2022-02-17T07:38:35.017Z"
   },
   {
    "duration": 5,
    "start_time": "2022-02-17T07:38:35.059Z"
   },
   {
    "duration": 9,
    "start_time": "2022-02-17T07:38:35.066Z"
   },
   {
    "duration": 6,
    "start_time": "2022-02-17T07:38:35.077Z"
   },
   {
    "duration": 6,
    "start_time": "2022-02-17T07:38:35.085Z"
   },
   {
    "duration": 8,
    "start_time": "2022-02-17T07:38:35.093Z"
   },
   {
    "duration": 8,
    "start_time": "2022-02-17T07:38:35.103Z"
   },
   {
    "duration": 51,
    "start_time": "2022-02-17T07:38:35.113Z"
   },
   {
    "duration": 12,
    "start_time": "2022-02-17T07:38:35.166Z"
   },
   {
    "duration": 7,
    "start_time": "2022-02-17T07:38:35.180Z"
   },
   {
    "duration": 6,
    "start_time": "2022-02-17T07:38:35.189Z"
   },
   {
    "duration": 8,
    "start_time": "2022-02-17T07:38:35.196Z"
   },
   {
    "duration": 8,
    "start_time": "2022-02-17T07:38:35.206Z"
   },
   {
    "duration": 6,
    "start_time": "2022-02-17T07:38:35.215Z"
   },
   {
    "duration": 23,
    "start_time": "2022-02-17T07:38:35.223Z"
   },
   {
    "duration": 6545,
    "start_time": "2022-02-17T07:38:35.248Z"
   },
   {
    "duration": 34,
    "start_time": "2022-02-17T07:38:41.794Z"
   },
   {
    "duration": 30,
    "start_time": "2022-02-17T07:38:41.846Z"
   },
   {
    "duration": 868,
    "start_time": "2022-02-17T07:38:41.878Z"
   },
   {
    "duration": 4704,
    "start_time": "2022-02-17T07:38:42.747Z"
   },
   {
    "duration": 99,
    "start_time": "2022-02-17T07:38:47.452Z"
   },
   {
    "duration": 99,
    "start_time": "2022-02-17T07:38:47.554Z"
   },
   {
    "duration": 1205,
    "start_time": "2022-02-17T07:38:47.655Z"
   },
   {
    "duration": 722,
    "start_time": "2022-02-17T07:38:48.861Z"
   },
   {
    "duration": 6,
    "start_time": "2022-02-17T07:38:49.584Z"
   },
   {
    "duration": 4,
    "start_time": "2022-02-17T07:38:49.592Z"
   },
   {
    "duration": 378,
    "start_time": "2022-02-17T07:38:49.597Z"
   },
   {
    "duration": 1831,
    "start_time": "2022-03-18T10:12:09.507Z"
   },
   {
    "duration": 35,
    "start_time": "2022-03-18T10:12:11.341Z"
   },
   {
    "duration": 25,
    "start_time": "2022-03-18T10:12:11.378Z"
   },
   {
    "duration": 28,
    "start_time": "2022-03-18T10:12:11.405Z"
   },
   {
    "duration": 31,
    "start_time": "2022-03-18T10:12:11.437Z"
   },
   {
    "duration": 25,
    "start_time": "2022-03-18T10:12:11.471Z"
   },
   {
    "duration": 5,
    "start_time": "2022-03-18T10:12:11.499Z"
   },
   {
    "duration": 7,
    "start_time": "2022-03-18T10:12:11.507Z"
   },
   {
    "duration": 92,
    "start_time": "2022-03-18T10:12:11.517Z"
   },
   {
    "duration": 15,
    "start_time": "2022-03-18T10:12:11.611Z"
   },
   {
    "duration": 41,
    "start_time": "2022-03-18T10:12:11.629Z"
   },
   {
    "duration": 16,
    "start_time": "2022-03-18T10:12:11.672Z"
   },
   {
    "duration": 8,
    "start_time": "2022-03-18T10:12:11.692Z"
   },
   {
    "duration": 8,
    "start_time": "2022-03-18T10:12:11.706Z"
   },
   {
    "duration": 9,
    "start_time": "2022-03-18T10:12:11.716Z"
   },
   {
    "duration": 50,
    "start_time": "2022-03-18T10:12:11.727Z"
   },
   {
    "duration": 5,
    "start_time": "2022-03-18T10:12:11.780Z"
   },
   {
    "duration": 9,
    "start_time": "2022-03-18T10:12:11.788Z"
   },
   {
    "duration": 71,
    "start_time": "2022-03-18T10:12:11.799Z"
   },
   {
    "duration": 19,
    "start_time": "2022-03-18T10:12:11.874Z"
   },
   {
    "duration": 12,
    "start_time": "2022-03-18T10:12:11.895Z"
   },
   {
    "duration": 6,
    "start_time": "2022-03-18T10:12:11.909Z"
   },
   {
    "duration": 10,
    "start_time": "2022-03-18T10:12:11.917Z"
   },
   {
    "duration": 12,
    "start_time": "2022-03-18T10:12:11.929Z"
   },
   {
    "duration": 30,
    "start_time": "2022-03-18T10:12:11.943Z"
   },
   {
    "duration": 10,
    "start_time": "2022-03-18T10:12:11.976Z"
   },
   {
    "duration": 17850,
    "start_time": "2022-03-18T10:12:11.989Z"
   },
   {
    "duration": 73,
    "start_time": "2022-03-18T10:12:29.842Z"
   },
   {
    "duration": 74,
    "start_time": "2022-03-18T10:12:29.918Z"
   },
   {
    "duration": 1292,
    "start_time": "2022-03-18T10:12:29.995Z"
   },
   {
    "duration": 8785,
    "start_time": "2022-03-18T10:12:31.289Z"
   },
   {
    "duration": 12,
    "start_time": "2022-03-18T10:12:40.167Z"
   },
   {
    "duration": 93,
    "start_time": "2022-03-18T10:12:40.182Z"
   },
   {
    "duration": 1703,
    "start_time": "2022-03-18T10:12:40.278Z"
   },
   {
    "duration": 2011,
    "start_time": "2022-03-18T10:12:41.984Z"
   },
   {
    "duration": 12,
    "start_time": "2022-03-18T10:12:44.000Z"
   },
   {
    "duration": 8,
    "start_time": "2022-03-18T10:12:44.014Z"
   },
   {
    "duration": 295,
    "start_time": "2022-03-18T10:12:44.024Z"
   }
  ],
  "kernelspec": {
   "display_name": "Python 3 (ipykernel)",
   "language": "python",
   "name": "python3"
  },
  "language_info": {
   "codemirror_mode": {
    "name": "ipython",
    "version": 3
   },
   "file_extension": ".py",
   "mimetype": "text/x-python",
   "name": "python",
   "nbconvert_exporter": "python",
   "pygments_lexer": "ipython3",
   "version": "3.9.5"
  },
  "toc": {
   "base_numbering": 1,
   "nav_menu": {},
   "number_sections": true,
   "sideBar": true,
   "skip_h1_title": true,
   "title_cell": "Содержание",
   "title_sidebar": "Contents",
   "toc_cell": true,
   "toc_position": {
    "height": "calc(100% - 180px)",
    "left": "10px",
    "top": "150px",
    "width": "302.391px"
   },
   "toc_section_display": true,
   "toc_window_display": true
  }
 },
 "nbformat": 4,
 "nbformat_minor": 2
}
