{
 "cells": [
  {
   "cell_type": "markdown",
   "metadata": {},
   "source": [
    "# Определение стоимости автомобилей"
   ]
  },
  {
   "cell_type": "markdown",
   "metadata": {},
   "source": [
    "Сервис по продаже автомобилей с пробегом «Не бит, не крашен» разрабатывает приложение для привлечения новых клиентов. В нём можно быстро узнать рыночную стоимость своего автомобиля. В вашем распоряжении исторические данные: технические характеристики, комплектации и цены автомобилей. Вам нужно построить модель для определения стоимости. \n",
    "\n",
    "Заказчику важны:\n",
    "\n",
    "- качество предсказания;\n",
    "- скорость предсказания;\n",
    "- время обучения."
   ]
  },
  {
   "cell_type": "markdown",
   "metadata": {},
   "source": [
    "Признаки:  \n",
    "* DateCrawled — дата скачивания анкеты из базы  \n",
    "* VehicleType — тип автомобильного кузова  \n",
    "* RegistrationYear — год регистрации автомобиля  \n",
    "* Gearbox — тип коробки передач  \n",
    "* Power — мощность (л. с.)  \n",
    "* Model — модель автомобиля  \n",
    "* Kilometer — пробег (км)  \n",
    "* RegistrationMonth — месяц регистрации автомобиля  \n",
    "* FuelType — тип топлива  \n",
    "* Brand — марка автомобиля  \n",
    "* NotRepaired — была машина в ремонте или нет  \n",
    "* DateCreated — дата создания анкеты  \n",
    "* NumberOfPictures — количество фотографий автомобиля  \n",
    "* PostalCode — почтовый индекс владельца анкеты (пользователя)  \n",
    "* LastSeen — дата последней активности пользователя  \n",
    "\n",
    "Целевой признак:  \n",
    "* Price — цена (евро)"
   ]
  },
  {
   "cell_type": "markdown",
   "metadata": {},
   "source": [
    "## Подготовка данных"
   ]
  },
  {
   "cell_type": "markdown",
   "metadata": {},
   "source": [
    "### Загрузка библиотек"
   ]
  },
  {
   "cell_type": "code",
   "execution_count": 1,
   "metadata": {},
   "outputs": [],
   "source": [
    "import pandas as pd\n",
    "import numpy as np\n",
    "from catboost import CatBoostRegressor, Pool\n",
    "from sklearn.model_selection import train_test_split\n",
    "from sklearn.metrics import mean_squared_error\n",
    "from sklearn.ensemble import RandomForestRegressor\n",
    "from sklearn.model_selection import GridSearchCV\n",
    "import lightgbm as lgb\n",
    "import matplotlib.pyplot as plt"
   ]
  },
  {
   "cell_type": "markdown",
   "metadata": {},
   "source": [
    "### Загрузка данных"
   ]
  },
  {
   "cell_type": "code",
   "execution_count": 2,
   "metadata": {
    "scrolled": true
   },
   "outputs": [
    {
     "data": {
      "text/html": [
       "<div>\n",
       "<style scoped>\n",
       "    .dataframe tbody tr th:only-of-type {\n",
       "        vertical-align: middle;\n",
       "    }\n",
       "\n",
       "    .dataframe tbody tr th {\n",
       "        vertical-align: top;\n",
       "    }\n",
       "\n",
       "    .dataframe thead th {\n",
       "        text-align: right;\n",
       "    }\n",
       "</style>\n",
       "<table border=\"1\" class=\"dataframe\">\n",
       "  <thead>\n",
       "    <tr style=\"text-align: right;\">\n",
       "      <th></th>\n",
       "      <th>DateCrawled</th>\n",
       "      <th>Price</th>\n",
       "      <th>VehicleType</th>\n",
       "      <th>RegistrationYear</th>\n",
       "      <th>Gearbox</th>\n",
       "      <th>Power</th>\n",
       "      <th>Model</th>\n",
       "      <th>Kilometer</th>\n",
       "      <th>RegistrationMonth</th>\n",
       "      <th>FuelType</th>\n",
       "      <th>Brand</th>\n",
       "      <th>NotRepaired</th>\n",
       "      <th>DateCreated</th>\n",
       "      <th>NumberOfPictures</th>\n",
       "      <th>PostalCode</th>\n",
       "      <th>LastSeen</th>\n",
       "    </tr>\n",
       "  </thead>\n",
       "  <tbody>\n",
       "    <tr>\n",
       "      <th>0</th>\n",
       "      <td>2016-03-24 11:52:17</td>\n",
       "      <td>480</td>\n",
       "      <td>NaN</td>\n",
       "      <td>1993</td>\n",
       "      <td>manual</td>\n",
       "      <td>0</td>\n",
       "      <td>golf</td>\n",
       "      <td>150000</td>\n",
       "      <td>0</td>\n",
       "      <td>petrol</td>\n",
       "      <td>volkswagen</td>\n",
       "      <td>NaN</td>\n",
       "      <td>2016-03-24 00:00:00</td>\n",
       "      <td>0</td>\n",
       "      <td>70435</td>\n",
       "      <td>2016-04-07 03:16:57</td>\n",
       "    </tr>\n",
       "    <tr>\n",
       "      <th>1</th>\n",
       "      <td>2016-03-24 10:58:45</td>\n",
       "      <td>18300</td>\n",
       "      <td>coupe</td>\n",
       "      <td>2011</td>\n",
       "      <td>manual</td>\n",
       "      <td>190</td>\n",
       "      <td>NaN</td>\n",
       "      <td>125000</td>\n",
       "      <td>5</td>\n",
       "      <td>gasoline</td>\n",
       "      <td>audi</td>\n",
       "      <td>yes</td>\n",
       "      <td>2016-03-24 00:00:00</td>\n",
       "      <td>0</td>\n",
       "      <td>66954</td>\n",
       "      <td>2016-04-07 01:46:50</td>\n",
       "    </tr>\n",
       "    <tr>\n",
       "      <th>2</th>\n",
       "      <td>2016-03-14 12:52:21</td>\n",
       "      <td>9800</td>\n",
       "      <td>suv</td>\n",
       "      <td>2004</td>\n",
       "      <td>auto</td>\n",
       "      <td>163</td>\n",
       "      <td>grand</td>\n",
       "      <td>125000</td>\n",
       "      <td>8</td>\n",
       "      <td>gasoline</td>\n",
       "      <td>jeep</td>\n",
       "      <td>NaN</td>\n",
       "      <td>2016-03-14 00:00:00</td>\n",
       "      <td>0</td>\n",
       "      <td>90480</td>\n",
       "      <td>2016-04-05 12:47:46</td>\n",
       "    </tr>\n",
       "    <tr>\n",
       "      <th>3</th>\n",
       "      <td>2016-03-17 16:54:04</td>\n",
       "      <td>1500</td>\n",
       "      <td>small</td>\n",
       "      <td>2001</td>\n",
       "      <td>manual</td>\n",
       "      <td>75</td>\n",
       "      <td>golf</td>\n",
       "      <td>150000</td>\n",
       "      <td>6</td>\n",
       "      <td>petrol</td>\n",
       "      <td>volkswagen</td>\n",
       "      <td>no</td>\n",
       "      <td>2016-03-17 00:00:00</td>\n",
       "      <td>0</td>\n",
       "      <td>91074</td>\n",
       "      <td>2016-03-17 17:40:17</td>\n",
       "    </tr>\n",
       "    <tr>\n",
       "      <th>4</th>\n",
       "      <td>2016-03-31 17:25:20</td>\n",
       "      <td>3600</td>\n",
       "      <td>small</td>\n",
       "      <td>2008</td>\n",
       "      <td>manual</td>\n",
       "      <td>69</td>\n",
       "      <td>fabia</td>\n",
       "      <td>90000</td>\n",
       "      <td>7</td>\n",
       "      <td>gasoline</td>\n",
       "      <td>skoda</td>\n",
       "      <td>no</td>\n",
       "      <td>2016-03-31 00:00:00</td>\n",
       "      <td>0</td>\n",
       "      <td>60437</td>\n",
       "      <td>2016-04-06 10:17:21</td>\n",
       "    </tr>\n",
       "  </tbody>\n",
       "</table>\n",
       "</div>"
      ],
      "text/plain": [
       "           DateCrawled  Price VehicleType  RegistrationYear Gearbox  Power  \\\n",
       "0  2016-03-24 11:52:17    480         NaN              1993  manual      0   \n",
       "1  2016-03-24 10:58:45  18300       coupe              2011  manual    190   \n",
       "2  2016-03-14 12:52:21   9800         suv              2004    auto    163   \n",
       "3  2016-03-17 16:54:04   1500       small              2001  manual     75   \n",
       "4  2016-03-31 17:25:20   3600       small              2008  manual     69   \n",
       "\n",
       "   Model  Kilometer  RegistrationMonth  FuelType       Brand NotRepaired  \\\n",
       "0   golf     150000                  0    petrol  volkswagen         NaN   \n",
       "1    NaN     125000                  5  gasoline        audi         yes   \n",
       "2  grand     125000                  8  gasoline        jeep         NaN   \n",
       "3   golf     150000                  6    petrol  volkswagen          no   \n",
       "4  fabia      90000                  7  gasoline       skoda          no   \n",
       "\n",
       "           DateCreated  NumberOfPictures  PostalCode             LastSeen  \n",
       "0  2016-03-24 00:00:00                 0       70435  2016-04-07 03:16:57  \n",
       "1  2016-03-24 00:00:00                 0       66954  2016-04-07 01:46:50  \n",
       "2  2016-03-14 00:00:00                 0       90480  2016-04-05 12:47:46  \n",
       "3  2016-03-17 00:00:00                 0       91074  2016-03-17 17:40:17  \n",
       "4  2016-03-31 00:00:00                 0       60437  2016-04-06 10:17:21  "
      ]
     },
     "execution_count": 2,
     "metadata": {},
     "output_type": "execute_result"
    }
   ],
   "source": [
    "frame = pd.read_csv(\"/datasets/autos.csv\")\n",
    "frame.head()"
   ]
  },
  {
   "cell_type": "code",
   "execution_count": 3,
   "metadata": {
    "scrolled": false
   },
   "outputs": [
    {
     "name": "stdout",
     "output_type": "stream",
     "text": [
      "<class 'pandas.core.frame.DataFrame'>\n",
      "RangeIndex: 354369 entries, 0 to 354368\n",
      "Data columns (total 16 columns):\n",
      " #   Column             Non-Null Count   Dtype \n",
      "---  ------             --------------   ----- \n",
      " 0   DateCrawled        354369 non-null  object\n",
      " 1   Price              354369 non-null  int64 \n",
      " 2   VehicleType        316879 non-null  object\n",
      " 3   RegistrationYear   354369 non-null  int64 \n",
      " 4   Gearbox            334536 non-null  object\n",
      " 5   Power              354369 non-null  int64 \n",
      " 6   Model              334664 non-null  object\n",
      " 7   Kilometer          354369 non-null  int64 \n",
      " 8   RegistrationMonth  354369 non-null  int64 \n",
      " 9   FuelType           321474 non-null  object\n",
      " 10  Brand              354369 non-null  object\n",
      " 11  NotRepaired        283215 non-null  object\n",
      " 12  DateCreated        354369 non-null  object\n",
      " 13  NumberOfPictures   354369 non-null  int64 \n",
      " 14  PostalCode         354369 non-null  int64 \n",
      " 15  LastSeen           354369 non-null  object\n",
      "dtypes: int64(7), object(9)\n",
      "memory usage: 43.3+ MB\n"
     ]
    }
   ],
   "source": [
    "frame.info()"
   ]
  },
  {
   "cell_type": "code",
   "execution_count": 4,
   "metadata": {
    "scrolled": true
   },
   "outputs": [
    {
     "data": {
      "text/html": [
       "<div>\n",
       "<style scoped>\n",
       "    .dataframe tbody tr th:only-of-type {\n",
       "        vertical-align: middle;\n",
       "    }\n",
       "\n",
       "    .dataframe tbody tr th {\n",
       "        vertical-align: top;\n",
       "    }\n",
       "\n",
       "    .dataframe thead th {\n",
       "        text-align: right;\n",
       "    }\n",
       "</style>\n",
       "<table border=\"1\" class=\"dataframe\">\n",
       "  <thead>\n",
       "    <tr style=\"text-align: right;\">\n",
       "      <th></th>\n",
       "      <th>Price</th>\n",
       "      <th>RegistrationYear</th>\n",
       "      <th>Power</th>\n",
       "      <th>Kilometer</th>\n",
       "      <th>RegistrationMonth</th>\n",
       "      <th>NumberOfPictures</th>\n",
       "      <th>PostalCode</th>\n",
       "    </tr>\n",
       "  </thead>\n",
       "  <tbody>\n",
       "    <tr>\n",
       "      <th>count</th>\n",
       "      <td>354369.000000</td>\n",
       "      <td>354369.000000</td>\n",
       "      <td>354369.000000</td>\n",
       "      <td>354369.000000</td>\n",
       "      <td>354369.000000</td>\n",
       "      <td>354369.0</td>\n",
       "      <td>354369.000000</td>\n",
       "    </tr>\n",
       "    <tr>\n",
       "      <th>mean</th>\n",
       "      <td>4416.656776</td>\n",
       "      <td>2004.234448</td>\n",
       "      <td>110.094337</td>\n",
       "      <td>128211.172535</td>\n",
       "      <td>5.714645</td>\n",
       "      <td>0.0</td>\n",
       "      <td>50508.689087</td>\n",
       "    </tr>\n",
       "    <tr>\n",
       "      <th>std</th>\n",
       "      <td>4514.158514</td>\n",
       "      <td>90.227958</td>\n",
       "      <td>189.850405</td>\n",
       "      <td>37905.341530</td>\n",
       "      <td>3.726421</td>\n",
       "      <td>0.0</td>\n",
       "      <td>25783.096248</td>\n",
       "    </tr>\n",
       "    <tr>\n",
       "      <th>min</th>\n",
       "      <td>0.000000</td>\n",
       "      <td>1000.000000</td>\n",
       "      <td>0.000000</td>\n",
       "      <td>5000.000000</td>\n",
       "      <td>0.000000</td>\n",
       "      <td>0.0</td>\n",
       "      <td>1067.000000</td>\n",
       "    </tr>\n",
       "    <tr>\n",
       "      <th>25%</th>\n",
       "      <td>1050.000000</td>\n",
       "      <td>1999.000000</td>\n",
       "      <td>69.000000</td>\n",
       "      <td>125000.000000</td>\n",
       "      <td>3.000000</td>\n",
       "      <td>0.0</td>\n",
       "      <td>30165.000000</td>\n",
       "    </tr>\n",
       "    <tr>\n",
       "      <th>50%</th>\n",
       "      <td>2700.000000</td>\n",
       "      <td>2003.000000</td>\n",
       "      <td>105.000000</td>\n",
       "      <td>150000.000000</td>\n",
       "      <td>6.000000</td>\n",
       "      <td>0.0</td>\n",
       "      <td>49413.000000</td>\n",
       "    </tr>\n",
       "    <tr>\n",
       "      <th>75%</th>\n",
       "      <td>6400.000000</td>\n",
       "      <td>2008.000000</td>\n",
       "      <td>143.000000</td>\n",
       "      <td>150000.000000</td>\n",
       "      <td>9.000000</td>\n",
       "      <td>0.0</td>\n",
       "      <td>71083.000000</td>\n",
       "    </tr>\n",
       "    <tr>\n",
       "      <th>max</th>\n",
       "      <td>20000.000000</td>\n",
       "      <td>9999.000000</td>\n",
       "      <td>20000.000000</td>\n",
       "      <td>150000.000000</td>\n",
       "      <td>12.000000</td>\n",
       "      <td>0.0</td>\n",
       "      <td>99998.000000</td>\n",
       "    </tr>\n",
       "  </tbody>\n",
       "</table>\n",
       "</div>"
      ],
      "text/plain": [
       "               Price  RegistrationYear          Power      Kilometer  \\\n",
       "count  354369.000000     354369.000000  354369.000000  354369.000000   \n",
       "mean     4416.656776       2004.234448     110.094337  128211.172535   \n",
       "std      4514.158514         90.227958     189.850405   37905.341530   \n",
       "min         0.000000       1000.000000       0.000000    5000.000000   \n",
       "25%      1050.000000       1999.000000      69.000000  125000.000000   \n",
       "50%      2700.000000       2003.000000     105.000000  150000.000000   \n",
       "75%      6400.000000       2008.000000     143.000000  150000.000000   \n",
       "max     20000.000000       9999.000000   20000.000000  150000.000000   \n",
       "\n",
       "       RegistrationMonth  NumberOfPictures     PostalCode  \n",
       "count      354369.000000          354369.0  354369.000000  \n",
       "mean            5.714645               0.0   50508.689087  \n",
       "std             3.726421               0.0   25783.096248  \n",
       "min             0.000000               0.0    1067.000000  \n",
       "25%             3.000000               0.0   30165.000000  \n",
       "50%             6.000000               0.0   49413.000000  \n",
       "75%             9.000000               0.0   71083.000000  \n",
       "max            12.000000               0.0   99998.000000  "
      ]
     },
     "execution_count": 4,
     "metadata": {},
     "output_type": "execute_result"
    }
   ],
   "source": [
    "frame.describe()"
   ]
  },
  {
   "cell_type": "markdown",
   "metadata": {},
   "source": [
    "Как видно из распределения числовых признаков, в данных есть аномалии:  \n",
    "* Price — цена (евро) - минимум равен нулю, что будем считать ошибкой, также высокое значение стандартного отклонения;  \n",
    "* RegistrationYear — год регистрации автомобиля - минимальное значение равно 1000, максмальное 9999;  \n",
    "* Power — мощность (л. с.) - минимальное значение равно нулю, максимальное 20000;  \n",
    "* RegistrationMonth — месяц регистрации автомобиля - минимальное значение равно нулю, при этом максимальное равно 12;  \n",
    "* NumberOfPictures — количество фотографий автомобиля - в столбце отсутствуют значения больше нуля."
   ]
  },
  {
   "cell_type": "markdown",
   "metadata": {},
   "source": [
    "Оценим влияние числовых признаков друг на друга:"
   ]
  },
  {
   "cell_type": "code",
   "execution_count": 5,
   "metadata": {
    "scrolled": true
   },
   "outputs": [
    {
     "data": {
      "text/html": [
       "<div>\n",
       "<style scoped>\n",
       "    .dataframe tbody tr th:only-of-type {\n",
       "        vertical-align: middle;\n",
       "    }\n",
       "\n",
       "    .dataframe tbody tr th {\n",
       "        vertical-align: top;\n",
       "    }\n",
       "\n",
       "    .dataframe thead th {\n",
       "        text-align: right;\n",
       "    }\n",
       "</style>\n",
       "<table border=\"1\" class=\"dataframe\">\n",
       "  <thead>\n",
       "    <tr style=\"text-align: right;\">\n",
       "      <th></th>\n",
       "      <th>Price</th>\n",
       "      <th>RegistrationYear</th>\n",
       "      <th>Power</th>\n",
       "      <th>Kilometer</th>\n",
       "      <th>RegistrationMonth</th>\n",
       "      <th>NumberOfPictures</th>\n",
       "      <th>PostalCode</th>\n",
       "    </tr>\n",
       "  </thead>\n",
       "  <tbody>\n",
       "    <tr>\n",
       "      <th>Price</th>\n",
       "      <td>1.000000</td>\n",
       "      <td>0.026916</td>\n",
       "      <td>0.158872</td>\n",
       "      <td>-0.333199</td>\n",
       "      <td>0.110581</td>\n",
       "      <td>NaN</td>\n",
       "      <td>0.076055</td>\n",
       "    </tr>\n",
       "    <tr>\n",
       "      <th>RegistrationYear</th>\n",
       "      <td>0.026916</td>\n",
       "      <td>1.000000</td>\n",
       "      <td>-0.000828</td>\n",
       "      <td>-0.053447</td>\n",
       "      <td>-0.011619</td>\n",
       "      <td>NaN</td>\n",
       "      <td>-0.003459</td>\n",
       "    </tr>\n",
       "    <tr>\n",
       "      <th>Power</th>\n",
       "      <td>0.158872</td>\n",
       "      <td>-0.000828</td>\n",
       "      <td>1.000000</td>\n",
       "      <td>0.024002</td>\n",
       "      <td>0.043380</td>\n",
       "      <td>NaN</td>\n",
       "      <td>0.021665</td>\n",
       "    </tr>\n",
       "    <tr>\n",
       "      <th>Kilometer</th>\n",
       "      <td>-0.333199</td>\n",
       "      <td>-0.053447</td>\n",
       "      <td>0.024002</td>\n",
       "      <td>1.000000</td>\n",
       "      <td>0.009571</td>\n",
       "      <td>NaN</td>\n",
       "      <td>-0.007698</td>\n",
       "    </tr>\n",
       "    <tr>\n",
       "      <th>RegistrationMonth</th>\n",
       "      <td>0.110581</td>\n",
       "      <td>-0.011619</td>\n",
       "      <td>0.043380</td>\n",
       "      <td>0.009571</td>\n",
       "      <td>1.000000</td>\n",
       "      <td>NaN</td>\n",
       "      <td>0.013995</td>\n",
       "    </tr>\n",
       "    <tr>\n",
       "      <th>NumberOfPictures</th>\n",
       "      <td>NaN</td>\n",
       "      <td>NaN</td>\n",
       "      <td>NaN</td>\n",
       "      <td>NaN</td>\n",
       "      <td>NaN</td>\n",
       "      <td>NaN</td>\n",
       "      <td>NaN</td>\n",
       "    </tr>\n",
       "    <tr>\n",
       "      <th>PostalCode</th>\n",
       "      <td>0.076055</td>\n",
       "      <td>-0.003459</td>\n",
       "      <td>0.021665</td>\n",
       "      <td>-0.007698</td>\n",
       "      <td>0.013995</td>\n",
       "      <td>NaN</td>\n",
       "      <td>1.000000</td>\n",
       "    </tr>\n",
       "  </tbody>\n",
       "</table>\n",
       "</div>"
      ],
      "text/plain": [
       "                      Price  RegistrationYear     Power  Kilometer  \\\n",
       "Price              1.000000          0.026916  0.158872  -0.333199   \n",
       "RegistrationYear   0.026916          1.000000 -0.000828  -0.053447   \n",
       "Power              0.158872         -0.000828  1.000000   0.024002   \n",
       "Kilometer         -0.333199         -0.053447  0.024002   1.000000   \n",
       "RegistrationMonth  0.110581         -0.011619  0.043380   0.009571   \n",
       "NumberOfPictures        NaN               NaN       NaN        NaN   \n",
       "PostalCode         0.076055         -0.003459  0.021665  -0.007698   \n",
       "\n",
       "                   RegistrationMonth  NumberOfPictures  PostalCode  \n",
       "Price                       0.110581               NaN    0.076055  \n",
       "RegistrationYear           -0.011619               NaN   -0.003459  \n",
       "Power                       0.043380               NaN    0.021665  \n",
       "Kilometer                   0.009571               NaN   -0.007698  \n",
       "RegistrationMonth           1.000000               NaN    0.013995  \n",
       "NumberOfPictures                 NaN               NaN         NaN  \n",
       "PostalCode                  0.013995               NaN    1.000000  "
      ]
     },
     "execution_count": 5,
     "metadata": {},
     "output_type": "execute_result"
    }
   ],
   "source": [
    "frame.corr()"
   ]
  },
  {
   "cell_type": "markdown",
   "metadata": {},
   "source": [
    "Исходя из инфомации о корреляции признаков, можно сделать вывод о том, что цена автомобиля обратно пропорциональна его пробегу, при этом прямо пропорциональна его мощности. Несколько меньшее влияние на цену играет месцк регистрации автомобиля."
   ]
  },
  {
   "cell_type": "markdown",
   "metadata": {},
   "source": [
    "### Подготовка данных"
   ]
  },
  {
   "cell_type": "markdown",
   "metadata": {},
   "source": [
    "#### Обработка пропусков"
   ]
  },
  {
   "cell_type": "markdown",
   "metadata": {},
   "source": [
    "Оценим количество пропусков в таблице:"
   ]
  },
  {
   "cell_type": "code",
   "execution_count": 6,
   "metadata": {},
   "outputs": [
    {
     "data": {
      "text/plain": [
       "DateCrawled              0\n",
       "Price                    0\n",
       "VehicleType          37490\n",
       "RegistrationYear         0\n",
       "Gearbox              19833\n",
       "Power                    0\n",
       "Model                19705\n",
       "Kilometer                0\n",
       "RegistrationMonth        0\n",
       "FuelType             32895\n",
       "Brand                    0\n",
       "NotRepaired          71154\n",
       "DateCreated              0\n",
       "NumberOfPictures         0\n",
       "PostalCode               0\n",
       "LastSeen                 0\n",
       "dtype: int64"
      ]
     },
     "execution_count": 6,
     "metadata": {},
     "output_type": "execute_result"
    }
   ],
   "source": [
    "frame.isna().sum()"
   ]
  },
  {
   "cell_type": "markdown",
   "metadata": {},
   "source": [
    "Так как количество пропусков составляет существенную часть данных, и нет явных признаков для восстановления пропущенных значений, заполним признаки в таблице в столбцах \"VehicleType\", \"Gearbox\",  \"Model\", \"FuelType\" наиболее часто встречающимися значениями:"
   ]
  },
  {
   "cell_type": "code",
   "execution_count": 7,
   "metadata": {},
   "outputs": [],
   "source": [
    "frame['VehicleType'] = frame['VehicleType'].fillna(frame['VehicleType'].mode().values[0])\n",
    "frame['Gearbox'] = frame['Gearbox'].fillna(frame['Gearbox'].mode().values[0])\n",
    "frame['Model'] = frame['Model'].fillna(frame['Model'].mode().values[0])\n",
    "frame['FuelType'] = frame['FuelType'].fillna(frame['FuelType'].mode().values[0])"
   ]
  },
  {
   "cell_type": "markdown",
   "metadata": {},
   "source": [
    "Пропуски в столбце \"NotRepaired\" нелогично заполнять самыми часто встречающимися значениями, поэтому заполним пропуски в нем как значение \"no\"."
   ]
  },
  {
   "cell_type": "code",
   "execution_count": 8,
   "metadata": {},
   "outputs": [],
   "source": [
    "frame['NotRepaired'] = frame['NotRepaired'].fillna(\"no\")"
   ]
  },
  {
   "cell_type": "markdown",
   "metadata": {},
   "source": [
    "#### Обработка дубликатов"
   ]
  },
  {
   "cell_type": "markdown",
   "metadata": {},
   "source": [
    "Проверим значения категорийных признаков на дубликаты (без учета регистра):"
   ]
  },
  {
   "cell_type": "code",
   "execution_count": 9,
   "metadata": {
    "scrolled": true
   },
   "outputs": [
    {
     "name": "stdout",
     "output_type": "stream",
     "text": [
      "VehicleType 0\n",
      "Gearbox 0\n",
      "Model 0\n",
      "FuelType 0\n",
      "Brand 0\n",
      "NotRepaired 0\n"
     ]
    }
   ],
   "source": [
    "objects_columns = ['VehicleType','Gearbox','Model','FuelType','Brand','NotRepaired']\n",
    "for column in objects_columns:\n",
    "    print(column, pd.Series(frame[column].unique()).str.lower().duplicated().sum())"
   ]
  },
  {
   "cell_type": "markdown",
   "metadata": {},
   "source": [
    "Оценим количество полных дубликатов в таблице:"
   ]
  },
  {
   "cell_type": "code",
   "execution_count": 10,
   "metadata": {},
   "outputs": [
    {
     "data": {
      "text/plain": [
       "5"
      ]
     },
     "execution_count": 10,
     "metadata": {},
     "output_type": "execute_result"
    }
   ],
   "source": [
    "frame.duplicated().sum()"
   ]
  },
  {
   "cell_type": "markdown",
   "metadata": {},
   "source": [
    "Удалим полные дубликаты из таблицы:"
   ]
  },
  {
   "cell_type": "code",
   "execution_count": 11,
   "metadata": {
    "scrolled": true
   },
   "outputs": [
    {
     "data": {
      "text/plain": [
       "0"
      ]
     },
     "execution_count": 11,
     "metadata": {},
     "output_type": "execute_result"
    }
   ],
   "source": [
    "frame = frame.drop_duplicates()\n",
    "frame.duplicated().sum()"
   ]
  },
  {
   "cell_type": "markdown",
   "metadata": {},
   "source": [
    "#### Удаление столбцов"
   ]
  },
  {
   "cell_type": "markdown",
   "metadata": {},
   "source": [
    "Удалим столбцы, не влияющие на стоимость автомобиля:"
   ]
  },
  {
   "cell_type": "markdown",
   "metadata": {},
   "source": [
    "Такие столбцы, как \"DateCrawled\"(дата скачивания анкеты из базы),\"DateCreated\"(дата создания анкеты),\"LastSeen\"(дата последней активности пользователя),\"NumberOfPictures\"(количество фотографий автомобиля),\"PostalCode\"(почтовый индекс владельца анкеты) не являются важными для анализа данными, так как не могут существенно влиять на стоимость автомобиля."
   ]
  },
  {
   "cell_type": "code",
   "execution_count": 12,
   "metadata": {
    "scrolled": false
   },
   "outputs": [
    {
     "data": {
      "text/html": [
       "<div>\n",
       "<style scoped>\n",
       "    .dataframe tbody tr th:only-of-type {\n",
       "        vertical-align: middle;\n",
       "    }\n",
       "\n",
       "    .dataframe tbody tr th {\n",
       "        vertical-align: top;\n",
       "    }\n",
       "\n",
       "    .dataframe thead th {\n",
       "        text-align: right;\n",
       "    }\n",
       "</style>\n",
       "<table border=\"1\" class=\"dataframe\">\n",
       "  <thead>\n",
       "    <tr style=\"text-align: right;\">\n",
       "      <th></th>\n",
       "      <th>Price</th>\n",
       "      <th>VehicleType</th>\n",
       "      <th>RegistrationYear</th>\n",
       "      <th>Gearbox</th>\n",
       "      <th>Power</th>\n",
       "      <th>Model</th>\n",
       "      <th>Kilometer</th>\n",
       "      <th>RegistrationMonth</th>\n",
       "      <th>FuelType</th>\n",
       "      <th>Brand</th>\n",
       "      <th>NotRepaired</th>\n",
       "    </tr>\n",
       "  </thead>\n",
       "  <tbody>\n",
       "    <tr>\n",
       "      <th>0</th>\n",
       "      <td>480</td>\n",
       "      <td>sedan</td>\n",
       "      <td>1993</td>\n",
       "      <td>manual</td>\n",
       "      <td>0</td>\n",
       "      <td>golf</td>\n",
       "      <td>150000</td>\n",
       "      <td>0</td>\n",
       "      <td>petrol</td>\n",
       "      <td>volkswagen</td>\n",
       "      <td>no</td>\n",
       "    </tr>\n",
       "    <tr>\n",
       "      <th>1</th>\n",
       "      <td>18300</td>\n",
       "      <td>coupe</td>\n",
       "      <td>2011</td>\n",
       "      <td>manual</td>\n",
       "      <td>190</td>\n",
       "      <td>golf</td>\n",
       "      <td>125000</td>\n",
       "      <td>5</td>\n",
       "      <td>gasoline</td>\n",
       "      <td>audi</td>\n",
       "      <td>yes</td>\n",
       "    </tr>\n",
       "    <tr>\n",
       "      <th>2</th>\n",
       "      <td>9800</td>\n",
       "      <td>suv</td>\n",
       "      <td>2004</td>\n",
       "      <td>auto</td>\n",
       "      <td>163</td>\n",
       "      <td>grand</td>\n",
       "      <td>125000</td>\n",
       "      <td>8</td>\n",
       "      <td>gasoline</td>\n",
       "      <td>jeep</td>\n",
       "      <td>no</td>\n",
       "    </tr>\n",
       "    <tr>\n",
       "      <th>3</th>\n",
       "      <td>1500</td>\n",
       "      <td>small</td>\n",
       "      <td>2001</td>\n",
       "      <td>manual</td>\n",
       "      <td>75</td>\n",
       "      <td>golf</td>\n",
       "      <td>150000</td>\n",
       "      <td>6</td>\n",
       "      <td>petrol</td>\n",
       "      <td>volkswagen</td>\n",
       "      <td>no</td>\n",
       "    </tr>\n",
       "    <tr>\n",
       "      <th>4</th>\n",
       "      <td>3600</td>\n",
       "      <td>small</td>\n",
       "      <td>2008</td>\n",
       "      <td>manual</td>\n",
       "      <td>69</td>\n",
       "      <td>fabia</td>\n",
       "      <td>90000</td>\n",
       "      <td>7</td>\n",
       "      <td>gasoline</td>\n",
       "      <td>skoda</td>\n",
       "      <td>no</td>\n",
       "    </tr>\n",
       "  </tbody>\n",
       "</table>\n",
       "</div>"
      ],
      "text/plain": [
       "   Price VehicleType  RegistrationYear Gearbox  Power  Model  Kilometer  \\\n",
       "0    480       sedan              1993  manual      0   golf     150000   \n",
       "1  18300       coupe              2011  manual    190   golf     125000   \n",
       "2   9800         suv              2004    auto    163  grand     125000   \n",
       "3   1500       small              2001  manual     75   golf     150000   \n",
       "4   3600       small              2008  manual     69  fabia      90000   \n",
       "\n",
       "   RegistrationMonth  FuelType       Brand NotRepaired  \n",
       "0                  0    petrol  volkswagen          no  \n",
       "1                  5  gasoline        audi         yes  \n",
       "2                  8  gasoline        jeep          no  \n",
       "3                  6    petrol  volkswagen          no  \n",
       "4                  7  gasoline       skoda          no  "
      ]
     },
     "execution_count": 12,
     "metadata": {},
     "output_type": "execute_result"
    }
   ],
   "source": [
    "frame_with_date = frame.copy()\n",
    "frame = frame.drop(['DateCrawled','DateCreated','LastSeen','NumberOfPictures','PostalCode'],axis = 1)\n",
    "frame.head()"
   ]
  },
  {
   "cell_type": "markdown",
   "metadata": {},
   "source": [
    "#### Обработка столбца RegistrationMonth"
   ]
  },
  {
   "cell_type": "markdown",
   "metadata": {},
   "source": [
    "Обработаем выбросы в столбце RegistrationMonth — месяц регистрации автомобиля:"
   ]
  },
  {
   "cell_type": "markdown",
   "metadata": {},
   "source": [
    "Ранее было выявлено, что минимальное значение равно нулю, при этом максимальное равно 12.   \n",
    "Оценим распределение значений для каждого месяца по убыванию:"
   ]
  },
  {
   "cell_type": "code",
   "execution_count": 13,
   "metadata": {},
   "outputs": [
    {
     "data": {
      "text/plain": [
       "0     37352\n",
       "3     34373\n",
       "6     31507\n",
       "4     29270\n",
       "5     29153\n",
       "7     27211\n",
       "10    26099\n",
       "12    24289\n",
       "11    24186\n",
       "9     23812\n",
       "1     23218\n",
       "8     22627\n",
       "2     21267\n",
       "Name: RegistrationMonth, dtype: int64"
      ]
     },
     "execution_count": 13,
     "metadata": {},
     "output_type": "execute_result"
    }
   ],
   "source": [
    "frame['RegistrationMonth'].value_counts(ascending=False)"
   ]
  },
  {
   "cell_type": "code",
   "execution_count": 14,
   "metadata": {
    "scrolled": true
   },
   "outputs": [
    {
     "data": {
      "image/png": "[encoded data removed]",
      "text/plain": [
       "<Figure size 432x288 with 1 Axes>"
      ]
     },
     "metadata": {
      "needs_background": "light"
     },
     "output_type": "display_data"
    }
   ],
   "source": [
    "plt.hist(frame['RegistrationMonth'])\n",
    "plt.title('Количество объявлений в каждом месяце таблицы');"
   ]
  },
  {
   "cell_type": "markdown",
   "metadata": {},
   "source": [
    "Вероятно, при формировании данных произошла ошибка, ряду значений с индексом \"1\" было присвоено значение \"0\".  \n",
    "Присвоим всем строкам месяца регистрации автомобиля с значением \"0\" значение \"1\"."
   ]
  },
  {
   "cell_type": "code",
   "execution_count": 15,
   "metadata": {},
   "outputs": [],
   "source": [
    "frame.loc[frame['RegistrationMonth'] == 0, 'RegistrationMonth'] = 1"
   ]
  },
  {
   "cell_type": "code",
   "execution_count": 16,
   "metadata": {
    "scrolled": false
   },
   "outputs": [
    {
     "data": {
      "image/png": "[encoded data removed]",
      "text/plain": [
       "<Figure size 432x288 with 1 Axes>"
      ]
     },
     "metadata": {
      "needs_background": "light"
     },
     "output_type": "display_data"
    }
   ],
   "source": [
    "plt.hist(frame['RegistrationMonth'], bins=12)\n",
    "plt.title('Новое количество объявлений в каждом месяце таблицы');"
   ]
  },
  {
   "cell_type": "markdown",
   "metadata": {},
   "source": [
    "Подобное распределение данных может соответствовать действительности: зачастую автосалоны и частные продавцы размещают большое число объявлений в конце и начале года, когда автомобили начинают резко терять в цене за счет выпуска автомобилей в новом году."
   ]
  },
  {
   "cell_type": "markdown",
   "metadata": {},
   "source": [
    "#### Обработка столбца Power"
   ]
  },
  {
   "cell_type": "markdown",
   "metadata": {},
   "source": [
    "Как видно из [открытых источников](https://avtika.ru/kak-schitaetsya-moschnost-dvigatelya-s-turbinoy/), даже у болидов \"Формулы-1\" на 1 литр объема двгателя при использовании турбины приходится 300 л/с.  \n",
    "75% автомобилей в таблице имеют мощность в 143 лошадиные силы или меньше, так же часть автомобилей имеет мощность, равную нулю."
   ]
  },
  {
   "cell_type": "markdown",
   "metadata": {},
   "source": [
    "Построим диаграмму размаха мощности автомобилей в таблице для 3\\4 данных (0-75%):"
   ]
  },
  {
   "cell_type": "code",
   "execution_count": 17,
   "metadata": {
    "scrolled": true
   },
   "outputs": [
    {
     "data": {
      "image/png": "[encoded data removed]",
      "text/plain": [
       "<Figure size 360x360 with 1 Axes>"
      ]
     },
     "metadata": {
      "needs_background": "light"
     },
     "output_type": "display_data"
    }
   ],
   "source": [
    "frame.loc[frame['Power'] <= frame['Power'].quantile(0.75)].boxplot('Power', grid=True, figsize=(5, 5));"
   ]
  },
  {
   "cell_type": "markdown",
   "metadata": {},
   "source": [
    "И для оставшейся четверти данных (75-100%):"
   ]
  },
  {
   "cell_type": "code",
   "execution_count": 18,
   "metadata": {
    "scrolled": true
   },
   "outputs": [
    {
     "data": {
      "image/png": "[encoded data removed]",
      "text/plain": [
       "<Figure size 360x360 with 1 Axes>"
      ]
     },
     "metadata": {
      "needs_background": "light"
     },
     "output_type": "display_data"
    }
   ],
   "source": [
    "frame.loc[frame['Power'] > frame['Power'].quantile(0.75)].boxplot('Power', grid=True, figsize=(5, 5));"
   ]
  },
  {
   "cell_type": "markdown",
   "metadata": {},
   "source": [
    "В данных наблюдается существенное количество аномальных значений мощности автомобилей.  \n",
    "За нижний предел возьмем значение мощности 15 л\\с ([источник](https://ru.wikipedia.org/wiki/%D0%9B%D0%BE%D1%88%D0%B0%D0%B4%D0%B8%D0%BD%D0%B0%D1%8F_%D1%81%D0%B8%D0%BB%D0%B0)), за верхний предел возьмем значение мощности 3500 л\\с автомобиля БелАЗ-75600 ([источник](https://ru.wikipedia.org/wiki/%D0%91%D0%B5%D0%BB%D0%90%D0%97-75600#:~:text=%D0%94%D0%B8%D0%B7%D0%B5%D0%BB%D1%8C%D0%BD%D1%8B%D0%B9%20%D1%87%D0%B5%D1%82%D1%8B%D1%80%D1%91%D1%85%D1%82%D0%B0%D0%BA%D1%82%D0%BD%D1%8B%D0%B9%2018%2D%D1%86%D0%B8%D0%BB%D0%B8%D0%BD%D0%B4%D1%80%D0%BE%D0%B2%D1%8B%D0%B9%20V,%D1%81.)):"
   ]
  },
  {
   "cell_type": "code",
   "execution_count": 19,
   "metadata": {},
   "outputs": [],
   "source": [
    "frame.loc[frame['Power'] < 15, 'Power'] = 15\n",
    "frame.loc[frame['Power'] > 3500, 'Power'] = 3500"
   ]
  },
  {
   "cell_type": "markdown",
   "metadata": {},
   "source": [
    "Таким образом, мы получили следующее распределение мощности автомобилей в таблице:"
   ]
  },
  {
   "cell_type": "code",
   "execution_count": 20,
   "metadata": {
    "scrolled": false
   },
   "outputs": [
    {
     "data": {
      "image/png": "[encoded data removed]",
      "text/plain": [
       "<Figure size 360x720 with 1 Axes>"
      ]
     },
     "metadata": {
      "needs_background": "light"
     },
     "output_type": "display_data"
    }
   ],
   "source": [
    "frame.boxplot('Power', grid=True, figsize=(5, 10));"
   ]
  },
  {
   "cell_type": "markdown",
   "metadata": {},
   "source": [
    "#### Обработка столбца RegistrationYear"
   ]
  },
  {
   "cell_type": "markdown",
   "metadata": {},
   "source": [
    "Ранее было выявлено, что для столбца года регистрации автомобиля минимальное значение равно 1000, а максмальное 9999.  \n",
    "На данный момент год регистрации автомобиля не может быть больше 2022го, и менее 1888 года:  \n",
    "[Источник](https://www.dw.com/ru/%D0%BF%D0%B5%D1%80%D0%B2%D1%8B%D0%B9-%D0%B0%D0%B2%D1%82%D0%BE%D0%BC%D0%BE%D0%B1%D0%B8%D0%BB%D1%8C-%D0%B8-%D0%B5%D0%B3%D0%BE-%D1%81%D0%BE%D0%B7%D0%B4%D0%B0%D1%82%D0%B5%D0%BB%D1%8C/a-15144268#:~:text=%D0%9F%D0%B5%D1%80%D0%B2%D1%8B%D0%B9%20%D0%B0%D0%B2%D1%82%D0%BE%D0%BC%D0%BE%D0%B1%D0%B8%D0%BB%D1%8C%2C%20%D1%81%D1%82%D0%B0%D0%B2%D1%88%D0%B8%D0%B9%20%D1%81%D0%B5%D1%80%D0%B8%D0%B9%D0%BD%D0%BE%D0%B9%20%D0%BC%D0%BE%D0%B4%D0%B5%D0%BB%D1%8C%D1%8E,%D0%BE%D1%81%D0%BD%D0%B0%D1%81%D1%82%D0%B8%D0%BB%20%D0%B1%D0%B5%D0%BD%D0%B7%D0%B8%D0%BD%D0%BE%D0%B2%D1%8B%D0%BC%20%D0%B4%D0%B2%D0%B8%D0%B3%D0%B0%D1%82%D0%B5%D0%BB%D0%B5%D0%BC%20%D0%B2%D0%BD%D1%83%D1%82%D1%80%D0%B5%D0%BD%D0%BD%D0%B5%D0%B3%D0%BE%20%D1%81%D0%B3%D0%BE%D1%80%D0%B0%D0%BD%D0%B8%D1%8F.) "
   ]
  },
  {
   "cell_type": "code",
   "execution_count": 21,
   "metadata": {},
   "outputs": [],
   "source": [
    "frame.loc[frame['RegistrationYear'] < 1888, 'RegistrationYear'] = 1888\n",
    "frame.loc[frame['RegistrationYear'] > 2022, 'RegistrationYear'] = 2022"
   ]
  },
  {
   "cell_type": "markdown",
   "metadata": {},
   "source": [
    "Таким образом, мы получили следующее распределение года регистрации автомобиля в таблице:"
   ]
  },
  {
   "cell_type": "code",
   "execution_count": 22,
   "metadata": {
    "scrolled": false
   },
   "outputs": [
    {
     "data": {
      "image/png": "[encoded data removed]",
      "text/plain": [
       "<Figure size 360x720 with 1 Axes>"
      ]
     },
     "metadata": {
      "needs_background": "light"
     },
     "output_type": "display_data"
    }
   ],
   "source": [
    "frame.boxplot('RegistrationYear', grid=True, figsize=(5, 10));"
   ]
  },
  {
   "cell_type": "markdown",
   "metadata": {},
   "source": [
    "#### Обработка столбца Price"
   ]
  },
  {
   "cell_type": "markdown",
   "metadata": {},
   "source": [
    "В столбце минимум равен нулю, также расчитано высокое значение стандартного отклонения для целевого признака.  \n",
    "Оценим распределение значений на графике:"
   ]
  },
  {
   "cell_type": "code",
   "execution_count": 23,
   "metadata": {
    "scrolled": true
   },
   "outputs": [
    {
     "data": {
      "image/png": "[encoded data removed]",
      "text/plain": [
       "<Figure size 360x360 with 1 Axes>"
      ]
     },
     "metadata": {
      "needs_background": "light"
     },
     "output_type": "display_data"
    }
   ],
   "source": [
    "frame.boxplot('Price', grid=True, figsize=(5, 5));"
   ]
  },
  {
   "cell_type": "markdown",
   "metadata": {},
   "source": [
    "Оценим распределение первой четверти значений (0-25%):"
   ]
  },
  {
   "cell_type": "code",
   "execution_count": 24,
   "metadata": {
    "scrolled": true
   },
   "outputs": [
    {
     "data": {
      "image/png": "[encoded data removed]",
      "text/plain": [
       "<Figure size 360x360 with 1 Axes>"
      ]
     },
     "metadata": {
      "needs_background": "light"
     },
     "output_type": "display_data"
    }
   ],
   "source": [
    "frame.loc[(frame['Price'] > frame['Price'].quantile(0)) \n",
    "         & (frame['Price'] < frame['Price'].quantile(0.25))].boxplot('Price', grid=True, figsize=(5, 5));"
   ]
  },
  {
   "cell_type": "markdown",
   "metadata": {},
   "source": [
    "Вычислим первый квартиль для первой четверти значений (0-25%), он будет нашей первой границей при фильтрации значений цены:"
   ]
  },
  {
   "cell_type": "code",
   "execution_count": 25,
   "metadata": {
    "scrolled": true
   },
   "outputs": [
    {
     "name": "stdout",
     "output_type": "stream",
     "text": [
      "400.0\n"
     ]
    }
   ],
   "source": [
    "q_min = frame['Price'].loc[(frame['Price'] > frame['Price'].quantile(0)) \n",
    "         & (frame['Price'] < frame['Price'].quantile(0.25))].quantile(0.25)\n",
    "print(q_min)"
   ]
  },
  {
   "cell_type": "markdown",
   "metadata": {},
   "source": [
    "Расчитаем верхнюю границу значений для столбца \"Price\" таблицы и отфильтруем значения:"
   ]
  },
  {
   "cell_type": "code",
   "execution_count": 26,
   "metadata": {},
   "outputs": [],
   "source": [
    "#расчет МКР\n",
    "q25 = frame['Price'].quantile(0.25)\n",
    "q75 = frame['Price'].quantile(0.75)\n",
    "#расчет усов\n",
    "first_part=q25-1.5*(q75-q25)\n",
    "second_part=q75+1.5*(q75-q25)\n",
    "# фильтрация таблицы: для минимума первый квартиль для первой четверти значений, для максимума - ус максимума\n",
    "frame = frame.loc[frame['Price'] >= q_min]\n",
    "frame = frame.loc[frame['Price'] <= second_part]"
   ]
  },
  {
   "cell_type": "markdown",
   "metadata": {},
   "source": [
    "Оценим распределение значений столбца \"Price\":"
   ]
  },
  {
   "cell_type": "code",
   "execution_count": 27,
   "metadata": {
    "scrolled": true
   },
   "outputs": [
    {
     "data": {
      "text/plain": [
       "count    305366.000000\n",
       "mean       4061.771527\n",
       "std        3447.362649\n",
       "min         400.000000\n",
       "25%        1300.000000\n",
       "50%        2899.000000\n",
       "75%        5990.000000\n",
       "max       14400.000000\n",
       "Name: Price, dtype: float64"
      ]
     },
     "execution_count": 27,
     "metadata": {},
     "output_type": "execute_result"
    }
   ],
   "source": [
    "frame['Price'].describe()"
   ]
  },
  {
   "cell_type": "code",
   "execution_count": 28,
   "metadata": {
    "scrolled": false
   },
   "outputs": [
    {
     "name": "stdout",
     "output_type": "stream",
     "text": [
      "Всего из таблицы удалено строк: 48998\n"
     ]
    }
   ],
   "source": [
    "print('Всего из таблицы удалено строк:', frame_with_date.shape[0]-frame.shape[0])"
   ]
  },
  {
   "cell_type": "markdown",
   "metadata": {},
   "source": [
    "### Вывод"
   ]
  },
  {
   "cell_type": "markdown",
   "metadata": {},
   "source": [
    "* Пропуски  в категорийных признаках заполнялись модой;\n",
    "* Дубликаты объектов: было найдено 5 шт - удалены;\n",
    "* Проверена корреляция\n",
    "* Данные были очищены от выбросов и аномальных значений. Всего из таблицы удалено строк: 48998"
   ]
  },
  {
   "cell_type": "markdown",
   "metadata": {},
   "source": [
    "## Обучение моделей"
   ]
  },
  {
   "cell_type": "markdown",
   "metadata": {},
   "source": [
    "### Разделение выборок"
   ]
  },
  {
   "cell_type": "markdown",
   "metadata": {},
   "source": [
    "Создадим дополнительно две выборки. Таким образом, у нас будет три выборки для трех различных моделей обучения."
   ]
  },
  {
   "cell_type": "code",
   "execution_count": 29,
   "metadata": {},
   "outputs": [],
   "source": [
    "#закодируем техникой One Hot Encoder \n",
    "frame_ohe = frame.copy()\n",
    "frame_ohe = pd.get_dummies(frame_ohe)\n",
    "\n",
    "#создадим словарь категориальных признаков для LightGBM\n",
    "frame_light = frame.copy()\n",
    "frame_light = frame_light.astype({\"VehicleType\":'category',\n",
    "                                  \"Gearbox\":'category',\n",
    "                                  \"Model\":'category',\n",
    "                                  \"FuelType\":'category',\n",
    "                                  \"Brand\":'category',\n",
    "                                  \"NotRepaired\":'category'})"
   ]
  },
  {
   "cell_type": "markdown",
   "metadata": {},
   "source": [
    "Разделим данные на выборки в соотношении 3 к 1:"
   ]
  },
  {
   "cell_type": "code",
   "execution_count": 30,
   "metadata": {},
   "outputs": [],
   "source": [
    "(trainX,\n",
    " testX,\n",
    " trainY,\n",
    " testY) = train_test_split(frame_ohe.drop('Price', axis = 1),\n",
    "                                             frame_ohe['Price'],\n",
    "                                             test_size = 0.25,\n",
    "                                             random_state = 42)\n",
    "\n",
    "(trainX_wo_ohe,\n",
    " testX_wo_ohe,\n",
    " trainY_wo_ohe,\n",
    " testY_wo_ohe) = train_test_split(frame.drop('Price', axis = 1),\n",
    "                                             frame['Price'],\n",
    "                                             test_size = 0.25,\n",
    "                                             random_state = 42)\n",
    "(trainX_wo_ohe_light,\n",
    " testX_wo_ohe_light,\n",
    " trainY_wo_ohe_light,\n",
    " testY_wo_ohe_light) = train_test_split(frame_light.drop('Price', axis = 1),\n",
    "                                             frame_light['Price'],\n",
    "                                             test_size = 0.25,\n",
    "                                             random_state = 42)"
   ]
  },
  {
   "cell_type": "markdown",
   "metadata": {},
   "source": [
    "### Обучение CatBoost"
   ]
  },
  {
   "cell_type": "code",
   "execution_count": null,
   "metadata": {
    "scrolled": true
   },
   "outputs": [
    {
     "name": "stdout",
     "output_type": "stream",
     "text": [
      "0:\tlearn: 4874.9295824\ttest: 4868.0534392\tbest: 4868.0534392 (0)\ttotal: 438ms\tremaining: 2m 54s\n",
      "1:\tlearn: 4476.8337798\ttest: 4469.5174720\tbest: 4469.5174720 (1)\ttotal: 733ms\tremaining: 2m 25s\n",
      "2:\tlearn: 4117.5571547\ttest: 4110.3027417\tbest: 4110.3027417 (2)\ttotal: 1.03s\tremaining: 2m 16s\n",
      "3:\tlearn: 3800.9540375\ttest: 3793.4164061\tbest: 3793.4164061 (3)\ttotal: 1.33s\tremaining: 2m 12s\n",
      "4:\tlearn: 3519.0171743\ttest: 3510.5113068\tbest: 3510.5113068 (4)\ttotal: 1.75s\tremaining: 2m 18s\n",
      "5:\tlearn: 3272.5259933\ttest: 3263.1255948\tbest: 3263.1255948 (5)\ttotal: 2.07s\tremaining: 2m 16s\n",
      "6:\tlearn: 3055.8834447\ttest: 3046.2109352\tbest: 3046.2109352 (6)\ttotal: 2.38s\tremaining: 2m 13s\n",
      "7:\tlearn: 2863.0510621\ttest: 2853.1395179\tbest: 2853.1395179 (7)\ttotal: 2.69s\tremaining: 2m 11s\n",
      "8:\tlearn: 2692.4683120\ttest: 2681.9571990\tbest: 2681.9571990 (8)\ttotal: 2.97s\tremaining: 2m 8s\n",
      "9:\tlearn: 2542.2692675\ttest: 2531.6850890\tbest: 2531.6850890 (9)\ttotal: 3.32s\tremaining: 2m 9s\n",
      "10:\tlearn: 2413.5133283\ttest: 2402.2879279\tbest: 2402.2879279 (10)\ttotal: 3.65s\tremaining: 2m 8s\n",
      "11:\tlearn: 2300.1895075\ttest: 2288.7530538\tbest: 2288.7530538 (11)\ttotal: 4.03s\tremaining: 2m 10s\n",
      "12:\tlearn: 2202.7322755\ttest: 2191.5041838\tbest: 2191.5041838 (12)\ttotal: 4.29s\tremaining: 2m 7s\n",
      "13:\tlearn: 2116.0443719\ttest: 2104.4948426\tbest: 2104.4948426 (13)\ttotal: 4.64s\tremaining: 2m 8s\n",
      "14:\tlearn: 2041.6882244\ttest: 2029.8592536\tbest: 2029.8592536 (14)\ttotal: 4.88s\tremaining: 2m 5s\n",
      "15:\tlearn: 1978.0504525\ttest: 1966.3055902\tbest: 1966.3055902 (15)\ttotal: 5.15s\tremaining: 2m 3s\n",
      "16:\tlearn: 1920.9345772\ttest: 1908.3803920\tbest: 1908.3803920 (16)\ttotal: 5.47s\tremaining: 2m 3s\n",
      "17:\tlearn: 1870.2360514\ttest: 1855.9016485\tbest: 1855.9016485 (17)\ttotal: 5.76s\tremaining: 2m 2s\n",
      "18:\tlearn: 1826.7692018\ttest: 1811.6542939\tbest: 1811.6542939 (18)\ttotal: 6.03s\tremaining: 2m\n",
      "19:\tlearn: 1789.8078579\ttest: 1772.3510541\tbest: 1772.3510541 (19)\ttotal: 6.26s\tremaining: 1m 59s\n",
      "20:\tlearn: 1758.0180717\ttest: 1739.0494098\tbest: 1739.0494098 (20)\ttotal: 6.5s\tremaining: 1m 57s\n",
      "21:\tlearn: 1730.6775484\ttest: 1711.6096808\tbest: 1711.6096808 (21)\ttotal: 6.74s\tremaining: 1m 55s\n",
      "22:\tlearn: 1706.0222960\ttest: 1686.9038180\tbest: 1686.9038180 (22)\ttotal: 7.03s\tremaining: 1m 55s\n",
      "23:\tlearn: 1685.8891350\ttest: 1666.7327769\tbest: 1666.7327769 (23)\ttotal: 7.27s\tremaining: 1m 53s\n",
      "24:\tlearn: 1667.1007928\ttest: 1647.9952465\tbest: 1647.9952465 (24)\ttotal: 7.49s\tremaining: 1m 52s\n",
      "25:\tlearn: 1651.4792312\ttest: 1632.6504740\tbest: 1632.6504740 (25)\ttotal: 7.74s\tremaining: 1m 51s\n",
      "26:\tlearn: 1634.7817930\ttest: 1616.2804526\tbest: 1616.2804526 (26)\ttotal: 8.03s\tremaining: 1m 50s\n",
      "27:\tlearn: 1620.5610662\ttest: 1602.0737782\tbest: 1602.0737782 (27)\ttotal: 8.28s\tremaining: 1m 50s\n",
      "28:\tlearn: 1609.5714543\ttest: 1591.6319631\tbest: 1591.6319631 (28)\ttotal: 8.59s\tremaining: 1m 49s\n",
      "29:\tlearn: 1599.1244303\ttest: 1581.3411060\tbest: 1581.3411060 (29)\ttotal: 8.87s\tremaining: 1m 49s\n",
      "30:\tlearn: 1590.5868366\ttest: 1573.0626447\tbest: 1573.0626447 (30)\ttotal: 9.09s\tremaining: 1m 48s\n",
      "31:\tlearn: 1582.7442010\ttest: 1565.3054698\tbest: 1565.3054698 (31)\ttotal: 9.37s\tremaining: 1m 47s\n",
      "32:\tlearn: 1575.9693480\ttest: 1558.4641060\tbest: 1558.4641060 (32)\ttotal: 9.63s\tremaining: 1m 47s\n",
      "33:\tlearn: 1569.7868782\ttest: 1552.9858390\tbest: 1552.9858390 (33)\ttotal: 9.92s\tremaining: 1m 46s\n",
      "34:\tlearn: 1563.9592302\ttest: 1547.5316494\tbest: 1547.5316494 (34)\ttotal: 10.2s\tremaining: 1m 46s\n",
      "35:\tlearn: 1558.4169662\ttest: 1541.7722795\tbest: 1541.7722795 (35)\ttotal: 10.4s\tremaining: 1m 45s\n",
      "36:\tlearn: 1553.3870165\ttest: 1537.0571633\tbest: 1537.0571633 (36)\ttotal: 10.6s\tremaining: 1m 44s\n",
      "37:\tlearn: 1548.7033427\ttest: 1532.5259359\tbest: 1532.5259359 (37)\ttotal: 10.9s\tremaining: 1m 43s\n",
      "38:\tlearn: 1544.7368712\ttest: 1529.2681055\tbest: 1529.2681055 (38)\ttotal: 11.2s\tremaining: 1m 43s\n",
      "39:\tlearn: 1541.1600488\ttest: 1526.0774261\tbest: 1526.0774261 (39)\ttotal: 11.4s\tremaining: 1m 42s\n",
      "40:\tlearn: 1537.9988247\ttest: 1523.2434748\tbest: 1523.2434748 (40)\ttotal: 11.7s\tremaining: 1m 42s\n",
      "41:\tlearn: 1535.5096306\ttest: 1521.1212597\tbest: 1521.1212597 (41)\ttotal: 11.9s\tremaining: 1m 41s\n",
      "42:\tlearn: 1531.8211004\ttest: 1517.5189093\tbest: 1517.5189093 (42)\ttotal: 12.2s\tremaining: 1m 41s\n",
      "43:\tlearn: 1528.4751917\ttest: 1514.6103567\tbest: 1514.6103567 (43)\ttotal: 12.4s\tremaining: 1m 40s\n",
      "44:\tlearn: 1525.8933462\ttest: 1512.3934706\tbest: 1512.3934706 (44)\ttotal: 12.7s\tremaining: 1m 40s\n",
      "45:\tlearn: 1523.1993803\ttest: 1510.0446210\tbest: 1510.0446210 (45)\ttotal: 12.9s\tremaining: 1m 39s\n",
      "46:\tlearn: 1520.7501858\ttest: 1507.7950957\tbest: 1507.7950957 (46)\ttotal: 13.2s\tremaining: 1m 39s\n",
      "47:\tlearn: 1518.6617937\ttest: 1505.9517474\tbest: 1505.9517474 (47)\ttotal: 13.5s\tremaining: 1m 38s\n",
      "48:\tlearn: 1516.0293939\ttest: 1504.0267724\tbest: 1504.0267724 (48)\ttotal: 13.7s\tremaining: 1m 37s\n",
      "49:\tlearn: 1511.1723972\ttest: 1499.6623423\tbest: 1499.6623423 (49)\ttotal: 14s\tremaining: 1m 37s\n",
      "50:\tlearn: 1508.2103961\ttest: 1496.9173790\tbest: 1496.9173790 (50)\ttotal: 14.3s\tremaining: 1m 37s\n",
      "51:\tlearn: 1504.6670977\ttest: 1493.9376693\tbest: 1493.9376693 (51)\ttotal: 14.5s\tremaining: 1m 37s\n",
      "52:\tlearn: 1502.8898847\ttest: 1492.4038527\tbest: 1492.4038527 (52)\ttotal: 14.8s\tremaining: 1m 36s\n",
      "53:\tlearn: 1500.0185894\ttest: 1489.8928820\tbest: 1489.8928820 (53)\ttotal: 15s\tremaining: 1m 35s\n",
      "54:\tlearn: 1497.1756396\ttest: 1487.2167524\tbest: 1487.2167524 (54)\ttotal: 15.1s\tremaining: 1m 34s\n",
      "55:\tlearn: 1495.5646797\ttest: 1485.7220120\tbest: 1485.7220120 (55)\ttotal: 15.4s\tremaining: 1m 34s\n",
      "56:\tlearn: 1493.4499320\ttest: 1483.9542782\tbest: 1483.9542782 (56)\ttotal: 15.7s\tremaining: 1m 34s\n",
      "57:\tlearn: 1491.6236268\ttest: 1482.4361983\tbest: 1482.4361983 (57)\ttotal: 15.9s\tremaining: 1m 33s\n",
      "58:\tlearn: 1488.5604867\ttest: 1480.0260188\tbest: 1480.0260188 (58)\ttotal: 16.1s\tremaining: 1m 33s\n",
      "59:\tlearn: 1486.0262210\ttest: 1478.1993557\tbest: 1478.1993557 (59)\ttotal: 16.3s\tremaining: 1m 32s\n",
      "60:\tlearn: 1482.5966513\ttest: 1475.1450700\tbest: 1475.1450700 (60)\ttotal: 16.5s\tremaining: 1m 31s\n",
      "61:\tlearn: 1480.6225244\ttest: 1473.5596039\tbest: 1473.5596039 (61)\ttotal: 16.7s\tremaining: 1m 31s\n",
      "62:\tlearn: 1479.5018338\ttest: 1472.7647970\tbest: 1472.7647970 (62)\ttotal: 17s\tremaining: 1m 31s\n",
      "63:\tlearn: 1477.6705883\ttest: 1471.3486274\tbest: 1471.3486274 (63)\ttotal: 17.3s\tremaining: 1m 30s\n",
      "64:\tlearn: 1475.6117634\ttest: 1469.7262317\tbest: 1469.7262317 (64)\ttotal: 17.6s\tremaining: 1m 30s\n",
      "65:\tlearn: 1474.4443402\ttest: 1468.7200289\tbest: 1468.7200289 (65)\ttotal: 17.9s\tremaining: 1m 30s\n",
      "66:\tlearn: 1472.4388444\ttest: 1467.3727250\tbest: 1467.3727250 (66)\ttotal: 18.2s\tremaining: 1m 30s\n",
      "67:\tlearn: 1470.5543788\ttest: 1465.8135073\tbest: 1465.8135073 (67)\ttotal: 18.5s\tremaining: 1m 30s\n",
      "68:\tlearn: 1468.6299242\ttest: 1464.0044879\tbest: 1464.0044879 (68)\ttotal: 18.7s\tremaining: 1m 29s\n",
      "69:\tlearn: 1466.9063056\ttest: 1462.3725147\tbest: 1462.3725147 (69)\ttotal: 18.9s\tremaining: 1m 29s\n",
      "70:\tlearn: 1465.4490645\ttest: 1461.4018806\tbest: 1461.4018806 (70)\ttotal: 19.2s\tremaining: 1m 28s\n",
      "71:\tlearn: 1464.3270879\ttest: 1460.3614904\tbest: 1460.3614904 (71)\ttotal: 19.4s\tremaining: 1m 28s\n",
      "72:\tlearn: 1463.2205222\ttest: 1459.4349181\tbest: 1459.4349181 (72)\ttotal: 19.6s\tremaining: 1m 27s\n",
      "73:\tlearn: 1461.5975471\ttest: 1458.1341333\tbest: 1458.1341333 (73)\ttotal: 19.9s\tremaining: 1m 27s\n",
      "74:\tlearn: 1459.7779761\ttest: 1456.4412668\tbest: 1456.4412668 (74)\ttotal: 20.2s\tremaining: 1m 27s\n",
      "75:\tlearn: 1459.1110852\ttest: 1455.8910644\tbest: 1455.8910644 (75)\ttotal: 20.4s\tremaining: 1m 26s\n",
      "76:\tlearn: 1458.3212303\ttest: 1455.3814247\tbest: 1455.3814247 (76)\ttotal: 20.6s\tremaining: 1m 26s\n",
      "77:\tlearn: 1457.4405288\ttest: 1454.7227029\tbest: 1454.7227029 (77)\ttotal: 20.8s\tremaining: 1m 25s\n",
      "78:\tlearn: 1456.0821112\ttest: 1453.5230351\tbest: 1453.5230351 (78)\ttotal: 21.1s\tremaining: 1m 25s\n",
      "79:\tlearn: 1454.5512821\ttest: 1452.2993174\tbest: 1452.2993174 (79)\ttotal: 21.3s\tremaining: 1m 25s\n",
      "80:\tlearn: 1453.8025938\ttest: 1451.7425279\tbest: 1451.7425279 (80)\ttotal: 21.5s\tremaining: 1m 24s\n",
      "81:\tlearn: 1452.0373773\ttest: 1450.6310667\tbest: 1450.6310667 (81)\ttotal: 21.8s\tremaining: 1m 24s\n",
      "82:\tlearn: 1450.7428366\ttest: 1449.6567984\tbest: 1449.6567984 (82)\ttotal: 22s\tremaining: 1m 23s\n",
      "83:\tlearn: 1449.1161650\ttest: 1448.4140136\tbest: 1448.4140136 (83)\ttotal: 22.2s\tremaining: 1m 23s\n",
      "84:\tlearn: 1447.5385119\ttest: 1447.2827950\tbest: 1447.2827950 (84)\ttotal: 22.4s\tremaining: 1m 23s\n",
      "85:\tlearn: 1446.7370317\ttest: 1446.7632218\tbest: 1446.7632218 (85)\ttotal: 22.7s\tremaining: 1m 22s\n",
      "86:\tlearn: 1445.2473874\ttest: 1445.6595381\tbest: 1445.6595381 (86)\ttotal: 22.9s\tremaining: 1m 22s\n",
      "87:\tlearn: 1444.2099916\ttest: 1444.7398032\tbest: 1444.7398032 (87)\ttotal: 23.1s\tremaining: 1m 21s\n",
      "88:\tlearn: 1442.8474764\ttest: 1443.5789591\tbest: 1443.5789591 (88)\ttotal: 23.3s\tremaining: 1m 21s\n",
      "89:\tlearn: 1441.0244758\ttest: 1442.1517368\tbest: 1442.1517368 (89)\ttotal: 23.7s\tremaining: 1m 21s\n",
      "90:\tlearn: 1439.2538982\ttest: 1440.8113551\tbest: 1440.8113551 (90)\ttotal: 24s\tremaining: 1m 21s\n",
      "91:\tlearn: 1437.6906725\ttest: 1439.6037191\tbest: 1439.6037191 (91)\ttotal: 24.2s\tremaining: 1m 20s\n",
      "92:\tlearn: 1436.4928553\ttest: 1438.4900858\tbest: 1438.4900858 (92)\ttotal: 24.4s\tremaining: 1m 20s\n",
      "93:\tlearn: 1435.4226511\ttest: 1437.8478508\tbest: 1437.8478508 (93)\ttotal: 24.6s\tremaining: 1m 20s\n",
      "94:\tlearn: 1434.3068494\ttest: 1437.0770918\tbest: 1437.0770918 (94)\ttotal: 24.8s\tremaining: 1m 19s\n",
      "95:\tlearn: 1433.5485701\ttest: 1436.4077944\tbest: 1436.4077944 (95)\ttotal: 25s\tremaining: 1m 19s\n",
      "96:\tlearn: 1432.9096300\ttest: 1436.0407009\tbest: 1436.0407009 (96)\ttotal: 25.3s\tremaining: 1m 18s\n",
      "97:\tlearn: 1431.2451244\ttest: 1434.8625348\tbest: 1434.8625348 (97)\ttotal: 25.5s\tremaining: 1m 18s\n",
      "98:\tlearn: 1429.9066743\ttest: 1433.9728941\tbest: 1433.9728941 (98)\ttotal: 25.7s\tremaining: 1m 18s\n",
      "99:\tlearn: 1428.5574523\ttest: 1432.8859722\tbest: 1432.8859722 (99)\ttotal: 26s\tremaining: 1m 17s\n",
      "100:\tlearn: 1427.7536059\ttest: 1432.2106392\tbest: 1432.2106392 (100)\ttotal: 26.2s\tremaining: 1m 17s\n",
      "101:\tlearn: 1426.7356622\ttest: 1431.3124990\tbest: 1431.3124990 (101)\ttotal: 26.5s\tremaining: 1m 17s\n",
      "102:\tlearn: 1425.8294897\ttest: 1430.7339676\tbest: 1430.7339676 (102)\ttotal: 26.8s\tremaining: 1m 17s\n",
      "103:\tlearn: 1425.3246973\ttest: 1430.4374097\tbest: 1430.4374097 (103)\ttotal: 27s\tremaining: 1m 16s\n",
      "104:\tlearn: 1423.7576836\ttest: 1429.2173727\tbest: 1429.2173727 (104)\ttotal: 27.2s\tremaining: 1m 16s\n",
      "105:\tlearn: 1423.3497964\ttest: 1428.9431537\tbest: 1428.9431537 (105)\ttotal: 27.5s\tremaining: 1m 16s\n",
      "106:\tlearn: 1421.7154417\ttest: 1427.6878623\tbest: 1427.6878623 (106)\ttotal: 27.7s\tremaining: 1m 15s\n",
      "107:\tlearn: 1420.7526808\ttest: 1426.8786967\tbest: 1426.8786967 (107)\ttotal: 28s\tremaining: 1m 15s\n",
      "108:\tlearn: 1420.4170850\ttest: 1426.5999096\tbest: 1426.5999096 (108)\ttotal: 28.2s\tremaining: 1m 15s\n",
      "109:\tlearn: 1419.8888550\ttest: 1426.2161078\tbest: 1426.2161078 (109)\ttotal: 28.5s\tremaining: 1m 15s\n",
      "110:\tlearn: 1419.2343741\ttest: 1425.7374357\tbest: 1425.7374357 (110)\ttotal: 28.7s\tremaining: 1m 14s\n",
      "111:\tlearn: 1418.1108120\ttest: 1424.9044043\tbest: 1424.9044043 (111)\ttotal: 29s\tremaining: 1m 14s\n",
      "112:\tlearn: 1417.5912475\ttest: 1424.4215438\tbest: 1424.4215438 (112)\ttotal: 29.3s\tremaining: 1m 14s\n",
      "113:\tlearn: 1417.0154500\ttest: 1424.0408357\tbest: 1424.0408357 (113)\ttotal: 29.6s\tremaining: 1m 14s\n",
      "114:\tlearn: 1416.3187328\ttest: 1423.6222829\tbest: 1423.6222829 (114)\ttotal: 29.8s\tremaining: 1m 13s\n",
      "115:\tlearn: 1415.3932509\ttest: 1423.0440536\tbest: 1423.0440536 (115)\ttotal: 30.1s\tremaining: 1m 13s\n",
      "116:\tlearn: 1414.4735619\ttest: 1422.2768005\tbest: 1422.2768005 (116)\ttotal: 30.4s\tremaining: 1m 13s\n",
      "117:\tlearn: 1413.6044403\ttest: 1421.6965765\tbest: 1421.6965765 (117)\ttotal: 30.6s\tremaining: 1m 13s\n",
      "118:\tlearn: 1412.8272726\ttest: 1421.1428781\tbest: 1421.1428781 (118)\ttotal: 30.8s\tremaining: 1m 12s\n",
      "119:\tlearn: 1412.4365057\ttest: 1420.9038186\tbest: 1420.9038186 (119)\ttotal: 31s\tremaining: 1m 12s\n",
      "120:\tlearn: 1411.7625979\ttest: 1420.3170841\tbest: 1420.3170841 (120)\ttotal: 31.3s\tremaining: 1m 12s\n",
      "121:\tlearn: 1410.5706327\ttest: 1419.6380180\tbest: 1419.6380180 (121)\ttotal: 31.5s\tremaining: 1m 11s\n",
      "122:\tlearn: 1409.9818377\ttest: 1419.2469457\tbest: 1419.2469457 (122)\ttotal: 31.7s\tremaining: 1m 11s\n",
      "123:\tlearn: 1408.6145076\ttest: 1418.0318202\tbest: 1418.0318202 (123)\ttotal: 32s\tremaining: 1m 11s\n",
      "124:\tlearn: 1407.4353082\ttest: 1417.1299805\tbest: 1417.1299805 (124)\ttotal: 32.3s\tremaining: 1m 11s\n",
      "125:\tlearn: 1406.5571136\ttest: 1416.4767359\tbest: 1416.4767359 (125)\ttotal: 32.6s\tremaining: 1m 10s\n",
      "126:\tlearn: 1406.2922777\ttest: 1416.2536714\tbest: 1416.2536714 (126)\ttotal: 32.9s\tremaining: 1m 10s\n",
      "127:\tlearn: 1404.4270360\ttest: 1414.7895122\tbest: 1414.7895122 (127)\ttotal: 33.1s\tremaining: 1m 10s\n",
      "128:\tlearn: 1403.4047136\ttest: 1414.3359597\tbest: 1414.3359597 (128)\ttotal: 33.4s\tremaining: 1m 10s\n",
      "129:\tlearn: 1402.8125502\ttest: 1414.0099498\tbest: 1414.0099498 (129)\ttotal: 33.7s\tremaining: 1m 10s\n",
      "130:\tlearn: 1402.2785931\ttest: 1413.6180135\tbest: 1413.6180135 (130)\ttotal: 34s\tremaining: 1m 9s\n",
      "131:\tlearn: 1401.4821671\ttest: 1413.2109659\tbest: 1413.2109659 (131)\ttotal: 34.3s\tremaining: 1m 9s\n",
      "132:\tlearn: 1400.5768786\ttest: 1412.6233877\tbest: 1412.6233877 (132)\ttotal: 34.6s\tremaining: 1m 9s\n",
      "133:\tlearn: 1399.8848093\ttest: 1412.2744401\tbest: 1412.2744401 (133)\ttotal: 34.8s\tremaining: 1m 9s\n",
      "134:\tlearn: 1398.8933312\ttest: 1411.5232816\tbest: 1411.5232816 (134)\ttotal: 35.1s\tremaining: 1m 8s\n",
      "135:\tlearn: 1398.4313255\ttest: 1411.3091513\tbest: 1411.3091513 (135)\ttotal: 35.4s\tremaining: 1m 8s\n",
      "136:\tlearn: 1397.2005339\ttest: 1410.3531850\tbest: 1410.3531850 (136)\ttotal: 35.6s\tremaining: 1m 8s\n",
      "137:\tlearn: 1396.3307600\ttest: 1409.9852624\tbest: 1409.9852624 (137)\ttotal: 35.8s\tremaining: 1m 8s\n",
      "138:\tlearn: 1395.5532099\ttest: 1409.4478061\tbest: 1409.4478061 (138)\ttotal: 36.1s\tremaining: 1m 7s\n",
      "139:\tlearn: 1394.7984849\ttest: 1408.9819085\tbest: 1408.9819085 (139)\ttotal: 36.4s\tremaining: 1m 7s\n",
      "140:\tlearn: 1393.9858832\ttest: 1408.6362858\tbest: 1408.6362858 (140)\ttotal: 36.6s\tremaining: 1m 7s\n",
      "141:\tlearn: 1393.4288995\ttest: 1408.1820691\tbest: 1408.1820691 (141)\ttotal: 36.8s\tremaining: 1m 6s\n",
      "142:\tlearn: 1392.5418986\ttest: 1407.7168068\tbest: 1407.7168068 (142)\ttotal: 37s\tremaining: 1m 6s\n",
      "143:\tlearn: 1391.8365628\ttest: 1407.2502849\tbest: 1407.2502849 (143)\ttotal: 37.3s\tremaining: 1m 6s\n",
      "144:\tlearn: 1390.8247878\ttest: 1406.3576296\tbest: 1406.3576296 (144)\ttotal: 37.6s\tremaining: 1m 6s\n",
      "145:\tlearn: 1390.4057800\ttest: 1405.9537864\tbest: 1405.9537864 (145)\ttotal: 37.8s\tremaining: 1m 5s\n",
      "146:\tlearn: 1389.8870472\ttest: 1405.7174338\tbest: 1405.7174338 (146)\ttotal: 38s\tremaining: 1m 5s\n",
      "147:\tlearn: 1389.0925687\ttest: 1405.0761867\tbest: 1405.0761867 (147)\ttotal: 38.3s\tremaining: 1m 5s\n",
      "148:\tlearn: 1388.5950401\ttest: 1404.6953633\tbest: 1404.6953633 (148)\ttotal: 38.5s\tremaining: 1m 4s\n",
      "149:\tlearn: 1387.7802445\ttest: 1403.9972849\tbest: 1403.9972849 (149)\ttotal: 38.7s\tremaining: 1m 4s\n",
      "150:\tlearn: 1387.3646428\ttest: 1403.8675084\tbest: 1403.8675084 (150)\ttotal: 39s\tremaining: 1m 4s\n",
      "151:\tlearn: 1386.4227267\ttest: 1403.2821684\tbest: 1403.2821684 (151)\ttotal: 39.2s\tremaining: 1m 3s\n",
      "152:\tlearn: 1386.0347732\ttest: 1403.0485904\tbest: 1403.0485904 (152)\ttotal: 39.4s\tremaining: 1m 3s\n",
      "153:\tlearn: 1385.4149219\ttest: 1402.7102785\tbest: 1402.7102785 (153)\ttotal: 39.7s\tremaining: 1m 3s\n",
      "154:\tlearn: 1384.6854810\ttest: 1402.1405026\tbest: 1402.1405026 (154)\ttotal: 39.9s\tremaining: 1m 3s\n",
      "155:\tlearn: 1383.7634943\ttest: 1401.4334142\tbest: 1401.4334142 (155)\ttotal: 40.1s\tremaining: 1m 2s\n",
      "156:\tlearn: 1382.6618014\ttest: 1400.7765010\tbest: 1400.7765010 (156)\ttotal: 40.4s\tremaining: 1m 2s\n",
      "157:\tlearn: 1382.0078984\ttest: 1400.4605049\tbest: 1400.4605049 (157)\ttotal: 40.6s\tremaining: 1m 2s\n",
      "158:\tlearn: 1381.5339334\ttest: 1400.1346087\tbest: 1400.1346087 (158)\ttotal: 40.9s\tremaining: 1m 1s\n",
      "159:\tlearn: 1380.9384014\ttest: 1399.8164433\tbest: 1399.8164433 (159)\ttotal: 41.1s\tremaining: 1m 1s\n",
      "160:\tlearn: 1380.4114336\ttest: 1399.5371444\tbest: 1399.5371444 (160)\ttotal: 41.3s\tremaining: 1m 1s\n",
      "161:\tlearn: 1379.8559867\ttest: 1399.0887809\tbest: 1399.0887809 (161)\ttotal: 41.6s\tremaining: 1m 1s\n",
      "162:\tlearn: 1379.1967258\ttest: 1398.7511262\tbest: 1398.7511262 (162)\ttotal: 41.9s\tremaining: 1m\n",
      "163:\tlearn: 1378.7607415\ttest: 1398.4523406\tbest: 1398.4523406 (163)\ttotal: 42.1s\tremaining: 1m\n",
      "164:\tlearn: 1377.8894720\ttest: 1397.7874253\tbest: 1397.7874253 (164)\ttotal: 42.5s\tremaining: 1m\n",
      "165:\tlearn: 1377.3789561\ttest: 1397.6509861\tbest: 1397.6509861 (165)\ttotal: 42.8s\tremaining: 1m\n",
      "166:\tlearn: 1376.6935352\ttest: 1397.1767591\tbest: 1397.1767591 (166)\ttotal: 43s\tremaining: 1m\n",
      "167:\tlearn: 1376.3124194\ttest: 1396.9825022\tbest: 1396.9825022 (167)\ttotal: 43.2s\tremaining: 59.7s\n",
      "168:\tlearn: 1375.7002034\ttest: 1396.7427352\tbest: 1396.7427352 (168)\ttotal: 43.5s\tremaining: 59.5s\n",
      "169:\tlearn: 1375.2002720\ttest: 1396.6522922\tbest: 1396.6522922 (169)\ttotal: 43.8s\tremaining: 59.3s\n",
      "170:\tlearn: 1374.6996258\ttest: 1396.4446928\tbest: 1396.4446928 (170)\ttotal: 44s\tremaining: 59s\n",
      "171:\tlearn: 1374.1799915\ttest: 1396.0947277\tbest: 1396.0947277 (171)\ttotal: 44.3s\tremaining: 58.8s\n",
      "172:\tlearn: 1373.4926911\ttest: 1395.6394425\tbest: 1395.6394425 (172)\ttotal: 44.6s\tremaining: 58.6s\n",
      "173:\tlearn: 1373.0237146\ttest: 1395.5072611\tbest: 1395.5072611 (173)\ttotal: 44.9s\tremaining: 58.3s\n",
      "174:\tlearn: 1372.5586464\ttest: 1395.3076047\tbest: 1395.3076047 (174)\ttotal: 45.1s\tremaining: 58s\n",
      "175:\tlearn: 1371.9257921\ttest: 1394.9590163\tbest: 1394.9590163 (175)\ttotal: 45.4s\tremaining: 57.8s\n",
      "176:\tlearn: 1371.6865720\ttest: 1394.9359316\tbest: 1394.9359316 (176)\ttotal: 45.6s\tremaining: 57.5s\n",
      "177:\tlearn: 1371.4904903\ttest: 1394.7744244\tbest: 1394.7744244 (177)\ttotal: 45.8s\tremaining: 57.1s\n",
      "178:\tlearn: 1370.9627634\ttest: 1394.5267558\tbest: 1394.5267558 (178)\ttotal: 46.1s\tremaining: 56.9s\n",
      "179:\tlearn: 1370.6210049\ttest: 1394.3499486\tbest: 1394.3499486 (179)\ttotal: 46.3s\tremaining: 56.6s\n",
      "180:\tlearn: 1370.0504045\ttest: 1394.0458627\tbest: 1394.0458627 (180)\ttotal: 46.5s\tremaining: 56.3s\n",
      "181:\tlearn: 1369.4805677\ttest: 1393.6360958\tbest: 1393.6360958 (181)\ttotal: 46.7s\tremaining: 55.9s\n",
      "182:\tlearn: 1369.0771984\ttest: 1393.5010237\tbest: 1393.5010237 (182)\ttotal: 47s\tremaining: 55.7s\n",
      "183:\tlearn: 1368.7060497\ttest: 1393.2597267\tbest: 1393.2597267 (183)\ttotal: 47.2s\tremaining: 55.4s\n",
      "184:\tlearn: 1367.9766550\ttest: 1392.8123403\tbest: 1392.8123403 (184)\ttotal: 47.4s\tremaining: 55.1s\n",
      "185:\tlearn: 1367.3319311\ttest: 1392.6148127\tbest: 1392.6148127 (185)\ttotal: 47.7s\tremaining: 54.9s\n",
      "186:\tlearn: 1366.8315379\ttest: 1392.4530646\tbest: 1392.4530646 (186)\ttotal: 48s\tremaining: 54.6s\n",
      "187:\tlearn: 1366.5261196\ttest: 1392.2881031\tbest: 1392.2881031 (187)\ttotal: 48.2s\tremaining: 54.3s\n",
      "188:\tlearn: 1366.3068445\ttest: 1392.2558956\tbest: 1392.2558956 (188)\ttotal: 48.4s\tremaining: 54.1s\n",
      "189:\tlearn: 1365.6622606\ttest: 1391.9625526\tbest: 1391.9625526 (189)\ttotal: 48.7s\tremaining: 53.8s\n",
      "190:\tlearn: 1365.2002913\ttest: 1391.8229294\tbest: 1391.8229294 (190)\ttotal: 49s\tremaining: 53.6s\n",
      "191:\tlearn: 1364.6535662\ttest: 1391.4604058\tbest: 1391.4604058 (191)\ttotal: 49.2s\tremaining: 53.3s\n",
      "192:\tlearn: 1364.3206297\ttest: 1391.2352959\tbest: 1391.2352959 (192)\ttotal: 49.4s\tremaining: 53s\n",
      "193:\tlearn: 1363.1893729\ttest: 1390.7065942\tbest: 1390.7065942 (193)\ttotal: 49.6s\tremaining: 52.7s\n",
      "194:\tlearn: 1362.8182316\ttest: 1390.5654193\tbest: 1390.5654193 (194)\ttotal: 49.8s\tremaining: 52.4s\n",
      "195:\tlearn: 1362.6093069\ttest: 1390.4467911\tbest: 1390.4467911 (195)\ttotal: 50s\tremaining: 52s\n",
      "196:\tlearn: 1361.7247380\ttest: 1389.9333544\tbest: 1389.9333544 (196)\ttotal: 50.2s\tremaining: 51.8s\n",
      "197:\tlearn: 1361.2597864\ttest: 1389.6784328\tbest: 1389.6784328 (197)\ttotal: 50.5s\tremaining: 51.6s\n",
      "198:\tlearn: 1361.1093377\ttest: 1389.6606518\tbest: 1389.6606518 (198)\ttotal: 50.9s\tremaining: 51.4s\n",
      "199:\tlearn: 1360.6901146\ttest: 1389.4832785\tbest: 1389.4832785 (199)\ttotal: 51.2s\tremaining: 51.2s\n",
      "200:\tlearn: 1360.2059068\ttest: 1389.2595560\tbest: 1389.2595560 (200)\ttotal: 51.5s\tremaining: 51s\n",
      "201:\tlearn: 1359.5913184\ttest: 1389.0195276\tbest: 1389.0195276 (201)\ttotal: 51.8s\tremaining: 50.8s\n",
      "202:\tlearn: 1359.1436641\ttest: 1388.7035178\tbest: 1388.7035178 (202)\ttotal: 52.1s\tremaining: 50.6s\n",
      "203:\tlearn: 1358.6445702\ttest: 1388.2595805\tbest: 1388.2595805 (203)\ttotal: 52.5s\tremaining: 50.4s\n",
      "204:\tlearn: 1357.9659912\ttest: 1387.8334424\tbest: 1387.8334424 (204)\ttotal: 52.8s\tremaining: 50.2s\n",
      "205:\tlearn: 1357.6145282\ttest: 1387.6050035\tbest: 1387.6050035 (205)\ttotal: 53s\tremaining: 50s\n",
      "206:\tlearn: 1356.9767793\ttest: 1387.4204185\tbest: 1387.4204185 (206)\ttotal: 53.3s\tremaining: 49.7s\n",
      "207:\tlearn: 1356.5176623\ttest: 1387.0177492\tbest: 1387.0177492 (207)\ttotal: 53.5s\tremaining: 49.4s\n",
      "208:\tlearn: 1355.8152245\ttest: 1386.6698739\tbest: 1386.6698739 (208)\ttotal: 53.8s\tremaining: 49.1s\n",
      "209:\tlearn: 1355.3985521\ttest: 1386.4750337\tbest: 1386.4750337 (209)\ttotal: 54s\tremaining: 48.9s\n",
      "210:\tlearn: 1354.6024962\ttest: 1385.8722100\tbest: 1385.8722100 (210)\ttotal: 54.2s\tremaining: 48.6s\n",
      "211:\tlearn: 1354.0611080\ttest: 1385.5220340\tbest: 1385.5220340 (211)\ttotal: 54.6s\tremaining: 48.4s\n",
      "212:\tlearn: 1353.7772094\ttest: 1385.3668681\tbest: 1385.3668681 (212)\ttotal: 54.8s\tremaining: 48.1s\n",
      "213:\tlearn: 1353.3962159\ttest: 1385.1567511\tbest: 1385.1567511 (213)\ttotal: 55.1s\tremaining: 47.9s\n",
      "214:\tlearn: 1352.8792911\ttest: 1384.7594042\tbest: 1384.7594042 (214)\ttotal: 55.4s\tremaining: 47.7s\n",
      "215:\tlearn: 1352.7078537\ttest: 1384.6612172\tbest: 1384.6612172 (215)\ttotal: 55.7s\tremaining: 47.5s\n",
      "216:\tlearn: 1352.5310108\ttest: 1384.5887574\tbest: 1384.5887574 (216)\ttotal: 56s\tremaining: 47.2s\n",
      "217:\tlearn: 1352.1508594\ttest: 1384.4380694\tbest: 1384.4380694 (217)\ttotal: 56.3s\tremaining: 47s\n",
      "218:\tlearn: 1351.5214019\ttest: 1383.8905923\tbest: 1383.8905923 (218)\ttotal: 56.6s\tremaining: 46.8s\n",
      "219:\tlearn: 1351.4558197\ttest: 1383.8558053\tbest: 1383.8558053 (219)\ttotal: 56.9s\tremaining: 46.5s\n",
      "220:\tlearn: 1351.3524881\ttest: 1383.8395109\tbest: 1383.8395109 (220)\ttotal: 57.1s\tremaining: 46.3s\n",
      "221:\tlearn: 1350.9670198\ttest: 1383.7982513\tbest: 1383.7982513 (221)\ttotal: 57.4s\tremaining: 46.1s\n",
      "222:\tlearn: 1350.5011285\ttest: 1383.5635048\tbest: 1383.5635048 (222)\ttotal: 57.8s\tremaining: 45.8s\n",
      "223:\tlearn: 1350.4082280\ttest: 1383.5127118\tbest: 1383.5127118 (223)\ttotal: 58s\tremaining: 45.6s\n",
      "224:\tlearn: 1349.9102588\ttest: 1382.9903991\tbest: 1382.9903991 (224)\ttotal: 58.3s\tremaining: 45.3s\n",
      "225:\tlearn: 1349.6612062\ttest: 1382.8607436\tbest: 1382.8607436 (225)\ttotal: 58.5s\tremaining: 45.1s\n",
      "226:\tlearn: 1349.1450153\ttest: 1382.3751489\tbest: 1382.3751489 (226)\ttotal: 58.8s\tremaining: 44.8s\n",
      "227:\tlearn: 1348.4304265\ttest: 1381.8904281\tbest: 1381.8904281 (227)\ttotal: 59.1s\tremaining: 44.6s\n",
      "228:\tlearn: 1348.1134158\ttest: 1381.8762083\tbest: 1381.8762083 (228)\ttotal: 59.3s\tremaining: 44.3s\n",
      "229:\tlearn: 1348.0632983\ttest: 1381.8748486\tbest: 1381.8748486 (229)\ttotal: 59.6s\tremaining: 44s\n",
      "230:\tlearn: 1347.2213383\ttest: 1381.5276899\tbest: 1381.5276899 (230)\ttotal: 59.8s\tremaining: 43.8s\n",
      "231:\tlearn: 1346.9537661\ttest: 1381.3342257\tbest: 1381.3342257 (231)\ttotal: 1m\tremaining: 43.5s\n",
      "232:\tlearn: 1346.4895255\ttest: 1381.2988147\tbest: 1381.2988147 (232)\ttotal: 1m\tremaining: 43.2s\n",
      "233:\tlearn: 1346.1332039\ttest: 1381.3252770\tbest: 1381.2988147 (232)\ttotal: 1m\tremaining: 42.9s\n",
      "234:\tlearn: 1345.8604536\ttest: 1381.1540607\tbest: 1381.1540607 (234)\ttotal: 1m\tremaining: 42.6s\n",
      "235:\tlearn: 1345.8482205\ttest: 1381.1489279\tbest: 1381.1489279 (235)\ttotal: 1m\tremaining: 42.3s\n",
      "236:\tlearn: 1345.3387231\ttest: 1380.7908691\tbest: 1380.7908691 (236)\ttotal: 1m 1s\tremaining: 42s\n",
      "237:\tlearn: 1344.8997392\ttest: 1380.6084025\tbest: 1380.6084025 (237)\ttotal: 1m 1s\tremaining: 41.8s\n",
      "238:\tlearn: 1344.7259161\ttest: 1380.6268243\tbest: 1380.6084025 (237)\ttotal: 1m 1s\tremaining: 41.5s\n",
      "239:\tlearn: 1344.2237405\ttest: 1380.4595580\tbest: 1380.4595580 (239)\ttotal: 1m 1s\tremaining: 41.3s\n",
      "240:\tlearn: 1343.9310765\ttest: 1380.3664143\tbest: 1380.3664143 (240)\ttotal: 1m 2s\tremaining: 41s\n",
      "241:\tlearn: 1343.2763595\ttest: 1380.2401367\tbest: 1380.2401367 (241)\ttotal: 1m 2s\tremaining: 40.7s\n",
      "242:\tlearn: 1343.0252406\ttest: 1380.1432128\tbest: 1380.1432128 (242)\ttotal: 1m 2s\tremaining: 40.5s\n",
      "243:\tlearn: 1342.6986976\ttest: 1379.9930792\tbest: 1379.9930792 (243)\ttotal: 1m 2s\tremaining: 40.2s\n",
      "244:\tlearn: 1342.0755746\ttest: 1379.4776748\tbest: 1379.4776748 (244)\ttotal: 1m 3s\tremaining: 40s\n",
      "245:\tlearn: 1341.8755975\ttest: 1379.3609481\tbest: 1379.3609481 (245)\ttotal: 1m 3s\tremaining: 39.8s\n",
      "246:\tlearn: 1341.3907751\ttest: 1379.3123341\tbest: 1379.3123341 (246)\ttotal: 1m 3s\tremaining: 39.6s\n",
      "247:\tlearn: 1341.0334790\ttest: 1379.1087897\tbest: 1379.1087897 (247)\ttotal: 1m 4s\tremaining: 39.3s\n",
      "248:\tlearn: 1340.7642126\ttest: 1378.9815880\tbest: 1378.9815880 (248)\ttotal: 1m 4s\tremaining: 39.1s\n",
      "249:\tlearn: 1340.4962869\ttest: 1378.9144093\tbest: 1378.9144093 (249)\ttotal: 1m 4s\tremaining: 38.8s\n",
      "250:\tlearn: 1340.0149755\ttest: 1378.6624497\tbest: 1378.6624497 (250)\ttotal: 1m 4s\tremaining: 38.5s\n",
      "251:\tlearn: 1339.7322313\ttest: 1378.4744473\tbest: 1378.4744473 (251)\ttotal: 1m 5s\tremaining: 38.2s\n",
      "252:\tlearn: 1339.6000657\ttest: 1378.4325604\tbest: 1378.4325604 (252)\ttotal: 1m 5s\tremaining: 37.9s\n",
      "253:\tlearn: 1339.2637661\ttest: 1378.3687013\tbest: 1378.3687013 (253)\ttotal: 1m 5s\tremaining: 37.7s\n",
      "254:\tlearn: 1338.8107912\ttest: 1378.3378109\tbest: 1378.3378109 (254)\ttotal: 1m 5s\tremaining: 37.4s\n",
      "255:\tlearn: 1338.4549731\ttest: 1378.2273573\tbest: 1378.2273573 (255)\ttotal: 1m 6s\tremaining: 37.2s\n",
      "256:\tlearn: 1338.3386167\ttest: 1378.1530610\tbest: 1378.1530610 (256)\ttotal: 1m 6s\tremaining: 36.9s\n",
      "257:\tlearn: 1338.0258828\ttest: 1377.9103461\tbest: 1377.9103461 (257)\ttotal: 1m 6s\tremaining: 36.7s\n",
      "258:\tlearn: 1337.7695726\ttest: 1377.7995452\tbest: 1377.7995452 (258)\ttotal: 1m 6s\tremaining: 36.4s\n",
      "259:\tlearn: 1337.3645652\ttest: 1377.5765295\tbest: 1377.5765295 (259)\ttotal: 1m 7s\tremaining: 36.2s\n",
      "260:\tlearn: 1337.0607413\ttest: 1377.3731230\tbest: 1377.3731230 (260)\ttotal: 1m 7s\tremaining: 36s\n",
      "261:\tlearn: 1336.9023048\ttest: 1377.3115782\tbest: 1377.3115782 (261)\ttotal: 1m 7s\tremaining: 35.7s\n",
      "262:\tlearn: 1336.8934585\ttest: 1377.3078183\tbest: 1377.3078183 (262)\ttotal: 1m 8s\tremaining: 35.5s\n",
      "263:\tlearn: 1336.6430852\ttest: 1377.2767944\tbest: 1377.2767944 (263)\ttotal: 1m 8s\tremaining: 35.2s\n",
      "264:\tlearn: 1336.3434468\ttest: 1377.1270916\tbest: 1377.1270916 (264)\ttotal: 1m 8s\tremaining: 34.9s\n",
      "265:\tlearn: 1335.8654820\ttest: 1376.8840083\tbest: 1376.8840083 (265)\ttotal: 1m 8s\tremaining: 34.7s\n",
      "266:\tlearn: 1335.6128535\ttest: 1376.7651602\tbest: 1376.7651602 (266)\ttotal: 1m 9s\tremaining: 34.5s\n",
      "267:\tlearn: 1335.4177547\ttest: 1376.6844209\tbest: 1376.6844209 (267)\ttotal: 1m 9s\tremaining: 34.2s\n",
      "268:\tlearn: 1335.1486308\ttest: 1376.6743805\tbest: 1376.6743805 (268)\ttotal: 1m 9s\tremaining: 34s\n",
      "269:\tlearn: 1334.6370943\ttest: 1376.4901320\tbest: 1376.4901320 (269)\ttotal: 1m 10s\tremaining: 33.7s\n",
      "270:\tlearn: 1334.3802930\ttest: 1376.3562199\tbest: 1376.3562199 (270)\ttotal: 1m 10s\tremaining: 33.5s\n",
      "271:\tlearn: 1334.0406300\ttest: 1376.3293840\tbest: 1376.3293840 (271)\ttotal: 1m 10s\tremaining: 33.3s\n",
      "272:\tlearn: 1333.6366314\ttest: 1376.3088535\tbest: 1376.3088535 (272)\ttotal: 1m 10s\tremaining: 33s\n",
      "273:\tlearn: 1333.6177296\ttest: 1376.3055752\tbest: 1376.3055752 (273)\ttotal: 1m 11s\tremaining: 32.8s\n",
      "274:\tlearn: 1333.5030019\ttest: 1376.2243429\tbest: 1376.2243429 (274)\ttotal: 1m 11s\tremaining: 32.5s\n",
      "275:\tlearn: 1332.9850604\ttest: 1375.9545112\tbest: 1375.9545112 (275)\ttotal: 1m 11s\tremaining: 32.3s\n",
      "276:\tlearn: 1332.5707887\ttest: 1375.7383424\tbest: 1375.7383424 (276)\ttotal: 1m 12s\tremaining: 32s\n",
      "277:\tlearn: 1332.2619761\ttest: 1375.6554251\tbest: 1375.6554251 (277)\ttotal: 1m 12s\tremaining: 31.8s\n",
      "278:\tlearn: 1331.6530985\ttest: 1375.3549185\tbest: 1375.3549185 (278)\ttotal: 1m 12s\tremaining: 31.5s\n",
      "279:\tlearn: 1331.2597388\ttest: 1375.1825788\tbest: 1375.1825788 (279)\ttotal: 1m 13s\tremaining: 31.3s\n",
      "280:\tlearn: 1330.5648213\ttest: 1374.8235910\tbest: 1374.8235910 (280)\ttotal: 1m 13s\tremaining: 31s\n",
      "281:\tlearn: 1330.1749195\ttest: 1374.5512935\tbest: 1374.5512935 (281)\ttotal: 1m 13s\tremaining: 30.8s\n",
      "282:\tlearn: 1329.6425212\ttest: 1374.2747880\tbest: 1374.2747880 (282)\ttotal: 1m 13s\tremaining: 30.5s\n",
      "283:\tlearn: 1329.3726406\ttest: 1374.0583851\tbest: 1374.0583851 (283)\ttotal: 1m 14s\tremaining: 30.3s\n",
      "284:\tlearn: 1329.1861529\ttest: 1373.9649115\tbest: 1373.9649115 (284)\ttotal: 1m 14s\tremaining: 30s\n",
      "285:\tlearn: 1328.8941460\ttest: 1373.7202546\tbest: 1373.7202546 (285)\ttotal: 1m 14s\tremaining: 29.7s\n",
      "286:\tlearn: 1328.5386125\ttest: 1373.6163178\tbest: 1373.6163178 (286)\ttotal: 1m 14s\tremaining: 29.5s\n",
      "287:\tlearn: 1328.0031570\ttest: 1373.1599640\tbest: 1373.1599640 (287)\ttotal: 1m 15s\tremaining: 29.2s\n",
      "288:\tlearn: 1327.5202997\ttest: 1373.0359968\tbest: 1373.0359968 (288)\ttotal: 1m 15s\tremaining: 29s\n",
      "289:\tlearn: 1327.2605143\ttest: 1372.8806345\tbest: 1372.8806345 (289)\ttotal: 1m 15s\tremaining: 28.7s\n",
      "290:\tlearn: 1326.7697345\ttest: 1372.7732061\tbest: 1372.7732061 (290)\ttotal: 1m 16s\tremaining: 28.5s\n",
      "291:\tlearn: 1326.3953564\ttest: 1372.5610748\tbest: 1372.5610748 (291)\ttotal: 1m 16s\tremaining: 28.2s\n",
      "292:\tlearn: 1326.1746262\ttest: 1372.4616883\tbest: 1372.4616883 (292)\ttotal: 1m 16s\tremaining: 28s\n",
      "293:\tlearn: 1325.8298058\ttest: 1372.4158978\tbest: 1372.4158978 (293)\ttotal: 1m 16s\tremaining: 27.7s\n",
      "294:\tlearn: 1325.5251344\ttest: 1372.3156367\tbest: 1372.3156367 (294)\ttotal: 1m 17s\tremaining: 27.4s\n",
      "295:\tlearn: 1325.3372963\ttest: 1372.3027570\tbest: 1372.3027570 (295)\ttotal: 1m 17s\tremaining: 27.2s\n",
      "296:\tlearn: 1325.2539495\ttest: 1372.2772514\tbest: 1372.2772514 (296)\ttotal: 1m 17s\tremaining: 26.9s\n",
      "297:\tlearn: 1324.6383316\ttest: 1371.8449291\tbest: 1371.8449291 (297)\ttotal: 1m 17s\tremaining: 26.7s\n",
      "298:\tlearn: 1324.3854805\ttest: 1371.7421361\tbest: 1371.7421361 (298)\ttotal: 1m 18s\tremaining: 26.4s\n",
      "299:\tlearn: 1323.8121158\ttest: 1371.3923879\tbest: 1371.3923879 (299)\ttotal: 1m 18s\tremaining: 26.1s\n",
      "300:\tlearn: 1323.7130884\ttest: 1371.3836463\tbest: 1371.3836463 (300)\ttotal: 1m 18s\tremaining: 25.9s\n",
      "301:\tlearn: 1323.5058472\ttest: 1371.2960360\tbest: 1371.2960360 (301)\ttotal: 1m 19s\tremaining: 25.6s\n",
      "302:\tlearn: 1323.2806092\ttest: 1371.2669738\tbest: 1371.2669738 (302)\ttotal: 1m 19s\tremaining: 25.4s\n",
      "303:\tlearn: 1322.8510784\ttest: 1371.1279866\tbest: 1371.1279866 (303)\ttotal: 1m 19s\tremaining: 25.1s\n",
      "304:\tlearn: 1322.5467821\ttest: 1371.0568670\tbest: 1371.0568670 (304)\ttotal: 1m 19s\tremaining: 24.9s\n",
      "305:\tlearn: 1322.3063920\ttest: 1370.9875588\tbest: 1370.9875588 (305)\ttotal: 1m 20s\tremaining: 24.6s\n",
      "306:\tlearn: 1321.9765958\ttest: 1370.8071228\tbest: 1370.8071228 (306)\ttotal: 1m 20s\tremaining: 24.4s\n",
      "307:\tlearn: 1321.7629401\ttest: 1370.7219125\tbest: 1370.7219125 (307)\ttotal: 1m 20s\tremaining: 24.1s\n",
      "308:\tlearn: 1321.1346567\ttest: 1370.3245600\tbest: 1370.3245600 (308)\ttotal: 1m 20s\tremaining: 23.8s\n",
      "309:\tlearn: 1320.8788575\ttest: 1370.2571013\tbest: 1370.2571013 (309)\ttotal: 1m 21s\tremaining: 23.6s\n",
      "310:\tlearn: 1320.8636788\ttest: 1370.2630203\tbest: 1370.2571013 (309)\ttotal: 1m 21s\tremaining: 23.3s\n",
      "311:\tlearn: 1320.2408897\ttest: 1369.7986246\tbest: 1369.7986246 (311)\ttotal: 1m 21s\tremaining: 23.1s\n",
      "312:\tlearn: 1319.8574230\ttest: 1369.7021040\tbest: 1369.7021040 (312)\ttotal: 1m 22s\tremaining: 22.8s\n",
      "313:\tlearn: 1319.4676889\ttest: 1369.6517989\tbest: 1369.6517989 (313)\ttotal: 1m 22s\tremaining: 22.6s\n",
      "314:\tlearn: 1319.2310614\ttest: 1369.6302164\tbest: 1369.6302164 (314)\ttotal: 1m 22s\tremaining: 22.3s\n",
      "315:\tlearn: 1318.9018164\ttest: 1369.5855291\tbest: 1369.5855291 (315)\ttotal: 1m 22s\tremaining: 22.1s\n",
      "316:\tlearn: 1318.6852189\ttest: 1369.4950147\tbest: 1369.4950147 (316)\ttotal: 1m 23s\tremaining: 21.8s\n",
      "317:\tlearn: 1318.5307869\ttest: 1369.4445594\tbest: 1369.4445594 (317)\ttotal: 1m 23s\tremaining: 21.6s\n",
      "318:\tlearn: 1318.2181942\ttest: 1369.3897039\tbest: 1369.3897039 (318)\ttotal: 1m 23s\tremaining: 21.3s\n",
      "319:\tlearn: 1317.9916170\ttest: 1369.3099262\tbest: 1369.3099262 (319)\ttotal: 1m 24s\tremaining: 21s\n",
      "320:\tlearn: 1317.8759325\ttest: 1369.2962131\tbest: 1369.2962131 (320)\ttotal: 1m 24s\tremaining: 20.8s\n",
      "321:\tlearn: 1317.6157434\ttest: 1369.0944159\tbest: 1369.0944159 (321)\ttotal: 1m 24s\tremaining: 20.5s\n",
      "322:\tlearn: 1317.3061329\ttest: 1368.9628080\tbest: 1368.9628080 (322)\ttotal: 1m 24s\tremaining: 20.3s\n",
      "323:\tlearn: 1317.0406208\ttest: 1368.8008634\tbest: 1368.8008634 (323)\ttotal: 1m 25s\tremaining: 20s\n",
      "324:\tlearn: 1316.6463279\ttest: 1368.6566213\tbest: 1368.6566213 (324)\ttotal: 1m 25s\tremaining: 19.8s\n",
      "325:\tlearn: 1316.3671253\ttest: 1368.5847323\tbest: 1368.5847323 (325)\ttotal: 1m 25s\tremaining: 19.5s\n",
      "326:\tlearn: 1316.1087947\ttest: 1368.5201273\tbest: 1368.5201273 (326)\ttotal: 1m 26s\tremaining: 19.2s\n",
      "327:\tlearn: 1315.8753777\ttest: 1368.4957976\tbest: 1368.4957976 (327)\ttotal: 1m 26s\tremaining: 19s\n",
      "328:\tlearn: 1315.7572379\ttest: 1368.4572971\tbest: 1368.4572971 (328)\ttotal: 1m 26s\tremaining: 18.7s\n",
      "329:\tlearn: 1315.6225058\ttest: 1368.4964202\tbest: 1368.4572971 (328)\ttotal: 1m 27s\tremaining: 18.5s\n",
      "330:\tlearn: 1315.3802007\ttest: 1368.6110750\tbest: 1368.4572971 (328)\ttotal: 1m 27s\tremaining: 18.2s\n",
      "331:\tlearn: 1315.2569680\ttest: 1368.6669117\tbest: 1368.4572971 (328)\ttotal: 1m 27s\tremaining: 17.9s\n",
      "332:\tlearn: 1314.6637412\ttest: 1368.5300128\tbest: 1368.4572971 (328)\ttotal: 1m 27s\tremaining: 17.7s\n",
      "333:\tlearn: 1314.4275366\ttest: 1368.4656054\tbest: 1368.4572971 (328)\ttotal: 1m 28s\tremaining: 17.4s\n",
      "334:\tlearn: 1313.8697605\ttest: 1368.2572537\tbest: 1368.2572537 (334)\ttotal: 1m 28s\tremaining: 17.2s\n",
      "335:\tlearn: 1313.8030375\ttest: 1368.2026174\tbest: 1368.2026174 (335)\ttotal: 1m 28s\tremaining: 16.9s\n",
      "336:\tlearn: 1313.6314067\ttest: 1368.0901219\tbest: 1368.0901219 (336)\ttotal: 1m 29s\tremaining: 16.6s\n",
      "337:\tlearn: 1313.4226997\ttest: 1367.9858213\tbest: 1367.9858213 (337)\ttotal: 1m 29s\tremaining: 16.4s\n",
      "338:\tlearn: 1313.2427799\ttest: 1367.9475157\tbest: 1367.9475157 (338)\ttotal: 1m 29s\tremaining: 16.1s\n",
      "339:\tlearn: 1312.9388328\ttest: 1367.9142653\tbest: 1367.9142653 (339)\ttotal: 1m 29s\tremaining: 15.8s\n",
      "340:\tlearn: 1312.5939500\ttest: 1367.8142025\tbest: 1367.8142025 (340)\ttotal: 1m 30s\tremaining: 15.6s\n",
      "341:\tlearn: 1312.3134552\ttest: 1367.7328766\tbest: 1367.7328766 (341)\ttotal: 1m 30s\tremaining: 15.3s\n",
      "342:\tlearn: 1312.1053945\ttest: 1367.6490048\tbest: 1367.6490048 (342)\ttotal: 1m 30s\tremaining: 15.1s\n",
      "343:\tlearn: 1311.4502108\ttest: 1367.2714139\tbest: 1367.2714139 (343)\ttotal: 1m 30s\tremaining: 14.8s\n",
      "344:\tlearn: 1311.2790140\ttest: 1367.2917238\tbest: 1367.2714139 (343)\ttotal: 1m 31s\tremaining: 14.5s\n",
      "345:\tlearn: 1310.9630493\ttest: 1367.1848752\tbest: 1367.1848752 (345)\ttotal: 1m 31s\tremaining: 14.3s\n",
      "346:\tlearn: 1310.6517617\ttest: 1367.0748190\tbest: 1367.0748190 (346)\ttotal: 1m 31s\tremaining: 14s\n",
      "347:\tlearn: 1310.1314852\ttest: 1366.8572938\tbest: 1366.8572938 (347)\ttotal: 1m 32s\tremaining: 13.8s\n",
      "348:\tlearn: 1309.8606504\ttest: 1366.8157597\tbest: 1366.8157597 (348)\ttotal: 1m 32s\tremaining: 13.5s\n",
      "349:\tlearn: 1309.6529274\ttest: 1366.7667359\tbest: 1366.7667359 (349)\ttotal: 1m 32s\tremaining: 13.3s\n",
      "350:\tlearn: 1309.3696432\ttest: 1366.6253799\tbest: 1366.6253799 (350)\ttotal: 1m 32s\tremaining: 13s\n",
      "351:\tlearn: 1308.9210637\ttest: 1366.4114564\tbest: 1366.4114564 (351)\ttotal: 1m 33s\tremaining: 12.7s\n",
      "352:\tlearn: 1308.3872027\ttest: 1365.9957570\tbest: 1365.9957570 (352)\ttotal: 1m 33s\tremaining: 12.5s\n",
      "353:\tlearn: 1307.9696783\ttest: 1365.7411713\tbest: 1365.7411713 (353)\ttotal: 1m 33s\tremaining: 12.2s\n",
      "354:\tlearn: 1307.7408331\ttest: 1365.7198526\tbest: 1365.7198526 (354)\ttotal: 1m 34s\tremaining: 11.9s\n",
      "355:\tlearn: 1307.4879191\ttest: 1365.5661370\tbest: 1365.5661370 (355)\ttotal: 1m 34s\tremaining: 11.7s\n",
      "356:\tlearn: 1307.1079051\ttest: 1365.4170812\tbest: 1365.4170812 (356)\ttotal: 1m 34s\tremaining: 11.4s\n",
      "357:\tlearn: 1306.5360272\ttest: 1365.1614342\tbest: 1365.1614342 (357)\ttotal: 1m 34s\tremaining: 11.1s\n",
      "358:\tlearn: 1306.3478610\ttest: 1365.1376069\tbest: 1365.1376069 (358)\ttotal: 1m 35s\tremaining: 10.9s\n",
      "359:\tlearn: 1306.1237305\ttest: 1365.0923856\tbest: 1365.0923856 (359)\ttotal: 1m 35s\tremaining: 10.6s\n",
      "360:\tlearn: 1305.7285780\ttest: 1364.8017315\tbest: 1364.8017315 (360)\ttotal: 1m 35s\tremaining: 10.3s\n",
      "361:\tlearn: 1305.7077012\ttest: 1364.7961504\tbest: 1364.7961504 (361)\ttotal: 1m 35s\tremaining: 10.1s\n",
      "362:\tlearn: 1305.4679529\ttest: 1364.7442987\tbest: 1364.7442987 (362)\ttotal: 1m 36s\tremaining: 9.82s\n",
      "363:\tlearn: 1305.0293475\ttest: 1364.4201072\tbest: 1364.4201072 (363)\ttotal: 1m 36s\tremaining: 9.55s\n",
      "364:\tlearn: 1304.6750233\ttest: 1364.3185646\tbest: 1364.3185646 (364)\ttotal: 1m 36s\tremaining: 9.29s\n",
      "365:\tlearn: 1304.4931146\ttest: 1364.3380220\tbest: 1364.3185646 (364)\ttotal: 1m 37s\tremaining: 9.02s\n",
      "366:\tlearn: 1303.9611083\ttest: 1364.1824535\tbest: 1364.1824535 (366)\ttotal: 1m 37s\tremaining: 8.76s\n",
      "367:\tlearn: 1303.5350924\ttest: 1363.9278491\tbest: 1363.9278491 (367)\ttotal: 1m 37s\tremaining: 8.5s\n",
      "368:\tlearn: 1303.3595530\ttest: 1363.8248428\tbest: 1363.8248428 (368)\ttotal: 1m 37s\tremaining: 8.23s\n",
      "369:\tlearn: 1303.1090863\ttest: 1363.7052069\tbest: 1363.7052069 (369)\ttotal: 1m 38s\tremaining: 7.96s\n",
      "370:\tlearn: 1302.7855058\ttest: 1363.4898143\tbest: 1363.4898143 (370)\ttotal: 1m 38s\tremaining: 7.71s\n",
      "371:\tlearn: 1302.4416102\ttest: 1363.3816335\tbest: 1363.3816335 (371)\ttotal: 1m 38s\tremaining: 7.43s\n",
      "372:\tlearn: 1302.1432479\ttest: 1363.2260891\tbest: 1363.2260891 (372)\ttotal: 1m 39s\tremaining: 7.17s\n",
      "373:\tlearn: 1301.6834264\ttest: 1363.0331277\tbest: 1363.0331277 (373)\ttotal: 1m 39s\tremaining: 6.91s\n",
      "374:\tlearn: 1301.4877332\ttest: 1362.9857056\tbest: 1362.9857056 (374)\ttotal: 1m 39s\tremaining: 6.65s\n",
      "375:\tlearn: 1301.0601386\ttest: 1362.8806243\tbest: 1362.8806243 (375)\ttotal: 1m 40s\tremaining: 6.39s\n",
      "376:\tlearn: 1300.6765776\ttest: 1362.7846747\tbest: 1362.7846747 (376)\ttotal: 1m 40s\tremaining: 6.13s\n",
      "377:\tlearn: 1300.3639982\ttest: 1362.5824672\tbest: 1362.5824672 (377)\ttotal: 1m 40s\tremaining: 5.86s\n",
      "378:\tlearn: 1300.3437945\ttest: 1362.5660987\tbest: 1362.5660987 (378)\ttotal: 1m 40s\tremaining: 5.58s\n",
      "379:\tlearn: 1299.7936554\ttest: 1362.4361514\tbest: 1362.4361514 (379)\ttotal: 1m 41s\tremaining: 5.32s\n",
      "380:\tlearn: 1299.5620260\ttest: 1362.3862910\tbest: 1362.3862910 (380)\ttotal: 1m 41s\tremaining: 5.05s\n",
      "381:\tlearn: 1299.3976123\ttest: 1362.3043259\tbest: 1362.3043259 (381)\ttotal: 1m 41s\tremaining: 4.78s\n",
      "382:\tlearn: 1299.0660819\ttest: 1362.1648202\tbest: 1362.1648202 (382)\ttotal: 1m 41s\tremaining: 4.51s\n",
      "383:\tlearn: 1298.6569227\ttest: 1362.0527343\tbest: 1362.0527343 (383)\ttotal: 1m 42s\tremaining: 4.25s\n",
      "384:\tlearn: 1298.5892645\ttest: 1362.0784339\tbest: 1362.0527343 (383)\ttotal: 1m 42s\tremaining: 3.98s\n",
      "385:\tlearn: 1298.3077431\ttest: 1361.9007385\tbest: 1361.9007385 (385)\ttotal: 1m 42s\tremaining: 3.72s\n",
      "386:\tlearn: 1298.1205351\ttest: 1361.8748850\tbest: 1361.8748850 (386)\ttotal: 1m 42s\tremaining: 3.45s\n",
      "387:\tlearn: 1297.8079268\ttest: 1361.8459040\tbest: 1361.8459040 (387)\ttotal: 1m 43s\tremaining: 3.19s\n",
      "388:\tlearn: 1297.3195084\ttest: 1361.7209113\tbest: 1361.7209113 (388)\ttotal: 1m 43s\tremaining: 2.92s\n",
      "389:\tlearn: 1297.0080475\ttest: 1361.4814758\tbest: 1361.4814758 (389)\ttotal: 1m 43s\tremaining: 2.65s\n",
      "390:\tlearn: 1296.7842101\ttest: 1361.3838089\tbest: 1361.3838089 (390)\ttotal: 1m 43s\tremaining: 2.39s\n",
      "391:\tlearn: 1296.1482002\ttest: 1360.9636107\tbest: 1360.9636107 (391)\ttotal: 1m 44s\tremaining: 2.12s\n",
      "392:\tlearn: 1296.1386178\ttest: 1360.9569740\tbest: 1360.9569740 (392)\ttotal: 1m 44s\tremaining: 1.86s\n",
      "393:\tlearn: 1296.0085881\ttest: 1360.9210254\tbest: 1360.9210254 (393)\ttotal: 1m 44s\tremaining: 1.59s\n",
      "394:\tlearn: 1295.6687499\ttest: 1360.7796357\tbest: 1360.7796357 (394)\ttotal: 1m 44s\tremaining: 1.33s\n",
      "395:\tlearn: 1295.5244969\ttest: 1360.7362614\tbest: 1360.7362614 (395)\ttotal: 1m 45s\tremaining: 1.06s\n",
      "396:\tlearn: 1295.2525034\ttest: 1360.6821526\tbest: 1360.6821526 (396)\ttotal: 1m 45s\tremaining: 797ms\n",
      "397:\tlearn: 1294.9887821\ttest: 1360.5782427\tbest: 1360.5782427 (397)\ttotal: 1m 45s\tremaining: 531ms\n",
      "398:\tlearn: 1294.7735521\ttest: 1360.5796560\tbest: 1360.5782427 (397)\ttotal: 1m 45s\tremaining: 266ms\n",
      "399:\tlearn: 1294.6519868\ttest: 1360.5738141\tbest: 1360.5738141 (399)\ttotal: 1m 46s\tremaining: 0us\n",
      "\n",
      "bestTest = 1360.573814\n",
      "bestIteration = 399\n",
      "\n",
      "0:\tloss: 1360.5738141\tbest: 1360.5738141 (0)\ttotal: 1m 46s\tremaining: 5m 20s\n",
      "0:\tlearn: 4438.4466615\ttest: 4431.7274199\tbest: 4431.7274199 (0)\ttotal: 353ms\tremaining: 2m 20s\n",
      "1:\tlearn: 3739.1881741\ttest: 3731.0849188\tbest: 3731.0849188 (1)\ttotal: 637ms\tremaining: 2m 6s\n",
      "2:\tlearn: 3199.4265963\ttest: 3191.9637015\tbest: 3191.9637015 (2)\ttotal: 911ms\tremaining: 2m\n",
      "3:\tlearn: 2785.4559873\ttest: 2777.4007200\tbest: 2777.4007200 (3)\ttotal: 1.24s\tremaining: 2m 2s\n",
      "4:\tlearn: 2477.1956509\ttest: 2468.2362407\tbest: 2468.2362407 (4)\ttotal: 1.54s\tremaining: 2m 1s\n",
      "5:\tlearn: 2235.7007685\ttest: 2224.5851209\tbest: 2224.5851209 (5)\ttotal: 1.79s\tremaining: 1m 57s\n",
      "6:\tlearn: 2056.2326103\ttest: 2044.8056424\tbest: 2044.8056424 (6)\ttotal: 2.04s\tremaining: 1m 54s\n",
      "7:\tlearn: 1932.9097293\ttest: 1920.2670737\tbest: 1920.2670737 (7)\ttotal: 2.3s\tremaining: 1m 52s\n",
      "8:\tlearn: 1838.2476101\ttest: 1825.0758655\tbest: 1825.0758655 (8)\ttotal: 2.6s\tremaining: 1m 52s\n",
      "9:\tlearn: 1771.9590646\ttest: 1758.8943518\tbest: 1758.8943518 (9)\ttotal: 2.85s\tremaining: 1m 51s\n",
      "10:\tlearn: 1721.9911463\ttest: 1709.9488465\tbest: 1709.9488465 (10)\ttotal: 3.06s\tremaining: 1m 48s\n",
      "11:\tlearn: 1676.2476290\ttest: 1660.7808315\tbest: 1660.7808315 (11)\ttotal: 3.26s\tremaining: 1m 45s\n",
      "12:\tlearn: 1643.7842006\ttest: 1628.2764592\tbest: 1628.2764592 (12)\ttotal: 3.53s\tremaining: 1m 45s\n",
      "13:\tlearn: 1619.9031667\ttest: 1604.5575524\tbest: 1604.5575524 (13)\ttotal: 3.84s\tremaining: 1m 45s\n",
      "14:\tlearn: 1601.4952376\ttest: 1585.6752063\tbest: 1585.6752063 (14)\ttotal: 4.03s\tremaining: 1m 43s\n",
      "15:\tlearn: 1588.5883318\ttest: 1573.7136405\tbest: 1573.7136405 (15)\ttotal: 4.29s\tremaining: 1m 42s\n",
      "16:\tlearn: 1576.1035085\ttest: 1561.5678976\tbest: 1561.5678976 (16)\ttotal: 4.53s\tremaining: 1m 42s\n",
      "17:\tlearn: 1563.8909320\ttest: 1550.4094038\tbest: 1550.4094038 (17)\ttotal: 4.74s\tremaining: 1m 40s\n",
      "18:\tlearn: 1555.1558643\ttest: 1541.8020167\tbest: 1541.8020167 (18)\ttotal: 4.98s\tremaining: 1m 39s\n",
      "19:\tlearn: 1548.3505444\ttest: 1534.9259585\tbest: 1534.9259585 (19)\ttotal: 5.22s\tremaining: 1m 39s\n",
      "20:\tlearn: 1542.4984171\ttest: 1529.7630876\tbest: 1529.7630876 (20)\ttotal: 5.43s\tremaining: 1m 37s\n",
      "21:\tlearn: 1537.6739601\ttest: 1525.3083758\tbest: 1525.3083758 (21)\ttotal: 5.7s\tremaining: 1m 37s\n",
      "22:\tlearn: 1531.3474984\ttest: 1519.6133984\tbest: 1519.6133984 (22)\ttotal: 5.95s\tremaining: 1m 37s\n",
      "23:\tlearn: 1526.2920937\ttest: 1515.6710392\tbest: 1515.6710392 (23)\ttotal: 6.18s\tremaining: 1m 36s\n",
      "24:\tlearn: 1521.7805821\ttest: 1511.3721446\tbest: 1511.3721446 (24)\ttotal: 6.44s\tremaining: 1m 36s\n",
      "25:\tlearn: 1516.4794665\ttest: 1506.3537851\tbest: 1506.3537851 (25)\ttotal: 6.72s\tremaining: 1m 36s\n",
      "26:\tlearn: 1512.2907006\ttest: 1503.0347284\tbest: 1503.0347284 (26)\ttotal: 6.91s\tremaining: 1m 35s\n",
      "27:\tlearn: 1509.0875728\ttest: 1500.1167438\tbest: 1500.1167438 (27)\ttotal: 7.17s\tremaining: 1m 35s\n",
      "28:\tlearn: 1505.6511429\ttest: 1497.0909674\tbest: 1497.0909674 (28)\ttotal: 7.43s\tremaining: 1m 35s\n",
      "29:\tlearn: 1499.8083115\ttest: 1492.8696614\tbest: 1492.8696614 (29)\ttotal: 7.65s\tremaining: 1m 34s\n",
      "30:\tlearn: 1496.8372224\ttest: 1489.0696508\tbest: 1489.0696508 (30)\ttotal: 7.81s\tremaining: 1m 33s\n",
      "31:\tlearn: 1492.3806635\ttest: 1485.4458762\tbest: 1485.4458762 (31)\ttotal: 8.11s\tremaining: 1m 33s\n",
      "32:\tlearn: 1483.7336460\ttest: 1477.7192728\tbest: 1477.7192728 (32)\ttotal: 8.34s\tremaining: 1m 32s\n",
      "33:\tlearn: 1476.8421006\ttest: 1471.8918056\tbest: 1471.8918056 (33)\ttotal: 8.5s\tremaining: 1m 31s\n",
      "34:\tlearn: 1474.1939926\ttest: 1469.9384060\tbest: 1469.9384060 (34)\ttotal: 8.79s\tremaining: 1m 31s\n",
      "35:\tlearn: 1470.9788467\ttest: 1467.6239725\tbest: 1467.6239725 (35)\ttotal: 9.04s\tremaining: 1m 31s\n",
      "36:\tlearn: 1468.4430385\ttest: 1465.5792062\tbest: 1465.5792062 (36)\ttotal: 9.29s\tremaining: 1m 31s\n",
      "37:\tlearn: 1465.6753875\ttest: 1464.1454751\tbest: 1464.1454751 (37)\ttotal: 9.53s\tremaining: 1m 30s\n",
      "38:\tlearn: 1462.7963293\ttest: 1461.8621123\tbest: 1461.8621123 (38)\ttotal: 9.8s\tremaining: 1m 30s\n",
      "39:\tlearn: 1460.2582150\ttest: 1459.6277130\tbest: 1459.6277130 (39)\ttotal: 10.1s\tremaining: 1m 30s\n",
      "40:\tlearn: 1457.0083189\ttest: 1457.5944881\tbest: 1457.5944881 (40)\ttotal: 10.4s\tremaining: 1m 30s\n",
      "41:\tlearn: 1455.4824597\ttest: 1456.5841989\tbest: 1456.5841989 (41)\ttotal: 10.6s\tremaining: 1m 30s\n",
      "42:\tlearn: 1452.8902642\ttest: 1454.7874105\tbest: 1454.7874105 (42)\ttotal: 10.9s\tremaining: 1m 30s\n",
      "43:\tlearn: 1450.1464836\ttest: 1452.4585969\tbest: 1452.4585969 (43)\ttotal: 11.1s\tremaining: 1m 29s\n",
      "44:\tlearn: 1446.8230787\ttest: 1449.5282472\tbest: 1449.5282472 (44)\ttotal: 11.3s\tremaining: 1m 29s\n",
      "45:\tlearn: 1444.9018255\ttest: 1448.5902249\tbest: 1448.5902249 (45)\ttotal: 11.5s\tremaining: 1m 28s\n",
      "46:\tlearn: 1441.8477104\ttest: 1446.1571704\tbest: 1446.1571704 (46)\ttotal: 11.8s\tremaining: 1m 28s\n",
      "47:\tlearn: 1440.2332406\ttest: 1445.2523125\tbest: 1445.2523125 (47)\ttotal: 12.1s\tremaining: 1m 28s\n",
      "48:\tlearn: 1438.6448875\ttest: 1443.8860153\tbest: 1443.8860153 (48)\ttotal: 12.3s\tremaining: 1m 28s\n",
      "49:\tlearn: 1436.1240205\ttest: 1441.9471090\tbest: 1441.9471090 (49)\ttotal: 12.6s\tremaining: 1m 28s\n",
      "50:\tlearn: 1433.6709225\ttest: 1439.7842485\tbest: 1439.7842485 (50)\ttotal: 12.9s\tremaining: 1m 28s\n",
      "51:\tlearn: 1432.5411326\ttest: 1438.9829994\tbest: 1438.9829994 (51)\ttotal: 13.1s\tremaining: 1m 28s\n",
      "52:\tlearn: 1429.2214422\ttest: 1436.1765473\tbest: 1436.1765473 (52)\ttotal: 13.4s\tremaining: 1m 27s\n",
      "53:\tlearn: 1427.6535633\ttest: 1435.2417881\tbest: 1435.2417881 (53)\ttotal: 13.7s\tremaining: 1m 27s\n",
      "54:\tlearn: 1426.8606497\ttest: 1435.0576696\tbest: 1435.0576696 (54)\ttotal: 13.9s\tremaining: 1m 27s\n",
      "55:\tlearn: 1425.0782053\ttest: 1433.6401371\tbest: 1433.6401371 (55)\ttotal: 14.3s\tremaining: 1m 27s\n",
      "56:\tlearn: 1423.9536849\ttest: 1432.7589636\tbest: 1432.7589636 (56)\ttotal: 14.5s\tremaining: 1m 27s\n",
      "57:\tlearn: 1422.6416399\ttest: 1431.7420214\tbest: 1431.7420214 (57)\ttotal: 14.8s\tremaining: 1m 27s\n",
      "58:\tlearn: 1421.7146992\ttest: 1430.9021942\tbest: 1430.9021942 (58)\ttotal: 15.1s\tremaining: 1m 27s\n",
      "59:\tlearn: 1420.7059553\ttest: 1430.5098566\tbest: 1430.5098566 (59)\ttotal: 15.3s\tremaining: 1m 26s\n",
      "60:\tlearn: 1419.6600481\ttest: 1430.0741199\tbest: 1430.0741199 (60)\ttotal: 15.5s\tremaining: 1m 26s\n",
      "61:\tlearn: 1417.5972310\ttest: 1429.0901446\tbest: 1429.0901446 (61)\ttotal: 15.8s\tremaining: 1m 26s\n",
      "62:\tlearn: 1415.9379253\ttest: 1428.1109622\tbest: 1428.1109622 (62)\ttotal: 16.1s\tremaining: 1m 25s\n",
      "63:\tlearn: 1414.1481896\ttest: 1427.3704386\tbest: 1427.3704386 (63)\ttotal: 16.3s\tremaining: 1m 25s\n",
      "64:\tlearn: 1412.9922742\ttest: 1426.5003949\tbest: 1426.5003949 (64)\ttotal: 16.6s\tremaining: 1m 25s\n",
      "65:\tlearn: 1410.3967190\ttest: 1424.6033941\tbest: 1424.6033941 (65)\ttotal: 16.8s\tremaining: 1m 25s\n",
      "66:\tlearn: 1408.5516832\ttest: 1423.3705069\tbest: 1423.3705069 (66)\ttotal: 17.1s\tremaining: 1m 24s\n",
      "67:\tlearn: 1405.4733714\ttest: 1421.3763801\tbest: 1421.3763801 (67)\ttotal: 17.3s\tremaining: 1m 24s\n",
      "68:\tlearn: 1403.9543524\ttest: 1420.0140144\tbest: 1420.0140144 (68)\ttotal: 17.5s\tremaining: 1m 24s\n",
      "69:\tlearn: 1402.0535066\ttest: 1418.1239469\tbest: 1418.1239469 (69)\ttotal: 17.9s\tremaining: 1m 24s\n",
      "70:\tlearn: 1400.1490336\ttest: 1416.6895258\tbest: 1416.6895258 (70)\ttotal: 18.1s\tremaining: 1m 24s\n",
      "71:\tlearn: 1398.7276873\ttest: 1415.7462025\tbest: 1415.7462025 (71)\ttotal: 18.4s\tremaining: 1m 23s\n",
      "72:\tlearn: 1397.8263106\ttest: 1415.1600701\tbest: 1415.1600701 (72)\ttotal: 18.6s\tremaining: 1m 23s\n",
      "73:\tlearn: 1396.9821451\ttest: 1414.5239694\tbest: 1414.5239694 (73)\ttotal: 18.9s\tremaining: 1m 23s\n",
      "74:\tlearn: 1395.5757242\ttest: 1413.4375580\tbest: 1413.4375580 (74)\ttotal: 19.2s\tremaining: 1m 23s\n",
      "75:\tlearn: 1394.2531422\ttest: 1412.8419713\tbest: 1412.8419713 (75)\ttotal: 19.4s\tremaining: 1m 22s\n",
      "76:\tlearn: 1392.3943559\ttest: 1411.7240032\tbest: 1411.7240032 (76)\ttotal: 19.6s\tremaining: 1m 22s\n",
      "77:\tlearn: 1390.4479267\ttest: 1410.4504511\tbest: 1410.4504511 (77)\ttotal: 19.9s\tremaining: 1m 22s\n",
      "78:\tlearn: 1388.6449470\ttest: 1409.3513244\tbest: 1409.3513244 (78)\ttotal: 20.2s\tremaining: 1m 22s\n",
      "79:\tlearn: 1387.6427738\ttest: 1408.5789978\tbest: 1408.5789978 (79)\ttotal: 20.5s\tremaining: 1m 21s\n",
      "80:\tlearn: 1385.8049574\ttest: 1407.3023155\tbest: 1407.3023155 (80)\ttotal: 20.7s\tremaining: 1m 21s\n",
      "81:\tlearn: 1384.9251230\ttest: 1406.8252423\tbest: 1406.8252423 (81)\ttotal: 21s\tremaining: 1m 21s\n",
      "82:\tlearn: 1383.6887898\ttest: 1406.2991443\tbest: 1406.2991443 (82)\ttotal: 21.3s\tremaining: 1m 21s\n",
      "83:\tlearn: 1381.8095264\ttest: 1405.0356322\tbest: 1405.0356322 (83)\ttotal: 21.6s\tremaining: 1m 21s\n",
      "84:\tlearn: 1380.6014710\ttest: 1404.3829855\tbest: 1404.3829855 (84)\ttotal: 21.9s\tremaining: 1m 21s\n",
      "85:\tlearn: 1379.5603792\ttest: 1403.7309937\tbest: 1403.7309937 (85)\ttotal: 22.1s\tremaining: 1m 20s\n",
      "86:\tlearn: 1378.6445611\ttest: 1402.8358979\tbest: 1402.8358979 (86)\ttotal: 22.4s\tremaining: 1m 20s\n",
      "87:\tlearn: 1377.9833898\ttest: 1402.4584404\tbest: 1402.4584404 (87)\ttotal: 22.6s\tremaining: 1m 20s\n",
      "88:\tlearn: 1377.3095291\ttest: 1402.4061718\tbest: 1402.4061718 (88)\ttotal: 22.9s\tremaining: 1m 19s\n",
      "89:\tlearn: 1375.6067517\ttest: 1401.6230810\tbest: 1401.6230810 (89)\ttotal: 23.1s\tremaining: 1m 19s\n",
      "90:\tlearn: 1374.8962632\ttest: 1401.2290049\tbest: 1401.2290049 (90)\ttotal: 23.4s\tremaining: 1m 19s\n",
      "91:\tlearn: 1374.0328284\ttest: 1400.8409403\tbest: 1400.8409403 (91)\ttotal: 23.6s\tremaining: 1m 18s\n",
      "92:\tlearn: 1372.8953307\ttest: 1399.9161546\tbest: 1399.9161546 (92)\ttotal: 23.9s\tremaining: 1m 18s\n",
      "93:\tlearn: 1372.0657891\ttest: 1399.4023859\tbest: 1399.4023859 (93)\ttotal: 24.1s\tremaining: 1m 18s\n",
      "94:\tlearn: 1371.5108789\ttest: 1399.2144486\tbest: 1399.2144486 (94)\ttotal: 24.4s\tremaining: 1m 18s\n",
      "95:\tlearn: 1370.4540448\ttest: 1398.5347721\tbest: 1398.5347721 (95)\ttotal: 24.6s\tremaining: 1m 18s\n",
      "96:\tlearn: 1369.6472252\ttest: 1398.3454753\tbest: 1398.3454753 (96)\ttotal: 24.9s\tremaining: 1m 17s\n",
      "97:\tlearn: 1368.3924319\ttest: 1397.7781624\tbest: 1397.7781624 (97)\ttotal: 25.2s\tremaining: 1m 17s\n",
      "98:\tlearn: 1368.0653177\ttest: 1397.7221387\tbest: 1397.7221387 (98)\ttotal: 25.4s\tremaining: 1m 17s\n",
      "99:\tlearn: 1367.0677579\ttest: 1397.0947044\tbest: 1397.0947044 (99)\ttotal: 25.7s\tremaining: 1m 16s\n",
      "100:\tlearn: 1366.1668458\ttest: 1396.6974508\tbest: 1396.6974508 (100)\ttotal: 25.9s\tremaining: 1m 16s\n",
      "101:\tlearn: 1365.1236753\ttest: 1395.9014746\tbest: 1395.9014746 (101)\ttotal: 26.2s\tremaining: 1m 16s\n",
      "102:\tlearn: 1364.3807167\ttest: 1395.7580210\tbest: 1395.7580210 (102)\ttotal: 26.4s\tremaining: 1m 16s\n",
      "103:\tlearn: 1362.8127237\ttest: 1395.2050011\tbest: 1395.2050011 (103)\ttotal: 26.6s\tremaining: 1m 15s\n",
      "104:\tlearn: 1362.3358022\ttest: 1394.9119873\tbest: 1394.9119873 (104)\ttotal: 26.9s\tremaining: 1m 15s\n",
      "105:\tlearn: 1361.3130417\ttest: 1394.0454266\tbest: 1394.0454266 (105)\ttotal: 27.1s\tremaining: 1m 15s\n",
      "106:\tlearn: 1360.3805156\ttest: 1393.5781056\tbest: 1393.5781056 (106)\ttotal: 27.4s\tremaining: 1m 14s\n",
      "107:\tlearn: 1359.8708193\ttest: 1393.4431424\tbest: 1393.4431424 (107)\ttotal: 27.6s\tremaining: 1m 14s\n",
      "108:\tlearn: 1359.1175745\ttest: 1393.1034087\tbest: 1393.1034087 (108)\ttotal: 27.9s\tremaining: 1m 14s\n",
      "109:\tlearn: 1358.6400833\ttest: 1392.8859845\tbest: 1392.8859845 (109)\ttotal: 28.1s\tremaining: 1m 14s\n",
      "110:\tlearn: 1357.4820152\ttest: 1392.3723280\tbest: 1392.3723280 (110)\ttotal: 28.3s\tremaining: 1m 13s\n",
      "111:\tlearn: 1356.6395449\ttest: 1392.0528758\tbest: 1392.0528758 (111)\ttotal: 28.6s\tremaining: 1m 13s\n",
      "112:\tlearn: 1355.8097052\ttest: 1391.7671079\tbest: 1391.7671079 (112)\ttotal: 28.8s\tremaining: 1m 13s\n",
      "113:\tlearn: 1354.9147006\ttest: 1391.2113092\tbest: 1391.2113092 (113)\ttotal: 29.1s\tremaining: 1m 12s\n",
      "114:\tlearn: 1353.5340354\ttest: 1390.1727632\tbest: 1390.1727632 (114)\ttotal: 29.3s\tremaining: 1m 12s\n",
      "115:\tlearn: 1353.1135614\ttest: 1389.8949639\tbest: 1389.8949639 (115)\ttotal: 29.6s\tremaining: 1m 12s\n",
      "116:\tlearn: 1352.1164107\ttest: 1389.2295837\tbest: 1389.2295837 (116)\ttotal: 29.9s\tremaining: 1m 12s\n",
      "117:\tlearn: 1351.5176433\ttest: 1388.8761796\tbest: 1388.8761796 (117)\ttotal: 30.2s\tremaining: 1m 12s\n",
      "118:\tlearn: 1351.0292468\ttest: 1388.7609290\tbest: 1388.7609290 (118)\ttotal: 30.5s\tremaining: 1m 12s\n",
      "119:\tlearn: 1350.1148655\ttest: 1388.6145862\tbest: 1388.6145862 (119)\ttotal: 30.8s\tremaining: 1m 11s\n",
      "120:\tlearn: 1349.7479777\ttest: 1388.4259609\tbest: 1388.4259609 (120)\ttotal: 31.1s\tremaining: 1m 11s\n",
      "121:\tlearn: 1348.4224385\ttest: 1387.4398534\tbest: 1387.4398534 (121)\ttotal: 31.4s\tremaining: 1m 11s\n",
      "122:\tlearn: 1347.4794162\ttest: 1386.6606650\tbest: 1386.6606650 (122)\ttotal: 31.6s\tremaining: 1m 11s\n",
      "123:\tlearn: 1346.6754195\ttest: 1386.0665676\tbest: 1386.0665676 (123)\ttotal: 32s\tremaining: 1m 11s\n",
      "124:\tlearn: 1345.6880462\ttest: 1385.5437714\tbest: 1385.5437714 (124)\ttotal: 32.3s\tremaining: 1m 11s\n",
      "125:\tlearn: 1344.3974389\ttest: 1384.3846829\tbest: 1384.3846829 (125)\ttotal: 32.6s\tremaining: 1m 10s\n",
      "126:\tlearn: 1343.4558413\ttest: 1384.2378090\tbest: 1384.2378090 (126)\ttotal: 33s\tremaining: 1m 10s\n",
      "127:\tlearn: 1342.6540061\ttest: 1383.8414391\tbest: 1383.8414391 (127)\ttotal: 33.3s\tremaining: 1m 10s\n",
      "128:\tlearn: 1341.7887269\ttest: 1383.2313131\tbest: 1383.2313131 (128)\ttotal: 33.6s\tremaining: 1m 10s\n",
      "129:\tlearn: 1341.4680321\ttest: 1383.1800689\tbest: 1383.1800689 (129)\ttotal: 34s\tremaining: 1m 10s\n",
      "130:\tlearn: 1340.9371581\ttest: 1382.8833529\tbest: 1382.8833529 (130)\ttotal: 34.2s\tremaining: 1m 10s\n",
      "131:\tlearn: 1340.2595217\ttest: 1382.6893381\tbest: 1382.6893381 (131)\ttotal: 34.5s\tremaining: 1m 10s\n",
      "132:\tlearn: 1339.5855435\ttest: 1382.5301389\tbest: 1382.5301389 (132)\ttotal: 34.8s\tremaining: 1m 9s\n",
      "133:\tlearn: 1338.8474938\ttest: 1382.2599709\tbest: 1382.2599709 (133)\ttotal: 35.2s\tremaining: 1m 9s\n",
      "134:\tlearn: 1338.2383524\ttest: 1381.8157713\tbest: 1381.8157713 (134)\ttotal: 35.5s\tremaining: 1m 9s\n",
      "135:\tlearn: 1337.0534062\ttest: 1381.0682458\tbest: 1381.0682458 (135)\ttotal: 35.7s\tremaining: 1m 9s\n",
      "136:\tlearn: 1335.7610591\ttest: 1380.2256282\tbest: 1380.2256282 (136)\ttotal: 36s\tremaining: 1m 9s\n",
      "137:\tlearn: 1335.5125051\ttest: 1380.1253602\tbest: 1380.1253602 (137)\ttotal: 36.3s\tremaining: 1m 8s\n",
      "138:\tlearn: 1334.3587084\ttest: 1379.5130938\tbest: 1379.5130938 (138)\ttotal: 36.5s\tremaining: 1m 8s\n",
      "139:\tlearn: 1333.3883504\ttest: 1379.0136821\tbest: 1379.0136821 (139)\ttotal: 36.8s\tremaining: 1m 8s\n",
      "140:\tlearn: 1332.1321589\ttest: 1378.4371732\tbest: 1378.4371732 (140)\ttotal: 37.1s\tremaining: 1m 8s\n",
      "141:\tlearn: 1331.5070792\ttest: 1378.1951390\tbest: 1378.1951390 (141)\ttotal: 37.4s\tremaining: 1m 7s\n",
      "142:\tlearn: 1331.1303768\ttest: 1377.9190073\tbest: 1377.9190073 (142)\ttotal: 37.6s\tremaining: 1m 7s\n",
      "143:\tlearn: 1330.5195363\ttest: 1377.3918101\tbest: 1377.3918101 (143)\ttotal: 37.9s\tremaining: 1m 7s\n",
      "144:\tlearn: 1329.9187639\ttest: 1377.1509625\tbest: 1377.1509625 (144)\ttotal: 38.2s\tremaining: 1m 7s\n",
      "145:\tlearn: 1329.2739276\ttest: 1376.7292548\tbest: 1376.7292548 (145)\ttotal: 38.5s\tremaining: 1m 6s\n",
      "146:\tlearn: 1328.6651739\ttest: 1376.5482593\tbest: 1376.5482593 (146)\ttotal: 38.7s\tremaining: 1m 6s\n",
      "147:\tlearn: 1328.2882200\ttest: 1376.4334926\tbest: 1376.4334926 (147)\ttotal: 39.1s\tremaining: 1m 6s\n",
      "148:\tlearn: 1328.1907708\ttest: 1376.3496360\tbest: 1376.3496360 (148)\ttotal: 39.3s\tremaining: 1m 6s\n",
      "149:\tlearn: 1327.6095965\ttest: 1376.1221194\tbest: 1376.1221194 (149)\ttotal: 39.6s\tremaining: 1m 6s\n",
      "150:\tlearn: 1326.7265429\ttest: 1375.8392683\tbest: 1375.8392683 (150)\ttotal: 39.9s\tremaining: 1m 5s\n",
      "151:\tlearn: 1326.0003196\ttest: 1375.5889091\tbest: 1375.5889091 (151)\ttotal: 40.1s\tremaining: 1m 5s\n",
      "152:\tlearn: 1325.3839675\ttest: 1375.1416344\tbest: 1375.1416344 (152)\ttotal: 40.4s\tremaining: 1m 5s\n",
      "153:\tlearn: 1324.1934065\ttest: 1374.2922476\tbest: 1374.2922476 (153)\ttotal: 40.7s\tremaining: 1m 5s\n",
      "154:\tlearn: 1323.6546386\ttest: 1374.1693349\tbest: 1374.1693349 (154)\ttotal: 41.1s\tremaining: 1m 4s\n",
      "155:\tlearn: 1322.9575398\ttest: 1373.9906875\tbest: 1373.9906875 (155)\ttotal: 41.4s\tremaining: 1m 4s\n",
      "156:\tlearn: 1322.2418080\ttest: 1373.8142542\tbest: 1373.8142542 (156)\ttotal: 41.8s\tremaining: 1m 4s\n",
      "157:\tlearn: 1321.4356720\ttest: 1373.3757436\tbest: 1373.3757436 (157)\ttotal: 42.1s\tremaining: 1m 4s\n",
      "158:\tlearn: 1320.7608671\ttest: 1373.0305583\tbest: 1373.0305583 (158)\ttotal: 42.3s\tremaining: 1m 4s\n",
      "159:\tlearn: 1320.1629328\ttest: 1372.7869770\tbest: 1372.7869770 (159)\ttotal: 42.7s\tremaining: 1m 4s\n",
      "160:\tlearn: 1319.7028902\ttest: 1372.6968532\tbest: 1372.6968532 (160)\ttotal: 43s\tremaining: 1m 3s\n",
      "161:\tlearn: 1319.0425490\ttest: 1372.7326845\tbest: 1372.6968532 (160)\ttotal: 43.2s\tremaining: 1m 3s\n",
      "162:\tlearn: 1318.3297755\ttest: 1372.5817919\tbest: 1372.5817919 (162)\ttotal: 43.5s\tremaining: 1m 3s\n",
      "163:\tlearn: 1317.9142973\ttest: 1372.5206743\tbest: 1372.5206743 (163)\ttotal: 43.8s\tremaining: 1m 2s\n",
      "164:\tlearn: 1317.5447020\ttest: 1372.5399428\tbest: 1372.5206743 (163)\ttotal: 44.1s\tremaining: 1m 2s\n",
      "165:\tlearn: 1317.1159211\ttest: 1372.3152192\tbest: 1372.3152192 (165)\ttotal: 44.4s\tremaining: 1m 2s\n",
      "166:\tlearn: 1316.3600628\ttest: 1371.9842087\tbest: 1371.9842087 (166)\ttotal: 44.7s\tremaining: 1m 2s\n",
      "167:\tlearn: 1315.6528696\ttest: 1371.6940534\tbest: 1371.6940534 (167)\ttotal: 45s\tremaining: 1m 2s\n",
      "168:\tlearn: 1315.4414768\ttest: 1371.6649883\tbest: 1371.6649883 (168)\ttotal: 45.3s\tremaining: 1m 1s\n",
      "169:\tlearn: 1314.9285288\ttest: 1371.6101546\tbest: 1371.6101546 (169)\ttotal: 45.6s\tremaining: 1m 1s\n",
      "170:\tlearn: 1314.3581546\ttest: 1371.4245798\tbest: 1371.4245798 (170)\ttotal: 45.9s\tremaining: 1m 1s\n",
      "171:\tlearn: 1313.5177114\ttest: 1370.8747147\tbest: 1370.8747147 (171)\ttotal: 46.1s\tremaining: 1m 1s\n",
      "172:\tlearn: 1313.1592712\ttest: 1371.0110757\tbest: 1370.8747147 (171)\ttotal: 46.3s\tremaining: 1m\n",
      "173:\tlearn: 1312.3521134\ttest: 1370.8606165\tbest: 1370.8606165 (173)\ttotal: 46.6s\tremaining: 1m\n",
      "174:\tlearn: 1311.8687549\ttest: 1370.7436977\tbest: 1370.7436977 (174)\ttotal: 47s\tremaining: 1m\n",
      "175:\tlearn: 1311.4868742\ttest: 1370.6189038\tbest: 1370.6189038 (175)\ttotal: 47.2s\tremaining: 1m\n",
      "176:\tlearn: 1310.8173123\ttest: 1370.1854929\tbest: 1370.1854929 (176)\ttotal: 47.6s\tremaining: 59.9s\n",
      "177:\tlearn: 1310.3685938\ttest: 1370.2717478\tbest: 1370.1854929 (176)\ttotal: 47.9s\tremaining: 59.7s\n",
      "178:\tlearn: 1309.7232910\ttest: 1369.9425655\tbest: 1369.9425655 (178)\ttotal: 48.2s\tremaining: 59.5s\n",
      "179:\tlearn: 1309.1477955\ttest: 1369.8319235\tbest: 1369.8319235 (179)\ttotal: 48.4s\tremaining: 59.2s\n",
      "180:\tlearn: 1308.2160019\ttest: 1369.5520615\tbest: 1369.5520615 (180)\ttotal: 48.7s\tremaining: 58.9s\n",
      "181:\tlearn: 1307.6000671\ttest: 1369.4678800\tbest: 1369.4678800 (181)\ttotal: 48.9s\tremaining: 58.6s\n",
      "182:\tlearn: 1307.3485505\ttest: 1369.3984895\tbest: 1369.3984895 (182)\ttotal: 49.2s\tremaining: 58.3s\n",
      "183:\tlearn: 1306.8632640\ttest: 1369.2716665\tbest: 1369.2716665 (183)\ttotal: 49.5s\tremaining: 58.1s\n",
      "184:\tlearn: 1306.1756572\ttest: 1368.9164762\tbest: 1368.9164762 (184)\ttotal: 49.8s\tremaining: 57.9s\n",
      "185:\tlearn: 1305.7842842\ttest: 1368.8408714\tbest: 1368.8408714 (185)\ttotal: 50.1s\tremaining: 57.6s\n",
      "186:\tlearn: 1305.7709295\ttest: 1368.8359541\tbest: 1368.8359541 (186)\ttotal: 50.4s\tremaining: 57.4s\n",
      "187:\tlearn: 1304.6766376\ttest: 1368.2659152\tbest: 1368.2659152 (187)\ttotal: 50.7s\tremaining: 57.1s\n",
      "188:\tlearn: 1303.6347504\ttest: 1367.5489644\tbest: 1367.5489644 (188)\ttotal: 51s\tremaining: 56.9s\n",
      "189:\tlearn: 1302.9401327\ttest: 1367.3346482\tbest: 1367.3346482 (189)\ttotal: 51.2s\tremaining: 56.6s\n",
      "190:\tlearn: 1302.1415780\ttest: 1366.7769418\tbest: 1366.7769418 (190)\ttotal: 51.5s\tremaining: 56.4s\n",
      "191:\tlearn: 1301.9776430\ttest: 1366.7412122\tbest: 1366.7412122 (191)\ttotal: 51.7s\tremaining: 56.1s\n",
      "192:\tlearn: 1301.5979800\ttest: 1366.7096363\tbest: 1366.7096363 (192)\ttotal: 52s\tremaining: 55.7s\n",
      "193:\tlearn: 1301.2820042\ttest: 1366.5755729\tbest: 1366.5755729 (193)\ttotal: 52.3s\tremaining: 55.5s\n",
      "194:\tlearn: 1300.9306441\ttest: 1366.3260834\tbest: 1366.3260834 (194)\ttotal: 52.5s\tremaining: 55.2s\n",
      "195:\tlearn: 1299.8946165\ttest: 1365.7958241\tbest: 1365.7958241 (195)\ttotal: 52.7s\tremaining: 54.9s\n",
      "196:\tlearn: 1299.1931655\ttest: 1365.6023444\tbest: 1365.6023444 (196)\ttotal: 53s\tremaining: 54.6s\n",
      "197:\tlearn: 1298.9435961\ttest: 1365.6238623\tbest: 1365.6023444 (196)\ttotal: 53.3s\tremaining: 54.4s\n",
      "198:\tlearn: 1298.0610495\ttest: 1365.3897747\tbest: 1365.3897747 (198)\ttotal: 53.6s\tremaining: 54.2s\n",
      "199:\tlearn: 1297.7916657\ttest: 1365.3405142\tbest: 1365.3405142 (199)\ttotal: 53.9s\tremaining: 53.9s\n",
      "200:\tlearn: 1297.1314369\ttest: 1364.9253119\tbest: 1364.9253119 (200)\ttotal: 54.2s\tremaining: 53.7s\n",
      "201:\tlearn: 1296.6739319\ttest: 1364.8553907\tbest: 1364.8553907 (201)\ttotal: 54.5s\tremaining: 53.4s\n",
      "202:\tlearn: 1296.0936502\ttest: 1364.6812478\tbest: 1364.6812478 (202)\ttotal: 54.7s\tremaining: 53.1s\n",
      "203:\tlearn: 1295.7707877\ttest: 1364.5779513\tbest: 1364.5779513 (203)\ttotal: 54.9s\tremaining: 52.7s\n",
      "204:\tlearn: 1295.1402992\ttest: 1364.1131182\tbest: 1364.1131182 (204)\ttotal: 55.2s\tremaining: 52.5s\n",
      "205:\tlearn: 1294.9666851\ttest: 1363.9879137\tbest: 1363.9879137 (205)\ttotal: 55.4s\tremaining: 52.2s\n",
      "206:\tlearn: 1294.7087373\ttest: 1363.9396541\tbest: 1363.9396541 (206)\ttotal: 55.6s\tremaining: 51.8s\n",
      "207:\tlearn: 1294.4928887\ttest: 1363.6705103\tbest: 1363.6705103 (207)\ttotal: 55.9s\tremaining: 51.6s\n",
      "208:\tlearn: 1294.2231737\ttest: 1363.7318851\tbest: 1363.6705103 (207)\ttotal: 56.2s\tremaining: 51.4s\n",
      "209:\tlearn: 1293.7934488\ttest: 1363.4398239\tbest: 1363.4398239 (209)\ttotal: 56.5s\tremaining: 51.1s\n",
      "210:\tlearn: 1293.3040113\ttest: 1363.3807850\tbest: 1363.3807850 (210)\ttotal: 56.8s\tremaining: 50.9s\n",
      "211:\tlearn: 1293.0163924\ttest: 1363.3728118\tbest: 1363.3728118 (211)\ttotal: 57s\tremaining: 50.6s\n",
      "212:\tlearn: 1292.6373031\ttest: 1363.2665171\tbest: 1363.2665171 (212)\ttotal: 57.3s\tremaining: 50.3s\n",
      "213:\tlearn: 1292.6189843\ttest: 1363.2589040\tbest: 1363.2589040 (213)\ttotal: 57.6s\tremaining: 50.1s\n",
      "214:\tlearn: 1292.0660952\ttest: 1363.2290242\tbest: 1363.2290242 (214)\ttotal: 57.8s\tremaining: 49.8s\n",
      "215:\tlearn: 1291.8164794\ttest: 1363.1645258\tbest: 1363.1645258 (215)\ttotal: 58.1s\tremaining: 49.5s\n",
      "216:\tlearn: 1291.8025706\ttest: 1363.1587128\tbest: 1363.1587128 (216)\ttotal: 58.3s\tremaining: 49.2s\n",
      "217:\tlearn: 1290.8882614\ttest: 1362.9631980\tbest: 1362.9631980 (217)\ttotal: 58.5s\tremaining: 48.9s\n",
      "218:\tlearn: 1290.5810893\ttest: 1362.8963805\tbest: 1362.8963805 (218)\ttotal: 58.8s\tremaining: 48.6s\n",
      "219:\tlearn: 1290.2951885\ttest: 1362.7956878\tbest: 1362.7956878 (219)\ttotal: 59s\tremaining: 48.3s\n",
      "220:\tlearn: 1289.3174776\ttest: 1362.4275349\tbest: 1362.4275349 (220)\ttotal: 59.3s\tremaining: 48s\n",
      "221:\tlearn: 1288.9458638\ttest: 1362.3255468\tbest: 1362.3255468 (221)\ttotal: 59.6s\tremaining: 47.8s\n",
      "222:\tlearn: 1288.1187442\ttest: 1362.1866888\tbest: 1362.1866888 (222)\ttotal: 59.8s\tremaining: 47.5s\n",
      "223:\tlearn: 1287.5114020\ttest: 1361.8165349\tbest: 1361.8165349 (223)\ttotal: 1m\tremaining: 47.2s\n",
      "224:\tlearn: 1287.0073878\ttest: 1361.5470944\tbest: 1361.5470944 (224)\ttotal: 1m\tremaining: 46.9s\n",
      "225:\tlearn: 1286.2053222\ttest: 1361.4954761\tbest: 1361.4954761 (225)\ttotal: 1m\tremaining: 46.7s\n",
      "226:\tlearn: 1285.7489496\ttest: 1361.3722209\tbest: 1361.3722209 (226)\ttotal: 1m\tremaining: 46.4s\n",
      "227:\tlearn: 1285.2768055\ttest: 1361.1693750\tbest: 1361.1693750 (227)\ttotal: 1m 1s\tremaining: 46.1s\n",
      "228:\tlearn: 1285.1027364\ttest: 1361.1858640\tbest: 1361.1693750 (227)\ttotal: 1m 1s\tremaining: 45.9s\n",
      "229:\tlearn: 1284.6552813\ttest: 1360.9172154\tbest: 1360.9172154 (229)\ttotal: 1m 1s\tremaining: 45.6s\n",
      "230:\tlearn: 1284.1377440\ttest: 1360.8243418\tbest: 1360.8243418 (230)\ttotal: 1m 1s\tremaining: 45.3s\n",
      "231:\tlearn: 1283.9122865\ttest: 1360.6922683\tbest: 1360.6922683 (231)\ttotal: 1m 2s\tremaining: 45s\n",
      "232:\tlearn: 1283.2596011\ttest: 1360.5038295\tbest: 1360.5038295 (232)\ttotal: 1m 2s\tremaining: 44.7s\n",
      "233:\tlearn: 1282.8804305\ttest: 1360.5043870\tbest: 1360.5038295 (232)\ttotal: 1m 2s\tremaining: 44.5s\n",
      "234:\tlearn: 1282.4576157\ttest: 1360.4435840\tbest: 1360.4435840 (234)\ttotal: 1m 2s\tremaining: 44.1s\n",
      "235:\tlearn: 1281.5847935\ttest: 1360.1790408\tbest: 1360.1790408 (235)\ttotal: 1m 3s\tremaining: 43.9s\n",
      "236:\tlearn: 1281.3463482\ttest: 1360.2005607\tbest: 1360.1790408 (235)\ttotal: 1m 3s\tremaining: 43.7s\n",
      "237:\tlearn: 1281.1925467\ttest: 1360.1097172\tbest: 1360.1097172 (237)\ttotal: 1m 3s\tremaining: 43.4s\n",
      "238:\tlearn: 1280.7660860\ttest: 1359.8520930\tbest: 1359.8520930 (238)\ttotal: 1m 4s\tremaining: 43.2s\n",
      "239:\tlearn: 1280.2546240\ttest: 1359.7422776\tbest: 1359.7422776 (239)\ttotal: 1m 4s\tremaining: 42.9s\n",
      "240:\tlearn: 1280.0279561\ttest: 1359.5484410\tbest: 1359.5484410 (240)\ttotal: 1m 4s\tremaining: 42.5s\n",
      "241:\tlearn: 1279.3854126\ttest: 1359.1379453\tbest: 1359.1379453 (241)\ttotal: 1m 4s\tremaining: 42.3s\n",
      "242:\tlearn: 1278.9445263\ttest: 1359.1087857\tbest: 1359.1087857 (242)\ttotal: 1m 5s\tremaining: 42s\n",
      "243:\tlearn: 1278.5842467\ttest: 1359.0421514\tbest: 1359.0421514 (243)\ttotal: 1m 5s\tremaining: 41.8s\n",
      "244:\tlearn: 1278.2934078\ttest: 1358.9223987\tbest: 1358.9223987 (244)\ttotal: 1m 5s\tremaining: 41.5s\n",
      "245:\tlearn: 1277.6318660\ttest: 1358.6810554\tbest: 1358.6810554 (245)\ttotal: 1m 5s\tremaining: 41.2s\n",
      "246:\tlearn: 1277.4515935\ttest: 1358.6077945\tbest: 1358.6077945 (246)\ttotal: 1m 6s\tremaining: 40.9s\n",
      "247:\tlearn: 1277.0990827\ttest: 1358.4282030\tbest: 1358.4282030 (247)\ttotal: 1m 6s\tremaining: 40.6s\n",
      "248:\tlearn: 1276.9954074\ttest: 1358.4147948\tbest: 1358.4147948 (248)\ttotal: 1m 6s\tremaining: 40.3s\n",
      "249:\tlearn: 1276.8563621\ttest: 1358.4196312\tbest: 1358.4147948 (248)\ttotal: 1m 6s\tremaining: 40s\n",
      "250:\tlearn: 1276.7027573\ttest: 1358.4362931\tbest: 1358.4147948 (248)\ttotal: 1m 6s\tremaining: 39.8s\n",
      "251:\tlearn: 1276.3620499\ttest: 1358.3585178\tbest: 1358.3585178 (251)\ttotal: 1m 7s\tremaining: 39.5s\n",
      "252:\tlearn: 1276.2676452\ttest: 1358.2981336\tbest: 1358.2981336 (252)\ttotal: 1m 7s\tremaining: 39.2s\n",
      "253:\tlearn: 1276.0999618\ttest: 1358.2822914\tbest: 1358.2822914 (253)\ttotal: 1m 7s\tremaining: 38.9s\n",
      "254:\tlearn: 1275.8742289\ttest: 1358.1510096\tbest: 1358.1510096 (254)\ttotal: 1m 8s\tremaining: 38.7s\n",
      "255:\tlearn: 1275.6828828\ttest: 1358.0603581\tbest: 1358.0603581 (255)\ttotal: 1m 8s\tremaining: 38.4s\n",
      "256:\tlearn: 1275.1951624\ttest: 1357.9866392\tbest: 1357.9866392 (256)\ttotal: 1m 8s\tremaining: 38.2s\n",
      "257:\tlearn: 1274.5751442\ttest: 1357.7339939\tbest: 1357.7339939 (257)\ttotal: 1m 8s\tremaining: 37.9s\n",
      "258:\tlearn: 1274.1743240\ttest: 1357.7133507\tbest: 1357.7133507 (258)\ttotal: 1m 9s\tremaining: 37.7s\n",
      "259:\tlearn: 1273.7777036\ttest: 1357.7117549\tbest: 1357.7117549 (259)\ttotal: 1m 9s\tremaining: 37.4s\n",
      "260:\tlearn: 1273.6369840\ttest: 1357.6361679\tbest: 1357.6361679 (260)\ttotal: 1m 9s\tremaining: 37.1s\n",
      "261:\tlearn: 1273.2087545\ttest: 1357.6525818\tbest: 1357.6361679 (260)\ttotal: 1m 9s\tremaining: 36.8s\n",
      "262:\tlearn: 1272.6992580\ttest: 1357.5102101\tbest: 1357.5102101 (262)\ttotal: 1m 10s\tremaining: 36.6s\n",
      "263:\tlearn: 1272.3950849\ttest: 1357.3905018\tbest: 1357.3905018 (263)\ttotal: 1m 10s\tremaining: 36.3s\n",
      "264:\tlearn: 1271.7897719\ttest: 1357.2661791\tbest: 1357.2661791 (264)\ttotal: 1m 10s\tremaining: 36s\n",
      "265:\tlearn: 1271.6155341\ttest: 1357.2775714\tbest: 1357.2661791 (264)\ttotal: 1m 10s\tremaining: 35.7s\n",
      "266:\tlearn: 1271.1766571\ttest: 1357.5076557\tbest: 1357.2661791 (264)\ttotal: 1m 11s\tremaining: 35.5s\n",
      "267:\tlearn: 1270.8647954\ttest: 1357.5170593\tbest: 1357.2661791 (264)\ttotal: 1m 11s\tremaining: 35.2s\n",
      "268:\tlearn: 1270.6085644\ttest: 1357.5332223\tbest: 1357.2661791 (264)\ttotal: 1m 11s\tremaining: 34.9s\n",
      "269:\tlearn: 1270.2813741\ttest: 1357.4316035\tbest: 1357.2661791 (264)\ttotal: 1m 11s\tremaining: 34.7s\n",
      "270:\tlearn: 1270.1120196\ttest: 1357.4294500\tbest: 1357.2661791 (264)\ttotal: 1m 12s\tremaining: 34.4s\n",
      "271:\tlearn: 1269.2512837\ttest: 1356.9924093\tbest: 1356.9924093 (271)\ttotal: 1m 12s\tremaining: 34.1s\n",
      "272:\tlearn: 1269.0293962\ttest: 1356.9721405\tbest: 1356.9721405 (272)\ttotal: 1m 12s\tremaining: 33.8s\n",
      "273:\tlearn: 1268.7453808\ttest: 1356.9213306\tbest: 1356.9213306 (273)\ttotal: 1m 12s\tremaining: 33.6s\n",
      "274:\tlearn: 1267.9291664\ttest: 1356.8813058\tbest: 1356.8813058 (274)\ttotal: 1m 13s\tremaining: 33.3s\n",
      "275:\tlearn: 1267.5449140\ttest: 1356.7659052\tbest: 1356.7659052 (275)\ttotal: 1m 13s\tremaining: 33s\n",
      "276:\tlearn: 1266.8608583\ttest: 1356.5414928\tbest: 1356.5414928 (276)\ttotal: 1m 13s\tremaining: 32.7s\n",
      "277:\tlearn: 1266.5842219\ttest: 1356.5475598\tbest: 1356.5414928 (276)\ttotal: 1m 13s\tremaining: 32.4s\n",
      "278:\tlearn: 1266.4424380\ttest: 1356.5154450\tbest: 1356.5154450 (278)\ttotal: 1m 14s\tremaining: 32.2s\n",
      "279:\tlearn: 1266.1265347\ttest: 1356.3327224\tbest: 1356.3327224 (279)\ttotal: 1m 14s\tremaining: 31.9s\n",
      "280:\tlearn: 1265.3995053\ttest: 1356.2868062\tbest: 1356.2868062 (280)\ttotal: 1m 14s\tremaining: 31.7s\n",
      "281:\tlearn: 1264.7355482\ttest: 1356.1202461\tbest: 1356.1202461 (281)\ttotal: 1m 15s\tremaining: 31.4s\n",
      "282:\tlearn: 1263.9412898\ttest: 1355.9001386\tbest: 1355.9001386 (282)\ttotal: 1m 15s\tremaining: 31.2s\n",
      "283:\tlearn: 1263.6020886\ttest: 1355.6441974\tbest: 1355.6441974 (283)\ttotal: 1m 15s\tremaining: 30.9s\n",
      "284:\tlearn: 1263.4246771\ttest: 1355.6700249\tbest: 1355.6441974 (283)\ttotal: 1m 15s\tremaining: 30.6s\n",
      "285:\tlearn: 1263.1099967\ttest: 1355.6590391\tbest: 1355.6441974 (283)\ttotal: 1m 16s\tremaining: 30.4s\n",
      "286:\tlearn: 1262.6065499\ttest: 1355.6227210\tbest: 1355.6227210 (286)\ttotal: 1m 16s\tremaining: 30.1s\n",
      "287:\tlearn: 1262.0932834\ttest: 1355.3854893\tbest: 1355.3854893 (287)\ttotal: 1m 16s\tremaining: 29.8s\n",
      "288:\tlearn: 1261.6344609\ttest: 1355.2922127\tbest: 1355.2922127 (288)\ttotal: 1m 16s\tremaining: 29.6s\n",
      "289:\tlearn: 1261.1180518\ttest: 1355.2807241\tbest: 1355.2807241 (289)\ttotal: 1m 17s\tremaining: 29.3s\n",
      "290:\tlearn: 1260.8732359\ttest: 1355.2528837\tbest: 1355.2528837 (290)\ttotal: 1m 17s\tremaining: 29s\n",
      "291:\tlearn: 1260.2605083\ttest: 1355.0695883\tbest: 1355.0695883 (291)\ttotal: 1m 17s\tremaining: 28.7s\n",
      "292:\tlearn: 1259.7791098\ttest: 1354.8863188\tbest: 1354.8863188 (292)\ttotal: 1m 17s\tremaining: 28.5s\n",
      "293:\tlearn: 1259.5432214\ttest: 1354.8041354\tbest: 1354.8041354 (293)\ttotal: 1m 18s\tremaining: 28.2s\n",
      "294:\tlearn: 1259.1564730\ttest: 1354.8054630\tbest: 1354.8041354 (293)\ttotal: 1m 18s\tremaining: 27.9s\n",
      "295:\tlearn: 1258.9351489\ttest: 1354.7934369\tbest: 1354.7934369 (295)\ttotal: 1m 18s\tremaining: 27.6s\n",
      "296:\tlearn: 1258.6264813\ttest: 1354.5750472\tbest: 1354.5750472 (296)\ttotal: 1m 18s\tremaining: 27.4s\n",
      "297:\tlearn: 1258.2077154\ttest: 1354.4201952\tbest: 1354.4201952 (297)\ttotal: 1m 19s\tremaining: 27.1s\n",
      "298:\tlearn: 1257.8896321\ttest: 1354.2618445\tbest: 1354.2618445 (298)\ttotal: 1m 19s\tremaining: 26.8s\n",
      "299:\tlearn: 1257.5212365\ttest: 1354.2153315\tbest: 1354.2153315 (299)\ttotal: 1m 19s\tremaining: 26.6s\n",
      "300:\tlearn: 1256.8451515\ttest: 1353.7415722\tbest: 1353.7415722 (300)\ttotal: 1m 19s\tremaining: 26.3s\n",
      "301:\tlearn: 1256.5583466\ttest: 1353.7431722\tbest: 1353.7415722 (300)\ttotal: 1m 20s\tremaining: 26s\n",
      "302:\tlearn: 1256.3332055\ttest: 1353.6724395\tbest: 1353.6724395 (302)\ttotal: 1m 20s\tremaining: 25.8s\n",
      "303:\tlearn: 1256.1400874\ttest: 1353.6286487\tbest: 1353.6286487 (303)\ttotal: 1m 20s\tremaining: 25.5s\n",
      "304:\tlearn: 1255.6004257\ttest: 1353.6083700\tbest: 1353.6083700 (304)\ttotal: 1m 21s\tremaining: 25.2s\n",
      "305:\tlearn: 1255.3245995\ttest: 1353.4425474\tbest: 1353.4425474 (305)\ttotal: 1m 21s\tremaining: 25s\n",
      "306:\tlearn: 1255.0676785\ttest: 1353.3026810\tbest: 1353.3026810 (306)\ttotal: 1m 21s\tremaining: 24.7s\n",
      "307:\tlearn: 1254.8866731\ttest: 1353.3382262\tbest: 1353.3026810 (306)\ttotal: 1m 21s\tremaining: 24.4s\n",
      "308:\tlearn: 1254.5689545\ttest: 1353.2546169\tbest: 1353.2546169 (308)\ttotal: 1m 21s\tremaining: 24.1s\n",
      "309:\tlearn: 1254.4696334\ttest: 1353.2313915\tbest: 1353.2313915 (309)\ttotal: 1m 22s\tremaining: 23.9s\n",
      "310:\tlearn: 1254.1084270\ttest: 1353.1280776\tbest: 1353.1280776 (310)\ttotal: 1m 22s\tremaining: 23.6s\n",
      "311:\tlearn: 1253.9759952\ttest: 1353.1228894\tbest: 1353.1228894 (311)\ttotal: 1m 22s\tremaining: 23.3s\n",
      "312:\tlearn: 1253.5403842\ttest: 1353.0384568\tbest: 1353.0384568 (312)\ttotal: 1m 22s\tremaining: 23.1s\n",
      "313:\tlearn: 1253.3784431\ttest: 1353.0297324\tbest: 1353.0297324 (313)\ttotal: 1m 23s\tremaining: 22.8s\n",
      "314:\tlearn: 1252.9658293\ttest: 1352.9804027\tbest: 1352.9804027 (314)\ttotal: 1m 23s\tremaining: 22.5s\n",
      "315:\tlearn: 1252.5134278\ttest: 1353.0864242\tbest: 1352.9804027 (314)\ttotal: 1m 23s\tremaining: 22.3s\n",
      "316:\tlearn: 1252.0948921\ttest: 1353.1227254\tbest: 1352.9804027 (314)\ttotal: 1m 24s\tremaining: 22s\n",
      "317:\tlearn: 1251.5809160\ttest: 1352.9393597\tbest: 1352.9393597 (317)\ttotal: 1m 24s\tremaining: 21.7s\n",
      "318:\tlearn: 1250.9660571\ttest: 1352.9199196\tbest: 1352.9199196 (318)\ttotal: 1m 24s\tremaining: 21.5s\n",
      "319:\tlearn: 1250.7254777\ttest: 1352.7915917\tbest: 1352.7915917 (319)\ttotal: 1m 24s\tremaining: 21.2s\n",
      "320:\tlearn: 1250.5633715\ttest: 1352.6550595\tbest: 1352.6550595 (320)\ttotal: 1m 25s\tremaining: 21s\n",
      "321:\tlearn: 1250.1493587\ttest: 1352.6169100\tbest: 1352.6169100 (321)\ttotal: 1m 25s\tremaining: 20.7s\n",
      "322:\tlearn: 1250.1030657\ttest: 1352.6308401\tbest: 1352.6169100 (321)\ttotal: 1m 25s\tremaining: 20.4s\n",
      "323:\tlearn: 1249.7137128\ttest: 1352.5863417\tbest: 1352.5863417 (323)\ttotal: 1m 25s\tremaining: 20.2s\n",
      "324:\tlearn: 1249.5365368\ttest: 1352.4100898\tbest: 1352.4100898 (324)\ttotal: 1m 26s\tremaining: 19.9s\n",
      "325:\tlearn: 1249.3654588\ttest: 1352.3687652\tbest: 1352.3687652 (325)\ttotal: 1m 26s\tremaining: 19.6s\n",
      "326:\tlearn: 1249.0372438\ttest: 1352.4006889\tbest: 1352.3687652 (325)\ttotal: 1m 26s\tremaining: 19.4s\n",
      "327:\tlearn: 1248.4792109\ttest: 1352.0759691\tbest: 1352.0759691 (327)\ttotal: 1m 27s\tremaining: 19.1s\n",
      "328:\tlearn: 1248.0697414\ttest: 1352.0439372\tbest: 1352.0439372 (328)\ttotal: 1m 27s\tremaining: 18.9s\n",
      "329:\tlearn: 1247.9955987\ttest: 1351.9948842\tbest: 1351.9948842 (329)\ttotal: 1m 27s\tremaining: 18.6s\n",
      "330:\tlearn: 1247.2177999\ttest: 1351.6450869\tbest: 1351.6450869 (330)\ttotal: 1m 27s\tremaining: 18.3s\n",
      "331:\tlearn: 1247.2089736\ttest: 1351.6494954\tbest: 1351.6450869 (330)\ttotal: 1m 28s\tremaining: 18.1s\n",
      "332:\tlearn: 1246.7389894\ttest: 1351.3726346\tbest: 1351.3726346 (332)\ttotal: 1m 28s\tremaining: 17.8s\n",
      "333:\tlearn: 1246.5315499\ttest: 1351.3031435\tbest: 1351.3031435 (333)\ttotal: 1m 28s\tremaining: 17.5s\n",
      "334:\tlearn: 1246.3054736\ttest: 1351.2866866\tbest: 1351.2866866 (334)\ttotal: 1m 29s\tremaining: 17.3s\n",
      "335:\tlearn: 1245.8022369\ttest: 1351.0686880\tbest: 1351.0686880 (335)\ttotal: 1m 29s\tremaining: 17s\n",
      "336:\tlearn: 1245.4840083\ttest: 1351.0932535\tbest: 1351.0686880 (335)\ttotal: 1m 29s\tremaining: 16.7s\n",
      "337:\tlearn: 1245.0175791\ttest: 1351.0056205\tbest: 1351.0056205 (337)\ttotal: 1m 29s\tremaining: 16.5s\n",
      "338:\tlearn: 1244.3811653\ttest: 1350.8310205\tbest: 1350.8310205 (338)\ttotal: 1m 30s\tremaining: 16.2s\n",
      "339:\tlearn: 1244.1970335\ttest: 1350.8781219\tbest: 1350.8310205 (338)\ttotal: 1m 30s\tremaining: 15.9s\n",
      "340:\tlearn: 1244.0550584\ttest: 1350.8829075\tbest: 1350.8310205 (338)\ttotal: 1m 30s\tremaining: 15.7s\n",
      "341:\tlearn: 1243.9690121\ttest: 1350.8691706\tbest: 1350.8310205 (338)\ttotal: 1m 30s\tremaining: 15.4s\n",
      "342:\tlearn: 1243.4564237\ttest: 1350.9034468\tbest: 1350.8310205 (338)\ttotal: 1m 31s\tremaining: 15.2s\n",
      "343:\tlearn: 1242.9381728\ttest: 1350.8150160\tbest: 1350.8150160 (343)\ttotal: 1m 31s\tremaining: 14.9s\n",
      "344:\tlearn: 1242.6607236\ttest: 1350.7801007\tbest: 1350.7801007 (344)\ttotal: 1m 31s\tremaining: 14.6s\n",
      "345:\tlearn: 1242.2223992\ttest: 1350.6599599\tbest: 1350.6599599 (345)\ttotal: 1m 31s\tremaining: 14.4s\n",
      "346:\tlearn: 1241.8753420\ttest: 1350.5858832\tbest: 1350.5858832 (346)\ttotal: 1m 32s\tremaining: 14.1s\n",
      "347:\tlearn: 1241.6311074\ttest: 1350.6113191\tbest: 1350.5858832 (346)\ttotal: 1m 32s\tremaining: 13.8s\n",
      "348:\tlearn: 1241.1767757\ttest: 1350.4316726\tbest: 1350.4316726 (348)\ttotal: 1m 32s\tremaining: 13.6s\n",
      "349:\tlearn: 1240.6874030\ttest: 1350.2875927\tbest: 1350.2875927 (349)\ttotal: 1m 33s\tremaining: 13.3s\n",
      "350:\tlearn: 1240.1127138\ttest: 1350.3413715\tbest: 1350.2875927 (349)\ttotal: 1m 33s\tremaining: 13s\n",
      "351:\tlearn: 1239.9768939\ttest: 1350.3440771\tbest: 1350.2875927 (349)\ttotal: 1m 33s\tremaining: 12.8s\n",
      "352:\tlearn: 1239.4766967\ttest: 1350.1970609\tbest: 1350.1970609 (352)\ttotal: 1m 33s\tremaining: 12.5s\n",
      "353:\tlearn: 1239.2616691\ttest: 1350.0916015\tbest: 1350.0916015 (353)\ttotal: 1m 34s\tremaining: 12.2s\n",
      "354:\tlearn: 1239.0518043\ttest: 1349.9179691\tbest: 1349.9179691 (354)\ttotal: 1m 34s\tremaining: 12s\n",
      "355:\tlearn: 1238.8853654\ttest: 1349.9278840\tbest: 1349.9179691 (354)\ttotal: 1m 34s\tremaining: 11.7s\n",
      "356:\tlearn: 1238.5615412\ttest: 1349.9279471\tbest: 1349.9179691 (354)\ttotal: 1m 35s\tremaining: 11.5s\n",
      "357:\tlearn: 1238.2574403\ttest: 1349.9048395\tbest: 1349.9048395 (357)\ttotal: 1m 35s\tremaining: 11.2s\n",
      "358:\tlearn: 1238.0696062\ttest: 1349.8510574\tbest: 1349.8510574 (358)\ttotal: 1m 35s\tremaining: 10.9s\n",
      "359:\tlearn: 1237.7392755\ttest: 1349.7902915\tbest: 1349.7902915 (359)\ttotal: 1m 36s\tremaining: 10.7s\n",
      "360:\tlearn: 1237.5808970\ttest: 1349.8077889\tbest: 1349.7902915 (359)\ttotal: 1m 36s\tremaining: 10.4s\n",
      "361:\tlearn: 1237.4438089\ttest: 1349.7252746\tbest: 1349.7252746 (361)\ttotal: 1m 36s\tremaining: 10.1s\n",
      "362:\tlearn: 1237.3475649\ttest: 1349.6671330\tbest: 1349.6671330 (362)\ttotal: 1m 36s\tremaining: 9.88s\n",
      "363:\tlearn: 1237.1371929\ttest: 1349.5737936\tbest: 1349.5737936 (363)\ttotal: 1m 37s\tremaining: 9.61s\n",
      "364:\tlearn: 1236.7368365\ttest: 1349.3981488\tbest: 1349.3981488 (364)\ttotal: 1m 37s\tremaining: 9.35s\n",
      "365:\tlearn: 1236.6343755\ttest: 1349.3471752\tbest: 1349.3471752 (365)\ttotal: 1m 37s\tremaining: 9.08s\n",
      "366:\tlearn: 1236.1552891\ttest: 1349.2755806\tbest: 1349.2755806 (366)\ttotal: 1m 38s\tremaining: 8.82s\n",
      "367:\tlearn: 1235.7390637\ttest: 1349.3317487\tbest: 1349.2755806 (366)\ttotal: 1m 38s\tremaining: 8.55s\n",
      "368:\tlearn: 1235.6085121\ttest: 1349.3379259\tbest: 1349.2755806 (366)\ttotal: 1m 38s\tremaining: 8.28s\n",
      "369:\tlearn: 1235.4706958\ttest: 1349.2743669\tbest: 1349.2743669 (369)\ttotal: 1m 38s\tremaining: 8.02s\n",
      "370:\tlearn: 1235.2851469\ttest: 1349.2437845\tbest: 1349.2437845 (370)\ttotal: 1m 39s\tremaining: 7.75s\n",
      "371:\tlearn: 1234.7818409\ttest: 1349.0241315\tbest: 1349.0241315 (371)\ttotal: 1m 39s\tremaining: 7.47s\n",
      "372:\tlearn: 1234.5886180\ttest: 1348.9542650\tbest: 1348.9542650 (372)\ttotal: 1m 39s\tremaining: 7.21s\n",
      "373:\tlearn: 1234.3632496\ttest: 1348.9244398\tbest: 1348.9244398 (373)\ttotal: 1m 39s\tremaining: 6.94s\n",
      "374:\tlearn: 1234.2029930\ttest: 1348.9276459\tbest: 1348.9244398 (373)\ttotal: 1m 40s\tremaining: 6.67s\n",
      "375:\tlearn: 1233.9266942\ttest: 1348.9308996\tbest: 1348.9244398 (373)\ttotal: 1m 40s\tremaining: 6.41s\n",
      "376:\tlearn: 1233.7132845\ttest: 1348.9337950\tbest: 1348.9244398 (373)\ttotal: 1m 40s\tremaining: 6.14s\n",
      "377:\tlearn: 1233.3710780\ttest: 1348.8290500\tbest: 1348.8290500 (377)\ttotal: 1m 40s\tremaining: 5.88s\n",
      "378:\tlearn: 1232.8528776\ttest: 1348.7872067\tbest: 1348.7872067 (378)\ttotal: 1m 41s\tremaining: 5.61s\n",
      "379:\tlearn: 1232.7201762\ttest: 1348.8475066\tbest: 1348.7872067 (378)\ttotal: 1m 41s\tremaining: 5.35s\n",
      "380:\tlearn: 1232.3919518\ttest: 1348.6851886\tbest: 1348.6851886 (380)\ttotal: 1m 41s\tremaining: 5.08s\n",
      "381:\tlearn: 1232.2018249\ttest: 1348.6898821\tbest: 1348.6851886 (380)\ttotal: 1m 42s\tremaining: 4.81s\n",
      "382:\tlearn: 1232.1123559\ttest: 1348.6678771\tbest: 1348.6678771 (382)\ttotal: 1m 42s\tremaining: 4.54s\n",
      "383:\tlearn: 1231.6979270\ttest: 1348.5171629\tbest: 1348.5171629 (383)\ttotal: 1m 42s\tremaining: 4.28s\n",
      "384:\tlearn: 1231.1772431\ttest: 1348.4815213\tbest: 1348.4815213 (384)\ttotal: 1m 42s\tremaining: 4.01s\n",
      "385:\tlearn: 1231.0472754\ttest: 1348.4938749\tbest: 1348.4815213 (384)\ttotal: 1m 43s\tremaining: 3.74s\n",
      "386:\tlearn: 1230.7178548\ttest: 1348.4864442\tbest: 1348.4815213 (384)\ttotal: 1m 43s\tremaining: 3.48s\n",
      "387:\tlearn: 1230.5848723\ttest: 1348.3792583\tbest: 1348.3792583 (387)\ttotal: 1m 43s\tremaining: 3.21s\n",
      "388:\tlearn: 1230.5130731\ttest: 1348.4001398\tbest: 1348.3792583 (387)\ttotal: 1m 43s\tremaining: 2.94s\n",
      "389:\tlearn: 1230.1550740\ttest: 1348.3252396\tbest: 1348.3252396 (389)\ttotal: 1m 44s\tremaining: 2.67s\n",
      "390:\tlearn: 1229.9601368\ttest: 1348.2770537\tbest: 1348.2770537 (390)\ttotal: 1m 44s\tremaining: 2.4s\n",
      "391:\tlearn: 1229.5544948\ttest: 1348.2052172\tbest: 1348.2052172 (391)\ttotal: 1m 44s\tremaining: 2.14s\n",
      "392:\tlearn: 1229.3886337\ttest: 1348.1618992\tbest: 1348.1618992 (392)\ttotal: 1m 45s\tremaining: 1.87s\n",
      "393:\tlearn: 1229.2163293\ttest: 1348.1854796\tbest: 1348.1618992 (392)\ttotal: 1m 45s\tremaining: 1.6s\n",
      "394:\tlearn: 1228.8268779\ttest: 1348.2426189\tbest: 1348.1618992 (392)\ttotal: 1m 45s\tremaining: 1.34s\n",
      "395:\tlearn: 1228.6291032\ttest: 1348.1686449\tbest: 1348.1618992 (392)\ttotal: 1m 46s\tremaining: 1.07s\n",
      "396:\tlearn: 1228.0966546\ttest: 1348.0499190\tbest: 1348.0499190 (396)\ttotal: 1m 46s\tremaining: 803ms\n",
      "397:\tlearn: 1227.7708266\ttest: 1347.9027817\tbest: 1347.9027817 (397)\ttotal: 1m 46s\tremaining: 536ms\n",
      "398:\tlearn: 1227.6162053\ttest: 1347.9155688\tbest: 1347.9027817 (397)\ttotal: 1m 46s\tremaining: 268ms\n",
      "399:\tlearn: 1227.3996477\ttest: 1347.9363246\tbest: 1347.9027817 (397)\ttotal: 1m 47s\tremaining: 0us\n",
      "\n",
      "bestTest = 1347.902782\n",
      "bestIteration = 397\n",
      "\n",
      "1:\tloss: 1347.9027817\tbest: 1347.9027817 (1)\ttotal: 3m 34s\tremaining: 3m 34s\n",
      "0:\tlearn: 4871.5738881\ttest: 4865.2340441\tbest: 4865.2340441 (0)\ttotal: 448ms\tremaining: 2m 58s\n",
      "1:\tlearn: 4470.9951241\ttest: 4463.5215535\tbest: 4463.5215535 (1)\ttotal: 830ms\tremaining: 2m 45s\n",
      "2:\tlearn: 4113.0166472\ttest: 4105.1861061\tbest: 4105.1861061 (2)\ttotal: 1.2s\tremaining: 2m 39s\n",
      "3:\tlearn: 3792.6608845\ttest: 3784.5493318\tbest: 3784.5493318 (3)\ttotal: 1.58s\tremaining: 2m 36s\n",
      "4:\tlearn: 3513.5800143\ttest: 3506.5116431\tbest: 3506.5116431 (4)\ttotal: 1.97s\tremaining: 2m 35s\n",
      "5:\tlearn: 3264.2554618\ttest: 3255.9543133\tbest: 3255.9543133 (5)\ttotal: 2.34s\tremaining: 2m 33s\n",
      "6:\tlearn: 3043.0165732\ttest: 3034.2182612\tbest: 3034.2182612 (6)\ttotal: 2.73s\tremaining: 2m 33s\n",
      "7:\tlearn: 2845.7884619\ttest: 2835.8375591\tbest: 2835.8375591 (7)\ttotal: 3.07s\tremaining: 2m 30s\n",
      "8:\tlearn: 2680.9419000\ttest: 2670.3597411\tbest: 2670.3597411 (8)\ttotal: 3.39s\tremaining: 2m 27s\n",
      "9:\tlearn: 2528.0330265\ttest: 2518.0339974\tbest: 2518.0339974 (9)\ttotal: 3.82s\tremaining: 2m 28s\n",
      "10:\tlearn: 2391.0109604\ttest: 2380.6730231\tbest: 2380.6730231 (10)\ttotal: 4.22s\tremaining: 2m 29s\n",
      "11:\tlearn: 2275.2734070\ttest: 2264.9292844\tbest: 2264.9292844 (11)\ttotal: 4.54s\tremaining: 2m 26s\n",
      "12:\tlearn: 2175.9644545\ttest: 2165.2537888\tbest: 2165.2537888 (12)\ttotal: 4.9s\tremaining: 2m 25s\n",
      "13:\tlearn: 2089.4586612\ttest: 2078.4003864\tbest: 2078.4003864 (13)\ttotal: 5.29s\tremaining: 2m 26s\n",
      "14:\tlearn: 2014.0260500\ttest: 2002.6958867\tbest: 2002.6958867 (14)\ttotal: 5.62s\tremaining: 2m 24s\n",
      "15:\tlearn: 1949.3040057\ttest: 1938.4513247\tbest: 1938.4513247 (15)\ttotal: 5.98s\tremaining: 2m 23s\n",
      "16:\tlearn: 1892.0335770\ttest: 1880.8205997\tbest: 1880.8205997 (16)\ttotal: 6.31s\tremaining: 2m 22s\n",
      "17:\tlearn: 1838.8173259\ttest: 1826.9651787\tbest: 1826.9651787 (17)\ttotal: 6.7s\tremaining: 2m 22s\n",
      "18:\tlearn: 1794.1838007\ttest: 1781.7498945\tbest: 1781.7498945 (18)\ttotal: 7.03s\tremaining: 2m 21s\n",
      "19:\tlearn: 1757.7503047\ttest: 1745.0367236\tbest: 1745.0367236 (19)\ttotal: 7.43s\tremaining: 2m 21s\n",
      "20:\tlearn: 1725.6393083\ttest: 1712.1949387\tbest: 1712.1949387 (20)\ttotal: 7.71s\tremaining: 2m 19s\n",
      "21:\tlearn: 1698.5307639\ttest: 1685.3459297\tbest: 1685.3459297 (21)\ttotal: 8.01s\tremaining: 2m 17s\n",
      "22:\tlearn: 1675.3611228\ttest: 1661.9707511\tbest: 1661.9707511 (22)\ttotal: 8.28s\tremaining: 2m 15s\n",
      "23:\tlearn: 1655.2893682\ttest: 1642.5427940\tbest: 1642.5427940 (23)\ttotal: 8.59s\tremaining: 2m 14s\n",
      "24:\tlearn: 1635.9572173\ttest: 1623.3447830\tbest: 1623.3447830 (24)\ttotal: 8.87s\tremaining: 2m 13s\n",
      "25:\tlearn: 1619.4575462\ttest: 1607.5068926\tbest: 1607.5068926 (25)\ttotal: 9.14s\tremaining: 2m 11s\n",
      "26:\tlearn: 1606.4328689\ttest: 1594.2446890\tbest: 1594.2446890 (26)\ttotal: 9.46s\tremaining: 2m 10s\n",
      "27:\tlearn: 1595.0674021\ttest: 1583.3514374\tbest: 1583.3514374 (27)\ttotal: 9.8s\tremaining: 2m 10s\n",
      "28:\tlearn: 1585.3678742\ttest: 1574.3357130\tbest: 1574.3357130 (28)\ttotal: 10.1s\tremaining: 2m 9s\n",
      "29:\tlearn: 1575.1502386\ttest: 1564.5794661\tbest: 1564.5794661 (29)\ttotal: 10.4s\tremaining: 2m 8s\n",
      "30:\tlearn: 1566.9615092\ttest: 1556.5851141\tbest: 1556.5851141 (30)\ttotal: 10.7s\tremaining: 2m 6s\n",
      "31:\tlearn: 1559.0667872\ttest: 1548.8232129\tbest: 1548.8232129 (31)\ttotal: 11s\tremaining: 2m 6s\n",
      "32:\tlearn: 1551.9905414\ttest: 1542.5008345\tbest: 1542.5008345 (32)\ttotal: 11.2s\tremaining: 2m 4s\n",
      "33:\tlearn: 1545.7574619\ttest: 1536.4771617\tbest: 1536.4771617 (33)\ttotal: 11.5s\tremaining: 2m 3s\n",
      "34:\tlearn: 1540.6763485\ttest: 1531.5022256\tbest: 1531.5022256 (34)\ttotal: 11.8s\tremaining: 2m 2s\n",
      "35:\tlearn: 1535.5913616\ttest: 1526.7753938\tbest: 1526.7753938 (35)\ttotal: 12.1s\tremaining: 2m 2s\n",
      "36:\tlearn: 1530.3975738\ttest: 1522.1502705\tbest: 1522.1502705 (36)\ttotal: 12.4s\tremaining: 2m 1s\n",
      "37:\tlearn: 1524.4834262\ttest: 1516.4700788\tbest: 1516.4700788 (37)\ttotal: 12.7s\tremaining: 2m\n",
      "38:\tlearn: 1520.6418932\ttest: 1513.0079493\tbest: 1513.0079493 (38)\ttotal: 13s\tremaining: 2m\n",
      "39:\tlearn: 1517.3267769\ttest: 1510.0663347\tbest: 1510.0663347 (39)\ttotal: 13.3s\tremaining: 1m 59s\n",
      "40:\tlearn: 1513.5403001\ttest: 1506.3749967\tbest: 1506.3749967 (40)\ttotal: 13.6s\tremaining: 1m 59s\n",
      "41:\tlearn: 1510.2298771\ttest: 1503.1318925\tbest: 1503.1318925 (41)\ttotal: 13.9s\tremaining: 1m 58s\n",
      "42:\tlearn: 1507.4756809\ttest: 1500.4218610\tbest: 1500.4218610 (42)\ttotal: 14.2s\tremaining: 1m 57s\n",
      "43:\tlearn: 1504.1144710\ttest: 1498.4994303\tbest: 1498.4994303 (43)\ttotal: 14.5s\tremaining: 1m 57s\n",
      "44:\tlearn: 1501.5576863\ttest: 1496.4723704\tbest: 1496.4723704 (44)\ttotal: 14.8s\tremaining: 1m 56s\n",
      "45:\tlearn: 1499.0149919\ttest: 1494.5314254\tbest: 1494.5314254 (45)\ttotal: 15.2s\tremaining: 1m 56s\n",
      "46:\tlearn: 1495.7103508\ttest: 1492.0981435\tbest: 1492.0981435 (46)\ttotal: 15.5s\tremaining: 1m 56s\n",
      "47:\tlearn: 1492.5948816\ttest: 1489.3922999\tbest: 1489.3922999 (47)\ttotal: 15.8s\tremaining: 1m 56s\n",
      "48:\tlearn: 1490.4861983\ttest: 1487.5846413\tbest: 1487.5846413 (48)\ttotal: 16.1s\tremaining: 1m 55s\n",
      "49:\tlearn: 1488.3676154\ttest: 1485.8752716\tbest: 1485.8752716 (49)\ttotal: 16.4s\tremaining: 1m 54s\n",
      "50:\tlearn: 1486.7052330\ttest: 1484.5386174\tbest: 1484.5386174 (50)\ttotal: 16.7s\tremaining: 1m 54s\n",
      "51:\tlearn: 1484.3399083\ttest: 1482.6180702\tbest: 1482.6180702 (51)\ttotal: 17s\tremaining: 1m 54s\n",
      "52:\tlearn: 1481.8546988\ttest: 1480.2705768\tbest: 1480.2705768 (52)\ttotal: 17.4s\tremaining: 1m 53s\n",
      "53:\tlearn: 1480.2813732\ttest: 1479.2121467\tbest: 1479.2121467 (53)\ttotal: 17.7s\tremaining: 1m 53s\n",
      "54:\tlearn: 1477.6150748\ttest: 1476.1968900\tbest: 1476.1968900 (54)\ttotal: 17.9s\tremaining: 1m 52s\n",
      "55:\tlearn: 1475.8667829\ttest: 1474.6994829\tbest: 1474.6994829 (55)\ttotal: 18.3s\tremaining: 1m 52s\n",
      "56:\tlearn: 1474.5276593\ttest: 1473.5970561\tbest: 1473.5970561 (56)\ttotal: 18.6s\tremaining: 1m 51s\n",
      "57:\tlearn: 1472.9662158\ttest: 1472.4242166\tbest: 1472.4242166 (57)\ttotal: 18.9s\tremaining: 1m 51s\n",
      "58:\tlearn: 1471.1122812\ttest: 1470.2464992\tbest: 1470.2464992 (58)\ttotal: 19.2s\tremaining: 1m 50s\n",
      "59:\tlearn: 1469.2210527\ttest: 1468.8219676\tbest: 1468.8219676 (59)\ttotal: 19.4s\tremaining: 1m 50s\n",
      "60:\tlearn: 1466.7469335\ttest: 1466.6793125\tbest: 1466.6793125 (60)\ttotal: 19.8s\tremaining: 1m 50s\n",
      "61:\tlearn: 1463.7856462\ttest: 1464.1989914\tbest: 1464.1989914 (61)\ttotal: 20.1s\tremaining: 1m 49s\n",
      "62:\tlearn: 1461.8680455\ttest: 1462.5769404\tbest: 1462.5769404 (62)\ttotal: 20.4s\tremaining: 1m 49s\n",
      "63:\tlearn: 1460.7887981\ttest: 1461.7112086\tbest: 1461.7112086 (63)\ttotal: 20.7s\tremaining: 1m 48s\n",
      "64:\tlearn: 1458.0529556\ttest: 1459.8040092\tbest: 1459.8040092 (64)\ttotal: 21s\tremaining: 1m 48s\n",
      "65:\tlearn: 1456.0743569\ttest: 1458.3447446\tbest: 1458.3447446 (65)\ttotal: 21.3s\tremaining: 1m 47s\n",
      "66:\tlearn: 1452.1135237\ttest: 1455.4637330\tbest: 1455.4637330 (66)\ttotal: 21.6s\tremaining: 1m 47s\n",
      "67:\tlearn: 1451.2844969\ttest: 1454.9868453\tbest: 1454.9868453 (67)\ttotal: 21.9s\tremaining: 1m 46s\n",
      "68:\tlearn: 1449.5332654\ttest: 1453.2266311\tbest: 1453.2266311 (68)\ttotal: 22.2s\tremaining: 1m 46s\n",
      "69:\tlearn: 1447.5088033\ttest: 1451.0169329\tbest: 1451.0169329 (69)\ttotal: 22.5s\tremaining: 1m 46s\n",
      "70:\tlearn: 1446.8058932\ttest: 1450.5108316\tbest: 1450.5108316 (70)\ttotal: 22.9s\tremaining: 1m 45s\n",
      "71:\tlearn: 1445.7524504\ttest: 1449.8450761\tbest: 1449.8450761 (71)\ttotal: 23.3s\tremaining: 1m 45s\n",
      "72:\tlearn: 1444.4680498\ttest: 1448.7037601\tbest: 1448.7037601 (72)\ttotal: 23.5s\tremaining: 1m 45s\n",
      "73:\tlearn: 1442.5297437\ttest: 1447.3919381\tbest: 1447.3919381 (73)\ttotal: 23.8s\tremaining: 1m 44s\n",
      "74:\tlearn: 1441.2330131\ttest: 1446.2261287\tbest: 1446.2261287 (74)\ttotal: 24.2s\tremaining: 1m 44s\n",
      "75:\tlearn: 1439.2505166\ttest: 1444.6507281\tbest: 1444.6507281 (75)\ttotal: 24.5s\tremaining: 1m 44s\n",
      "76:\tlearn: 1437.2398981\ttest: 1442.9781593\tbest: 1442.9781593 (76)\ttotal: 24.8s\tremaining: 1m 43s\n",
      "77:\tlearn: 1435.4217955\ttest: 1441.9091997\tbest: 1441.9091997 (77)\ttotal: 25.1s\tremaining: 1m 43s\n",
      "78:\tlearn: 1433.1863176\ttest: 1440.6732238\tbest: 1440.6732238 (78)\ttotal: 25.4s\tremaining: 1m 43s\n",
      "79:\tlearn: 1431.2648434\ttest: 1439.2414509\tbest: 1439.2414509 (79)\ttotal: 25.6s\tremaining: 1m 42s\n",
      "80:\tlearn: 1428.7590239\ttest: 1437.0329937\tbest: 1437.0329937 (80)\ttotal: 25.9s\tremaining: 1m 42s\n",
      "81:\tlearn: 1427.8931018\ttest: 1436.5540777\tbest: 1436.5540777 (81)\ttotal: 26.2s\tremaining: 1m 41s\n",
      "82:\tlearn: 1426.5906956\ttest: 1435.5815801\tbest: 1435.5815801 (82)\ttotal: 26.5s\tremaining: 1m 41s\n",
      "83:\tlearn: 1424.8738659\ttest: 1434.3776481\tbest: 1434.3776481 (83)\ttotal: 26.8s\tremaining: 1m 40s\n",
      "84:\tlearn: 1423.9566884\ttest: 1433.7435050\tbest: 1433.7435050 (84)\ttotal: 27.1s\tremaining: 1m 40s\n",
      "85:\tlearn: 1422.7515133\ttest: 1433.0184841\tbest: 1433.0184841 (85)\ttotal: 27.5s\tremaining: 1m 40s\n",
      "86:\tlearn: 1420.6227799\ttest: 1431.4049517\tbest: 1431.4049517 (86)\ttotal: 27.8s\tremaining: 1m 39s\n",
      "87:\tlearn: 1419.2045790\ttest: 1430.4984463\tbest: 1430.4984463 (87)\ttotal: 28.1s\tremaining: 1m 39s\n",
      "88:\tlearn: 1418.2667532\ttest: 1430.2401454\tbest: 1430.2401454 (88)\ttotal: 28.5s\tremaining: 1m 39s\n",
      "89:\tlearn: 1417.0673574\ttest: 1429.4355383\tbest: 1429.4355383 (89)\ttotal: 28.8s\tremaining: 1m 39s\n",
      "90:\tlearn: 1416.3101662\ttest: 1428.9584407\tbest: 1428.9584407 (90)\ttotal: 29s\tremaining: 1m 38s\n",
      "91:\tlearn: 1414.4473856\ttest: 1427.6604341\tbest: 1427.6604341 (91)\ttotal: 29.4s\tremaining: 1m 38s\n",
      "92:\tlearn: 1413.1620675\ttest: 1426.9253783\tbest: 1426.9253783 (92)\ttotal: 29.6s\tremaining: 1m 37s\n",
      "93:\tlearn: 1411.7313450\ttest: 1426.2172781\tbest: 1426.2172781 (93)\ttotal: 29.9s\tremaining: 1m 37s\n",
      "94:\tlearn: 1410.7259555\ttest: 1425.5542736\tbest: 1425.5542736 (94)\ttotal: 30.3s\tremaining: 1m 37s\n",
      "95:\tlearn: 1409.4903799\ttest: 1424.4079844\tbest: 1424.4079844 (95)\ttotal: 30.6s\tremaining: 1m 36s\n",
      "96:\tlearn: 1408.7839561\ttest: 1423.8570722\tbest: 1423.8570722 (96)\ttotal: 30.9s\tremaining: 1m 36s\n",
      "97:\tlearn: 1407.6367498\ttest: 1423.1414038\tbest: 1423.1414038 (97)\ttotal: 31.2s\tremaining: 1m 36s\n",
      "98:\tlearn: 1406.5557489\ttest: 1422.3291624\tbest: 1422.3291624 (98)\ttotal: 31.6s\tremaining: 1m 36s\n",
      "99:\tlearn: 1405.9057479\ttest: 1421.9885524\tbest: 1421.9885524 (99)\ttotal: 32s\tremaining: 1m 36s\n",
      "100:\tlearn: 1404.7822684\ttest: 1421.1287210\tbest: 1421.1287210 (100)\ttotal: 32.3s\tremaining: 1m 35s\n",
      "101:\tlearn: 1403.3984383\ttest: 1420.1492695\tbest: 1420.1492695 (101)\ttotal: 32.6s\tremaining: 1m 35s\n",
      "102:\tlearn: 1402.4857462\ttest: 1419.5636923\tbest: 1419.5636923 (102)\ttotal: 33s\tremaining: 1m 35s\n",
      "103:\tlearn: 1401.0955940\ttest: 1418.6506430\tbest: 1418.6506430 (103)\ttotal: 33.3s\tremaining: 1m 34s\n",
      "104:\tlearn: 1400.0758378\ttest: 1418.0361322\tbest: 1418.0361322 (104)\ttotal: 33.6s\tremaining: 1m 34s\n",
      "105:\tlearn: 1399.3193845\ttest: 1417.5539189\tbest: 1417.5539189 (105)\ttotal: 33.9s\tremaining: 1m 34s\n",
      "106:\tlearn: 1398.7662660\ttest: 1417.0168477\tbest: 1417.0168477 (106)\ttotal: 34.3s\tremaining: 1m 33s\n",
      "107:\tlearn: 1397.6800606\ttest: 1416.2136710\tbest: 1416.2136710 (107)\ttotal: 34.6s\tremaining: 1m 33s\n",
      "108:\tlearn: 1395.5726938\ttest: 1414.6975719\tbest: 1414.6975719 (108)\ttotal: 34.9s\tremaining: 1m 33s\n",
      "109:\tlearn: 1394.6027238\ttest: 1413.9691044\tbest: 1413.9691044 (109)\ttotal: 35.2s\tremaining: 1m 32s\n",
      "110:\tlearn: 1393.3940075\ttest: 1413.1549092\tbest: 1413.1549092 (110)\ttotal: 35.5s\tremaining: 1m 32s\n",
      "111:\tlearn: 1393.0104052\ttest: 1413.0539542\tbest: 1413.0539542 (111)\ttotal: 35.8s\tremaining: 1m 32s\n",
      "112:\tlearn: 1391.6684737\ttest: 1412.0887088\tbest: 1412.0887088 (112)\ttotal: 36.2s\tremaining: 1m 31s\n",
      "113:\tlearn: 1390.6864945\ttest: 1411.7262248\tbest: 1411.7262248 (113)\ttotal: 36.5s\tremaining: 1m 31s\n",
      "114:\tlearn: 1389.3341021\ttest: 1410.6833114\tbest: 1410.6833114 (114)\ttotal: 36.8s\tremaining: 1m 31s\n",
      "115:\tlearn: 1388.6258033\ttest: 1410.3984257\tbest: 1410.3984257 (115)\ttotal: 37.1s\tremaining: 1m 30s\n",
      "116:\tlearn: 1387.9231541\ttest: 1409.9940797\tbest: 1409.9940797 (116)\ttotal: 37.5s\tremaining: 1m 30s\n",
      "117:\tlearn: 1387.1212327\ttest: 1409.4306955\tbest: 1409.4306955 (117)\ttotal: 37.8s\tremaining: 1m 30s\n",
      "118:\tlearn: 1386.4783499\ttest: 1409.0183290\tbest: 1409.0183290 (118)\ttotal: 38.1s\tremaining: 1m 29s\n",
      "119:\tlearn: 1385.5279474\ttest: 1408.4330107\tbest: 1408.4330107 (119)\ttotal: 38.5s\tremaining: 1m 29s\n",
      "120:\tlearn: 1385.0991430\ttest: 1408.0865497\tbest: 1408.0865497 (120)\ttotal: 38.7s\tremaining: 1m 29s\n",
      "121:\tlearn: 1384.4090124\ttest: 1407.8182081\tbest: 1407.8182081 (121)\ttotal: 39.1s\tremaining: 1m 29s\n",
      "122:\tlearn: 1383.4762274\ttest: 1407.4557530\tbest: 1407.4557530 (122)\ttotal: 39.4s\tremaining: 1m 28s\n",
      "123:\tlearn: 1382.1401331\ttest: 1406.5763387\tbest: 1406.5763387 (123)\ttotal: 39.7s\tremaining: 1m 28s\n",
      "124:\tlearn: 1380.8601979\ttest: 1405.5274736\tbest: 1405.5274736 (124)\ttotal: 40.1s\tremaining: 1m 28s\n",
      "125:\tlearn: 1379.9672808\ttest: 1404.7499717\tbest: 1404.7499717 (125)\ttotal: 40.4s\tremaining: 1m 27s\n",
      "126:\tlearn: 1379.2074671\ttest: 1404.1286022\tbest: 1404.1286022 (126)\ttotal: 40.7s\tremaining: 1m 27s\n",
      "127:\tlearn: 1378.4776279\ttest: 1403.6860045\tbest: 1403.6860045 (127)\ttotal: 41s\tremaining: 1m 27s\n",
      "128:\tlearn: 1377.0793347\ttest: 1403.0276888\tbest: 1403.0276888 (128)\ttotal: 41.3s\tremaining: 1m 26s\n",
      "129:\tlearn: 1376.1749260\ttest: 1402.4404580\tbest: 1402.4404580 (129)\ttotal: 41.7s\tremaining: 1m 26s\n",
      "130:\tlearn: 1375.7458962\ttest: 1402.2288534\tbest: 1402.2288534 (130)\ttotal: 42s\tremaining: 1m 26s\n",
      "131:\tlearn: 1374.4611885\ttest: 1401.4764054\tbest: 1401.4764054 (131)\ttotal: 42.3s\tremaining: 1m 25s\n",
      "132:\tlearn: 1373.3609919\ttest: 1400.8429944\tbest: 1400.8429944 (132)\ttotal: 42.6s\tremaining: 1m 25s\n",
      "133:\tlearn: 1372.6691054\ttest: 1400.5275368\tbest: 1400.5275368 (133)\ttotal: 43s\tremaining: 1m 25s\n",
      "134:\tlearn: 1371.7345963\ttest: 1400.1317773\tbest: 1400.1317773 (134)\ttotal: 43.4s\tremaining: 1m 25s\n",
      "135:\tlearn: 1370.8361879\ttest: 1399.6545470\tbest: 1399.6545470 (135)\ttotal: 43.7s\tremaining: 1m 24s\n",
      "136:\tlearn: 1370.3623378\ttest: 1399.2698274\tbest: 1399.2698274 (136)\ttotal: 44s\tremaining: 1m 24s\n",
      "137:\tlearn: 1369.9153185\ttest: 1399.0236971\tbest: 1399.0236971 (137)\ttotal: 44.3s\tremaining: 1m 24s\n",
      "138:\tlearn: 1369.6344213\ttest: 1398.9602764\tbest: 1398.9602764 (138)\ttotal: 44.7s\tremaining: 1m 23s\n",
      "139:\tlearn: 1368.7658519\ttest: 1398.5670276\tbest: 1398.5670276 (139)\ttotal: 45s\tremaining: 1m 23s\n",
      "140:\tlearn: 1368.2646967\ttest: 1398.4246215\tbest: 1398.4246215 (140)\ttotal: 45.4s\tremaining: 1m 23s\n",
      "141:\tlearn: 1367.0625220\ttest: 1397.3998437\tbest: 1397.3998437 (141)\ttotal: 45.7s\tremaining: 1m 23s\n",
      "142:\tlearn: 1365.6481502\ttest: 1396.5491441\tbest: 1396.5491441 (142)\ttotal: 46.1s\tremaining: 1m 22s\n",
      "143:\tlearn: 1365.1979170\ttest: 1396.4429839\tbest: 1396.4429839 (143)\ttotal: 46.4s\tremaining: 1m 22s\n",
      "144:\tlearn: 1364.1071550\ttest: 1395.7332460\tbest: 1395.7332460 (144)\ttotal: 46.7s\tremaining: 1m 22s\n",
      "145:\tlearn: 1363.2867242\ttest: 1395.1770464\tbest: 1395.1770464 (145)\ttotal: 47.1s\tremaining: 1m 21s\n",
      "146:\tlearn: 1362.5497813\ttest: 1394.6257121\tbest: 1394.6257121 (146)\ttotal: 47.4s\tremaining: 1m 21s\n",
      "147:\tlearn: 1361.5828902\ttest: 1393.9651028\tbest: 1393.9651028 (147)\ttotal: 47.8s\tremaining: 1m 21s\n",
      "148:\tlearn: 1361.1850062\ttest: 1393.7727716\tbest: 1393.7727716 (148)\ttotal: 48.1s\tremaining: 1m 21s\n",
      "149:\tlearn: 1359.9161079\ttest: 1393.1276175\tbest: 1393.1276175 (149)\ttotal: 48.5s\tremaining: 1m 20s\n",
      "150:\tlearn: 1359.2539581\ttest: 1392.6918618\tbest: 1392.6918618 (150)\ttotal: 48.8s\tremaining: 1m 20s\n",
      "151:\tlearn: 1358.4672350\ttest: 1392.2375507\tbest: 1392.2375507 (151)\ttotal: 49.1s\tremaining: 1m 20s\n",
      "152:\tlearn: 1357.8198982\ttest: 1391.7836866\tbest: 1391.7836866 (152)\ttotal: 49.5s\tremaining: 1m 19s\n",
      "153:\tlearn: 1357.1299250\ttest: 1391.3164310\tbest: 1391.3164310 (153)\ttotal: 49.9s\tremaining: 1m 19s\n",
      "154:\tlearn: 1356.5611878\ttest: 1391.1367330\tbest: 1391.1367330 (154)\ttotal: 50.2s\tremaining: 1m 19s\n",
      "155:\tlearn: 1355.9103024\ttest: 1390.7558376\tbest: 1390.7558376 (155)\ttotal: 50.6s\tremaining: 1m 19s\n",
      "156:\tlearn: 1355.5498515\ttest: 1390.6427752\tbest: 1390.6427752 (156)\ttotal: 50.9s\tremaining: 1m 18s\n",
      "157:\tlearn: 1354.3187431\ttest: 1389.8527575\tbest: 1389.8527575 (157)\ttotal: 51.3s\tremaining: 1m 18s\n",
      "158:\tlearn: 1353.8634968\ttest: 1389.5649948\tbest: 1389.5649948 (158)\ttotal: 51.6s\tremaining: 1m 18s\n",
      "159:\tlearn: 1353.5744067\ttest: 1389.5122183\tbest: 1389.5122183 (159)\ttotal: 52s\tremaining: 1m 17s\n",
      "160:\tlearn: 1352.5887283\ttest: 1389.0658445\tbest: 1389.0658445 (160)\ttotal: 52.4s\tremaining: 1m 17s\n",
      "161:\tlearn: 1351.7332716\ttest: 1388.7596972\tbest: 1388.7596972 (161)\ttotal: 52.7s\tremaining: 1m 17s\n",
      "162:\tlearn: 1351.0284443\ttest: 1388.3623563\tbest: 1388.3623563 (162)\ttotal: 53.1s\tremaining: 1m 17s\n",
      "163:\tlearn: 1350.4493631\ttest: 1388.0561644\tbest: 1388.0561644 (163)\ttotal: 53.4s\tremaining: 1m 16s\n",
      "164:\tlearn: 1349.5731507\ttest: 1387.3532245\tbest: 1387.3532245 (164)\ttotal: 53.8s\tremaining: 1m 16s\n",
      "165:\tlearn: 1349.2119704\ttest: 1387.1620636\tbest: 1387.1620636 (165)\ttotal: 54.2s\tremaining: 1m 16s\n",
      "166:\tlearn: 1348.4837302\ttest: 1386.7971576\tbest: 1386.7971576 (166)\ttotal: 54.5s\tremaining: 1m 16s\n",
      "167:\tlearn: 1347.7646548\ttest: 1386.3361507\tbest: 1386.3361507 (167)\ttotal: 54.8s\tremaining: 1m 15s\n",
      "168:\tlearn: 1347.4316042\ttest: 1386.2533299\tbest: 1386.2533299 (168)\ttotal: 55.2s\tremaining: 1m 15s\n",
      "169:\tlearn: 1346.7351621\ttest: 1385.7067109\tbest: 1385.7067109 (169)\ttotal: 55.5s\tremaining: 1m 15s\n",
      "170:\tlearn: 1346.0826465\ttest: 1385.4185446\tbest: 1385.4185446 (170)\ttotal: 55.9s\tremaining: 1m 14s\n",
      "171:\tlearn: 1345.6829506\ttest: 1385.1740403\tbest: 1385.1740403 (171)\ttotal: 56.2s\tremaining: 1m 14s\n",
      "172:\tlearn: 1345.1679427\ttest: 1385.0007969\tbest: 1385.0007969 (172)\ttotal: 56.6s\tremaining: 1m 14s\n",
      "173:\tlearn: 1344.5777180\ttest: 1384.7141793\tbest: 1384.7141793 (173)\ttotal: 57s\tremaining: 1m 13s\n",
      "174:\tlearn: 1343.6402381\ttest: 1384.0853076\tbest: 1384.0853076 (174)\ttotal: 57.3s\tremaining: 1m 13s\n",
      "175:\tlearn: 1343.2678555\ttest: 1383.9483133\tbest: 1383.9483133 (175)\ttotal: 57.6s\tremaining: 1m 13s\n",
      "176:\tlearn: 1343.0289065\ttest: 1383.8665721\tbest: 1383.8665721 (176)\ttotal: 58s\tremaining: 1m 13s\n",
      "177:\tlearn: 1342.5049820\ttest: 1383.5335407\tbest: 1383.5335407 (177)\ttotal: 58.3s\tremaining: 1m 12s\n",
      "178:\tlearn: 1342.2219252\ttest: 1383.4729130\tbest: 1383.4729130 (178)\ttotal: 58.7s\tremaining: 1m 12s\n",
      "179:\tlearn: 1341.6850307\ttest: 1383.2936490\tbest: 1383.2936490 (179)\ttotal: 59.1s\tremaining: 1m 12s\n",
      "180:\tlearn: 1341.1922567\ttest: 1383.0707936\tbest: 1383.0707936 (180)\ttotal: 59.5s\tremaining: 1m 11s\n",
      "181:\tlearn: 1340.7175571\ttest: 1382.8547679\tbest: 1382.8547679 (181)\ttotal: 59.9s\tremaining: 1m 11s\n",
      "182:\tlearn: 1339.7389459\ttest: 1382.3532585\tbest: 1382.3532585 (182)\ttotal: 1m\tremaining: 1m 11s\n",
      "183:\tlearn: 1339.2542994\ttest: 1381.9339653\tbest: 1381.9339653 (183)\ttotal: 1m\tremaining: 1m 11s\n",
      "184:\tlearn: 1338.7468841\ttest: 1381.7612098\tbest: 1381.7612098 (184)\ttotal: 1m\tremaining: 1m 10s\n",
      "185:\tlearn: 1338.3034232\ttest: 1381.6141909\tbest: 1381.6141909 (185)\ttotal: 1m 1s\tremaining: 1m 10s\n",
      "186:\tlearn: 1338.0040948\ttest: 1381.4707234\tbest: 1381.4707234 (186)\ttotal: 1m 1s\tremaining: 1m 10s\n",
      "187:\tlearn: 1337.1942282\ttest: 1380.8055359\tbest: 1380.8055359 (187)\ttotal: 1m 1s\tremaining: 1m 9s\n",
      "188:\tlearn: 1336.5643187\ttest: 1380.5515107\tbest: 1380.5515107 (188)\ttotal: 1m 2s\tremaining: 1m 9s\n",
      "189:\tlearn: 1336.3265238\ttest: 1380.4945493\tbest: 1380.4945493 (189)\ttotal: 1m 2s\tremaining: 1m 9s\n",
      "190:\tlearn: 1336.0712107\ttest: 1380.4547606\tbest: 1380.4547606 (190)\ttotal: 1m 2s\tremaining: 1m 8s\n",
      "191:\tlearn: 1335.3931360\ttest: 1380.0715188\tbest: 1380.0715188 (191)\ttotal: 1m 3s\tremaining: 1m 8s\n",
      "192:\tlearn: 1335.0699462\ttest: 1379.8633712\tbest: 1379.8633712 (192)\ttotal: 1m 3s\tremaining: 1m 8s\n",
      "193:\tlearn: 1334.6069550\ttest: 1379.5434717\tbest: 1379.5434717 (193)\ttotal: 1m 3s\tremaining: 1m 7s\n",
      "194:\tlearn: 1333.9554321\ttest: 1379.1951890\tbest: 1379.1951890 (194)\ttotal: 1m 4s\tremaining: 1m 7s\n",
      "195:\tlearn: 1333.3194785\ttest: 1378.9529951\tbest: 1378.9529951 (195)\ttotal: 1m 4s\tremaining: 1m 7s\n",
      "196:\tlearn: 1332.7544105\ttest: 1378.7407621\tbest: 1378.7407621 (196)\ttotal: 1m 4s\tremaining: 1m 6s\n",
      "197:\tlearn: 1332.5787598\ttest: 1378.6939657\tbest: 1378.6939657 (197)\ttotal: 1m 4s\tremaining: 1m 6s\n",
      "198:\tlearn: 1331.9806500\ttest: 1378.4379653\tbest: 1378.4379653 (198)\ttotal: 1m 5s\tremaining: 1m 5s\n",
      "199:\tlearn: 1331.6992525\ttest: 1378.2887028\tbest: 1378.2887028 (199)\ttotal: 1m 5s\tremaining: 1m 5s\n",
      "200:\tlearn: 1331.1178610\ttest: 1377.7654675\tbest: 1377.7654675 (200)\ttotal: 1m 5s\tremaining: 1m 5s\n",
      "201:\tlearn: 1330.1462495\ttest: 1377.0620280\tbest: 1377.0620280 (201)\ttotal: 1m 6s\tremaining: 1m 5s\n",
      "202:\tlearn: 1329.9038126\ttest: 1376.9384779\tbest: 1376.9384779 (202)\ttotal: 1m 6s\tremaining: 1m 4s\n",
      "203:\tlearn: 1329.5104237\ttest: 1376.8623534\tbest: 1376.8623534 (203)\ttotal: 1m 7s\tremaining: 1m 4s\n",
      "204:\tlearn: 1328.8464680\ttest: 1376.4338798\tbest: 1376.4338798 (204)\ttotal: 1m 7s\tremaining: 1m 4s\n",
      "205:\tlearn: 1328.4651502\ttest: 1376.2121352\tbest: 1376.2121352 (205)\ttotal: 1m 7s\tremaining: 1m 3s\n",
      "206:\tlearn: 1328.2084185\ttest: 1376.1121290\tbest: 1376.1121290 (206)\ttotal: 1m 8s\tremaining: 1m 3s\n",
      "207:\tlearn: 1327.8434896\ttest: 1375.8790321\tbest: 1375.8790321 (207)\ttotal: 1m 8s\tremaining: 1m 3s\n",
      "208:\tlearn: 1327.4535309\ttest: 1375.6186076\tbest: 1375.6186076 (208)\ttotal: 1m 8s\tremaining: 1m 2s\n",
      "209:\tlearn: 1326.7403144\ttest: 1375.5813769\tbest: 1375.5813769 (209)\ttotal: 1m 8s\tremaining: 1m 2s\n",
      "210:\tlearn: 1326.4053596\ttest: 1375.3422264\tbest: 1375.3422264 (210)\ttotal: 1m 9s\tremaining: 1m 2s\n",
      "211:\tlearn: 1326.1571827\ttest: 1375.2728568\tbest: 1375.2728568 (211)\ttotal: 1m 9s\tremaining: 1m 1s\n",
      "212:\tlearn: 1325.8205223\ttest: 1375.1442776\tbest: 1375.1442776 (212)\ttotal: 1m 9s\tremaining: 1m 1s\n",
      "213:\tlearn: 1325.2586882\ttest: 1374.7178144\tbest: 1374.7178144 (213)\ttotal: 1m 10s\tremaining: 1m 1s\n",
      "214:\tlearn: 1324.7376005\ttest: 1374.4168754\tbest: 1374.4168754 (214)\ttotal: 1m 10s\tremaining: 1m\n",
      "215:\tlearn: 1324.3513136\ttest: 1374.3402256\tbest: 1374.3402256 (215)\ttotal: 1m 10s\tremaining: 1m\n",
      "216:\tlearn: 1324.1471861\ttest: 1374.2332840\tbest: 1374.2332840 (216)\ttotal: 1m 11s\tremaining: 1m\n",
      "217:\tlearn: 1323.8212205\ttest: 1374.1582318\tbest: 1374.1582318 (217)\ttotal: 1m 11s\tremaining: 59.8s\n",
      "218:\tlearn: 1323.3451731\ttest: 1374.0733798\tbest: 1374.0733798 (218)\ttotal: 1m 11s\tremaining: 59.5s\n",
      "219:\tlearn: 1322.9888769\ttest: 1373.8499663\tbest: 1373.8499663 (219)\ttotal: 1m 12s\tremaining: 59.1s\n",
      "220:\tlearn: 1322.3781564\ttest: 1373.5047843\tbest: 1373.5047843 (220)\ttotal: 1m 12s\tremaining: 58.8s\n",
      "221:\tlearn: 1321.9692089\ttest: 1373.3910663\tbest: 1373.3910663 (221)\ttotal: 1m 12s\tremaining: 58.5s\n",
      "222:\tlearn: 1321.6498949\ttest: 1373.3733070\tbest: 1373.3733070 (222)\ttotal: 1m 13s\tremaining: 58.2s\n",
      "223:\tlearn: 1320.9674738\ttest: 1372.8807935\tbest: 1372.8807935 (223)\ttotal: 1m 13s\tremaining: 57.8s\n",
      "224:\tlearn: 1320.2886676\ttest: 1372.4019741\tbest: 1372.4019741 (224)\ttotal: 1m 13s\tremaining: 57.5s\n",
      "225:\tlearn: 1319.8640683\ttest: 1372.3479746\tbest: 1372.3479746 (225)\ttotal: 1m 14s\tremaining: 57.2s\n",
      "226:\tlearn: 1319.4465442\ttest: 1372.1572912\tbest: 1372.1572912 (226)\ttotal: 1m 14s\tremaining: 57s\n",
      "227:\tlearn: 1318.8584051\ttest: 1371.8132725\tbest: 1371.8132725 (227)\ttotal: 1m 15s\tremaining: 56.6s\n",
      "228:\tlearn: 1318.2721338\ttest: 1371.4446023\tbest: 1371.4446023 (228)\ttotal: 1m 15s\tremaining: 56.3s\n",
      "229:\tlearn: 1317.8997864\ttest: 1371.2888659\tbest: 1371.2888659 (229)\ttotal: 1m 15s\tremaining: 56s\n",
      "230:\tlearn: 1317.2915775\ttest: 1371.0309228\tbest: 1371.0309228 (230)\ttotal: 1m 16s\tremaining: 55.7s\n",
      "231:\tlearn: 1316.9228047\ttest: 1370.9124390\tbest: 1370.9124390 (231)\ttotal: 1m 16s\tremaining: 55.3s\n",
      "232:\tlearn: 1316.5268035\ttest: 1370.8390621\tbest: 1370.8390621 (232)\ttotal: 1m 16s\tremaining: 55.1s\n",
      "233:\tlearn: 1316.0028636\ttest: 1370.7848267\tbest: 1370.7848267 (233)\ttotal: 1m 17s\tremaining: 54.8s\n",
      "234:\tlearn: 1315.5511893\ttest: 1370.5273347\tbest: 1370.5273347 (234)\ttotal: 1m 17s\tremaining: 54.5s\n",
      "235:\tlearn: 1315.1836118\ttest: 1370.3844574\tbest: 1370.3844574 (235)\ttotal: 1m 18s\tremaining: 54.2s\n",
      "236:\tlearn: 1314.7260720\ttest: 1370.2779094\tbest: 1370.2779094 (236)\ttotal: 1m 18s\tremaining: 53.9s\n",
      "237:\tlearn: 1314.0701406\ttest: 1370.0560778\tbest: 1370.0560778 (237)\ttotal: 1m 18s\tremaining: 53.6s\n",
      "238:\tlearn: 1313.9182572\ttest: 1369.9514723\tbest: 1369.9514723 (238)\ttotal: 1m 19s\tremaining: 53.3s\n",
      "239:\tlearn: 1313.6133965\ttest: 1369.8822191\tbest: 1369.8822191 (239)\ttotal: 1m 19s\tremaining: 52.9s\n",
      "240:\tlearn: 1313.0408877\ttest: 1369.7841554\tbest: 1369.7841554 (240)\ttotal: 1m 19s\tremaining: 52.6s\n",
      "241:\tlearn: 1312.7956430\ttest: 1369.8236695\tbest: 1369.7841554 (240)\ttotal: 1m 20s\tremaining: 52.3s\n",
      "242:\tlearn: 1312.2630200\ttest: 1369.7499138\tbest: 1369.7499138 (242)\ttotal: 1m 20s\tremaining: 52s\n",
      "243:\tlearn: 1312.1620567\ttest: 1369.7199160\tbest: 1369.7199160 (243)\ttotal: 1m 20s\tremaining: 51.7s\n",
      "244:\tlearn: 1311.6449174\ttest: 1369.3890671\tbest: 1369.3890671 (244)\ttotal: 1m 21s\tremaining: 51.3s\n",
      "245:\tlearn: 1311.1233072\ttest: 1369.2798435\tbest: 1369.2798435 (245)\ttotal: 1m 21s\tremaining: 51s\n",
      "246:\tlearn: 1310.9025750\ttest: 1369.1823066\tbest: 1369.1823066 (246)\ttotal: 1m 21s\tremaining: 50.7s\n",
      "247:\tlearn: 1310.5767239\ttest: 1369.0632517\tbest: 1369.0632517 (247)\ttotal: 1m 22s\tremaining: 50.4s\n",
      "248:\tlearn: 1310.2566777\ttest: 1369.0140151\tbest: 1369.0140151 (248)\ttotal: 1m 22s\tremaining: 50s\n",
      "249:\tlearn: 1309.8903217\ttest: 1368.8348553\tbest: 1368.8348553 (249)\ttotal: 1m 22s\tremaining: 49.7s\n",
      "250:\tlearn: 1309.3881101\ttest: 1368.7823086\tbest: 1368.7823086 (250)\ttotal: 1m 23s\tremaining: 49.4s\n",
      "251:\tlearn: 1309.1317844\ttest: 1368.6905506\tbest: 1368.6905506 (251)\ttotal: 1m 23s\tremaining: 49s\n",
      "252:\tlearn: 1308.7501761\ttest: 1368.4231882\tbest: 1368.4231882 (252)\ttotal: 1m 23s\tremaining: 48.7s\n",
      "253:\tlearn: 1308.4364631\ttest: 1368.2641006\tbest: 1368.2641006 (253)\ttotal: 1m 24s\tremaining: 48.4s\n",
      "254:\tlearn: 1308.3322468\ttest: 1368.2380768\tbest: 1368.2380768 (254)\ttotal: 1m 24s\tremaining: 48s\n",
      "255:\tlearn: 1307.6060014\ttest: 1368.0221491\tbest: 1368.0221491 (255)\ttotal: 1m 24s\tremaining: 47.7s\n",
      "256:\tlearn: 1307.2979986\ttest: 1367.9278701\tbest: 1367.9278701 (256)\ttotal: 1m 25s\tremaining: 47.4s\n",
      "257:\tlearn: 1307.0515428\ttest: 1367.8846511\tbest: 1367.8846511 (257)\ttotal: 1m 25s\tremaining: 47s\n",
      "258:\tlearn: 1306.7145750\ttest: 1367.7570522\tbest: 1367.7570522 (258)\ttotal: 1m 25s\tremaining: 46.7s\n",
      "259:\tlearn: 1306.4222964\ttest: 1367.6487498\tbest: 1367.6487498 (259)\ttotal: 1m 26s\tremaining: 46.4s\n",
      "260:\tlearn: 1305.8251227\ttest: 1367.3047047\tbest: 1367.3047047 (260)\ttotal: 1m 26s\tremaining: 46.1s\n",
      "261:\tlearn: 1305.1043273\ttest: 1367.1674076\tbest: 1367.1674076 (261)\ttotal: 1m 26s\tremaining: 45.7s\n",
      "262:\tlearn: 1304.7165883\ttest: 1367.0411380\tbest: 1367.0411380 (262)\ttotal: 1m 27s\tremaining: 45.4s\n",
      "263:\tlearn: 1304.5388088\ttest: 1366.9585818\tbest: 1366.9585818 (263)\ttotal: 1m 27s\tremaining: 45s\n",
      "264:\tlearn: 1304.2851698\ttest: 1366.9413982\tbest: 1366.9413982 (264)\ttotal: 1m 27s\tremaining: 44.7s\n",
      "265:\tlearn: 1304.1908081\ttest: 1366.9472747\tbest: 1366.9413982 (264)\ttotal: 1m 28s\tremaining: 44.4s\n",
      "266:\tlearn: 1303.9679819\ttest: 1366.8463320\tbest: 1366.8463320 (266)\ttotal: 1m 28s\tremaining: 44s\n",
      "267:\tlearn: 1303.6566191\ttest: 1366.7776318\tbest: 1366.7776318 (267)\ttotal: 1m 28s\tremaining: 43.7s\n",
      "268:\tlearn: 1303.2679570\ttest: 1366.6645331\tbest: 1366.6645331 (268)\ttotal: 1m 29s\tremaining: 43.4s\n",
      "269:\tlearn: 1302.7900846\ttest: 1366.3663674\tbest: 1366.3663674 (269)\ttotal: 1m 29s\tremaining: 43.1s\n",
      "270:\tlearn: 1302.5383953\ttest: 1366.2781522\tbest: 1366.2781522 (270)\ttotal: 1m 29s\tremaining: 42.8s\n",
      "271:\tlearn: 1301.9388078\ttest: 1366.3045060\tbest: 1366.2781522 (270)\ttotal: 1m 30s\tremaining: 42.5s\n",
      "272:\tlearn: 1301.8387166\ttest: 1366.2758411\tbest: 1366.2758411 (272)\ttotal: 1m 30s\tremaining: 42.2s\n",
      "273:\tlearn: 1301.3304476\ttest: 1366.0265108\tbest: 1366.0265108 (273)\ttotal: 1m 31s\tremaining: 41.9s\n",
      "274:\tlearn: 1300.9768888\ttest: 1365.9371589\tbest: 1365.9371589 (274)\ttotal: 1m 31s\tremaining: 41.5s\n",
      "275:\tlearn: 1300.6154749\ttest: 1365.7171265\tbest: 1365.7171265 (275)\ttotal: 1m 31s\tremaining: 41.2s\n",
      "276:\tlearn: 1300.6034659\ttest: 1365.7087040\tbest: 1365.7087040 (276)\ttotal: 1m 32s\tremaining: 40.9s\n",
      "277:\tlearn: 1300.1552639\ttest: 1365.6051704\tbest: 1365.6051704 (277)\ttotal: 1m 32s\tremaining: 40.6s\n",
      "278:\tlearn: 1299.8511446\ttest: 1365.5443926\tbest: 1365.5443926 (278)\ttotal: 1m 32s\tremaining: 40.2s\n",
      "279:\tlearn: 1299.6819700\ttest: 1365.5296841\tbest: 1365.5296841 (279)\ttotal: 1m 33s\tremaining: 39.9s\n",
      "280:\tlearn: 1299.6305983\ttest: 1365.4876614\tbest: 1365.4876614 (280)\ttotal: 1m 33s\tremaining: 39.6s\n",
      "281:\tlearn: 1299.2256556\ttest: 1365.3007063\tbest: 1365.3007063 (281)\ttotal: 1m 33s\tremaining: 39.3s\n",
      "282:\tlearn: 1299.0168749\ttest: 1365.2124854\tbest: 1365.2124854 (282)\ttotal: 1m 34s\tremaining: 38.9s\n",
      "283:\tlearn: 1298.8784322\ttest: 1365.1509563\tbest: 1365.1509563 (283)\ttotal: 1m 34s\tremaining: 38.6s\n",
      "284:\tlearn: 1298.2870674\ttest: 1365.0501082\tbest: 1365.0501082 (284)\ttotal: 1m 34s\tremaining: 38.3s\n",
      "285:\tlearn: 1298.0365524\ttest: 1364.8692878\tbest: 1364.8692878 (285)\ttotal: 1m 35s\tremaining: 37.9s\n",
      "286:\tlearn: 1297.7606934\ttest: 1364.8413609\tbest: 1364.8413609 (286)\ttotal: 1m 35s\tremaining: 37.6s\n",
      "287:\tlearn: 1297.0570455\ttest: 1364.5276308\tbest: 1364.5276308 (287)\ttotal: 1m 35s\tremaining: 37.3s\n",
      "288:\tlearn: 1296.5860153\ttest: 1364.3701317\tbest: 1364.3701317 (288)\ttotal: 1m 36s\tremaining: 37s\n",
      "289:\tlearn: 1296.1885907\ttest: 1364.3293158\tbest: 1364.3293158 (289)\ttotal: 1m 36s\tremaining: 36.6s\n",
      "290:\tlearn: 1294.9692110\ttest: 1363.8478147\tbest: 1363.8478147 (290)\ttotal: 1m 36s\tremaining: 36.3s\n",
      "291:\tlearn: 1294.5190026\ttest: 1363.8179911\tbest: 1363.8179911 (291)\ttotal: 1m 37s\tremaining: 36s\n",
      "292:\tlearn: 1294.0850821\ttest: 1363.7418931\tbest: 1363.7418931 (292)\ttotal: 1m 37s\tremaining: 35.6s\n",
      "293:\tlearn: 1293.6879225\ttest: 1363.5472769\tbest: 1363.5472769 (293)\ttotal: 1m 37s\tremaining: 35.3s\n",
      "294:\tlearn: 1293.3748129\ttest: 1363.5405572\tbest: 1363.5405572 (294)\ttotal: 1m 38s\tremaining: 35s\n",
      "295:\tlearn: 1293.0748176\ttest: 1363.4117020\tbest: 1363.4117020 (295)\ttotal: 1m 38s\tremaining: 34.7s\n",
      "296:\tlearn: 1292.8110115\ttest: 1363.3157443\tbest: 1363.3157443 (296)\ttotal: 1m 38s\tremaining: 34.3s\n",
      "297:\tlearn: 1292.4970208\ttest: 1363.1767788\tbest: 1363.1767788 (297)\ttotal: 1m 39s\tremaining: 34s\n",
      "298:\tlearn: 1292.0597496\ttest: 1363.2301534\tbest: 1363.1767788 (297)\ttotal: 1m 39s\tremaining: 33.6s\n",
      "299:\tlearn: 1291.5526148\ttest: 1362.9665944\tbest: 1362.9665944 (299)\ttotal: 1m 39s\tremaining: 33.3s\n",
      "300:\tlearn: 1291.2319762\ttest: 1362.8737987\tbest: 1362.8737987 (300)\ttotal: 1m 40s\tremaining: 33s\n",
      "301:\tlearn: 1291.0316425\ttest: 1362.8878748\tbest: 1362.8737987 (300)\ttotal: 1m 40s\tremaining: 32.6s\n",
      "302:\tlearn: 1290.6608038\ttest: 1362.7294392\tbest: 1362.7294392 (302)\ttotal: 1m 40s\tremaining: 32.3s\n",
      "303:\tlearn: 1290.5475006\ttest: 1362.6803938\tbest: 1362.6803938 (303)\ttotal: 1m 41s\tremaining: 32s\n",
      "304:\tlearn: 1290.2616717\ttest: 1362.5660053\tbest: 1362.5660053 (304)\ttotal: 1m 41s\tremaining: 31.7s\n",
      "305:\tlearn: 1289.9724259\ttest: 1362.5226737\tbest: 1362.5226737 (305)\ttotal: 1m 42s\tremaining: 31.4s\n",
      "306:\tlearn: 1289.6021380\ttest: 1362.4740430\tbest: 1362.4740430 (306)\ttotal: 1m 42s\tremaining: 31.1s\n",
      "307:\tlearn: 1289.3858546\ttest: 1362.4395164\tbest: 1362.4395164 (307)\ttotal: 1m 43s\tremaining: 30.8s\n",
      "308:\tlearn: 1288.7320846\ttest: 1362.2262742\tbest: 1362.2262742 (308)\ttotal: 1m 43s\tremaining: 30.4s\n",
      "309:\tlearn: 1288.5085000\ttest: 1362.1715151\tbest: 1362.1715151 (309)\ttotal: 1m 43s\tremaining: 30.1s\n",
      "310:\tlearn: 1288.1394257\ttest: 1361.9330535\tbest: 1361.9330535 (310)\ttotal: 1m 44s\tremaining: 29.8s\n",
      "311:\tlearn: 1287.9365760\ttest: 1361.9279556\tbest: 1361.9279556 (311)\ttotal: 1m 44s\tremaining: 29.5s\n",
      "312:\tlearn: 1287.4742900\ttest: 1361.8911295\tbest: 1361.8911295 (312)\ttotal: 1m 44s\tremaining: 29.1s\n",
      "313:\tlearn: 1287.0148070\ttest: 1361.8422929\tbest: 1361.8422929 (313)\ttotal: 1m 45s\tremaining: 28.8s\n",
      "314:\tlearn: 1286.6117928\ttest: 1361.6376155\tbest: 1361.6376155 (314)\ttotal: 1m 45s\tremaining: 28.5s\n",
      "315:\tlearn: 1286.2332440\ttest: 1361.5498974\tbest: 1361.5498974 (315)\ttotal: 1m 46s\tremaining: 28.2s\n",
      "316:\tlearn: 1285.8796285\ttest: 1361.5827227\tbest: 1361.5498974 (315)\ttotal: 1m 46s\tremaining: 27.8s\n",
      "317:\tlearn: 1285.6830839\ttest: 1361.4686933\tbest: 1361.4686933 (317)\ttotal: 1m 46s\tremaining: 27.5s\n",
      "318:\tlearn: 1285.3675026\ttest: 1361.3737255\tbest: 1361.3737255 (318)\ttotal: 1m 47s\tremaining: 27.2s\n",
      "319:\tlearn: 1285.1498633\ttest: 1361.3266526\tbest: 1361.3266526 (319)\ttotal: 1m 47s\tremaining: 26.9s\n",
      "320:\tlearn: 1284.7889155\ttest: 1361.3242122\tbest: 1361.3242122 (320)\ttotal: 1m 47s\tremaining: 26.5s\n",
      "321:\tlearn: 1284.3362868\ttest: 1361.2672288\tbest: 1361.2672288 (321)\ttotal: 1m 48s\tremaining: 26.2s\n",
      "322:\tlearn: 1283.8000838\ttest: 1361.1501799\tbest: 1361.1501799 (322)\ttotal: 1m 48s\tremaining: 25.9s\n",
      "323:\tlearn: 1283.4599496\ttest: 1361.0845317\tbest: 1361.0845317 (323)\ttotal: 1m 48s\tremaining: 25.5s\n",
      "324:\tlearn: 1283.3036582\ttest: 1361.0278869\tbest: 1361.0278869 (324)\ttotal: 1m 49s\tremaining: 25.2s\n",
      "325:\tlearn: 1282.9052723\ttest: 1360.9141328\tbest: 1360.9141328 (325)\ttotal: 1m 49s\tremaining: 24.9s\n",
      "326:\tlearn: 1282.4114275\ttest: 1360.8159393\tbest: 1360.8159393 (326)\ttotal: 1m 49s\tremaining: 24.5s\n",
      "327:\tlearn: 1282.2281243\ttest: 1360.7815703\tbest: 1360.7815703 (327)\ttotal: 1m 50s\tremaining: 24.2s\n",
      "328:\tlearn: 1282.0531923\ttest: 1360.7340645\tbest: 1360.7340645 (328)\ttotal: 1m 50s\tremaining: 23.9s\n",
      "329:\tlearn: 1281.8098225\ttest: 1360.6965290\tbest: 1360.6965290 (329)\ttotal: 1m 50s\tremaining: 23.5s\n",
      "330:\tlearn: 1281.3654593\ttest: 1360.4869296\tbest: 1360.4869296 (330)\ttotal: 1m 51s\tremaining: 23.2s\n",
      "331:\tlearn: 1281.0082521\ttest: 1360.4222232\tbest: 1360.4222232 (331)\ttotal: 1m 51s\tremaining: 22.9s\n",
      "332:\tlearn: 1280.6427092\ttest: 1360.3724699\tbest: 1360.3724699 (332)\ttotal: 1m 52s\tremaining: 22.5s\n",
      "333:\tlearn: 1280.1940683\ttest: 1360.3483457\tbest: 1360.3483457 (333)\ttotal: 1m 52s\tremaining: 22.2s\n",
      "334:\tlearn: 1279.4013622\ttest: 1360.0456322\tbest: 1360.0456322 (334)\ttotal: 1m 52s\tremaining: 21.9s\n",
      "335:\tlearn: 1279.0233913\ttest: 1359.8105916\tbest: 1359.8105916 (335)\ttotal: 1m 53s\tremaining: 21.5s\n",
      "336:\tlearn: 1278.8798722\ttest: 1359.8157843\tbest: 1359.8105916 (335)\ttotal: 1m 53s\tremaining: 21.2s\n",
      "337:\tlearn: 1278.6515403\ttest: 1359.6922849\tbest: 1359.6922849 (337)\ttotal: 1m 53s\tremaining: 20.9s\n",
      "338:\tlearn: 1278.4689821\ttest: 1359.6059815\tbest: 1359.6059815 (338)\ttotal: 1m 54s\tremaining: 20.5s\n",
      "339:\tlearn: 1278.0074183\ttest: 1359.3036152\tbest: 1359.3036152 (339)\ttotal: 1m 54s\tremaining: 20.2s\n",
      "340:\tlearn: 1277.1812615\ttest: 1358.8742481\tbest: 1358.8742481 (340)\ttotal: 1m 54s\tremaining: 19.9s\n",
      "341:\tlearn: 1276.7598553\ttest: 1358.6879918\tbest: 1358.6879918 (341)\ttotal: 1m 55s\tremaining: 19.5s\n",
      "342:\tlearn: 1276.4509280\ttest: 1358.5901613\tbest: 1358.5901613 (342)\ttotal: 1m 55s\tremaining: 19.2s\n",
      "343:\tlearn: 1276.0916978\ttest: 1358.3906426\tbest: 1358.3906426 (343)\ttotal: 1m 55s\tremaining: 18.9s\n",
      "344:\tlearn: 1275.8089988\ttest: 1358.2943658\tbest: 1358.2943658 (344)\ttotal: 1m 56s\tremaining: 18.5s\n",
      "345:\tlearn: 1275.5054989\ttest: 1358.0828753\tbest: 1358.0828753 (345)\ttotal: 1m 56s\tremaining: 18.2s\n",
      "346:\tlearn: 1275.2906677\ttest: 1358.0042582\tbest: 1358.0042582 (346)\ttotal: 1m 57s\tremaining: 17.9s\n",
      "347:\tlearn: 1274.8007541\ttest: 1357.9548619\tbest: 1357.9548619 (347)\ttotal: 1m 57s\tremaining: 17.6s\n",
      "348:\tlearn: 1274.5343541\ttest: 1357.9290099\tbest: 1357.9290099 (348)\ttotal: 1m 58s\tremaining: 17.3s\n",
      "349:\tlearn: 1273.8649126\ttest: 1357.7599402\tbest: 1357.7599402 (349)\ttotal: 1m 58s\tremaining: 17s\n",
      "350:\tlearn: 1273.5995485\ttest: 1357.6824585\tbest: 1357.6824585 (350)\ttotal: 1m 59s\tremaining: 16.7s\n",
      "351:\tlearn: 1273.3752323\ttest: 1357.6545566\tbest: 1357.6545566 (351)\ttotal: 1m 59s\tremaining: 16.3s\n",
      "352:\tlearn: 1273.1968862\ttest: 1357.6182207\tbest: 1357.6182207 (352)\ttotal: 1m 59s\tremaining: 16s\n",
      "353:\tlearn: 1272.8224303\ttest: 1357.6345192\tbest: 1357.6182207 (352)\ttotal: 2m\tremaining: 15.6s\n",
      "354:\tlearn: 1272.7272563\ttest: 1357.5978921\tbest: 1357.5978921 (354)\ttotal: 2m\tremaining: 15.3s\n",
      "355:\tlearn: 1272.4918890\ttest: 1357.4902449\tbest: 1357.4902449 (355)\ttotal: 2m 1s\tremaining: 15s\n",
      "356:\tlearn: 1272.3660123\ttest: 1357.4922069\tbest: 1357.4902449 (355)\ttotal: 2m 1s\tremaining: 14.6s\n",
      "357:\tlearn: 1272.2104006\ttest: 1357.4388928\tbest: 1357.4388928 (357)\ttotal: 2m 1s\tremaining: 14.3s\n",
      "358:\tlearn: 1271.8628443\ttest: 1357.3612217\tbest: 1357.3612217 (358)\ttotal: 2m 2s\tremaining: 13.9s\n",
      "359:\tlearn: 1271.2828072\ttest: 1357.1007563\tbest: 1357.1007563 (359)\ttotal: 2m 2s\tremaining: 13.6s\n",
      "360:\tlearn: 1271.0109551\ttest: 1356.9612631\tbest: 1356.9612631 (360)\ttotal: 2m 2s\tremaining: 13.3s\n",
      "361:\tlearn: 1270.5200064\ttest: 1356.6994693\tbest: 1356.6994693 (361)\ttotal: 2m 3s\tremaining: 12.9s\n",
      "362:\tlearn: 1270.1816092\ttest: 1356.5412413\tbest: 1356.5412413 (362)\ttotal: 2m 3s\tremaining: 12.6s\n",
      "363:\tlearn: 1269.7588116\ttest: 1356.3345721\tbest: 1356.3345721 (363)\ttotal: 2m 3s\tremaining: 12.2s\n"
     ]
    }
   ],
   "source": [
    "%%time\n",
    "# catboost с указанием категорий\n",
    "catboost = CatBoostRegressor(loss_function='RMSE')\n",
    "parameters_cat = {'depth':[9,10], 'learning_rate':np.arange(0.1,0.3,0.1), 'iterations':[400]}\n",
    "catboost_grid = catboost.grid_search(parameters_cat,\n",
    "            Pool(trainX_wo_ohe, trainY_wo_ohe, cat_features=[\"VehicleType\",\"Gearbox\",\n",
    "                                                             \"Model\",\"FuelType\",\n",
    "                                                             \"Brand\",\"NotRepaired\"]),\n",
    "            cv=3,\n",
    "            verbose=True, #100 почему-то не работает, показывает так же\n",
    "            plot=False)"
   ]
  },
  {
   "cell_type": "code",
   "execution_count": null,
   "metadata": {},
   "outputs": [],
   "source": [
    "#CPU times: user 57min 34s, sys: 38.9 s, total: 58min 13s\n",
    "#Wall time: 58min 45s"
   ]
  },
  {
   "cell_type": "markdown",
   "metadata": {},
   "source": [
    "Лучшие параметры:"
   ]
  },
  {
   "cell_type": "code",
   "execution_count": null,
   "metadata": {
    "scrolled": true
   },
   "outputs": [],
   "source": [
    "catboost_grid['params']"
   ]
  },
  {
   "cell_type": "markdown",
   "metadata": {},
   "source": [
    "Проверим время обучения с найденными параметрами для каждой модели:\n",
    "{'depth': 10, 'learning_rate': 0.1}"
   ]
  },
  {
   "cell_type": "code",
   "execution_count": null,
   "metadata": {},
   "outputs": [],
   "source": [
    "%%time\n",
    "final_cat = CatBoostRegressor(depth=catboost_grid['params']['depth'], \n",
    "                              learning_rate=catboost_grid['params']['learning_rate'],\n",
    "                              loss_function='RMSE', verbose=100)\n",
    "final_cat.fit(Pool(trainX_wo_ohe,trainY_wo_ohe,\n",
    "                   cat_features=['VehicleType','Gearbox','Model','FuelType','Brand','NotRepaired']))"
   ]
  },
  {
   "cell_type": "code",
   "execution_count": null,
   "metadata": {},
   "outputs": [],
   "source": [
    "# 1я итерация\n",
    "#CPU times: user 5min 55s, sys: 937 ms, total: 5min 56s\n",
    "#Wall time: 5min 59s\n",
    "\n",
    "# 2я итерация\n",
    "#CPU times: user 15min 33s, sys: 2.96 s, total: 15min 36s\n",
    "#Wall time: 15min 45s"
   ]
  },
  {
   "cell_type": "code",
   "execution_count": null,
   "metadata": {},
   "outputs": [],
   "source": [
    "%%time\n",
    "print(\"CatBoost RMSE:\",mean_squared_error(trainY_wo_ohe,final_cat.predict(trainX_wo_ohe),squared=False))"
   ]
  },
  {
   "cell_type": "markdown",
   "metadata": {},
   "source": [
    "### Обучение RandomForest"
   ]
  },
  {
   "cell_type": "code",
   "execution_count": null,
   "metadata": {},
   "outputs": [],
   "source": [
    "%%time\n",
    "# RandomForest\n",
    "RF = RandomForestRegressor(criterion = \"mse\",random_state=42,n_estimators = 100,n_jobs=-1)\n",
    "RF.fit(trainX,trainY)"
   ]
  },
  {
   "cell_type": "code",
   "execution_count": null,
   "metadata": {},
   "outputs": [],
   "source": [
    "# 1я итерация\n",
    "#CPU times: user 8min 57s, sys: 1.47 s, total: 8min 58s\n",
    "#Wall time: 9min 4s\n",
    "\n",
    "# 2я итерация\n",
    "#CPU times: user 11min 29s, sys: 2.79 s, total: 11min 32s\n",
    "#Wall time: 11min 40s"
   ]
  },
  {
   "cell_type": "code",
   "execution_count": null,
   "metadata": {},
   "outputs": [],
   "source": [
    "%%time\n",
    "print(\"RandomForest RMSE:\",mean_squared_error(trainY,RF.predict(trainX),squared=False))"
   ]
  },
  {
   "cell_type": "markdown",
   "metadata": {},
   "source": [
    "### Обучение LightGBM"
   ]
  },
  {
   "cell_type": "code",
   "execution_count": null,
   "metadata": {},
   "outputs": [],
   "source": [
    "%%time\n",
    "# LightGBM\n",
    "lgb_train = lgb.Dataset(trainX_wo_ohe_light, trainY_wo_ohe_light)\n",
    "lgb_test = lgb.Dataset(testX_wo_ohe_light, testY_wo_ohe_light, reference=lgb_train)\n",
    "parameters_light = {'metric': 'l2', 'max_depth':10,\"random_state\": 42,\"learning_rate\":0.1}\n",
    "light = lgb.train(parameters_light,\n",
    "                lgb_train,\n",
    "                num_boost_round=1000,\n",
    "                valid_sets=[lgb_train, lgb_test],\n",
    "                verbose_eval=100)"
   ]
  },
  {
   "cell_type": "code",
   "execution_count": null,
   "metadata": {},
   "outputs": [],
   "source": [
    "# 1я итерация\n",
    "#CPU times: user 10min 23s, sys: 3.47 s, total: 10min 26s\n",
    "#Wall time: 10min 32s\n",
    "\n",
    "# 2я итерация\n",
    "#CPU times: user 1min 16s, sys: 413 ms, total: 1min 16s\n",
    "#Wall time: 1min 17s"
   ]
  },
  {
   "cell_type": "code",
   "execution_count": null,
   "metadata": {
    "scrolled": true
   },
   "outputs": [],
   "source": [
    "%%time\n",
    "print(\"LightGBM RMSE:\",(mean_squared_error(trainY_wo_ohe_light,light.predict(trainX_wo_ohe_light),squared=False)))"
   ]
  },
  {
   "cell_type": "markdown",
   "metadata": {},
   "source": [
    "### Вывод"
   ]
  },
  {
   "cell_type": "markdown",
   "metadata": {},
   "source": [
    "Исходя из данных пунтов 2.2 - 2.4, получены следующие результаты:  \n",
    "1) CatBoost RMSE: 1124.171560509659, CPU times: user 4.91 s, sys: 3.85 ms, total: 4.91 s, Wall time: 5.21 s  \n",
    "2) RandomForest RMSE: 659.4039260147264, CPU times: user 15.6 s, sys: 241 ms, total: 15.8 s, Wall time: 15.9 s  \n",
    "3) LightGBM RMSE: 1184.064478091607, CPU times: user 28.9 s, sys: 27.4 ms, total: 28.9 s, Wall time: 28.9 s"
   ]
  },
  {
   "cell_type": "markdown",
   "metadata": {},
   "source": [
    "Для дальнейшей работы предлагается использовать модель CatBoost, как самую быструю по критерию времени предсказаний и приемлимую по качеству предсказаний"
   ]
  },
  {
   "cell_type": "markdown",
   "metadata": {},
   "source": [
    "### Работа моделей на тестовой выборке"
   ]
  },
  {
   "cell_type": "code",
   "execution_count": null,
   "metadata": {},
   "outputs": [],
   "source": [
    "%%time\n",
    "print(\"CatBoost:\",mean_squared_error(testY,final_cat.predict(testX_wo_ohe),squared=False))"
   ]
  },
  {
   "cell_type": "code",
   "execution_count": null,
   "metadata": {},
   "outputs": [],
   "source": [
    "%%time\n",
    "print(\"RandomForest:\",mean_squared_error(testY,RF.predict(testX),squared=False))"
   ]
  },
  {
   "cell_type": "code",
   "execution_count": null,
   "metadata": {},
   "outputs": [],
   "source": [
    "%%time\n",
    "print(\"LightGBM:\",(mean_squared_error(testY,light.predict(testX_wo_ohe_light),squared=False)))"
   ]
  },
  {
   "cell_type": "markdown",
   "metadata": {},
   "source": [
    "## Анализ моделей"
   ]
  },
  {
   "cell_type": "markdown",
   "metadata": {},
   "source": [
    "В задании указано, что решающими факторами при выборе модели являются следующие показатели:  \n",
    "* Время обучения\n",
    "* Время предсказания\n",
    "* Качество предсказаний  \n",
    "\n",
    "На тренировочной выборке были получены следующие результаты:  \n",
    "1) CatBoost RMSE: 1124.171560509659, CPU times: user 4.91 s, sys: 3.85 ms, total: 4.91 s, Wall time: 5.21 s  \n",
    "2) RandomForest RMSE: 659.4039260147264, CPU times: user 15.6 s, sys: 241 ms, total: 15.8 s, Wall time: 15.9 s  \n",
    "3) LightGBM RMSE: 1184.064478091607, CPU times: user 28.9 s, sys: 27.4 ms, total: 28.9 s, Wall time: 28.9 s\n",
    "\n",
    "Исходя из данных результатов и факторов выбора модели, была выбрана модель CatBoost.  \n",
    "На тестовой выборке она показала следующие результаты:  \n",
    "* RMSE: 1314.0592526961445, CPU times: user 1.62 s, sys: 0 ns, total: 1.62 s, Wall time: 1.63 s"
   ]
  }
 ],
 "metadata": {
  "ExecuteTimeLog": [
   {
    "duration": 3103,
    "start_time": "2022-04-10T08:10:01.358Z"
   },
   {
    "duration": 61,
    "start_time": "2022-04-13T09:26:20.870Z"
   },
   {
    "duration": 1694,
    "start_time": "2022-04-13T09:26:26.919Z"
   },
   {
    "duration": 776,
    "start_time": "2022-04-13T09:26:28.615Z"
   },
   {
    "duration": 122,
    "start_time": "2022-04-13T09:32:33.433Z"
   },
   {
    "duration": 6,
    "start_time": "2022-04-13T09:35:06.446Z"
   },
   {
    "duration": 4,
    "start_time": "2022-04-13T09:35:26.150Z"
   },
   {
    "duration": 130,
    "start_time": "2022-04-13T09:38:10.478Z"
   },
   {
    "duration": 135,
    "start_time": "2022-04-13T09:42:57.632Z"
   },
   {
    "duration": 123,
    "start_time": "2022-04-13T09:43:08.640Z"
   },
   {
    "duration": 129,
    "start_time": "2022-04-13T09:43:58.541Z"
   },
   {
    "duration": 132,
    "start_time": "2022-04-13T09:44:04.887Z"
   },
   {
    "duration": 32,
    "start_time": "2022-04-13T10:17:52.743Z"
   },
   {
    "duration": 111,
    "start_time": "2022-04-13T10:18:59.980Z"
   },
   {
    "duration": 19,
    "start_time": "2022-04-13T10:33:02.847Z"
   },
   {
    "duration": 106,
    "start_time": "2022-04-13T10:33:05.827Z"
   },
   {
    "duration": 406,
    "start_time": "2022-04-13T10:33:52.697Z"
   },
   {
    "duration": 1203,
    "start_time": "2022-04-13T10:34:23.687Z"
   },
   {
    "duration": 87,
    "start_time": "2022-04-13T11:07:00.156Z"
   },
   {
    "duration": 7,
    "start_time": "2022-04-13T11:13:01.569Z"
   },
   {
    "duration": 7,
    "start_time": "2022-04-13T11:13:57.734Z"
   },
   {
    "duration": 136,
    "start_time": "2022-04-13T11:16:20.943Z"
   },
   {
    "duration": 121,
    "start_time": "2022-04-13T11:16:35.157Z"
   },
   {
    "duration": 194,
    "start_time": "2022-04-13T11:18:58.706Z"
   },
   {
    "duration": 123,
    "start_time": "2022-04-13T11:21:30.159Z"
   },
   {
    "duration": 187,
    "start_time": "2022-04-13T11:22:07.830Z"
   },
   {
    "duration": 11,
    "start_time": "2022-04-13T11:24:32.932Z"
   },
   {
    "duration": 130,
    "start_time": "2022-04-13T11:24:59.699Z"
   },
   {
    "duration": 122,
    "start_time": "2022-04-13T11:28:36.504Z"
   },
   {
    "duration": 143,
    "start_time": "2022-04-13T11:28:50.883Z"
   },
   {
    "duration": 129,
    "start_time": "2022-04-13T11:28:54.790Z"
   },
   {
    "duration": 122,
    "start_time": "2022-04-13T11:29:02.437Z"
   },
   {
    "duration": 127,
    "start_time": "2022-04-13T11:29:16.475Z"
   },
   {
    "duration": 334,
    "start_time": "2022-04-13T11:31:44.445Z"
   },
   {
    "duration": 442,
    "start_time": "2022-04-13T11:42:28.177Z"
   },
   {
    "duration": 303,
    "start_time": "2022-04-13T11:43:05.653Z"
   },
   {
    "duration": 148,
    "start_time": "2022-04-13T11:43:10.945Z"
   },
   {
    "duration": 317,
    "start_time": "2022-04-13T11:43:35.344Z"
   },
   {
    "duration": 288,
    "start_time": "2022-04-13T11:43:41.598Z"
   },
   {
    "duration": 549,
    "start_time": "2022-04-13T11:44:37.085Z"
   },
   {
    "duration": 183,
    "start_time": "2022-04-13T11:44:40.884Z"
   },
   {
    "duration": 9,
    "start_time": "2022-04-13T12:02:09.102Z"
   },
   {
    "duration": 4,
    "start_time": "2022-04-13T12:02:12.267Z"
   },
   {
    "duration": 737,
    "start_time": "2022-04-13T12:02:12.273Z"
   },
   {
    "duration": 131,
    "start_time": "2022-04-13T12:02:13.012Z"
   },
   {
    "duration": 86,
    "start_time": "2022-04-13T12:02:13.145Z"
   },
   {
    "duration": 122,
    "start_time": "2022-04-13T12:02:13.233Z"
   },
   {
    "duration": 148,
    "start_time": "2022-04-13T12:02:13.358Z"
   },
   {
    "duration": 19,
    "start_time": "2022-04-13T12:02:13.508Z"
   },
   {
    "duration": 118,
    "start_time": "2022-04-13T12:02:13.528Z"
   },
   {
    "duration": 388,
    "start_time": "2022-04-13T12:02:13.648Z"
   },
   {
    "duration": 826,
    "start_time": "2022-04-13T12:02:14.037Z"
   },
   {
    "duration": 101,
    "start_time": "2022-04-13T12:02:14.866Z"
   },
   {
    "duration": 7,
    "start_time": "2022-04-13T12:02:14.968Z"
   },
   {
    "duration": 138,
    "start_time": "2022-04-13T12:02:14.977Z"
   },
   {
    "duration": 6,
    "start_time": "2022-04-13T12:02:15.117Z"
   },
   {
    "duration": 144,
    "start_time": "2022-04-13T12:02:15.124Z"
   },
   {
    "duration": 281,
    "start_time": "2022-04-13T12:02:15.270Z"
   },
   {
    "duration": 162,
    "start_time": "2022-04-13T12:02:15.552Z"
   },
   {
    "duration": 8,
    "start_time": "2022-04-13T12:02:15.716Z"
   },
   {
    "duration": 296,
    "start_time": "2022-04-13T12:03:06.915Z"
   },
   {
    "duration": 369,
    "start_time": "2022-04-13T12:03:31.227Z"
   },
   {
    "duration": 121,
    "start_time": "2022-04-13T12:03:41.730Z"
   },
   {
    "duration": 386,
    "start_time": "2022-04-13T12:16:09.355Z"
   },
   {
    "duration": 7,
    "start_time": "2022-04-13T12:17:23.045Z"
   },
   {
    "duration": 364,
    "start_time": "2022-04-13T12:17:56.895Z"
   },
   {
    "duration": 359,
    "start_time": "2022-04-13T12:29:13.106Z"
   },
   {
    "duration": 141,
    "start_time": "2022-04-13T12:30:58.095Z"
   },
   {
    "duration": 4,
    "start_time": "2022-04-13T12:44:53.832Z"
   },
   {
    "duration": 18,
    "start_time": "2022-04-13T12:45:28.026Z"
   },
   {
    "duration": 4,
    "start_time": "2022-04-13T12:48:56.380Z"
   },
   {
    "duration": 2295,
    "start_time": "2022-04-13T12:49:09.015Z"
   },
   {
    "duration": 5,
    "start_time": "2022-04-13T12:54:17.152Z"
   },
   {
    "duration": 10,
    "start_time": "2022-04-13T12:54:37.935Z"
   },
   {
    "duration": 19,
    "start_time": "2022-04-13T12:54:55.306Z"
   },
   {
    "duration": 20,
    "start_time": "2022-04-13T12:55:07.974Z"
   },
   {
    "duration": 7,
    "start_time": "2022-04-13T12:55:32.162Z"
   },
   {
    "duration": 6,
    "start_time": "2022-04-13T12:57:10.471Z"
   },
   {
    "duration": 9,
    "start_time": "2022-04-13T12:57:13.635Z"
   },
   {
    "duration": 3,
    "start_time": "2022-04-13T12:57:16.883Z"
   },
   {
    "duration": 733,
    "start_time": "2022-04-13T12:57:16.889Z"
   },
   {
    "duration": 238,
    "start_time": "2022-04-13T12:57:17.624Z"
   },
   {
    "duration": 94,
    "start_time": "2022-04-13T12:57:17.864Z"
   },
   {
    "duration": 127,
    "start_time": "2022-04-13T12:57:17.959Z"
   },
   {
    "duration": 154,
    "start_time": "2022-04-13T12:57:18.088Z"
   },
   {
    "duration": 19,
    "start_time": "2022-04-13T12:57:18.243Z"
   },
   {
    "duration": 166,
    "start_time": "2022-04-13T12:57:18.263Z"
   },
   {
    "duration": 427,
    "start_time": "2022-04-13T12:57:18.431Z"
   },
   {
    "duration": 828,
    "start_time": "2022-04-13T12:57:18.861Z"
   },
   {
    "duration": 74,
    "start_time": "2022-04-13T12:57:19.690Z"
   },
   {
    "duration": 6,
    "start_time": "2022-04-13T12:57:19.765Z"
   },
   {
    "duration": 138,
    "start_time": "2022-04-13T12:57:19.773Z"
   },
   {
    "duration": 8,
    "start_time": "2022-04-13T12:57:19.912Z"
   },
   {
    "duration": 149,
    "start_time": "2022-04-13T12:57:19.922Z"
   },
   {
    "duration": 465,
    "start_time": "2022-04-13T12:57:20.073Z"
   },
   {
    "duration": 177,
    "start_time": "2022-04-13T12:57:20.540Z"
   },
   {
    "duration": 8,
    "start_time": "2022-04-13T12:57:20.718Z"
   },
   {
    "duration": 341,
    "start_time": "2022-04-13T12:57:20.728Z"
   },
   {
    "duration": 8,
    "start_time": "2022-04-13T12:57:21.070Z"
   },
   {
    "duration": 657,
    "start_time": "2022-04-13T12:57:21.079Z"
   },
   {
    "duration": 500,
    "start_time": "2022-04-13T12:57:21.738Z"
   },
   {
    "duration": 148,
    "start_time": "2022-04-13T12:57:22.240Z"
   },
   {
    "duration": 42,
    "start_time": "2022-04-13T12:57:22.389Z"
   },
   {
    "duration": 16,
    "start_time": "2022-04-13T12:57:22.433Z"
   },
   {
    "duration": 34,
    "start_time": "2022-04-13T12:58:13.153Z"
   },
   {
    "duration": 17,
    "start_time": "2022-04-13T12:58:15.513Z"
   },
   {
    "duration": 3,
    "start_time": "2022-04-13T12:58:26.643Z"
   },
   {
    "duration": 869,
    "start_time": "2022-04-13T12:58:26.648Z"
   },
   {
    "duration": 131,
    "start_time": "2022-04-13T12:58:27.518Z"
   },
   {
    "duration": 89,
    "start_time": "2022-04-13T12:58:27.651Z"
   },
   {
    "duration": 126,
    "start_time": "2022-04-13T12:58:27.742Z"
   },
   {
    "duration": 150,
    "start_time": "2022-04-13T12:58:27.869Z"
   },
   {
    "duration": 19,
    "start_time": "2022-04-13T12:58:28.021Z"
   },
   {
    "duration": 121,
    "start_time": "2022-04-13T12:58:28.042Z"
   },
   {
    "duration": 376,
    "start_time": "2022-04-13T12:58:28.165Z"
   },
   {
    "duration": 758,
    "start_time": "2022-04-13T12:58:28.542Z"
   },
   {
    "duration": 67,
    "start_time": "2022-04-13T12:58:29.302Z"
   },
   {
    "duration": 6,
    "start_time": "2022-04-13T12:58:29.371Z"
   },
   {
    "duration": 140,
    "start_time": "2022-04-13T12:58:29.379Z"
   },
   {
    "duration": 7,
    "start_time": "2022-04-13T12:58:29.522Z"
   },
   {
    "duration": 232,
    "start_time": "2022-04-13T12:58:29.530Z"
   },
   {
    "duration": 279,
    "start_time": "2022-04-13T12:58:29.764Z"
   },
   {
    "duration": 175,
    "start_time": "2022-04-13T12:58:30.045Z"
   },
   {
    "duration": 9,
    "start_time": "2022-04-13T12:58:30.222Z"
   },
   {
    "duration": 343,
    "start_time": "2022-04-13T12:58:30.233Z"
   },
   {
    "duration": 7,
    "start_time": "2022-04-13T12:58:30.578Z"
   },
   {
    "duration": 403,
    "start_time": "2022-04-13T12:58:30.587Z"
   },
   {
    "duration": 423,
    "start_time": "2022-04-13T12:58:30.991Z"
   },
   {
    "duration": 150,
    "start_time": "2022-04-13T12:58:31.416Z"
   },
   {
    "duration": 32,
    "start_time": "2022-04-13T12:58:31.567Z"
   },
   {
    "duration": 16,
    "start_time": "2022-04-13T12:58:31.605Z"
   },
   {
    "duration": 13,
    "start_time": "2022-04-13T12:59:30.738Z"
   },
   {
    "duration": 19,
    "start_time": "2022-04-13T12:59:48.393Z"
   },
   {
    "duration": 18,
    "start_time": "2022-04-13T13:00:53.319Z"
   },
   {
    "duration": 24,
    "start_time": "2022-04-13T13:03:31.219Z"
   },
   {
    "duration": 15,
    "start_time": "2022-04-13T13:03:50.549Z"
   },
   {
    "duration": 55,
    "start_time": "2022-04-13T13:05:47.057Z"
   },
   {
    "duration": 4,
    "start_time": "2022-04-13T13:05:51.668Z"
   },
   {
    "duration": 717,
    "start_time": "2022-04-13T13:05:51.674Z"
   },
   {
    "duration": 134,
    "start_time": "2022-04-13T13:05:52.393Z"
   },
   {
    "duration": 89,
    "start_time": "2022-04-13T13:05:52.529Z"
   },
   {
    "duration": 129,
    "start_time": "2022-04-13T13:05:52.619Z"
   },
   {
    "duration": 142,
    "start_time": "2022-04-13T13:05:52.749Z"
   },
   {
    "duration": 33,
    "start_time": "2022-04-13T13:05:52.892Z"
   },
   {
    "duration": 124,
    "start_time": "2022-04-13T13:05:52.927Z"
   },
   {
    "duration": 375,
    "start_time": "2022-04-13T13:05:53.053Z"
   },
   {
    "duration": 763,
    "start_time": "2022-04-13T13:05:53.430Z"
   },
   {
    "duration": 61,
    "start_time": "2022-04-13T13:05:54.195Z"
   },
   {
    "duration": 7,
    "start_time": "2022-04-13T13:05:54.257Z"
   },
   {
    "duration": 140,
    "start_time": "2022-04-13T13:05:54.265Z"
   },
   {
    "duration": 6,
    "start_time": "2022-04-13T13:05:54.407Z"
   },
   {
    "duration": 135,
    "start_time": "2022-04-13T13:05:54.421Z"
   },
   {
    "duration": 292,
    "start_time": "2022-04-13T13:05:54.558Z"
   },
   {
    "duration": 173,
    "start_time": "2022-04-13T13:05:54.852Z"
   },
   {
    "duration": 8,
    "start_time": "2022-04-13T13:05:55.027Z"
   },
   {
    "duration": 340,
    "start_time": "2022-04-13T13:05:55.036Z"
   },
   {
    "duration": 9,
    "start_time": "2022-04-13T13:05:55.377Z"
   },
   {
    "duration": 669,
    "start_time": "2022-04-13T13:05:55.400Z"
   },
   {
    "duration": 539,
    "start_time": "2022-04-13T13:05:56.071Z"
   },
   {
    "duration": 240,
    "start_time": "2022-04-13T13:05:56.612Z"
   },
   {
    "duration": 20,
    "start_time": "2022-04-13T13:05:56.854Z"
   },
   {
    "duration": 72,
    "start_time": "2022-04-13T13:05:56.877Z"
   },
   {
    "duration": 20,
    "start_time": "2022-04-13T13:05:56.951Z"
   },
   {
    "duration": 3,
    "start_time": "2022-04-13T13:07:04.151Z"
   },
   {
    "duration": 758,
    "start_time": "2022-04-13T13:07:04.157Z"
   },
   {
    "duration": 140,
    "start_time": "2022-04-13T13:07:04.917Z"
   },
   {
    "duration": 80,
    "start_time": "2022-04-13T13:07:05.059Z"
   },
   {
    "duration": 131,
    "start_time": "2022-04-13T13:07:05.142Z"
   },
   {
    "duration": 152,
    "start_time": "2022-04-13T13:07:05.275Z"
   },
   {
    "duration": 20,
    "start_time": "2022-04-13T13:07:05.429Z"
   },
   {
    "duration": 135,
    "start_time": "2022-04-13T13:07:05.450Z"
   },
   {
    "duration": 382,
    "start_time": "2022-04-13T13:07:05.587Z"
   },
   {
    "duration": 786,
    "start_time": "2022-04-13T13:07:05.971Z"
   },
   {
    "duration": 79,
    "start_time": "2022-04-13T13:07:06.760Z"
   },
   {
    "duration": 7,
    "start_time": "2022-04-13T13:07:06.840Z"
   },
   {
    "duration": 138,
    "start_time": "2022-04-13T13:07:06.848Z"
   },
   {
    "duration": 13,
    "start_time": "2022-04-13T13:07:06.988Z"
   },
   {
    "duration": 126,
    "start_time": "2022-04-13T13:07:07.003Z"
   },
   {
    "duration": 289,
    "start_time": "2022-04-13T13:07:07.131Z"
   },
   {
    "duration": 163,
    "start_time": "2022-04-13T13:07:07.422Z"
   },
   {
    "duration": 18,
    "start_time": "2022-04-13T13:07:07.586Z"
   },
   {
    "duration": 535,
    "start_time": "2022-04-13T13:07:07.605Z"
   },
   {
    "duration": 9,
    "start_time": "2022-04-13T13:07:08.142Z"
   },
   {
    "duration": 424,
    "start_time": "2022-04-13T13:07:08.152Z"
   },
   {
    "duration": 563,
    "start_time": "2022-04-13T13:07:08.578Z"
   },
   {
    "duration": 166,
    "start_time": "2022-04-13T13:07:09.143Z"
   },
   {
    "duration": 2972,
    "start_time": "2022-04-13T13:07:09.311Z"
   },
   {
    "duration": 0,
    "start_time": "2022-04-13T13:07:12.285Z"
   },
   {
    "duration": 0,
    "start_time": "2022-04-13T13:07:12.286Z"
   },
   {
    "duration": 16,
    "start_time": "2022-04-13T13:07:24.390Z"
   },
   {
    "duration": 48,
    "start_time": "2022-04-13T13:07:27.894Z"
   },
   {
    "duration": 15,
    "start_time": "2022-04-13T13:07:29.920Z"
   },
   {
    "duration": 64,
    "start_time": "2022-04-13T13:11:35.718Z"
   },
   {
    "duration": 3,
    "start_time": "2022-04-13T13:12:36.541Z"
   },
   {
    "duration": 3,
    "start_time": "2022-04-13T13:15:05.849Z"
   },
   {
    "duration": 43,
    "start_time": "2022-04-13T13:20:07.878Z"
   },
   {
    "duration": 1699,
    "start_time": "2022-04-13T15:56:20.086Z"
   },
   {
    "duration": 3,
    "start_time": "2022-04-13T15:56:23.987Z"
   },
   {
    "duration": 772,
    "start_time": "2022-04-13T15:56:23.992Z"
   },
   {
    "duration": 129,
    "start_time": "2022-04-13T15:56:24.765Z"
   },
   {
    "duration": 79,
    "start_time": "2022-04-13T15:56:24.900Z"
   },
   {
    "duration": 82,
    "start_time": "2022-04-13T15:56:24.982Z"
   },
   {
    "duration": 126,
    "start_time": "2022-04-13T15:56:25.065Z"
   },
   {
    "duration": 141,
    "start_time": "2022-04-13T15:56:25.192Z"
   },
   {
    "duration": 20,
    "start_time": "2022-04-13T15:56:25.334Z"
   },
   {
    "duration": 119,
    "start_time": "2022-04-13T15:56:25.356Z"
   },
   {
    "duration": 401,
    "start_time": "2022-04-13T15:56:25.477Z"
   },
   {
    "duration": 811,
    "start_time": "2022-04-13T15:56:25.879Z"
   },
   {
    "duration": 84,
    "start_time": "2022-04-13T15:56:26.692Z"
   },
   {
    "duration": 7,
    "start_time": "2022-04-13T15:56:26.778Z"
   },
   {
    "duration": 138,
    "start_time": "2022-04-13T15:56:26.802Z"
   },
   {
    "duration": 8,
    "start_time": "2022-04-13T15:56:26.941Z"
   },
   {
    "duration": 137,
    "start_time": "2022-04-13T15:56:26.951Z"
   },
   {
    "duration": 271,
    "start_time": "2022-04-13T15:56:27.089Z"
   },
   {
    "duration": 230,
    "start_time": "2022-04-13T15:56:27.362Z"
   },
   {
    "duration": 11,
    "start_time": "2022-04-13T15:56:27.595Z"
   },
   {
    "duration": 328,
    "start_time": "2022-04-13T15:56:27.607Z"
   },
   {
    "duration": 8,
    "start_time": "2022-04-13T15:56:27.937Z"
   },
   {
    "duration": 388,
    "start_time": "2022-04-13T15:56:27.947Z"
   },
   {
    "duration": 382,
    "start_time": "2022-04-13T15:56:28.337Z"
   },
   {
    "duration": 144,
    "start_time": "2022-04-13T15:56:28.721Z"
   },
   {
    "duration": 15,
    "start_time": "2022-04-13T15:56:28.867Z"
   },
   {
    "duration": 66,
    "start_time": "2022-04-13T15:56:28.884Z"
   },
   {
    "duration": 16,
    "start_time": "2022-04-13T15:56:28.952Z"
   },
   {
    "duration": 3,
    "start_time": "2022-04-13T15:56:28.970Z"
   },
   {
    "duration": 4,
    "start_time": "2022-04-13T15:57:20.376Z"
   },
   {
    "duration": 4,
    "start_time": "2022-04-13T15:58:01.852Z"
   },
   {
    "duration": 4,
    "start_time": "2022-04-13T15:58:16.903Z"
   },
   {
    "duration": 4,
    "start_time": "2022-04-13T15:58:39.012Z"
   },
   {
    "duration": 3,
    "start_time": "2022-04-13T15:58:56.310Z"
   },
   {
    "duration": 723,
    "start_time": "2022-04-13T15:58:56.316Z"
   },
   {
    "duration": 130,
    "start_time": "2022-04-13T15:58:57.041Z"
   },
   {
    "duration": 88,
    "start_time": "2022-04-13T15:58:57.173Z"
   },
   {
    "duration": 74,
    "start_time": "2022-04-13T15:58:57.264Z"
   },
   {
    "duration": 118,
    "start_time": "2022-04-13T15:58:57.340Z"
   },
   {
    "duration": 133,
    "start_time": "2022-04-13T15:58:57.460Z"
   },
   {
    "duration": 20,
    "start_time": "2022-04-13T15:58:57.594Z"
   },
   {
    "duration": 117,
    "start_time": "2022-04-13T15:58:57.615Z"
   },
   {
    "duration": 336,
    "start_time": "2022-04-13T15:58:57.733Z"
   },
   {
    "duration": 715,
    "start_time": "2022-04-13T15:58:58.072Z"
   },
   {
    "duration": 73,
    "start_time": "2022-04-13T15:58:58.788Z"
   },
   {
    "duration": 7,
    "start_time": "2022-04-13T15:58:58.862Z"
   },
   {
    "duration": 133,
    "start_time": "2022-04-13T15:58:58.870Z"
   },
   {
    "duration": 6,
    "start_time": "2022-04-13T15:58:59.004Z"
   },
   {
    "duration": 124,
    "start_time": "2022-04-13T15:58:59.012Z"
   },
   {
    "duration": 269,
    "start_time": "2022-04-13T15:58:59.137Z"
   },
   {
    "duration": 158,
    "start_time": "2022-04-13T15:58:59.407Z"
   },
   {
    "duration": 9,
    "start_time": "2022-04-13T15:58:59.567Z"
   },
   {
    "duration": 326,
    "start_time": "2022-04-13T15:58:59.578Z"
   },
   {
    "duration": 8,
    "start_time": "2022-04-13T15:58:59.905Z"
   },
   {
    "duration": 386,
    "start_time": "2022-04-13T15:58:59.914Z"
   },
   {
    "duration": 400,
    "start_time": "2022-04-13T15:59:00.302Z"
   },
   {
    "duration": 155,
    "start_time": "2022-04-13T15:59:00.704Z"
   },
   {
    "duration": 17,
    "start_time": "2022-04-13T15:59:00.861Z"
   },
   {
    "duration": 63,
    "start_time": "2022-04-13T15:59:00.880Z"
   },
   {
    "duration": 15,
    "start_time": "2022-04-13T15:59:00.945Z"
   },
   {
    "duration": 3,
    "start_time": "2022-04-13T15:59:00.962Z"
   },
   {
    "duration": 10,
    "start_time": "2022-04-13T16:14:20.052Z"
   },
   {
    "duration": 673,
    "start_time": "2022-04-13T16:21:20.538Z"
   },
   {
    "duration": 13,
    "start_time": "2022-04-13T16:23:35.362Z"
   },
   {
    "duration": 650,
    "start_time": "2022-04-13T16:33:12.666Z"
   },
   {
    "duration": 2194,
    "start_time": "2022-04-13T16:40:38.513Z"
   },
   {
    "duration": 1228,
    "start_time": "2022-04-13T16:40:40.710Z"
   },
   {
    "duration": 223,
    "start_time": "2022-04-13T16:40:41.939Z"
   },
   {
    "duration": 139,
    "start_time": "2022-04-13T16:40:42.165Z"
   },
   {
    "duration": 112,
    "start_time": "2022-04-13T16:40:42.306Z"
   },
   {
    "duration": 222,
    "start_time": "2022-04-13T16:40:42.420Z"
   },
   {
    "duration": 246,
    "start_time": "2022-04-13T16:40:42.644Z"
   },
   {
    "duration": 40,
    "start_time": "2022-04-13T16:40:42.893Z"
   },
   {
    "duration": 194,
    "start_time": "2022-04-13T16:40:42.935Z"
   },
   {
    "duration": 662,
    "start_time": "2022-04-13T16:40:43.132Z"
   },
   {
    "duration": 1351,
    "start_time": "2022-04-13T16:40:43.800Z"
   },
   {
    "duration": 119,
    "start_time": "2022-04-13T16:40:45.153Z"
   },
   {
    "duration": 11,
    "start_time": "2022-04-13T16:40:45.274Z"
   },
   {
    "duration": 234,
    "start_time": "2022-04-13T16:40:45.287Z"
   },
   {
    "duration": 11,
    "start_time": "2022-04-13T16:40:45.523Z"
   },
   {
    "duration": 134,
    "start_time": "2022-04-13T16:40:45.535Z"
   },
   {
    "duration": 291,
    "start_time": "2022-04-13T16:40:45.671Z"
   },
   {
    "duration": 177,
    "start_time": "2022-04-13T16:40:45.964Z"
   },
   {
    "duration": 9,
    "start_time": "2022-04-13T16:40:46.143Z"
   },
   {
    "duration": 408,
    "start_time": "2022-04-13T16:40:46.154Z"
   },
   {
    "duration": 9,
    "start_time": "2022-04-13T16:40:46.563Z"
   },
   {
    "duration": 389,
    "start_time": "2022-04-13T16:40:46.573Z"
   },
   {
    "duration": 390,
    "start_time": "2022-04-13T16:40:46.964Z"
   },
   {
    "duration": 150,
    "start_time": "2022-04-13T16:40:47.356Z"
   },
   {
    "duration": 16,
    "start_time": "2022-04-13T16:40:47.507Z"
   },
   {
    "duration": 55,
    "start_time": "2022-04-13T16:40:47.524Z"
   },
   {
    "duration": 32,
    "start_time": "2022-04-13T16:40:47.581Z"
   },
   {
    "duration": 4,
    "start_time": "2022-04-13T16:40:47.617Z"
   },
   {
    "duration": 781,
    "start_time": "2022-04-13T16:40:47.623Z"
   },
   {
    "duration": 553,
    "start_time": "2022-04-13T16:40:48.406Z"
   },
   {
    "duration": 101546,
    "start_time": "2022-04-13T16:40:48.961Z"
   },
   {
    "duration": 1530,
    "start_time": "2022-04-13T16:44:25.680Z"
   },
   {
    "duration": 737,
    "start_time": "2022-04-13T16:44:27.212Z"
   },
   {
    "duration": 128,
    "start_time": "2022-04-13T16:44:27.951Z"
   },
   {
    "duration": 83,
    "start_time": "2022-04-13T16:44:28.082Z"
   },
   {
    "duration": 78,
    "start_time": "2022-04-13T16:44:28.167Z"
   },
   {
    "duration": 128,
    "start_time": "2022-04-13T16:44:28.247Z"
   },
   {
    "duration": 126,
    "start_time": "2022-04-13T16:44:28.377Z"
   },
   {
    "duration": 22,
    "start_time": "2022-04-13T16:44:28.504Z"
   },
   {
    "duration": 120,
    "start_time": "2022-04-13T16:44:28.527Z"
   },
   {
    "duration": 386,
    "start_time": "2022-04-13T16:44:28.649Z"
   },
   {
    "duration": 737,
    "start_time": "2022-04-13T16:44:29.037Z"
   },
   {
    "duration": 86,
    "start_time": "2022-04-13T16:44:29.775Z"
   },
   {
    "duration": 8,
    "start_time": "2022-04-13T16:44:29.863Z"
   },
   {
    "duration": 146,
    "start_time": "2022-04-13T16:44:29.873Z"
   },
   {
    "duration": 7,
    "start_time": "2022-04-13T16:44:30.021Z"
   },
   {
    "duration": 122,
    "start_time": "2022-04-13T16:44:30.030Z"
   },
   {
    "duration": 274,
    "start_time": "2022-04-13T16:44:30.153Z"
   },
   {
    "duration": 162,
    "start_time": "2022-04-13T16:44:30.428Z"
   },
   {
    "duration": 15,
    "start_time": "2022-04-13T16:44:30.591Z"
   },
   {
    "duration": 386,
    "start_time": "2022-04-13T16:44:30.607Z"
   },
   {
    "duration": 10,
    "start_time": "2022-04-13T16:44:30.995Z"
   },
   {
    "duration": 368,
    "start_time": "2022-04-13T16:44:31.007Z"
   },
   {
    "duration": 369,
    "start_time": "2022-04-13T16:44:31.376Z"
   },
   {
    "duration": 146,
    "start_time": "2022-04-13T16:44:31.746Z"
   },
   {
    "duration": 19,
    "start_time": "2022-04-13T16:44:31.893Z"
   },
   {
    "duration": 50,
    "start_time": "2022-04-13T16:44:31.914Z"
   },
   {
    "duration": 15,
    "start_time": "2022-04-13T16:44:31.966Z"
   },
   {
    "duration": 3,
    "start_time": "2022-04-13T16:44:32.002Z"
   },
   {
    "duration": 665,
    "start_time": "2022-04-13T16:44:32.006Z"
   },
   {
    "duration": 531,
    "start_time": "2022-04-13T16:44:32.672Z"
   },
   {
    "duration": 502,
    "start_time": "2022-04-13T16:44:33.205Z"
   },
   {
    "duration": 404,
    "start_time": "2022-04-13T16:45:33.062Z"
   },
   {
    "duration": 21316,
    "start_time": "2022-04-13T16:47:53.068Z"
   },
   {
    "duration": 1485,
    "start_time": "2022-04-13T16:48:35.426Z"
   },
   {
    "duration": 740,
    "start_time": "2022-04-13T16:48:36.912Z"
   },
   {
    "duration": 122,
    "start_time": "2022-04-13T16:48:37.654Z"
   },
   {
    "duration": 92,
    "start_time": "2022-04-13T16:48:37.778Z"
   },
   {
    "duration": 75,
    "start_time": "2022-04-13T16:48:37.872Z"
   },
   {
    "duration": 116,
    "start_time": "2022-04-13T16:48:37.949Z"
   },
   {
    "duration": 130,
    "start_time": "2022-04-13T16:48:38.066Z"
   },
   {
    "duration": 19,
    "start_time": "2022-04-13T16:48:38.200Z"
   },
   {
    "duration": 114,
    "start_time": "2022-04-13T16:48:38.221Z"
   },
   {
    "duration": 383,
    "start_time": "2022-04-13T16:48:38.337Z"
   },
   {
    "duration": 790,
    "start_time": "2022-04-13T16:48:38.721Z"
   },
   {
    "duration": 88,
    "start_time": "2022-04-13T16:48:39.512Z"
   },
   {
    "duration": 7,
    "start_time": "2022-04-13T16:48:39.601Z"
   },
   {
    "duration": 135,
    "start_time": "2022-04-13T16:48:39.609Z"
   },
   {
    "duration": 7,
    "start_time": "2022-04-13T16:48:39.746Z"
   },
   {
    "duration": 121,
    "start_time": "2022-04-13T16:48:39.754Z"
   },
   {
    "duration": 279,
    "start_time": "2022-04-13T16:48:39.877Z"
   },
   {
    "duration": 161,
    "start_time": "2022-04-13T16:48:40.158Z"
   },
   {
    "duration": 8,
    "start_time": "2022-04-13T16:48:40.320Z"
   },
   {
    "duration": 385,
    "start_time": "2022-04-13T16:48:40.330Z"
   },
   {
    "duration": 7,
    "start_time": "2022-04-13T16:48:40.717Z"
   },
   {
    "duration": 364,
    "start_time": "2022-04-13T16:48:40.725Z"
   },
   {
    "duration": 364,
    "start_time": "2022-04-13T16:48:41.091Z"
   },
   {
    "duration": 145,
    "start_time": "2022-04-13T16:48:41.456Z"
   },
   {
    "duration": 15,
    "start_time": "2022-04-13T16:48:41.603Z"
   },
   {
    "duration": 50,
    "start_time": "2022-04-13T16:48:41.619Z"
   },
   {
    "duration": 31,
    "start_time": "2022-04-13T16:48:41.671Z"
   },
   {
    "duration": 4,
    "start_time": "2022-04-13T16:48:41.704Z"
   },
   {
    "duration": 691,
    "start_time": "2022-04-13T16:48:41.709Z"
   },
   {
    "duration": 527,
    "start_time": "2022-04-13T16:48:42.402Z"
   },
   {
    "duration": 3525985,
    "start_time": "2022-04-13T16:48:42.931Z"
   },
   {
    "duration": 2,
    "start_time": "2022-04-13T17:48:08.542Z"
   },
   {
    "duration": 3,
    "start_time": "2022-04-13T17:48:37.028Z"
   },
   {
    "duration": 359513,
    "start_time": "2022-04-13T17:52:59.881Z"
   },
   {
    "duration": 3,
    "start_time": "2022-04-13T17:59:23.854Z"
   },
   {
    "duration": 544267,
    "start_time": "2022-04-13T18:01:23.944Z"
   },
   {
    "duration": 3,
    "start_time": "2022-04-13T18:50:51.699Z"
   },
   {
    "duration": 632193,
    "start_time": "2022-04-13T18:52:05.309Z"
   },
   {
    "duration": 3,
    "start_time": "2022-04-13T19:07:26.983Z"
   },
   {
    "duration": 1024,
    "start_time": "2022-04-13T19:08:32.848Z"
   },
   {
    "duration": 4702,
    "start_time": "2022-04-13T19:08:36.444Z"
   },
   {
    "duration": 8615,
    "start_time": "2022-04-13T19:08:45.229Z"
   },
   {
    "duration": 1478,
    "start_time": "2022-04-14T11:15:19.795Z"
   },
   {
    "duration": 758,
    "start_time": "2022-04-14T11:15:21.275Z"
   },
   {
    "duration": 125,
    "start_time": "2022-04-14T11:15:22.035Z"
   },
   {
    "duration": 88,
    "start_time": "2022-04-14T11:15:22.161Z"
   },
   {
    "duration": 87,
    "start_time": "2022-04-14T11:15:22.251Z"
   },
   {
    "duration": 119,
    "start_time": "2022-04-14T11:15:22.340Z"
   },
   {
    "duration": 139,
    "start_time": "2022-04-14T11:15:22.461Z"
   },
   {
    "duration": 22,
    "start_time": "2022-04-14T11:15:22.602Z"
   },
   {
    "duration": 122,
    "start_time": "2022-04-14T11:15:22.626Z"
   },
   {
    "duration": 421,
    "start_time": "2022-04-14T11:15:22.750Z"
   },
   {
    "duration": 874,
    "start_time": "2022-04-14T11:15:23.173Z"
   },
   {
    "duration": 97,
    "start_time": "2022-04-14T11:15:24.049Z"
   },
   {
    "duration": 8,
    "start_time": "2022-04-14T11:15:24.148Z"
   },
   {
    "duration": 153,
    "start_time": "2022-04-14T11:15:24.160Z"
   },
   {
    "duration": 8,
    "start_time": "2022-04-14T11:15:24.315Z"
   },
   {
    "duration": 140,
    "start_time": "2022-04-14T11:15:24.325Z"
   },
   {
    "duration": 283,
    "start_time": "2022-04-14T11:15:24.467Z"
   },
   {
    "duration": 176,
    "start_time": "2022-04-14T11:15:24.751Z"
   },
   {
    "duration": 9,
    "start_time": "2022-04-14T11:15:24.928Z"
   },
   {
    "duration": 412,
    "start_time": "2022-04-14T11:15:24.939Z"
   },
   {
    "duration": 7,
    "start_time": "2022-04-14T11:15:25.353Z"
   },
   {
    "duration": 403,
    "start_time": "2022-04-14T11:15:25.362Z"
   },
   {
    "duration": 399,
    "start_time": "2022-04-14T11:15:25.767Z"
   },
   {
    "duration": 149,
    "start_time": "2022-04-14T11:15:26.172Z"
   },
   {
    "duration": 16,
    "start_time": "2022-04-14T11:15:26.323Z"
   },
   {
    "duration": 72,
    "start_time": "2022-04-14T11:15:26.340Z"
   },
   {
    "duration": 16,
    "start_time": "2022-04-14T11:15:26.414Z"
   },
   {
    "duration": 3,
    "start_time": "2022-04-14T11:15:26.432Z"
   },
   {
    "duration": 891,
    "start_time": "2022-04-14T11:15:26.437Z"
   },
   {
    "duration": 608,
    "start_time": "2022-04-14T11:15:27.331Z"
   },
   {
    "duration": 3846200,
    "start_time": "2022-04-14T11:15:27.941Z"
   },
   {
    "duration": 19,
    "start_time": "2022-04-14T12:19:34.147Z"
   },
   {
    "duration": 0,
    "start_time": "2022-04-14T12:19:34.168Z"
   },
   {
    "duration": 0,
    "start_time": "2022-04-14T12:19:34.170Z"
   },
   {
    "duration": 0,
    "start_time": "2022-04-14T12:19:34.171Z"
   },
   {
    "duration": 0,
    "start_time": "2022-04-14T12:19:34.171Z"
   },
   {
    "duration": 0,
    "start_time": "2022-04-14T12:19:34.172Z"
   },
   {
    "duration": 0,
    "start_time": "2022-04-14T12:19:34.173Z"
   },
   {
    "duration": 0,
    "start_time": "2022-04-14T12:19:34.174Z"
   },
   {
    "duration": 0,
    "start_time": "2022-04-14T12:19:34.175Z"
   },
   {
    "duration": 0,
    "start_time": "2022-04-14T12:19:34.176Z"
   },
   {
    "duration": 0,
    "start_time": "2022-04-14T12:19:34.182Z"
   },
   {
    "duration": 169375,
    "start_time": "2022-04-14T12:21:46.801Z"
   },
   {
    "duration": 4,
    "start_time": "2022-04-14T12:24:36.179Z"
   },
   {
    "duration": 357112,
    "start_time": "2022-04-14T12:24:36.185Z"
   },
   {
    "duration": 3,
    "start_time": "2022-04-14T12:30:33.299Z"
   },
   {
    "duration": 539829,
    "start_time": "2022-04-14T12:30:33.304Z"
   },
   {
    "duration": 104036,
    "start_time": "2022-04-14T12:39:33.139Z"
   },
   {
    "duration": 3,
    "start_time": "2022-04-14T12:41:17.176Z"
   },
   {
    "duration": 1381,
    "start_time": "2022-04-14T12:41:17.180Z"
   },
   {
    "duration": 5089,
    "start_time": "2022-04-14T12:41:18.562Z"
   },
   {
    "duration": 8421,
    "start_time": "2022-04-14T12:41:23.652Z"
   },
   {
    "duration": 2,
    "start_time": "2022-04-14T12:41:32.075Z"
   },
   {
    "duration": 10,
    "start_time": "2022-04-14T12:41:32.079Z"
   },
   {
    "duration": 9,
    "start_time": "2022-04-14T12:41:32.092Z"
   },
   {
    "duration": 14,
    "start_time": "2022-04-14T12:41:54.215Z"
   },
   {
    "duration": 1879,
    "start_time": "2022-04-14T12:42:06.336Z"
   },
   {
    "duration": 2266,
    "start_time": "2022-04-14T13:14:04.331Z"
   },
   {
    "duration": 1080,
    "start_time": "2022-04-14T13:14:06.600Z"
   },
   {
    "duration": 165,
    "start_time": "2022-04-14T13:14:07.683Z"
   },
   {
    "duration": 132,
    "start_time": "2022-04-14T13:14:07.852Z"
   },
   {
    "duration": 97,
    "start_time": "2022-04-14T13:14:07.986Z"
   },
   {
    "duration": 163,
    "start_time": "2022-04-14T13:14:08.085Z"
   },
   {
    "duration": 208,
    "start_time": "2022-04-14T13:14:08.250Z"
   },
   {
    "duration": 34,
    "start_time": "2022-04-14T13:14:08.461Z"
   },
   {
    "duration": 205,
    "start_time": "2022-04-14T13:14:08.497Z"
   },
   {
    "duration": 658,
    "start_time": "2022-04-14T13:14:08.706Z"
   },
   {
    "duration": 1376,
    "start_time": "2022-04-14T13:14:09.366Z"
   },
   {
    "duration": 138,
    "start_time": "2022-04-14T13:14:10.745Z"
   },
   {
    "duration": 13,
    "start_time": "2022-04-14T13:14:10.886Z"
   },
   {
    "duration": 251,
    "start_time": "2022-04-14T13:14:10.902Z"
   },
   {
    "duration": 26,
    "start_time": "2022-04-14T13:14:11.156Z"
   },
   {
    "duration": 227,
    "start_time": "2022-04-14T13:14:11.184Z"
   },
   {
    "duration": 435,
    "start_time": "2022-04-14T13:14:11.414Z"
   },
   {
    "duration": 349,
    "start_time": "2022-04-14T13:14:11.852Z"
   },
   {
    "duration": 10,
    "start_time": "2022-04-14T13:14:12.203Z"
   },
   {
    "duration": 514,
    "start_time": "2022-04-14T13:14:12.216Z"
   },
   {
    "duration": 10,
    "start_time": "2022-04-14T13:14:12.733Z"
   },
   {
    "duration": 586,
    "start_time": "2022-04-14T13:14:12.745Z"
   },
   {
    "duration": 529,
    "start_time": "2022-04-14T13:14:13.334Z"
   },
   {
    "duration": 236,
    "start_time": "2022-04-14T13:14:13.865Z"
   },
   {
    "duration": 22,
    "start_time": "2022-04-14T13:14:14.103Z"
   },
   {
    "duration": 120,
    "start_time": "2022-04-14T13:14:14.127Z"
   },
   {
    "duration": 19,
    "start_time": "2022-04-14T13:14:14.250Z"
   },
   {
    "duration": 5,
    "start_time": "2022-04-14T13:14:14.285Z"
   },
   {
    "duration": 1239,
    "start_time": "2022-04-14T13:14:14.292Z"
   },
   {
    "duration": 893,
    "start_time": "2022-04-14T13:14:15.533Z"
   },
   {
    "duration": 657000,
    "start_time": "2022-04-14T13:14:16.431Z"
   },
   {
    "duration": 4,
    "start_time": "2022-04-14T13:25:13.433Z"
   },
   {
    "duration": 15,
    "start_time": "2022-04-14T13:25:13.440Z"
   },
   {
    "duration": 0,
    "start_time": "2022-04-14T13:25:13.457Z"
   },
   {
    "duration": 0,
    "start_time": "2022-04-14T13:25:13.459Z"
   },
   {
    "duration": 0,
    "start_time": "2022-04-14T13:25:13.460Z"
   },
   {
    "duration": 0,
    "start_time": "2022-04-14T13:25:13.462Z"
   },
   {
    "duration": 0,
    "start_time": "2022-04-14T13:25:13.463Z"
   },
   {
    "duration": 0,
    "start_time": "2022-04-14T13:25:13.465Z"
   },
   {
    "duration": 0,
    "start_time": "2022-04-14T13:25:13.466Z"
   },
   {
    "duration": 0,
    "start_time": "2022-04-14T13:25:13.468Z"
   },
   {
    "duration": 0,
    "start_time": "2022-04-14T13:25:13.470Z"
   },
   {
    "duration": 2035,
    "start_time": "2022-04-14T13:25:24.435Z"
   },
   {
    "duration": 1071,
    "start_time": "2022-04-14T13:25:26.473Z"
   },
   {
    "duration": 179,
    "start_time": "2022-04-14T13:25:27.546Z"
   },
   {
    "duration": 126,
    "start_time": "2022-04-14T13:25:27.728Z"
   },
   {
    "duration": 99,
    "start_time": "2022-04-14T13:25:27.856Z"
   },
   {
    "duration": 165,
    "start_time": "2022-04-14T13:25:27.958Z"
   },
   {
    "duration": 207,
    "start_time": "2022-04-14T13:25:28.125Z"
   },
   {
    "duration": 27,
    "start_time": "2022-04-14T13:25:28.334Z"
   },
   {
    "duration": 207,
    "start_time": "2022-04-14T13:25:28.364Z"
   },
   {
    "duration": 660,
    "start_time": "2022-04-14T13:25:28.581Z"
   },
   {
    "duration": 1402,
    "start_time": "2022-04-14T13:25:29.243Z"
   },
   {
    "duration": 136,
    "start_time": "2022-04-14T13:25:30.647Z"
   },
   {
    "duration": 13,
    "start_time": "2022-04-14T13:25:30.785Z"
   },
   {
    "duration": 271,
    "start_time": "2022-04-14T13:25:30.800Z"
   },
   {
    "duration": 11,
    "start_time": "2022-04-14T13:25:31.074Z"
   },
   {
    "duration": 260,
    "start_time": "2022-04-14T13:25:31.088Z"
   },
   {
    "duration": 512,
    "start_time": "2022-04-14T13:25:31.351Z"
   },
   {
    "duration": 295,
    "start_time": "2022-04-14T13:25:31.866Z"
   },
   {
    "duration": 25,
    "start_time": "2022-04-14T13:25:32.164Z"
   },
   {
    "duration": 628,
    "start_time": "2022-04-14T13:25:32.192Z"
   },
   {
    "duration": 9,
    "start_time": "2022-04-14T13:25:32.822Z"
   },
   {
    "duration": 607,
    "start_time": "2022-04-14T13:25:32.833Z"
   },
   {
    "duration": 644,
    "start_time": "2022-04-14T13:25:33.443Z"
   },
   {
    "duration": 253,
    "start_time": "2022-04-14T13:25:34.089Z"
   },
   {
    "duration": 21,
    "start_time": "2022-04-14T13:25:34.345Z"
   },
   {
    "duration": 108,
    "start_time": "2022-04-14T13:25:34.383Z"
   },
   {
    "duration": 20,
    "start_time": "2022-04-14T13:25:34.493Z"
   },
   {
    "duration": 5,
    "start_time": "2022-04-14T13:25:34.518Z"
   },
   {
    "duration": 1145,
    "start_time": "2022-04-14T13:25:34.526Z"
   },
   {
    "duration": 833,
    "start_time": "2022-04-14T13:25:35.674Z"
   },
   {
    "duration": 603,
    "start_time": "2022-04-14T13:25:36.509Z"
   },
   {
    "duration": 3,
    "start_time": "2022-04-14T13:25:37.114Z"
   },
   {
    "duration": 19,
    "start_time": "2022-04-14T13:25:37.119Z"
   },
   {
    "duration": 0,
    "start_time": "2022-04-14T13:25:37.140Z"
   },
   {
    "duration": 0,
    "start_time": "2022-04-14T13:25:37.141Z"
   },
   {
    "duration": 0,
    "start_time": "2022-04-14T13:25:37.143Z"
   },
   {
    "duration": 0,
    "start_time": "2022-04-14T13:25:37.145Z"
   },
   {
    "duration": 0,
    "start_time": "2022-04-14T13:25:37.146Z"
   },
   {
    "duration": 0,
    "start_time": "2022-04-14T13:25:37.148Z"
   },
   {
    "duration": 0,
    "start_time": "2022-04-14T13:25:37.149Z"
   },
   {
    "duration": 0,
    "start_time": "2022-04-14T13:25:37.151Z"
   },
   {
    "duration": 0,
    "start_time": "2022-04-14T13:25:37.153Z"
   },
   {
    "duration": 475,
    "start_time": "2022-04-14T13:26:15.753Z"
   },
   {
    "duration": 13982,
    "start_time": "2022-04-14T13:28:08.434Z"
   },
   {
    "duration": 3070,
    "start_time": "2022-04-14T13:28:29.569Z"
   },
   {
    "duration": 1362,
    "start_time": "2022-04-14T13:28:32.641Z"
   },
   {
    "duration": 308,
    "start_time": "2022-04-14T13:28:34.005Z"
   },
   {
    "duration": 367,
    "start_time": "2022-04-14T13:28:34.316Z"
   },
   {
    "duration": 135,
    "start_time": "2022-04-14T13:28:34.685Z"
   },
   {
    "duration": 302,
    "start_time": "2022-04-14T13:28:34.823Z"
   },
   {
    "duration": 537,
    "start_time": "2022-04-14T13:28:35.182Z"
   },
   {
    "duration": 86,
    "start_time": "2022-04-14T13:28:35.722Z"
   },
   {
    "duration": 500,
    "start_time": "2022-04-14T13:28:35.812Z"
   },
   {
    "duration": 728,
    "start_time": "2022-04-14T13:28:36.317Z"
   },
   {
    "duration": 1438,
    "start_time": "2022-04-14T13:28:37.047Z"
   },
   {
    "duration": 135,
    "start_time": "2022-04-14T13:28:38.487Z"
   },
   {
    "duration": 11,
    "start_time": "2022-04-14T13:28:38.625Z"
   },
   {
    "duration": 234,
    "start_time": "2022-04-14T13:28:38.638Z"
   },
   {
    "duration": 14,
    "start_time": "2022-04-14T13:28:38.874Z"
   },
   {
    "duration": 223,
    "start_time": "2022-04-14T13:28:38.890Z"
   },
   {
    "duration": 414,
    "start_time": "2022-04-14T13:28:39.115Z"
   },
   {
    "duration": 261,
    "start_time": "2022-04-14T13:28:39.532Z"
   },
   {
    "duration": 9,
    "start_time": "2022-04-14T13:28:39.795Z"
   },
   {
    "duration": 575,
    "start_time": "2022-04-14T13:28:39.806Z"
   },
   {
    "duration": 9,
    "start_time": "2022-04-14T13:28:40.384Z"
   },
   {
    "duration": 540,
    "start_time": "2022-04-14T13:28:40.396Z"
   },
   {
    "duration": 533,
    "start_time": "2022-04-14T13:28:40.939Z"
   },
   {
    "duration": 224,
    "start_time": "2022-04-14T13:28:41.482Z"
   },
   {
    "duration": 20,
    "start_time": "2022-04-14T13:28:41.708Z"
   },
   {
    "duration": 125,
    "start_time": "2022-04-14T13:28:41.730Z"
   },
   {
    "duration": 27,
    "start_time": "2022-04-14T13:28:41.857Z"
   },
   {
    "duration": 5,
    "start_time": "2022-04-14T13:28:41.889Z"
   },
   {
    "duration": 956,
    "start_time": "2022-04-14T13:28:41.896Z"
   },
   {
    "duration": 773,
    "start_time": "2022-04-14T13:28:42.855Z"
   },
   {
    "duration": 2141492,
    "start_time": "2022-04-14T13:28:43.631Z"
   },
   {
    "duration": 3,
    "start_time": "2022-04-14T14:04:25.126Z"
   },
   {
    "duration": 8,
    "start_time": "2022-04-14T14:04:25.132Z"
   },
   {
    "duration": 945573,
    "start_time": "2022-04-14T14:04:25.143Z"
   },
   {
    "duration": 3,
    "start_time": "2022-04-14T14:20:10.718Z"
   },
   {
    "duration": 700792,
    "start_time": "2022-04-14T14:20:10.723Z"
   },
   {
    "duration": 3,
    "start_time": "2022-04-14T14:31:51.517Z"
   },
   {
    "duration": 77676,
    "start_time": "2022-04-14T14:31:51.522Z"
   },
   {
    "duration": 3,
    "start_time": "2022-04-14T14:33:09.281Z"
   },
   {
    "duration": 1640,
    "start_time": "2022-04-14T14:33:09.287Z"
   },
   {
    "duration": 5135,
    "start_time": "2022-04-14T14:33:10.929Z"
   },
   {
    "duration": 9739,
    "start_time": "2022-04-14T14:33:16.066Z"
   },
   {
    "duration": 4,
    "start_time": "2022-04-14T14:36:31.839Z"
   },
   {
    "duration": 4,
    "start_time": "2022-04-14T14:37:28.640Z"
   },
   {
    "duration": 3,
    "start_time": "2022-04-14T14:38:45.253Z"
   },
   {
    "duration": 1867,
    "start_time": "2022-04-14T14:46:26.841Z"
   },
   {
    "duration": 5214,
    "start_time": "2022-04-14T14:48:03.407Z"
   },
   {
    "duration": 15935,
    "start_time": "2022-04-14T14:49:20.323Z"
   },
   {
    "duration": 28906,
    "start_time": "2022-04-14T14:54:34.076Z"
   },
   {
    "duration": 15515,
    "start_time": "2022-04-14T15:02:16.901Z"
   },
   {
    "duration": 1701,
    "start_time": "2022-04-14T19:27:46.190Z"
   },
   {
    "duration": 997,
    "start_time": "2022-04-14T19:27:47.893Z"
   },
   {
    "duration": 130,
    "start_time": "2022-04-14T19:27:48.891Z"
   },
   {
    "duration": 101,
    "start_time": "2022-04-14T19:27:49.023Z"
   },
   {
    "duration": 85,
    "start_time": "2022-04-14T19:27:49.126Z"
   },
   {
    "duration": 128,
    "start_time": "2022-04-14T19:27:49.212Z"
   },
   {
    "duration": 148,
    "start_time": "2022-04-14T19:27:49.342Z"
   },
   {
    "duration": 22,
    "start_time": "2022-04-14T19:27:49.492Z"
   },
   {
    "duration": 131,
    "start_time": "2022-04-14T19:27:49.515Z"
   },
   {
    "duration": 431,
    "start_time": "2022-04-14T19:27:49.648Z"
   },
   {
    "duration": 903,
    "start_time": "2022-04-14T19:27:50.080Z"
   },
   {
    "duration": 100,
    "start_time": "2022-04-14T19:27:50.984Z"
   },
   {
    "duration": 9,
    "start_time": "2022-04-14T19:27:51.086Z"
   },
   {
    "duration": 158,
    "start_time": "2022-04-14T19:27:51.110Z"
   },
   {
    "duration": 8,
    "start_time": "2022-04-14T19:27:51.270Z"
   },
   {
    "duration": 171,
    "start_time": "2022-04-14T19:27:51.280Z"
   },
   {
    "duration": 346,
    "start_time": "2022-04-14T19:27:51.453Z"
   },
   {
    "duration": 252,
    "start_time": "2022-04-14T19:27:51.800Z"
   },
   {
    "duration": 8,
    "start_time": "2022-04-14T19:27:52.054Z"
   },
   {
    "duration": 353,
    "start_time": "2022-04-14T19:27:52.063Z"
   },
   {
    "duration": 8,
    "start_time": "2022-04-14T19:27:52.418Z"
   },
   {
    "duration": 434,
    "start_time": "2022-04-14T19:27:52.428Z"
   },
   {
    "duration": 437,
    "start_time": "2022-04-14T19:27:52.864Z"
   },
   {
    "duration": 162,
    "start_time": "2022-04-14T19:27:53.303Z"
   },
   {
    "duration": 18,
    "start_time": "2022-04-14T19:27:53.467Z"
   },
   {
    "duration": 73,
    "start_time": "2022-04-14T19:27:53.487Z"
   },
   {
    "duration": 16,
    "start_time": "2022-04-14T19:27:53.562Z"
   },
   {
    "duration": 3,
    "start_time": "2022-04-14T19:27:53.580Z"
   },
   {
    "duration": 785,
    "start_time": "2022-04-14T19:27:53.585Z"
   },
   {
    "duration": 577,
    "start_time": "2022-04-14T19:27:54.372Z"
   },
   {
    "duration": 52443,
    "start_time": "2022-04-14T19:27:54.951Z"
   },
   {
    "duration": 3,
    "start_time": "2022-04-14T19:28:47.395Z"
   },
   {
    "duration": 18,
    "start_time": "2022-04-14T19:28:47.399Z"
   },
   {
    "duration": 0,
    "start_time": "2022-04-14T19:28:47.420Z"
   },
   {
    "duration": 0,
    "start_time": "2022-04-14T19:28:47.421Z"
   },
   {
    "duration": 0,
    "start_time": "2022-04-14T19:28:47.422Z"
   },
   {
    "duration": 0,
    "start_time": "2022-04-14T19:28:47.423Z"
   },
   {
    "duration": 0,
    "start_time": "2022-04-14T19:28:47.424Z"
   },
   {
    "duration": 0,
    "start_time": "2022-04-14T19:28:47.425Z"
   },
   {
    "duration": 0,
    "start_time": "2022-04-14T19:28:47.426Z"
   },
   {
    "duration": 0,
    "start_time": "2022-04-14T19:28:47.427Z"
   },
   {
    "duration": 0,
    "start_time": "2022-04-14T19:28:47.428Z"
   },
   {
    "duration": 0,
    "start_time": "2022-04-14T19:28:47.429Z"
   },
   {
    "duration": 0,
    "start_time": "2022-04-14T19:28:47.430Z"
   },
   {
    "duration": 0,
    "start_time": "2022-04-14T19:28:47.431Z"
   },
   {
    "duration": 25,
    "start_time": "2022-04-14T19:28:59.449Z"
   },
   {
    "duration": 12,
    "start_time": "2022-04-14T19:29:15.618Z"
   },
   {
    "duration": 5,
    "start_time": "2022-04-14T19:29:27.083Z"
   },
   {
    "duration": 14,
    "start_time": "2022-04-14T19:29:32.830Z"
   },
   {
    "duration": 1536,
    "start_time": "2022-04-14T19:29:45.102Z"
   },
   {
    "duration": 861,
    "start_time": "2022-04-14T19:29:46.640Z"
   },
   {
    "duration": 130,
    "start_time": "2022-04-14T19:29:47.503Z"
   },
   {
    "duration": 108,
    "start_time": "2022-04-14T19:29:47.635Z"
   },
   {
    "duration": 82,
    "start_time": "2022-04-14T19:29:47.745Z"
   },
   {
    "duration": 135,
    "start_time": "2022-04-14T19:29:47.829Z"
   },
   {
    "duration": 187,
    "start_time": "2022-04-14T19:29:47.966Z"
   },
   {
    "duration": 23,
    "start_time": "2022-04-14T19:29:48.154Z"
   },
   {
    "duration": 141,
    "start_time": "2022-04-14T19:29:48.179Z"
   },
   {
    "duration": 454,
    "start_time": "2022-04-14T19:29:48.323Z"
   },
   {
    "duration": 977,
    "start_time": "2022-04-14T19:29:48.779Z"
   },
   {
    "duration": 106,
    "start_time": "2022-04-14T19:29:49.758Z"
   },
   {
    "duration": 9,
    "start_time": "2022-04-14T19:29:49.866Z"
   },
   {
    "duration": 176,
    "start_time": "2022-04-14T19:29:49.876Z"
   },
   {
    "duration": 9,
    "start_time": "2022-04-14T19:29:50.055Z"
   },
   {
    "duration": 188,
    "start_time": "2022-04-14T19:29:50.066Z"
   },
   {
    "duration": 335,
    "start_time": "2022-04-14T19:29:50.256Z"
   },
   {
    "duration": 199,
    "start_time": "2022-04-14T19:29:50.592Z"
   },
   {
    "duration": 14,
    "start_time": "2022-04-14T19:29:50.794Z"
   },
   {
    "duration": 430,
    "start_time": "2022-04-14T19:29:50.810Z"
   },
   {
    "duration": 9,
    "start_time": "2022-04-14T19:29:51.241Z"
   },
   {
    "duration": 441,
    "start_time": "2022-04-14T19:29:51.252Z"
   },
   {
    "duration": 437,
    "start_time": "2022-04-14T19:29:51.695Z"
   },
   {
    "duration": 161,
    "start_time": "2022-04-14T19:29:52.134Z"
   },
   {
    "duration": 19,
    "start_time": "2022-04-14T19:29:52.297Z"
   },
   {
    "duration": 68,
    "start_time": "2022-04-14T19:29:52.318Z"
   },
   {
    "duration": 34,
    "start_time": "2022-04-14T19:29:52.388Z"
   },
   {
    "duration": 3,
    "start_time": "2022-04-14T19:29:52.426Z"
   },
   {
    "duration": 956,
    "start_time": "2022-04-14T19:29:52.431Z"
   },
   {
    "duration": 599,
    "start_time": "2022-04-14T19:29:53.389Z"
   },
   {
    "duration": 973749,
    "start_time": "2022-04-14T19:29:53.990Z"
   },
   {
    "duration": 2,
    "start_time": "2022-04-14T19:46:07.741Z"
   },
   {
    "duration": 7,
    "start_time": "2022-04-14T19:46:07.744Z"
   },
   {
    "duration": 392630,
    "start_time": "2022-04-14T19:46:07.752Z"
   },
   {
    "duration": 2,
    "start_time": "2022-04-14T19:52:40.384Z"
   },
   {
    "duration": 4306,
    "start_time": "2022-04-14T19:52:40.388Z"
   },
   {
    "duration": 553203,
    "start_time": "2022-04-14T19:52:44.696Z"
   },
   {
    "duration": 2,
    "start_time": "2022-04-14T20:01:57.901Z"
   },
   {
    "duration": 15486,
    "start_time": "2022-04-14T20:01:57.909Z"
   },
   {
    "duration": 128783,
    "start_time": "2022-04-14T20:02:13.398Z"
   },
   {
    "duration": 4,
    "start_time": "2022-04-14T20:04:22.183Z"
   },
   {
    "duration": 71,
    "start_time": "2022-04-14T20:04:22.189Z"
   },
   {
    "duration": 1467,
    "start_time": "2022-04-14T20:04:22.262Z"
   },
   {
    "duration": 5715,
    "start_time": "2022-04-14T20:04:23.731Z"
   },
   {
    "duration": 68,
    "start_time": "2022-04-14T20:04:29.448Z"
   },
   {
    "duration": 63,
    "start_time": "2022-04-14T20:04:29.521Z"
   },
   {
    "duration": 0,
    "start_time": "2022-04-14T20:04:29.588Z"
   },
   {
    "duration": 775,
    "start_time": "2022-04-14T20:04:33.557Z"
   },
   {
    "duration": 79338,
    "start_time": "2022-04-14T20:05:02.791Z"
   },
   {
    "duration": 11,
    "start_time": "2022-04-14T20:06:45.939Z"
   },
   {
    "duration": 10,
    "start_time": "2022-04-14T20:06:55.034Z"
   },
   {
    "duration": 6,
    "start_time": "2022-04-14T20:06:56.737Z"
   },
   {
    "duration": 294,
    "start_time": "2022-04-14T20:07:36.396Z"
   },
   {
    "duration": 1527,
    "start_time": "2022-04-14T20:07:46.040Z"
   },
   {
    "duration": 1119,
    "start_time": "2022-04-14T20:07:47.569Z"
   },
   {
    "duration": 149,
    "start_time": "2022-04-14T20:07:48.690Z"
   },
   {
    "duration": 98,
    "start_time": "2022-04-14T20:07:48.841Z"
   },
   {
    "duration": 94,
    "start_time": "2022-04-14T20:07:48.942Z"
   },
   {
    "duration": 159,
    "start_time": "2022-04-14T20:07:49.038Z"
   },
   {
    "duration": 163,
    "start_time": "2022-04-14T20:07:49.215Z"
   },
   {
    "duration": 31,
    "start_time": "2022-04-14T20:07:49.380Z"
   },
   {
    "duration": 135,
    "start_time": "2022-04-14T20:07:49.413Z"
   },
   {
    "duration": 510,
    "start_time": "2022-04-14T20:07:49.551Z"
   },
   {
    "duration": 1026,
    "start_time": "2022-04-14T20:07:50.063Z"
   },
   {
    "duration": 103,
    "start_time": "2022-04-14T20:07:51.091Z"
   },
   {
    "duration": 8,
    "start_time": "2022-04-14T20:07:51.196Z"
   },
   {
    "duration": 176,
    "start_time": "2022-04-14T20:07:51.209Z"
   },
   {
    "duration": 9,
    "start_time": "2022-04-14T20:07:51.387Z"
   },
   {
    "duration": 241,
    "start_time": "2022-04-14T20:07:51.398Z"
   },
   {
    "duration": 332,
    "start_time": "2022-04-14T20:07:51.641Z"
   },
   {
    "duration": 200,
    "start_time": "2022-04-14T20:07:51.975Z"
   },
   {
    "duration": 8,
    "start_time": "2022-04-14T20:07:52.177Z"
   },
   {
    "duration": 458,
    "start_time": "2022-04-14T20:07:52.187Z"
   },
   {
    "duration": 9,
    "start_time": "2022-04-14T20:07:52.646Z"
   },
   {
    "duration": 480,
    "start_time": "2022-04-14T20:07:52.657Z"
   },
   {
    "duration": 472,
    "start_time": "2022-04-14T20:07:53.139Z"
   },
   {
    "duration": 172,
    "start_time": "2022-04-14T20:07:53.612Z"
   },
   {
    "duration": 35,
    "start_time": "2022-04-14T20:07:53.785Z"
   },
   {
    "duration": 60,
    "start_time": "2022-04-14T20:07:53.827Z"
   },
   {
    "duration": 28,
    "start_time": "2022-04-14T20:07:53.889Z"
   },
   {
    "duration": 7,
    "start_time": "2022-04-14T20:07:53.918Z"
   },
   {
    "duration": 817,
    "start_time": "2022-04-14T20:07:53.928Z"
   },
   {
    "duration": 593,
    "start_time": "2022-04-14T20:07:54.746Z"
   }
  ],
  "kernelspec": {
   "display_name": "Python 3 (ipykernel)",
   "language": "python",
   "name": "python3"
  },
  "language_info": {
   "codemirror_mode": {
    "name": "ipython",
    "version": 3
   },
   "file_extension": ".py",
   "mimetype": "text/x-python",
   "name": "python",
   "nbconvert_exporter": "python",
   "pygments_lexer": "ipython3",
   "version": "3.9.5"
  },
  "toc": {
   "base_numbering": 1,
   "nav_menu": {},
   "number_sections": true,
   "sideBar": true,
   "skip_h1_title": true,
   "title_cell": "Table of Contents",
   "title_sidebar": "Contents",
   "toc_cell": false,
   "toc_position": {
    "height": "calc(100% - 180px)",
    "left": "10px",
    "top": "150px",
    "width": "302.391px"
   },
   "toc_section_display": true,
   "toc_window_display": true
  }
 },
 "nbformat": 4,
 "nbformat_minor": 2
}
